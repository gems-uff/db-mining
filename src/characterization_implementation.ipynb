{
 "cells": [
  {
   "cell_type": "code",
   "execution_count": 1,
   "id": "wooden-poster",
   "metadata": {},
   "outputs": [],
   "source": [
    "import pandas as pd\n",
    "import numpy as np\n",
    "import matplotlib.pyplot as plt \n",
    "import os"
   ]
  },
  {
   "cell_type": "code",
   "execution_count": 2,
   "id": "suspended-terrorism",
   "metadata": {},
   "outputs": [
    {
     "data": {
      "text/html": [
       "<div>\n",
       "<style scoped>\n",
       "    .dataframe tbody tr th:only-of-type {\n",
       "        vertical-align: middle;\n",
       "    }\n",
       "\n",
       "    .dataframe tbody tr th {\n",
       "        vertical-align: top;\n",
       "    }\n",
       "\n",
       "    .dataframe thead th {\n",
       "        text-align: right;\n",
       "    }\n",
       "</style>\n",
       "<table border=\"1\" class=\"dataframe\">\n",
       "  <thead>\n",
       "    <tr style=\"text-align: right;\">\n",
       "      <th></th>\n",
       "      <th>Projects</th>\n",
       "      <th>Domains</th>\n",
       "      <th>mybatis</th>\n",
       "      <th>jOOQ</th>\n",
       "      <th>Spring</th>\n",
       "      <th>JPA</th>\n",
       "      <th>JDBC</th>\n",
       "      <th>Hibernate</th>\n",
       "      <th>EclipseLink</th>\n",
       "    </tr>\n",
       "  </thead>\n",
       "  <tbody>\n",
       "    <tr>\n",
       "      <th>0</th>\n",
       "      <td>Activiti</td>\n",
       "      <td>automation</td>\n",
       "      <td>1</td>\n",
       "      <td>0</td>\n",
       "      <td>1</td>\n",
       "      <td>1</td>\n",
       "      <td>0</td>\n",
       "      <td>1</td>\n",
       "      <td>0</td>\n",
       "    </tr>\n",
       "    <tr>\n",
       "      <th>1</th>\n",
       "      <td>airbyte</td>\n",
       "      <td>infrastructure management</td>\n",
       "      <td>0</td>\n",
       "      <td>1</td>\n",
       "      <td>0</td>\n",
       "      <td>0</td>\n",
       "      <td>0</td>\n",
       "      <td>0</td>\n",
       "      <td>0</td>\n",
       "    </tr>\n",
       "    <tr>\n",
       "      <th>2</th>\n",
       "      <td>airsonic</td>\n",
       "      <td>media</td>\n",
       "      <td>1</td>\n",
       "      <td>0</td>\n",
       "      <td>0</td>\n",
       "      <td>0</td>\n",
       "      <td>0</td>\n",
       "      <td>0</td>\n",
       "      <td>1</td>\n",
       "    </tr>\n",
       "    <tr>\n",
       "      <th>3</th>\n",
       "      <td>spring-cloud-alibaba</td>\n",
       "      <td>infrastructure management</td>\n",
       "      <td>0</td>\n",
       "      <td>0</td>\n",
       "      <td>1</td>\n",
       "      <td>0</td>\n",
       "      <td>0</td>\n",
       "      <td>1</td>\n",
       "      <td>0</td>\n",
       "    </tr>\n",
       "    <tr>\n",
       "      <th>4</th>\n",
       "      <td>nacos</td>\n",
       "      <td>infrastructure management</td>\n",
       "      <td>1</td>\n",
       "      <td>0</td>\n",
       "      <td>0</td>\n",
       "      <td>0</td>\n",
       "      <td>0</td>\n",
       "      <td>0</td>\n",
       "      <td>0</td>\n",
       "    </tr>\n",
       "  </tbody>\n",
       "</table>\n",
       "</div>"
      ],
      "text/plain": [
       "               Projects                    Domains  mybatis  jOOQ  Spring  \\\n",
       "0              Activiti                 automation        1     0       1   \n",
       "1               airbyte  infrastructure management        0     1       0   \n",
       "2              airsonic                      media        1     0       0   \n",
       "3  spring-cloud-alibaba  infrastructure management        0     0       1   \n",
       "4                 nacos  infrastructure management        1     0       0   \n",
       "\n",
       "   JPA  JDBC  Hibernate  EclipseLink  \n",
       "0    1     0          1            0  \n",
       "1    0     0          0            0  \n",
       "2    0     0          0            1  \n",
       "3    0     0          1            0  \n",
       "4    0     0          0            0  "
      ]
     },
     "execution_count": 2,
     "metadata": {},
     "output_type": "execute_result"
    }
   ],
   "source": [
    "from util import RESOURCE_DIR\n",
    "type_characterization = ['database.xlsx', 'implementation.xlsx']\n",
    "CHARACTERIZATION_FILE_PATH = RESOURCE_DIR + os.sep + type_characterization[1]\n",
    "df = pd.read_excel(CHARACTERIZATION_FILE_PATH, engine = 'openpyxl')\n",
    "len(df)\n",
    "df.head()"
   ]
  },
  {
   "cell_type": "code",
   "execution_count": 3,
   "metadata": {},
   "outputs": [
    {
     "data": {
      "text/html": [
       "<div>\n",
       "<style scoped>\n",
       "    .dataframe tbody tr th:only-of-type {\n",
       "        vertical-align: middle;\n",
       "    }\n",
       "\n",
       "    .dataframe tbody tr th {\n",
       "        vertical-align: top;\n",
       "    }\n",
       "\n",
       "    .dataframe thead th {\n",
       "        text-align: right;\n",
       "    }\n",
       "</style>\n",
       "<table border=\"1\" class=\"dataframe\">\n",
       "  <thead>\n",
       "    <tr style=\"text-align: right;\">\n",
       "      <th></th>\n",
       "      <th>Domains</th>\n",
       "      <th>mybatis</th>\n",
       "      <th>jOOQ</th>\n",
       "      <th>Spring</th>\n",
       "      <th>JPA</th>\n",
       "      <th>JDBC</th>\n",
       "      <th>Hibernate</th>\n",
       "      <th>EclipseLink</th>\n",
       "    </tr>\n",
       "    <tr>\n",
       "      <th>Projects</th>\n",
       "      <th></th>\n",
       "      <th></th>\n",
       "      <th></th>\n",
       "      <th></th>\n",
       "      <th></th>\n",
       "      <th></th>\n",
       "      <th></th>\n",
       "      <th></th>\n",
       "    </tr>\n",
       "  </thead>\n",
       "  <tbody>\n",
       "    <tr>\n",
       "      <th>Activiti</th>\n",
       "      <td>automation</td>\n",
       "      <td>1</td>\n",
       "      <td>0</td>\n",
       "      <td>1</td>\n",
       "      <td>1</td>\n",
       "      <td>0</td>\n",
       "      <td>1</td>\n",
       "      <td>0</td>\n",
       "    </tr>\n",
       "    <tr>\n",
       "      <th>airbyte</th>\n",
       "      <td>infrastructure management</td>\n",
       "      <td>0</td>\n",
       "      <td>1</td>\n",
       "      <td>0</td>\n",
       "      <td>0</td>\n",
       "      <td>0</td>\n",
       "      <td>0</td>\n",
       "      <td>0</td>\n",
       "    </tr>\n",
       "    <tr>\n",
       "      <th>airsonic</th>\n",
       "      <td>media</td>\n",
       "      <td>1</td>\n",
       "      <td>0</td>\n",
       "      <td>0</td>\n",
       "      <td>0</td>\n",
       "      <td>0</td>\n",
       "      <td>0</td>\n",
       "      <td>1</td>\n",
       "    </tr>\n",
       "    <tr>\n",
       "      <th>spring-cloud-alibaba</th>\n",
       "      <td>infrastructure management</td>\n",
       "      <td>0</td>\n",
       "      <td>0</td>\n",
       "      <td>1</td>\n",
       "      <td>0</td>\n",
       "      <td>0</td>\n",
       "      <td>1</td>\n",
       "      <td>0</td>\n",
       "    </tr>\n",
       "    <tr>\n",
       "      <th>nacos</th>\n",
       "      <td>infrastructure management</td>\n",
       "      <td>1</td>\n",
       "      <td>0</td>\n",
       "      <td>0</td>\n",
       "      <td>0</td>\n",
       "      <td>0</td>\n",
       "      <td>0</td>\n",
       "      <td>0</td>\n",
       "    </tr>\n",
       "  </tbody>\n",
       "</table>\n",
       "</div>"
      ],
      "text/plain": [
       "                                        Domains  mybatis  jOOQ  Spring  JPA  \\\n",
       "Projects                                                                      \n",
       "Activiti                             automation        1     0       1    1   \n",
       "airbyte               infrastructure management        0     1       0    0   \n",
       "airsonic                                  media        1     0       0    0   \n",
       "spring-cloud-alibaba  infrastructure management        0     0       1    0   \n",
       "nacos                 infrastructure management        1     0       0    0   \n",
       "\n",
       "                      JDBC  Hibernate  EclipseLink  \n",
       "Projects                                            \n",
       "Activiti                 0          1            0  \n",
       "airbyte                  0          0            0  \n",
       "airsonic                 0          0            1  \n",
       "spring-cloud-alibaba     0          1            0  \n",
       "nacos                    0          0            0  "
      ]
     },
     "execution_count": 3,
     "metadata": {},
     "output_type": "execute_result"
    }
   ],
   "source": [
    "data_with_index = df.set_index(\"Projects\")\n",
    "data_with_index = data_with_index.drop([\"ethereumj\", \"openhab1-addons\", \"openhab2-addons\", \"Silence\", \"docker-client\", \"riot-android\", \"zalenium\"])\n",
    "data_with_index.head()"
   ]
  },
  {
   "cell_type": "code",
   "execution_count": 4,
   "id": "bacterial-identity",
   "metadata": {},
   "outputs": [
    {
     "data": {
      "text/plain": [
       "Hibernate      94\n",
       "JPA            67\n",
       "Spring         45\n",
       "EclipseLink    14\n",
       "jOOQ            7\n",
       "JDBC            0\n",
       "dtype: int64"
      ]
     },
     "execution_count": 4,
     "metadata": {},
     "output_type": "execute_result"
    }
   ],
   "source": [
    "data_with_index.iloc[: , 2:].sum().sort_values(ascending=False)"
   ]
  },
  {
   "cell_type": "code",
   "execution_count": 5,
   "id": "circular-immune",
   "metadata": {},
   "outputs": [
    {
     "data": {
      "image/png": "[encoded data removed]",
      "text/plain": [
       "<Figure size 504x360 with 1 Axes>"
      ]
     },
     "metadata": {
      "needs_background": "light"
     },
     "output_type": "display_data"
    }
   ],
   "source": [
    "plt.figure(figsize=(7,5))\n",
    "data_with_index.iloc[: , 2:].sum().sort_values(ascending=False).plot(kind='bar', title=\"Distributions of Frameworks\", color='silver')\n",
    "plt.xlabel(\"Frameworks\")\n",
    "plt.ylabel(\"Amount of projects\")\n",
    "plt.show() "
   ]
  },
  {
   "cell_type": "code",
   "execution_count": 7,
   "id": "adjustable-christianity",
   "metadata": {},
   "outputs": [],
   "source": [
    "from util import USAGE_FAN_IN_FILE\n",
    "df = pd.read_excel(USAGE_FAN_IN_FILE, engine = 'openpyxl')\n",
    "#data_with_index = df.set_index(\"Projects\")\n",
    "#data_with_index = data_with_index.drop([\"ethereumj\", \"openhab1-addons\", \"openhab2-addons\", \"Silence\", \"docker-client\", \"riot-android\", \"zalenium\"])\n",
    "#data_with_index.reset_index(inplace=True)"
   ]
  },
  {
   "cell_type": "code",
   "execution_count": null,
   "id": "selected-tower",
   "metadata": {},
   "outputs": [
    {
     "name": "stderr",
     "output_type": "stream",
     "text": [
      "<ipython-input-54-6edab03061c2>:3: SettingWithCopyWarning: \n",
      "A value is trying to be set on a copy of a slice from a DataFrame\n",
      "\n",
      "See the caveats in the documentation: https://pandas.pydata.org/pandas-docs/stable/user_guide/indexing.html#returning-a-view-versus-a-copy\n",
      "  filtered_df.rename(columns = {'First-Level':'DB-Code', 'Second-Level': 'Dependencies'}, inplace = True)\n"
     ]
    },
    {
     "data": {
      "text/plain": [
       "<AxesSubplot:xlabel='Projects'>"
      ]
     },
     "execution_count": 54,
     "metadata": {},
     "output_type": "execute_result"
    },
    {
     "data": {
      "image/png": "[encoded data removed]",
      "text/plain": [
       "<Figure size 864x360 with 1 Axes>"
      ]
     },
     "metadata": {
      "needs_background": "light"
     },
     "output_type": "display_data"
    }
   ],
   "source": [
    "data_with_index = data_with_index.iloc[: , :].sort_values(by='First-Level', ascending=False)\n",
    "filtered_df = data_with_index[data_with_index['Total']> 10]\n",
    "#filtered_df.rename(columns = {'First-Level':'DB-Code', 'Second-Level': 'Dependencies'}, inplace = True)\n",
    "fig, ax = plt.subplots()\n",
    "filtered_df.iloc[: , :3].plot.bar(x='Projects', ax=ax, color=('gray', 'silver'), figsize=(12,5))\n",
    "#plt.ylabel(\"Amount of files\")\n",
    "#sns.distplot(medias, hist=True, kde=True, bins=20)"
   ]
  },
  {
   "cell_type": "code",
   "execution_count": null,
   "id": "systematic-concord",
   "metadata": {},
   "outputs": [],
   "source": []
  }
 ],
 "metadata": {
  "kernelspec": {
   "display_name": "Python 3",
   "language": "python",
   "name": "python3"
  },
  "language_info": {
   "codemirror_mode": {
    "name": "ipython",
    "version": 3
   },
   "file_extension": ".py",
   "mimetype": "text/x-python",
   "name": "python",
   "nbconvert_exporter": "python",
   "pygments_lexer": "ipython3",
   "version": "3.9.2"
  }
 },
 "nbformat": 4,
 "nbformat_minor": 5
}
