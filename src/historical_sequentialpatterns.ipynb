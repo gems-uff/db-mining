{
 "cells": [
  {
   "cell_type": "code",
   "execution_count": null,
   "metadata": {},
   "outputs": [],
   "source": [
    "#First download spmf.jar and put it in the same spmf installation directory\n",
    "# Before running check if you have java installed, if not install openjdk\n",
    "#java -version\n",
    "#pip install spmf"
   ]
  },
  {
   "cell_type": "code",
   "execution_count": 1,
   "metadata": {},
   "outputs": [],
   "source": [
    "import pandas as pd\n",
    "import numpy as np\n",
    "from spmf import Spmf\n",
    "from util import HISTORICAL_FILE_SAMPLE"
   ]
  },
  {
   "cell_type": "markdown",
   "metadata": {},
   "source": [
    "Running the simplest test file with GSP"
   ]
  },
  {
   "cell_type": "code",
   "execution_count": 3,
   "metadata": {},
   "outputs": [
    {
     "name": "stdout",
     "output_type": "stream",
     "text": [
      ">/home/raquelmax/.local/share/virtualenvs/db-mining-pBhgzAM8/lib/python3.7/site-packages/spmf/spmf.jar\n",
      "=============  Algorithm - STATISTICS =============\n",
      " Total time ~ 6 ms\n",
      " Frequent sequences count : 15\n",
      " Max memory (mb):8.1783447265625\n",
      "===================================================\n",
      "\n",
      "Post-processing to show result in terms of string values.\n",
      "Post-processing completed.\n",
      "\n",
      "                           pattern  sup\n",
      "0                     [PostgreSQL]    5\n",
      "1                             [H2]    5\n",
      "2                         [Oracle]    5\n",
      "3                          [MySQL]    4\n",
      "4                [Join_Ignite_Sql]    4\n",
      "5                [PostgreSQL,  H2]    5\n",
      "6            [PostgreSQL,  Oracle]    5\n",
      "7                    [H2,  Oracle]    4\n",
      "8                    [Oracle,  H2]    5\n",
      "9                     [MySQL,  H2]    4\n",
      "10               [Oracle,  Oracle]    4\n",
      "11                [MySQL,  Oracle]    4\n",
      "12      [PostgreSQL,  Oracle,  H2]    5\n",
      "13  [PostgreSQL,  Oracle,  Oracle]    4\n",
      "14           [MySQL,  Oracle,  H2]    4\n"
     ]
    }
   ],
   "source": [
    "spmf = Spmf(\"GSP\", input_filename=\"spmf_testeBD.txt\",\n",
    "            output_filename=\"output.txt\", arguments=[0.7,True])\n",
    "spmf.run()\n",
    "print(spmf.to_pandas_dataframe(pickle=True))\n",
    "spmf.to_csv(\"output.csv\")"
   ]
  },
  {
   "cell_type": "markdown",
   "metadata": {},
   "source": [
    "Only the GSP is running with my file with the sequences of only 3 repositories"
   ]
  },
  {
   "cell_type": "code",
   "execution_count": 5,
   "metadata": {},
   "outputs": [
    {
     "name": "stdout",
     "output_type": "stream",
     "text": [
      ">/home/raquelmax/.local/share/virtualenvs/db-mining-pBhgzAM8/lib/python3.7/site-packages/spmf/spmf.jar\n",
      "=============  Algorithm - STATISTICS =============\n",
      " Total time ~ 17855 ms\n",
      " Frequent sequences count : 88573\n",
      " Max memory (mb):131.73780822753906\n",
      "===================================================\n",
      "\n",
      "Post-processing to show result in terms of string values.\n",
      "Post-processing completed.\n",
      "\n",
      "                                                 pattern  sup\n",
      "0                                                [MySQL]    2\n",
      "1                                 [GoogleCloudDatastore]    2\n",
      "2                                             [DynamoDB]    2\n",
      "3           [GoogleCloudDatastore, GoogleCloudDatastore]    2\n",
      "4                       [GoogleCloudDatastore, DynamoDB]    2\n",
      "...                                                  ...  ...\n",
      "88568  [GoogleCloudDatastore DynamoDB, GoogleCloudDat...    2\n",
      "88569  [GoogleCloudDatastore DynamoDB, GoogleCloudDat...    2\n",
      "88570  [GoogleCloudDatastore DynamoDB, GoogleCloudDat...    2\n",
      "88571  [GoogleCloudDatastore DynamoDB, DynamoDB, Goog...    2\n",
      "88572  [GoogleCloudDatastore DynamoDB, GoogleCloudDat...    2\n",
      "\n",
      "[88573 rows x 2 columns]\n"
     ]
    }
   ],
   "source": [
    "spmf = Spmf(\"GSP\", input_filename=\"projteste_spmf.txt\",\n",
    "            output_filename=\"output2.txt\", arguments=[0.5, True])\n",
    "spmf.run()\n",
    "print(spmf.to_pandas_dataframe(pickle=True))\n",
    "spmf.to_csv(\"output2.csv\")"
   ]
  },
  {
   "cell_type": "markdown",
   "metadata": {},
   "source": [
    "Test file with spmf library examples are no longer running"
   ]
  },
  {
   "cell_type": "code",
   "execution_count": 2,
   "metadata": {},
   "outputs": [
    {
     "name": "stdout",
     "output_type": "stream",
     "text": [
      ">/home/raquelmax/.local/share/virtualenvs/db-mining-pBhgzAM8/lib/python3.7/site-packages/spmf/spmf.jar\n",
      "An error while trying to run the algorithm. \n",
      " ERROR MESSAGE = java.lang.NullPointerException\n",
      "\n",
      "                                           pattern  sup\n",
      "0                                     [PostgreSQL]    4\n",
      "1                                             [H2]    4\n",
      "2                                         [Oracle]    4\n",
      "3                                          [MySQL]    3\n",
      "4                                [Join_Ignite_Sql]    4\n",
      "5                              [Join_Ignite_NoSql]    3\n",
      "6                                [PostgreSQL,  H2]    4\n",
      "7                            [PostgreSQL,  Oracle]    4\n",
      "8                   [Join_Ignite_Sql,  PostgreSQL]    3\n",
      "9                                    [H2,  Oracle]    3\n",
      "10                                   [Oracle,  H2]    4\n",
      "11                                    [MySQL,  H2]    3\n",
      "12                          [Join_Ignite_Sql,  H2]    3\n",
      "13                        [Join_Ignite_NoSql,  H2]    3\n",
      "14                               [Oracle,  Oracle]    3\n",
      "15                                [MySQL,  Oracle]    3\n",
      "16                      [Join_Ignite_Sql,  Oracle]    3\n",
      "17                    [Join_Ignite_NoSql,  Oracle]    3\n",
      "18           [Join_Ignite_Sql,  Join_Ignite_NoSql]    3\n",
      "19                      [PostgreSQL,  Oracle,  H2]    4\n",
      "20                  [PostgreSQL,  Oracle,  Oracle]    3\n",
      "21             [Join_Ignite_Sql,  PostgreSQL,  H2]    3\n",
      "22         [Join_Ignite_Sql,  PostgreSQL,  Oracle]    3\n",
      "23                 [Join_Ignite_Sql,  H2,  Oracle]    3\n",
      "24                           [MySQL,  Oracle,  H2]    3\n",
      "25                 [Join_Ignite_Sql,  Oracle,  H2]    3\n",
      "26      [Join_Ignite_Sql,  Join_Ignite_NoSql,  H2]    3\n",
      "27  [Join_Ignite_Sql,  Join_Ignite_NoSql,  Oracle]    3\n"
     ]
    }
   ],
   "source": [
    "spmf = Spmf(\"PrefixSpam\", input_filename=\"contextPrefixSpan.txt\",\n",
    "            output_filename=\"output.txt\", arguments=[0.7, 5])\n",
    "spmf.run()\n",
    "print(spmf.to_pandas_dataframe(pickle=True))\n",
    "spmf.to_csv(\"output3.csv\")"
   ]
  },
  {
   "cell_type": "code",
   "execution_count": 4,
   "metadata": {},
   "outputs": [
    {
     "name": "stdout",
     "output_type": "stream",
     "text": [
      ">/home/raquelmax/.local/share/virtualenvs/db-mining-pBhgzAM8/lib/python3.7/site-packages/spmf/spmf.jar\n",
      "An error while trying to run the algorithm. \n",
      " ERROR MESSAGE = java.lang.NullPointerException\n",
      "\n",
      "                                           pattern  sup\n",
      "0                                     [PostgreSQL]    4\n",
      "1                                             [H2]    4\n",
      "2                                         [Oracle]    4\n",
      "3                                          [MySQL]    3\n",
      "4                                [Join_Ignite_Sql]    4\n",
      "5                              [Join_Ignite_NoSql]    3\n",
      "6                                [PostgreSQL,  H2]    4\n",
      "7                            [PostgreSQL,  Oracle]    4\n",
      "8                   [Join_Ignite_Sql,  PostgreSQL]    3\n",
      "9                                    [H2,  Oracle]    3\n",
      "10                                   [Oracle,  H2]    4\n",
      "11                                    [MySQL,  H2]    3\n",
      "12                          [Join_Ignite_Sql,  H2]    3\n",
      "13                        [Join_Ignite_NoSql,  H2]    3\n",
      "14                               [Oracle,  Oracle]    3\n",
      "15                                [MySQL,  Oracle]    3\n",
      "16                      [Join_Ignite_Sql,  Oracle]    3\n",
      "17                    [Join_Ignite_NoSql,  Oracle]    3\n",
      "18           [Join_Ignite_Sql,  Join_Ignite_NoSql]    3\n",
      "19                      [PostgreSQL,  Oracle,  H2]    4\n",
      "20                  [PostgreSQL,  Oracle,  Oracle]    3\n",
      "21             [Join_Ignite_Sql,  PostgreSQL,  H2]    3\n",
      "22         [Join_Ignite_Sql,  PostgreSQL,  Oracle]    3\n",
      "23                 [Join_Ignite_Sql,  H2,  Oracle]    3\n",
      "24                           [MySQL,  Oracle,  H2]    3\n",
      "25                 [Join_Ignite_Sql,  Oracle,  H2]    3\n",
      "26      [Join_Ignite_Sql,  Join_Ignite_NoSql,  H2]    3\n",
      "27  [Join_Ignite_Sql,  Join_Ignite_NoSql,  Oracle]    3\n"
     ]
    }
   ],
   "source": [
    "spmf = Spmf(\"Spade\", input_filename=\"contextPrefixSpan.txt\",\n",
    "            output_filename=\"output.txt\", arguments=[0.7, 5])\n",
    "spmf.run()\n",
    "print(spmf.to_pandas_dataframe(pickle=True))\n",
    "spmf.to_csv(\"output4.csv\")"
   ]
  }
 ],
 "metadata": {
  "interpreter": {
   "hash": "eed6e006056345fe12a16d8ae079f8487d9044571f40a6ccc26e6f8260551aa5"
  },
  "kernelspec": {
   "display_name": "Python 3.7.9 ('db-mining-pBhgzAM8')",
   "language": "python",
   "name": "python3"
  },
  "language_info": {
   "codemirror_mode": {
    "name": "ipython",
    "version": 3
   },
   "file_extension": ".py",
   "mimetype": "text/x-python",
   "name": "python",
   "nbconvert_exporter": "python",
   "pygments_lexer": "ipython3",
   "version": "3.7.9"
  },
  "orig_nbformat": 4
 },
 "nbformat": 4,
 "nbformat_minor": 2
}
