{
 "cells": [
  {
   "cell_type": "code",
   "execution_count": 2,
   "id": "5734cca9-0693-4080-aaf2-d9d07a3d8088",
   "metadata": {
    "tags": []
   },
   "outputs": [],
   "source": [
    "import sys  \n",
    "sys.path.insert(1, '..')"
   ]
  },
  {
   "cell_type": "code",
   "execution_count": 3,
   "id": "8b4c1c25-66e3-4a16-b11f-cd0c1198fc14",
   "metadata": {
    "tags": []
   },
   "outputs": [
    {
     "name": "stdout",
     "output_type": "stream",
     "text": [
      "Os itens nas colunas 'name' e 'projects' são os mesmos (em termos de valores).\n",
      "\n",
      "Itens presentes em 'name' mas não em 'projects': set()\n",
      "Itens presentes em 'projects' mas não em 'name': set()\n",
      "\n",
      "As quantidades de itens nas colunas 'name' e 'projects' são iguais.\n",
      "\n",
      "Projetos duplicados: android\n"
     ]
    }
   ],
   "source": [
    "import pandas as pd\n",
    "import os\n",
    "from util import ANNOTATED_FILE_JAVA_COMPLET, RESOURCE_DIR\n",
    "\n",
    "# Ler os dois arquivos .xlsx\n",
    "df = pd.read_excel(ANNOTATED_FILE_JAVA_COMPLET, keep_default_na=False, sheet_name='2021')\n",
    "df1 = df[df['discardReason'] == ''] #filtra os projetos sem discardReason\n",
    "#df1 = pd.read_excel('arquivo2.xlsx')  # DataFrame 2\n",
    "\n",
    "type_characterization = ['database.xlsx', 'implementation.xlsx']\n",
    "CHARACTERIZATION_FILE_PATH = RESOURCE_DIR + os.sep + type_characterization[0]\n",
    "df2 = pd.read_excel(CHARACTERIZATION_FILE_PATH, engine = 'openpyxl')\n",
    "\n",
    "# Verificar quais itens da coluna 'name' em df1 estão presentes na coluna 'projects' de df2\n",
    "itens_presentes = df2['name'].isin(df1['name'])\n",
    "\n",
    "# Exibir o resultado: True para os itens que estão presentes, False para os que estão faltando\n",
    "#print(itens_presentes)\n",
    "\n",
    "# Filtrar os itens que estão presentes\n",
    "nomes_presentes = df2[itens_presentes]\n",
    "#print(\"Itens presentes em ambas as colunas:\")\n",
    "#print(nomes_presentes)\n",
    "\n",
    "# Filtrar os itens que estão faltando\n",
    "nomes_faltando = df2[~itens_presentes]\n",
    "#print(\"\\nItens da coluna 'name' que estão faltando em 'projects':\")\n",
    "#print(nomes_faltando)\n",
    "\n",
    "# Converter as colunas para sets\n",
    "names_set = set(df1['name'])\n",
    "projects_set = set(df2['name'])\n",
    "\n",
    "# Verificar se os conjuntos são iguais\n",
    "if names_set == projects_set:\n",
    "    print(\"Os itens nas colunas 'name' e 'projects' são os mesmos (em termos de valores).\")\n",
    "else:\n",
    "    print(\"As colunas 'name' e 'projects' têm valores diferentes.\")\n",
    "    \n",
    "# Itens presentes em 'name' mas não em 'projects'\n",
    "names_faltando = names_set - projects_set\n",
    "print(\"\\nItens presentes em 'name' mas não em 'projects':\", names_faltando)\n",
    "\n",
    "# Itens presentes em 'projects' mas não em 'name'\n",
    "projects_faltando = projects_set - names_set\n",
    "print(\"Itens presentes em 'projects' mas não em 'name':\", projects_faltando)\n",
    "\n",
    "if len(df1['name']) == len(df2['name']):\n",
    "    print(\"\\nAs quantidades de itens nas colunas 'name' e 'projects' são iguais.\")\n",
    "else:\n",
    "    print(\"\\nAs quantidades de itens nas colunas 'name' e 'projects' são diferentes.\")\n",
    "\n",
    "duplicados_projects = df2['name'].duplicated(keep=False)\n",
    "\n",
    "# Filtrar os projetos duplicados\n",
    "projetos_duplicados = df2.loc[duplicados_projects, 'name'].unique()\n",
    "\n",
    "if len(projetos_duplicados) > 0:\n",
    "    print(f\"\\nProjetos duplicados: {', '.join(projetos_duplicados)}\")\n",
    "else:\n",
    "    print(\"\\nNão existem itens duplicados na coluna 'projects'.\")\n",
    "    "
   ]
  },
  {
   "cell_type": "markdown",
   "id": "485c1432-3da8-44af-a2f0-a5ce2ff2015a",
   "metadata": {},
   "source": [
    "It should show: \n",
    "```\n",
    "Os itens nas colunas 'name' e 'projects' são os mesmos (em termos de valores).\n",
    "\n",
    "Itens presentes em 'name' mas não em 'projects': set()\n",
    "Itens presentes em 'projects' mas não em 'name': set()\n",
    "\n",
    "As quantidades de itens nas colunas 'name' e 'projects' são iguais.\n",
    "\n",
    "Projetos duplicados: android\n",
    "```"
   ]
  },
  {
   "cell_type": "code",
   "execution_count": null,
   "id": "bb75e6ac-b642-42bf-a902-e2d016cf256e",
   "metadata": {},
   "outputs": [],
   "source": []
  }
 ],
 "metadata": {
  "kernelspec": {
   "display_name": "Python 3 (ipykernel)",
   "language": "python",
   "name": "python3"
  },
  "language_info": {
   "codemirror_mode": {
    "name": "ipython",
    "version": 3
   },
   "file_extension": ".py",
   "mimetype": "text/x-python",
   "name": "python",
   "nbconvert_exporter": "python",
   "pygments_lexer": "ipython3",
   "version": "3.7.12"
  }
 },
 "nbformat": 4,
 "nbformat_minor": 5
}
