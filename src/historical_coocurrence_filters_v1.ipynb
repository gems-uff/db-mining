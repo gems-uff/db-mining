{
 "cells": [
  {
   "cell_type": "code",
   "execution_count": 1,
   "metadata": {},
   "outputs": [],
   "source": [
    "import pandas as pd\n",
    "import numpy as np\n",
    "import matplotlib.pyplot as plt \n",
    "import os\n",
    "from util import HISTORICAL_RULES_FILE , RESOURCE_DIR, IMAGES_DIR\n",
    "#pip install mlxtend\n",
    "from mlxtend.frequent_patterns import apriori, association_rules\n",
    "projectsWithBD = 197"
   ]
  },
  {
   "cell_type": "code",
   "execution_count": 30,
   "metadata": {},
   "outputs": [],
   "source": [
    "#pd.__version__\n",
    "#pip uninstall pandas"
   ]
  },
  {
   "attachments": {},
   "cell_type": "markdown",
   "metadata": {},
   "source": [
    "This script analyse this association rules find in the first version"
   ]
  },
  {
   "cell_type": "code",
   "execution_count": 2,
   "metadata": {},
   "outputs": [
    {
     "data": {
      "text/html": [
       "<div>\n",
       "<style scoped>\n",
       "    .dataframe tbody tr th:only-of-type {\n",
       "        vertical-align: middle;\n",
       "    }\n",
       "\n",
       "    .dataframe tbody tr th {\n",
       "        vertical-align: top;\n",
       "    }\n",
       "\n",
       "    .dataframe thead th {\n",
       "        text-align: right;\n",
       "    }\n",
       "</style>\n",
       "<table border=\"1\" class=\"dataframe\">\n",
       "  <thead>\n",
       "    <tr style=\"text-align: right;\">\n",
       "      <th></th>\n",
       "      <th>antecedents</th>\n",
       "      <th>consequents</th>\n",
       "      <th>antecedent support</th>\n",
       "      <th>consequent support</th>\n",
       "      <th>support</th>\n",
       "      <th>confidence</th>\n",
       "      <th>lift</th>\n",
       "      <th>leverage</th>\n",
       "      <th>conviction</th>\n",
       "      <th>antecedent_len</th>\n",
       "      <th>consequente_len</th>\n",
       "    </tr>\n",
       "  </thead>\n",
       "  <tbody>\n",
       "    <tr>\n",
       "      <th>0</th>\n",
       "      <td>frozenset({'PostgreSQL'})</td>\n",
       "      <td>frozenset({'Oracle'})</td>\n",
       "      <td>0.046154</td>\n",
       "      <td>0.038462</td>\n",
       "      <td>0.023077</td>\n",
       "      <td>0.500000</td>\n",
       "      <td>13.000000</td>\n",
       "      <td>0.021302</td>\n",
       "      <td>1.923077</td>\n",
       "      <td>1</td>\n",
       "      <td>1</td>\n",
       "    </tr>\n",
       "    <tr>\n",
       "      <th>1</th>\n",
       "      <td>frozenset({'Oracle'})</td>\n",
       "      <td>frozenset({'PostgreSQL'})</td>\n",
       "      <td>0.038462</td>\n",
       "      <td>0.046154</td>\n",
       "      <td>0.023077</td>\n",
       "      <td>0.600000</td>\n",
       "      <td>13.000000</td>\n",
       "      <td>0.021302</td>\n",
       "      <td>2.384615</td>\n",
       "      <td>1</td>\n",
       "      <td>1</td>\n",
       "    </tr>\n",
       "    <tr>\n",
       "      <th>2</th>\n",
       "      <td>frozenset({'Oracle'})</td>\n",
       "      <td>frozenset({'HyperSQL'})</td>\n",
       "      <td>0.038462</td>\n",
       "      <td>0.069231</td>\n",
       "      <td>0.023077</td>\n",
       "      <td>0.600000</td>\n",
       "      <td>8.666667</td>\n",
       "      <td>0.020414</td>\n",
       "      <td>2.326923</td>\n",
       "      <td>1</td>\n",
       "      <td>1</td>\n",
       "    </tr>\n",
       "    <tr>\n",
       "      <th>3</th>\n",
       "      <td>frozenset({'HyperSQL'})</td>\n",
       "      <td>frozenset({'Oracle'})</td>\n",
       "      <td>0.069231</td>\n",
       "      <td>0.038462</td>\n",
       "      <td>0.023077</td>\n",
       "      <td>0.333333</td>\n",
       "      <td>8.666667</td>\n",
       "      <td>0.020414</td>\n",
       "      <td>1.442308</td>\n",
       "      <td>1</td>\n",
       "      <td>1</td>\n",
       "    </tr>\n",
       "    <tr>\n",
       "      <th>4</th>\n",
       "      <td>frozenset({'MySQL'})</td>\n",
       "      <td>frozenset({'PostgreSQL'})</td>\n",
       "      <td>0.120513</td>\n",
       "      <td>0.046154</td>\n",
       "      <td>0.041026</td>\n",
       "      <td>0.340426</td>\n",
       "      <td>7.375887</td>\n",
       "      <td>0.035464</td>\n",
       "      <td>1.446154</td>\n",
       "      <td>1</td>\n",
       "      <td>1</td>\n",
       "    </tr>\n",
       "    <tr>\n",
       "      <th>5</th>\n",
       "      <td>frozenset({'PostgreSQL'})</td>\n",
       "      <td>frozenset({'MySQL'})</td>\n",
       "      <td>0.046154</td>\n",
       "      <td>0.120513</td>\n",
       "      <td>0.041026</td>\n",
       "      <td>0.888889</td>\n",
       "      <td>7.375887</td>\n",
       "      <td>0.035464</td>\n",
       "      <td>7.915385</td>\n",
       "      <td>1</td>\n",
       "      <td>1</td>\n",
       "    </tr>\n",
       "    <tr>\n",
       "      <th>6</th>\n",
       "      <td>frozenset({'PostgreSQL'})</td>\n",
       "      <td>frozenset({'HyperSQL'})</td>\n",
       "      <td>0.046154</td>\n",
       "      <td>0.069231</td>\n",
       "      <td>0.023077</td>\n",
       "      <td>0.500000</td>\n",
       "      <td>7.222222</td>\n",
       "      <td>0.019882</td>\n",
       "      <td>1.861538</td>\n",
       "      <td>1</td>\n",
       "      <td>1</td>\n",
       "    </tr>\n",
       "    <tr>\n",
       "      <th>7</th>\n",
       "      <td>frozenset({'HyperSQL'})</td>\n",
       "      <td>frozenset({'PostgreSQL'})</td>\n",
       "      <td>0.069231</td>\n",
       "      <td>0.046154</td>\n",
       "      <td>0.023077</td>\n",
       "      <td>0.333333</td>\n",
       "      <td>7.222222</td>\n",
       "      <td>0.019882</td>\n",
       "      <td>1.430769</td>\n",
       "      <td>1</td>\n",
       "      <td>1</td>\n",
       "    </tr>\n",
       "    <tr>\n",
       "      <th>8</th>\n",
       "      <td>frozenset({'MySQL'})</td>\n",
       "      <td>frozenset({'Oracle'})</td>\n",
       "      <td>0.120513</td>\n",
       "      <td>0.038462</td>\n",
       "      <td>0.030769</td>\n",
       "      <td>0.255319</td>\n",
       "      <td>6.638298</td>\n",
       "      <td>0.026134</td>\n",
       "      <td>1.291209</td>\n",
       "      <td>1</td>\n",
       "      <td>1</td>\n",
       "    </tr>\n",
       "    <tr>\n",
       "      <th>9</th>\n",
       "      <td>frozenset({'Oracle'})</td>\n",
       "      <td>frozenset({'MySQL'})</td>\n",
       "      <td>0.038462</td>\n",
       "      <td>0.120513</td>\n",
       "      <td>0.030769</td>\n",
       "      <td>0.800000</td>\n",
       "      <td>6.638298</td>\n",
       "      <td>0.026134</td>\n",
       "      <td>4.397436</td>\n",
       "      <td>1</td>\n",
       "      <td>1</td>\n",
       "    </tr>\n",
       "    <tr>\n",
       "      <th>10</th>\n",
       "      <td>frozenset({'HyperSQL'})</td>\n",
       "      <td>frozenset({'H2'})</td>\n",
       "      <td>0.069231</td>\n",
       "      <td>0.066667</td>\n",
       "      <td>0.028205</td>\n",
       "      <td>0.407407</td>\n",
       "      <td>6.111111</td>\n",
       "      <td>0.023590</td>\n",
       "      <td>1.575000</td>\n",
       "      <td>1</td>\n",
       "      <td>1</td>\n",
       "    </tr>\n",
       "    <tr>\n",
       "      <th>11</th>\n",
       "      <td>frozenset({'H2'})</td>\n",
       "      <td>frozenset({'HyperSQL'})</td>\n",
       "      <td>0.066667</td>\n",
       "      <td>0.069231</td>\n",
       "      <td>0.028205</td>\n",
       "      <td>0.423077</td>\n",
       "      <td>6.111111</td>\n",
       "      <td>0.023590</td>\n",
       "      <td>1.613333</td>\n",
       "      <td>1</td>\n",
       "      <td>1</td>\n",
       "    </tr>\n",
       "    <tr>\n",
       "      <th>12</th>\n",
       "      <td>frozenset({'MySQL'})</td>\n",
       "      <td>frozenset({'HyperSQL'})</td>\n",
       "      <td>0.120513</td>\n",
       "      <td>0.069231</td>\n",
       "      <td>0.046154</td>\n",
       "      <td>0.382979</td>\n",
       "      <td>5.531915</td>\n",
       "      <td>0.037811</td>\n",
       "      <td>1.508488</td>\n",
       "      <td>1</td>\n",
       "      <td>1</td>\n",
       "    </tr>\n",
       "    <tr>\n",
       "      <th>13</th>\n",
       "      <td>frozenset({'HyperSQL'})</td>\n",
       "      <td>frozenset({'MySQL'})</td>\n",
       "      <td>0.069231</td>\n",
       "      <td>0.120513</td>\n",
       "      <td>0.046154</td>\n",
       "      <td>0.666667</td>\n",
       "      <td>5.531915</td>\n",
       "      <td>0.037811</td>\n",
       "      <td>2.638462</td>\n",
       "      <td>1</td>\n",
       "      <td>1</td>\n",
       "    </tr>\n",
       "    <tr>\n",
       "      <th>14</th>\n",
       "      <td>frozenset({'MySQL'})</td>\n",
       "      <td>frozenset({'H2'})</td>\n",
       "      <td>0.120513</td>\n",
       "      <td>0.066667</td>\n",
       "      <td>0.035897</td>\n",
       "      <td>0.297872</td>\n",
       "      <td>4.468085</td>\n",
       "      <td>0.027863</td>\n",
       "      <td>1.329293</td>\n",
       "      <td>1</td>\n",
       "      <td>1</td>\n",
       "    </tr>\n",
       "    <tr>\n",
       "      <th>15</th>\n",
       "      <td>frozenset({'H2'})</td>\n",
       "      <td>frozenset({'MySQL'})</td>\n",
       "      <td>0.066667</td>\n",
       "      <td>0.120513</td>\n",
       "      <td>0.035897</td>\n",
       "      <td>0.538462</td>\n",
       "      <td>4.468085</td>\n",
       "      <td>0.027863</td>\n",
       "      <td>1.905556</td>\n",
       "      <td>1</td>\n",
       "      <td>1</td>\n",
       "    </tr>\n",
       "  </tbody>\n",
       "</table>\n",
       "</div>"
      ],
      "text/plain": [
       "                  antecedents                consequents  antecedent support  \\\n",
       "0   frozenset({'PostgreSQL'})      frozenset({'Oracle'})            0.046154   \n",
       "1       frozenset({'Oracle'})  frozenset({'PostgreSQL'})            0.038462   \n",
       "2       frozenset({'Oracle'})    frozenset({'HyperSQL'})            0.038462   \n",
       "3     frozenset({'HyperSQL'})      frozenset({'Oracle'})            0.069231   \n",
       "4        frozenset({'MySQL'})  frozenset({'PostgreSQL'})            0.120513   \n",
       "5   frozenset({'PostgreSQL'})       frozenset({'MySQL'})            0.046154   \n",
       "6   frozenset({'PostgreSQL'})    frozenset({'HyperSQL'})            0.046154   \n",
       "7     frozenset({'HyperSQL'})  frozenset({'PostgreSQL'})            0.069231   \n",
       "8        frozenset({'MySQL'})      frozenset({'Oracle'})            0.120513   \n",
       "9       frozenset({'Oracle'})       frozenset({'MySQL'})            0.038462   \n",
       "10    frozenset({'HyperSQL'})          frozenset({'H2'})            0.069231   \n",
       "11          frozenset({'H2'})    frozenset({'HyperSQL'})            0.066667   \n",
       "12       frozenset({'MySQL'})    frozenset({'HyperSQL'})            0.120513   \n",
       "13    frozenset({'HyperSQL'})       frozenset({'MySQL'})            0.069231   \n",
       "14       frozenset({'MySQL'})          frozenset({'H2'})            0.120513   \n",
       "15          frozenset({'H2'})       frozenset({'MySQL'})            0.066667   \n",
       "\n",
       "    consequent support   support  confidence       lift  leverage  conviction  \\\n",
       "0             0.038462  0.023077    0.500000  13.000000  0.021302    1.923077   \n",
       "1             0.046154  0.023077    0.600000  13.000000  0.021302    2.384615   \n",
       "2             0.069231  0.023077    0.600000   8.666667  0.020414    2.326923   \n",
       "3             0.038462  0.023077    0.333333   8.666667  0.020414    1.442308   \n",
       "4             0.046154  0.041026    0.340426   7.375887  0.035464    1.446154   \n",
       "5             0.120513  0.041026    0.888889   7.375887  0.035464    7.915385   \n",
       "6             0.069231  0.023077    0.500000   7.222222  0.019882    1.861538   \n",
       "7             0.046154  0.023077    0.333333   7.222222  0.019882    1.430769   \n",
       "8             0.038462  0.030769    0.255319   6.638298  0.026134    1.291209   \n",
       "9             0.120513  0.030769    0.800000   6.638298  0.026134    4.397436   \n",
       "10            0.066667  0.028205    0.407407   6.111111  0.023590    1.575000   \n",
       "11            0.069231  0.028205    0.423077   6.111111  0.023590    1.613333   \n",
       "12            0.069231  0.046154    0.382979   5.531915  0.037811    1.508488   \n",
       "13            0.120513  0.046154    0.666667   5.531915  0.037811    2.638462   \n",
       "14            0.066667  0.035897    0.297872   4.468085  0.027863    1.329293   \n",
       "15            0.120513  0.035897    0.538462   4.468085  0.027863    1.905556   \n",
       "\n",
       "    antecedent_len  consequente_len  \n",
       "0                1                1  \n",
       "1                1                1  \n",
       "2                1                1  \n",
       "3                1                1  \n",
       "4                1                1  \n",
       "5                1                1  \n",
       "6                1                1  \n",
       "7                1                1  \n",
       "8                1                1  \n",
       "9                1                1  \n",
       "10               1                1  \n",
       "11               1                1  \n",
       "12               1                1  \n",
       "13               1                1  \n",
       "14               1                1  \n",
       "15               1                1  "
      ]
     },
     "execution_count": 2,
     "metadata": {},
     "output_type": "execute_result"
    }
   ],
   "source": [
    "df = pd.read_excel(RESOURCE_DIR + os.sep + 'historical_rulesv1.xlsx', keep_default_na=False) #'seq_patterns/testes/historical_rules_commit1_197reg_021.xlsx'\n",
    "#df = pd.read_excel(HISTORICAL_RULES_FILE , keep_default_na=False)\n",
    "#df2 = df.copy()\n",
    "len(df)\n",
    "#df.head()\n",
    "df"
   ]
  },
  {
   "cell_type": "code",
   "execution_count": 3,
   "metadata": {},
   "outputs": [],
   "source": [
    "df['antecedents'] = df['antecedents'].astype(str)\n",
    "df['consequents'] = df['consequents'].astype(str)"
   ]
  },
  {
   "cell_type": "code",
   "execution_count": 4,
   "metadata": {},
   "outputs": [
    {
     "data": {
      "text/html": [
       "<div>\n",
       "<style scoped>\n",
       "    .dataframe tbody tr th:only-of-type {\n",
       "        vertical-align: middle;\n",
       "    }\n",
       "\n",
       "    .dataframe tbody tr th {\n",
       "        vertical-align: top;\n",
       "    }\n",
       "\n",
       "    .dataframe thead th {\n",
       "        text-align: right;\n",
       "    }\n",
       "</style>\n",
       "<table border=\"1\" class=\"dataframe\">\n",
       "  <thead>\n",
       "    <tr style=\"text-align: right;\">\n",
       "      <th></th>\n",
       "      <th>antecedents</th>\n",
       "      <th>consequents</th>\n",
       "      <th>antecedent support</th>\n",
       "      <th>consequent support</th>\n",
       "      <th>support</th>\n",
       "      <th>confidence</th>\n",
       "      <th>lift</th>\n",
       "      <th>leverage</th>\n",
       "      <th>conviction</th>\n",
       "      <th>antecedent_len</th>\n",
       "      <th>consequente_len</th>\n",
       "    </tr>\n",
       "  </thead>\n",
       "  <tbody>\n",
       "    <tr>\n",
       "      <th>0</th>\n",
       "      <td>PostgreSQL</td>\n",
       "      <td>Oracle</td>\n",
       "      <td>0.046154</td>\n",
       "      <td>0.038462</td>\n",
       "      <td>0.023077</td>\n",
       "      <td>0.500000</td>\n",
       "      <td>13.000000</td>\n",
       "      <td>0.021302</td>\n",
       "      <td>1.923077</td>\n",
       "      <td>1</td>\n",
       "      <td>1</td>\n",
       "    </tr>\n",
       "    <tr>\n",
       "      <th>1</th>\n",
       "      <td>Oracle</td>\n",
       "      <td>PostgreSQL</td>\n",
       "      <td>0.038462</td>\n",
       "      <td>0.046154</td>\n",
       "      <td>0.023077</td>\n",
       "      <td>0.600000</td>\n",
       "      <td>13.000000</td>\n",
       "      <td>0.021302</td>\n",
       "      <td>2.384615</td>\n",
       "      <td>1</td>\n",
       "      <td>1</td>\n",
       "    </tr>\n",
       "    <tr>\n",
       "      <th>2</th>\n",
       "      <td>Oracle</td>\n",
       "      <td>HyperSQL</td>\n",
       "      <td>0.038462</td>\n",
       "      <td>0.069231</td>\n",
       "      <td>0.023077</td>\n",
       "      <td>0.600000</td>\n",
       "      <td>8.666667</td>\n",
       "      <td>0.020414</td>\n",
       "      <td>2.326923</td>\n",
       "      <td>1</td>\n",
       "      <td>1</td>\n",
       "    </tr>\n",
       "    <tr>\n",
       "      <th>3</th>\n",
       "      <td>HyperSQL</td>\n",
       "      <td>Oracle</td>\n",
       "      <td>0.069231</td>\n",
       "      <td>0.038462</td>\n",
       "      <td>0.023077</td>\n",
       "      <td>0.333333</td>\n",
       "      <td>8.666667</td>\n",
       "      <td>0.020414</td>\n",
       "      <td>1.442308</td>\n",
       "      <td>1</td>\n",
       "      <td>1</td>\n",
       "    </tr>\n",
       "    <tr>\n",
       "      <th>4</th>\n",
       "      <td>MySQL</td>\n",
       "      <td>PostgreSQL</td>\n",
       "      <td>0.120513</td>\n",
       "      <td>0.046154</td>\n",
       "      <td>0.041026</td>\n",
       "      <td>0.340426</td>\n",
       "      <td>7.375887</td>\n",
       "      <td>0.035464</td>\n",
       "      <td>1.446154</td>\n",
       "      <td>1</td>\n",
       "      <td>1</td>\n",
       "    </tr>\n",
       "    <tr>\n",
       "      <th>5</th>\n",
       "      <td>PostgreSQL</td>\n",
       "      <td>MySQL</td>\n",
       "      <td>0.046154</td>\n",
       "      <td>0.120513</td>\n",
       "      <td>0.041026</td>\n",
       "      <td>0.888889</td>\n",
       "      <td>7.375887</td>\n",
       "      <td>0.035464</td>\n",
       "      <td>7.915385</td>\n",
       "      <td>1</td>\n",
       "      <td>1</td>\n",
       "    </tr>\n",
       "    <tr>\n",
       "      <th>6</th>\n",
       "      <td>PostgreSQL</td>\n",
       "      <td>HyperSQL</td>\n",
       "      <td>0.046154</td>\n",
       "      <td>0.069231</td>\n",
       "      <td>0.023077</td>\n",
       "      <td>0.500000</td>\n",
       "      <td>7.222222</td>\n",
       "      <td>0.019882</td>\n",
       "      <td>1.861538</td>\n",
       "      <td>1</td>\n",
       "      <td>1</td>\n",
       "    </tr>\n",
       "    <tr>\n",
       "      <th>7</th>\n",
       "      <td>HyperSQL</td>\n",
       "      <td>PostgreSQL</td>\n",
       "      <td>0.069231</td>\n",
       "      <td>0.046154</td>\n",
       "      <td>0.023077</td>\n",
       "      <td>0.333333</td>\n",
       "      <td>7.222222</td>\n",
       "      <td>0.019882</td>\n",
       "      <td>1.430769</td>\n",
       "      <td>1</td>\n",
       "      <td>1</td>\n",
       "    </tr>\n",
       "    <tr>\n",
       "      <th>8</th>\n",
       "      <td>MySQL</td>\n",
       "      <td>Oracle</td>\n",
       "      <td>0.120513</td>\n",
       "      <td>0.038462</td>\n",
       "      <td>0.030769</td>\n",
       "      <td>0.255319</td>\n",
       "      <td>6.638298</td>\n",
       "      <td>0.026134</td>\n",
       "      <td>1.291209</td>\n",
       "      <td>1</td>\n",
       "      <td>1</td>\n",
       "    </tr>\n",
       "    <tr>\n",
       "      <th>9</th>\n",
       "      <td>Oracle</td>\n",
       "      <td>MySQL</td>\n",
       "      <td>0.038462</td>\n",
       "      <td>0.120513</td>\n",
       "      <td>0.030769</td>\n",
       "      <td>0.800000</td>\n",
       "      <td>6.638298</td>\n",
       "      <td>0.026134</td>\n",
       "      <td>4.397436</td>\n",
       "      <td>1</td>\n",
       "      <td>1</td>\n",
       "    </tr>\n",
       "    <tr>\n",
       "      <th>10</th>\n",
       "      <td>HyperSQL</td>\n",
       "      <td>H2</td>\n",
       "      <td>0.069231</td>\n",
       "      <td>0.066667</td>\n",
       "      <td>0.028205</td>\n",
       "      <td>0.407407</td>\n",
       "      <td>6.111111</td>\n",
       "      <td>0.023590</td>\n",
       "      <td>1.575000</td>\n",
       "      <td>1</td>\n",
       "      <td>1</td>\n",
       "    </tr>\n",
       "    <tr>\n",
       "      <th>11</th>\n",
       "      <td>H2</td>\n",
       "      <td>HyperSQL</td>\n",
       "      <td>0.066667</td>\n",
       "      <td>0.069231</td>\n",
       "      <td>0.028205</td>\n",
       "      <td>0.423077</td>\n",
       "      <td>6.111111</td>\n",
       "      <td>0.023590</td>\n",
       "      <td>1.613333</td>\n",
       "      <td>1</td>\n",
       "      <td>1</td>\n",
       "    </tr>\n",
       "    <tr>\n",
       "      <th>12</th>\n",
       "      <td>MySQL</td>\n",
       "      <td>HyperSQL</td>\n",
       "      <td>0.120513</td>\n",
       "      <td>0.069231</td>\n",
       "      <td>0.046154</td>\n",
       "      <td>0.382979</td>\n",
       "      <td>5.531915</td>\n",
       "      <td>0.037811</td>\n",
       "      <td>1.508488</td>\n",
       "      <td>1</td>\n",
       "      <td>1</td>\n",
       "    </tr>\n",
       "    <tr>\n",
       "      <th>13</th>\n",
       "      <td>HyperSQL</td>\n",
       "      <td>MySQL</td>\n",
       "      <td>0.069231</td>\n",
       "      <td>0.120513</td>\n",
       "      <td>0.046154</td>\n",
       "      <td>0.666667</td>\n",
       "      <td>5.531915</td>\n",
       "      <td>0.037811</td>\n",
       "      <td>2.638462</td>\n",
       "      <td>1</td>\n",
       "      <td>1</td>\n",
       "    </tr>\n",
       "    <tr>\n",
       "      <th>14</th>\n",
       "      <td>MySQL</td>\n",
       "      <td>H2</td>\n",
       "      <td>0.120513</td>\n",
       "      <td>0.066667</td>\n",
       "      <td>0.035897</td>\n",
       "      <td>0.297872</td>\n",
       "      <td>4.468085</td>\n",
       "      <td>0.027863</td>\n",
       "      <td>1.329293</td>\n",
       "      <td>1</td>\n",
       "      <td>1</td>\n",
       "    </tr>\n",
       "    <tr>\n",
       "      <th>15</th>\n",
       "      <td>H2</td>\n",
       "      <td>MySQL</td>\n",
       "      <td>0.066667</td>\n",
       "      <td>0.120513</td>\n",
       "      <td>0.035897</td>\n",
       "      <td>0.538462</td>\n",
       "      <td>4.468085</td>\n",
       "      <td>0.027863</td>\n",
       "      <td>1.905556</td>\n",
       "      <td>1</td>\n",
       "      <td>1</td>\n",
       "    </tr>\n",
       "  </tbody>\n",
       "</table>\n",
       "</div>"
      ],
      "text/plain": [
       "   antecedents consequents  antecedent support  consequent support   support  \\\n",
       "0   PostgreSQL      Oracle            0.046154            0.038462  0.023077   \n",
       "1       Oracle  PostgreSQL            0.038462            0.046154  0.023077   \n",
       "2       Oracle    HyperSQL            0.038462            0.069231  0.023077   \n",
       "3     HyperSQL      Oracle            0.069231            0.038462  0.023077   \n",
       "4        MySQL  PostgreSQL            0.120513            0.046154  0.041026   \n",
       "5   PostgreSQL       MySQL            0.046154            0.120513  0.041026   \n",
       "6   PostgreSQL    HyperSQL            0.046154            0.069231  0.023077   \n",
       "7     HyperSQL  PostgreSQL            0.069231            0.046154  0.023077   \n",
       "8        MySQL      Oracle            0.120513            0.038462  0.030769   \n",
       "9       Oracle       MySQL            0.038462            0.120513  0.030769   \n",
       "10    HyperSQL          H2            0.069231            0.066667  0.028205   \n",
       "11          H2    HyperSQL            0.066667            0.069231  0.028205   \n",
       "12       MySQL    HyperSQL            0.120513            0.069231  0.046154   \n",
       "13    HyperSQL       MySQL            0.069231            0.120513  0.046154   \n",
       "14       MySQL          H2            0.120513            0.066667  0.035897   \n",
       "15          H2       MySQL            0.066667            0.120513  0.035897   \n",
       "\n",
       "    confidence       lift  leverage  conviction  antecedent_len  \\\n",
       "0     0.500000  13.000000  0.021302    1.923077               1   \n",
       "1     0.600000  13.000000  0.021302    2.384615               1   \n",
       "2     0.600000   8.666667  0.020414    2.326923               1   \n",
       "3     0.333333   8.666667  0.020414    1.442308               1   \n",
       "4     0.340426   7.375887  0.035464    1.446154               1   \n",
       "5     0.888889   7.375887  0.035464    7.915385               1   \n",
       "6     0.500000   7.222222  0.019882    1.861538               1   \n",
       "7     0.333333   7.222222  0.019882    1.430769               1   \n",
       "8     0.255319   6.638298  0.026134    1.291209               1   \n",
       "9     0.800000   6.638298  0.026134    4.397436               1   \n",
       "10    0.407407   6.111111  0.023590    1.575000               1   \n",
       "11    0.423077   6.111111  0.023590    1.613333               1   \n",
       "12    0.382979   5.531915  0.037811    1.508488               1   \n",
       "13    0.666667   5.531915  0.037811    2.638462               1   \n",
       "14    0.297872   4.468085  0.027863    1.329293               1   \n",
       "15    0.538462   4.468085  0.027863    1.905556               1   \n",
       "\n",
       "    consequente_len  \n",
       "0                 1  \n",
       "1                 1  \n",
       "2                 1  \n",
       "3                 1  \n",
       "4                 1  \n",
       "5                 1  \n",
       "6                 1  \n",
       "7                 1  \n",
       "8                 1  \n",
       "9                 1  \n",
       "10                1  \n",
       "11                1  \n",
       "12                1  \n",
       "13                1  \n",
       "14                1  \n",
       "15                1  "
      ]
     },
     "execution_count": 4,
     "metadata": {},
     "output_type": "execute_result"
    }
   ],
   "source": [
    "#Extract the word \"frozenset\" of the dataframe\n",
    "df['antecedents'] = df['antecedents'].apply(lambda x: x[len('frozenset({\"'):-3])\n",
    "df['consequents'] = df['consequents'].apply(lambda x: x[len('frozenset({\"'):-3])\n",
    "df"
   ]
  },
  {
   "cell_type": "code",
   "execution_count": 5,
   "metadata": {},
   "outputs": [
    {
     "data": {
      "text/html": [
       "<div>\n",
       "<style scoped>\n",
       "    .dataframe tbody tr th:only-of-type {\n",
       "        vertical-align: middle;\n",
       "    }\n",
       "\n",
       "    .dataframe tbody tr th {\n",
       "        vertical-align: top;\n",
       "    }\n",
       "\n",
       "    .dataframe thead th {\n",
       "        text-align: right;\n",
       "    }\n",
       "</style>\n",
       "<table border=\"1\" class=\"dataframe\">\n",
       "  <thead>\n",
       "    <tr style=\"text-align: right;\">\n",
       "      <th></th>\n",
       "      <th>antecedents</th>\n",
       "      <th>consequents</th>\n",
       "      <th>antecedent support</th>\n",
       "      <th>antecedent_sup_abs</th>\n",
       "      <th>consequent support</th>\n",
       "      <th>consequent_sup_abs</th>\n",
       "      <th>support</th>\n",
       "      <th>support_abs</th>\n",
       "      <th>confidence</th>\n",
       "      <th>lift</th>\n",
       "      <th>leverage</th>\n",
       "      <th>conviction</th>\n",
       "      <th>antecedent_len</th>\n",
       "      <th>consequente_len</th>\n",
       "    </tr>\n",
       "  </thead>\n",
       "  <tbody>\n",
       "    <tr>\n",
       "      <th>0</th>\n",
       "      <td>PostgreSQL</td>\n",
       "      <td>Oracle</td>\n",
       "      <td>0.046154</td>\n",
       "      <td>9.092308</td>\n",
       "      <td>0.038462</td>\n",
       "      <td>7.576923</td>\n",
       "      <td>0.023077</td>\n",
       "      <td>4.546154</td>\n",
       "      <td>0.500000</td>\n",
       "      <td>13.000000</td>\n",
       "      <td>0.021302</td>\n",
       "      <td>1.923077</td>\n",
       "      <td>1</td>\n",
       "      <td>1</td>\n",
       "    </tr>\n",
       "    <tr>\n",
       "      <th>1</th>\n",
       "      <td>Oracle</td>\n",
       "      <td>PostgreSQL</td>\n",
       "      <td>0.038462</td>\n",
       "      <td>7.576923</td>\n",
       "      <td>0.046154</td>\n",
       "      <td>9.092308</td>\n",
       "      <td>0.023077</td>\n",
       "      <td>4.546154</td>\n",
       "      <td>0.600000</td>\n",
       "      <td>13.000000</td>\n",
       "      <td>0.021302</td>\n",
       "      <td>2.384615</td>\n",
       "      <td>1</td>\n",
       "      <td>1</td>\n",
       "    </tr>\n",
       "    <tr>\n",
       "      <th>2</th>\n",
       "      <td>Oracle</td>\n",
       "      <td>HyperSQL</td>\n",
       "      <td>0.038462</td>\n",
       "      <td>7.576923</td>\n",
       "      <td>0.069231</td>\n",
       "      <td>13.638462</td>\n",
       "      <td>0.023077</td>\n",
       "      <td>4.546154</td>\n",
       "      <td>0.600000</td>\n",
       "      <td>8.666667</td>\n",
       "      <td>0.020414</td>\n",
       "      <td>2.326923</td>\n",
       "      <td>1</td>\n",
       "      <td>1</td>\n",
       "    </tr>\n",
       "    <tr>\n",
       "      <th>3</th>\n",
       "      <td>HyperSQL</td>\n",
       "      <td>Oracle</td>\n",
       "      <td>0.069231</td>\n",
       "      <td>13.638462</td>\n",
       "      <td>0.038462</td>\n",
       "      <td>7.576923</td>\n",
       "      <td>0.023077</td>\n",
       "      <td>4.546154</td>\n",
       "      <td>0.333333</td>\n",
       "      <td>8.666667</td>\n",
       "      <td>0.020414</td>\n",
       "      <td>1.442308</td>\n",
       "      <td>1</td>\n",
       "      <td>1</td>\n",
       "    </tr>\n",
       "    <tr>\n",
       "      <th>4</th>\n",
       "      <td>MySQL</td>\n",
       "      <td>PostgreSQL</td>\n",
       "      <td>0.120513</td>\n",
       "      <td>23.741026</td>\n",
       "      <td>0.046154</td>\n",
       "      <td>9.092308</td>\n",
       "      <td>0.041026</td>\n",
       "      <td>8.082051</td>\n",
       "      <td>0.340426</td>\n",
       "      <td>7.375887</td>\n",
       "      <td>0.035464</td>\n",
       "      <td>1.446154</td>\n",
       "      <td>1</td>\n",
       "      <td>1</td>\n",
       "    </tr>\n",
       "    <tr>\n",
       "      <th>5</th>\n",
       "      <td>PostgreSQL</td>\n",
       "      <td>MySQL</td>\n",
       "      <td>0.046154</td>\n",
       "      <td>9.092308</td>\n",
       "      <td>0.120513</td>\n",
       "      <td>23.741026</td>\n",
       "      <td>0.041026</td>\n",
       "      <td>8.082051</td>\n",
       "      <td>0.888889</td>\n",
       "      <td>7.375887</td>\n",
       "      <td>0.035464</td>\n",
       "      <td>7.915385</td>\n",
       "      <td>1</td>\n",
       "      <td>1</td>\n",
       "    </tr>\n",
       "    <tr>\n",
       "      <th>6</th>\n",
       "      <td>PostgreSQL</td>\n",
       "      <td>HyperSQL</td>\n",
       "      <td>0.046154</td>\n",
       "      <td>9.092308</td>\n",
       "      <td>0.069231</td>\n",
       "      <td>13.638462</td>\n",
       "      <td>0.023077</td>\n",
       "      <td>4.546154</td>\n",
       "      <td>0.500000</td>\n",
       "      <td>7.222222</td>\n",
       "      <td>0.019882</td>\n",
       "      <td>1.861538</td>\n",
       "      <td>1</td>\n",
       "      <td>1</td>\n",
       "    </tr>\n",
       "    <tr>\n",
       "      <th>7</th>\n",
       "      <td>HyperSQL</td>\n",
       "      <td>PostgreSQL</td>\n",
       "      <td>0.069231</td>\n",
       "      <td>13.638462</td>\n",
       "      <td>0.046154</td>\n",
       "      <td>9.092308</td>\n",
       "      <td>0.023077</td>\n",
       "      <td>4.546154</td>\n",
       "      <td>0.333333</td>\n",
       "      <td>7.222222</td>\n",
       "      <td>0.019882</td>\n",
       "      <td>1.430769</td>\n",
       "      <td>1</td>\n",
       "      <td>1</td>\n",
       "    </tr>\n",
       "    <tr>\n",
       "      <th>8</th>\n",
       "      <td>MySQL</td>\n",
       "      <td>Oracle</td>\n",
       "      <td>0.120513</td>\n",
       "      <td>23.741026</td>\n",
       "      <td>0.038462</td>\n",
       "      <td>7.576923</td>\n",
       "      <td>0.030769</td>\n",
       "      <td>6.061538</td>\n",
       "      <td>0.255319</td>\n",
       "      <td>6.638298</td>\n",
       "      <td>0.026134</td>\n",
       "      <td>1.291209</td>\n",
       "      <td>1</td>\n",
       "      <td>1</td>\n",
       "    </tr>\n",
       "    <tr>\n",
       "      <th>9</th>\n",
       "      <td>Oracle</td>\n",
       "      <td>MySQL</td>\n",
       "      <td>0.038462</td>\n",
       "      <td>7.576923</td>\n",
       "      <td>0.120513</td>\n",
       "      <td>23.741026</td>\n",
       "      <td>0.030769</td>\n",
       "      <td>6.061538</td>\n",
       "      <td>0.800000</td>\n",
       "      <td>6.638298</td>\n",
       "      <td>0.026134</td>\n",
       "      <td>4.397436</td>\n",
       "      <td>1</td>\n",
       "      <td>1</td>\n",
       "    </tr>\n",
       "    <tr>\n",
       "      <th>10</th>\n",
       "      <td>HyperSQL</td>\n",
       "      <td>H2</td>\n",
       "      <td>0.069231</td>\n",
       "      <td>13.638462</td>\n",
       "      <td>0.066667</td>\n",
       "      <td>13.133333</td>\n",
       "      <td>0.028205</td>\n",
       "      <td>5.556410</td>\n",
       "      <td>0.407407</td>\n",
       "      <td>6.111111</td>\n",
       "      <td>0.023590</td>\n",
       "      <td>1.575000</td>\n",
       "      <td>1</td>\n",
       "      <td>1</td>\n",
       "    </tr>\n",
       "    <tr>\n",
       "      <th>11</th>\n",
       "      <td>H2</td>\n",
       "      <td>HyperSQL</td>\n",
       "      <td>0.066667</td>\n",
       "      <td>13.133333</td>\n",
       "      <td>0.069231</td>\n",
       "      <td>13.638462</td>\n",
       "      <td>0.028205</td>\n",
       "      <td>5.556410</td>\n",
       "      <td>0.423077</td>\n",
       "      <td>6.111111</td>\n",
       "      <td>0.023590</td>\n",
       "      <td>1.613333</td>\n",
       "      <td>1</td>\n",
       "      <td>1</td>\n",
       "    </tr>\n",
       "    <tr>\n",
       "      <th>12</th>\n",
       "      <td>MySQL</td>\n",
       "      <td>HyperSQL</td>\n",
       "      <td>0.120513</td>\n",
       "      <td>23.741026</td>\n",
       "      <td>0.069231</td>\n",
       "      <td>13.638462</td>\n",
       "      <td>0.046154</td>\n",
       "      <td>9.092308</td>\n",
       "      <td>0.382979</td>\n",
       "      <td>5.531915</td>\n",
       "      <td>0.037811</td>\n",
       "      <td>1.508488</td>\n",
       "      <td>1</td>\n",
       "      <td>1</td>\n",
       "    </tr>\n",
       "    <tr>\n",
       "      <th>13</th>\n",
       "      <td>HyperSQL</td>\n",
       "      <td>MySQL</td>\n",
       "      <td>0.069231</td>\n",
       "      <td>13.638462</td>\n",
       "      <td>0.120513</td>\n",
       "      <td>23.741026</td>\n",
       "      <td>0.046154</td>\n",
       "      <td>9.092308</td>\n",
       "      <td>0.666667</td>\n",
       "      <td>5.531915</td>\n",
       "      <td>0.037811</td>\n",
       "      <td>2.638462</td>\n",
       "      <td>1</td>\n",
       "      <td>1</td>\n",
       "    </tr>\n",
       "    <tr>\n",
       "      <th>14</th>\n",
       "      <td>MySQL</td>\n",
       "      <td>H2</td>\n",
       "      <td>0.120513</td>\n",
       "      <td>23.741026</td>\n",
       "      <td>0.066667</td>\n",
       "      <td>13.133333</td>\n",
       "      <td>0.035897</td>\n",
       "      <td>7.071795</td>\n",
       "      <td>0.297872</td>\n",
       "      <td>4.468085</td>\n",
       "      <td>0.027863</td>\n",
       "      <td>1.329293</td>\n",
       "      <td>1</td>\n",
       "      <td>1</td>\n",
       "    </tr>\n",
       "    <tr>\n",
       "      <th>15</th>\n",
       "      <td>H2</td>\n",
       "      <td>MySQL</td>\n",
       "      <td>0.066667</td>\n",
       "      <td>13.133333</td>\n",
       "      <td>0.120513</td>\n",
       "      <td>23.741026</td>\n",
       "      <td>0.035897</td>\n",
       "      <td>7.071795</td>\n",
       "      <td>0.538462</td>\n",
       "      <td>4.468085</td>\n",
       "      <td>0.027863</td>\n",
       "      <td>1.905556</td>\n",
       "      <td>1</td>\n",
       "      <td>1</td>\n",
       "    </tr>\n",
       "  </tbody>\n",
       "</table>\n",
       "</div>"
      ],
      "text/plain": [
       "   antecedents consequents  antecedent support  antecedent_sup_abs  \\\n",
       "0   PostgreSQL      Oracle            0.046154            9.092308   \n",
       "1       Oracle  PostgreSQL            0.038462            7.576923   \n",
       "2       Oracle    HyperSQL            0.038462            7.576923   \n",
       "3     HyperSQL      Oracle            0.069231           13.638462   \n",
       "4        MySQL  PostgreSQL            0.120513           23.741026   \n",
       "5   PostgreSQL       MySQL            0.046154            9.092308   \n",
       "6   PostgreSQL    HyperSQL            0.046154            9.092308   \n",
       "7     HyperSQL  PostgreSQL            0.069231           13.638462   \n",
       "8        MySQL      Oracle            0.120513           23.741026   \n",
       "9       Oracle       MySQL            0.038462            7.576923   \n",
       "10    HyperSQL          H2            0.069231           13.638462   \n",
       "11          H2    HyperSQL            0.066667           13.133333   \n",
       "12       MySQL    HyperSQL            0.120513           23.741026   \n",
       "13    HyperSQL       MySQL            0.069231           13.638462   \n",
       "14       MySQL          H2            0.120513           23.741026   \n",
       "15          H2       MySQL            0.066667           13.133333   \n",
       "\n",
       "    consequent support  consequent_sup_abs   support  support_abs  confidence  \\\n",
       "0             0.038462            7.576923  0.023077     4.546154    0.500000   \n",
       "1             0.046154            9.092308  0.023077     4.546154    0.600000   \n",
       "2             0.069231           13.638462  0.023077     4.546154    0.600000   \n",
       "3             0.038462            7.576923  0.023077     4.546154    0.333333   \n",
       "4             0.046154            9.092308  0.041026     8.082051    0.340426   \n",
       "5             0.120513           23.741026  0.041026     8.082051    0.888889   \n",
       "6             0.069231           13.638462  0.023077     4.546154    0.500000   \n",
       "7             0.046154            9.092308  0.023077     4.546154    0.333333   \n",
       "8             0.038462            7.576923  0.030769     6.061538    0.255319   \n",
       "9             0.120513           23.741026  0.030769     6.061538    0.800000   \n",
       "10            0.066667           13.133333  0.028205     5.556410    0.407407   \n",
       "11            0.069231           13.638462  0.028205     5.556410    0.423077   \n",
       "12            0.069231           13.638462  0.046154     9.092308    0.382979   \n",
       "13            0.120513           23.741026  0.046154     9.092308    0.666667   \n",
       "14            0.066667           13.133333  0.035897     7.071795    0.297872   \n",
       "15            0.120513           23.741026  0.035897     7.071795    0.538462   \n",
       "\n",
       "         lift  leverage  conviction  antecedent_len  consequente_len  \n",
       "0   13.000000  0.021302    1.923077               1                1  \n",
       "1   13.000000  0.021302    2.384615               1                1  \n",
       "2    8.666667  0.020414    2.326923               1                1  \n",
       "3    8.666667  0.020414    1.442308               1                1  \n",
       "4    7.375887  0.035464    1.446154               1                1  \n",
       "5    7.375887  0.035464    7.915385               1                1  \n",
       "6    7.222222  0.019882    1.861538               1                1  \n",
       "7    7.222222  0.019882    1.430769               1                1  \n",
       "8    6.638298  0.026134    1.291209               1                1  \n",
       "9    6.638298  0.026134    4.397436               1                1  \n",
       "10   6.111111  0.023590    1.575000               1                1  \n",
       "11   6.111111  0.023590    1.613333               1                1  \n",
       "12   5.531915  0.037811    1.508488               1                1  \n",
       "13   5.531915  0.037811    2.638462               1                1  \n",
       "14   4.468085  0.027863    1.329293               1                1  \n",
       "15   4.468085  0.027863    1.905556               1                1  "
      ]
     },
     "execution_count": 5,
     "metadata": {},
     "output_type": "execute_result"
    }
   ],
   "source": [
    "#Create a new columns\n",
    "df.insert(3,'antecedent_sup_abs', 0, True)\n",
    "df.insert(5,'consequent_sup_abs', 0, True)\n",
    "df.insert(7,'support_abs', 0, True)\n",
    "\n",
    "#Converting the support relative values in absolut values\n",
    "df['antecedent_sup_abs'] = (df['antecedent support']*projectsWithBD)\n",
    "df['consequent_sup_abs'] = (df['consequent support']*projectsWithBD)\n",
    "df['support_abs'] = (df['support']*projectsWithBD)\n",
    "df"
   ]
  },
  {
   "cell_type": "code",
   "execution_count": 6,
   "metadata": {},
   "outputs": [
    {
     "data": {
      "text/html": [
       "<div>\n",
       "<style scoped>\n",
       "    .dataframe tbody tr th:only-of-type {\n",
       "        vertical-align: middle;\n",
       "    }\n",
       "\n",
       "    .dataframe tbody tr th {\n",
       "        vertical-align: top;\n",
       "    }\n",
       "\n",
       "    .dataframe thead th {\n",
       "        text-align: right;\n",
       "    }\n",
       "</style>\n",
       "<table border=\"1\" class=\"dataframe\">\n",
       "  <thead>\n",
       "    <tr style=\"text-align: right;\">\n",
       "      <th></th>\n",
       "      <th>antecedents</th>\n",
       "      <th>consequents</th>\n",
       "      <th>antecedent support</th>\n",
       "      <th>antecedent_sup_abs</th>\n",
       "      <th>consequent support</th>\n",
       "      <th>consequent_sup_abs</th>\n",
       "      <th>support</th>\n",
       "      <th>support_abs</th>\n",
       "      <th>confidence</th>\n",
       "      <th>lift</th>\n",
       "      <th>leverage</th>\n",
       "      <th>conviction</th>\n",
       "      <th>antecedent_len</th>\n",
       "      <th>consequente_len</th>\n",
       "    </tr>\n",
       "  </thead>\n",
       "  <tbody>\n",
       "    <tr>\n",
       "      <th>0</th>\n",
       "      <td>PostgreSQL</td>\n",
       "      <td>Oracle</td>\n",
       "      <td>0.046154</td>\n",
       "      <td>9.092308</td>\n",
       "      <td>0.038462</td>\n",
       "      <td>7.576923</td>\n",
       "      <td>0.023077</td>\n",
       "      <td>4.546154</td>\n",
       "      <td>0.500000</td>\n",
       "      <td>13.000000</td>\n",
       "      <td>0.021302</td>\n",
       "      <td>1.923077</td>\n",
       "      <td>1</td>\n",
       "      <td>1</td>\n",
       "    </tr>\n",
       "    <tr>\n",
       "      <th>1</th>\n",
       "      <td>Oracle</td>\n",
       "      <td>PostgreSQL</td>\n",
       "      <td>0.038462</td>\n",
       "      <td>7.576923</td>\n",
       "      <td>0.046154</td>\n",
       "      <td>9.092308</td>\n",
       "      <td>0.023077</td>\n",
       "      <td>4.546154</td>\n",
       "      <td>0.600000</td>\n",
       "      <td>13.000000</td>\n",
       "      <td>0.021302</td>\n",
       "      <td>2.384615</td>\n",
       "      <td>1</td>\n",
       "      <td>1</td>\n",
       "    </tr>\n",
       "    <tr>\n",
       "      <th>2</th>\n",
       "      <td>Oracle</td>\n",
       "      <td>HyperSQL</td>\n",
       "      <td>0.038462</td>\n",
       "      <td>7.576923</td>\n",
       "      <td>0.069231</td>\n",
       "      <td>13.638462</td>\n",
       "      <td>0.023077</td>\n",
       "      <td>4.546154</td>\n",
       "      <td>0.600000</td>\n",
       "      <td>8.666667</td>\n",
       "      <td>0.020414</td>\n",
       "      <td>2.326923</td>\n",
       "      <td>1</td>\n",
       "      <td>1</td>\n",
       "    </tr>\n",
       "    <tr>\n",
       "      <th>3</th>\n",
       "      <td>HyperSQL</td>\n",
       "      <td>Oracle</td>\n",
       "      <td>0.069231</td>\n",
       "      <td>13.638462</td>\n",
       "      <td>0.038462</td>\n",
       "      <td>7.576923</td>\n",
       "      <td>0.023077</td>\n",
       "      <td>4.546154</td>\n",
       "      <td>0.333333</td>\n",
       "      <td>8.666667</td>\n",
       "      <td>0.020414</td>\n",
       "      <td>1.442308</td>\n",
       "      <td>1</td>\n",
       "      <td>1</td>\n",
       "    </tr>\n",
       "    <tr>\n",
       "      <th>4</th>\n",
       "      <td>MySQL</td>\n",
       "      <td>PostgreSQL</td>\n",
       "      <td>0.120513</td>\n",
       "      <td>23.741026</td>\n",
       "      <td>0.046154</td>\n",
       "      <td>9.092308</td>\n",
       "      <td>0.041026</td>\n",
       "      <td>8.082051</td>\n",
       "      <td>0.340426</td>\n",
       "      <td>7.375887</td>\n",
       "      <td>0.035464</td>\n",
       "      <td>1.446154</td>\n",
       "      <td>1</td>\n",
       "      <td>1</td>\n",
       "    </tr>\n",
       "    <tr>\n",
       "      <th>5</th>\n",
       "      <td>PostgreSQL</td>\n",
       "      <td>MySQL</td>\n",
       "      <td>0.046154</td>\n",
       "      <td>9.092308</td>\n",
       "      <td>0.120513</td>\n",
       "      <td>23.741026</td>\n",
       "      <td>0.041026</td>\n",
       "      <td>8.082051</td>\n",
       "      <td>0.888889</td>\n",
       "      <td>7.375887</td>\n",
       "      <td>0.035464</td>\n",
       "      <td>7.915385</td>\n",
       "      <td>1</td>\n",
       "      <td>1</td>\n",
       "    </tr>\n",
       "    <tr>\n",
       "      <th>6</th>\n",
       "      <td>PostgreSQL</td>\n",
       "      <td>HyperSQL</td>\n",
       "      <td>0.046154</td>\n",
       "      <td>9.092308</td>\n",
       "      <td>0.069231</td>\n",
       "      <td>13.638462</td>\n",
       "      <td>0.023077</td>\n",
       "      <td>4.546154</td>\n",
       "      <td>0.500000</td>\n",
       "      <td>7.222222</td>\n",
       "      <td>0.019882</td>\n",
       "      <td>1.861538</td>\n",
       "      <td>1</td>\n",
       "      <td>1</td>\n",
       "    </tr>\n",
       "    <tr>\n",
       "      <th>7</th>\n",
       "      <td>HyperSQL</td>\n",
       "      <td>PostgreSQL</td>\n",
       "      <td>0.069231</td>\n",
       "      <td>13.638462</td>\n",
       "      <td>0.046154</td>\n",
       "      <td>9.092308</td>\n",
       "      <td>0.023077</td>\n",
       "      <td>4.546154</td>\n",
       "      <td>0.333333</td>\n",
       "      <td>7.222222</td>\n",
       "      <td>0.019882</td>\n",
       "      <td>1.430769</td>\n",
       "      <td>1</td>\n",
       "      <td>1</td>\n",
       "    </tr>\n",
       "    <tr>\n",
       "      <th>8</th>\n",
       "      <td>MySQL</td>\n",
       "      <td>Oracle</td>\n",
       "      <td>0.120513</td>\n",
       "      <td>23.741026</td>\n",
       "      <td>0.038462</td>\n",
       "      <td>7.576923</td>\n",
       "      <td>0.030769</td>\n",
       "      <td>6.061538</td>\n",
       "      <td>0.255319</td>\n",
       "      <td>6.638298</td>\n",
       "      <td>0.026134</td>\n",
       "      <td>1.291209</td>\n",
       "      <td>1</td>\n",
       "      <td>1</td>\n",
       "    </tr>\n",
       "    <tr>\n",
       "      <th>9</th>\n",
       "      <td>Oracle</td>\n",
       "      <td>MySQL</td>\n",
       "      <td>0.038462</td>\n",
       "      <td>7.576923</td>\n",
       "      <td>0.120513</td>\n",
       "      <td>23.741026</td>\n",
       "      <td>0.030769</td>\n",
       "      <td>6.061538</td>\n",
       "      <td>0.800000</td>\n",
       "      <td>6.638298</td>\n",
       "      <td>0.026134</td>\n",
       "      <td>4.397436</td>\n",
       "      <td>1</td>\n",
       "      <td>1</td>\n",
       "    </tr>\n",
       "    <tr>\n",
       "      <th>10</th>\n",
       "      <td>HyperSQL</td>\n",
       "      <td>H2</td>\n",
       "      <td>0.069231</td>\n",
       "      <td>13.638462</td>\n",
       "      <td>0.066667</td>\n",
       "      <td>13.133333</td>\n",
       "      <td>0.028205</td>\n",
       "      <td>5.556410</td>\n",
       "      <td>0.407407</td>\n",
       "      <td>6.111111</td>\n",
       "      <td>0.023590</td>\n",
       "      <td>1.575000</td>\n",
       "      <td>1</td>\n",
       "      <td>1</td>\n",
       "    </tr>\n",
       "    <tr>\n",
       "      <th>11</th>\n",
       "      <td>H2</td>\n",
       "      <td>HyperSQL</td>\n",
       "      <td>0.066667</td>\n",
       "      <td>13.133333</td>\n",
       "      <td>0.069231</td>\n",
       "      <td>13.638462</td>\n",
       "      <td>0.028205</td>\n",
       "      <td>5.556410</td>\n",
       "      <td>0.423077</td>\n",
       "      <td>6.111111</td>\n",
       "      <td>0.023590</td>\n",
       "      <td>1.613333</td>\n",
       "      <td>1</td>\n",
       "      <td>1</td>\n",
       "    </tr>\n",
       "    <tr>\n",
       "      <th>12</th>\n",
       "      <td>MySQL</td>\n",
       "      <td>HyperSQL</td>\n",
       "      <td>0.120513</td>\n",
       "      <td>23.741026</td>\n",
       "      <td>0.069231</td>\n",
       "      <td>13.638462</td>\n",
       "      <td>0.046154</td>\n",
       "      <td>9.092308</td>\n",
       "      <td>0.382979</td>\n",
       "      <td>5.531915</td>\n",
       "      <td>0.037811</td>\n",
       "      <td>1.508488</td>\n",
       "      <td>1</td>\n",
       "      <td>1</td>\n",
       "    </tr>\n",
       "    <tr>\n",
       "      <th>13</th>\n",
       "      <td>HyperSQL</td>\n",
       "      <td>MySQL</td>\n",
       "      <td>0.069231</td>\n",
       "      <td>13.638462</td>\n",
       "      <td>0.120513</td>\n",
       "      <td>23.741026</td>\n",
       "      <td>0.046154</td>\n",
       "      <td>9.092308</td>\n",
       "      <td>0.666667</td>\n",
       "      <td>5.531915</td>\n",
       "      <td>0.037811</td>\n",
       "      <td>2.638462</td>\n",
       "      <td>1</td>\n",
       "      <td>1</td>\n",
       "    </tr>\n",
       "    <tr>\n",
       "      <th>14</th>\n",
       "      <td>MySQL</td>\n",
       "      <td>H2</td>\n",
       "      <td>0.120513</td>\n",
       "      <td>23.741026</td>\n",
       "      <td>0.066667</td>\n",
       "      <td>13.133333</td>\n",
       "      <td>0.035897</td>\n",
       "      <td>7.071795</td>\n",
       "      <td>0.297872</td>\n",
       "      <td>4.468085</td>\n",
       "      <td>0.027863</td>\n",
       "      <td>1.329293</td>\n",
       "      <td>1</td>\n",
       "      <td>1</td>\n",
       "    </tr>\n",
       "    <tr>\n",
       "      <th>15</th>\n",
       "      <td>H2</td>\n",
       "      <td>MySQL</td>\n",
       "      <td>0.066667</td>\n",
       "      <td>13.133333</td>\n",
       "      <td>0.120513</td>\n",
       "      <td>23.741026</td>\n",
       "      <td>0.035897</td>\n",
       "      <td>7.071795</td>\n",
       "      <td>0.538462</td>\n",
       "      <td>4.468085</td>\n",
       "      <td>0.027863</td>\n",
       "      <td>1.905556</td>\n",
       "      <td>1</td>\n",
       "      <td>1</td>\n",
       "    </tr>\n",
       "  </tbody>\n",
       "</table>\n",
       "</div>"
      ],
      "text/plain": [
       "   antecedents consequents  antecedent support  antecedent_sup_abs  \\\n",
       "0   PostgreSQL      Oracle            0.046154            9.092308   \n",
       "1       Oracle  PostgreSQL            0.038462            7.576923   \n",
       "2       Oracle    HyperSQL            0.038462            7.576923   \n",
       "3     HyperSQL      Oracle            0.069231           13.638462   \n",
       "4        MySQL  PostgreSQL            0.120513           23.741026   \n",
       "5   PostgreSQL       MySQL            0.046154            9.092308   \n",
       "6   PostgreSQL    HyperSQL            0.046154            9.092308   \n",
       "7     HyperSQL  PostgreSQL            0.069231           13.638462   \n",
       "8        MySQL      Oracle            0.120513           23.741026   \n",
       "9       Oracle       MySQL            0.038462            7.576923   \n",
       "10    HyperSQL          H2            0.069231           13.638462   \n",
       "11          H2    HyperSQL            0.066667           13.133333   \n",
       "12       MySQL    HyperSQL            0.120513           23.741026   \n",
       "13    HyperSQL       MySQL            0.069231           13.638462   \n",
       "14       MySQL          H2            0.120513           23.741026   \n",
       "15          H2       MySQL            0.066667           13.133333   \n",
       "\n",
       "    consequent support  consequent_sup_abs   support  support_abs  confidence  \\\n",
       "0             0.038462            7.576923  0.023077     4.546154    0.500000   \n",
       "1             0.046154            9.092308  0.023077     4.546154    0.600000   \n",
       "2             0.069231           13.638462  0.023077     4.546154    0.600000   \n",
       "3             0.038462            7.576923  0.023077     4.546154    0.333333   \n",
       "4             0.046154            9.092308  0.041026     8.082051    0.340426   \n",
       "5             0.120513           23.741026  0.041026     8.082051    0.888889   \n",
       "6             0.069231           13.638462  0.023077     4.546154    0.500000   \n",
       "7             0.046154            9.092308  0.023077     4.546154    0.333333   \n",
       "8             0.038462            7.576923  0.030769     6.061538    0.255319   \n",
       "9             0.120513           23.741026  0.030769     6.061538    0.800000   \n",
       "10            0.066667           13.133333  0.028205     5.556410    0.407407   \n",
       "11            0.069231           13.638462  0.028205     5.556410    0.423077   \n",
       "12            0.069231           13.638462  0.046154     9.092308    0.382979   \n",
       "13            0.120513           23.741026  0.046154     9.092308    0.666667   \n",
       "14            0.066667           13.133333  0.035897     7.071795    0.297872   \n",
       "15            0.120513           23.741026  0.035897     7.071795    0.538462   \n",
       "\n",
       "         lift  leverage  conviction  antecedent_len  consequente_len  \n",
       "0   13.000000  0.021302    1.923077               1                1  \n",
       "1   13.000000  0.021302    2.384615               1                1  \n",
       "2    8.666667  0.020414    2.326923               1                1  \n",
       "3    8.666667  0.020414    1.442308               1                1  \n",
       "4    7.375887  0.035464    1.446154               1                1  \n",
       "5    7.375887  0.035464    7.915385               1                1  \n",
       "6    7.222222  0.019882    1.861538               1                1  \n",
       "7    7.222222  0.019882    1.430769               1                1  \n",
       "8    6.638298  0.026134    1.291209               1                1  \n",
       "9    6.638298  0.026134    4.397436               1                1  \n",
       "10   6.111111  0.023590    1.575000               1                1  \n",
       "11   6.111111  0.023590    1.613333               1                1  \n",
       "12   5.531915  0.037811    1.508488               1                1  \n",
       "13   5.531915  0.037811    2.638462               1                1  \n",
       "14   4.468085  0.027863    1.329293               1                1  \n",
       "15   4.468085  0.027863    1.905556               1                1  "
      ]
     },
     "execution_count": 6,
     "metadata": {},
     "output_type": "execute_result"
    }
   ],
   "source": [
    "df2 = df.copy()\n",
    "df2"
   ]
  },
  {
   "attachments": {},
   "cell_type": "markdown",
   "metadata": {},
   "source": [
    "Top 10 BDs Session\n",
    "Presentation of the 10 most frequent BDs (consequents=antecedents)."
   ]
  },
  {
   "cell_type": "code",
   "execution_count": 7,
   "metadata": {},
   "outputs": [
    {
     "data": {
      "text/html": [
       "<div>\n",
       "<style scoped>\n",
       "    .dataframe tbody tr th:only-of-type {\n",
       "        vertical-align: middle;\n",
       "    }\n",
       "\n",
       "    .dataframe tbody tr th {\n",
       "        vertical-align: top;\n",
       "    }\n",
       "\n",
       "    .dataframe thead th {\n",
       "        text-align: right;\n",
       "    }\n",
       "</style>\n",
       "<table border=\"1\" class=\"dataframe\">\n",
       "  <thead>\n",
       "    <tr style=\"text-align: right;\">\n",
       "      <th></th>\n",
       "      <th>antecedents</th>\n",
       "      <th>consequents</th>\n",
       "      <th>antecedent support</th>\n",
       "      <th>antecedent_sup_abs</th>\n",
       "      <th>consequent support</th>\n",
       "      <th>consequent_sup_abs</th>\n",
       "      <th>support</th>\n",
       "      <th>support_abs</th>\n",
       "      <th>confidence</th>\n",
       "      <th>lift</th>\n",
       "      <th>leverage</th>\n",
       "      <th>conviction</th>\n",
       "      <th>antecedent_len</th>\n",
       "      <th>consequente_len</th>\n",
       "    </tr>\n",
       "  </thead>\n",
       "  <tbody>\n",
       "    <tr>\n",
       "      <th>12</th>\n",
       "      <td>MySQL</td>\n",
       "      <td>HyperSQL</td>\n",
       "      <td>0.120513</td>\n",
       "      <td>23.741026</td>\n",
       "      <td>0.069231</td>\n",
       "      <td>13.638462</td>\n",
       "      <td>0.046154</td>\n",
       "      <td>9.092308</td>\n",
       "      <td>0.382979</td>\n",
       "      <td>5.531915</td>\n",
       "      <td>0.037811</td>\n",
       "      <td>1.508488</td>\n",
       "      <td>1</td>\n",
       "      <td>1</td>\n",
       "    </tr>\n",
       "    <tr>\n",
       "      <th>13</th>\n",
       "      <td>HyperSQL</td>\n",
       "      <td>MySQL</td>\n",
       "      <td>0.069231</td>\n",
       "      <td>13.638462</td>\n",
       "      <td>0.120513</td>\n",
       "      <td>23.741026</td>\n",
       "      <td>0.046154</td>\n",
       "      <td>9.092308</td>\n",
       "      <td>0.666667</td>\n",
       "      <td>5.531915</td>\n",
       "      <td>0.037811</td>\n",
       "      <td>2.638462</td>\n",
       "      <td>1</td>\n",
       "      <td>1</td>\n",
       "    </tr>\n",
       "    <tr>\n",
       "      <th>4</th>\n",
       "      <td>MySQL</td>\n",
       "      <td>PostgreSQL</td>\n",
       "      <td>0.120513</td>\n",
       "      <td>23.741026</td>\n",
       "      <td>0.046154</td>\n",
       "      <td>9.092308</td>\n",
       "      <td>0.041026</td>\n",
       "      <td>8.082051</td>\n",
       "      <td>0.340426</td>\n",
       "      <td>7.375887</td>\n",
       "      <td>0.035464</td>\n",
       "      <td>1.446154</td>\n",
       "      <td>1</td>\n",
       "      <td>1</td>\n",
       "    </tr>\n",
       "    <tr>\n",
       "      <th>5</th>\n",
       "      <td>PostgreSQL</td>\n",
       "      <td>MySQL</td>\n",
       "      <td>0.046154</td>\n",
       "      <td>9.092308</td>\n",
       "      <td>0.120513</td>\n",
       "      <td>23.741026</td>\n",
       "      <td>0.041026</td>\n",
       "      <td>8.082051</td>\n",
       "      <td>0.888889</td>\n",
       "      <td>7.375887</td>\n",
       "      <td>0.035464</td>\n",
       "      <td>7.915385</td>\n",
       "      <td>1</td>\n",
       "      <td>1</td>\n",
       "    </tr>\n",
       "    <tr>\n",
       "      <th>14</th>\n",
       "      <td>MySQL</td>\n",
       "      <td>H2</td>\n",
       "      <td>0.120513</td>\n",
       "      <td>23.741026</td>\n",
       "      <td>0.066667</td>\n",
       "      <td>13.133333</td>\n",
       "      <td>0.035897</td>\n",
       "      <td>7.071795</td>\n",
       "      <td>0.297872</td>\n",
       "      <td>4.468085</td>\n",
       "      <td>0.027863</td>\n",
       "      <td>1.329293</td>\n",
       "      <td>1</td>\n",
       "      <td>1</td>\n",
       "    </tr>\n",
       "    <tr>\n",
       "      <th>15</th>\n",
       "      <td>H2</td>\n",
       "      <td>MySQL</td>\n",
       "      <td>0.066667</td>\n",
       "      <td>13.133333</td>\n",
       "      <td>0.120513</td>\n",
       "      <td>23.741026</td>\n",
       "      <td>0.035897</td>\n",
       "      <td>7.071795</td>\n",
       "      <td>0.538462</td>\n",
       "      <td>4.468085</td>\n",
       "      <td>0.027863</td>\n",
       "      <td>1.905556</td>\n",
       "      <td>1</td>\n",
       "      <td>1</td>\n",
       "    </tr>\n",
       "    <tr>\n",
       "      <th>8</th>\n",
       "      <td>MySQL</td>\n",
       "      <td>Oracle</td>\n",
       "      <td>0.120513</td>\n",
       "      <td>23.741026</td>\n",
       "      <td>0.038462</td>\n",
       "      <td>7.576923</td>\n",
       "      <td>0.030769</td>\n",
       "      <td>6.061538</td>\n",
       "      <td>0.255319</td>\n",
       "      <td>6.638298</td>\n",
       "      <td>0.026134</td>\n",
       "      <td>1.291209</td>\n",
       "      <td>1</td>\n",
       "      <td>1</td>\n",
       "    </tr>\n",
       "    <tr>\n",
       "      <th>9</th>\n",
       "      <td>Oracle</td>\n",
       "      <td>MySQL</td>\n",
       "      <td>0.038462</td>\n",
       "      <td>7.576923</td>\n",
       "      <td>0.120513</td>\n",
       "      <td>23.741026</td>\n",
       "      <td>0.030769</td>\n",
       "      <td>6.061538</td>\n",
       "      <td>0.800000</td>\n",
       "      <td>6.638298</td>\n",
       "      <td>0.026134</td>\n",
       "      <td>4.397436</td>\n",
       "      <td>1</td>\n",
       "      <td>1</td>\n",
       "    </tr>\n",
       "    <tr>\n",
       "      <th>10</th>\n",
       "      <td>HyperSQL</td>\n",
       "      <td>H2</td>\n",
       "      <td>0.069231</td>\n",
       "      <td>13.638462</td>\n",
       "      <td>0.066667</td>\n",
       "      <td>13.133333</td>\n",
       "      <td>0.028205</td>\n",
       "      <td>5.556410</td>\n",
       "      <td>0.407407</td>\n",
       "      <td>6.111111</td>\n",
       "      <td>0.023590</td>\n",
       "      <td>1.575000</td>\n",
       "      <td>1</td>\n",
       "      <td>1</td>\n",
       "    </tr>\n",
       "    <tr>\n",
       "      <th>11</th>\n",
       "      <td>H2</td>\n",
       "      <td>HyperSQL</td>\n",
       "      <td>0.066667</td>\n",
       "      <td>13.133333</td>\n",
       "      <td>0.069231</td>\n",
       "      <td>13.638462</td>\n",
       "      <td>0.028205</td>\n",
       "      <td>5.556410</td>\n",
       "      <td>0.423077</td>\n",
       "      <td>6.111111</td>\n",
       "      <td>0.023590</td>\n",
       "      <td>1.613333</td>\n",
       "      <td>1</td>\n",
       "      <td>1</td>\n",
       "    </tr>\n",
       "    <tr>\n",
       "      <th>0</th>\n",
       "      <td>PostgreSQL</td>\n",
       "      <td>Oracle</td>\n",
       "      <td>0.046154</td>\n",
       "      <td>9.092308</td>\n",
       "      <td>0.038462</td>\n",
       "      <td>7.576923</td>\n",
       "      <td>0.023077</td>\n",
       "      <td>4.546154</td>\n",
       "      <td>0.500000</td>\n",
       "      <td>13.000000</td>\n",
       "      <td>0.021302</td>\n",
       "      <td>1.923077</td>\n",
       "      <td>1</td>\n",
       "      <td>1</td>\n",
       "    </tr>\n",
       "    <tr>\n",
       "      <th>1</th>\n",
       "      <td>Oracle</td>\n",
       "      <td>PostgreSQL</td>\n",
       "      <td>0.038462</td>\n",
       "      <td>7.576923</td>\n",
       "      <td>0.046154</td>\n",
       "      <td>9.092308</td>\n",
       "      <td>0.023077</td>\n",
       "      <td>4.546154</td>\n",
       "      <td>0.600000</td>\n",
       "      <td>13.000000</td>\n",
       "      <td>0.021302</td>\n",
       "      <td>2.384615</td>\n",
       "      <td>1</td>\n",
       "      <td>1</td>\n",
       "    </tr>\n",
       "    <tr>\n",
       "      <th>2</th>\n",
       "      <td>Oracle</td>\n",
       "      <td>HyperSQL</td>\n",
       "      <td>0.038462</td>\n",
       "      <td>7.576923</td>\n",
       "      <td>0.069231</td>\n",
       "      <td>13.638462</td>\n",
       "      <td>0.023077</td>\n",
       "      <td>4.546154</td>\n",
       "      <td>0.600000</td>\n",
       "      <td>8.666667</td>\n",
       "      <td>0.020414</td>\n",
       "      <td>2.326923</td>\n",
       "      <td>1</td>\n",
       "      <td>1</td>\n",
       "    </tr>\n",
       "    <tr>\n",
       "      <th>3</th>\n",
       "      <td>HyperSQL</td>\n",
       "      <td>Oracle</td>\n",
       "      <td>0.069231</td>\n",
       "      <td>13.638462</td>\n",
       "      <td>0.038462</td>\n",
       "      <td>7.576923</td>\n",
       "      <td>0.023077</td>\n",
       "      <td>4.546154</td>\n",
       "      <td>0.333333</td>\n",
       "      <td>8.666667</td>\n",
       "      <td>0.020414</td>\n",
       "      <td>1.442308</td>\n",
       "      <td>1</td>\n",
       "      <td>1</td>\n",
       "    </tr>\n",
       "    <tr>\n",
       "      <th>6</th>\n",
       "      <td>PostgreSQL</td>\n",
       "      <td>HyperSQL</td>\n",
       "      <td>0.046154</td>\n",
       "      <td>9.092308</td>\n",
       "      <td>0.069231</td>\n",
       "      <td>13.638462</td>\n",
       "      <td>0.023077</td>\n",
       "      <td>4.546154</td>\n",
       "      <td>0.500000</td>\n",
       "      <td>7.222222</td>\n",
       "      <td>0.019882</td>\n",
       "      <td>1.861538</td>\n",
       "      <td>1</td>\n",
       "      <td>1</td>\n",
       "    </tr>\n",
       "    <tr>\n",
       "      <th>7</th>\n",
       "      <td>HyperSQL</td>\n",
       "      <td>PostgreSQL</td>\n",
       "      <td>0.069231</td>\n",
       "      <td>13.638462</td>\n",
       "      <td>0.046154</td>\n",
       "      <td>9.092308</td>\n",
       "      <td>0.023077</td>\n",
       "      <td>4.546154</td>\n",
       "      <td>0.333333</td>\n",
       "      <td>7.222222</td>\n",
       "      <td>0.019882</td>\n",
       "      <td>1.430769</td>\n",
       "      <td>1</td>\n",
       "      <td>1</td>\n",
       "    </tr>\n",
       "  </tbody>\n",
       "</table>\n",
       "</div>"
      ],
      "text/plain": [
       "   antecedents consequents  antecedent support  antecedent_sup_abs  \\\n",
       "12       MySQL    HyperSQL            0.120513           23.741026   \n",
       "13    HyperSQL       MySQL            0.069231           13.638462   \n",
       "4        MySQL  PostgreSQL            0.120513           23.741026   \n",
       "5   PostgreSQL       MySQL            0.046154            9.092308   \n",
       "14       MySQL          H2            0.120513           23.741026   \n",
       "15          H2       MySQL            0.066667           13.133333   \n",
       "8        MySQL      Oracle            0.120513           23.741026   \n",
       "9       Oracle       MySQL            0.038462            7.576923   \n",
       "10    HyperSQL          H2            0.069231           13.638462   \n",
       "11          H2    HyperSQL            0.066667           13.133333   \n",
       "0   PostgreSQL      Oracle            0.046154            9.092308   \n",
       "1       Oracle  PostgreSQL            0.038462            7.576923   \n",
       "2       Oracle    HyperSQL            0.038462            7.576923   \n",
       "3     HyperSQL      Oracle            0.069231           13.638462   \n",
       "6   PostgreSQL    HyperSQL            0.046154            9.092308   \n",
       "7     HyperSQL  PostgreSQL            0.069231           13.638462   \n",
       "\n",
       "    consequent support  consequent_sup_abs   support  support_abs  confidence  \\\n",
       "12            0.069231           13.638462  0.046154     9.092308    0.382979   \n",
       "13            0.120513           23.741026  0.046154     9.092308    0.666667   \n",
       "4             0.046154            9.092308  0.041026     8.082051    0.340426   \n",
       "5             0.120513           23.741026  0.041026     8.082051    0.888889   \n",
       "14            0.066667           13.133333  0.035897     7.071795    0.297872   \n",
       "15            0.120513           23.741026  0.035897     7.071795    0.538462   \n",
       "8             0.038462            7.576923  0.030769     6.061538    0.255319   \n",
       "9             0.120513           23.741026  0.030769     6.061538    0.800000   \n",
       "10            0.066667           13.133333  0.028205     5.556410    0.407407   \n",
       "11            0.069231           13.638462  0.028205     5.556410    0.423077   \n",
       "0             0.038462            7.576923  0.023077     4.546154    0.500000   \n",
       "1             0.046154            9.092308  0.023077     4.546154    0.600000   \n",
       "2             0.069231           13.638462  0.023077     4.546154    0.600000   \n",
       "3             0.038462            7.576923  0.023077     4.546154    0.333333   \n",
       "6             0.069231           13.638462  0.023077     4.546154    0.500000   \n",
       "7             0.046154            9.092308  0.023077     4.546154    0.333333   \n",
       "\n",
       "         lift  leverage  conviction  antecedent_len  consequente_len  \n",
       "12   5.531915  0.037811    1.508488               1                1  \n",
       "13   5.531915  0.037811    2.638462               1                1  \n",
       "4    7.375887  0.035464    1.446154               1                1  \n",
       "5    7.375887  0.035464    7.915385               1                1  \n",
       "14   4.468085  0.027863    1.329293               1                1  \n",
       "15   4.468085  0.027863    1.905556               1                1  \n",
       "8    6.638298  0.026134    1.291209               1                1  \n",
       "9    6.638298  0.026134    4.397436               1                1  \n",
       "10   6.111111  0.023590    1.575000               1                1  \n",
       "11   6.111111  0.023590    1.613333               1                1  \n",
       "0   13.000000  0.021302    1.923077               1                1  \n",
       "1   13.000000  0.021302    2.384615               1                1  \n",
       "2    8.666667  0.020414    2.326923               1                1  \n",
       "3    8.666667  0.020414    1.442308               1                1  \n",
       "6    7.222222  0.019882    1.861538               1                1  \n",
       "7    7.222222  0.019882    1.430769               1                1  "
      ]
     },
     "execution_count": 7,
     "metadata": {},
     "output_type": "execute_result"
    }
   ],
   "source": [
    "rules1b = df2.sort_values(['support'], ascending=[False])\n",
    "rules1b"
   ]
  },
  {
   "cell_type": "code",
   "execution_count": 8,
   "metadata": {},
   "outputs": [
    {
     "data": {
      "text/html": [
       "<div>\n",
       "<style scoped>\n",
       "    .dataframe tbody tr th:only-of-type {\n",
       "        vertical-align: middle;\n",
       "    }\n",
       "\n",
       "    .dataframe tbody tr th {\n",
       "        vertical-align: top;\n",
       "    }\n",
       "\n",
       "    .dataframe thead th {\n",
       "        text-align: right;\n",
       "    }\n",
       "</style>\n",
       "<table border=\"1\" class=\"dataframe\">\n",
       "  <thead>\n",
       "    <tr style=\"text-align: right;\">\n",
       "      <th></th>\n",
       "      <th>antecedent support</th>\n",
       "      <th>antecedent_sup_abs</th>\n",
       "      <th>consequent support</th>\n",
       "      <th>consequent_sup_abs</th>\n",
       "      <th>support</th>\n",
       "      <th>support_abs</th>\n",
       "      <th>confidence</th>\n",
       "      <th>lift</th>\n",
       "      <th>leverage</th>\n",
       "      <th>conviction</th>\n",
       "      <th>antecedent_len</th>\n",
       "      <th>consequente_len</th>\n",
       "    </tr>\n",
       "    <tr>\n",
       "      <th>antecedents</th>\n",
       "      <th></th>\n",
       "      <th></th>\n",
       "      <th></th>\n",
       "      <th></th>\n",
       "      <th></th>\n",
       "      <th></th>\n",
       "      <th></th>\n",
       "      <th></th>\n",
       "      <th></th>\n",
       "      <th></th>\n",
       "      <th></th>\n",
       "      <th></th>\n",
       "    </tr>\n",
       "  </thead>\n",
       "  <tbody>\n",
       "    <tr>\n",
       "      <th>MySQL</th>\n",
       "      <td>0.120513</td>\n",
       "      <td>23.741026</td>\n",
       "      <td>0.055128</td>\n",
       "      <td>10.860256</td>\n",
       "      <td>0.038462</td>\n",
       "      <td>7.576923</td>\n",
       "      <td>0.319149</td>\n",
       "      <td>6.003546</td>\n",
       "      <td>0.031818</td>\n",
       "      <td>1.393786</td>\n",
       "      <td>1.0</td>\n",
       "      <td>1.0</td>\n",
       "    </tr>\n",
       "  </tbody>\n",
       "</table>\n",
       "</div>"
      ],
      "text/plain": [
       "             antecedent support  antecedent_sup_abs  consequent support  \\\n",
       "antecedents                                                               \n",
       "MySQL                  0.120513           23.741026            0.055128   \n",
       "\n",
       "             consequent_sup_abs   support  support_abs  confidence      lift  \\\n",
       "antecedents                                                                    \n",
       "MySQL                 10.860256  0.038462     7.576923    0.319149  6.003546   \n",
       "\n",
       "             leverage  conviction  antecedent_len  consequente_len  \n",
       "antecedents                                                         \n",
       "MySQL        0.031818    1.393786             1.0              1.0  "
      ]
     },
     "execution_count": 8,
     "metadata": {},
     "output_type": "execute_result"
    }
   ],
   "source": [
    "rules1a = df2[(df2['antecedent support'] >= 0.07)] #& (df['confidence'] > 0.7) ]\n",
    "#rules2 = rules2.sort_values(['consequent support','support'], ascending=[False,False])\n",
    "rules1a = rules1a.groupby('antecedents').mean().sort_values(['antecedent support',], ascending=[False])\n",
    "rules1a"
   ]
  },
  {
   "attachments": {},
   "cell_type": "markdown",
   "metadata": {},
   "source": [
    "Top 10 BDs Session\n",
    "Presentation of the 10 most frequent BDs (consequents=antecedents)."
   ]
  },
  {
   "cell_type": "code",
   "execution_count": 9,
   "metadata": {},
   "outputs": [
    {
     "data": {
      "text/html": [
       "<div>\n",
       "<style scoped>\n",
       "    .dataframe tbody tr th:only-of-type {\n",
       "        vertical-align: middle;\n",
       "    }\n",
       "\n",
       "    .dataframe tbody tr th {\n",
       "        vertical-align: top;\n",
       "    }\n",
       "\n",
       "    .dataframe thead th {\n",
       "        text-align: right;\n",
       "    }\n",
       "</style>\n",
       "<table border=\"1\" class=\"dataframe\">\n",
       "  <thead>\n",
       "    <tr style=\"text-align: right;\">\n",
       "      <th></th>\n",
       "      <th>antecedent support</th>\n",
       "      <th>antecedent_sup_abs</th>\n",
       "      <th>consequent support</th>\n",
       "      <th>consequent_sup_abs</th>\n",
       "      <th>support</th>\n",
       "      <th>support_abs</th>\n",
       "      <th>confidence</th>\n",
       "      <th>lift</th>\n",
       "      <th>leverage</th>\n",
       "      <th>conviction</th>\n",
       "      <th>antecedent_len</th>\n",
       "      <th>consequente_len</th>\n",
       "    </tr>\n",
       "    <tr>\n",
       "      <th>consequents</th>\n",
       "      <th></th>\n",
       "      <th></th>\n",
       "      <th></th>\n",
       "      <th></th>\n",
       "      <th></th>\n",
       "      <th></th>\n",
       "      <th></th>\n",
       "      <th></th>\n",
       "      <th></th>\n",
       "      <th></th>\n",
       "      <th></th>\n",
       "      <th></th>\n",
       "    </tr>\n",
       "  </thead>\n",
       "  <tbody>\n",
       "  </tbody>\n",
       "</table>\n",
       "</div>"
      ],
      "text/plain": [
       "Empty DataFrame\n",
       "Columns: [antecedent support, antecedent_sup_abs, consequent support, consequent_sup_abs, support, support_abs, confidence, lift, leverage, conviction, antecedent_len, consequente_len]\n",
       "Index: []"
      ]
     },
     "execution_count": 9,
     "metadata": {},
     "output_type": "execute_result"
    }
   ],
   "source": [
    "rules1 = df2[(df2['consequent support'] >= 0.13)] #0.07)] #& (df['confidence'] > 0.7) ]\n",
    "#rules2 = rules2.sort_values(['consequent support','support'], ascending=[False,False])\n",
    "rules1 = rules1.groupby('consequents').mean().sort_values(['consequent support',], ascending=[False])\n",
    "rules1"
   ]
  },
  {
   "cell_type": "code",
   "execution_count": 10,
   "metadata": {},
   "outputs": [
    {
     "data": {
      "text/html": [
       "<div>\n",
       "<style scoped>\n",
       "    .dataframe tbody tr th:only-of-type {\n",
       "        vertical-align: middle;\n",
       "    }\n",
       "\n",
       "    .dataframe tbody tr th {\n",
       "        vertical-align: top;\n",
       "    }\n",
       "\n",
       "    .dataframe thead th {\n",
       "        text-align: right;\n",
       "    }\n",
       "</style>\n",
       "<table border=\"1\" class=\"dataframe\">\n",
       "  <thead>\n",
       "    <tr style=\"text-align: right;\">\n",
       "      <th></th>\n",
       "      <th></th>\n",
       "      <th>antecedent support</th>\n",
       "      <th>antecedent_sup_abs</th>\n",
       "      <th>consequent support</th>\n",
       "      <th>consequent_sup_abs</th>\n",
       "      <th>support</th>\n",
       "      <th>support_abs</th>\n",
       "      <th>confidence</th>\n",
       "      <th>lift</th>\n",
       "      <th>leverage</th>\n",
       "      <th>conviction</th>\n",
       "      <th>antecedent_len</th>\n",
       "      <th>consequente_len</th>\n",
       "    </tr>\n",
       "    <tr>\n",
       "      <th>antecedents</th>\n",
       "      <th>consequents</th>\n",
       "      <th></th>\n",
       "      <th></th>\n",
       "      <th></th>\n",
       "      <th></th>\n",
       "      <th></th>\n",
       "      <th></th>\n",
       "      <th></th>\n",
       "      <th></th>\n",
       "      <th></th>\n",
       "      <th></th>\n",
       "      <th></th>\n",
       "      <th></th>\n",
       "    </tr>\n",
       "  </thead>\n",
       "  <tbody>\n",
       "    <tr>\n",
       "      <th>HyperSQL</th>\n",
       "      <th>MySQL</th>\n",
       "      <td>0.069231</td>\n",
       "      <td>13.638462</td>\n",
       "      <td>0.120513</td>\n",
       "      <td>23.741026</td>\n",
       "      <td>0.046154</td>\n",
       "      <td>9.092308</td>\n",
       "      <td>0.666667</td>\n",
       "      <td>5.531915</td>\n",
       "      <td>0.037811</td>\n",
       "      <td>2.638462</td>\n",
       "      <td>1.0</td>\n",
       "      <td>1.0</td>\n",
       "    </tr>\n",
       "    <tr>\n",
       "      <th rowspan=\"2\" valign=\"top\">MySQL</th>\n",
       "      <th>HyperSQL</th>\n",
       "      <td>0.120513</td>\n",
       "      <td>23.741026</td>\n",
       "      <td>0.069231</td>\n",
       "      <td>13.638462</td>\n",
       "      <td>0.046154</td>\n",
       "      <td>9.092308</td>\n",
       "      <td>0.382979</td>\n",
       "      <td>5.531915</td>\n",
       "      <td>0.037811</td>\n",
       "      <td>1.508488</td>\n",
       "      <td>1.0</td>\n",
       "      <td>1.0</td>\n",
       "    </tr>\n",
       "    <tr>\n",
       "      <th>PostgreSQL</th>\n",
       "      <td>0.120513</td>\n",
       "      <td>23.741026</td>\n",
       "      <td>0.046154</td>\n",
       "      <td>9.092308</td>\n",
       "      <td>0.041026</td>\n",
       "      <td>8.082051</td>\n",
       "      <td>0.340426</td>\n",
       "      <td>7.375887</td>\n",
       "      <td>0.035464</td>\n",
       "      <td>1.446154</td>\n",
       "      <td>1.0</td>\n",
       "      <td>1.0</td>\n",
       "    </tr>\n",
       "    <tr>\n",
       "      <th>PostgreSQL</th>\n",
       "      <th>MySQL</th>\n",
       "      <td>0.046154</td>\n",
       "      <td>9.092308</td>\n",
       "      <td>0.120513</td>\n",
       "      <td>23.741026</td>\n",
       "      <td>0.041026</td>\n",
       "      <td>8.082051</td>\n",
       "      <td>0.888889</td>\n",
       "      <td>7.375887</td>\n",
       "      <td>0.035464</td>\n",
       "      <td>7.915385</td>\n",
       "      <td>1.0</td>\n",
       "      <td>1.0</td>\n",
       "    </tr>\n",
       "    <tr>\n",
       "      <th>H2</th>\n",
       "      <th>MySQL</th>\n",
       "      <td>0.066667</td>\n",
       "      <td>13.133333</td>\n",
       "      <td>0.120513</td>\n",
       "      <td>23.741026</td>\n",
       "      <td>0.035897</td>\n",
       "      <td>7.071795</td>\n",
       "      <td>0.538462</td>\n",
       "      <td>4.468085</td>\n",
       "      <td>0.027863</td>\n",
       "      <td>1.905556</td>\n",
       "      <td>1.0</td>\n",
       "      <td>1.0</td>\n",
       "    </tr>\n",
       "    <tr>\n",
       "      <th rowspan=\"2\" valign=\"top\">MySQL</th>\n",
       "      <th>H2</th>\n",
       "      <td>0.120513</td>\n",
       "      <td>23.741026</td>\n",
       "      <td>0.066667</td>\n",
       "      <td>13.133333</td>\n",
       "      <td>0.035897</td>\n",
       "      <td>7.071795</td>\n",
       "      <td>0.297872</td>\n",
       "      <td>4.468085</td>\n",
       "      <td>0.027863</td>\n",
       "      <td>1.329293</td>\n",
       "      <td>1.0</td>\n",
       "      <td>1.0</td>\n",
       "    </tr>\n",
       "    <tr>\n",
       "      <th>Oracle</th>\n",
       "      <td>0.120513</td>\n",
       "      <td>23.741026</td>\n",
       "      <td>0.038462</td>\n",
       "      <td>7.576923</td>\n",
       "      <td>0.030769</td>\n",
       "      <td>6.061538</td>\n",
       "      <td>0.255319</td>\n",
       "      <td>6.638298</td>\n",
       "      <td>0.026134</td>\n",
       "      <td>1.291209</td>\n",
       "      <td>1.0</td>\n",
       "      <td>1.0</td>\n",
       "    </tr>\n",
       "    <tr>\n",
       "      <th>Oracle</th>\n",
       "      <th>MySQL</th>\n",
       "      <td>0.038462</td>\n",
       "      <td>7.576923</td>\n",
       "      <td>0.120513</td>\n",
       "      <td>23.741026</td>\n",
       "      <td>0.030769</td>\n",
       "      <td>6.061538</td>\n",
       "      <td>0.800000</td>\n",
       "      <td>6.638298</td>\n",
       "      <td>0.026134</td>\n",
       "      <td>4.397436</td>\n",
       "      <td>1.0</td>\n",
       "      <td>1.0</td>\n",
       "    </tr>\n",
       "    <tr>\n",
       "      <th>H2</th>\n",
       "      <th>HyperSQL</th>\n",
       "      <td>0.066667</td>\n",
       "      <td>13.133333</td>\n",
       "      <td>0.069231</td>\n",
       "      <td>13.638462</td>\n",
       "      <td>0.028205</td>\n",
       "      <td>5.556410</td>\n",
       "      <td>0.423077</td>\n",
       "      <td>6.111111</td>\n",
       "      <td>0.023590</td>\n",
       "      <td>1.613333</td>\n",
       "      <td>1.0</td>\n",
       "      <td>1.0</td>\n",
       "    </tr>\n",
       "    <tr>\n",
       "      <th rowspan=\"3\" valign=\"top\">HyperSQL</th>\n",
       "      <th>H2</th>\n",
       "      <td>0.069231</td>\n",
       "      <td>13.638462</td>\n",
       "      <td>0.066667</td>\n",
       "      <td>13.133333</td>\n",
       "      <td>0.028205</td>\n",
       "      <td>5.556410</td>\n",
       "      <td>0.407407</td>\n",
       "      <td>6.111111</td>\n",
       "      <td>0.023590</td>\n",
       "      <td>1.575000</td>\n",
       "      <td>1.0</td>\n",
       "      <td>1.0</td>\n",
       "    </tr>\n",
       "    <tr>\n",
       "      <th>Oracle</th>\n",
       "      <td>0.069231</td>\n",
       "      <td>13.638462</td>\n",
       "      <td>0.038462</td>\n",
       "      <td>7.576923</td>\n",
       "      <td>0.023077</td>\n",
       "      <td>4.546154</td>\n",
       "      <td>0.333333</td>\n",
       "      <td>8.666667</td>\n",
       "      <td>0.020414</td>\n",
       "      <td>1.442308</td>\n",
       "      <td>1.0</td>\n",
       "      <td>1.0</td>\n",
       "    </tr>\n",
       "    <tr>\n",
       "      <th>PostgreSQL</th>\n",
       "      <td>0.069231</td>\n",
       "      <td>13.638462</td>\n",
       "      <td>0.046154</td>\n",
       "      <td>9.092308</td>\n",
       "      <td>0.023077</td>\n",
       "      <td>4.546154</td>\n",
       "      <td>0.333333</td>\n",
       "      <td>7.222222</td>\n",
       "      <td>0.019882</td>\n",
       "      <td>1.430769</td>\n",
       "      <td>1.0</td>\n",
       "      <td>1.0</td>\n",
       "    </tr>\n",
       "    <tr>\n",
       "      <th rowspan=\"2\" valign=\"top\">Oracle</th>\n",
       "      <th>HyperSQL</th>\n",
       "      <td>0.038462</td>\n",
       "      <td>7.576923</td>\n",
       "      <td>0.069231</td>\n",
       "      <td>13.638462</td>\n",
       "      <td>0.023077</td>\n",
       "      <td>4.546154</td>\n",
       "      <td>0.600000</td>\n",
       "      <td>8.666667</td>\n",
       "      <td>0.020414</td>\n",
       "      <td>2.326923</td>\n",
       "      <td>1.0</td>\n",
       "      <td>1.0</td>\n",
       "    </tr>\n",
       "    <tr>\n",
       "      <th>PostgreSQL</th>\n",
       "      <td>0.038462</td>\n",
       "      <td>7.576923</td>\n",
       "      <td>0.046154</td>\n",
       "      <td>9.092308</td>\n",
       "      <td>0.023077</td>\n",
       "      <td>4.546154</td>\n",
       "      <td>0.600000</td>\n",
       "      <td>13.000000</td>\n",
       "      <td>0.021302</td>\n",
       "      <td>2.384615</td>\n",
       "      <td>1.0</td>\n",
       "      <td>1.0</td>\n",
       "    </tr>\n",
       "    <tr>\n",
       "      <th rowspan=\"2\" valign=\"top\">PostgreSQL</th>\n",
       "      <th>HyperSQL</th>\n",
       "      <td>0.046154</td>\n",
       "      <td>9.092308</td>\n",
       "      <td>0.069231</td>\n",
       "      <td>13.638462</td>\n",
       "      <td>0.023077</td>\n",
       "      <td>4.546154</td>\n",
       "      <td>0.500000</td>\n",
       "      <td>7.222222</td>\n",
       "      <td>0.019882</td>\n",
       "      <td>1.861538</td>\n",
       "      <td>1.0</td>\n",
       "      <td>1.0</td>\n",
       "    </tr>\n",
       "    <tr>\n",
       "      <th>Oracle</th>\n",
       "      <td>0.046154</td>\n",
       "      <td>9.092308</td>\n",
       "      <td>0.038462</td>\n",
       "      <td>7.576923</td>\n",
       "      <td>0.023077</td>\n",
       "      <td>4.546154</td>\n",
       "      <td>0.500000</td>\n",
       "      <td>13.000000</td>\n",
       "      <td>0.021302</td>\n",
       "      <td>1.923077</td>\n",
       "      <td>1.0</td>\n",
       "      <td>1.0</td>\n",
       "    </tr>\n",
       "  </tbody>\n",
       "</table>\n",
       "</div>"
      ],
      "text/plain": [
       "                         antecedent support  antecedent_sup_abs  \\\n",
       "antecedents consequents                                           \n",
       "HyperSQL    MySQL                  0.069231           13.638462   \n",
       "MySQL       HyperSQL               0.120513           23.741026   \n",
       "            PostgreSQL             0.120513           23.741026   \n",
       "PostgreSQL  MySQL                  0.046154            9.092308   \n",
       "H2          MySQL                  0.066667           13.133333   \n",
       "MySQL       H2                     0.120513           23.741026   \n",
       "            Oracle                 0.120513           23.741026   \n",
       "Oracle      MySQL                  0.038462            7.576923   \n",
       "H2          HyperSQL               0.066667           13.133333   \n",
       "HyperSQL    H2                     0.069231           13.638462   \n",
       "            Oracle                 0.069231           13.638462   \n",
       "            PostgreSQL             0.069231           13.638462   \n",
       "Oracle      HyperSQL               0.038462            7.576923   \n",
       "            PostgreSQL             0.038462            7.576923   \n",
       "PostgreSQL  HyperSQL               0.046154            9.092308   \n",
       "            Oracle                 0.046154            9.092308   \n",
       "\n",
       "                         consequent support  consequent_sup_abs   support  \\\n",
       "antecedents consequents                                                     \n",
       "HyperSQL    MySQL                  0.120513           23.741026  0.046154   \n",
       "MySQL       HyperSQL               0.069231           13.638462  0.046154   \n",
       "            PostgreSQL             0.046154            9.092308  0.041026   \n",
       "PostgreSQL  MySQL                  0.120513           23.741026  0.041026   \n",
       "H2          MySQL                  0.120513           23.741026  0.035897   \n",
       "MySQL       H2                     0.066667           13.133333  0.035897   \n",
       "            Oracle                 0.038462            7.576923  0.030769   \n",
       "Oracle      MySQL                  0.120513           23.741026  0.030769   \n",
       "H2          HyperSQL               0.069231           13.638462  0.028205   \n",
       "HyperSQL    H2                     0.066667           13.133333  0.028205   \n",
       "            Oracle                 0.038462            7.576923  0.023077   \n",
       "            PostgreSQL             0.046154            9.092308  0.023077   \n",
       "Oracle      HyperSQL               0.069231           13.638462  0.023077   \n",
       "            PostgreSQL             0.046154            9.092308  0.023077   \n",
       "PostgreSQL  HyperSQL               0.069231           13.638462  0.023077   \n",
       "            Oracle                 0.038462            7.576923  0.023077   \n",
       "\n",
       "                         support_abs  confidence       lift  leverage  \\\n",
       "antecedents consequents                                                 \n",
       "HyperSQL    MySQL           9.092308    0.666667   5.531915  0.037811   \n",
       "MySQL       HyperSQL        9.092308    0.382979   5.531915  0.037811   \n",
       "            PostgreSQL      8.082051    0.340426   7.375887  0.035464   \n",
       "PostgreSQL  MySQL           8.082051    0.888889   7.375887  0.035464   \n",
       "H2          MySQL           7.071795    0.538462   4.468085  0.027863   \n",
       "MySQL       H2              7.071795    0.297872   4.468085  0.027863   \n",
       "            Oracle          6.061538    0.255319   6.638298  0.026134   \n",
       "Oracle      MySQL           6.061538    0.800000   6.638298  0.026134   \n",
       "H2          HyperSQL        5.556410    0.423077   6.111111  0.023590   \n",
       "HyperSQL    H2              5.556410    0.407407   6.111111  0.023590   \n",
       "            Oracle          4.546154    0.333333   8.666667  0.020414   \n",
       "            PostgreSQL      4.546154    0.333333   7.222222  0.019882   \n",
       "Oracle      HyperSQL        4.546154    0.600000   8.666667  0.020414   \n",
       "            PostgreSQL      4.546154    0.600000  13.000000  0.021302   \n",
       "PostgreSQL  HyperSQL        4.546154    0.500000   7.222222  0.019882   \n",
       "            Oracle          4.546154    0.500000  13.000000  0.021302   \n",
       "\n",
       "                         conviction  antecedent_len  consequente_len  \n",
       "antecedents consequents                                               \n",
       "HyperSQL    MySQL          2.638462             1.0              1.0  \n",
       "MySQL       HyperSQL       1.508488             1.0              1.0  \n",
       "            PostgreSQL     1.446154             1.0              1.0  \n",
       "PostgreSQL  MySQL          7.915385             1.0              1.0  \n",
       "H2          MySQL          1.905556             1.0              1.0  \n",
       "MySQL       H2             1.329293             1.0              1.0  \n",
       "            Oracle         1.291209             1.0              1.0  \n",
       "Oracle      MySQL          4.397436             1.0              1.0  \n",
       "H2          HyperSQL       1.613333             1.0              1.0  \n",
       "HyperSQL    H2             1.575000             1.0              1.0  \n",
       "            Oracle         1.442308             1.0              1.0  \n",
       "            PostgreSQL     1.430769             1.0              1.0  \n",
       "Oracle      HyperSQL       2.326923             1.0              1.0  \n",
       "            PostgreSQL     2.384615             1.0              1.0  \n",
       "PostgreSQL  HyperSQL       1.861538             1.0              1.0  \n",
       "            Oracle         1.923077             1.0              1.0  "
      ]
     },
     "execution_count": 10,
     "metadata": {},
     "output_type": "execute_result"
    }
   ],
   "source": [
    "rules1c = df2.groupby(['antecedents','consequents']).mean().sort_values(['support',], ascending=[False])\n",
    "\n",
    "#sum().plot(kind='line')\n",
    "\n",
    "#rules1c = rules1c[(rules1c['support'] >= 0.03)] \n",
    "rules1c"
   ]
  },
  {
   "cell_type": "code",
   "execution_count": 40,
   "metadata": {},
   "outputs": [],
   "source": [
    "#if you need to generate the rules in excel\n",
    "#rules_filter = rules1c.to_excel('rules_filtersv1.xlsx', index=False)"
   ]
  },
  {
   "cell_type": "code",
   "execution_count": 11,
   "metadata": {},
   "outputs": [
    {
     "data": {
      "text/html": [
       "<div>\n",
       "<style scoped>\n",
       "    .dataframe tbody tr th:only-of-type {\n",
       "        vertical-align: middle;\n",
       "    }\n",
       "\n",
       "    .dataframe tbody tr th {\n",
       "        vertical-align: top;\n",
       "    }\n",
       "\n",
       "    .dataframe thead th {\n",
       "        text-align: right;\n",
       "    }\n",
       "</style>\n",
       "<table border=\"1\" class=\"dataframe\">\n",
       "  <thead>\n",
       "    <tr style=\"text-align: right;\">\n",
       "      <th></th>\n",
       "      <th></th>\n",
       "      <th>antecedent support</th>\n",
       "      <th>antecedent_sup_abs</th>\n",
       "      <th>consequent support</th>\n",
       "      <th>consequent_sup_abs</th>\n",
       "      <th>support</th>\n",
       "      <th>support_abs</th>\n",
       "      <th>confidence</th>\n",
       "      <th>lift</th>\n",
       "      <th>leverage</th>\n",
       "      <th>conviction</th>\n",
       "      <th>antecedent_len</th>\n",
       "      <th>consequente_len</th>\n",
       "    </tr>\n",
       "    <tr>\n",
       "      <th>antecedents</th>\n",
       "      <th>consequents</th>\n",
       "      <th></th>\n",
       "      <th></th>\n",
       "      <th></th>\n",
       "      <th></th>\n",
       "      <th></th>\n",
       "      <th></th>\n",
       "      <th></th>\n",
       "      <th></th>\n",
       "      <th></th>\n",
       "      <th></th>\n",
       "      <th></th>\n",
       "      <th></th>\n",
       "    </tr>\n",
       "  </thead>\n",
       "  <tbody>\n",
       "    <tr>\n",
       "      <th>HyperSQL</th>\n",
       "      <th>MySQL</th>\n",
       "      <td>0.069231</td>\n",
       "      <td>13.638462</td>\n",
       "      <td>0.120513</td>\n",
       "      <td>23.741026</td>\n",
       "      <td>0.046154</td>\n",
       "      <td>9.092308</td>\n",
       "      <td>0.666667</td>\n",
       "      <td>5.531915</td>\n",
       "      <td>0.037811</td>\n",
       "      <td>2.638462</td>\n",
       "      <td>1.0</td>\n",
       "      <td>1.0</td>\n",
       "    </tr>\n",
       "    <tr>\n",
       "      <th>MySQL</th>\n",
       "      <th>PostgreSQL</th>\n",
       "      <td>0.120513</td>\n",
       "      <td>23.741026</td>\n",
       "      <td>0.046154</td>\n",
       "      <td>9.092308</td>\n",
       "      <td>0.041026</td>\n",
       "      <td>8.082051</td>\n",
       "      <td>0.340426</td>\n",
       "      <td>7.375887</td>\n",
       "      <td>0.035464</td>\n",
       "      <td>1.446154</td>\n",
       "      <td>1.0</td>\n",
       "      <td>1.0</td>\n",
       "    </tr>\n",
       "    <tr>\n",
       "      <th>H2</th>\n",
       "      <th>MySQL</th>\n",
       "      <td>0.066667</td>\n",
       "      <td>13.133333</td>\n",
       "      <td>0.120513</td>\n",
       "      <td>23.741026</td>\n",
       "      <td>0.035897</td>\n",
       "      <td>7.071795</td>\n",
       "      <td>0.538462</td>\n",
       "      <td>4.468085</td>\n",
       "      <td>0.027863</td>\n",
       "      <td>1.905556</td>\n",
       "      <td>1.0</td>\n",
       "      <td>1.0</td>\n",
       "    </tr>\n",
       "    <tr>\n",
       "      <th>MySQL</th>\n",
       "      <th>Oracle</th>\n",
       "      <td>0.120513</td>\n",
       "      <td>23.741026</td>\n",
       "      <td>0.038462</td>\n",
       "      <td>7.576923</td>\n",
       "      <td>0.030769</td>\n",
       "      <td>6.061538</td>\n",
       "      <td>0.255319</td>\n",
       "      <td>6.638298</td>\n",
       "      <td>0.026134</td>\n",
       "      <td>1.291209</td>\n",
       "      <td>1.0</td>\n",
       "      <td>1.0</td>\n",
       "    </tr>\n",
       "    <tr>\n",
       "      <th>H2</th>\n",
       "      <th>HyperSQL</th>\n",
       "      <td>0.066667</td>\n",
       "      <td>13.133333</td>\n",
       "      <td>0.069231</td>\n",
       "      <td>13.638462</td>\n",
       "      <td>0.028205</td>\n",
       "      <td>5.556410</td>\n",
       "      <td>0.423077</td>\n",
       "      <td>6.111111</td>\n",
       "      <td>0.023590</td>\n",
       "      <td>1.613333</td>\n",
       "      <td>1.0</td>\n",
       "      <td>1.0</td>\n",
       "    </tr>\n",
       "    <tr>\n",
       "      <th rowspan=\"2\" valign=\"top\">HyperSQL</th>\n",
       "      <th>Oracle</th>\n",
       "      <td>0.069231</td>\n",
       "      <td>13.638462</td>\n",
       "      <td>0.038462</td>\n",
       "      <td>7.576923</td>\n",
       "      <td>0.023077</td>\n",
       "      <td>4.546154</td>\n",
       "      <td>0.333333</td>\n",
       "      <td>8.666667</td>\n",
       "      <td>0.020414</td>\n",
       "      <td>1.442308</td>\n",
       "      <td>1.0</td>\n",
       "      <td>1.0</td>\n",
       "    </tr>\n",
       "    <tr>\n",
       "      <th>PostgreSQL</th>\n",
       "      <td>0.069231</td>\n",
       "      <td>13.638462</td>\n",
       "      <td>0.046154</td>\n",
       "      <td>9.092308</td>\n",
       "      <td>0.023077</td>\n",
       "      <td>4.546154</td>\n",
       "      <td>0.333333</td>\n",
       "      <td>7.222222</td>\n",
       "      <td>0.019882</td>\n",
       "      <td>1.430769</td>\n",
       "      <td>1.0</td>\n",
       "      <td>1.0</td>\n",
       "    </tr>\n",
       "    <tr>\n",
       "      <th>Oracle</th>\n",
       "      <th>PostgreSQL</th>\n",
       "      <td>0.038462</td>\n",
       "      <td>7.576923</td>\n",
       "      <td>0.046154</td>\n",
       "      <td>9.092308</td>\n",
       "      <td>0.023077</td>\n",
       "      <td>4.546154</td>\n",
       "      <td>0.600000</td>\n",
       "      <td>13.000000</td>\n",
       "      <td>0.021302</td>\n",
       "      <td>2.384615</td>\n",
       "      <td>1.0</td>\n",
       "      <td>1.0</td>\n",
       "    </tr>\n",
       "  </tbody>\n",
       "</table>\n",
       "</div>"
      ],
      "text/plain": [
       "                         antecedent support  antecedent_sup_abs  \\\n",
       "antecedents consequents                                           \n",
       "HyperSQL    MySQL                  0.069231           13.638462   \n",
       "MySQL       PostgreSQL             0.120513           23.741026   \n",
       "H2          MySQL                  0.066667           13.133333   \n",
       "MySQL       Oracle                 0.120513           23.741026   \n",
       "H2          HyperSQL               0.066667           13.133333   \n",
       "HyperSQL    Oracle                 0.069231           13.638462   \n",
       "            PostgreSQL             0.069231           13.638462   \n",
       "Oracle      PostgreSQL             0.038462            7.576923   \n",
       "\n",
       "                         consequent support  consequent_sup_abs   support  \\\n",
       "antecedents consequents                                                     \n",
       "HyperSQL    MySQL                  0.120513           23.741026  0.046154   \n",
       "MySQL       PostgreSQL             0.046154            9.092308  0.041026   \n",
       "H2          MySQL                  0.120513           23.741026  0.035897   \n",
       "MySQL       Oracle                 0.038462            7.576923  0.030769   \n",
       "H2          HyperSQL               0.069231           13.638462  0.028205   \n",
       "HyperSQL    Oracle                 0.038462            7.576923  0.023077   \n",
       "            PostgreSQL             0.046154            9.092308  0.023077   \n",
       "Oracle      PostgreSQL             0.046154            9.092308  0.023077   \n",
       "\n",
       "                         support_abs  confidence       lift  leverage  \\\n",
       "antecedents consequents                                                 \n",
       "HyperSQL    MySQL           9.092308    0.666667   5.531915  0.037811   \n",
       "MySQL       PostgreSQL      8.082051    0.340426   7.375887  0.035464   \n",
       "H2          MySQL           7.071795    0.538462   4.468085  0.027863   \n",
       "MySQL       Oracle          6.061538    0.255319   6.638298  0.026134   \n",
       "H2          HyperSQL        5.556410    0.423077   6.111111  0.023590   \n",
       "HyperSQL    Oracle          4.546154    0.333333   8.666667  0.020414   \n",
       "            PostgreSQL      4.546154    0.333333   7.222222  0.019882   \n",
       "Oracle      PostgreSQL      4.546154    0.600000  13.000000  0.021302   \n",
       "\n",
       "                         conviction  antecedent_len  consequente_len  \n",
       "antecedents consequents                                               \n",
       "HyperSQL    MySQL          2.638462             1.0              1.0  \n",
       "MySQL       PostgreSQL     1.446154             1.0              1.0  \n",
       "H2          MySQL          1.905556             1.0              1.0  \n",
       "MySQL       Oracle         1.291209             1.0              1.0  \n",
       "H2          HyperSQL       1.613333             1.0              1.0  \n",
       "HyperSQL    Oracle         1.442308             1.0              1.0  \n",
       "            PostgreSQL     1.430769             1.0              1.0  \n",
       "Oracle      PostgreSQL     2.384615             1.0              1.0  "
      ]
     },
     "execution_count": 11,
     "metadata": {},
     "output_type": "execute_result"
    }
   ],
   "source": [
    "# In this section we eliminate the inverted rules\n",
    "#Always run this before reset.index()\n",
    "new_index = []\n",
    "\n",
    "for index in rules1c.index:\n",
    "    if index[::-1] in new_index:\n",
    "        continue\n",
    "    new_index.append(index)\n",
    "\n",
    "\n",
    "len(new_index), len(rules1c.index)\n",
    "rules1c = rules1c.loc[new_index,:]\n",
    "rules1c"
   ]
  },
  {
   "cell_type": "code",
   "execution_count": 12,
   "metadata": {},
   "outputs": [
    {
     "data": {
      "text/html": [
       "<div>\n",
       "<style scoped>\n",
       "    .dataframe tbody tr th:only-of-type {\n",
       "        vertical-align: middle;\n",
       "    }\n",
       "\n",
       "    .dataframe tbody tr th {\n",
       "        vertical-align: top;\n",
       "    }\n",
       "\n",
       "    .dataframe thead th {\n",
       "        text-align: right;\n",
       "    }\n",
       "</style>\n",
       "<table border=\"1\" class=\"dataframe\">\n",
       "  <thead>\n",
       "    <tr style=\"text-align: right;\">\n",
       "      <th></th>\n",
       "      <th>antecedents</th>\n",
       "      <th>consequents</th>\n",
       "      <th>antecedent support</th>\n",
       "      <th>antecedent_sup_abs</th>\n",
       "      <th>consequent support</th>\n",
       "      <th>consequent_sup_abs</th>\n",
       "      <th>support</th>\n",
       "      <th>support_abs</th>\n",
       "      <th>confidence</th>\n",
       "      <th>lift</th>\n",
       "      <th>leverage</th>\n",
       "      <th>conviction</th>\n",
       "      <th>antecedent_len</th>\n",
       "      <th>consequente_len</th>\n",
       "    </tr>\n",
       "  </thead>\n",
       "  <tbody>\n",
       "    <tr>\n",
       "      <th>0</th>\n",
       "      <td>HyperSQL</td>\n",
       "      <td>MySQL</td>\n",
       "      <td>0.069231</td>\n",
       "      <td>13.638462</td>\n",
       "      <td>0.120513</td>\n",
       "      <td>23.741026</td>\n",
       "      <td>0.046154</td>\n",
       "      <td>9.092308</td>\n",
       "      <td>0.666667</td>\n",
       "      <td>5.531915</td>\n",
       "      <td>0.037811</td>\n",
       "      <td>2.638462</td>\n",
       "      <td>1.0</td>\n",
       "      <td>1.0</td>\n",
       "    </tr>\n",
       "    <tr>\n",
       "      <th>1</th>\n",
       "      <td>MySQL</td>\n",
       "      <td>PostgreSQL</td>\n",
       "      <td>0.120513</td>\n",
       "      <td>23.741026</td>\n",
       "      <td>0.046154</td>\n",
       "      <td>9.092308</td>\n",
       "      <td>0.041026</td>\n",
       "      <td>8.082051</td>\n",
       "      <td>0.340426</td>\n",
       "      <td>7.375887</td>\n",
       "      <td>0.035464</td>\n",
       "      <td>1.446154</td>\n",
       "      <td>1.0</td>\n",
       "      <td>1.0</td>\n",
       "    </tr>\n",
       "    <tr>\n",
       "      <th>2</th>\n",
       "      <td>H2</td>\n",
       "      <td>MySQL</td>\n",
       "      <td>0.066667</td>\n",
       "      <td>13.133333</td>\n",
       "      <td>0.120513</td>\n",
       "      <td>23.741026</td>\n",
       "      <td>0.035897</td>\n",
       "      <td>7.071795</td>\n",
       "      <td>0.538462</td>\n",
       "      <td>4.468085</td>\n",
       "      <td>0.027863</td>\n",
       "      <td>1.905556</td>\n",
       "      <td>1.0</td>\n",
       "      <td>1.0</td>\n",
       "    </tr>\n",
       "    <tr>\n",
       "      <th>3</th>\n",
       "      <td>MySQL</td>\n",
       "      <td>Oracle</td>\n",
       "      <td>0.120513</td>\n",
       "      <td>23.741026</td>\n",
       "      <td>0.038462</td>\n",
       "      <td>7.576923</td>\n",
       "      <td>0.030769</td>\n",
       "      <td>6.061538</td>\n",
       "      <td>0.255319</td>\n",
       "      <td>6.638298</td>\n",
       "      <td>0.026134</td>\n",
       "      <td>1.291209</td>\n",
       "      <td>1.0</td>\n",
       "      <td>1.0</td>\n",
       "    </tr>\n",
       "    <tr>\n",
       "      <th>4</th>\n",
       "      <td>H2</td>\n",
       "      <td>HyperSQL</td>\n",
       "      <td>0.066667</td>\n",
       "      <td>13.133333</td>\n",
       "      <td>0.069231</td>\n",
       "      <td>13.638462</td>\n",
       "      <td>0.028205</td>\n",
       "      <td>5.556410</td>\n",
       "      <td>0.423077</td>\n",
       "      <td>6.111111</td>\n",
       "      <td>0.023590</td>\n",
       "      <td>1.613333</td>\n",
       "      <td>1.0</td>\n",
       "      <td>1.0</td>\n",
       "    </tr>\n",
       "    <tr>\n",
       "      <th>5</th>\n",
       "      <td>HyperSQL</td>\n",
       "      <td>Oracle</td>\n",
       "      <td>0.069231</td>\n",
       "      <td>13.638462</td>\n",
       "      <td>0.038462</td>\n",
       "      <td>7.576923</td>\n",
       "      <td>0.023077</td>\n",
       "      <td>4.546154</td>\n",
       "      <td>0.333333</td>\n",
       "      <td>8.666667</td>\n",
       "      <td>0.020414</td>\n",
       "      <td>1.442308</td>\n",
       "      <td>1.0</td>\n",
       "      <td>1.0</td>\n",
       "    </tr>\n",
       "    <tr>\n",
       "      <th>6</th>\n",
       "      <td>HyperSQL</td>\n",
       "      <td>PostgreSQL</td>\n",
       "      <td>0.069231</td>\n",
       "      <td>13.638462</td>\n",
       "      <td>0.046154</td>\n",
       "      <td>9.092308</td>\n",
       "      <td>0.023077</td>\n",
       "      <td>4.546154</td>\n",
       "      <td>0.333333</td>\n",
       "      <td>7.222222</td>\n",
       "      <td>0.019882</td>\n",
       "      <td>1.430769</td>\n",
       "      <td>1.0</td>\n",
       "      <td>1.0</td>\n",
       "    </tr>\n",
       "    <tr>\n",
       "      <th>7</th>\n",
       "      <td>Oracle</td>\n",
       "      <td>PostgreSQL</td>\n",
       "      <td>0.038462</td>\n",
       "      <td>7.576923</td>\n",
       "      <td>0.046154</td>\n",
       "      <td>9.092308</td>\n",
       "      <td>0.023077</td>\n",
       "      <td>4.546154</td>\n",
       "      <td>0.600000</td>\n",
       "      <td>13.000000</td>\n",
       "      <td>0.021302</td>\n",
       "      <td>2.384615</td>\n",
       "      <td>1.0</td>\n",
       "      <td>1.0</td>\n",
       "    </tr>\n",
       "  </tbody>\n",
       "</table>\n",
       "</div>"
      ],
      "text/plain": [
       "  antecedents consequents  antecedent support  antecedent_sup_abs  \\\n",
       "0    HyperSQL       MySQL            0.069231           13.638462   \n",
       "1       MySQL  PostgreSQL            0.120513           23.741026   \n",
       "2          H2       MySQL            0.066667           13.133333   \n",
       "3       MySQL      Oracle            0.120513           23.741026   \n",
       "4          H2    HyperSQL            0.066667           13.133333   \n",
       "5    HyperSQL      Oracle            0.069231           13.638462   \n",
       "6    HyperSQL  PostgreSQL            0.069231           13.638462   \n",
       "7      Oracle  PostgreSQL            0.038462            7.576923   \n",
       "\n",
       "   consequent support  consequent_sup_abs   support  support_abs  confidence  \\\n",
       "0            0.120513           23.741026  0.046154     9.092308    0.666667   \n",
       "1            0.046154            9.092308  0.041026     8.082051    0.340426   \n",
       "2            0.120513           23.741026  0.035897     7.071795    0.538462   \n",
       "3            0.038462            7.576923  0.030769     6.061538    0.255319   \n",
       "4            0.069231           13.638462  0.028205     5.556410    0.423077   \n",
       "5            0.038462            7.576923  0.023077     4.546154    0.333333   \n",
       "6            0.046154            9.092308  0.023077     4.546154    0.333333   \n",
       "7            0.046154            9.092308  0.023077     4.546154    0.600000   \n",
       "\n",
       "        lift  leverage  conviction  antecedent_len  consequente_len  \n",
       "0   5.531915  0.037811    2.638462             1.0              1.0  \n",
       "1   7.375887  0.035464    1.446154             1.0              1.0  \n",
       "2   4.468085  0.027863    1.905556             1.0              1.0  \n",
       "3   6.638298  0.026134    1.291209             1.0              1.0  \n",
       "4   6.111111  0.023590    1.613333             1.0              1.0  \n",
       "5   8.666667  0.020414    1.442308             1.0              1.0  \n",
       "6   7.222222  0.019882    1.430769             1.0              1.0  \n",
       "7  13.000000  0.021302    2.384615             1.0              1.0  "
      ]
     },
     "execution_count": 12,
     "metadata": {},
     "output_type": "execute_result"
    }
   ],
   "source": [
    "rules1c = rules1c.reset_index()\n",
    "rules1c"
   ]
  },
  {
   "cell_type": "code",
   "execution_count": 43,
   "metadata": {},
   "outputs": [],
   "source": [
    "#if you need to generate the rules in excel\n",
    "#rules1c.to_excel('coocurrence_filters_v1.xlsx', index=False)"
   ]
  },
  {
   "attachments": {},
   "cell_type": "markdown",
   "metadata": {},
   "source": [
    "Furthermore, we found that projects tend to use MySQL, PostgreSQL, Oracle, H2, SQLite, IBM DB2, Ehcache, MS SQL Server, MongoDB, Sap Adaptive Server, and MS Access DBMS together at the beginning of the life cycle. From the middle of the life cycle to the current project cycle there is a variation in the joint usage, moving to use the DBMS Maria DB and Redis and moving away from using the Sap Adaptive Server and MS Access DBMS.\n",
    "Another relevant aspect is the existence of exchanges of DBMS during the history of the projects."
   ]
  },
  {
   "cell_type": "code",
   "execution_count": 13,
   "metadata": {},
   "outputs": [
    {
     "data": {
      "text/html": [
       "<div>\n",
       "<style scoped>\n",
       "    .dataframe tbody tr th:only-of-type {\n",
       "        vertical-align: middle;\n",
       "    }\n",
       "\n",
       "    .dataframe tbody tr th {\n",
       "        vertical-align: top;\n",
       "    }\n",
       "\n",
       "    .dataframe thead th {\n",
       "        text-align: right;\n",
       "    }\n",
       "</style>\n",
       "<table border=\"1\" class=\"dataframe\">\n",
       "  <thead>\n",
       "    <tr style=\"text-align: right;\">\n",
       "      <th></th>\n",
       "      <th>antecedent support</th>\n",
       "      <th>antecedent_sup_abs</th>\n",
       "      <th>consequent support</th>\n",
       "      <th>consequent_sup_abs</th>\n",
       "      <th>support</th>\n",
       "      <th>support_abs</th>\n",
       "      <th>confidence</th>\n",
       "      <th>lift</th>\n",
       "      <th>leverage</th>\n",
       "      <th>conviction</th>\n",
       "      <th>antecedent_len</th>\n",
       "      <th>consequente_len</th>\n",
       "    </tr>\n",
       "    <tr>\n",
       "      <th>consequents</th>\n",
       "      <th></th>\n",
       "      <th></th>\n",
       "      <th></th>\n",
       "      <th></th>\n",
       "      <th></th>\n",
       "      <th></th>\n",
       "      <th></th>\n",
       "      <th></th>\n",
       "      <th></th>\n",
       "      <th></th>\n",
       "      <th></th>\n",
       "      <th></th>\n",
       "    </tr>\n",
       "  </thead>\n",
       "  <tbody>\n",
       "    <tr>\n",
       "      <th>MySQL</th>\n",
       "      <td>0.067949</td>\n",
       "      <td>13.385897</td>\n",
       "      <td>0.120513</td>\n",
       "      <td>23.741026</td>\n",
       "      <td>0.041026</td>\n",
       "      <td>8.082051</td>\n",
       "      <td>0.602564</td>\n",
       "      <td>5.000000</td>\n",
       "      <td>0.032837</td>\n",
       "      <td>2.272009</td>\n",
       "      <td>1.0</td>\n",
       "      <td>1.0</td>\n",
       "    </tr>\n",
       "    <tr>\n",
       "      <th>PostgreSQL</th>\n",
       "      <td>0.076068</td>\n",
       "      <td>14.985470</td>\n",
       "      <td>0.046154</td>\n",
       "      <td>9.092308</td>\n",
       "      <td>0.029060</td>\n",
       "      <td>5.724786</td>\n",
       "      <td>0.424586</td>\n",
       "      <td>9.199370</td>\n",
       "      <td>0.025549</td>\n",
       "      <td>1.753846</td>\n",
       "      <td>1.0</td>\n",
       "      <td>1.0</td>\n",
       "    </tr>\n",
       "    <tr>\n",
       "      <th>HyperSQL</th>\n",
       "      <td>0.066667</td>\n",
       "      <td>13.133333</td>\n",
       "      <td>0.069231</td>\n",
       "      <td>13.638462</td>\n",
       "      <td>0.028205</td>\n",
       "      <td>5.556410</td>\n",
       "      <td>0.423077</td>\n",
       "      <td>6.111111</td>\n",
       "      <td>0.023590</td>\n",
       "      <td>1.613333</td>\n",
       "      <td>1.0</td>\n",
       "      <td>1.0</td>\n",
       "    </tr>\n",
       "    <tr>\n",
       "      <th>Oracle</th>\n",
       "      <td>0.094872</td>\n",
       "      <td>18.689744</td>\n",
       "      <td>0.038462</td>\n",
       "      <td>7.576923</td>\n",
       "      <td>0.026923</td>\n",
       "      <td>5.303846</td>\n",
       "      <td>0.294326</td>\n",
       "      <td>7.652482</td>\n",
       "      <td>0.023274</td>\n",
       "      <td>1.366758</td>\n",
       "      <td>1.0</td>\n",
       "      <td>1.0</td>\n",
       "    </tr>\n",
       "  </tbody>\n",
       "</table>\n",
       "</div>"
      ],
      "text/plain": [
       "             antecedent support  antecedent_sup_abs  consequent support  \\\n",
       "consequents                                                               \n",
       "MySQL                  0.067949           13.385897            0.120513   \n",
       "PostgreSQL             0.076068           14.985470            0.046154   \n",
       "HyperSQL               0.066667           13.133333            0.069231   \n",
       "Oracle                 0.094872           18.689744            0.038462   \n",
       "\n",
       "             consequent_sup_abs   support  support_abs  confidence      lift  \\\n",
       "consequents                                                                    \n",
       "MySQL                 23.741026  0.041026     8.082051    0.602564  5.000000   \n",
       "PostgreSQL             9.092308  0.029060     5.724786    0.424586  9.199370   \n",
       "HyperSQL              13.638462  0.028205     5.556410    0.423077  6.111111   \n",
       "Oracle                 7.576923  0.026923     5.303846    0.294326  7.652482   \n",
       "\n",
       "             leverage  conviction  antecedent_len  consequente_len  \n",
       "consequents                                                         \n",
       "MySQL        0.032837    2.272009             1.0              1.0  \n",
       "PostgreSQL   0.025549    1.753846             1.0              1.0  \n",
       "HyperSQL     0.023590    1.613333             1.0              1.0  \n",
       "Oracle       0.023274    1.366758             1.0              1.0  "
      ]
     },
     "execution_count": 13,
     "metadata": {},
     "output_type": "execute_result"
    }
   ],
   "source": [
    "#rules1ca = rules1c.groupby(['consequents']).mean().sort_values(['support','consequent_sup_abs',], ascending=[False,False])\n",
    "rules1ca = rules1c.groupby(['consequents']).mean().sort_values(['support'], ascending=[False])\n",
    "rules1ca"
   ]
  },
  {
   "cell_type": "code",
   "execution_count": 14,
   "metadata": {},
   "outputs": [
    {
     "data": {
      "text/html": [
       "<div>\n",
       "<style scoped>\n",
       "    .dataframe tbody tr th:only-of-type {\n",
       "        vertical-align: middle;\n",
       "    }\n",
       "\n",
       "    .dataframe tbody tr th {\n",
       "        vertical-align: top;\n",
       "    }\n",
       "\n",
       "    .dataframe thead th {\n",
       "        text-align: right;\n",
       "    }\n",
       "</style>\n",
       "<table border=\"1\" class=\"dataframe\">\n",
       "  <thead>\n",
       "    <tr style=\"text-align: right;\">\n",
       "      <th></th>\n",
       "      <th>antecedent support</th>\n",
       "      <th>antecedent_sup_abs</th>\n",
       "      <th>consequent support</th>\n",
       "      <th>consequent_sup_abs</th>\n",
       "      <th>support</th>\n",
       "      <th>support_abs</th>\n",
       "      <th>confidence</th>\n",
       "      <th>lift</th>\n",
       "      <th>leverage</th>\n",
       "      <th>conviction</th>\n",
       "      <th>antecedent_len</th>\n",
       "      <th>consequente_len</th>\n",
       "    </tr>\n",
       "    <tr>\n",
       "      <th>antecedents</th>\n",
       "      <th></th>\n",
       "      <th></th>\n",
       "      <th></th>\n",
       "      <th></th>\n",
       "      <th></th>\n",
       "      <th></th>\n",
       "      <th></th>\n",
       "      <th></th>\n",
       "      <th></th>\n",
       "      <th></th>\n",
       "      <th></th>\n",
       "      <th></th>\n",
       "    </tr>\n",
       "  </thead>\n",
       "  <tbody>\n",
       "    <tr>\n",
       "      <th>MySQL</th>\n",
       "      <td>0.120513</td>\n",
       "      <td>23.741026</td>\n",
       "      <td>0.042308</td>\n",
       "      <td>8.334615</td>\n",
       "      <td>0.035897</td>\n",
       "      <td>7.071795</td>\n",
       "      <td>0.297872</td>\n",
       "      <td>7.007092</td>\n",
       "      <td>0.030799</td>\n",
       "      <td>1.368681</td>\n",
       "      <td>1.0</td>\n",
       "      <td>1.0</td>\n",
       "    </tr>\n",
       "    <tr>\n",
       "      <th>H2</th>\n",
       "      <td>0.066667</td>\n",
       "      <td>13.133333</td>\n",
       "      <td>0.094872</td>\n",
       "      <td>18.689744</td>\n",
       "      <td>0.032051</td>\n",
       "      <td>6.314103</td>\n",
       "      <td>0.480769</td>\n",
       "      <td>5.289598</td>\n",
       "      <td>0.025726</td>\n",
       "      <td>1.759444</td>\n",
       "      <td>1.0</td>\n",
       "      <td>1.0</td>\n",
       "    </tr>\n",
       "    <tr>\n",
       "      <th>HyperSQL</th>\n",
       "      <td>0.069231</td>\n",
       "      <td>13.638462</td>\n",
       "      <td>0.068376</td>\n",
       "      <td>13.470085</td>\n",
       "      <td>0.030769</td>\n",
       "      <td>6.061538</td>\n",
       "      <td>0.444444</td>\n",
       "      <td>7.140268</td>\n",
       "      <td>0.026036</td>\n",
       "      <td>1.837179</td>\n",
       "      <td>1.0</td>\n",
       "      <td>1.0</td>\n",
       "    </tr>\n",
       "    <tr>\n",
       "      <th>Oracle</th>\n",
       "      <td>0.038462</td>\n",
       "      <td>7.576923</td>\n",
       "      <td>0.046154</td>\n",
       "      <td>9.092308</td>\n",
       "      <td>0.023077</td>\n",
       "      <td>4.546154</td>\n",
       "      <td>0.600000</td>\n",
       "      <td>13.000000</td>\n",
       "      <td>0.021302</td>\n",
       "      <td>2.384615</td>\n",
       "      <td>1.0</td>\n",
       "      <td>1.0</td>\n",
       "    </tr>\n",
       "  </tbody>\n",
       "</table>\n",
       "</div>"
      ],
      "text/plain": [
       "             antecedent support  antecedent_sup_abs  consequent support  \\\n",
       "antecedents                                                               \n",
       "MySQL                  0.120513           23.741026            0.042308   \n",
       "H2                     0.066667           13.133333            0.094872   \n",
       "HyperSQL               0.069231           13.638462            0.068376   \n",
       "Oracle                 0.038462            7.576923            0.046154   \n",
       "\n",
       "             consequent_sup_abs   support  support_abs  confidence       lift  \\\n",
       "antecedents                                                                     \n",
       "MySQL                  8.334615  0.035897     7.071795    0.297872   7.007092   \n",
       "H2                    18.689744  0.032051     6.314103    0.480769   5.289598   \n",
       "HyperSQL              13.470085  0.030769     6.061538    0.444444   7.140268   \n",
       "Oracle                 9.092308  0.023077     4.546154    0.600000  13.000000   \n",
       "\n",
       "             leverage  conviction  antecedent_len  consequente_len  \n",
       "antecedents                                                         \n",
       "MySQL        0.030799    1.368681             1.0              1.0  \n",
       "H2           0.025726    1.759444             1.0              1.0  \n",
       "HyperSQL     0.026036    1.837179             1.0              1.0  \n",
       "Oracle       0.021302    2.384615             1.0              1.0  "
      ]
     },
     "execution_count": 14,
     "metadata": {},
     "output_type": "execute_result"
    }
   ],
   "source": [
    "#rules1ca = rules1c.groupby(['antecedents']).mean().sort_values(['support','antecedent_sup_abs',], ascending=[False,False])\n",
    "rules1ca = rules1c.groupby(['antecedents']).mean().sort_values(['support'], ascending=[False])\n",
    "rules1ca"
   ]
  },
  {
   "attachments": {},
   "cell_type": "markdown",
   "metadata": {},
   "source": [
    "In the first version only 11 BDs appear as used together"
   ]
  },
  {
   "cell_type": "code",
   "execution_count": 15,
   "metadata": {},
   "outputs": [
    {
     "data": {
      "text/html": [
       "<div>\n",
       "<style scoped>\n",
       "    .dataframe tbody tr th:only-of-type {\n",
       "        vertical-align: middle;\n",
       "    }\n",
       "\n",
       "    .dataframe tbody tr th {\n",
       "        vertical-align: top;\n",
       "    }\n",
       "\n",
       "    .dataframe thead th {\n",
       "        text-align: right;\n",
       "    }\n",
       "</style>\n",
       "<table border=\"1\" class=\"dataframe\">\n",
       "  <thead>\n",
       "    <tr style=\"text-align: right;\">\n",
       "      <th></th>\n",
       "      <th>antecedent support</th>\n",
       "      <th>antecedent_sup_abs</th>\n",
       "      <th>consequent support</th>\n",
       "      <th>consequent_sup_abs</th>\n",
       "      <th>support</th>\n",
       "      <th>support_abs</th>\n",
       "      <th>confidence</th>\n",
       "      <th>lift</th>\n",
       "      <th>leverage</th>\n",
       "      <th>conviction</th>\n",
       "      <th>antecedent_len</th>\n",
       "      <th>consequente_len</th>\n",
       "    </tr>\n",
       "    <tr>\n",
       "      <th>antecedents</th>\n",
       "      <th></th>\n",
       "      <th></th>\n",
       "      <th></th>\n",
       "      <th></th>\n",
       "      <th></th>\n",
       "      <th></th>\n",
       "      <th></th>\n",
       "      <th></th>\n",
       "      <th></th>\n",
       "      <th></th>\n",
       "      <th></th>\n",
       "      <th></th>\n",
       "    </tr>\n",
       "  </thead>\n",
       "  <tbody>\n",
       "    <tr>\n",
       "      <th>MySQL</th>\n",
       "      <td>0.120513</td>\n",
       "      <td>23.741026</td>\n",
       "      <td>0.042308</td>\n",
       "      <td>8.334615</td>\n",
       "      <td>0.035897</td>\n",
       "      <td>7.071795</td>\n",
       "      <td>0.297872</td>\n",
       "      <td>7.007092</td>\n",
       "      <td>0.030799</td>\n",
       "      <td>1.368681</td>\n",
       "      <td>1.0</td>\n",
       "      <td>1.0</td>\n",
       "    </tr>\n",
       "    <tr>\n",
       "      <th>H2</th>\n",
       "      <td>0.066667</td>\n",
       "      <td>13.133333</td>\n",
       "      <td>0.094872</td>\n",
       "      <td>18.689744</td>\n",
       "      <td>0.032051</td>\n",
       "      <td>6.314103</td>\n",
       "      <td>0.480769</td>\n",
       "      <td>5.289598</td>\n",
       "      <td>0.025726</td>\n",
       "      <td>1.759444</td>\n",
       "      <td>1.0</td>\n",
       "      <td>1.0</td>\n",
       "    </tr>\n",
       "    <tr>\n",
       "      <th>HyperSQL</th>\n",
       "      <td>0.069231</td>\n",
       "      <td>13.638462</td>\n",
       "      <td>0.068376</td>\n",
       "      <td>13.470085</td>\n",
       "      <td>0.030769</td>\n",
       "      <td>6.061538</td>\n",
       "      <td>0.444444</td>\n",
       "      <td>7.140268</td>\n",
       "      <td>0.026036</td>\n",
       "      <td>1.837179</td>\n",
       "      <td>1.0</td>\n",
       "      <td>1.0</td>\n",
       "    </tr>\n",
       "    <tr>\n",
       "      <th>Oracle</th>\n",
       "      <td>0.038462</td>\n",
       "      <td>7.576923</td>\n",
       "      <td>0.046154</td>\n",
       "      <td>9.092308</td>\n",
       "      <td>0.023077</td>\n",
       "      <td>4.546154</td>\n",
       "      <td>0.600000</td>\n",
       "      <td>13.000000</td>\n",
       "      <td>0.021302</td>\n",
       "      <td>2.384615</td>\n",
       "      <td>1.0</td>\n",
       "      <td>1.0</td>\n",
       "    </tr>\n",
       "  </tbody>\n",
       "</table>\n",
       "</div>"
      ],
      "text/plain": [
       "             antecedent support  antecedent_sup_abs  consequent support  \\\n",
       "antecedents                                                               \n",
       "MySQL                  0.120513           23.741026            0.042308   \n",
       "H2                     0.066667           13.133333            0.094872   \n",
       "HyperSQL               0.069231           13.638462            0.068376   \n",
       "Oracle                 0.038462            7.576923            0.046154   \n",
       "\n",
       "             consequent_sup_abs   support  support_abs  confidence       lift  \\\n",
       "antecedents                                                                     \n",
       "MySQL                  8.334615  0.035897     7.071795    0.297872   7.007092   \n",
       "H2                    18.689744  0.032051     6.314103    0.480769   5.289598   \n",
       "HyperSQL              13.470085  0.030769     6.061538    0.444444   7.140268   \n",
       "Oracle                 9.092308  0.023077     4.546154    0.600000  13.000000   \n",
       "\n",
       "             leverage  conviction  antecedent_len  consequente_len  \n",
       "antecedents                                                         \n",
       "MySQL        0.030799    1.368681             1.0              1.0  \n",
       "H2           0.025726    1.759444             1.0              1.0  \n",
       "HyperSQL     0.026036    1.837179             1.0              1.0  \n",
       "Oracle       0.021302    2.384615             1.0              1.0  "
      ]
     },
     "execution_count": 15,
     "metadata": {},
     "output_type": "execute_result"
    }
   ],
   "source": [
    "rules1cb = rules1ca[(rules1ca['support'] >= 0.02)] \n",
    "rules1cb \n",
    "#if you need to generate the rules in excel"
   ]
  },
  {
   "attachments": {},
   "cell_type": "markdown",
   "metadata": {},
   "source": [
    "This chart shows all the rules for the BDs used together in first version."
   ]
  },
  {
   "cell_type": "code",
   "execution_count": 16,
   "metadata": {},
   "outputs": [
    {
     "data": {
      "application/vnd.plotly.v1+json": {
       "config": {
        "plotlyServerURL": "https://plot.ly"
       },
       "data": [
        {
         "customdata": [
          [
           9
          ],
          [
           8
          ],
          [
           7
          ],
          [
           6
          ],
          [
           5
          ],
          [
           4
          ],
          [
           4
          ],
          [
           4
          ]
         ],
         "hovertemplate": "consequents=%{x}<br>antecedents=%{y}<br>support_abs=%{marker.color}<extra></extra>",
         "legendgroup": "",
         "marker": {
          "color": [
           9,
           8,
           7,
           6,
           5,
           4,
           4,
           4
          ],
          "coloraxis": "coloraxis",
          "size": [
           9,
           8,
           7,
           6,
           5,
           4,
           4,
           4
          ],
          "sizemode": "area",
          "sizeref": 0.0225,
          "symbol": "circle"
         },
         "mode": "markers+text",
         "name": "",
         "orientation": "v",
         "showlegend": false,
         "text": [
          9,
          8,
          7,
          6,
          5,
          4,
          4,
          4
         ],
         "type": "scatter",
         "x": [
          "MySQL",
          "PostgreSQL",
          "MySQL",
          "Oracle",
          "HyperSQL",
          "Oracle",
          "PostgreSQL",
          "PostgreSQL"
         ],
         "xaxis": "x",
         "y": [
          "HyperSQL",
          "MySQL",
          "H2",
          "MySQL",
          "H2",
          "HyperSQL",
          "HyperSQL",
          "Oracle"
         ],
         "yaxis": "y"
        }
       ],
       "layout": {
        "coloraxis": {
         "colorbar": {
          "title": {
           "text": "support_abs"
          }
         },
         "colorscale": [
          [
           0,
           "silver"
          ],
          [
           1,
           "gray"
          ]
         ]
        },
        "height": 500,
        "legend": {
         "itemsizing": "constant",
         "tracegroupgap": 0
        },
        "template": {
         "data": {
          "bar": [
           {
            "error_x": {
             "color": "#2a3f5f"
            },
            "error_y": {
             "color": "#2a3f5f"
            },
            "marker": {
             "line": {
              "color": "#E5ECF6",
              "width": 0.5
             },
             "pattern": {
              "fillmode": "overlay",
              "size": 10,
              "solidity": 0.2
             }
            },
            "type": "bar"
           }
          ],
          "barpolar": [
           {
            "marker": {
             "line": {
              "color": "#E5ECF6",
              "width": 0.5
             },
             "pattern": {
              "fillmode": "overlay",
              "size": 10,
              "solidity": 0.2
             }
            },
            "type": "barpolar"
           }
          ],
          "carpet": [
           {
            "aaxis": {
             "endlinecolor": "#2a3f5f",
             "gridcolor": "white",
             "linecolor": "white",
             "minorgridcolor": "white",
             "startlinecolor": "#2a3f5f"
            },
            "baxis": {
             "endlinecolor": "#2a3f5f",
             "gridcolor": "white",
             "linecolor": "white",
             "minorgridcolor": "white",
             "startlinecolor": "#2a3f5f"
            },
            "type": "carpet"
           }
          ],
          "choropleth": [
           {
            "colorbar": {
             "outlinewidth": 0,
             "ticks": ""
            },
            "type": "choropleth"
           }
          ],
          "contour": [
           {
            "colorbar": {
             "outlinewidth": 0,
             "ticks": ""
            },
            "colorscale": [
             [
              0,
              "#0d0887"
             ],
             [
              0.1111111111111111,
              "#46039f"
             ],
             [
              0.2222222222222222,
              "#7201a8"
             ],
             [
              0.3333333333333333,
              "#9c179e"
             ],
             [
              0.4444444444444444,
              "#bd3786"
             ],
             [
              0.5555555555555556,
              "#d8576b"
             ],
             [
              0.6666666666666666,
              "#ed7953"
             ],
             [
              0.7777777777777778,
              "#fb9f3a"
             ],
             [
              0.8888888888888888,
              "#fdca26"
             ],
             [
              1,
              "#f0f921"
             ]
            ],
            "type": "contour"
           }
          ],
          "contourcarpet": [
           {
            "colorbar": {
             "outlinewidth": 0,
             "ticks": ""
            },
            "type": "contourcarpet"
           }
          ],
          "heatmap": [
           {
            "colorbar": {
             "outlinewidth": 0,
             "ticks": ""
            },
            "colorscale": [
             [
              0,
              "#0d0887"
             ],
             [
              0.1111111111111111,
              "#46039f"
             ],
             [
              0.2222222222222222,
              "#7201a8"
             ],
             [
              0.3333333333333333,
              "#9c179e"
             ],
             [
              0.4444444444444444,
              "#bd3786"
             ],
             [
              0.5555555555555556,
              "#d8576b"
             ],
             [
              0.6666666666666666,
              "#ed7953"
             ],
             [
              0.7777777777777778,
              "#fb9f3a"
             ],
             [
              0.8888888888888888,
              "#fdca26"
             ],
             [
              1,
              "#f0f921"
             ]
            ],
            "type": "heatmap"
           }
          ],
          "heatmapgl": [
           {
            "colorbar": {
             "outlinewidth": 0,
             "ticks": ""
            },
            "colorscale": [
             [
              0,
              "#0d0887"
             ],
             [
              0.1111111111111111,
              "#46039f"
             ],
             [
              0.2222222222222222,
              "#7201a8"
             ],
             [
              0.3333333333333333,
              "#9c179e"
             ],
             [
              0.4444444444444444,
              "#bd3786"
             ],
             [
              0.5555555555555556,
              "#d8576b"
             ],
             [
              0.6666666666666666,
              "#ed7953"
             ],
             [
              0.7777777777777778,
              "#fb9f3a"
             ],
             [
              0.8888888888888888,
              "#fdca26"
             ],
             [
              1,
              "#f0f921"
             ]
            ],
            "type": "heatmapgl"
           }
          ],
          "histogram": [
           {
            "marker": {
             "pattern": {
              "fillmode": "overlay",
              "size": 10,
              "solidity": 0.2
             }
            },
            "type": "histogram"
           }
          ],
          "histogram2d": [
           {
            "colorbar": {
             "outlinewidth": 0,
             "ticks": ""
            },
            "colorscale": [
             [
              0,
              "#0d0887"
             ],
             [
              0.1111111111111111,
              "#46039f"
             ],
             [
              0.2222222222222222,
              "#7201a8"
             ],
             [
              0.3333333333333333,
              "#9c179e"
             ],
             [
              0.4444444444444444,
              "#bd3786"
             ],
             [
              0.5555555555555556,
              "#d8576b"
             ],
             [
              0.6666666666666666,
              "#ed7953"
             ],
             [
              0.7777777777777778,
              "#fb9f3a"
             ],
             [
              0.8888888888888888,
              "#fdca26"
             ],
             [
              1,
              "#f0f921"
             ]
            ],
            "type": "histogram2d"
           }
          ],
          "histogram2dcontour": [
           {
            "colorbar": {
             "outlinewidth": 0,
             "ticks": ""
            },
            "colorscale": [
             [
              0,
              "#0d0887"
             ],
             [
              0.1111111111111111,
              "#46039f"
             ],
             [
              0.2222222222222222,
              "#7201a8"
             ],
             [
              0.3333333333333333,
              "#9c179e"
             ],
             [
              0.4444444444444444,
              "#bd3786"
             ],
             [
              0.5555555555555556,
              "#d8576b"
             ],
             [
              0.6666666666666666,
              "#ed7953"
             ],
             [
              0.7777777777777778,
              "#fb9f3a"
             ],
             [
              0.8888888888888888,
              "#fdca26"
             ],
             [
              1,
              "#f0f921"
             ]
            ],
            "type": "histogram2dcontour"
           }
          ],
          "mesh3d": [
           {
            "colorbar": {
             "outlinewidth": 0,
             "ticks": ""
            },
            "type": "mesh3d"
           }
          ],
          "parcoords": [
           {
            "line": {
             "colorbar": {
              "outlinewidth": 0,
              "ticks": ""
             }
            },
            "type": "parcoords"
           }
          ],
          "pie": [
           {
            "automargin": true,
            "type": "pie"
           }
          ],
          "scatter": [
           {
            "fillpattern": {
             "fillmode": "overlay",
             "size": 10,
             "solidity": 0.2
            },
            "type": "scatter"
           }
          ],
          "scatter3d": [
           {
            "line": {
             "colorbar": {
              "outlinewidth": 0,
              "ticks": ""
             }
            },
            "marker": {
             "colorbar": {
              "outlinewidth": 0,
              "ticks": ""
             }
            },
            "type": "scatter3d"
           }
          ],
          "scattercarpet": [
           {
            "marker": {
             "colorbar": {
              "outlinewidth": 0,
              "ticks": ""
             }
            },
            "type": "scattercarpet"
           }
          ],
          "scattergeo": [
           {
            "marker": {
             "colorbar": {
              "outlinewidth": 0,
              "ticks": ""
             }
            },
            "type": "scattergeo"
           }
          ],
          "scattergl": [
           {
            "marker": {
             "colorbar": {
              "outlinewidth": 0,
              "ticks": ""
             }
            },
            "type": "scattergl"
           }
          ],
          "scattermapbox": [
           {
            "marker": {
             "colorbar": {
              "outlinewidth": 0,
              "ticks": ""
             }
            },
            "type": "scattermapbox"
           }
          ],
          "scatterpolar": [
           {
            "marker": {
             "colorbar": {
              "outlinewidth": 0,
              "ticks": ""
             }
            },
            "type": "scatterpolar"
           }
          ],
          "scatterpolargl": [
           {
            "marker": {
             "colorbar": {
              "outlinewidth": 0,
              "ticks": ""
             }
            },
            "type": "scatterpolargl"
           }
          ],
          "scatterternary": [
           {
            "marker": {
             "colorbar": {
              "outlinewidth": 0,
              "ticks": ""
             }
            },
            "type": "scatterternary"
           }
          ],
          "surface": [
           {
            "colorbar": {
             "outlinewidth": 0,
             "ticks": ""
            },
            "colorscale": [
             [
              0,
              "#0d0887"
             ],
             [
              0.1111111111111111,
              "#46039f"
             ],
             [
              0.2222222222222222,
              "#7201a8"
             ],
             [
              0.3333333333333333,
              "#9c179e"
             ],
             [
              0.4444444444444444,
              "#bd3786"
             ],
             [
              0.5555555555555556,
              "#d8576b"
             ],
             [
              0.6666666666666666,
              "#ed7953"
             ],
             [
              0.7777777777777778,
              "#fb9f3a"
             ],
             [
              0.8888888888888888,
              "#fdca26"
             ],
             [
              1,
              "#f0f921"
             ]
            ],
            "type": "surface"
           }
          ],
          "table": [
           {
            "cells": {
             "fill": {
              "color": "#EBF0F8"
             },
             "line": {
              "color": "white"
             }
            },
            "header": {
             "fill": {
              "color": "#C8D4E3"
             },
             "line": {
              "color": "white"
             }
            },
            "type": "table"
           }
          ]
         },
         "layout": {
          "annotationdefaults": {
           "arrowcolor": "#2a3f5f",
           "arrowhead": 0,
           "arrowwidth": 1
          },
          "autotypenumbers": "strict",
          "coloraxis": {
           "colorbar": {
            "outlinewidth": 0,
            "ticks": ""
           }
          },
          "colorscale": {
           "diverging": [
            [
             0,
             "#8e0152"
            ],
            [
             0.1,
             "#c51b7d"
            ],
            [
             0.2,
             "#de77ae"
            ],
            [
             0.3,
             "#f1b6da"
            ],
            [
             0.4,
             "#fde0ef"
            ],
            [
             0.5,
             "#f7f7f7"
            ],
            [
             0.6,
             "#e6f5d0"
            ],
            [
             0.7,
             "#b8e186"
            ],
            [
             0.8,
             "#7fbc41"
            ],
            [
             0.9,
             "#4d9221"
            ],
            [
             1,
             "#276419"
            ]
           ],
           "sequential": [
            [
             0,
             "#0d0887"
            ],
            [
             0.1111111111111111,
             "#46039f"
            ],
            [
             0.2222222222222222,
             "#7201a8"
            ],
            [
             0.3333333333333333,
             "#9c179e"
            ],
            [
             0.4444444444444444,
             "#bd3786"
            ],
            [
             0.5555555555555556,
             "#d8576b"
            ],
            [
             0.6666666666666666,
             "#ed7953"
            ],
            [
             0.7777777777777778,
             "#fb9f3a"
            ],
            [
             0.8888888888888888,
             "#fdca26"
            ],
            [
             1,
             "#f0f921"
            ]
           ],
           "sequentialminus": [
            [
             0,
             "#0d0887"
            ],
            [
             0.1111111111111111,
             "#46039f"
            ],
            [
             0.2222222222222222,
             "#7201a8"
            ],
            [
             0.3333333333333333,
             "#9c179e"
            ],
            [
             0.4444444444444444,
             "#bd3786"
            ],
            [
             0.5555555555555556,
             "#d8576b"
            ],
            [
             0.6666666666666666,
             "#ed7953"
            ],
            [
             0.7777777777777778,
             "#fb9f3a"
            ],
            [
             0.8888888888888888,
             "#fdca26"
            ],
            [
             1,
             "#f0f921"
            ]
           ]
          },
          "colorway": [
           "#636efa",
           "#EF553B",
           "#00cc96",
           "#ab63fa",
           "#FFA15A",
           "#19d3f3",
           "#FF6692",
           "#B6E880",
           "#FF97FF",
           "#FECB52"
          ],
          "font": {
           "color": "#2a3f5f"
          },
          "geo": {
           "bgcolor": "white",
           "lakecolor": "white",
           "landcolor": "#E5ECF6",
           "showlakes": true,
           "showland": true,
           "subunitcolor": "white"
          },
          "hoverlabel": {
           "align": "left"
          },
          "hovermode": "closest",
          "mapbox": {
           "style": "light"
          },
          "paper_bgcolor": "white",
          "plot_bgcolor": "#E5ECF6",
          "polar": {
           "angularaxis": {
            "gridcolor": "white",
            "linecolor": "white",
            "ticks": ""
           },
           "bgcolor": "#E5ECF6",
           "radialaxis": {
            "gridcolor": "white",
            "linecolor": "white",
            "ticks": ""
           }
          },
          "scene": {
           "xaxis": {
            "backgroundcolor": "#E5ECF6",
            "gridcolor": "white",
            "gridwidth": 2,
            "linecolor": "white",
            "showbackground": true,
            "ticks": "",
            "zerolinecolor": "white"
           },
           "yaxis": {
            "backgroundcolor": "#E5ECF6",
            "gridcolor": "white",
            "gridwidth": 2,
            "linecolor": "white",
            "showbackground": true,
            "ticks": "",
            "zerolinecolor": "white"
           },
           "zaxis": {
            "backgroundcolor": "#E5ECF6",
            "gridcolor": "white",
            "gridwidth": 2,
            "linecolor": "white",
            "showbackground": true,
            "ticks": "",
            "zerolinecolor": "white"
           }
          },
          "shapedefaults": {
           "line": {
            "color": "#2a3f5f"
           }
          },
          "ternary": {
           "aaxis": {
            "gridcolor": "white",
            "linecolor": "white",
            "ticks": ""
           },
           "baxis": {
            "gridcolor": "white",
            "linecolor": "white",
            "ticks": ""
           },
           "bgcolor": "#E5ECF6",
           "caxis": {
            "gridcolor": "white",
            "linecolor": "white",
            "ticks": ""
           }
          },
          "title": {
           "x": 0.05
          },
          "xaxis": {
           "automargin": true,
           "gridcolor": "white",
           "linecolor": "white",
           "ticks": "",
           "title": {
            "standoff": 15
           },
           "zerolinecolor": "white",
           "zerolinewidth": 2
          },
          "yaxis": {
           "automargin": true,
           "gridcolor": "white",
           "linecolor": "white",
           "ticks": "",
           "title": {
            "standoff": 15
           },
           "zerolinecolor": "white",
           "zerolinewidth": 2
          }
         }
        },
        "title": {
         "text": "Correlation of the most frequent databases in first version"
        },
        "xaxis": {
         "anchor": "y",
         "domain": [
          0,
          1
         ],
         "title": {
          "text": "consequents"
         }
        },
        "yaxis": {
         "anchor": "x",
         "domain": [
          0,
          1
         ],
         "title": {
          "text": "antecedents"
         }
        }
       }
      }
     },
     "metadata": {},
     "output_type": "display_data"
    }
   ],
   "source": [
    "#Graph generated with all the rules without the support filter\n",
    "import plotly.express as px \n",
    "#data = rules1c.sort_values(['support_abs'], ascending=[False])\n",
    "rules1c['support_abs'] = rules1c['support_abs'].astype(int)\n",
    "#df = px.data.gapminder('support_abs')\n",
    "fig = px.scatter(rules1c.sort_values(['support_abs'], ascending=[False]), x=\"consequents\", y=\"antecedents\", \n",
    "size = \"support_abs\", color=\"support_abs\", title='Correlation of the most frequent databases in first version',\n",
    "hover_data=['support_abs'],color_continuous_scale = [\"silver\",\"gray\"],height=500, text='support_abs')\n",
    "#fig.add_annotation(text= 'hover_data')\n",
    "                  #xref=\"antecedent_support\", yref=\"consequent_support\",\n",
    "                 #x=0.3, y=0.3, showarrow=False)\n",
    "#fig.update_traces(textposition='inside')\n",
    "#fig.title('Correlation of the most frequent databases')\n",
    "fig.show()"
   ]
  },
  {
   "cell_type": "code",
   "execution_count": 17,
   "metadata": {},
   "outputs": [
    {
     "data": {
      "application/vnd.plotly.v1+json": {
       "config": {
        "plotlyServerURL": "https://plot.ly"
       },
       "data": [
        {
         "customdata": [
          [
           9
          ],
          [
           8
          ],
          [
           7
          ],
          [
           6
          ],
          [
           5
          ],
          [
           4
          ],
          [
           4
          ],
          [
           4
          ]
         ],
         "hovertemplate": "consequents=%{x}<br>antecedents=%{y}<br>support_abs=%{marker.color}<extra></extra>",
         "legendgroup": "",
         "marker": {
          "color": [
           9,
           8,
           7,
           6,
           5,
           4,
           4,
           4
          ],
          "coloraxis": "coloraxis",
          "size": [
           9,
           8,
           7,
           6,
           5,
           4,
           4,
           4
          ],
          "sizemode": "area",
          "sizeref": 0.0225,
          "symbol": "circle"
         },
         "mode": "markers+text",
         "name": "",
         "orientation": "v",
         "showlegend": false,
         "text": [
          9,
          8,
          7,
          6,
          5,
          4,
          4,
          4
         ],
         "type": "scatter",
         "x": [
          "MySQL",
          "PostgreSQL",
          "MySQL",
          "Oracle",
          "HyperSQL",
          "Oracle",
          "PostgreSQL",
          "PostgreSQL"
         ],
         "xaxis": "x",
         "y": [
          "HyperSQL",
          "MySQL",
          "H2",
          "MySQL",
          "H2",
          "HyperSQL",
          "HyperSQL",
          "Oracle"
         ],
         "yaxis": "y"
        }
       ],
       "layout": {
        "coloraxis": {
         "colorbar": {
          "title": {
           "text": "support_abs"
          }
         },
         "colorscale": [
          [
           0,
           "silver"
          ],
          [
           1,
           "gray"
          ]
         ]
        },
        "legend": {
         "itemsizing": "constant",
         "tracegroupgap": 0
        },
        "template": {
         "data": {
          "bar": [
           {
            "error_x": {
             "color": "#2a3f5f"
            },
            "error_y": {
             "color": "#2a3f5f"
            },
            "marker": {
             "line": {
              "color": "#E5ECF6",
              "width": 0.5
             },
             "pattern": {
              "fillmode": "overlay",
              "size": 10,
              "solidity": 0.2
             }
            },
            "type": "bar"
           }
          ],
          "barpolar": [
           {
            "marker": {
             "line": {
              "color": "#E5ECF6",
              "width": 0.5
             },
             "pattern": {
              "fillmode": "overlay",
              "size": 10,
              "solidity": 0.2
             }
            },
            "type": "barpolar"
           }
          ],
          "carpet": [
           {
            "aaxis": {
             "endlinecolor": "#2a3f5f",
             "gridcolor": "white",
             "linecolor": "white",
             "minorgridcolor": "white",
             "startlinecolor": "#2a3f5f"
            },
            "baxis": {
             "endlinecolor": "#2a3f5f",
             "gridcolor": "white",
             "linecolor": "white",
             "minorgridcolor": "white",
             "startlinecolor": "#2a3f5f"
            },
            "type": "carpet"
           }
          ],
          "choropleth": [
           {
            "colorbar": {
             "outlinewidth": 0,
             "ticks": ""
            },
            "type": "choropleth"
           }
          ],
          "contour": [
           {
            "colorbar": {
             "outlinewidth": 0,
             "ticks": ""
            },
            "colorscale": [
             [
              0,
              "#0d0887"
             ],
             [
              0.1111111111111111,
              "#46039f"
             ],
             [
              0.2222222222222222,
              "#7201a8"
             ],
             [
              0.3333333333333333,
              "#9c179e"
             ],
             [
              0.4444444444444444,
              "#bd3786"
             ],
             [
              0.5555555555555556,
              "#d8576b"
             ],
             [
              0.6666666666666666,
              "#ed7953"
             ],
             [
              0.7777777777777778,
              "#fb9f3a"
             ],
             [
              0.8888888888888888,
              "#fdca26"
             ],
             [
              1,
              "#f0f921"
             ]
            ],
            "type": "contour"
           }
          ],
          "contourcarpet": [
           {
            "colorbar": {
             "outlinewidth": 0,
             "ticks": ""
            },
            "type": "contourcarpet"
           }
          ],
          "heatmap": [
           {
            "colorbar": {
             "outlinewidth": 0,
             "ticks": ""
            },
            "colorscale": [
             [
              0,
              "#0d0887"
             ],
             [
              0.1111111111111111,
              "#46039f"
             ],
             [
              0.2222222222222222,
              "#7201a8"
             ],
             [
              0.3333333333333333,
              "#9c179e"
             ],
             [
              0.4444444444444444,
              "#bd3786"
             ],
             [
              0.5555555555555556,
              "#d8576b"
             ],
             [
              0.6666666666666666,
              "#ed7953"
             ],
             [
              0.7777777777777778,
              "#fb9f3a"
             ],
             [
              0.8888888888888888,
              "#fdca26"
             ],
             [
              1,
              "#f0f921"
             ]
            ],
            "type": "heatmap"
           }
          ],
          "heatmapgl": [
           {
            "colorbar": {
             "outlinewidth": 0,
             "ticks": ""
            },
            "colorscale": [
             [
              0,
              "#0d0887"
             ],
             [
              0.1111111111111111,
              "#46039f"
             ],
             [
              0.2222222222222222,
              "#7201a8"
             ],
             [
              0.3333333333333333,
              "#9c179e"
             ],
             [
              0.4444444444444444,
              "#bd3786"
             ],
             [
              0.5555555555555556,
              "#d8576b"
             ],
             [
              0.6666666666666666,
              "#ed7953"
             ],
             [
              0.7777777777777778,
              "#fb9f3a"
             ],
             [
              0.8888888888888888,
              "#fdca26"
             ],
             [
              1,
              "#f0f921"
             ]
            ],
            "type": "heatmapgl"
           }
          ],
          "histogram": [
           {
            "marker": {
             "pattern": {
              "fillmode": "overlay",
              "size": 10,
              "solidity": 0.2
             }
            },
            "type": "histogram"
           }
          ],
          "histogram2d": [
           {
            "colorbar": {
             "outlinewidth": 0,
             "ticks": ""
            },
            "colorscale": [
             [
              0,
              "#0d0887"
             ],
             [
              0.1111111111111111,
              "#46039f"
             ],
             [
              0.2222222222222222,
              "#7201a8"
             ],
             [
              0.3333333333333333,
              "#9c179e"
             ],
             [
              0.4444444444444444,
              "#bd3786"
             ],
             [
              0.5555555555555556,
              "#d8576b"
             ],
             [
              0.6666666666666666,
              "#ed7953"
             ],
             [
              0.7777777777777778,
              "#fb9f3a"
             ],
             [
              0.8888888888888888,
              "#fdca26"
             ],
             [
              1,
              "#f0f921"
             ]
            ],
            "type": "histogram2d"
           }
          ],
          "histogram2dcontour": [
           {
            "colorbar": {
             "outlinewidth": 0,
             "ticks": ""
            },
            "colorscale": [
             [
              0,
              "#0d0887"
             ],
             [
              0.1111111111111111,
              "#46039f"
             ],
             [
              0.2222222222222222,
              "#7201a8"
             ],
             [
              0.3333333333333333,
              "#9c179e"
             ],
             [
              0.4444444444444444,
              "#bd3786"
             ],
             [
              0.5555555555555556,
              "#d8576b"
             ],
             [
              0.6666666666666666,
              "#ed7953"
             ],
             [
              0.7777777777777778,
              "#fb9f3a"
             ],
             [
              0.8888888888888888,
              "#fdca26"
             ],
             [
              1,
              "#f0f921"
             ]
            ],
            "type": "histogram2dcontour"
           }
          ],
          "mesh3d": [
           {
            "colorbar": {
             "outlinewidth": 0,
             "ticks": ""
            },
            "type": "mesh3d"
           }
          ],
          "parcoords": [
           {
            "line": {
             "colorbar": {
              "outlinewidth": 0,
              "ticks": ""
             }
            },
            "type": "parcoords"
           }
          ],
          "pie": [
           {
            "automargin": true,
            "type": "pie"
           }
          ],
          "scatter": [
           {
            "fillpattern": {
             "fillmode": "overlay",
             "size": 10,
             "solidity": 0.2
            },
            "type": "scatter"
           }
          ],
          "scatter3d": [
           {
            "line": {
             "colorbar": {
              "outlinewidth": 0,
              "ticks": ""
             }
            },
            "marker": {
             "colorbar": {
              "outlinewidth": 0,
              "ticks": ""
             }
            },
            "type": "scatter3d"
           }
          ],
          "scattercarpet": [
           {
            "marker": {
             "colorbar": {
              "outlinewidth": 0,
              "ticks": ""
             }
            },
            "type": "scattercarpet"
           }
          ],
          "scattergeo": [
           {
            "marker": {
             "colorbar": {
              "outlinewidth": 0,
              "ticks": ""
             }
            },
            "type": "scattergeo"
           }
          ],
          "scattergl": [
           {
            "marker": {
             "colorbar": {
              "outlinewidth": 0,
              "ticks": ""
             }
            },
            "type": "scattergl"
           }
          ],
          "scattermapbox": [
           {
            "marker": {
             "colorbar": {
              "outlinewidth": 0,
              "ticks": ""
             }
            },
            "type": "scattermapbox"
           }
          ],
          "scatterpolar": [
           {
            "marker": {
             "colorbar": {
              "outlinewidth": 0,
              "ticks": ""
             }
            },
            "type": "scatterpolar"
           }
          ],
          "scatterpolargl": [
           {
            "marker": {
             "colorbar": {
              "outlinewidth": 0,
              "ticks": ""
             }
            },
            "type": "scatterpolargl"
           }
          ],
          "scatterternary": [
           {
            "marker": {
             "colorbar": {
              "outlinewidth": 0,
              "ticks": ""
             }
            },
            "type": "scatterternary"
           }
          ],
          "surface": [
           {
            "colorbar": {
             "outlinewidth": 0,
             "ticks": ""
            },
            "colorscale": [
             [
              0,
              "#0d0887"
             ],
             [
              0.1111111111111111,
              "#46039f"
             ],
             [
              0.2222222222222222,
              "#7201a8"
             ],
             [
              0.3333333333333333,
              "#9c179e"
             ],
             [
              0.4444444444444444,
              "#bd3786"
             ],
             [
              0.5555555555555556,
              "#d8576b"
             ],
             [
              0.6666666666666666,
              "#ed7953"
             ],
             [
              0.7777777777777778,
              "#fb9f3a"
             ],
             [
              0.8888888888888888,
              "#fdca26"
             ],
             [
              1,
              "#f0f921"
             ]
            ],
            "type": "surface"
           }
          ],
          "table": [
           {
            "cells": {
             "fill": {
              "color": "#EBF0F8"
             },
             "line": {
              "color": "white"
             }
            },
            "header": {
             "fill": {
              "color": "#C8D4E3"
             },
             "line": {
              "color": "white"
             }
            },
            "type": "table"
           }
          ]
         },
         "layout": {
          "annotationdefaults": {
           "arrowcolor": "#2a3f5f",
           "arrowhead": 0,
           "arrowwidth": 1
          },
          "autotypenumbers": "strict",
          "coloraxis": {
           "colorbar": {
            "outlinewidth": 0,
            "ticks": ""
           }
          },
          "colorscale": {
           "diverging": [
            [
             0,
             "#8e0152"
            ],
            [
             0.1,
             "#c51b7d"
            ],
            [
             0.2,
             "#de77ae"
            ],
            [
             0.3,
             "#f1b6da"
            ],
            [
             0.4,
             "#fde0ef"
            ],
            [
             0.5,
             "#f7f7f7"
            ],
            [
             0.6,
             "#e6f5d0"
            ],
            [
             0.7,
             "#b8e186"
            ],
            [
             0.8,
             "#7fbc41"
            ],
            [
             0.9,
             "#4d9221"
            ],
            [
             1,
             "#276419"
            ]
           ],
           "sequential": [
            [
             0,
             "#0d0887"
            ],
            [
             0.1111111111111111,
             "#46039f"
            ],
            [
             0.2222222222222222,
             "#7201a8"
            ],
            [
             0.3333333333333333,
             "#9c179e"
            ],
            [
             0.4444444444444444,
             "#bd3786"
            ],
            [
             0.5555555555555556,
             "#d8576b"
            ],
            [
             0.6666666666666666,
             "#ed7953"
            ],
            [
             0.7777777777777778,
             "#fb9f3a"
            ],
            [
             0.8888888888888888,
             "#fdca26"
            ],
            [
             1,
             "#f0f921"
            ]
           ],
           "sequentialminus": [
            [
             0,
             "#0d0887"
            ],
            [
             0.1111111111111111,
             "#46039f"
            ],
            [
             0.2222222222222222,
             "#7201a8"
            ],
            [
             0.3333333333333333,
             "#9c179e"
            ],
            [
             0.4444444444444444,
             "#bd3786"
            ],
            [
             0.5555555555555556,
             "#d8576b"
            ],
            [
             0.6666666666666666,
             "#ed7953"
            ],
            [
             0.7777777777777778,
             "#fb9f3a"
            ],
            [
             0.8888888888888888,
             "#fdca26"
            ],
            [
             1,
             "#f0f921"
            ]
           ]
          },
          "colorway": [
           "#636efa",
           "#EF553B",
           "#00cc96",
           "#ab63fa",
           "#FFA15A",
           "#19d3f3",
           "#FF6692",
           "#B6E880",
           "#FF97FF",
           "#FECB52"
          ],
          "font": {
           "color": "#2a3f5f"
          },
          "geo": {
           "bgcolor": "white",
           "lakecolor": "white",
           "landcolor": "#E5ECF6",
           "showlakes": true,
           "showland": true,
           "subunitcolor": "white"
          },
          "hoverlabel": {
           "align": "left"
          },
          "hovermode": "closest",
          "mapbox": {
           "style": "light"
          },
          "paper_bgcolor": "white",
          "plot_bgcolor": "#E5ECF6",
          "polar": {
           "angularaxis": {
            "gridcolor": "white",
            "linecolor": "white",
            "ticks": ""
           },
           "bgcolor": "#E5ECF6",
           "radialaxis": {
            "gridcolor": "white",
            "linecolor": "white",
            "ticks": ""
           }
          },
          "scene": {
           "xaxis": {
            "backgroundcolor": "#E5ECF6",
            "gridcolor": "white",
            "gridwidth": 2,
            "linecolor": "white",
            "showbackground": true,
            "ticks": "",
            "zerolinecolor": "white"
           },
           "yaxis": {
            "backgroundcolor": "#E5ECF6",
            "gridcolor": "white",
            "gridwidth": 2,
            "linecolor": "white",
            "showbackground": true,
            "ticks": "",
            "zerolinecolor": "white"
           },
           "zaxis": {
            "backgroundcolor": "#E5ECF6",
            "gridcolor": "white",
            "gridwidth": 2,
            "linecolor": "white",
            "showbackground": true,
            "ticks": "",
            "zerolinecolor": "white"
           }
          },
          "shapedefaults": {
           "line": {
            "color": "#2a3f5f"
           }
          },
          "ternary": {
           "aaxis": {
            "gridcolor": "white",
            "linecolor": "white",
            "ticks": ""
           },
           "baxis": {
            "gridcolor": "white",
            "linecolor": "white",
            "ticks": ""
           },
           "bgcolor": "#E5ECF6",
           "caxis": {
            "gridcolor": "white",
            "linecolor": "white",
            "ticks": ""
           }
          },
          "title": {
           "x": 0.05
          },
          "xaxis": {
           "automargin": true,
           "gridcolor": "white",
           "linecolor": "white",
           "ticks": "",
           "title": {
            "standoff": 15
           },
           "zerolinecolor": "white",
           "zerolinewidth": 2
          },
          "yaxis": {
           "automargin": true,
           "gridcolor": "white",
           "linecolor": "white",
           "ticks": "",
           "title": {
            "standoff": 15
           },
           "zerolinecolor": "white",
           "zerolinewidth": 2
          }
         }
        },
        "title": {
         "text": "Correlation of the most frequent databases in the first version"
        },
        "xaxis": {
         "anchor": "y",
         "domain": [
          0,
          1
         ],
         "title": {
          "text": "consequents"
         }
        },
        "yaxis": {
         "anchor": "x",
         "domain": [
          0,
          1
         ],
         "title": {
          "text": "antecedents"
         }
        }
       }
      }
     },
     "metadata": {},
     "output_type": "display_data"
    }
   ],
   "source": [
    "#Test showing the rules without repetitions and without function ordering.\n",
    "import plotly.express as px \n",
    "#rules1cd = rules1c[(rules1c['support'] >= 0.04) & (rules1c['support_abs'] != 0)] \n",
    "rules1c['support_abs'] = rules1c['support_abs'].astype(int)\n",
    "#fig = px.scatter(rules1c.groupby(['antecedent_sup_abs','consequent_sup_abs']).mean().sort_values(['support_abs',], ascending=[False]),\n",
    "#.sort_values(['support_abs'], ascending=[False])\n",
    "fig = px.scatter(rules1c.sort_values(['support_abs'], ascending=[False]), x=\"consequents\", y=\"antecedents\", \n",
    "#x=\"consequents\", y=\"antecedents\", \n",
    "size='support_abs',  color=\"support_abs\", title='Correlation of the most frequent databases in the first version',\n",
    "hover_data=['support_abs'], color_continuous_scale = [\"silver\",\"gray\"], text='support_abs')\n",
    "#fig.title('Correlation of the most frequent databases')\n",
    "fig.show()"
   ]
  },
  {
   "cell_type": "code",
   "execution_count": 18,
   "metadata": {},
   "outputs": [
    {
     "data": {
      "text/html": [
       "<div>\n",
       "<style scoped>\n",
       "    .dataframe tbody tr th:only-of-type {\n",
       "        vertical-align: middle;\n",
       "    }\n",
       "\n",
       "    .dataframe tbody tr th {\n",
       "        vertical-align: top;\n",
       "    }\n",
       "\n",
       "    .dataframe thead th {\n",
       "        text-align: right;\n",
       "    }\n",
       "</style>\n",
       "<table border=\"1\" class=\"dataframe\">\n",
       "  <thead>\n",
       "    <tr style=\"text-align: right;\">\n",
       "      <th></th>\n",
       "      <th>Antecedents</th>\n",
       "      <th>Consequents</th>\n",
       "      <th>antecedent support</th>\n",
       "      <th>antecedent_sup_abs</th>\n",
       "      <th>consequent support</th>\n",
       "      <th>consequent_sup_abs</th>\n",
       "      <th>support</th>\n",
       "      <th>support_abs</th>\n",
       "      <th>confidence</th>\n",
       "      <th>lift</th>\n",
       "      <th>leverage</th>\n",
       "      <th>conviction</th>\n",
       "      <th>antecedent_len</th>\n",
       "      <th>consequente_len</th>\n",
       "    </tr>\n",
       "  </thead>\n",
       "  <tbody>\n",
       "    <tr>\n",
       "      <th>0</th>\n",
       "      <td>HyperSQL</td>\n",
       "      <td>MySQL</td>\n",
       "      <td>0.069231</td>\n",
       "      <td>13.638462</td>\n",
       "      <td>0.120513</td>\n",
       "      <td>23.741026</td>\n",
       "      <td>0.046154</td>\n",
       "      <td>9</td>\n",
       "      <td>0.666667</td>\n",
       "      <td>5.531915</td>\n",
       "      <td>0.037811</td>\n",
       "      <td>2.638462</td>\n",
       "      <td>1.0</td>\n",
       "      <td>1.0</td>\n",
       "    </tr>\n",
       "    <tr>\n",
       "      <th>5</th>\n",
       "      <td>HyperSQL</td>\n",
       "      <td>Oracle</td>\n",
       "      <td>0.069231</td>\n",
       "      <td>13.638462</td>\n",
       "      <td>0.038462</td>\n",
       "      <td>7.576923</td>\n",
       "      <td>0.023077</td>\n",
       "      <td>4</td>\n",
       "      <td>0.333333</td>\n",
       "      <td>8.666667</td>\n",
       "      <td>0.020414</td>\n",
       "      <td>1.442308</td>\n",
       "      <td>1.0</td>\n",
       "      <td>1.0</td>\n",
       "    </tr>\n",
       "    <tr>\n",
       "      <th>6</th>\n",
       "      <td>HyperSQL</td>\n",
       "      <td>PostgreSQL</td>\n",
       "      <td>0.069231</td>\n",
       "      <td>13.638462</td>\n",
       "      <td>0.046154</td>\n",
       "      <td>9.092308</td>\n",
       "      <td>0.023077</td>\n",
       "      <td>4</td>\n",
       "      <td>0.333333</td>\n",
       "      <td>7.222222</td>\n",
       "      <td>0.019882</td>\n",
       "      <td>1.430769</td>\n",
       "      <td>1.0</td>\n",
       "      <td>1.0</td>\n",
       "    </tr>\n",
       "    <tr>\n",
       "      <th>3</th>\n",
       "      <td>MySQL</td>\n",
       "      <td>Oracle</td>\n",
       "      <td>0.120513</td>\n",
       "      <td>23.741026</td>\n",
       "      <td>0.038462</td>\n",
       "      <td>7.576923</td>\n",
       "      <td>0.030769</td>\n",
       "      <td>6</td>\n",
       "      <td>0.255319</td>\n",
       "      <td>6.638298</td>\n",
       "      <td>0.026134</td>\n",
       "      <td>1.291209</td>\n",
       "      <td>1.0</td>\n",
       "      <td>1.0</td>\n",
       "    </tr>\n",
       "    <tr>\n",
       "      <th>1</th>\n",
       "      <td>MySQL</td>\n",
       "      <td>PostgreSQL</td>\n",
       "      <td>0.120513</td>\n",
       "      <td>23.741026</td>\n",
       "      <td>0.046154</td>\n",
       "      <td>9.092308</td>\n",
       "      <td>0.041026</td>\n",
       "      <td>8</td>\n",
       "      <td>0.340426</td>\n",
       "      <td>7.375887</td>\n",
       "      <td>0.035464</td>\n",
       "      <td>1.446154</td>\n",
       "      <td>1.0</td>\n",
       "      <td>1.0</td>\n",
       "    </tr>\n",
       "    <tr>\n",
       "      <th>4</th>\n",
       "      <td>H2</td>\n",
       "      <td>HyperSQL</td>\n",
       "      <td>0.066667</td>\n",
       "      <td>13.133333</td>\n",
       "      <td>0.069231</td>\n",
       "      <td>13.638462</td>\n",
       "      <td>0.028205</td>\n",
       "      <td>5</td>\n",
       "      <td>0.423077</td>\n",
       "      <td>6.111111</td>\n",
       "      <td>0.023590</td>\n",
       "      <td>1.613333</td>\n",
       "      <td>1.0</td>\n",
       "      <td>1.0</td>\n",
       "    </tr>\n",
       "    <tr>\n",
       "      <th>2</th>\n",
       "      <td>H2</td>\n",
       "      <td>MySQL</td>\n",
       "      <td>0.066667</td>\n",
       "      <td>13.133333</td>\n",
       "      <td>0.120513</td>\n",
       "      <td>23.741026</td>\n",
       "      <td>0.035897</td>\n",
       "      <td>7</td>\n",
       "      <td>0.538462</td>\n",
       "      <td>4.468085</td>\n",
       "      <td>0.027863</td>\n",
       "      <td>1.905556</td>\n",
       "      <td>1.0</td>\n",
       "      <td>1.0</td>\n",
       "    </tr>\n",
       "    <tr>\n",
       "      <th>7</th>\n",
       "      <td>Oracle</td>\n",
       "      <td>PostgreSQL</td>\n",
       "      <td>0.038462</td>\n",
       "      <td>7.576923</td>\n",
       "      <td>0.046154</td>\n",
       "      <td>9.092308</td>\n",
       "      <td>0.023077</td>\n",
       "      <td>4</td>\n",
       "      <td>0.600000</td>\n",
       "      <td>13.000000</td>\n",
       "      <td>0.021302</td>\n",
       "      <td>2.384615</td>\n",
       "      <td>1.0</td>\n",
       "      <td>1.0</td>\n",
       "    </tr>\n",
       "  </tbody>\n",
       "</table>\n",
       "</div>"
      ],
      "text/plain": [
       "  Antecedents Consequents  antecedent support  antecedent_sup_abs  \\\n",
       "0    HyperSQL       MySQL            0.069231           13.638462   \n",
       "5    HyperSQL      Oracle            0.069231           13.638462   \n",
       "6    HyperSQL  PostgreSQL            0.069231           13.638462   \n",
       "3       MySQL      Oracle            0.120513           23.741026   \n",
       "1       MySQL  PostgreSQL            0.120513           23.741026   \n",
       "4          H2    HyperSQL            0.066667           13.133333   \n",
       "2          H2       MySQL            0.066667           13.133333   \n",
       "7      Oracle  PostgreSQL            0.038462            7.576923   \n",
       "\n",
       "   consequent support  consequent_sup_abs   support  support_abs  confidence  \\\n",
       "0            0.120513           23.741026  0.046154            9    0.666667   \n",
       "5            0.038462            7.576923  0.023077            4    0.333333   \n",
       "6            0.046154            9.092308  0.023077            4    0.333333   \n",
       "3            0.038462            7.576923  0.030769            6    0.255319   \n",
       "1            0.046154            9.092308  0.041026            8    0.340426   \n",
       "4            0.069231           13.638462  0.028205            5    0.423077   \n",
       "2            0.120513           23.741026  0.035897            7    0.538462   \n",
       "7            0.046154            9.092308  0.023077            4    0.600000   \n",
       "\n",
       "        lift  leverage  conviction  antecedent_len  consequente_len  \n",
       "0   5.531915  0.037811    2.638462             1.0              1.0  \n",
       "5   8.666667  0.020414    1.442308             1.0              1.0  \n",
       "6   7.222222  0.019882    1.430769             1.0              1.0  \n",
       "3   6.638298  0.026134    1.291209             1.0              1.0  \n",
       "1   7.375887  0.035464    1.446154             1.0              1.0  \n",
       "4   6.111111  0.023590    1.613333             1.0              1.0  \n",
       "2   4.468085  0.027863    1.905556             1.0              1.0  \n",
       "7  13.000000  0.021302    2.384615             1.0              1.0  "
      ]
     },
     "execution_count": 18,
     "metadata": {},
     "output_type": "execute_result"
    }
   ],
   "source": [
    "#In this section the dataframe is ordered\n",
    "orules1c = rules1c.sort_values(['support_abs'], ascending=[False])\n",
    "\n",
    "order = {}\n",
    "current = 1\n",
    "for index, row in orules1c.iterrows():\n",
    "    if row['antecedents'] not in order:\n",
    "        order[row['antecedents']] = current\n",
    "        current += 1\n",
    "for index, row in orules1c.iterrows():\n",
    "    if row['consequents'] not in order:\n",
    "        order[row['consequents']] = current\n",
    "        current += 1\n",
    "#function ordering\n",
    "def order_fn(x):\n",
    "    if x.name == 'support_abs':\n",
    "        return x\n",
    "    return x.apply(lambda element: order[element])\n",
    "\n",
    "orules1c = orules1c.sort_values(by=['antecedents', 'consequents', 'support_abs'], key=order_fn)\n",
    "\n",
    "orules1c['consequents'] = pd.Categorical(orules1c['consequents'], order.keys())\n",
    "orules1c['antecedents'] = pd.Categorical(orules1c['antecedents'], order.keys())\n",
    "orules1c = orules1c.rename(columns={\"consequents\": \"Consequents\", \"antecedents\": \"Antecedents\"})\n",
    "orules1c\n",
    "#order"
   ]
  },
  {
   "cell_type": "code",
   "execution_count": 19,
   "metadata": {},
   "outputs": [],
   "source": [
    "#if you need to generate the rules in excel\n",
    "rules_filterv1 = orules1c.to_excel('rules_filtersv1_order.xlsx', index=False)"
   ]
  },
  {
   "attachments": {},
   "cell_type": "markdown",
   "metadata": {},
   "source": [
    "Test generating the sorted heatmap after the ordering function"
   ]
  },
  {
   "cell_type": "code",
   "execution_count": 20,
   "metadata": {},
   "outputs": [
    {
     "data": {
      "image/png": "[encoded data removed]",
      "text/plain": [
       "<Figure size 1200x1200 with 2 Axes>"
      ]
     },
     "metadata": {},
     "output_type": "display_data"
    }
   ],
   "source": [
    "#Generating a heatmap without repetitions, with function ordering, following the tip:\n",
    "# generate the complete heatmap with the y axis inverted and\n",
    "# use the parameter mask=np.triu(np.ones_like(df)) in sns.heatmap\n",
    "import seaborn as sns\n",
    "pivot = orules1c.pivot(index='Antecedents', columns='Consequents', values='support_abs')\n",
    "#pivot = pivot.iloc[::-1]\n",
    "sns.heatmap(pivot, xticklabels=True, yticklabels=True, vmin=0, annot=True, cmap=sns.color_palette(\"Greys\", as_cmap=True), \n",
    "    mask=np.triu(np.ones_like(pivot)), square=True)\n",
    "fig = plt.gcf()\n",
    "fig.set_size_inches(12, 12)\n",
    "plt.savefig(IMAGES_DIR+\"/fig12.pdf\", format=\"pdf\", bbox_inches=\"tight\")\n"
   ]
  },
  {
   "cell_type": "code",
   "execution_count": 21,
   "metadata": {},
   "outputs": [
    {
     "data": {
      "application/vnd.plotly.v1+json": {
       "config": {
        "plotlyServerURL": "https://plot.ly"
       },
       "data": [
        {
         "customdata": [
          [
           9
          ],
          [
           8
          ],
          [
           7
          ],
          [
           6
          ],
          [
           5
          ],
          [
           4
          ],
          [
           4
          ],
          [
           4
          ]
         ],
         "hovertemplate": "Consequents=%{x}<br>Antecedents=%{y}<br>support_abs=%{marker.color}<extra></extra>",
         "legendgroup": "",
         "marker": {
          "color": [
           9,
           8,
           7,
           6,
           5,
           4,
           4,
           4
          ],
          "coloraxis": "coloraxis",
          "size": [
           9,
           8,
           7,
           6,
           5,
           4,
           4,
           4
          ],
          "sizemode": "area",
          "sizeref": 0.0225,
          "symbol": "circle"
         },
         "mode": "markers+text",
         "name": "",
         "orientation": "v",
         "showlegend": false,
         "text": [
          9,
          8,
          7,
          6,
          5,
          4,
          4,
          4
         ],
         "type": "scatter",
         "x": [
          "MySQL",
          "PostgreSQL",
          "MySQL",
          "Oracle",
          "HyperSQL",
          "Oracle",
          "PostgreSQL",
          "PostgreSQL"
         ],
         "xaxis": "x",
         "y": [
          "HyperSQL",
          "MySQL",
          "H2",
          "MySQL",
          "H2",
          "HyperSQL",
          "HyperSQL",
          "Oracle"
         ],
         "yaxis": "y"
        }
       ],
       "layout": {
        "coloraxis": {
         "colorbar": {
          "title": {
           "text": "support_abs"
          }
         },
         "colorscale": [
          [
           0,
           "silver"
          ],
          [
           1,
           "gray"
          ]
         ]
        },
        "legend": {
         "itemsizing": "constant",
         "tracegroupgap": 0
        },
        "template": {
         "data": {
          "bar": [
           {
            "error_x": {
             "color": "#2a3f5f"
            },
            "error_y": {
             "color": "#2a3f5f"
            },
            "marker": {
             "line": {
              "color": "#E5ECF6",
              "width": 0.5
             },
             "pattern": {
              "fillmode": "overlay",
              "size": 10,
              "solidity": 0.2
             }
            },
            "type": "bar"
           }
          ],
          "barpolar": [
           {
            "marker": {
             "line": {
              "color": "#E5ECF6",
              "width": 0.5
             },
             "pattern": {
              "fillmode": "overlay",
              "size": 10,
              "solidity": 0.2
             }
            },
            "type": "barpolar"
           }
          ],
          "carpet": [
           {
            "aaxis": {
             "endlinecolor": "#2a3f5f",
             "gridcolor": "white",
             "linecolor": "white",
             "minorgridcolor": "white",
             "startlinecolor": "#2a3f5f"
            },
            "baxis": {
             "endlinecolor": "#2a3f5f",
             "gridcolor": "white",
             "linecolor": "white",
             "minorgridcolor": "white",
             "startlinecolor": "#2a3f5f"
            },
            "type": "carpet"
           }
          ],
          "choropleth": [
           {
            "colorbar": {
             "outlinewidth": 0,
             "ticks": ""
            },
            "type": "choropleth"
           }
          ],
          "contour": [
           {
            "colorbar": {
             "outlinewidth": 0,
             "ticks": ""
            },
            "colorscale": [
             [
              0,
              "#0d0887"
             ],
             [
              0.1111111111111111,
              "#46039f"
             ],
             [
              0.2222222222222222,
              "#7201a8"
             ],
             [
              0.3333333333333333,
              "#9c179e"
             ],
             [
              0.4444444444444444,
              "#bd3786"
             ],
             [
              0.5555555555555556,
              "#d8576b"
             ],
             [
              0.6666666666666666,
              "#ed7953"
             ],
             [
              0.7777777777777778,
              "#fb9f3a"
             ],
             [
              0.8888888888888888,
              "#fdca26"
             ],
             [
              1,
              "#f0f921"
             ]
            ],
            "type": "contour"
           }
          ],
          "contourcarpet": [
           {
            "colorbar": {
             "outlinewidth": 0,
             "ticks": ""
            },
            "type": "contourcarpet"
           }
          ],
          "heatmap": [
           {
            "colorbar": {
             "outlinewidth": 0,
             "ticks": ""
            },
            "colorscale": [
             [
              0,
              "#0d0887"
             ],
             [
              0.1111111111111111,
              "#46039f"
             ],
             [
              0.2222222222222222,
              "#7201a8"
             ],
             [
              0.3333333333333333,
              "#9c179e"
             ],
             [
              0.4444444444444444,
              "#bd3786"
             ],
             [
              0.5555555555555556,
              "#d8576b"
             ],
             [
              0.6666666666666666,
              "#ed7953"
             ],
             [
              0.7777777777777778,
              "#fb9f3a"
             ],
             [
              0.8888888888888888,
              "#fdca26"
             ],
             [
              1,
              "#f0f921"
             ]
            ],
            "type": "heatmap"
           }
          ],
          "heatmapgl": [
           {
            "colorbar": {
             "outlinewidth": 0,
             "ticks": ""
            },
            "colorscale": [
             [
              0,
              "#0d0887"
             ],
             [
              0.1111111111111111,
              "#46039f"
             ],
             [
              0.2222222222222222,
              "#7201a8"
             ],
             [
              0.3333333333333333,
              "#9c179e"
             ],
             [
              0.4444444444444444,
              "#bd3786"
             ],
             [
              0.5555555555555556,
              "#d8576b"
             ],
             [
              0.6666666666666666,
              "#ed7953"
             ],
             [
              0.7777777777777778,
              "#fb9f3a"
             ],
             [
              0.8888888888888888,
              "#fdca26"
             ],
             [
              1,
              "#f0f921"
             ]
            ],
            "type": "heatmapgl"
           }
          ],
          "histogram": [
           {
            "marker": {
             "pattern": {
              "fillmode": "overlay",
              "size": 10,
              "solidity": 0.2
             }
            },
            "type": "histogram"
           }
          ],
          "histogram2d": [
           {
            "colorbar": {
             "outlinewidth": 0,
             "ticks": ""
            },
            "colorscale": [
             [
              0,
              "#0d0887"
             ],
             [
              0.1111111111111111,
              "#46039f"
             ],
             [
              0.2222222222222222,
              "#7201a8"
             ],
             [
              0.3333333333333333,
              "#9c179e"
             ],
             [
              0.4444444444444444,
              "#bd3786"
             ],
             [
              0.5555555555555556,
              "#d8576b"
             ],
             [
              0.6666666666666666,
              "#ed7953"
             ],
             [
              0.7777777777777778,
              "#fb9f3a"
             ],
             [
              0.8888888888888888,
              "#fdca26"
             ],
             [
              1,
              "#f0f921"
             ]
            ],
            "type": "histogram2d"
           }
          ],
          "histogram2dcontour": [
           {
            "colorbar": {
             "outlinewidth": 0,
             "ticks": ""
            },
            "colorscale": [
             [
              0,
              "#0d0887"
             ],
             [
              0.1111111111111111,
              "#46039f"
             ],
             [
              0.2222222222222222,
              "#7201a8"
             ],
             [
              0.3333333333333333,
              "#9c179e"
             ],
             [
              0.4444444444444444,
              "#bd3786"
             ],
             [
              0.5555555555555556,
              "#d8576b"
             ],
             [
              0.6666666666666666,
              "#ed7953"
             ],
             [
              0.7777777777777778,
              "#fb9f3a"
             ],
             [
              0.8888888888888888,
              "#fdca26"
             ],
             [
              1,
              "#f0f921"
             ]
            ],
            "type": "histogram2dcontour"
           }
          ],
          "mesh3d": [
           {
            "colorbar": {
             "outlinewidth": 0,
             "ticks": ""
            },
            "type": "mesh3d"
           }
          ],
          "parcoords": [
           {
            "line": {
             "colorbar": {
              "outlinewidth": 0,
              "ticks": ""
             }
            },
            "type": "parcoords"
           }
          ],
          "pie": [
           {
            "automargin": true,
            "type": "pie"
           }
          ],
          "scatter": [
           {
            "fillpattern": {
             "fillmode": "overlay",
             "size": 10,
             "solidity": 0.2
            },
            "type": "scatter"
           }
          ],
          "scatter3d": [
           {
            "line": {
             "colorbar": {
              "outlinewidth": 0,
              "ticks": ""
             }
            },
            "marker": {
             "colorbar": {
              "outlinewidth": 0,
              "ticks": ""
             }
            },
            "type": "scatter3d"
           }
          ],
          "scattercarpet": [
           {
            "marker": {
             "colorbar": {
              "outlinewidth": 0,
              "ticks": ""
             }
            },
            "type": "scattercarpet"
           }
          ],
          "scattergeo": [
           {
            "marker": {
             "colorbar": {
              "outlinewidth": 0,
              "ticks": ""
             }
            },
            "type": "scattergeo"
           }
          ],
          "scattergl": [
           {
            "marker": {
             "colorbar": {
              "outlinewidth": 0,
              "ticks": ""
             }
            },
            "type": "scattergl"
           }
          ],
          "scattermapbox": [
           {
            "marker": {
             "colorbar": {
              "outlinewidth": 0,
              "ticks": ""
             }
            },
            "type": "scattermapbox"
           }
          ],
          "scatterpolar": [
           {
            "marker": {
             "colorbar": {
              "outlinewidth": 0,
              "ticks": ""
             }
            },
            "type": "scatterpolar"
           }
          ],
          "scatterpolargl": [
           {
            "marker": {
             "colorbar": {
              "outlinewidth": 0,
              "ticks": ""
             }
            },
            "type": "scatterpolargl"
           }
          ],
          "scatterternary": [
           {
            "marker": {
             "colorbar": {
              "outlinewidth": 0,
              "ticks": ""
             }
            },
            "type": "scatterternary"
           }
          ],
          "surface": [
           {
            "colorbar": {
             "outlinewidth": 0,
             "ticks": ""
            },
            "colorscale": [
             [
              0,
              "#0d0887"
             ],
             [
              0.1111111111111111,
              "#46039f"
             ],
             [
              0.2222222222222222,
              "#7201a8"
             ],
             [
              0.3333333333333333,
              "#9c179e"
             ],
             [
              0.4444444444444444,
              "#bd3786"
             ],
             [
              0.5555555555555556,
              "#d8576b"
             ],
             [
              0.6666666666666666,
              "#ed7953"
             ],
             [
              0.7777777777777778,
              "#fb9f3a"
             ],
             [
              0.8888888888888888,
              "#fdca26"
             ],
             [
              1,
              "#f0f921"
             ]
            ],
            "type": "surface"
           }
          ],
          "table": [
           {
            "cells": {
             "fill": {
              "color": "#EBF0F8"
             },
             "line": {
              "color": "white"
             }
            },
            "header": {
             "fill": {
              "color": "#C8D4E3"
             },
             "line": {
              "color": "white"
             }
            },
            "type": "table"
           }
          ]
         },
         "layout": {
          "annotationdefaults": {
           "arrowcolor": "#2a3f5f",
           "arrowhead": 0,
           "arrowwidth": 1
          },
          "autotypenumbers": "strict",
          "coloraxis": {
           "colorbar": {
            "outlinewidth": 0,
            "ticks": ""
           }
          },
          "colorscale": {
           "diverging": [
            [
             0,
             "#8e0152"
            ],
            [
             0.1,
             "#c51b7d"
            ],
            [
             0.2,
             "#de77ae"
            ],
            [
             0.3,
             "#f1b6da"
            ],
            [
             0.4,
             "#fde0ef"
            ],
            [
             0.5,
             "#f7f7f7"
            ],
            [
             0.6,
             "#e6f5d0"
            ],
            [
             0.7,
             "#b8e186"
            ],
            [
             0.8,
             "#7fbc41"
            ],
            [
             0.9,
             "#4d9221"
            ],
            [
             1,
             "#276419"
            ]
           ],
           "sequential": [
            [
             0,
             "#0d0887"
            ],
            [
             0.1111111111111111,
             "#46039f"
            ],
            [
             0.2222222222222222,
             "#7201a8"
            ],
            [
             0.3333333333333333,
             "#9c179e"
            ],
            [
             0.4444444444444444,
             "#bd3786"
            ],
            [
             0.5555555555555556,
             "#d8576b"
            ],
            [
             0.6666666666666666,
             "#ed7953"
            ],
            [
             0.7777777777777778,
             "#fb9f3a"
            ],
            [
             0.8888888888888888,
             "#fdca26"
            ],
            [
             1,
             "#f0f921"
            ]
           ],
           "sequentialminus": [
            [
             0,
             "#0d0887"
            ],
            [
             0.1111111111111111,
             "#46039f"
            ],
            [
             0.2222222222222222,
             "#7201a8"
            ],
            [
             0.3333333333333333,
             "#9c179e"
            ],
            [
             0.4444444444444444,
             "#bd3786"
            ],
            [
             0.5555555555555556,
             "#d8576b"
            ],
            [
             0.6666666666666666,
             "#ed7953"
            ],
            [
             0.7777777777777778,
             "#fb9f3a"
            ],
            [
             0.8888888888888888,
             "#fdca26"
            ],
            [
             1,
             "#f0f921"
            ]
           ]
          },
          "colorway": [
           "#636efa",
           "#EF553B",
           "#00cc96",
           "#ab63fa",
           "#FFA15A",
           "#19d3f3",
           "#FF6692",
           "#B6E880",
           "#FF97FF",
           "#FECB52"
          ],
          "font": {
           "color": "#2a3f5f"
          },
          "geo": {
           "bgcolor": "white",
           "lakecolor": "white",
           "landcolor": "#E5ECF6",
           "showlakes": true,
           "showland": true,
           "subunitcolor": "white"
          },
          "hoverlabel": {
           "align": "left"
          },
          "hovermode": "closest",
          "mapbox": {
           "style": "light"
          },
          "paper_bgcolor": "white",
          "plot_bgcolor": "#E5ECF6",
          "polar": {
           "angularaxis": {
            "gridcolor": "white",
            "linecolor": "white",
            "ticks": ""
           },
           "bgcolor": "#E5ECF6",
           "radialaxis": {
            "gridcolor": "white",
            "linecolor": "white",
            "ticks": ""
           }
          },
          "scene": {
           "xaxis": {
            "backgroundcolor": "#E5ECF6",
            "gridcolor": "white",
            "gridwidth": 2,
            "linecolor": "white",
            "showbackground": true,
            "ticks": "",
            "zerolinecolor": "white"
           },
           "yaxis": {
            "backgroundcolor": "#E5ECF6",
            "gridcolor": "white",
            "gridwidth": 2,
            "linecolor": "white",
            "showbackground": true,
            "ticks": "",
            "zerolinecolor": "white"
           },
           "zaxis": {
            "backgroundcolor": "#E5ECF6",
            "gridcolor": "white",
            "gridwidth": 2,
            "linecolor": "white",
            "showbackground": true,
            "ticks": "",
            "zerolinecolor": "white"
           }
          },
          "shapedefaults": {
           "line": {
            "color": "#2a3f5f"
           }
          },
          "ternary": {
           "aaxis": {
            "gridcolor": "white",
            "linecolor": "white",
            "ticks": ""
           },
           "baxis": {
            "gridcolor": "white",
            "linecolor": "white",
            "ticks": ""
           },
           "bgcolor": "#E5ECF6",
           "caxis": {
            "gridcolor": "white",
            "linecolor": "white",
            "ticks": ""
           }
          },
          "title": {
           "x": 0.05
          },
          "xaxis": {
           "automargin": true,
           "gridcolor": "white",
           "linecolor": "white",
           "ticks": "",
           "title": {
            "standoff": 15
           },
           "zerolinecolor": "white",
           "zerolinewidth": 2
          },
          "yaxis": {
           "automargin": true,
           "gridcolor": "white",
           "linecolor": "white",
           "ticks": "",
           "title": {
            "standoff": 15
           },
           "zerolinecolor": "white",
           "zerolinewidth": 2
          }
         }
        },
        "title": {
         "text": "Correlation of the most frequent databases in the first version"
        },
        "xaxis": {
         "anchor": "y",
         "domain": [
          0,
          1
         ],
         "title": {
          "text": "Consequents"
         }
        },
        "yaxis": {
         "anchor": "x",
         "domain": [
          0,
          1
         ],
         "title": {
          "text": "Antecedents"
         }
        }
       }
      }
     },
     "metadata": {},
     "output_type": "display_data"
    }
   ],
   "source": [
    "#Test showing the rules without repetitions and with dataframe ordering.\n",
    "import plotly.express as px \n",
    "#rules1cd = rules1c[(rules1c['support'] >= 0.04) & (rules1c['support_abs'] != 0)] \n",
    "orules1c['support_abs'] = orules1c['support_abs'].astype(int)\n",
    "#fig = px.scatter(rules1c.groupby(['antecedent_sup_abs','consequent_sup_abs']).mean().sort_values(['support_abs',], ascending=[False]),\n",
    "#.sort_values(['support_abs'], ascending=[False])\n",
    "fig = px.scatter(orules1c.sort_values(['support_abs'], ascending=[False]), x=\"Consequents\", y=\"Antecedents\", \n",
    "#x=\"consequents\", y=\"antecedents\", \n",
    "size='support_abs',  color=\"support_abs\", title='Correlation of the most frequent databases in the first version',\n",
    "hover_data=['support_abs'], color_continuous_scale = [\"silver\",\"gray\"],text='support_abs') \n",
    "#fig.title('Correlation of the most frequent databases')\n",
    "fig.show()"
   ]
  },
  {
   "cell_type": "code",
   "execution_count": 22,
   "metadata": {},
   "outputs": [
    {
     "data": {
      "text/html": [
       "<div>\n",
       "<style scoped>\n",
       "    .dataframe tbody tr th:only-of-type {\n",
       "        vertical-align: middle;\n",
       "    }\n",
       "\n",
       "    .dataframe tbody tr th {\n",
       "        vertical-align: top;\n",
       "    }\n",
       "\n",
       "    .dataframe thead th {\n",
       "        text-align: right;\n",
       "    }\n",
       "</style>\n",
       "<table border=\"1\" class=\"dataframe\">\n",
       "  <thead>\n",
       "    <tr style=\"text-align: right;\">\n",
       "      <th></th>\n",
       "      <th>Antecedents</th>\n",
       "      <th>Consequents</th>\n",
       "      <th>antecedent support</th>\n",
       "      <th>antecedent_sup_abs</th>\n",
       "      <th>consequent support</th>\n",
       "      <th>consequent_sup_abs</th>\n",
       "      <th>support</th>\n",
       "      <th>support_abs</th>\n",
       "      <th>confidence</th>\n",
       "      <th>lift</th>\n",
       "      <th>leverage</th>\n",
       "      <th>conviction</th>\n",
       "      <th>antecedent_len</th>\n",
       "      <th>consequente_len</th>\n",
       "    </tr>\n",
       "  </thead>\n",
       "  <tbody>\n",
       "    <tr>\n",
       "      <th>0</th>\n",
       "      <td>HyperSQL</td>\n",
       "      <td>MySQL</td>\n",
       "      <td>0.069231</td>\n",
       "      <td>13.638462</td>\n",
       "      <td>0.120513</td>\n",
       "      <td>23.741026</td>\n",
       "      <td>0.046154</td>\n",
       "      <td>9</td>\n",
       "      <td>0.666667</td>\n",
       "      <td>5.531915</td>\n",
       "      <td>0.037811</td>\n",
       "      <td>2.638462</td>\n",
       "      <td>1.0</td>\n",
       "      <td>1.0</td>\n",
       "    </tr>\n",
       "    <tr>\n",
       "      <th>1</th>\n",
       "      <td>MySQL</td>\n",
       "      <td>PostgreSQL</td>\n",
       "      <td>0.120513</td>\n",
       "      <td>23.741026</td>\n",
       "      <td>0.046154</td>\n",
       "      <td>9.092308</td>\n",
       "      <td>0.041026</td>\n",
       "      <td>8</td>\n",
       "      <td>0.340426</td>\n",
       "      <td>7.375887</td>\n",
       "      <td>0.035464</td>\n",
       "      <td>1.446154</td>\n",
       "      <td>1.0</td>\n",
       "      <td>1.0</td>\n",
       "    </tr>\n",
       "    <tr>\n",
       "      <th>2</th>\n",
       "      <td>H2</td>\n",
       "      <td>MySQL</td>\n",
       "      <td>0.066667</td>\n",
       "      <td>13.133333</td>\n",
       "      <td>0.120513</td>\n",
       "      <td>23.741026</td>\n",
       "      <td>0.035897</td>\n",
       "      <td>7</td>\n",
       "      <td>0.538462</td>\n",
       "      <td>4.468085</td>\n",
       "      <td>0.027863</td>\n",
       "      <td>1.905556</td>\n",
       "      <td>1.0</td>\n",
       "      <td>1.0</td>\n",
       "    </tr>\n",
       "    <tr>\n",
       "      <th>3</th>\n",
       "      <td>MySQL</td>\n",
       "      <td>Oracle</td>\n",
       "      <td>0.120513</td>\n",
       "      <td>23.741026</td>\n",
       "      <td>0.038462</td>\n",
       "      <td>7.576923</td>\n",
       "      <td>0.030769</td>\n",
       "      <td>6</td>\n",
       "      <td>0.255319</td>\n",
       "      <td>6.638298</td>\n",
       "      <td>0.026134</td>\n",
       "      <td>1.291209</td>\n",
       "      <td>1.0</td>\n",
       "      <td>1.0</td>\n",
       "    </tr>\n",
       "    <tr>\n",
       "      <th>4</th>\n",
       "      <td>H2</td>\n",
       "      <td>HyperSQL</td>\n",
       "      <td>0.066667</td>\n",
       "      <td>13.133333</td>\n",
       "      <td>0.069231</td>\n",
       "      <td>13.638462</td>\n",
       "      <td>0.028205</td>\n",
       "      <td>5</td>\n",
       "      <td>0.423077</td>\n",
       "      <td>6.111111</td>\n",
       "      <td>0.023590</td>\n",
       "      <td>1.613333</td>\n",
       "      <td>1.0</td>\n",
       "      <td>1.0</td>\n",
       "    </tr>\n",
       "    <tr>\n",
       "      <th>5</th>\n",
       "      <td>HyperSQL</td>\n",
       "      <td>Oracle</td>\n",
       "      <td>0.069231</td>\n",
       "      <td>13.638462</td>\n",
       "      <td>0.038462</td>\n",
       "      <td>7.576923</td>\n",
       "      <td>0.023077</td>\n",
       "      <td>4</td>\n",
       "      <td>0.333333</td>\n",
       "      <td>8.666667</td>\n",
       "      <td>0.020414</td>\n",
       "      <td>1.442308</td>\n",
       "      <td>1.0</td>\n",
       "      <td>1.0</td>\n",
       "    </tr>\n",
       "    <tr>\n",
       "      <th>6</th>\n",
       "      <td>HyperSQL</td>\n",
       "      <td>PostgreSQL</td>\n",
       "      <td>0.069231</td>\n",
       "      <td>13.638462</td>\n",
       "      <td>0.046154</td>\n",
       "      <td>9.092308</td>\n",
       "      <td>0.023077</td>\n",
       "      <td>4</td>\n",
       "      <td>0.333333</td>\n",
       "      <td>7.222222</td>\n",
       "      <td>0.019882</td>\n",
       "      <td>1.430769</td>\n",
       "      <td>1.0</td>\n",
       "      <td>1.0</td>\n",
       "    </tr>\n",
       "    <tr>\n",
       "      <th>7</th>\n",
       "      <td>Oracle</td>\n",
       "      <td>PostgreSQL</td>\n",
       "      <td>0.038462</td>\n",
       "      <td>7.576923</td>\n",
       "      <td>0.046154</td>\n",
       "      <td>9.092308</td>\n",
       "      <td>0.023077</td>\n",
       "      <td>4</td>\n",
       "      <td>0.600000</td>\n",
       "      <td>13.000000</td>\n",
       "      <td>0.021302</td>\n",
       "      <td>2.384615</td>\n",
       "      <td>1.0</td>\n",
       "      <td>1.0</td>\n",
       "    </tr>\n",
       "  </tbody>\n",
       "</table>\n",
       "</div>"
      ],
      "text/plain": [
       "  Antecedents Consequents  antecedent support  antecedent_sup_abs  \\\n",
       "0    HyperSQL       MySQL            0.069231           13.638462   \n",
       "1       MySQL  PostgreSQL            0.120513           23.741026   \n",
       "2          H2       MySQL            0.066667           13.133333   \n",
       "3       MySQL      Oracle            0.120513           23.741026   \n",
       "4          H2    HyperSQL            0.066667           13.133333   \n",
       "5    HyperSQL      Oracle            0.069231           13.638462   \n",
       "6    HyperSQL  PostgreSQL            0.069231           13.638462   \n",
       "7      Oracle  PostgreSQL            0.038462            7.576923   \n",
       "\n",
       "   consequent support  consequent_sup_abs   support  support_abs  confidence  \\\n",
       "0            0.120513           23.741026  0.046154            9    0.666667   \n",
       "1            0.046154            9.092308  0.041026            8    0.340426   \n",
       "2            0.120513           23.741026  0.035897            7    0.538462   \n",
       "3            0.038462            7.576923  0.030769            6    0.255319   \n",
       "4            0.069231           13.638462  0.028205            5    0.423077   \n",
       "5            0.038462            7.576923  0.023077            4    0.333333   \n",
       "6            0.046154            9.092308  0.023077            4    0.333333   \n",
       "7            0.046154            9.092308  0.023077            4    0.600000   \n",
       "\n",
       "        lift  leverage  conviction  antecedent_len  consequente_len  \n",
       "0   5.531915  0.037811    2.638462             1.0              1.0  \n",
       "1   7.375887  0.035464    1.446154             1.0              1.0  \n",
       "2   4.468085  0.027863    1.905556             1.0              1.0  \n",
       "3   6.638298  0.026134    1.291209             1.0              1.0  \n",
       "4   6.111111  0.023590    1.613333             1.0              1.0  \n",
       "5   8.666667  0.020414    1.442308             1.0              1.0  \n",
       "6   7.222222  0.019882    1.430769             1.0              1.0  \n",
       "7  13.000000  0.021302    2.384615             1.0              1.0  "
      ]
     },
     "execution_count": 22,
     "metadata": {},
     "output_type": "execute_result"
    }
   ],
   "source": [
    "#Test by ordering only through support, after dataframe ordering\n",
    "orules1cd = orules1c.sort_values(by=['support_abs'], ascending=False)\n",
    "orules1cd"
   ]
  },
  {
   "cell_type": "code",
   "execution_count": 24,
   "metadata": {},
   "outputs": [
    {
     "data": {
      "image/png": "[encoded data removed]",
      "text/plain": [
       "<Figure size 1200x1200 with 2 Axes>"
      ]
     },
     "metadata": {},
     "output_type": "display_data"
    }
   ],
   "source": [
    "# Heatmap graph generated with all rules and dataframe ordering\n",
    "# The suggestion for this chart would be to show all rules without filtering by support\n",
    "import seaborn as sns\n",
    "pivot = orules1c.pivot(index='Antecedents', columns='Consequents', values='support_abs')\n",
    "pivot = pivot.iloc[::-1]\n",
    "sns.heatmap(pivot, xticklabels=True, yticklabels=True,  vmin=0,  cmap=sns.color_palette(\"Greys\", as_cmap=True), annot=True, square=True)\n",
    "fig = plt.gcf()\n",
    "fig.set_size_inches(12, 12)"
   ]
  },
  {
   "cell_type": "code",
   "execution_count": 25,
   "metadata": {},
   "outputs": [
    {
     "data": {
      "text/html": [
       "<div>\n",
       "<style scoped>\n",
       "    .dataframe tbody tr th:only-of-type {\n",
       "        vertical-align: middle;\n",
       "    }\n",
       "\n",
       "    .dataframe tbody tr th {\n",
       "        vertical-align: top;\n",
       "    }\n",
       "\n",
       "    .dataframe thead th {\n",
       "        text-align: right;\n",
       "    }\n",
       "</style>\n",
       "<table border=\"1\" class=\"dataframe\">\n",
       "  <thead>\n",
       "    <tr style=\"text-align: right;\">\n",
       "      <th></th>\n",
       "      <th>Antecedents</th>\n",
       "      <th>Consequents</th>\n",
       "      <th>antecedent support</th>\n",
       "      <th>antecedent_sup_abs</th>\n",
       "      <th>consequent support</th>\n",
       "      <th>consequent_sup_abs</th>\n",
       "      <th>support</th>\n",
       "      <th>support_abs</th>\n",
       "      <th>confidence</th>\n",
       "      <th>lift</th>\n",
       "      <th>leverage</th>\n",
       "      <th>conviction</th>\n",
       "      <th>antecedent_len</th>\n",
       "      <th>consequente_len</th>\n",
       "    </tr>\n",
       "  </thead>\n",
       "  <tbody>\n",
       "    <tr>\n",
       "      <th>0</th>\n",
       "      <td>HyperSQL</td>\n",
       "      <td>MySQL</td>\n",
       "      <td>0.069231</td>\n",
       "      <td>13.638462</td>\n",
       "      <td>0.120513</td>\n",
       "      <td>23.741026</td>\n",
       "      <td>0.046154</td>\n",
       "      <td>9</td>\n",
       "      <td>0.666667</td>\n",
       "      <td>5.531915</td>\n",
       "      <td>0.037811</td>\n",
       "      <td>2.638462</td>\n",
       "      <td>1.0</td>\n",
       "      <td>1.0</td>\n",
       "    </tr>\n",
       "    <tr>\n",
       "      <th>1</th>\n",
       "      <td>MySQL</td>\n",
       "      <td>PostgreSQL</td>\n",
       "      <td>0.120513</td>\n",
       "      <td>23.741026</td>\n",
       "      <td>0.046154</td>\n",
       "      <td>9.092308</td>\n",
       "      <td>0.041026</td>\n",
       "      <td>8</td>\n",
       "      <td>0.340426</td>\n",
       "      <td>7.375887</td>\n",
       "      <td>0.035464</td>\n",
       "      <td>1.446154</td>\n",
       "      <td>1.0</td>\n",
       "      <td>1.0</td>\n",
       "    </tr>\n",
       "    <tr>\n",
       "      <th>2</th>\n",
       "      <td>H2</td>\n",
       "      <td>MySQL</td>\n",
       "      <td>0.066667</td>\n",
       "      <td>13.133333</td>\n",
       "      <td>0.120513</td>\n",
       "      <td>23.741026</td>\n",
       "      <td>0.035897</td>\n",
       "      <td>7</td>\n",
       "      <td>0.538462</td>\n",
       "      <td>4.468085</td>\n",
       "      <td>0.027863</td>\n",
       "      <td>1.905556</td>\n",
       "      <td>1.0</td>\n",
       "      <td>1.0</td>\n",
       "    </tr>\n",
       "    <tr>\n",
       "      <th>3</th>\n",
       "      <td>MySQL</td>\n",
       "      <td>Oracle</td>\n",
       "      <td>0.120513</td>\n",
       "      <td>23.741026</td>\n",
       "      <td>0.038462</td>\n",
       "      <td>7.576923</td>\n",
       "      <td>0.030769</td>\n",
       "      <td>6</td>\n",
       "      <td>0.255319</td>\n",
       "      <td>6.638298</td>\n",
       "      <td>0.026134</td>\n",
       "      <td>1.291209</td>\n",
       "      <td>1.0</td>\n",
       "      <td>1.0</td>\n",
       "    </tr>\n",
       "    <tr>\n",
       "      <th>4</th>\n",
       "      <td>H2</td>\n",
       "      <td>HyperSQL</td>\n",
       "      <td>0.066667</td>\n",
       "      <td>13.133333</td>\n",
       "      <td>0.069231</td>\n",
       "      <td>13.638462</td>\n",
       "      <td>0.028205</td>\n",
       "      <td>5</td>\n",
       "      <td>0.423077</td>\n",
       "      <td>6.111111</td>\n",
       "      <td>0.023590</td>\n",
       "      <td>1.613333</td>\n",
       "      <td>1.0</td>\n",
       "      <td>1.0</td>\n",
       "    </tr>\n",
       "    <tr>\n",
       "      <th>5</th>\n",
       "      <td>HyperSQL</td>\n",
       "      <td>Oracle</td>\n",
       "      <td>0.069231</td>\n",
       "      <td>13.638462</td>\n",
       "      <td>0.038462</td>\n",
       "      <td>7.576923</td>\n",
       "      <td>0.023077</td>\n",
       "      <td>4</td>\n",
       "      <td>0.333333</td>\n",
       "      <td>8.666667</td>\n",
       "      <td>0.020414</td>\n",
       "      <td>1.442308</td>\n",
       "      <td>1.0</td>\n",
       "      <td>1.0</td>\n",
       "    </tr>\n",
       "    <tr>\n",
       "      <th>6</th>\n",
       "      <td>HyperSQL</td>\n",
       "      <td>PostgreSQL</td>\n",
       "      <td>0.069231</td>\n",
       "      <td>13.638462</td>\n",
       "      <td>0.046154</td>\n",
       "      <td>9.092308</td>\n",
       "      <td>0.023077</td>\n",
       "      <td>4</td>\n",
       "      <td>0.333333</td>\n",
       "      <td>7.222222</td>\n",
       "      <td>0.019882</td>\n",
       "      <td>1.430769</td>\n",
       "      <td>1.0</td>\n",
       "      <td>1.0</td>\n",
       "    </tr>\n",
       "    <tr>\n",
       "      <th>7</th>\n",
       "      <td>Oracle</td>\n",
       "      <td>PostgreSQL</td>\n",
       "      <td>0.038462</td>\n",
       "      <td>7.576923</td>\n",
       "      <td>0.046154</td>\n",
       "      <td>9.092308</td>\n",
       "      <td>0.023077</td>\n",
       "      <td>4</td>\n",
       "      <td>0.600000</td>\n",
       "      <td>13.000000</td>\n",
       "      <td>0.021302</td>\n",
       "      <td>2.384615</td>\n",
       "      <td>1.0</td>\n",
       "      <td>1.0</td>\n",
       "    </tr>\n",
       "  </tbody>\n",
       "</table>\n",
       "</div>"
      ],
      "text/plain": [
       "  Antecedents Consequents  antecedent support  antecedent_sup_abs  \\\n",
       "0    HyperSQL       MySQL            0.069231           13.638462   \n",
       "1       MySQL  PostgreSQL            0.120513           23.741026   \n",
       "2          H2       MySQL            0.066667           13.133333   \n",
       "3       MySQL      Oracle            0.120513           23.741026   \n",
       "4          H2    HyperSQL            0.066667           13.133333   \n",
       "5    HyperSQL      Oracle            0.069231           13.638462   \n",
       "6    HyperSQL  PostgreSQL            0.069231           13.638462   \n",
       "7      Oracle  PostgreSQL            0.038462            7.576923   \n",
       "\n",
       "   consequent support  consequent_sup_abs   support  support_abs  confidence  \\\n",
       "0            0.120513           23.741026  0.046154            9    0.666667   \n",
       "1            0.046154            9.092308  0.041026            8    0.340426   \n",
       "2            0.120513           23.741026  0.035897            7    0.538462   \n",
       "3            0.038462            7.576923  0.030769            6    0.255319   \n",
       "4            0.069231           13.638462  0.028205            5    0.423077   \n",
       "5            0.038462            7.576923  0.023077            4    0.333333   \n",
       "6            0.046154            9.092308  0.023077            4    0.333333   \n",
       "7            0.046154            9.092308  0.023077            4    0.600000   \n",
       "\n",
       "        lift  leverage  conviction  antecedent_len  consequente_len  \n",
       "0   5.531915  0.037811    2.638462             1.0              1.0  \n",
       "1   7.375887  0.035464    1.446154             1.0              1.0  \n",
       "2   4.468085  0.027863    1.905556             1.0              1.0  \n",
       "3   6.638298  0.026134    1.291209             1.0              1.0  \n",
       "4   6.111111  0.023590    1.613333             1.0              1.0  \n",
       "5   8.666667  0.020414    1.442308             1.0              1.0  \n",
       "6   7.222222  0.019882    1.430769             1.0              1.0  \n",
       "7  13.000000  0.021302    2.384615             1.0              1.0  "
      ]
     },
     "execution_count": 25,
     "metadata": {},
     "output_type": "execute_result"
    }
   ],
   "source": [
    "#Test by ordering only through support, after dataframe ordering\n",
    "orules1cd = orules1c.sort_values(by=['support_abs'], ascending=False)\n",
    "orules1cd"
   ]
  },
  {
   "attachments": {},
   "cell_type": "markdown",
   "metadata": {},
   "source": [
    "PostgreSQL and MySQL being used concurrently in 27 projects, Oracle with PostgreSQL appears in 17 projects, H2 with Oracle in 12 projects, SQLite with H2 in 6 projects, Ehcache with MySQL in 10 projects, Sap Adaptive Server with IBM DB2 in 5 projects, MS SQL Server with SQlite in 5 projects, MongoDB with MySQL in 6 projects, among other combinations."
   ]
  },
  {
   "attachments": {},
   "cell_type": "markdown",
   "metadata": {},
   "source": [
    "In the rules below, we list the 10 most frequent BDs as consequents and confidence > 70%, confidence only in the case of relational ones. \n",
    "Add rules where they appear as antecedents."
   ]
  },
  {
   "cell_type": "code",
   "execution_count": 26,
   "metadata": {},
   "outputs": [
    {
     "data": {
      "text/html": [
       "<div>\n",
       "<style scoped>\n",
       "    .dataframe tbody tr th:only-of-type {\n",
       "        vertical-align: middle;\n",
       "    }\n",
       "\n",
       "    .dataframe tbody tr th {\n",
       "        vertical-align: top;\n",
       "    }\n",
       "\n",
       "    .dataframe thead th {\n",
       "        text-align: right;\n",
       "    }\n",
       "</style>\n",
       "<table border=\"1\" class=\"dataframe\">\n",
       "  <thead>\n",
       "    <tr style=\"text-align: right;\">\n",
       "      <th></th>\n",
       "      <th>antecedents</th>\n",
       "      <th>consequents</th>\n",
       "      <th>antecedent support</th>\n",
       "      <th>antecedent_sup_abs</th>\n",
       "      <th>consequent support</th>\n",
       "      <th>consequent_sup_abs</th>\n",
       "      <th>support</th>\n",
       "      <th>support_abs</th>\n",
       "      <th>confidence</th>\n",
       "      <th>lift</th>\n",
       "      <th>leverage</th>\n",
       "      <th>conviction</th>\n",
       "      <th>antecedent_len</th>\n",
       "      <th>consequente_len</th>\n",
       "    </tr>\n",
       "  </thead>\n",
       "  <tbody>\n",
       "    <tr>\n",
       "      <th>5</th>\n",
       "      <td>PostgreSQL</td>\n",
       "      <td>MySQL</td>\n",
       "      <td>0.046154</td>\n",
       "      <td>9.092308</td>\n",
       "      <td>0.120513</td>\n",
       "      <td>23.741026</td>\n",
       "      <td>0.041026</td>\n",
       "      <td>8.082051</td>\n",
       "      <td>0.888889</td>\n",
       "      <td>7.375887</td>\n",
       "      <td>0.035464</td>\n",
       "      <td>7.915385</td>\n",
       "      <td>1</td>\n",
       "      <td>1</td>\n",
       "    </tr>\n",
       "    <tr>\n",
       "      <th>9</th>\n",
       "      <td>Oracle</td>\n",
       "      <td>MySQL</td>\n",
       "      <td>0.038462</td>\n",
       "      <td>7.576923</td>\n",
       "      <td>0.120513</td>\n",
       "      <td>23.741026</td>\n",
       "      <td>0.030769</td>\n",
       "      <td>6.061538</td>\n",
       "      <td>0.800000</td>\n",
       "      <td>6.638298</td>\n",
       "      <td>0.026134</td>\n",
       "      <td>4.397436</td>\n",
       "      <td>1</td>\n",
       "      <td>1</td>\n",
       "    </tr>\n",
       "  </tbody>\n",
       "</table>\n",
       "</div>"
      ],
      "text/plain": [
       "  antecedents consequents  antecedent support  antecedent_sup_abs  \\\n",
       "5  PostgreSQL       MySQL            0.046154            9.092308   \n",
       "9      Oracle       MySQL            0.038462            7.576923   \n",
       "\n",
       "   consequent support  consequent_sup_abs   support  support_abs  confidence  \\\n",
       "5            0.120513           23.741026  0.041026     8.082051    0.888889   \n",
       "9            0.120513           23.741026  0.030769     6.061538    0.800000   \n",
       "\n",
       "       lift  leverage  conviction  antecedent_len  consequente_len  \n",
       "5  7.375887  0.035464    7.915385               1                1  \n",
       "9  6.638298  0.026134    4.397436               1                1  "
      ]
     },
     "execution_count": 26,
     "metadata": {},
     "output_type": "execute_result"
    }
   ],
   "source": [
    "rules2 = df[ (df['consequents'].str.contains('MySQL')) &(df['confidence'] > 0.7)]\n",
    "rules2"
   ]
  },
  {
   "cell_type": "code",
   "execution_count": 27,
   "metadata": {},
   "outputs": [
    {
     "data": {
      "text/html": [
       "<div>\n",
       "<style scoped>\n",
       "    .dataframe tbody tr th:only-of-type {\n",
       "        vertical-align: middle;\n",
       "    }\n",
       "\n",
       "    .dataframe tbody tr th {\n",
       "        vertical-align: top;\n",
       "    }\n",
       "\n",
       "    .dataframe thead th {\n",
       "        text-align: right;\n",
       "    }\n",
       "</style>\n",
       "<table border=\"1\" class=\"dataframe\">\n",
       "  <thead>\n",
       "    <tr style=\"text-align: right;\">\n",
       "      <th></th>\n",
       "      <th>antecedents</th>\n",
       "      <th>consequents</th>\n",
       "      <th>antecedent support</th>\n",
       "      <th>antecedent_sup_abs</th>\n",
       "      <th>consequent support</th>\n",
       "      <th>consequent_sup_abs</th>\n",
       "      <th>support</th>\n",
       "      <th>support_abs</th>\n",
       "      <th>confidence</th>\n",
       "      <th>lift</th>\n",
       "      <th>leverage</th>\n",
       "      <th>conviction</th>\n",
       "      <th>antecedent_len</th>\n",
       "      <th>consequente_len</th>\n",
       "    </tr>\n",
       "  </thead>\n",
       "  <tbody>\n",
       "    <tr>\n",
       "      <th>0</th>\n",
       "      <td>PostgreSQL</td>\n",
       "      <td>Oracle</td>\n",
       "      <td>0.046154</td>\n",
       "      <td>9.092308</td>\n",
       "      <td>0.038462</td>\n",
       "      <td>7.576923</td>\n",
       "      <td>0.023077</td>\n",
       "      <td>4.546154</td>\n",
       "      <td>0.500000</td>\n",
       "      <td>13.000000</td>\n",
       "      <td>0.021302</td>\n",
       "      <td>1.923077</td>\n",
       "      <td>1</td>\n",
       "      <td>1</td>\n",
       "    </tr>\n",
       "    <tr>\n",
       "      <th>1</th>\n",
       "      <td>Oracle</td>\n",
       "      <td>PostgreSQL</td>\n",
       "      <td>0.038462</td>\n",
       "      <td>7.576923</td>\n",
       "      <td>0.046154</td>\n",
       "      <td>9.092308</td>\n",
       "      <td>0.023077</td>\n",
       "      <td>4.546154</td>\n",
       "      <td>0.600000</td>\n",
       "      <td>13.000000</td>\n",
       "      <td>0.021302</td>\n",
       "      <td>2.384615</td>\n",
       "      <td>1</td>\n",
       "      <td>1</td>\n",
       "    </tr>\n",
       "    <tr>\n",
       "      <th>4</th>\n",
       "      <td>MySQL</td>\n",
       "      <td>PostgreSQL</td>\n",
       "      <td>0.120513</td>\n",
       "      <td>23.741026</td>\n",
       "      <td>0.046154</td>\n",
       "      <td>9.092308</td>\n",
       "      <td>0.041026</td>\n",
       "      <td>8.082051</td>\n",
       "      <td>0.340426</td>\n",
       "      <td>7.375887</td>\n",
       "      <td>0.035464</td>\n",
       "      <td>1.446154</td>\n",
       "      <td>1</td>\n",
       "      <td>1</td>\n",
       "    </tr>\n",
       "    <tr>\n",
       "      <th>5</th>\n",
       "      <td>PostgreSQL</td>\n",
       "      <td>MySQL</td>\n",
       "      <td>0.046154</td>\n",
       "      <td>9.092308</td>\n",
       "      <td>0.120513</td>\n",
       "      <td>23.741026</td>\n",
       "      <td>0.041026</td>\n",
       "      <td>8.082051</td>\n",
       "      <td>0.888889</td>\n",
       "      <td>7.375887</td>\n",
       "      <td>0.035464</td>\n",
       "      <td>7.915385</td>\n",
       "      <td>1</td>\n",
       "      <td>1</td>\n",
       "    </tr>\n",
       "    <tr>\n",
       "      <th>6</th>\n",
       "      <td>PostgreSQL</td>\n",
       "      <td>HyperSQL</td>\n",
       "      <td>0.046154</td>\n",
       "      <td>9.092308</td>\n",
       "      <td>0.069231</td>\n",
       "      <td>13.638462</td>\n",
       "      <td>0.023077</td>\n",
       "      <td>4.546154</td>\n",
       "      <td>0.500000</td>\n",
       "      <td>7.222222</td>\n",
       "      <td>0.019882</td>\n",
       "      <td>1.861538</td>\n",
       "      <td>1</td>\n",
       "      <td>1</td>\n",
       "    </tr>\n",
       "    <tr>\n",
       "      <th>7</th>\n",
       "      <td>HyperSQL</td>\n",
       "      <td>PostgreSQL</td>\n",
       "      <td>0.069231</td>\n",
       "      <td>13.638462</td>\n",
       "      <td>0.046154</td>\n",
       "      <td>9.092308</td>\n",
       "      <td>0.023077</td>\n",
       "      <td>4.546154</td>\n",
       "      <td>0.333333</td>\n",
       "      <td>7.222222</td>\n",
       "      <td>0.019882</td>\n",
       "      <td>1.430769</td>\n",
       "      <td>1</td>\n",
       "      <td>1</td>\n",
       "    </tr>\n",
       "  </tbody>\n",
       "</table>\n",
       "</div>"
      ],
      "text/plain": [
       "  antecedents consequents  antecedent support  antecedent_sup_abs  \\\n",
       "0  PostgreSQL      Oracle            0.046154            9.092308   \n",
       "1      Oracle  PostgreSQL            0.038462            7.576923   \n",
       "4       MySQL  PostgreSQL            0.120513           23.741026   \n",
       "5  PostgreSQL       MySQL            0.046154            9.092308   \n",
       "6  PostgreSQL    HyperSQL            0.046154            9.092308   \n",
       "7    HyperSQL  PostgreSQL            0.069231           13.638462   \n",
       "\n",
       "   consequent support  consequent_sup_abs   support  support_abs  confidence  \\\n",
       "0            0.038462            7.576923  0.023077     4.546154    0.500000   \n",
       "1            0.046154            9.092308  0.023077     4.546154    0.600000   \n",
       "4            0.046154            9.092308  0.041026     8.082051    0.340426   \n",
       "5            0.120513           23.741026  0.041026     8.082051    0.888889   \n",
       "6            0.069231           13.638462  0.023077     4.546154    0.500000   \n",
       "7            0.046154            9.092308  0.023077     4.546154    0.333333   \n",
       "\n",
       "        lift  leverage  conviction  antecedent_len  consequente_len  \n",
       "0  13.000000  0.021302    1.923077               1                1  \n",
       "1  13.000000  0.021302    2.384615               1                1  \n",
       "4   7.375887  0.035464    1.446154               1                1  \n",
       "5   7.375887  0.035464    7.915385               1                1  \n",
       "6   7.222222  0.019882    1.861538               1                1  \n",
       "7   7.222222  0.019882    1.430769               1                1  "
      ]
     },
     "execution_count": 27,
     "metadata": {},
     "output_type": "execute_result"
    }
   ],
   "source": [
    "rules3 = df[(df['consequents'].str.contains('PostgreSQL')) | (df['antecedents'].str.contains('PostgreSQL'))] #(df['confidence'] > 0.7) ]\n",
    "rules3"
   ]
  },
  {
   "cell_type": "code",
   "execution_count": 28,
   "metadata": {},
   "outputs": [
    {
     "data": {
      "text/html": [
       "<div>\n",
       "<style scoped>\n",
       "    .dataframe tbody tr th:only-of-type {\n",
       "        vertical-align: middle;\n",
       "    }\n",
       "\n",
       "    .dataframe tbody tr th {\n",
       "        vertical-align: top;\n",
       "    }\n",
       "\n",
       "    .dataframe thead th {\n",
       "        text-align: right;\n",
       "    }\n",
       "</style>\n",
       "<table border=\"1\" class=\"dataframe\">\n",
       "  <thead>\n",
       "    <tr style=\"text-align: right;\">\n",
       "      <th></th>\n",
       "      <th>antecedents</th>\n",
       "      <th>consequents</th>\n",
       "      <th>antecedent support</th>\n",
       "      <th>antecedent_sup_abs</th>\n",
       "      <th>consequent support</th>\n",
       "      <th>consequent_sup_abs</th>\n",
       "      <th>support</th>\n",
       "      <th>support_abs</th>\n",
       "      <th>confidence</th>\n",
       "      <th>lift</th>\n",
       "      <th>leverage</th>\n",
       "      <th>conviction</th>\n",
       "      <th>antecedent_len</th>\n",
       "      <th>consequente_len</th>\n",
       "    </tr>\n",
       "  </thead>\n",
       "  <tbody>\n",
       "  </tbody>\n",
       "</table>\n",
       "</div>"
      ],
      "text/plain": [
       "Empty DataFrame\n",
       "Columns: [antecedents, consequents, antecedent support, antecedent_sup_abs, consequent support, consequent_sup_abs, support, support_abs, confidence, lift, leverage, conviction, antecedent_len, consequente_len]\n",
       "Index: []"
      ]
     },
     "execution_count": 28,
     "metadata": {},
     "output_type": "execute_result"
    }
   ],
   "source": [
    "rules4 = df[(df['consequents'].str.contains('H2')) & (df['confidence'] > 0.7) ]\n",
    "rules4"
   ]
  },
  {
   "cell_type": "code",
   "execution_count": 29,
   "metadata": {},
   "outputs": [
    {
     "data": {
      "text/html": [
       "<div>\n",
       "<style scoped>\n",
       "    .dataframe tbody tr th:only-of-type {\n",
       "        vertical-align: middle;\n",
       "    }\n",
       "\n",
       "    .dataframe tbody tr th {\n",
       "        vertical-align: top;\n",
       "    }\n",
       "\n",
       "    .dataframe thead th {\n",
       "        text-align: right;\n",
       "    }\n",
       "</style>\n",
       "<table border=\"1\" class=\"dataframe\">\n",
       "  <thead>\n",
       "    <tr style=\"text-align: right;\">\n",
       "      <th></th>\n",
       "      <th>antecedents</th>\n",
       "      <th>consequents</th>\n",
       "      <th>antecedent support</th>\n",
       "      <th>antecedent_sup_abs</th>\n",
       "      <th>consequent support</th>\n",
       "      <th>consequent_sup_abs</th>\n",
       "      <th>support</th>\n",
       "      <th>support_abs</th>\n",
       "      <th>confidence</th>\n",
       "      <th>lift</th>\n",
       "      <th>leverage</th>\n",
       "      <th>conviction</th>\n",
       "      <th>antecedent_len</th>\n",
       "      <th>consequente_len</th>\n",
       "    </tr>\n",
       "  </thead>\n",
       "  <tbody>\n",
       "  </tbody>\n",
       "</table>\n",
       "</div>"
      ],
      "text/plain": [
       "Empty DataFrame\n",
       "Columns: [antecedents, consequents, antecedent support, antecedent_sup_abs, consequent support, consequent_sup_abs, support, support_abs, confidence, lift, leverage, conviction, antecedent_len, consequente_len]\n",
       "Index: []"
      ]
     },
     "execution_count": 29,
     "metadata": {},
     "output_type": "execute_result"
    }
   ],
   "source": [
    "rules5 = df[(df['consequents'].str.contains('Oracle')) & (df['confidence'] > 0.7) ]\n",
    "rules5"
   ]
  },
  {
   "cell_type": "code",
   "execution_count": 30,
   "metadata": {},
   "outputs": [
    {
     "data": {
      "text/html": [
       "<div>\n",
       "<style scoped>\n",
       "    .dataframe tbody tr th:only-of-type {\n",
       "        vertical-align: middle;\n",
       "    }\n",
       "\n",
       "    .dataframe tbody tr th {\n",
       "        vertical-align: top;\n",
       "    }\n",
       "\n",
       "    .dataframe thead th {\n",
       "        text-align: right;\n",
       "    }\n",
       "</style>\n",
       "<table border=\"1\" class=\"dataframe\">\n",
       "  <thead>\n",
       "    <tr style=\"text-align: right;\">\n",
       "      <th></th>\n",
       "      <th>antecedents</th>\n",
       "      <th>consequents</th>\n",
       "      <th>antecedent support</th>\n",
       "      <th>antecedent_sup_abs</th>\n",
       "      <th>consequent support</th>\n",
       "      <th>consequent_sup_abs</th>\n",
       "      <th>support</th>\n",
       "      <th>support_abs</th>\n",
       "      <th>confidence</th>\n",
       "      <th>lift</th>\n",
       "      <th>leverage</th>\n",
       "      <th>conviction</th>\n",
       "      <th>antecedent_len</th>\n",
       "      <th>consequente_len</th>\n",
       "    </tr>\n",
       "  </thead>\n",
       "  <tbody>\n",
       "  </tbody>\n",
       "</table>\n",
       "</div>"
      ],
      "text/plain": [
       "Empty DataFrame\n",
       "Columns: [antecedents, consequents, antecedent support, antecedent_sup_abs, consequent support, consequent_sup_abs, support, support_abs, confidence, lift, leverage, conviction, antecedent_len, consequente_len]\n",
       "Index: []"
      ]
     },
     "execution_count": 30,
     "metadata": {},
     "output_type": "execute_result"
    }
   ],
   "source": [
    "rules6 = df[ (df['consequents'].str.contains('SQLite'))]# & (df['confidence'] > 0.3) ] # 0.7\n",
    "rules6"
   ]
  },
  {
   "cell_type": "code",
   "execution_count": 31,
   "metadata": {},
   "outputs": [
    {
     "data": {
      "text/html": [
       "<div>\n",
       "<style scoped>\n",
       "    .dataframe tbody tr th:only-of-type {\n",
       "        vertical-align: middle;\n",
       "    }\n",
       "\n",
       "    .dataframe tbody tr th {\n",
       "        vertical-align: top;\n",
       "    }\n",
       "\n",
       "    .dataframe thead th {\n",
       "        text-align: right;\n",
       "    }\n",
       "</style>\n",
       "<table border=\"1\" class=\"dataframe\">\n",
       "  <thead>\n",
       "    <tr style=\"text-align: right;\">\n",
       "      <th></th>\n",
       "      <th>antecedents</th>\n",
       "      <th>consequents</th>\n",
       "      <th>antecedent support</th>\n",
       "      <th>antecedent_sup_abs</th>\n",
       "      <th>consequent support</th>\n",
       "      <th>consequent_sup_abs</th>\n",
       "      <th>support</th>\n",
       "      <th>support_abs</th>\n",
       "      <th>confidence</th>\n",
       "      <th>lift</th>\n",
       "      <th>leverage</th>\n",
       "      <th>conviction</th>\n",
       "      <th>antecedent_len</th>\n",
       "      <th>consequente_len</th>\n",
       "    </tr>\n",
       "  </thead>\n",
       "  <tbody>\n",
       "  </tbody>\n",
       "</table>\n",
       "</div>"
      ],
      "text/plain": [
       "Empty DataFrame\n",
       "Columns: [antecedents, consequents, antecedent support, antecedent_sup_abs, consequent support, consequent_sup_abs, support, support_abs, confidence, lift, leverage, conviction, antecedent_len, consequente_len]\n",
       "Index: []"
      ]
     },
     "execution_count": 31,
     "metadata": {},
     "output_type": "execute_result"
    }
   ],
   "source": [
    "rules7 = df[(df['consequents'].str.contains('Ehcache'))]# & (df['confidence'] > 0.7) ]\n",
    "rules7"
   ]
  },
  {
   "cell_type": "code",
   "execution_count": 32,
   "metadata": {},
   "outputs": [
    {
     "data": {
      "text/html": [
       "<div>\n",
       "<style scoped>\n",
       "    .dataframe tbody tr th:only-of-type {\n",
       "        vertical-align: middle;\n",
       "    }\n",
       "\n",
       "    .dataframe tbody tr th {\n",
       "        vertical-align: top;\n",
       "    }\n",
       "\n",
       "    .dataframe thead th {\n",
       "        text-align: right;\n",
       "    }\n",
       "</style>\n",
       "<table border=\"1\" class=\"dataframe\">\n",
       "  <thead>\n",
       "    <tr style=\"text-align: right;\">\n",
       "      <th></th>\n",
       "      <th>antecedents</th>\n",
       "      <th>consequents</th>\n",
       "      <th>antecedent support</th>\n",
       "      <th>antecedent_sup_abs</th>\n",
       "      <th>consequent support</th>\n",
       "      <th>consequent_sup_abs</th>\n",
       "      <th>support</th>\n",
       "      <th>support_abs</th>\n",
       "      <th>confidence</th>\n",
       "      <th>lift</th>\n",
       "      <th>leverage</th>\n",
       "      <th>conviction</th>\n",
       "      <th>antecedent_len</th>\n",
       "      <th>consequente_len</th>\n",
       "    </tr>\n",
       "  </thead>\n",
       "  <tbody>\n",
       "  </tbody>\n",
       "</table>\n",
       "</div>"
      ],
      "text/plain": [
       "Empty DataFrame\n",
       "Columns: [antecedents, consequents, antecedent support, antecedent_sup_abs, consequent support, consequent_sup_abs, support, support_abs, confidence, lift, leverage, conviction, antecedent_len, consequente_len]\n",
       "Index: []"
      ]
     },
     "execution_count": 32,
     "metadata": {},
     "output_type": "execute_result"
    }
   ],
   "source": [
    "#rules7 = df[ (df['consequents'].str.contains('Redis'))] #& (df['confidence'] > 0.7) ]\n",
    "rules8 = df[ (df['consequents'].str.contains('IBM DB2'))] #& (df['confidence'] > 0.7) ]\n",
    "rules8"
   ]
  },
  {
   "cell_type": "code",
   "execution_count": 33,
   "metadata": {},
   "outputs": [
    {
     "data": {
      "text/html": [
       "<div>\n",
       "<style scoped>\n",
       "    .dataframe tbody tr th:only-of-type {\n",
       "        vertical-align: middle;\n",
       "    }\n",
       "\n",
       "    .dataframe tbody tr th {\n",
       "        vertical-align: top;\n",
       "    }\n",
       "\n",
       "    .dataframe thead th {\n",
       "        text-align: right;\n",
       "    }\n",
       "</style>\n",
       "<table border=\"1\" class=\"dataframe\">\n",
       "  <thead>\n",
       "    <tr style=\"text-align: right;\">\n",
       "      <th></th>\n",
       "      <th>antecedents</th>\n",
       "      <th>consequents</th>\n",
       "      <th>antecedent support</th>\n",
       "      <th>antecedent_sup_abs</th>\n",
       "      <th>consequent support</th>\n",
       "      <th>consequent_sup_abs</th>\n",
       "      <th>support</th>\n",
       "      <th>support_abs</th>\n",
       "      <th>confidence</th>\n",
       "      <th>lift</th>\n",
       "      <th>leverage</th>\n",
       "      <th>conviction</th>\n",
       "      <th>antecedent_len</th>\n",
       "      <th>consequente_len</th>\n",
       "    </tr>\n",
       "  </thead>\n",
       "  <tbody>\n",
       "  </tbody>\n",
       "</table>\n",
       "</div>"
      ],
      "text/plain": [
       "Empty DataFrame\n",
       "Columns: [antecedents, consequents, antecedent support, antecedent_sup_abs, consequent support, consequent_sup_abs, support, support_abs, confidence, lift, leverage, conviction, antecedent_len, consequente_len]\n",
       "Index: []"
      ]
     },
     "execution_count": 33,
     "metadata": {},
     "output_type": "execute_result"
    }
   ],
   "source": [
    "#rules9 = df[(df['consequents'].str.contains('MongoDB'))]#& (df['confidence'] > 0.3) ] # 0.7\n",
    "rules9 = df[ (df['consequents'].str.contains('MS SQL Server'))]# & (df['confidence'] > 0.7) ]\n",
    "rules9"
   ]
  },
  {
   "cell_type": "code",
   "execution_count": 34,
   "metadata": {},
   "outputs": [
    {
     "data": {
      "text/html": [
       "<div>\n",
       "<style scoped>\n",
       "    .dataframe tbody tr th:only-of-type {\n",
       "        vertical-align: middle;\n",
       "    }\n",
       "\n",
       "    .dataframe tbody tr th {\n",
       "        vertical-align: top;\n",
       "    }\n",
       "\n",
       "    .dataframe thead th {\n",
       "        text-align: right;\n",
       "    }\n",
       "</style>\n",
       "<table border=\"1\" class=\"dataframe\">\n",
       "  <thead>\n",
       "    <tr style=\"text-align: right;\">\n",
       "      <th></th>\n",
       "      <th>antecedents</th>\n",
       "      <th>consequents</th>\n",
       "      <th>antecedent support</th>\n",
       "      <th>antecedent_sup_abs</th>\n",
       "      <th>consequent support</th>\n",
       "      <th>consequent_sup_abs</th>\n",
       "      <th>support</th>\n",
       "      <th>support_abs</th>\n",
       "      <th>confidence</th>\n",
       "      <th>lift</th>\n",
       "      <th>leverage</th>\n",
       "      <th>conviction</th>\n",
       "      <th>antecedent_len</th>\n",
       "      <th>consequente_len</th>\n",
       "    </tr>\n",
       "  </thead>\n",
       "  <tbody>\n",
       "  </tbody>\n",
       "</table>\n",
       "</div>"
      ],
      "text/plain": [
       "Empty DataFrame\n",
       "Columns: [antecedents, consequents, antecedent support, antecedent_sup_abs, consequent support, consequent_sup_abs, support, support_abs, confidence, lift, leverage, conviction, antecedent_len, consequente_len]\n",
       "Index: []"
      ]
     },
     "execution_count": 34,
     "metadata": {},
     "output_type": "execute_result"
    }
   ],
   "source": [
    "rules10 = df[ (df['antecedents'].str.contains('SAP Adaptive Server')) | (df['consequents'].str.contains('SAP Adaptive Server'))]# & (df['confidence'] > 0.7) ]\n",
    "rules10"
   ]
  },
  {
   "cell_type": "code",
   "execution_count": 35,
   "metadata": {},
   "outputs": [
    {
     "data": {
      "text/html": [
       "<div>\n",
       "<style scoped>\n",
       "    .dataframe tbody tr th:only-of-type {\n",
       "        vertical-align: middle;\n",
       "    }\n",
       "\n",
       "    .dataframe tbody tr th {\n",
       "        vertical-align: top;\n",
       "    }\n",
       "\n",
       "    .dataframe thead th {\n",
       "        text-align: right;\n",
       "    }\n",
       "</style>\n",
       "<table border=\"1\" class=\"dataframe\">\n",
       "  <thead>\n",
       "    <tr style=\"text-align: right;\">\n",
       "      <th></th>\n",
       "      <th>antecedents</th>\n",
       "      <th>consequents</th>\n",
       "      <th>antecedent support</th>\n",
       "      <th>antecedent_sup_abs</th>\n",
       "      <th>consequent support</th>\n",
       "      <th>consequent_sup_abs</th>\n",
       "      <th>support</th>\n",
       "      <th>support_abs</th>\n",
       "      <th>confidence</th>\n",
       "      <th>lift</th>\n",
       "      <th>leverage</th>\n",
       "      <th>conviction</th>\n",
       "      <th>antecedent_len</th>\n",
       "      <th>consequente_len</th>\n",
       "    </tr>\n",
       "  </thead>\n",
       "  <tbody>\n",
       "  </tbody>\n",
       "</table>\n",
       "</div>"
      ],
      "text/plain": [
       "Empty DataFrame\n",
       "Columns: [antecedents, consequents, antecedent support, antecedent_sup_abs, consequent support, consequent_sup_abs, support, support_abs, confidence, lift, leverage, conviction, antecedent_len, consequente_len]\n",
       "Index: []"
      ]
     },
     "execution_count": 35,
     "metadata": {},
     "output_type": "execute_result"
    }
   ],
   "source": [
    "#rules11 = df[ (df['consequents'] .str.contains('MariaDB'))]# & (df['confidence'] > 0.7) ]\n",
    "rules11 = df[ (df['consequents'] .str.contains('MS Access'))]# & (df['confidence'] > 0.7) ]\n",
    "rules11"
   ]
  },
  {
   "cell_type": "code",
   "execution_count": 36,
   "metadata": {},
   "outputs": [
    {
     "data": {
      "text/html": [
       "<div>\n",
       "<style scoped>\n",
       "    .dataframe tbody tr th:only-of-type {\n",
       "        vertical-align: middle;\n",
       "    }\n",
       "\n",
       "    .dataframe tbody tr th {\n",
       "        vertical-align: top;\n",
       "    }\n",
       "\n",
       "    .dataframe thead th {\n",
       "        text-align: right;\n",
       "    }\n",
       "</style>\n",
       "<table border=\"1\" class=\"dataframe\">\n",
       "  <thead>\n",
       "    <tr style=\"text-align: right;\">\n",
       "      <th></th>\n",
       "      <th>antecedents</th>\n",
       "      <th>consequents</th>\n",
       "      <th>antecedent support</th>\n",
       "      <th>antecedent_sup_abs</th>\n",
       "      <th>consequent support</th>\n",
       "      <th>consequent_sup_abs</th>\n",
       "      <th>support</th>\n",
       "      <th>support_abs</th>\n",
       "      <th>confidence</th>\n",
       "      <th>lift</th>\n",
       "      <th>leverage</th>\n",
       "      <th>conviction</th>\n",
       "      <th>antecedent_len</th>\n",
       "      <th>consequente_len</th>\n",
       "    </tr>\n",
       "  </thead>\n",
       "  <tbody>\n",
       "  </tbody>\n",
       "</table>\n",
       "</div>"
      ],
      "text/plain": [
       "Empty DataFrame\n",
       "Columns: [antecedents, consequents, antecedent support, antecedent_sup_abs, consequent support, consequent_sup_abs, support, support_abs, confidence, lift, leverage, conviction, antecedent_len, consequente_len]\n",
       "Index: []"
      ]
     },
     "execution_count": 36,
     "metadata": {},
     "output_type": "execute_result"
    }
   ],
   "source": [
    "#rules11 = df[ (df['consequents'] .str.contains('MariaDB'))]# & (df['confidence'] > 0.7) ]\n",
    "rules12 = df[ (df['consequents'] .str.contains('MongoDB'))]# & (df['confidence'] > 0.7) ]\n",
    "rules12"
   ]
  },
  {
   "attachments": {},
   "cell_type": "markdown",
   "metadata": {},
   "source": [
    "Expected Patterns Session\n",
    "In the rules below, we highlight the dependence presented in opposite directions and the expected correlation.\n",
    "In first version not occurr expected patterns"
   ]
  },
  {
   "cell_type": "code",
   "execution_count": 37,
   "metadata": {},
   "outputs": [
    {
     "data": {
      "text/html": [
       "<div>\n",
       "<style scoped>\n",
       "    .dataframe tbody tr th:only-of-type {\n",
       "        vertical-align: middle;\n",
       "    }\n",
       "\n",
       "    .dataframe tbody tr th {\n",
       "        vertical-align: top;\n",
       "    }\n",
       "\n",
       "    .dataframe thead th {\n",
       "        text-align: right;\n",
       "    }\n",
       "</style>\n",
       "<table border=\"1\" class=\"dataframe\">\n",
       "  <thead>\n",
       "    <tr style=\"text-align: right;\">\n",
       "      <th></th>\n",
       "      <th>antecedents</th>\n",
       "      <th>consequents</th>\n",
       "      <th>antecedent support</th>\n",
       "      <th>antecedent_sup_abs</th>\n",
       "      <th>consequent support</th>\n",
       "      <th>consequent_sup_abs</th>\n",
       "      <th>support</th>\n",
       "      <th>support_abs</th>\n",
       "      <th>confidence</th>\n",
       "      <th>lift</th>\n",
       "      <th>leverage</th>\n",
       "      <th>conviction</th>\n",
       "      <th>antecedent_len</th>\n",
       "      <th>consequente_len</th>\n",
       "    </tr>\n",
       "  </thead>\n",
       "  <tbody>\n",
       "  </tbody>\n",
       "</table>\n",
       "</div>"
      ],
      "text/plain": [
       "Empty DataFrame\n",
       "Columns: [antecedents, consequents, antecedent support, antecedent_sup_abs, consequent support, consequent_sup_abs, support, support_abs, confidence, lift, leverage, conviction, antecedent_len, consequente_len]\n",
       "Index: []"
      ]
     },
     "execution_count": 37,
     "metadata": {},
     "output_type": "execute_result"
    }
   ],
   "source": [
    "rules9 = df[((df['antecedents'].str.contains('MariaDB')) & (df['consequents'].str.contains('MySQL'))) | \n",
    "((df['antecedents'].str.contains('MySQL')) & (df['consequents'].str.contains('MariaDB')))]\n",
    "rules9"
   ]
  },
  {
   "cell_type": "code",
   "execution_count": 38,
   "metadata": {},
   "outputs": [
    {
     "data": {
      "text/html": [
       "<div>\n",
       "<style scoped>\n",
       "    .dataframe tbody tr th:only-of-type {\n",
       "        vertical-align: middle;\n",
       "    }\n",
       "\n",
       "    .dataframe tbody tr th {\n",
       "        vertical-align: top;\n",
       "    }\n",
       "\n",
       "    .dataframe thead th {\n",
       "        text-align: right;\n",
       "    }\n",
       "</style>\n",
       "<table border=\"1\" class=\"dataframe\">\n",
       "  <thead>\n",
       "    <tr style=\"text-align: right;\">\n",
       "      <th></th>\n",
       "      <th>antecedents</th>\n",
       "      <th>consequents</th>\n",
       "      <th>antecedent support</th>\n",
       "      <th>antecedent_sup_abs</th>\n",
       "      <th>consequent support</th>\n",
       "      <th>consequent_sup_abs</th>\n",
       "      <th>support</th>\n",
       "      <th>support_abs</th>\n",
       "      <th>confidence</th>\n",
       "      <th>lift</th>\n",
       "      <th>leverage</th>\n",
       "      <th>conviction</th>\n",
       "      <th>antecedent_len</th>\n",
       "      <th>consequente_len</th>\n",
       "    </tr>\n",
       "  </thead>\n",
       "  <tbody>\n",
       "  </tbody>\n",
       "</table>\n",
       "</div>"
      ],
      "text/plain": [
       "Empty DataFrame\n",
       "Columns: [antecedents, consequents, antecedent support, antecedent_sup_abs, consequent support, consequent_sup_abs, support, support_abs, confidence, lift, leverage, conviction, antecedent_len, consequente_len]\n",
       "Index: []"
      ]
     },
     "execution_count": 38,
     "metadata": {},
     "output_type": "execute_result"
    }
   ],
   "source": [
    "rules10 = df2[((df2['antecedents'].str.contains('PostgreSQL')) & (df2['consequents'].str.contains('PostGIS'))) | \n",
    "((df2['antecedents'].str.contains('PostGIS')) & (df2['consequents'].str.contains('PostgreSQL')))]\n",
    "#rules10 = df2[(df2['consequents'].str.contains('PostGIS'))] Este BD nã retornou nas regras\n",
    "rules10"
   ]
  },
  {
   "cell_type": "code",
   "execution_count": 39,
   "metadata": {},
   "outputs": [
    {
     "data": {
      "text/html": [
       "<div>\n",
       "<style scoped>\n",
       "    .dataframe tbody tr th:only-of-type {\n",
       "        vertical-align: middle;\n",
       "    }\n",
       "\n",
       "    .dataframe tbody tr th {\n",
       "        vertical-align: top;\n",
       "    }\n",
       "\n",
       "    .dataframe thead th {\n",
       "        text-align: right;\n",
       "    }\n",
       "</style>\n",
       "<table border=\"1\" class=\"dataframe\">\n",
       "  <thead>\n",
       "    <tr style=\"text-align: right;\">\n",
       "      <th></th>\n",
       "      <th>antecedents</th>\n",
       "      <th>consequents</th>\n",
       "      <th>antecedent support</th>\n",
       "      <th>antecedent_sup_abs</th>\n",
       "      <th>consequent support</th>\n",
       "      <th>consequent_sup_abs</th>\n",
       "      <th>support</th>\n",
       "      <th>support_abs</th>\n",
       "      <th>confidence</th>\n",
       "      <th>lift</th>\n",
       "      <th>leverage</th>\n",
       "      <th>conviction</th>\n",
       "      <th>antecedent_len</th>\n",
       "      <th>consequente_len</th>\n",
       "    </tr>\n",
       "  </thead>\n",
       "  <tbody>\n",
       "  </tbody>\n",
       "</table>\n",
       "</div>"
      ],
      "text/plain": [
       "Empty DataFrame\n",
       "Columns: [antecedents, consequents, antecedent support, antecedent_sup_abs, consequent support, consequent_sup_abs, support, support_abs, confidence, lift, leverage, conviction, antecedent_len, consequente_len]\n",
       "Index: []"
      ]
     },
     "execution_count": 39,
     "metadata": {},
     "output_type": "execute_result"
    }
   ],
   "source": [
    "rules11 = df[ (df['consequents'] .str.contains('MySQL')) & (df['antecedents'] .str.contains('MariaDB'))|\n",
    "             (df['antecedents'] .str.contains('MySQL')) & (df['consequents'] .str.contains('MariaDB'))] #& (df['confidence'] > 0.7) ]\n",
    "rules11"
   ]
  },
  {
   "cell_type": "code",
   "execution_count": 40,
   "metadata": {},
   "outputs": [
    {
     "data": {
      "text/html": [
       "<div>\n",
       "<style scoped>\n",
       "    .dataframe tbody tr th:only-of-type {\n",
       "        vertical-align: middle;\n",
       "    }\n",
       "\n",
       "    .dataframe tbody tr th {\n",
       "        vertical-align: top;\n",
       "    }\n",
       "\n",
       "    .dataframe thead th {\n",
       "        text-align: right;\n",
       "    }\n",
       "</style>\n",
       "<table border=\"1\" class=\"dataframe\">\n",
       "  <thead>\n",
       "    <tr style=\"text-align: right;\">\n",
       "      <th></th>\n",
       "      <th>antecedents</th>\n",
       "      <th>consequents</th>\n",
       "      <th>antecedent support</th>\n",
       "      <th>antecedent_sup_abs</th>\n",
       "      <th>consequent support</th>\n",
       "      <th>consequent_sup_abs</th>\n",
       "      <th>support</th>\n",
       "      <th>support_abs</th>\n",
       "      <th>confidence</th>\n",
       "      <th>lift</th>\n",
       "      <th>leverage</th>\n",
       "      <th>conviction</th>\n",
       "      <th>antecedent_len</th>\n",
       "      <th>consequente_len</th>\n",
       "    </tr>\n",
       "  </thead>\n",
       "  <tbody>\n",
       "  </tbody>\n",
       "</table>\n",
       "</div>"
      ],
      "text/plain": [
       "Empty DataFrame\n",
       "Columns: [antecedents, consequents, antecedent support, antecedent_sup_abs, consequent support, consequent_sup_abs, support, support_abs, confidence, lift, leverage, conviction, antecedent_len, consequente_len]\n",
       "Index: []"
      ]
     },
     "execution_count": 40,
     "metadata": {},
     "output_type": "execute_result"
    }
   ],
   "source": [
    "rules12 = df[ (df['consequents'] .str.contains('PostgreSQL')) & (df['antecedents'] .str.contains('PostGIS'))|\n",
    "             (df['antecedents'] .str.contains('PostgreSQL')) & (df['consequents'] .str.contains('PostGIS'))] #& (df['confidence'] > 0.7) ]\n",
    "rules12"
   ]
  },
  {
   "attachments": {},
   "cell_type": "markdown",
   "metadata": {},
   "source": [
    "Unexpected Patterns Session\n",
    "In the rules below we highlight competition and high lift values."
   ]
  },
  {
   "cell_type": "code",
   "execution_count": 41,
   "metadata": {},
   "outputs": [
    {
     "data": {
      "text/html": [
       "<div>\n",
       "<style scoped>\n",
       "    .dataframe tbody tr th:only-of-type {\n",
       "        vertical-align: middle;\n",
       "    }\n",
       "\n",
       "    .dataframe tbody tr th {\n",
       "        vertical-align: top;\n",
       "    }\n",
       "\n",
       "    .dataframe thead th {\n",
       "        text-align: right;\n",
       "    }\n",
       "</style>\n",
       "<table border=\"1\" class=\"dataframe\">\n",
       "  <thead>\n",
       "    <tr style=\"text-align: right;\">\n",
       "      <th></th>\n",
       "      <th>antecedents</th>\n",
       "      <th>consequents</th>\n",
       "      <th>antecedent support</th>\n",
       "      <th>antecedent_sup_abs</th>\n",
       "      <th>consequent support</th>\n",
       "      <th>consequent_sup_abs</th>\n",
       "      <th>support</th>\n",
       "      <th>support_abs</th>\n",
       "      <th>confidence</th>\n",
       "      <th>lift</th>\n",
       "      <th>leverage</th>\n",
       "      <th>conviction</th>\n",
       "      <th>antecedent_len</th>\n",
       "      <th>consequente_len</th>\n",
       "    </tr>\n",
       "  </thead>\n",
       "  <tbody>\n",
       "    <tr>\n",
       "      <th>0</th>\n",
       "      <td>PostgreSQL</td>\n",
       "      <td>Oracle</td>\n",
       "      <td>0.046154</td>\n",
       "      <td>9.092308</td>\n",
       "      <td>0.038462</td>\n",
       "      <td>7.576923</td>\n",
       "      <td>0.023077</td>\n",
       "      <td>4.546154</td>\n",
       "      <td>0.500000</td>\n",
       "      <td>13.000000</td>\n",
       "      <td>0.021302</td>\n",
       "      <td>1.923077</td>\n",
       "      <td>1</td>\n",
       "      <td>1</td>\n",
       "    </tr>\n",
       "    <tr>\n",
       "      <th>1</th>\n",
       "      <td>Oracle</td>\n",
       "      <td>PostgreSQL</td>\n",
       "      <td>0.038462</td>\n",
       "      <td>7.576923</td>\n",
       "      <td>0.046154</td>\n",
       "      <td>9.092308</td>\n",
       "      <td>0.023077</td>\n",
       "      <td>4.546154</td>\n",
       "      <td>0.600000</td>\n",
       "      <td>13.000000</td>\n",
       "      <td>0.021302</td>\n",
       "      <td>2.384615</td>\n",
       "      <td>1</td>\n",
       "      <td>1</td>\n",
       "    </tr>\n",
       "    <tr>\n",
       "      <th>2</th>\n",
       "      <td>Oracle</td>\n",
       "      <td>HyperSQL</td>\n",
       "      <td>0.038462</td>\n",
       "      <td>7.576923</td>\n",
       "      <td>0.069231</td>\n",
       "      <td>13.638462</td>\n",
       "      <td>0.023077</td>\n",
       "      <td>4.546154</td>\n",
       "      <td>0.600000</td>\n",
       "      <td>8.666667</td>\n",
       "      <td>0.020414</td>\n",
       "      <td>2.326923</td>\n",
       "      <td>1</td>\n",
       "      <td>1</td>\n",
       "    </tr>\n",
       "    <tr>\n",
       "      <th>3</th>\n",
       "      <td>HyperSQL</td>\n",
       "      <td>Oracle</td>\n",
       "      <td>0.069231</td>\n",
       "      <td>13.638462</td>\n",
       "      <td>0.038462</td>\n",
       "      <td>7.576923</td>\n",
       "      <td>0.023077</td>\n",
       "      <td>4.546154</td>\n",
       "      <td>0.333333</td>\n",
       "      <td>8.666667</td>\n",
       "      <td>0.020414</td>\n",
       "      <td>1.442308</td>\n",
       "      <td>1</td>\n",
       "      <td>1</td>\n",
       "    </tr>\n",
       "    <tr>\n",
       "      <th>4</th>\n",
       "      <td>MySQL</td>\n",
       "      <td>PostgreSQL</td>\n",
       "      <td>0.120513</td>\n",
       "      <td>23.741026</td>\n",
       "      <td>0.046154</td>\n",
       "      <td>9.092308</td>\n",
       "      <td>0.041026</td>\n",
       "      <td>8.082051</td>\n",
       "      <td>0.340426</td>\n",
       "      <td>7.375887</td>\n",
       "      <td>0.035464</td>\n",
       "      <td>1.446154</td>\n",
       "      <td>1</td>\n",
       "      <td>1</td>\n",
       "    </tr>\n",
       "    <tr>\n",
       "      <th>5</th>\n",
       "      <td>PostgreSQL</td>\n",
       "      <td>MySQL</td>\n",
       "      <td>0.046154</td>\n",
       "      <td>9.092308</td>\n",
       "      <td>0.120513</td>\n",
       "      <td>23.741026</td>\n",
       "      <td>0.041026</td>\n",
       "      <td>8.082051</td>\n",
       "      <td>0.888889</td>\n",
       "      <td>7.375887</td>\n",
       "      <td>0.035464</td>\n",
       "      <td>7.915385</td>\n",
       "      <td>1</td>\n",
       "      <td>1</td>\n",
       "    </tr>\n",
       "    <tr>\n",
       "      <th>6</th>\n",
       "      <td>PostgreSQL</td>\n",
       "      <td>HyperSQL</td>\n",
       "      <td>0.046154</td>\n",
       "      <td>9.092308</td>\n",
       "      <td>0.069231</td>\n",
       "      <td>13.638462</td>\n",
       "      <td>0.023077</td>\n",
       "      <td>4.546154</td>\n",
       "      <td>0.500000</td>\n",
       "      <td>7.222222</td>\n",
       "      <td>0.019882</td>\n",
       "      <td>1.861538</td>\n",
       "      <td>1</td>\n",
       "      <td>1</td>\n",
       "    </tr>\n",
       "    <tr>\n",
       "      <th>7</th>\n",
       "      <td>HyperSQL</td>\n",
       "      <td>PostgreSQL</td>\n",
       "      <td>0.069231</td>\n",
       "      <td>13.638462</td>\n",
       "      <td>0.046154</td>\n",
       "      <td>9.092308</td>\n",
       "      <td>0.023077</td>\n",
       "      <td>4.546154</td>\n",
       "      <td>0.333333</td>\n",
       "      <td>7.222222</td>\n",
       "      <td>0.019882</td>\n",
       "      <td>1.430769</td>\n",
       "      <td>1</td>\n",
       "      <td>1</td>\n",
       "    </tr>\n",
       "    <tr>\n",
       "      <th>8</th>\n",
       "      <td>MySQL</td>\n",
       "      <td>Oracle</td>\n",
       "      <td>0.120513</td>\n",
       "      <td>23.741026</td>\n",
       "      <td>0.038462</td>\n",
       "      <td>7.576923</td>\n",
       "      <td>0.030769</td>\n",
       "      <td>6.061538</td>\n",
       "      <td>0.255319</td>\n",
       "      <td>6.638298</td>\n",
       "      <td>0.026134</td>\n",
       "      <td>1.291209</td>\n",
       "      <td>1</td>\n",
       "      <td>1</td>\n",
       "    </tr>\n",
       "    <tr>\n",
       "      <th>9</th>\n",
       "      <td>Oracle</td>\n",
       "      <td>MySQL</td>\n",
       "      <td>0.038462</td>\n",
       "      <td>7.576923</td>\n",
       "      <td>0.120513</td>\n",
       "      <td>23.741026</td>\n",
       "      <td>0.030769</td>\n",
       "      <td>6.061538</td>\n",
       "      <td>0.800000</td>\n",
       "      <td>6.638298</td>\n",
       "      <td>0.026134</td>\n",
       "      <td>4.397436</td>\n",
       "      <td>1</td>\n",
       "      <td>1</td>\n",
       "    </tr>\n",
       "    <tr>\n",
       "      <th>10</th>\n",
       "      <td>HyperSQL</td>\n",
       "      <td>H2</td>\n",
       "      <td>0.069231</td>\n",
       "      <td>13.638462</td>\n",
       "      <td>0.066667</td>\n",
       "      <td>13.133333</td>\n",
       "      <td>0.028205</td>\n",
       "      <td>5.556410</td>\n",
       "      <td>0.407407</td>\n",
       "      <td>6.111111</td>\n",
       "      <td>0.023590</td>\n",
       "      <td>1.575000</td>\n",
       "      <td>1</td>\n",
       "      <td>1</td>\n",
       "    </tr>\n",
       "    <tr>\n",
       "      <th>11</th>\n",
       "      <td>H2</td>\n",
       "      <td>HyperSQL</td>\n",
       "      <td>0.066667</td>\n",
       "      <td>13.133333</td>\n",
       "      <td>0.069231</td>\n",
       "      <td>13.638462</td>\n",
       "      <td>0.028205</td>\n",
       "      <td>5.556410</td>\n",
       "      <td>0.423077</td>\n",
       "      <td>6.111111</td>\n",
       "      <td>0.023590</td>\n",
       "      <td>1.613333</td>\n",
       "      <td>1</td>\n",
       "      <td>1</td>\n",
       "    </tr>\n",
       "    <tr>\n",
       "      <th>12</th>\n",
       "      <td>MySQL</td>\n",
       "      <td>HyperSQL</td>\n",
       "      <td>0.120513</td>\n",
       "      <td>23.741026</td>\n",
       "      <td>0.069231</td>\n",
       "      <td>13.638462</td>\n",
       "      <td>0.046154</td>\n",
       "      <td>9.092308</td>\n",
       "      <td>0.382979</td>\n",
       "      <td>5.531915</td>\n",
       "      <td>0.037811</td>\n",
       "      <td>1.508488</td>\n",
       "      <td>1</td>\n",
       "      <td>1</td>\n",
       "    </tr>\n",
       "    <tr>\n",
       "      <th>13</th>\n",
       "      <td>HyperSQL</td>\n",
       "      <td>MySQL</td>\n",
       "      <td>0.069231</td>\n",
       "      <td>13.638462</td>\n",
       "      <td>0.120513</td>\n",
       "      <td>23.741026</td>\n",
       "      <td>0.046154</td>\n",
       "      <td>9.092308</td>\n",
       "      <td>0.666667</td>\n",
       "      <td>5.531915</td>\n",
       "      <td>0.037811</td>\n",
       "      <td>2.638462</td>\n",
       "      <td>1</td>\n",
       "      <td>1</td>\n",
       "    </tr>\n",
       "  </tbody>\n",
       "</table>\n",
       "</div>"
      ],
      "text/plain": [
       "   antecedents consequents  antecedent support  antecedent_sup_abs  \\\n",
       "0   PostgreSQL      Oracle            0.046154            9.092308   \n",
       "1       Oracle  PostgreSQL            0.038462            7.576923   \n",
       "2       Oracle    HyperSQL            0.038462            7.576923   \n",
       "3     HyperSQL      Oracle            0.069231           13.638462   \n",
       "4        MySQL  PostgreSQL            0.120513           23.741026   \n",
       "5   PostgreSQL       MySQL            0.046154            9.092308   \n",
       "6   PostgreSQL    HyperSQL            0.046154            9.092308   \n",
       "7     HyperSQL  PostgreSQL            0.069231           13.638462   \n",
       "8        MySQL      Oracle            0.120513           23.741026   \n",
       "9       Oracle       MySQL            0.038462            7.576923   \n",
       "10    HyperSQL          H2            0.069231           13.638462   \n",
       "11          H2    HyperSQL            0.066667           13.133333   \n",
       "12       MySQL    HyperSQL            0.120513           23.741026   \n",
       "13    HyperSQL       MySQL            0.069231           13.638462   \n",
       "\n",
       "    consequent support  consequent_sup_abs   support  support_abs  confidence  \\\n",
       "0             0.038462            7.576923  0.023077     4.546154    0.500000   \n",
       "1             0.046154            9.092308  0.023077     4.546154    0.600000   \n",
       "2             0.069231           13.638462  0.023077     4.546154    0.600000   \n",
       "3             0.038462            7.576923  0.023077     4.546154    0.333333   \n",
       "4             0.046154            9.092308  0.041026     8.082051    0.340426   \n",
       "5             0.120513           23.741026  0.041026     8.082051    0.888889   \n",
       "6             0.069231           13.638462  0.023077     4.546154    0.500000   \n",
       "7             0.046154            9.092308  0.023077     4.546154    0.333333   \n",
       "8             0.038462            7.576923  0.030769     6.061538    0.255319   \n",
       "9             0.120513           23.741026  0.030769     6.061538    0.800000   \n",
       "10            0.066667           13.133333  0.028205     5.556410    0.407407   \n",
       "11            0.069231           13.638462  0.028205     5.556410    0.423077   \n",
       "12            0.069231           13.638462  0.046154     9.092308    0.382979   \n",
       "13            0.120513           23.741026  0.046154     9.092308    0.666667   \n",
       "\n",
       "         lift  leverage  conviction  antecedent_len  consequente_len  \n",
       "0   13.000000  0.021302    1.923077               1                1  \n",
       "1   13.000000  0.021302    2.384615               1                1  \n",
       "2    8.666667  0.020414    2.326923               1                1  \n",
       "3    8.666667  0.020414    1.442308               1                1  \n",
       "4    7.375887  0.035464    1.446154               1                1  \n",
       "5    7.375887  0.035464    7.915385               1                1  \n",
       "6    7.222222  0.019882    1.861538               1                1  \n",
       "7    7.222222  0.019882    1.430769               1                1  \n",
       "8    6.638298  0.026134    1.291209               1                1  \n",
       "9    6.638298  0.026134    4.397436               1                1  \n",
       "10   6.111111  0.023590    1.575000               1                1  \n",
       "11   6.111111  0.023590    1.613333               1                1  \n",
       "12   5.531915  0.037811    1.508488               1                1  \n",
       "13   5.531915  0.037811    2.638462               1                1  "
      ]
     },
     "execution_count": 41,
     "metadata": {},
     "output_type": "execute_result"
    }
   ],
   "source": [
    "rules13 = df2[(df2['lift'] > 4.5)] #>20\n",
    "rules13 = rules13.sort_values(['lift'], ascending=False)\n",
    "rules13"
   ]
  },
  {
   "cell_type": "code",
   "execution_count": 90,
   "metadata": {},
   "outputs": [],
   "source": [
    "#rules13_filter = rules13.to_excel('rules_filters_liftv1.xlsx', index=False)"
   ]
  },
  {
   "cell_type": "code",
   "execution_count": 42,
   "metadata": {},
   "outputs": [
    {
     "data": {
      "text/html": [
       "<div>\n",
       "<style scoped>\n",
       "    .dataframe tbody tr th:only-of-type {\n",
       "        vertical-align: middle;\n",
       "    }\n",
       "\n",
       "    .dataframe tbody tr th {\n",
       "        vertical-align: top;\n",
       "    }\n",
       "\n",
       "    .dataframe thead th {\n",
       "        text-align: right;\n",
       "    }\n",
       "</style>\n",
       "<table border=\"1\" class=\"dataframe\">\n",
       "  <thead>\n",
       "    <tr style=\"text-align: right;\">\n",
       "      <th></th>\n",
       "      <th>antecedents</th>\n",
       "      <th>consequents</th>\n",
       "      <th>antecedent support</th>\n",
       "      <th>antecedent_sup_abs</th>\n",
       "      <th>consequent support</th>\n",
       "      <th>consequent_sup_abs</th>\n",
       "      <th>support</th>\n",
       "      <th>support_abs</th>\n",
       "      <th>confidence</th>\n",
       "      <th>lift</th>\n",
       "      <th>leverage</th>\n",
       "      <th>conviction</th>\n",
       "      <th>antecedent_len</th>\n",
       "      <th>consequente_len</th>\n",
       "    </tr>\n",
       "  </thead>\n",
       "  <tbody>\n",
       "    <tr>\n",
       "      <th>0</th>\n",
       "      <td>PostgreSQL</td>\n",
       "      <td>Oracle</td>\n",
       "      <td>0.046154</td>\n",
       "      <td>9.092308</td>\n",
       "      <td>0.038462</td>\n",
       "      <td>7.576923</td>\n",
       "      <td>0.023077</td>\n",
       "      <td>4.546154</td>\n",
       "      <td>0.500000</td>\n",
       "      <td>13.000000</td>\n",
       "      <td>0.021302</td>\n",
       "      <td>1.923077</td>\n",
       "      <td>1</td>\n",
       "      <td>1</td>\n",
       "    </tr>\n",
       "    <tr>\n",
       "      <th>1</th>\n",
       "      <td>Oracle</td>\n",
       "      <td>PostgreSQL</td>\n",
       "      <td>0.038462</td>\n",
       "      <td>7.576923</td>\n",
       "      <td>0.046154</td>\n",
       "      <td>9.092308</td>\n",
       "      <td>0.023077</td>\n",
       "      <td>4.546154</td>\n",
       "      <td>0.600000</td>\n",
       "      <td>13.000000</td>\n",
       "      <td>0.021302</td>\n",
       "      <td>2.384615</td>\n",
       "      <td>1</td>\n",
       "      <td>1</td>\n",
       "    </tr>\n",
       "    <tr>\n",
       "      <th>2</th>\n",
       "      <td>Oracle</td>\n",
       "      <td>HyperSQL</td>\n",
       "      <td>0.038462</td>\n",
       "      <td>7.576923</td>\n",
       "      <td>0.069231</td>\n",
       "      <td>13.638462</td>\n",
       "      <td>0.023077</td>\n",
       "      <td>4.546154</td>\n",
       "      <td>0.600000</td>\n",
       "      <td>8.666667</td>\n",
       "      <td>0.020414</td>\n",
       "      <td>2.326923</td>\n",
       "      <td>1</td>\n",
       "      <td>1</td>\n",
       "    </tr>\n",
       "    <tr>\n",
       "      <th>3</th>\n",
       "      <td>HyperSQL</td>\n",
       "      <td>Oracle</td>\n",
       "      <td>0.069231</td>\n",
       "      <td>13.638462</td>\n",
       "      <td>0.038462</td>\n",
       "      <td>7.576923</td>\n",
       "      <td>0.023077</td>\n",
       "      <td>4.546154</td>\n",
       "      <td>0.333333</td>\n",
       "      <td>8.666667</td>\n",
       "      <td>0.020414</td>\n",
       "      <td>1.442308</td>\n",
       "      <td>1</td>\n",
       "      <td>1</td>\n",
       "    </tr>\n",
       "    <tr>\n",
       "      <th>4</th>\n",
       "      <td>MySQL</td>\n",
       "      <td>PostgreSQL</td>\n",
       "      <td>0.120513</td>\n",
       "      <td>23.741026</td>\n",
       "      <td>0.046154</td>\n",
       "      <td>9.092308</td>\n",
       "      <td>0.041026</td>\n",
       "      <td>8.082051</td>\n",
       "      <td>0.340426</td>\n",
       "      <td>7.375887</td>\n",
       "      <td>0.035464</td>\n",
       "      <td>1.446154</td>\n",
       "      <td>1</td>\n",
       "      <td>1</td>\n",
       "    </tr>\n",
       "    <tr>\n",
       "      <th>5</th>\n",
       "      <td>PostgreSQL</td>\n",
       "      <td>MySQL</td>\n",
       "      <td>0.046154</td>\n",
       "      <td>9.092308</td>\n",
       "      <td>0.120513</td>\n",
       "      <td>23.741026</td>\n",
       "      <td>0.041026</td>\n",
       "      <td>8.082051</td>\n",
       "      <td>0.888889</td>\n",
       "      <td>7.375887</td>\n",
       "      <td>0.035464</td>\n",
       "      <td>7.915385</td>\n",
       "      <td>1</td>\n",
       "      <td>1</td>\n",
       "    </tr>\n",
       "    <tr>\n",
       "      <th>6</th>\n",
       "      <td>PostgreSQL</td>\n",
       "      <td>HyperSQL</td>\n",
       "      <td>0.046154</td>\n",
       "      <td>9.092308</td>\n",
       "      <td>0.069231</td>\n",
       "      <td>13.638462</td>\n",
       "      <td>0.023077</td>\n",
       "      <td>4.546154</td>\n",
       "      <td>0.500000</td>\n",
       "      <td>7.222222</td>\n",
       "      <td>0.019882</td>\n",
       "      <td>1.861538</td>\n",
       "      <td>1</td>\n",
       "      <td>1</td>\n",
       "    </tr>\n",
       "    <tr>\n",
       "      <th>7</th>\n",
       "      <td>HyperSQL</td>\n",
       "      <td>PostgreSQL</td>\n",
       "      <td>0.069231</td>\n",
       "      <td>13.638462</td>\n",
       "      <td>0.046154</td>\n",
       "      <td>9.092308</td>\n",
       "      <td>0.023077</td>\n",
       "      <td>4.546154</td>\n",
       "      <td>0.333333</td>\n",
       "      <td>7.222222</td>\n",
       "      <td>0.019882</td>\n",
       "      <td>1.430769</td>\n",
       "      <td>1</td>\n",
       "      <td>1</td>\n",
       "    </tr>\n",
       "    <tr>\n",
       "      <th>8</th>\n",
       "      <td>MySQL</td>\n",
       "      <td>Oracle</td>\n",
       "      <td>0.120513</td>\n",
       "      <td>23.741026</td>\n",
       "      <td>0.038462</td>\n",
       "      <td>7.576923</td>\n",
       "      <td>0.030769</td>\n",
       "      <td>6.061538</td>\n",
       "      <td>0.255319</td>\n",
       "      <td>6.638298</td>\n",
       "      <td>0.026134</td>\n",
       "      <td>1.291209</td>\n",
       "      <td>1</td>\n",
       "      <td>1</td>\n",
       "    </tr>\n",
       "    <tr>\n",
       "      <th>9</th>\n",
       "      <td>Oracle</td>\n",
       "      <td>MySQL</td>\n",
       "      <td>0.038462</td>\n",
       "      <td>7.576923</td>\n",
       "      <td>0.120513</td>\n",
       "      <td>23.741026</td>\n",
       "      <td>0.030769</td>\n",
       "      <td>6.061538</td>\n",
       "      <td>0.800000</td>\n",
       "      <td>6.638298</td>\n",
       "      <td>0.026134</td>\n",
       "      <td>4.397436</td>\n",
       "      <td>1</td>\n",
       "      <td>1</td>\n",
       "    </tr>\n",
       "    <tr>\n",
       "      <th>10</th>\n",
       "      <td>HyperSQL</td>\n",
       "      <td>H2</td>\n",
       "      <td>0.069231</td>\n",
       "      <td>13.638462</td>\n",
       "      <td>0.066667</td>\n",
       "      <td>13.133333</td>\n",
       "      <td>0.028205</td>\n",
       "      <td>5.556410</td>\n",
       "      <td>0.407407</td>\n",
       "      <td>6.111111</td>\n",
       "      <td>0.023590</td>\n",
       "      <td>1.575000</td>\n",
       "      <td>1</td>\n",
       "      <td>1</td>\n",
       "    </tr>\n",
       "    <tr>\n",
       "      <th>11</th>\n",
       "      <td>H2</td>\n",
       "      <td>HyperSQL</td>\n",
       "      <td>0.066667</td>\n",
       "      <td>13.133333</td>\n",
       "      <td>0.069231</td>\n",
       "      <td>13.638462</td>\n",
       "      <td>0.028205</td>\n",
       "      <td>5.556410</td>\n",
       "      <td>0.423077</td>\n",
       "      <td>6.111111</td>\n",
       "      <td>0.023590</td>\n",
       "      <td>1.613333</td>\n",
       "      <td>1</td>\n",
       "      <td>1</td>\n",
       "    </tr>\n",
       "    <tr>\n",
       "      <th>12</th>\n",
       "      <td>MySQL</td>\n",
       "      <td>HyperSQL</td>\n",
       "      <td>0.120513</td>\n",
       "      <td>23.741026</td>\n",
       "      <td>0.069231</td>\n",
       "      <td>13.638462</td>\n",
       "      <td>0.046154</td>\n",
       "      <td>9.092308</td>\n",
       "      <td>0.382979</td>\n",
       "      <td>5.531915</td>\n",
       "      <td>0.037811</td>\n",
       "      <td>1.508488</td>\n",
       "      <td>1</td>\n",
       "      <td>1</td>\n",
       "    </tr>\n",
       "    <tr>\n",
       "      <th>13</th>\n",
       "      <td>HyperSQL</td>\n",
       "      <td>MySQL</td>\n",
       "      <td>0.069231</td>\n",
       "      <td>13.638462</td>\n",
       "      <td>0.120513</td>\n",
       "      <td>23.741026</td>\n",
       "      <td>0.046154</td>\n",
       "      <td>9.092308</td>\n",
       "      <td>0.666667</td>\n",
       "      <td>5.531915</td>\n",
       "      <td>0.037811</td>\n",
       "      <td>2.638462</td>\n",
       "      <td>1</td>\n",
       "      <td>1</td>\n",
       "    </tr>\n",
       "    <tr>\n",
       "      <th>14</th>\n",
       "      <td>MySQL</td>\n",
       "      <td>H2</td>\n",
       "      <td>0.120513</td>\n",
       "      <td>23.741026</td>\n",
       "      <td>0.066667</td>\n",
       "      <td>13.133333</td>\n",
       "      <td>0.035897</td>\n",
       "      <td>7.071795</td>\n",
       "      <td>0.297872</td>\n",
       "      <td>4.468085</td>\n",
       "      <td>0.027863</td>\n",
       "      <td>1.329293</td>\n",
       "      <td>1</td>\n",
       "      <td>1</td>\n",
       "    </tr>\n",
       "    <tr>\n",
       "      <th>15</th>\n",
       "      <td>H2</td>\n",
       "      <td>MySQL</td>\n",
       "      <td>0.066667</td>\n",
       "      <td>13.133333</td>\n",
       "      <td>0.120513</td>\n",
       "      <td>23.741026</td>\n",
       "      <td>0.035897</td>\n",
       "      <td>7.071795</td>\n",
       "      <td>0.538462</td>\n",
       "      <td>4.468085</td>\n",
       "      <td>0.027863</td>\n",
       "      <td>1.905556</td>\n",
       "      <td>1</td>\n",
       "      <td>1</td>\n",
       "    </tr>\n",
       "  </tbody>\n",
       "</table>\n",
       "</div>"
      ],
      "text/plain": [
       "   antecedents consequents  antecedent support  antecedent_sup_abs  \\\n",
       "0   PostgreSQL      Oracle            0.046154            9.092308   \n",
       "1       Oracle  PostgreSQL            0.038462            7.576923   \n",
       "2       Oracle    HyperSQL            0.038462            7.576923   \n",
       "3     HyperSQL      Oracle            0.069231           13.638462   \n",
       "4        MySQL  PostgreSQL            0.120513           23.741026   \n",
       "5   PostgreSQL       MySQL            0.046154            9.092308   \n",
       "6   PostgreSQL    HyperSQL            0.046154            9.092308   \n",
       "7     HyperSQL  PostgreSQL            0.069231           13.638462   \n",
       "8        MySQL      Oracle            0.120513           23.741026   \n",
       "9       Oracle       MySQL            0.038462            7.576923   \n",
       "10    HyperSQL          H2            0.069231           13.638462   \n",
       "11          H2    HyperSQL            0.066667           13.133333   \n",
       "12       MySQL    HyperSQL            0.120513           23.741026   \n",
       "13    HyperSQL       MySQL            0.069231           13.638462   \n",
       "14       MySQL          H2            0.120513           23.741026   \n",
       "15          H2       MySQL            0.066667           13.133333   \n",
       "\n",
       "    consequent support  consequent_sup_abs   support  support_abs  confidence  \\\n",
       "0             0.038462            7.576923  0.023077     4.546154    0.500000   \n",
       "1             0.046154            9.092308  0.023077     4.546154    0.600000   \n",
       "2             0.069231           13.638462  0.023077     4.546154    0.600000   \n",
       "3             0.038462            7.576923  0.023077     4.546154    0.333333   \n",
       "4             0.046154            9.092308  0.041026     8.082051    0.340426   \n",
       "5             0.120513           23.741026  0.041026     8.082051    0.888889   \n",
       "6             0.069231           13.638462  0.023077     4.546154    0.500000   \n",
       "7             0.046154            9.092308  0.023077     4.546154    0.333333   \n",
       "8             0.038462            7.576923  0.030769     6.061538    0.255319   \n",
       "9             0.120513           23.741026  0.030769     6.061538    0.800000   \n",
       "10            0.066667           13.133333  0.028205     5.556410    0.407407   \n",
       "11            0.069231           13.638462  0.028205     5.556410    0.423077   \n",
       "12            0.069231           13.638462  0.046154     9.092308    0.382979   \n",
       "13            0.120513           23.741026  0.046154     9.092308    0.666667   \n",
       "14            0.066667           13.133333  0.035897     7.071795    0.297872   \n",
       "15            0.120513           23.741026  0.035897     7.071795    0.538462   \n",
       "\n",
       "         lift  leverage  conviction  antecedent_len  consequente_len  \n",
       "0   13.000000  0.021302    1.923077               1                1  \n",
       "1   13.000000  0.021302    2.384615               1                1  \n",
       "2    8.666667  0.020414    2.326923               1                1  \n",
       "3    8.666667  0.020414    1.442308               1                1  \n",
       "4    7.375887  0.035464    1.446154               1                1  \n",
       "5    7.375887  0.035464    7.915385               1                1  \n",
       "6    7.222222  0.019882    1.861538               1                1  \n",
       "7    7.222222  0.019882    1.430769               1                1  \n",
       "8    6.638298  0.026134    1.291209               1                1  \n",
       "9    6.638298  0.026134    4.397436               1                1  \n",
       "10   6.111111  0.023590    1.575000               1                1  \n",
       "11   6.111111  0.023590    1.613333               1                1  \n",
       "12   5.531915  0.037811    1.508488               1                1  \n",
       "13   5.531915  0.037811    2.638462               1                1  \n",
       "14   4.468085  0.027863    1.329293               1                1  \n",
       "15   4.468085  0.027863    1.905556               1                1  "
      ]
     },
     "execution_count": 42,
     "metadata": {},
     "output_type": "execute_result"
    }
   ],
   "source": [
    "rules14 = df2[(df2['confidence'] > 0.1)] #>20(['support_abs'], ascending=[False])\n",
    "rules14 = rules14.sort_values(['lift'], ascending=False)\n",
    "rules14"
   ]
  },
  {
   "cell_type": "code",
   "execution_count": 43,
   "metadata": {},
   "outputs": [],
   "source": [
    "#if you need to generate the rules in excel\n",
    "rules_filter = df2.to_excel('historical_filters.xlsx', index=False)"
   ]
  },
  {
   "cell_type": "code",
   "execution_count": null,
   "metadata": {},
   "outputs": [],
   "source": []
  }
 ],
 "metadata": {
  "kernelspec": {
   "display_name": "Python 3",
   "language": "python",
   "name": "python3"
  },
  "language_info": {
   "codemirror_mode": {
    "name": "ipython",
    "version": 3
   },
   "file_extension": ".py",
   "mimetype": "text/x-python",
   "name": "python",
   "nbconvert_exporter": "python",
   "pygments_lexer": "ipython3",
   "version": "3.9.2"
  },
  "orig_nbformat": 4
 },
 "nbformat": 4,
 "nbformat_minor": 2
}
