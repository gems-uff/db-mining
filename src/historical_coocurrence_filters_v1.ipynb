{
 "cells": [
  {
   "cell_type": "code",
   "execution_count": 1,
   "metadata": {},
   "outputs": [],
   "source": [
    "import pandas as pd\n",
    "import numpy as np\n",
    "import matplotlib.pyplot as plt \n",
    "import os\n",
    "from util import HISTORICAL_RULES_FILE , RESOURCE_DIR \n",
    "#pip install mlxtend\n",
    "from mlxtend.frequent_patterns import apriori, association_rules"
   ]
  },
  {
   "cell_type": "code",
   "execution_count": 85,
   "metadata": {},
   "outputs": [
    {
     "data": {
      "text/plain": [
       "'1.0.3'"
      ]
     },
     "execution_count": 85,
     "metadata": {},
     "output_type": "execute_result"
    }
   ],
   "source": [
    "#pd.__version__\n",
    "#pip uninstall pandas"
   ]
  },
  {
   "attachments": {},
   "cell_type": "markdown",
   "metadata": {},
   "source": [
    "This script analyse this association rules find in the first version"
   ]
  },
  {
   "cell_type": "code",
   "execution_count": 2,
   "metadata": {},
   "outputs": [
    {
     "data": {
      "text/html": [
       "<div>\n",
       "<style scoped>\n",
       "    .dataframe tbody tr th:only-of-type {\n",
       "        vertical-align: middle;\n",
       "    }\n",
       "\n",
       "    .dataframe tbody tr th {\n",
       "        vertical-align: top;\n",
       "    }\n",
       "\n",
       "    .dataframe thead th {\n",
       "        text-align: right;\n",
       "    }\n",
       "</style>\n",
       "<table border=\"1\" class=\"dataframe\">\n",
       "  <thead>\n",
       "    <tr style=\"text-align: right;\">\n",
       "      <th></th>\n",
       "      <th>antecedents</th>\n",
       "      <th>consequents</th>\n",
       "      <th>antecedent support</th>\n",
       "      <th>consequent support</th>\n",
       "      <th>support</th>\n",
       "      <th>confidence</th>\n",
       "      <th>lift</th>\n",
       "      <th>leverage</th>\n",
       "      <th>conviction</th>\n",
       "      <th>antecedent_len</th>\n",
       "      <th>consequente_len</th>\n",
       "    </tr>\n",
       "  </thead>\n",
       "  <tbody>\n",
       "    <tr>\n",
       "      <th>0</th>\n",
       "      <td>frozenset({'IBM DB2'})</td>\n",
       "      <td>frozenset({'SAP Adaptive Server'})</td>\n",
       "      <td>0.045685</td>\n",
       "      <td>0.035533</td>\n",
       "      <td>0.025381</td>\n",
       "      <td>0.555556</td>\n",
       "      <td>15.634921</td>\n",
       "      <td>0.023757</td>\n",
       "      <td>2.170051</td>\n",
       "      <td>1</td>\n",
       "      <td>1</td>\n",
       "    </tr>\n",
       "    <tr>\n",
       "      <th>1</th>\n",
       "      <td>frozenset({'SAP Adaptive Server'})</td>\n",
       "      <td>frozenset({'IBM DB2'})</td>\n",
       "      <td>0.035533</td>\n",
       "      <td>0.045685</td>\n",
       "      <td>0.025381</td>\n",
       "      <td>0.714286</td>\n",
       "      <td>15.634921</td>\n",
       "      <td>0.023757</td>\n",
       "      <td>3.340102</td>\n",
       "      <td>1</td>\n",
       "      <td>1</td>\n",
       "    </tr>\n",
       "    <tr>\n",
       "      <th>2</th>\n",
       "      <td>frozenset({'IBM DB2'})</td>\n",
       "      <td>frozenset({'Oracle'})</td>\n",
       "      <td>0.045685</td>\n",
       "      <td>0.126904</td>\n",
       "      <td>0.045685</td>\n",
       "      <td>1.000000</td>\n",
       "      <td>7.880000</td>\n",
       "      <td>0.039888</td>\n",
       "      <td>inf</td>\n",
       "      <td>1</td>\n",
       "      <td>1</td>\n",
       "    </tr>\n",
       "    <tr>\n",
       "      <th>3</th>\n",
       "      <td>frozenset({'Oracle'})</td>\n",
       "      <td>frozenset({'IBM DB2'})</td>\n",
       "      <td>0.126904</td>\n",
       "      <td>0.045685</td>\n",
       "      <td>0.045685</td>\n",
       "      <td>0.360000</td>\n",
       "      <td>7.880000</td>\n",
       "      <td>0.039888</td>\n",
       "      <td>1.491117</td>\n",
       "      <td>1</td>\n",
       "      <td>1</td>\n",
       "    </tr>\n",
       "    <tr>\n",
       "      <th>4</th>\n",
       "      <td>frozenset({'MS SQL Server'})</td>\n",
       "      <td>frozenset({'SQLite'})</td>\n",
       "      <td>0.040609</td>\n",
       "      <td>0.081218</td>\n",
       "      <td>0.025381</td>\n",
       "      <td>0.625000</td>\n",
       "      <td>7.695313</td>\n",
       "      <td>0.022083</td>\n",
       "      <td>2.450085</td>\n",
       "      <td>1</td>\n",
       "      <td>1</td>\n",
       "    </tr>\n",
       "    <tr>\n",
       "      <th>...</th>\n",
       "      <td>...</td>\n",
       "      <td>...</td>\n",
       "      <td>...</td>\n",
       "      <td>...</td>\n",
       "      <td>...</td>\n",
       "      <td>...</td>\n",
       "      <td>...</td>\n",
       "      <td>...</td>\n",
       "      <td>...</td>\n",
       "      <td>...</td>\n",
       "      <td>...</td>\n",
       "    </tr>\n",
       "    <tr>\n",
       "      <th>61</th>\n",
       "      <td>frozenset({'Ehcache'})</td>\n",
       "      <td>frozenset({'PostgreSQL'})</td>\n",
       "      <td>0.126904</td>\n",
       "      <td>0.182741</td>\n",
       "      <td>0.035533</td>\n",
       "      <td>0.280000</td>\n",
       "      <td>1.532222</td>\n",
       "      <td>0.012342</td>\n",
       "      <td>1.135082</td>\n",
       "      <td>1</td>\n",
       "      <td>1</td>\n",
       "    </tr>\n",
       "    <tr>\n",
       "      <th>62</th>\n",
       "      <td>frozenset({'Ehcache'})</td>\n",
       "      <td>frozenset({'H2'})</td>\n",
       "      <td>0.126904</td>\n",
       "      <td>0.157360</td>\n",
       "      <td>0.030457</td>\n",
       "      <td>0.240000</td>\n",
       "      <td>1.525161</td>\n",
       "      <td>0.010487</td>\n",
       "      <td>1.108736</td>\n",
       "      <td>1</td>\n",
       "      <td>1</td>\n",
       "    </tr>\n",
       "    <tr>\n",
       "      <th>63</th>\n",
       "      <td>frozenset({'H2'})</td>\n",
       "      <td>frozenset({'Ehcache'})</td>\n",
       "      <td>0.157360</td>\n",
       "      <td>0.126904</td>\n",
       "      <td>0.030457</td>\n",
       "      <td>0.193548</td>\n",
       "      <td>1.525161</td>\n",
       "      <td>0.010487</td>\n",
       "      <td>1.082640</td>\n",
       "      <td>1</td>\n",
       "      <td>1</td>\n",
       "    </tr>\n",
       "    <tr>\n",
       "      <th>64</th>\n",
       "      <td>frozenset({'MySQL'})</td>\n",
       "      <td>frozenset({'Ehcache'})</td>\n",
       "      <td>0.299492</td>\n",
       "      <td>0.126904</td>\n",
       "      <td>0.050761</td>\n",
       "      <td>0.169492</td>\n",
       "      <td>1.335593</td>\n",
       "      <td>0.012755</td>\n",
       "      <td>1.051279</td>\n",
       "      <td>1</td>\n",
       "      <td>1</td>\n",
       "    </tr>\n",
       "    <tr>\n",
       "      <th>65</th>\n",
       "      <td>frozenset({'Ehcache'})</td>\n",
       "      <td>frozenset({'MySQL'})</td>\n",
       "      <td>0.126904</td>\n",
       "      <td>0.299492</td>\n",
       "      <td>0.050761</td>\n",
       "      <td>0.400000</td>\n",
       "      <td>1.335593</td>\n",
       "      <td>0.012755</td>\n",
       "      <td>1.167513</td>\n",
       "      <td>1</td>\n",
       "      <td>1</td>\n",
       "    </tr>\n",
       "  </tbody>\n",
       "</table>\n",
       "<p>66 rows × 11 columns</p>\n",
       "</div>"
      ],
      "text/plain": [
       "                           antecedents                         consequents  \\\n",
       "0               frozenset({'IBM DB2'})  frozenset({'SAP Adaptive Server'})   \n",
       "1   frozenset({'SAP Adaptive Server'})              frozenset({'IBM DB2'})   \n",
       "2               frozenset({'IBM DB2'})               frozenset({'Oracle'})   \n",
       "3                frozenset({'Oracle'})              frozenset({'IBM DB2'})   \n",
       "4         frozenset({'MS SQL Server'})               frozenset({'SQLite'})   \n",
       "..                                 ...                                 ...   \n",
       "61              frozenset({'Ehcache'})           frozenset({'PostgreSQL'})   \n",
       "62              frozenset({'Ehcache'})                   frozenset({'H2'})   \n",
       "63                   frozenset({'H2'})              frozenset({'Ehcache'})   \n",
       "64                frozenset({'MySQL'})              frozenset({'Ehcache'})   \n",
       "65              frozenset({'Ehcache'})                frozenset({'MySQL'})   \n",
       "\n",
       "    antecedent support  consequent support   support  confidence       lift  \\\n",
       "0             0.045685            0.035533  0.025381    0.555556  15.634921   \n",
       "1             0.035533            0.045685  0.025381    0.714286  15.634921   \n",
       "2             0.045685            0.126904  0.045685    1.000000   7.880000   \n",
       "3             0.126904            0.045685  0.045685    0.360000   7.880000   \n",
       "4             0.040609            0.081218  0.025381    0.625000   7.695313   \n",
       "..                 ...                 ...       ...         ...        ...   \n",
       "61            0.126904            0.182741  0.035533    0.280000   1.532222   \n",
       "62            0.126904            0.157360  0.030457    0.240000   1.525161   \n",
       "63            0.157360            0.126904  0.030457    0.193548   1.525161   \n",
       "64            0.299492            0.126904  0.050761    0.169492   1.335593   \n",
       "65            0.126904            0.299492  0.050761    0.400000   1.335593   \n",
       "\n",
       "    leverage  conviction  antecedent_len  consequente_len  \n",
       "0   0.023757    2.170051               1                1  \n",
       "1   0.023757    3.340102               1                1  \n",
       "2   0.039888         inf               1                1  \n",
       "3   0.039888    1.491117               1                1  \n",
       "4   0.022083    2.450085               1                1  \n",
       "..       ...         ...             ...              ...  \n",
       "61  0.012342    1.135082               1                1  \n",
       "62  0.010487    1.108736               1                1  \n",
       "63  0.010487    1.082640               1                1  \n",
       "64  0.012755    1.051279               1                1  \n",
       "65  0.012755    1.167513               1                1  \n",
       "\n",
       "[66 rows x 11 columns]"
      ]
     },
     "execution_count": 2,
     "metadata": {},
     "output_type": "execute_result"
    }
   ],
   "source": [
    "df = pd.read_excel(RESOURCE_DIR + os.sep + 'historical_rulesv1.xlsx', keep_default_na=False) #'seq_patterns/testes/historical_rules_commit1_197reg_021.xlsx'\n",
    "#df = pd.read_excel(HISTORICAL_RULES_FILE , keep_default_na=False)\n",
    "#df2 = df.copy()\n",
    "len(df)\n",
    "#df.head()\n",
    "df"
   ]
  },
  {
   "cell_type": "code",
   "execution_count": null,
   "metadata": {},
   "outputs": [],
   "source": [
    "df['antecedents'] = df['antecedents'].astype(str)\n",
    "df['consequents'] = df['consequents'].astype(str)"
   ]
  },
  {
   "cell_type": "code",
   "execution_count": 3,
   "metadata": {},
   "outputs": [
    {
     "data": {
      "text/html": [
       "<div>\n",
       "<style scoped>\n",
       "    .dataframe tbody tr th:only-of-type {\n",
       "        vertical-align: middle;\n",
       "    }\n",
       "\n",
       "    .dataframe tbody tr th {\n",
       "        vertical-align: top;\n",
       "    }\n",
       "\n",
       "    .dataframe thead th {\n",
       "        text-align: right;\n",
       "    }\n",
       "</style>\n",
       "<table border=\"1\" class=\"dataframe\">\n",
       "  <thead>\n",
       "    <tr style=\"text-align: right;\">\n",
       "      <th></th>\n",
       "      <th>antecedents</th>\n",
       "      <th>consequents</th>\n",
       "      <th>antecedent support</th>\n",
       "      <th>consequent support</th>\n",
       "      <th>support</th>\n",
       "      <th>confidence</th>\n",
       "      <th>lift</th>\n",
       "      <th>leverage</th>\n",
       "      <th>conviction</th>\n",
       "      <th>antecedent_len</th>\n",
       "      <th>consequente_len</th>\n",
       "    </tr>\n",
       "  </thead>\n",
       "  <tbody>\n",
       "    <tr>\n",
       "      <th>0</th>\n",
       "      <td>IBM DB2</td>\n",
       "      <td>SAP Adaptive Server</td>\n",
       "      <td>0.045685</td>\n",
       "      <td>0.035533</td>\n",
       "      <td>0.025381</td>\n",
       "      <td>0.555556</td>\n",
       "      <td>15.634921</td>\n",
       "      <td>0.023757</td>\n",
       "      <td>2.170051</td>\n",
       "      <td>1</td>\n",
       "      <td>1</td>\n",
       "    </tr>\n",
       "    <tr>\n",
       "      <th>1</th>\n",
       "      <td>SAP Adaptive Server</td>\n",
       "      <td>IBM DB2</td>\n",
       "      <td>0.035533</td>\n",
       "      <td>0.045685</td>\n",
       "      <td>0.025381</td>\n",
       "      <td>0.714286</td>\n",
       "      <td>15.634921</td>\n",
       "      <td>0.023757</td>\n",
       "      <td>3.340102</td>\n",
       "      <td>1</td>\n",
       "      <td>1</td>\n",
       "    </tr>\n",
       "    <tr>\n",
       "      <th>2</th>\n",
       "      <td>IBM DB2</td>\n",
       "      <td>Oracle</td>\n",
       "      <td>0.045685</td>\n",
       "      <td>0.126904</td>\n",
       "      <td>0.045685</td>\n",
       "      <td>1.000000</td>\n",
       "      <td>7.880000</td>\n",
       "      <td>0.039888</td>\n",
       "      <td>inf</td>\n",
       "      <td>1</td>\n",
       "      <td>1</td>\n",
       "    </tr>\n",
       "    <tr>\n",
       "      <th>3</th>\n",
       "      <td>Oracle</td>\n",
       "      <td>IBM DB2</td>\n",
       "      <td>0.126904</td>\n",
       "      <td>0.045685</td>\n",
       "      <td>0.045685</td>\n",
       "      <td>0.360000</td>\n",
       "      <td>7.880000</td>\n",
       "      <td>0.039888</td>\n",
       "      <td>1.491117</td>\n",
       "      <td>1</td>\n",
       "      <td>1</td>\n",
       "    </tr>\n",
       "    <tr>\n",
       "      <th>4</th>\n",
       "      <td>MS SQL Server</td>\n",
       "      <td>SQLite</td>\n",
       "      <td>0.040609</td>\n",
       "      <td>0.081218</td>\n",
       "      <td>0.025381</td>\n",
       "      <td>0.625000</td>\n",
       "      <td>7.695313</td>\n",
       "      <td>0.022083</td>\n",
       "      <td>2.450085</td>\n",
       "      <td>1</td>\n",
       "      <td>1</td>\n",
       "    </tr>\n",
       "    <tr>\n",
       "      <th>...</th>\n",
       "      <td>...</td>\n",
       "      <td>...</td>\n",
       "      <td>...</td>\n",
       "      <td>...</td>\n",
       "      <td>...</td>\n",
       "      <td>...</td>\n",
       "      <td>...</td>\n",
       "      <td>...</td>\n",
       "      <td>...</td>\n",
       "      <td>...</td>\n",
       "      <td>...</td>\n",
       "    </tr>\n",
       "    <tr>\n",
       "      <th>61</th>\n",
       "      <td>Ehcache</td>\n",
       "      <td>PostgreSQL</td>\n",
       "      <td>0.126904</td>\n",
       "      <td>0.182741</td>\n",
       "      <td>0.035533</td>\n",
       "      <td>0.280000</td>\n",
       "      <td>1.532222</td>\n",
       "      <td>0.012342</td>\n",
       "      <td>1.135082</td>\n",
       "      <td>1</td>\n",
       "      <td>1</td>\n",
       "    </tr>\n",
       "    <tr>\n",
       "      <th>62</th>\n",
       "      <td>Ehcache</td>\n",
       "      <td>H2</td>\n",
       "      <td>0.126904</td>\n",
       "      <td>0.157360</td>\n",
       "      <td>0.030457</td>\n",
       "      <td>0.240000</td>\n",
       "      <td>1.525161</td>\n",
       "      <td>0.010487</td>\n",
       "      <td>1.108736</td>\n",
       "      <td>1</td>\n",
       "      <td>1</td>\n",
       "    </tr>\n",
       "    <tr>\n",
       "      <th>63</th>\n",
       "      <td>H2</td>\n",
       "      <td>Ehcache</td>\n",
       "      <td>0.157360</td>\n",
       "      <td>0.126904</td>\n",
       "      <td>0.030457</td>\n",
       "      <td>0.193548</td>\n",
       "      <td>1.525161</td>\n",
       "      <td>0.010487</td>\n",
       "      <td>1.082640</td>\n",
       "      <td>1</td>\n",
       "      <td>1</td>\n",
       "    </tr>\n",
       "    <tr>\n",
       "      <th>64</th>\n",
       "      <td>MySQL</td>\n",
       "      <td>Ehcache</td>\n",
       "      <td>0.299492</td>\n",
       "      <td>0.126904</td>\n",
       "      <td>0.050761</td>\n",
       "      <td>0.169492</td>\n",
       "      <td>1.335593</td>\n",
       "      <td>0.012755</td>\n",
       "      <td>1.051279</td>\n",
       "      <td>1</td>\n",
       "      <td>1</td>\n",
       "    </tr>\n",
       "    <tr>\n",
       "      <th>65</th>\n",
       "      <td>Ehcache</td>\n",
       "      <td>MySQL</td>\n",
       "      <td>0.126904</td>\n",
       "      <td>0.299492</td>\n",
       "      <td>0.050761</td>\n",
       "      <td>0.400000</td>\n",
       "      <td>1.335593</td>\n",
       "      <td>0.012755</td>\n",
       "      <td>1.167513</td>\n",
       "      <td>1</td>\n",
       "      <td>1</td>\n",
       "    </tr>\n",
       "  </tbody>\n",
       "</table>\n",
       "<p>66 rows × 11 columns</p>\n",
       "</div>"
      ],
      "text/plain": [
       "            antecedents          consequents  antecedent support  \\\n",
       "0               IBM DB2  SAP Adaptive Server            0.045685   \n",
       "1   SAP Adaptive Server              IBM DB2            0.035533   \n",
       "2               IBM DB2               Oracle            0.045685   \n",
       "3                Oracle              IBM DB2            0.126904   \n",
       "4         MS SQL Server               SQLite            0.040609   \n",
       "..                  ...                  ...                 ...   \n",
       "61              Ehcache           PostgreSQL            0.126904   \n",
       "62              Ehcache                   H2            0.126904   \n",
       "63                   H2              Ehcache            0.157360   \n",
       "64                MySQL              Ehcache            0.299492   \n",
       "65              Ehcache                MySQL            0.126904   \n",
       "\n",
       "    consequent support   support  confidence       lift  leverage  conviction  \\\n",
       "0             0.035533  0.025381    0.555556  15.634921  0.023757    2.170051   \n",
       "1             0.045685  0.025381    0.714286  15.634921  0.023757    3.340102   \n",
       "2             0.126904  0.045685    1.000000   7.880000  0.039888         inf   \n",
       "3             0.045685  0.045685    0.360000   7.880000  0.039888    1.491117   \n",
       "4             0.081218  0.025381    0.625000   7.695313  0.022083    2.450085   \n",
       "..                 ...       ...         ...        ...       ...         ...   \n",
       "61            0.182741  0.035533    0.280000   1.532222  0.012342    1.135082   \n",
       "62            0.157360  0.030457    0.240000   1.525161  0.010487    1.108736   \n",
       "63            0.126904  0.030457    0.193548   1.525161  0.010487    1.082640   \n",
       "64            0.126904  0.050761    0.169492   1.335593  0.012755    1.051279   \n",
       "65            0.299492  0.050761    0.400000   1.335593  0.012755    1.167513   \n",
       "\n",
       "    antecedent_len  consequente_len  \n",
       "0                1                1  \n",
       "1                1                1  \n",
       "2                1                1  \n",
       "3                1                1  \n",
       "4                1                1  \n",
       "..             ...              ...  \n",
       "61               1                1  \n",
       "62               1                1  \n",
       "63               1                1  \n",
       "64               1                1  \n",
       "65               1                1  \n",
       "\n",
       "[66 rows x 11 columns]"
      ]
     },
     "execution_count": 3,
     "metadata": {},
     "output_type": "execute_result"
    }
   ],
   "source": [
    "#Extract the word \"frozenset\" of the dataframe\n",
    "df['antecedents'] = df['antecedents'].apply(lambda x: x[len('frozenset({\"'):-3])\n",
    "df['consequents'] = df['consequents'].apply(lambda x: x[len('frozenset({\"'):-3])\n",
    "df"
   ]
  },
  {
   "cell_type": "code",
   "execution_count": 4,
   "metadata": {},
   "outputs": [
    {
     "data": {
      "text/html": [
       "<div>\n",
       "<style scoped>\n",
       "    .dataframe tbody tr th:only-of-type {\n",
       "        vertical-align: middle;\n",
       "    }\n",
       "\n",
       "    .dataframe tbody tr th {\n",
       "        vertical-align: top;\n",
       "    }\n",
       "\n",
       "    .dataframe thead th {\n",
       "        text-align: right;\n",
       "    }\n",
       "</style>\n",
       "<table border=\"1\" class=\"dataframe\">\n",
       "  <thead>\n",
       "    <tr style=\"text-align: right;\">\n",
       "      <th></th>\n",
       "      <th>antecedents</th>\n",
       "      <th>consequents</th>\n",
       "      <th>antecedent support</th>\n",
       "      <th>antecedent_sup_abs</th>\n",
       "      <th>consequent support</th>\n",
       "      <th>consequent_sup_abs</th>\n",
       "      <th>support</th>\n",
       "      <th>support_abs</th>\n",
       "      <th>confidence</th>\n",
       "      <th>lift</th>\n",
       "      <th>leverage</th>\n",
       "      <th>conviction</th>\n",
       "      <th>antecedent_len</th>\n",
       "      <th>consequente_len</th>\n",
       "    </tr>\n",
       "  </thead>\n",
       "  <tbody>\n",
       "    <tr>\n",
       "      <th>0</th>\n",
       "      <td>IBM DB2</td>\n",
       "      <td>SAP Adaptive Server</td>\n",
       "      <td>0.045685</td>\n",
       "      <td>9.0</td>\n",
       "      <td>0.035533</td>\n",
       "      <td>7.0</td>\n",
       "      <td>0.025381</td>\n",
       "      <td>5.0</td>\n",
       "      <td>0.555556</td>\n",
       "      <td>15.634921</td>\n",
       "      <td>0.023757</td>\n",
       "      <td>2.170051</td>\n",
       "      <td>1</td>\n",
       "      <td>1</td>\n",
       "    </tr>\n",
       "    <tr>\n",
       "      <th>1</th>\n",
       "      <td>SAP Adaptive Server</td>\n",
       "      <td>IBM DB2</td>\n",
       "      <td>0.035533</td>\n",
       "      <td>7.0</td>\n",
       "      <td>0.045685</td>\n",
       "      <td>9.0</td>\n",
       "      <td>0.025381</td>\n",
       "      <td>5.0</td>\n",
       "      <td>0.714286</td>\n",
       "      <td>15.634921</td>\n",
       "      <td>0.023757</td>\n",
       "      <td>3.340102</td>\n",
       "      <td>1</td>\n",
       "      <td>1</td>\n",
       "    </tr>\n",
       "    <tr>\n",
       "      <th>2</th>\n",
       "      <td>IBM DB2</td>\n",
       "      <td>Oracle</td>\n",
       "      <td>0.045685</td>\n",
       "      <td>9.0</td>\n",
       "      <td>0.126904</td>\n",
       "      <td>25.0</td>\n",
       "      <td>0.045685</td>\n",
       "      <td>9.0</td>\n",
       "      <td>1.000000</td>\n",
       "      <td>7.880000</td>\n",
       "      <td>0.039888</td>\n",
       "      <td>inf</td>\n",
       "      <td>1</td>\n",
       "      <td>1</td>\n",
       "    </tr>\n",
       "    <tr>\n",
       "      <th>3</th>\n",
       "      <td>Oracle</td>\n",
       "      <td>IBM DB2</td>\n",
       "      <td>0.126904</td>\n",
       "      <td>25.0</td>\n",
       "      <td>0.045685</td>\n",
       "      <td>9.0</td>\n",
       "      <td>0.045685</td>\n",
       "      <td>9.0</td>\n",
       "      <td>0.360000</td>\n",
       "      <td>7.880000</td>\n",
       "      <td>0.039888</td>\n",
       "      <td>1.491117</td>\n",
       "      <td>1</td>\n",
       "      <td>1</td>\n",
       "    </tr>\n",
       "    <tr>\n",
       "      <th>4</th>\n",
       "      <td>MS SQL Server</td>\n",
       "      <td>SQLite</td>\n",
       "      <td>0.040609</td>\n",
       "      <td>8.0</td>\n",
       "      <td>0.081218</td>\n",
       "      <td>16.0</td>\n",
       "      <td>0.025381</td>\n",
       "      <td>5.0</td>\n",
       "      <td>0.625000</td>\n",
       "      <td>7.695313</td>\n",
       "      <td>0.022083</td>\n",
       "      <td>2.450085</td>\n",
       "      <td>1</td>\n",
       "      <td>1</td>\n",
       "    </tr>\n",
       "    <tr>\n",
       "      <th>...</th>\n",
       "      <td>...</td>\n",
       "      <td>...</td>\n",
       "      <td>...</td>\n",
       "      <td>...</td>\n",
       "      <td>...</td>\n",
       "      <td>...</td>\n",
       "      <td>...</td>\n",
       "      <td>...</td>\n",
       "      <td>...</td>\n",
       "      <td>...</td>\n",
       "      <td>...</td>\n",
       "      <td>...</td>\n",
       "      <td>...</td>\n",
       "      <td>...</td>\n",
       "    </tr>\n",
       "    <tr>\n",
       "      <th>61</th>\n",
       "      <td>Ehcache</td>\n",
       "      <td>PostgreSQL</td>\n",
       "      <td>0.126904</td>\n",
       "      <td>25.0</td>\n",
       "      <td>0.182741</td>\n",
       "      <td>36.0</td>\n",
       "      <td>0.035533</td>\n",
       "      <td>7.0</td>\n",
       "      <td>0.280000</td>\n",
       "      <td>1.532222</td>\n",
       "      <td>0.012342</td>\n",
       "      <td>1.135082</td>\n",
       "      <td>1</td>\n",
       "      <td>1</td>\n",
       "    </tr>\n",
       "    <tr>\n",
       "      <th>62</th>\n",
       "      <td>Ehcache</td>\n",
       "      <td>H2</td>\n",
       "      <td>0.126904</td>\n",
       "      <td>25.0</td>\n",
       "      <td>0.157360</td>\n",
       "      <td>31.0</td>\n",
       "      <td>0.030457</td>\n",
       "      <td>6.0</td>\n",
       "      <td>0.240000</td>\n",
       "      <td>1.525161</td>\n",
       "      <td>0.010487</td>\n",
       "      <td>1.108736</td>\n",
       "      <td>1</td>\n",
       "      <td>1</td>\n",
       "    </tr>\n",
       "    <tr>\n",
       "      <th>63</th>\n",
       "      <td>H2</td>\n",
       "      <td>Ehcache</td>\n",
       "      <td>0.157360</td>\n",
       "      <td>31.0</td>\n",
       "      <td>0.126904</td>\n",
       "      <td>25.0</td>\n",
       "      <td>0.030457</td>\n",
       "      <td>6.0</td>\n",
       "      <td>0.193548</td>\n",
       "      <td>1.525161</td>\n",
       "      <td>0.010487</td>\n",
       "      <td>1.082640</td>\n",
       "      <td>1</td>\n",
       "      <td>1</td>\n",
       "    </tr>\n",
       "    <tr>\n",
       "      <th>64</th>\n",
       "      <td>MySQL</td>\n",
       "      <td>Ehcache</td>\n",
       "      <td>0.299492</td>\n",
       "      <td>59.0</td>\n",
       "      <td>0.126904</td>\n",
       "      <td>25.0</td>\n",
       "      <td>0.050761</td>\n",
       "      <td>10.0</td>\n",
       "      <td>0.169492</td>\n",
       "      <td>1.335593</td>\n",
       "      <td>0.012755</td>\n",
       "      <td>1.051279</td>\n",
       "      <td>1</td>\n",
       "      <td>1</td>\n",
       "    </tr>\n",
       "    <tr>\n",
       "      <th>65</th>\n",
       "      <td>Ehcache</td>\n",
       "      <td>MySQL</td>\n",
       "      <td>0.126904</td>\n",
       "      <td>25.0</td>\n",
       "      <td>0.299492</td>\n",
       "      <td>59.0</td>\n",
       "      <td>0.050761</td>\n",
       "      <td>10.0</td>\n",
       "      <td>0.400000</td>\n",
       "      <td>1.335593</td>\n",
       "      <td>0.012755</td>\n",
       "      <td>1.167513</td>\n",
       "      <td>1</td>\n",
       "      <td>1</td>\n",
       "    </tr>\n",
       "  </tbody>\n",
       "</table>\n",
       "<p>66 rows × 14 columns</p>\n",
       "</div>"
      ],
      "text/plain": [
       "            antecedents          consequents  antecedent support  \\\n",
       "0               IBM DB2  SAP Adaptive Server            0.045685   \n",
       "1   SAP Adaptive Server              IBM DB2            0.035533   \n",
       "2               IBM DB2               Oracle            0.045685   \n",
       "3                Oracle              IBM DB2            0.126904   \n",
       "4         MS SQL Server               SQLite            0.040609   \n",
       "..                  ...                  ...                 ...   \n",
       "61              Ehcache           PostgreSQL            0.126904   \n",
       "62              Ehcache                   H2            0.126904   \n",
       "63                   H2              Ehcache            0.157360   \n",
       "64                MySQL              Ehcache            0.299492   \n",
       "65              Ehcache                MySQL            0.126904   \n",
       "\n",
       "    antecedent_sup_abs  consequent support  consequent_sup_abs   support  \\\n",
       "0                  9.0            0.035533                 7.0  0.025381   \n",
       "1                  7.0            0.045685                 9.0  0.025381   \n",
       "2                  9.0            0.126904                25.0  0.045685   \n",
       "3                 25.0            0.045685                 9.0  0.045685   \n",
       "4                  8.0            0.081218                16.0  0.025381   \n",
       "..                 ...                 ...                 ...       ...   \n",
       "61                25.0            0.182741                36.0  0.035533   \n",
       "62                25.0            0.157360                31.0  0.030457   \n",
       "63                31.0            0.126904                25.0  0.030457   \n",
       "64                59.0            0.126904                25.0  0.050761   \n",
       "65                25.0            0.299492                59.0  0.050761   \n",
       "\n",
       "    support_abs  confidence       lift  leverage  conviction  antecedent_len  \\\n",
       "0           5.0    0.555556  15.634921  0.023757    2.170051               1   \n",
       "1           5.0    0.714286  15.634921  0.023757    3.340102               1   \n",
       "2           9.0    1.000000   7.880000  0.039888         inf               1   \n",
       "3           9.0    0.360000   7.880000  0.039888    1.491117               1   \n",
       "4           5.0    0.625000   7.695313  0.022083    2.450085               1   \n",
       "..          ...         ...        ...       ...         ...             ...   \n",
       "61          7.0    0.280000   1.532222  0.012342    1.135082               1   \n",
       "62          6.0    0.240000   1.525161  0.010487    1.108736               1   \n",
       "63          6.0    0.193548   1.525161  0.010487    1.082640               1   \n",
       "64         10.0    0.169492   1.335593  0.012755    1.051279               1   \n",
       "65         10.0    0.400000   1.335593  0.012755    1.167513               1   \n",
       "\n",
       "    consequente_len  \n",
       "0                 1  \n",
       "1                 1  \n",
       "2                 1  \n",
       "3                 1  \n",
       "4                 1  \n",
       "..              ...  \n",
       "61                1  \n",
       "62                1  \n",
       "63                1  \n",
       "64                1  \n",
       "65                1  \n",
       "\n",
       "[66 rows x 14 columns]"
      ]
     },
     "execution_count": 4,
     "metadata": {},
     "output_type": "execute_result"
    }
   ],
   "source": [
    "#Create a new columns\n",
    "df.insert(3,'antecedent_sup_abs', 0, True)\n",
    "df.insert(5,'consequent_sup_abs', 0, True)\n",
    "df.insert(7,'support_abs', 0, True)\n",
    "\n",
    "#Converting the support relative values in absolut values\n",
    "df['antecedent_sup_abs'] = (df['antecedent support']*197)\n",
    "df['consequent_sup_abs'] = (df['consequent support']*197)\n",
    "df['support_abs'] = (df['support']*197)\n",
    "df"
   ]
  },
  {
   "cell_type": "code",
   "execution_count": 5,
   "metadata": {},
   "outputs": [
    {
     "data": {
      "text/html": [
       "<div>\n",
       "<style scoped>\n",
       "    .dataframe tbody tr th:only-of-type {\n",
       "        vertical-align: middle;\n",
       "    }\n",
       "\n",
       "    .dataframe tbody tr th {\n",
       "        vertical-align: top;\n",
       "    }\n",
       "\n",
       "    .dataframe thead th {\n",
       "        text-align: right;\n",
       "    }\n",
       "</style>\n",
       "<table border=\"1\" class=\"dataframe\">\n",
       "  <thead>\n",
       "    <tr style=\"text-align: right;\">\n",
       "      <th></th>\n",
       "      <th>antecedents</th>\n",
       "      <th>consequents</th>\n",
       "      <th>antecedent support</th>\n",
       "      <th>antecedent_sup_abs</th>\n",
       "      <th>consequent support</th>\n",
       "      <th>consequent_sup_abs</th>\n",
       "      <th>support</th>\n",
       "      <th>support_abs</th>\n",
       "      <th>confidence</th>\n",
       "      <th>lift</th>\n",
       "      <th>leverage</th>\n",
       "      <th>conviction</th>\n",
       "      <th>antecedent_len</th>\n",
       "      <th>consequente_len</th>\n",
       "    </tr>\n",
       "  </thead>\n",
       "  <tbody>\n",
       "    <tr>\n",
       "      <th>0</th>\n",
       "      <td>IBM DB2</td>\n",
       "      <td>SAP Adaptive Server</td>\n",
       "      <td>0.045685</td>\n",
       "      <td>9.0</td>\n",
       "      <td>0.035533</td>\n",
       "      <td>7.0</td>\n",
       "      <td>0.025381</td>\n",
       "      <td>5.0</td>\n",
       "      <td>0.555556</td>\n",
       "      <td>15.634921</td>\n",
       "      <td>0.023757</td>\n",
       "      <td>2.170051</td>\n",
       "      <td>1</td>\n",
       "      <td>1</td>\n",
       "    </tr>\n",
       "    <tr>\n",
       "      <th>1</th>\n",
       "      <td>SAP Adaptive Server</td>\n",
       "      <td>IBM DB2</td>\n",
       "      <td>0.035533</td>\n",
       "      <td>7.0</td>\n",
       "      <td>0.045685</td>\n",
       "      <td>9.0</td>\n",
       "      <td>0.025381</td>\n",
       "      <td>5.0</td>\n",
       "      <td>0.714286</td>\n",
       "      <td>15.634921</td>\n",
       "      <td>0.023757</td>\n",
       "      <td>3.340102</td>\n",
       "      <td>1</td>\n",
       "      <td>1</td>\n",
       "    </tr>\n",
       "    <tr>\n",
       "      <th>2</th>\n",
       "      <td>IBM DB2</td>\n",
       "      <td>Oracle</td>\n",
       "      <td>0.045685</td>\n",
       "      <td>9.0</td>\n",
       "      <td>0.126904</td>\n",
       "      <td>25.0</td>\n",
       "      <td>0.045685</td>\n",
       "      <td>9.0</td>\n",
       "      <td>1.000000</td>\n",
       "      <td>7.880000</td>\n",
       "      <td>0.039888</td>\n",
       "      <td>inf</td>\n",
       "      <td>1</td>\n",
       "      <td>1</td>\n",
       "    </tr>\n",
       "    <tr>\n",
       "      <th>3</th>\n",
       "      <td>Oracle</td>\n",
       "      <td>IBM DB2</td>\n",
       "      <td>0.126904</td>\n",
       "      <td>25.0</td>\n",
       "      <td>0.045685</td>\n",
       "      <td>9.0</td>\n",
       "      <td>0.045685</td>\n",
       "      <td>9.0</td>\n",
       "      <td>0.360000</td>\n",
       "      <td>7.880000</td>\n",
       "      <td>0.039888</td>\n",
       "      <td>1.491117</td>\n",
       "      <td>1</td>\n",
       "      <td>1</td>\n",
       "    </tr>\n",
       "    <tr>\n",
       "      <th>4</th>\n",
       "      <td>MS SQL Server</td>\n",
       "      <td>SQLite</td>\n",
       "      <td>0.040609</td>\n",
       "      <td>8.0</td>\n",
       "      <td>0.081218</td>\n",
       "      <td>16.0</td>\n",
       "      <td>0.025381</td>\n",
       "      <td>5.0</td>\n",
       "      <td>0.625000</td>\n",
       "      <td>7.695313</td>\n",
       "      <td>0.022083</td>\n",
       "      <td>2.450085</td>\n",
       "      <td>1</td>\n",
       "      <td>1</td>\n",
       "    </tr>\n",
       "    <tr>\n",
       "      <th>...</th>\n",
       "      <td>...</td>\n",
       "      <td>...</td>\n",
       "      <td>...</td>\n",
       "      <td>...</td>\n",
       "      <td>...</td>\n",
       "      <td>...</td>\n",
       "      <td>...</td>\n",
       "      <td>...</td>\n",
       "      <td>...</td>\n",
       "      <td>...</td>\n",
       "      <td>...</td>\n",
       "      <td>...</td>\n",
       "      <td>...</td>\n",
       "      <td>...</td>\n",
       "    </tr>\n",
       "    <tr>\n",
       "      <th>61</th>\n",
       "      <td>Ehcache</td>\n",
       "      <td>PostgreSQL</td>\n",
       "      <td>0.126904</td>\n",
       "      <td>25.0</td>\n",
       "      <td>0.182741</td>\n",
       "      <td>36.0</td>\n",
       "      <td>0.035533</td>\n",
       "      <td>7.0</td>\n",
       "      <td>0.280000</td>\n",
       "      <td>1.532222</td>\n",
       "      <td>0.012342</td>\n",
       "      <td>1.135082</td>\n",
       "      <td>1</td>\n",
       "      <td>1</td>\n",
       "    </tr>\n",
       "    <tr>\n",
       "      <th>62</th>\n",
       "      <td>Ehcache</td>\n",
       "      <td>H2</td>\n",
       "      <td>0.126904</td>\n",
       "      <td>25.0</td>\n",
       "      <td>0.157360</td>\n",
       "      <td>31.0</td>\n",
       "      <td>0.030457</td>\n",
       "      <td>6.0</td>\n",
       "      <td>0.240000</td>\n",
       "      <td>1.525161</td>\n",
       "      <td>0.010487</td>\n",
       "      <td>1.108736</td>\n",
       "      <td>1</td>\n",
       "      <td>1</td>\n",
       "    </tr>\n",
       "    <tr>\n",
       "      <th>63</th>\n",
       "      <td>H2</td>\n",
       "      <td>Ehcache</td>\n",
       "      <td>0.157360</td>\n",
       "      <td>31.0</td>\n",
       "      <td>0.126904</td>\n",
       "      <td>25.0</td>\n",
       "      <td>0.030457</td>\n",
       "      <td>6.0</td>\n",
       "      <td>0.193548</td>\n",
       "      <td>1.525161</td>\n",
       "      <td>0.010487</td>\n",
       "      <td>1.082640</td>\n",
       "      <td>1</td>\n",
       "      <td>1</td>\n",
       "    </tr>\n",
       "    <tr>\n",
       "      <th>64</th>\n",
       "      <td>MySQL</td>\n",
       "      <td>Ehcache</td>\n",
       "      <td>0.299492</td>\n",
       "      <td>59.0</td>\n",
       "      <td>0.126904</td>\n",
       "      <td>25.0</td>\n",
       "      <td>0.050761</td>\n",
       "      <td>10.0</td>\n",
       "      <td>0.169492</td>\n",
       "      <td>1.335593</td>\n",
       "      <td>0.012755</td>\n",
       "      <td>1.051279</td>\n",
       "      <td>1</td>\n",
       "      <td>1</td>\n",
       "    </tr>\n",
       "    <tr>\n",
       "      <th>65</th>\n",
       "      <td>Ehcache</td>\n",
       "      <td>MySQL</td>\n",
       "      <td>0.126904</td>\n",
       "      <td>25.0</td>\n",
       "      <td>0.299492</td>\n",
       "      <td>59.0</td>\n",
       "      <td>0.050761</td>\n",
       "      <td>10.0</td>\n",
       "      <td>0.400000</td>\n",
       "      <td>1.335593</td>\n",
       "      <td>0.012755</td>\n",
       "      <td>1.167513</td>\n",
       "      <td>1</td>\n",
       "      <td>1</td>\n",
       "    </tr>\n",
       "  </tbody>\n",
       "</table>\n",
       "<p>66 rows × 14 columns</p>\n",
       "</div>"
      ],
      "text/plain": [
       "            antecedents          consequents  antecedent support  \\\n",
       "0               IBM DB2  SAP Adaptive Server            0.045685   \n",
       "1   SAP Adaptive Server              IBM DB2            0.035533   \n",
       "2               IBM DB2               Oracle            0.045685   \n",
       "3                Oracle              IBM DB2            0.126904   \n",
       "4         MS SQL Server               SQLite            0.040609   \n",
       "..                  ...                  ...                 ...   \n",
       "61              Ehcache           PostgreSQL            0.126904   \n",
       "62              Ehcache                   H2            0.126904   \n",
       "63                   H2              Ehcache            0.157360   \n",
       "64                MySQL              Ehcache            0.299492   \n",
       "65              Ehcache                MySQL            0.126904   \n",
       "\n",
       "    antecedent_sup_abs  consequent support  consequent_sup_abs   support  \\\n",
       "0                  9.0            0.035533                 7.0  0.025381   \n",
       "1                  7.0            0.045685                 9.0  0.025381   \n",
       "2                  9.0            0.126904                25.0  0.045685   \n",
       "3                 25.0            0.045685                 9.0  0.045685   \n",
       "4                  8.0            0.081218                16.0  0.025381   \n",
       "..                 ...                 ...                 ...       ...   \n",
       "61                25.0            0.182741                36.0  0.035533   \n",
       "62                25.0            0.157360                31.0  0.030457   \n",
       "63                31.0            0.126904                25.0  0.030457   \n",
       "64                59.0            0.126904                25.0  0.050761   \n",
       "65                25.0            0.299492                59.0  0.050761   \n",
       "\n",
       "    support_abs  confidence       lift  leverage  conviction  antecedent_len  \\\n",
       "0           5.0    0.555556  15.634921  0.023757    2.170051               1   \n",
       "1           5.0    0.714286  15.634921  0.023757    3.340102               1   \n",
       "2           9.0    1.000000   7.880000  0.039888         inf               1   \n",
       "3           9.0    0.360000   7.880000  0.039888    1.491117               1   \n",
       "4           5.0    0.625000   7.695313  0.022083    2.450085               1   \n",
       "..          ...         ...        ...       ...         ...             ...   \n",
       "61          7.0    0.280000   1.532222  0.012342    1.135082               1   \n",
       "62          6.0    0.240000   1.525161  0.010487    1.108736               1   \n",
       "63          6.0    0.193548   1.525161  0.010487    1.082640               1   \n",
       "64         10.0    0.169492   1.335593  0.012755    1.051279               1   \n",
       "65         10.0    0.400000   1.335593  0.012755    1.167513               1   \n",
       "\n",
       "    consequente_len  \n",
       "0                 1  \n",
       "1                 1  \n",
       "2                 1  \n",
       "3                 1  \n",
       "4                 1  \n",
       "..              ...  \n",
       "61                1  \n",
       "62                1  \n",
       "63                1  \n",
       "64                1  \n",
       "65                1  \n",
       "\n",
       "[66 rows x 14 columns]"
      ]
     },
     "execution_count": 5,
     "metadata": {},
     "output_type": "execute_result"
    }
   ],
   "source": [
    "df2 = df.copy()\n",
    "df2"
   ]
  },
  {
   "attachments": {},
   "cell_type": "markdown",
   "metadata": {},
   "source": [
    "Top 10 BDs Session\n",
    "Presentation of the 10 most frequent BDs (consequents=antecedents)."
   ]
  },
  {
   "cell_type": "code",
   "execution_count": 6,
   "metadata": {},
   "outputs": [
    {
     "data": {
      "text/html": [
       "<div>\n",
       "<style scoped>\n",
       "    .dataframe tbody tr th:only-of-type {\n",
       "        vertical-align: middle;\n",
       "    }\n",
       "\n",
       "    .dataframe tbody tr th {\n",
       "        vertical-align: top;\n",
       "    }\n",
       "\n",
       "    .dataframe thead th {\n",
       "        text-align: right;\n",
       "    }\n",
       "</style>\n",
       "<table border=\"1\" class=\"dataframe\">\n",
       "  <thead>\n",
       "    <tr style=\"text-align: right;\">\n",
       "      <th></th>\n",
       "      <th>antecedents</th>\n",
       "      <th>consequents</th>\n",
       "      <th>antecedent support</th>\n",
       "      <th>antecedent_sup_abs</th>\n",
       "      <th>consequent support</th>\n",
       "      <th>consequent_sup_abs</th>\n",
       "      <th>support</th>\n",
       "      <th>support_abs</th>\n",
       "      <th>confidence</th>\n",
       "      <th>lift</th>\n",
       "      <th>leverage</th>\n",
       "      <th>conviction</th>\n",
       "      <th>antecedent_len</th>\n",
       "      <th>consequente_len</th>\n",
       "    </tr>\n",
       "  </thead>\n",
       "  <tbody>\n",
       "    <tr>\n",
       "      <th>53</th>\n",
       "      <td>PostgreSQL</td>\n",
       "      <td>MySQL</td>\n",
       "      <td>0.182741</td>\n",
       "      <td>36.0</td>\n",
       "      <td>0.299492</td>\n",
       "      <td>59.0</td>\n",
       "      <td>0.137056</td>\n",
       "      <td>27.0</td>\n",
       "      <td>0.750000</td>\n",
       "      <td>2.504237</td>\n",
       "      <td>0.082326</td>\n",
       "      <td>2.802030</td>\n",
       "      <td>1</td>\n",
       "      <td>1</td>\n",
       "    </tr>\n",
       "    <tr>\n",
       "      <th>52</th>\n",
       "      <td>MySQL</td>\n",
       "      <td>PostgreSQL</td>\n",
       "      <td>0.299492</td>\n",
       "      <td>59.0</td>\n",
       "      <td>0.182741</td>\n",
       "      <td>36.0</td>\n",
       "      <td>0.137056</td>\n",
       "      <td>27.0</td>\n",
       "      <td>0.457627</td>\n",
       "      <td>2.504237</td>\n",
       "      <td>0.082326</td>\n",
       "      <td>1.506821</td>\n",
       "      <td>1</td>\n",
       "      <td>1</td>\n",
       "    </tr>\n",
       "    <tr>\n",
       "      <th>48</th>\n",
       "      <td>Oracle</td>\n",
       "      <td>MySQL</td>\n",
       "      <td>0.126904</td>\n",
       "      <td>25.0</td>\n",
       "      <td>0.299492</td>\n",
       "      <td>59.0</td>\n",
       "      <td>0.101523</td>\n",
       "      <td>20.0</td>\n",
       "      <td>0.800000</td>\n",
       "      <td>2.671186</td>\n",
       "      <td>0.063516</td>\n",
       "      <td>3.502538</td>\n",
       "      <td>1</td>\n",
       "      <td>1</td>\n",
       "    </tr>\n",
       "    <tr>\n",
       "      <th>49</th>\n",
       "      <td>MySQL</td>\n",
       "      <td>Oracle</td>\n",
       "      <td>0.299492</td>\n",
       "      <td>59.0</td>\n",
       "      <td>0.126904</td>\n",
       "      <td>25.0</td>\n",
       "      <td>0.101523</td>\n",
       "      <td>20.0</td>\n",
       "      <td>0.338983</td>\n",
       "      <td>2.671186</td>\n",
       "      <td>0.063516</td>\n",
       "      <td>1.320838</td>\n",
       "      <td>1</td>\n",
       "      <td>1</td>\n",
       "    </tr>\n",
       "    <tr>\n",
       "      <th>57</th>\n",
       "      <td>MySQL</td>\n",
       "      <td>H2</td>\n",
       "      <td>0.299492</td>\n",
       "      <td>59.0</td>\n",
       "      <td>0.157360</td>\n",
       "      <td>31.0</td>\n",
       "      <td>0.096447</td>\n",
       "      <td>19.0</td>\n",
       "      <td>0.322034</td>\n",
       "      <td>2.046473</td>\n",
       "      <td>0.049318</td>\n",
       "      <td>1.242893</td>\n",
       "      <td>1</td>\n",
       "      <td>1</td>\n",
       "    </tr>\n",
       "    <tr>\n",
       "      <th>...</th>\n",
       "      <td>...</td>\n",
       "      <td>...</td>\n",
       "      <td>...</td>\n",
       "      <td>...</td>\n",
       "      <td>...</td>\n",
       "      <td>...</td>\n",
       "      <td>...</td>\n",
       "      <td>...</td>\n",
       "      <td>...</td>\n",
       "      <td>...</td>\n",
       "      <td>...</td>\n",
       "      <td>...</td>\n",
       "      <td>...</td>\n",
       "      <td>...</td>\n",
       "    </tr>\n",
       "    <tr>\n",
       "      <th>24</th>\n",
       "      <td>H2</td>\n",
       "      <td>MS SQL Server</td>\n",
       "      <td>0.157360</td>\n",
       "      <td>31.0</td>\n",
       "      <td>0.040609</td>\n",
       "      <td>8.0</td>\n",
       "      <td>0.025381</td>\n",
       "      <td>5.0</td>\n",
       "      <td>0.161290</td>\n",
       "      <td>3.971774</td>\n",
       "      <td>0.018990</td>\n",
       "      <td>1.143889</td>\n",
       "      <td>1</td>\n",
       "      <td>1</td>\n",
       "    </tr>\n",
       "    <tr>\n",
       "      <th>25</th>\n",
       "      <td>MS SQL Server</td>\n",
       "      <td>H2</td>\n",
       "      <td>0.040609</td>\n",
       "      <td>8.0</td>\n",
       "      <td>0.157360</td>\n",
       "      <td>31.0</td>\n",
       "      <td>0.025381</td>\n",
       "      <td>5.0</td>\n",
       "      <td>0.625000</td>\n",
       "      <td>3.971774</td>\n",
       "      <td>0.018990</td>\n",
       "      <td>2.247039</td>\n",
       "      <td>1</td>\n",
       "      <td>1</td>\n",
       "    </tr>\n",
       "    <tr>\n",
       "      <th>26</th>\n",
       "      <td>PostgreSQL</td>\n",
       "      <td>SAP Adaptive Server</td>\n",
       "      <td>0.182741</td>\n",
       "      <td>36.0</td>\n",
       "      <td>0.035533</td>\n",
       "      <td>7.0</td>\n",
       "      <td>0.025381</td>\n",
       "      <td>5.0</td>\n",
       "      <td>0.138889</td>\n",
       "      <td>3.908730</td>\n",
       "      <td>0.018887</td>\n",
       "      <td>1.120026</td>\n",
       "      <td>1</td>\n",
       "      <td>1</td>\n",
       "    </tr>\n",
       "    <tr>\n",
       "      <th>27</th>\n",
       "      <td>SAP Adaptive Server</td>\n",
       "      <td>PostgreSQL</td>\n",
       "      <td>0.035533</td>\n",
       "      <td>7.0</td>\n",
       "      <td>0.182741</td>\n",
       "      <td>36.0</td>\n",
       "      <td>0.025381</td>\n",
       "      <td>5.0</td>\n",
       "      <td>0.714286</td>\n",
       "      <td>3.908730</td>\n",
       "      <td>0.018887</td>\n",
       "      <td>2.860406</td>\n",
       "      <td>1</td>\n",
       "      <td>1</td>\n",
       "    </tr>\n",
       "    <tr>\n",
       "      <th>0</th>\n",
       "      <td>IBM DB2</td>\n",
       "      <td>SAP Adaptive Server</td>\n",
       "      <td>0.045685</td>\n",
       "      <td>9.0</td>\n",
       "      <td>0.035533</td>\n",
       "      <td>7.0</td>\n",
       "      <td>0.025381</td>\n",
       "      <td>5.0</td>\n",
       "      <td>0.555556</td>\n",
       "      <td>15.634921</td>\n",
       "      <td>0.023757</td>\n",
       "      <td>2.170051</td>\n",
       "      <td>1</td>\n",
       "      <td>1</td>\n",
       "    </tr>\n",
       "  </tbody>\n",
       "</table>\n",
       "<p>66 rows × 14 columns</p>\n",
       "</div>"
      ],
      "text/plain": [
       "            antecedents          consequents  antecedent support  \\\n",
       "53           PostgreSQL                MySQL            0.182741   \n",
       "52                MySQL           PostgreSQL            0.299492   \n",
       "48               Oracle                MySQL            0.126904   \n",
       "49                MySQL               Oracle            0.299492   \n",
       "57                MySQL                   H2            0.299492   \n",
       "..                  ...                  ...                 ...   \n",
       "24                   H2        MS SQL Server            0.157360   \n",
       "25        MS SQL Server                   H2            0.040609   \n",
       "26           PostgreSQL  SAP Adaptive Server            0.182741   \n",
       "27  SAP Adaptive Server           PostgreSQL            0.035533   \n",
       "0               IBM DB2  SAP Adaptive Server            0.045685   \n",
       "\n",
       "    antecedent_sup_abs  consequent support  consequent_sup_abs   support  \\\n",
       "53                36.0            0.299492                59.0  0.137056   \n",
       "52                59.0            0.182741                36.0  0.137056   \n",
       "48                25.0            0.299492                59.0  0.101523   \n",
       "49                59.0            0.126904                25.0  0.101523   \n",
       "57                59.0            0.157360                31.0  0.096447   \n",
       "..                 ...                 ...                 ...       ...   \n",
       "24                31.0            0.040609                 8.0  0.025381   \n",
       "25                 8.0            0.157360                31.0  0.025381   \n",
       "26                36.0            0.035533                 7.0  0.025381   \n",
       "27                 7.0            0.182741                36.0  0.025381   \n",
       "0                  9.0            0.035533                 7.0  0.025381   \n",
       "\n",
       "    support_abs  confidence       lift  leverage  conviction  antecedent_len  \\\n",
       "53         27.0    0.750000   2.504237  0.082326    2.802030               1   \n",
       "52         27.0    0.457627   2.504237  0.082326    1.506821               1   \n",
       "48         20.0    0.800000   2.671186  0.063516    3.502538               1   \n",
       "49         20.0    0.338983   2.671186  0.063516    1.320838               1   \n",
       "57         19.0    0.322034   2.046473  0.049318    1.242893               1   \n",
       "..          ...         ...        ...       ...         ...             ...   \n",
       "24          5.0    0.161290   3.971774  0.018990    1.143889               1   \n",
       "25          5.0    0.625000   3.971774  0.018990    2.247039               1   \n",
       "26          5.0    0.138889   3.908730  0.018887    1.120026               1   \n",
       "27          5.0    0.714286   3.908730  0.018887    2.860406               1   \n",
       "0           5.0    0.555556  15.634921  0.023757    2.170051               1   \n",
       "\n",
       "    consequente_len  \n",
       "53                1  \n",
       "52                1  \n",
       "48                1  \n",
       "49                1  \n",
       "57                1  \n",
       "..              ...  \n",
       "24                1  \n",
       "25                1  \n",
       "26                1  \n",
       "27                1  \n",
       "0                 1  \n",
       "\n",
       "[66 rows x 14 columns]"
      ]
     },
     "execution_count": 6,
     "metadata": {},
     "output_type": "execute_result"
    }
   ],
   "source": [
    "rules1b = df2.sort_values(['support'], ascending=[False])\n",
    "rules1b"
   ]
  },
  {
   "cell_type": "code",
   "execution_count": 7,
   "metadata": {},
   "outputs": [
    {
     "data": {
      "text/html": [
       "<div>\n",
       "<style scoped>\n",
       "    .dataframe tbody tr th:only-of-type {\n",
       "        vertical-align: middle;\n",
       "    }\n",
       "\n",
       "    .dataframe tbody tr th {\n",
       "        vertical-align: top;\n",
       "    }\n",
       "\n",
       "    .dataframe thead th {\n",
       "        text-align: right;\n",
       "    }\n",
       "</style>\n",
       "<table border=\"1\" class=\"dataframe\">\n",
       "  <thead>\n",
       "    <tr style=\"text-align: right;\">\n",
       "      <th></th>\n",
       "      <th>antecedent support</th>\n",
       "      <th>antecedent_sup_abs</th>\n",
       "      <th>consequent support</th>\n",
       "      <th>consequent_sup_abs</th>\n",
       "      <th>support</th>\n",
       "      <th>support_abs</th>\n",
       "      <th>confidence</th>\n",
       "      <th>lift</th>\n",
       "      <th>leverage</th>\n",
       "      <th>conviction</th>\n",
       "      <th>antecedent_len</th>\n",
       "      <th>consequente_len</th>\n",
       "    </tr>\n",
       "    <tr>\n",
       "      <th>antecedents</th>\n",
       "      <th></th>\n",
       "      <th></th>\n",
       "      <th></th>\n",
       "      <th></th>\n",
       "      <th></th>\n",
       "      <th></th>\n",
       "      <th></th>\n",
       "      <th></th>\n",
       "      <th></th>\n",
       "      <th></th>\n",
       "      <th></th>\n",
       "      <th></th>\n",
       "    </tr>\n",
       "  </thead>\n",
       "  <tbody>\n",
       "    <tr>\n",
       "      <th>MySQL</th>\n",
       "      <td>0.299492</td>\n",
       "      <td>59.0</td>\n",
       "      <td>0.086802</td>\n",
       "      <td>17.100000</td>\n",
       "      <td>0.061929</td>\n",
       "      <td>12.200000</td>\n",
       "      <td>0.206780</td>\n",
       "      <td>2.629584</td>\n",
       "      <td>0.035932</td>\n",
       "      <td>1.170740</td>\n",
       "      <td>1.0</td>\n",
       "      <td>1.0</td>\n",
       "    </tr>\n",
       "    <tr>\n",
       "      <th>PostgreSQL</th>\n",
       "      <td>0.182741</td>\n",
       "      <td>36.0</td>\n",
       "      <td>0.104907</td>\n",
       "      <td>20.666667</td>\n",
       "      <td>0.058094</td>\n",
       "      <td>11.444444</td>\n",
       "      <td>0.317901</td>\n",
       "      <td>3.570491</td>\n",
       "      <td>0.038923</td>\n",
       "      <td>1.457153</td>\n",
       "      <td>1.0</td>\n",
       "      <td>1.0</td>\n",
       "    </tr>\n",
       "    <tr>\n",
       "      <th>H2</th>\n",
       "      <td>0.157360</td>\n",
       "      <td>31.0</td>\n",
       "      <td>0.107727</td>\n",
       "      <td>21.222222</td>\n",
       "      <td>0.047941</td>\n",
       "      <td>9.444444</td>\n",
       "      <td>0.304659</td>\n",
       "      <td>3.490797</td>\n",
       "      <td>0.030989</td>\n",
       "      <td>1.354831</td>\n",
       "      <td>1.0</td>\n",
       "      <td>1.0</td>\n",
       "    </tr>\n",
       "    <tr>\n",
       "      <th>Ehcache</th>\n",
       "      <td>0.126904</td>\n",
       "      <td>25.0</td>\n",
       "      <td>0.191624</td>\n",
       "      <td>37.750000</td>\n",
       "      <td>0.036802</td>\n",
       "      <td>7.250000</td>\n",
       "      <td>0.290000</td>\n",
       "      <td>1.571044</td>\n",
       "      <td>0.012484</td>\n",
       "      <td>1.140035</td>\n",
       "      <td>1.0</td>\n",
       "      <td>1.0</td>\n",
       "    </tr>\n",
       "    <tr>\n",
       "      <th>Oracle</th>\n",
       "      <td>0.126904</td>\n",
       "      <td>25.0</td>\n",
       "      <td>0.111111</td>\n",
       "      <td>21.888889</td>\n",
       "      <td>0.050197</td>\n",
       "      <td>9.888889</td>\n",
       "      <td>0.395556</td>\n",
       "      <td>4.764141</td>\n",
       "      <td>0.036097</td>\n",
       "      <td>1.711822</td>\n",
       "      <td>1.0</td>\n",
       "      <td>1.0</td>\n",
       "    </tr>\n",
       "    <tr>\n",
       "      <th>SQLite</th>\n",
       "      <td>0.081218</td>\n",
       "      <td>16.0</td>\n",
       "      <td>0.161421</td>\n",
       "      <td>31.800000</td>\n",
       "      <td>0.041624</td>\n",
       "      <td>8.200000</td>\n",
       "      <td>0.512500</td>\n",
       "      <td>4.018217</td>\n",
       "      <td>0.028514</td>\n",
       "      <td>1.796665</td>\n",
       "      <td>1.0</td>\n",
       "      <td>1.0</td>\n",
       "    </tr>\n",
       "  </tbody>\n",
       "</table>\n",
       "</div>"
      ],
      "text/plain": [
       "             antecedent support  antecedent_sup_abs  consequent support  \\\n",
       "antecedents                                                               \n",
       "MySQL                  0.299492                59.0            0.086802   \n",
       "PostgreSQL             0.182741                36.0            0.104907   \n",
       "H2                     0.157360                31.0            0.107727   \n",
       "Ehcache                0.126904                25.0            0.191624   \n",
       "Oracle                 0.126904                25.0            0.111111   \n",
       "SQLite                 0.081218                16.0            0.161421   \n",
       "\n",
       "             consequent_sup_abs   support  support_abs  confidence      lift  \\\n",
       "antecedents                                                                    \n",
       "MySQL                 17.100000  0.061929    12.200000    0.206780  2.629584   \n",
       "PostgreSQL            20.666667  0.058094    11.444444    0.317901  3.570491   \n",
       "H2                    21.222222  0.047941     9.444444    0.304659  3.490797   \n",
       "Ehcache               37.750000  0.036802     7.250000    0.290000  1.571044   \n",
       "Oracle                21.888889  0.050197     9.888889    0.395556  4.764141   \n",
       "SQLite                31.800000  0.041624     8.200000    0.512500  4.018217   \n",
       "\n",
       "             leverage  conviction  antecedent_len  consequente_len  \n",
       "antecedents                                                         \n",
       "MySQL        0.035932    1.170740             1.0              1.0  \n",
       "PostgreSQL   0.038923    1.457153             1.0              1.0  \n",
       "H2           0.030989    1.354831             1.0              1.0  \n",
       "Ehcache      0.012484    1.140035             1.0              1.0  \n",
       "Oracle       0.036097    1.711822             1.0              1.0  \n",
       "SQLite       0.028514    1.796665             1.0              1.0  "
      ]
     },
     "execution_count": 7,
     "metadata": {},
     "output_type": "execute_result"
    }
   ],
   "source": [
    "rules1a = df2[(df2['antecedent support'] >= 0.07)] #& (df['confidence'] > 0.7) ]\n",
    "#rules2 = rules2.sort_values(['consequent support','support'], ascending=[False,False])\n",
    "rules1a = rules1a.groupby('antecedents').mean().sort_values(['antecedent support',], ascending=[False])\n",
    "rules1a"
   ]
  },
  {
   "attachments": {},
   "cell_type": "markdown",
   "metadata": {},
   "source": [
    "Top 10 BDs Session\n",
    "Presentation of the 10 most frequent BDs (consequents=antecedents)."
   ]
  },
  {
   "cell_type": "code",
   "execution_count": 8,
   "metadata": {},
   "outputs": [
    {
     "data": {
      "text/html": [
       "<div>\n",
       "<style scoped>\n",
       "    .dataframe tbody tr th:only-of-type {\n",
       "        vertical-align: middle;\n",
       "    }\n",
       "\n",
       "    .dataframe tbody tr th {\n",
       "        vertical-align: top;\n",
       "    }\n",
       "\n",
       "    .dataframe thead th {\n",
       "        text-align: right;\n",
       "    }\n",
       "</style>\n",
       "<table border=\"1\" class=\"dataframe\">\n",
       "  <thead>\n",
       "    <tr style=\"text-align: right;\">\n",
       "      <th></th>\n",
       "      <th>antecedent support</th>\n",
       "      <th>antecedent_sup_abs</th>\n",
       "      <th>consequent support</th>\n",
       "      <th>consequent_sup_abs</th>\n",
       "      <th>support</th>\n",
       "      <th>support_abs</th>\n",
       "      <th>confidence</th>\n",
       "      <th>lift</th>\n",
       "      <th>leverage</th>\n",
       "      <th>conviction</th>\n",
       "      <th>antecedent_len</th>\n",
       "      <th>consequente_len</th>\n",
       "    </tr>\n",
       "    <tr>\n",
       "      <th>consequents</th>\n",
       "      <th></th>\n",
       "      <th></th>\n",
       "      <th></th>\n",
       "      <th></th>\n",
       "      <th></th>\n",
       "      <th></th>\n",
       "      <th></th>\n",
       "      <th></th>\n",
       "      <th></th>\n",
       "      <th></th>\n",
       "      <th></th>\n",
       "      <th></th>\n",
       "    </tr>\n",
       "  </thead>\n",
       "  <tbody>\n",
       "    <tr>\n",
       "      <th>MySQL</th>\n",
       "      <td>0.086802</td>\n",
       "      <td>17.100000</td>\n",
       "      <td>0.299492</td>\n",
       "      <td>59.0</td>\n",
       "      <td>0.061929</td>\n",
       "      <td>12.200000</td>\n",
       "      <td>0.787540</td>\n",
       "      <td>2.629584</td>\n",
       "      <td>0.035932</td>\n",
       "      <td>NaN</td>\n",
       "      <td>1.0</td>\n",
       "      <td>1.0</td>\n",
       "    </tr>\n",
       "    <tr>\n",
       "      <th>PostgreSQL</th>\n",
       "      <td>0.104907</td>\n",
       "      <td>20.666667</td>\n",
       "      <td>0.182741</td>\n",
       "      <td>36.0</td>\n",
       "      <td>0.058094</td>\n",
       "      <td>11.444444</td>\n",
       "      <td>0.652476</td>\n",
       "      <td>3.570491</td>\n",
       "      <td>0.038923</td>\n",
       "      <td>3.407785</td>\n",
       "      <td>1.0</td>\n",
       "      <td>1.0</td>\n",
       "    </tr>\n",
       "    <tr>\n",
       "      <th>H2</th>\n",
       "      <td>0.107727</td>\n",
       "      <td>21.222222</td>\n",
       "      <td>0.157360</td>\n",
       "      <td>31.0</td>\n",
       "      <td>0.047941</td>\n",
       "      <td>9.444444</td>\n",
       "      <td>0.549313</td>\n",
       "      <td>3.490797</td>\n",
       "      <td>0.030989</td>\n",
       "      <td>2.262604</td>\n",
       "      <td>1.0</td>\n",
       "      <td>1.0</td>\n",
       "    </tr>\n",
       "  </tbody>\n",
       "</table>\n",
       "</div>"
      ],
      "text/plain": [
       "             antecedent support  antecedent_sup_abs  consequent support  \\\n",
       "consequents                                                               \n",
       "MySQL                  0.086802           17.100000            0.299492   \n",
       "PostgreSQL             0.104907           20.666667            0.182741   \n",
       "H2                     0.107727           21.222222            0.157360   \n",
       "\n",
       "             consequent_sup_abs   support  support_abs  confidence      lift  \\\n",
       "consequents                                                                    \n",
       "MySQL                      59.0  0.061929    12.200000    0.787540  2.629584   \n",
       "PostgreSQL                 36.0  0.058094    11.444444    0.652476  3.570491   \n",
       "H2                         31.0  0.047941     9.444444    0.549313  3.490797   \n",
       "\n",
       "             leverage  conviction  antecedent_len  consequente_len  \n",
       "consequents                                                         \n",
       "MySQL        0.035932         NaN             1.0              1.0  \n",
       "PostgreSQL   0.038923    3.407785             1.0              1.0  \n",
       "H2           0.030989    2.262604             1.0              1.0  "
      ]
     },
     "execution_count": 8,
     "metadata": {},
     "output_type": "execute_result"
    }
   ],
   "source": [
    "rules1 = df2[(df2['consequent support'] >= 0.13)] #0.07)] #& (df['confidence'] > 0.7) ]\n",
    "#rules2 = rules2.sort_values(['consequent support','support'], ascending=[False,False])\n",
    "rules1 = rules1.groupby('consequents').mean().sort_values(['consequent support',], ascending=[False])\n",
    "rules1"
   ]
  },
  {
   "cell_type": "code",
   "execution_count": 27,
   "metadata": {},
   "outputs": [
    {
     "data": {
      "text/html": [
       "<div>\n",
       "<style scoped>\n",
       "    .dataframe tbody tr th:only-of-type {\n",
       "        vertical-align: middle;\n",
       "    }\n",
       "\n",
       "    .dataframe tbody tr th {\n",
       "        vertical-align: top;\n",
       "    }\n",
       "\n",
       "    .dataframe thead th {\n",
       "        text-align: right;\n",
       "    }\n",
       "</style>\n",
       "<table border=\"1\" class=\"dataframe\">\n",
       "  <thead>\n",
       "    <tr style=\"text-align: right;\">\n",
       "      <th></th>\n",
       "      <th></th>\n",
       "      <th>antecedent support</th>\n",
       "      <th>antecedent_sup_abs</th>\n",
       "      <th>consequent support</th>\n",
       "      <th>consequent_sup_abs</th>\n",
       "      <th>support</th>\n",
       "      <th>support_abs</th>\n",
       "      <th>confidence</th>\n",
       "      <th>lift</th>\n",
       "      <th>leverage</th>\n",
       "      <th>conviction</th>\n",
       "      <th>antecedent_len</th>\n",
       "      <th>consequente_len</th>\n",
       "    </tr>\n",
       "    <tr>\n",
       "      <th>antecedents</th>\n",
       "      <th>consequents</th>\n",
       "      <th></th>\n",
       "      <th></th>\n",
       "      <th></th>\n",
       "      <th></th>\n",
       "      <th></th>\n",
       "      <th></th>\n",
       "      <th></th>\n",
       "      <th></th>\n",
       "      <th></th>\n",
       "      <th></th>\n",
       "      <th></th>\n",
       "      <th></th>\n",
       "    </tr>\n",
       "  </thead>\n",
       "  <tbody>\n",
       "    <tr>\n",
       "      <th>MySQL</th>\n",
       "      <th>PostgreSQL</th>\n",
       "      <td>0.299492</td>\n",
       "      <td>59.0</td>\n",
       "      <td>0.182741</td>\n",
       "      <td>36.0</td>\n",
       "      <td>0.137056</td>\n",
       "      <td>27.0</td>\n",
       "      <td>0.457627</td>\n",
       "      <td>2.504237</td>\n",
       "      <td>0.082326</td>\n",
       "      <td>1.506821</td>\n",
       "      <td>1.0</td>\n",
       "      <td>1.0</td>\n",
       "    </tr>\n",
       "    <tr>\n",
       "      <th>PostgreSQL</th>\n",
       "      <th>MySQL</th>\n",
       "      <td>0.182741</td>\n",
       "      <td>36.0</td>\n",
       "      <td>0.299492</td>\n",
       "      <td>59.0</td>\n",
       "      <td>0.137056</td>\n",
       "      <td>27.0</td>\n",
       "      <td>0.750000</td>\n",
       "      <td>2.504237</td>\n",
       "      <td>0.082326</td>\n",
       "      <td>2.802030</td>\n",
       "      <td>1.0</td>\n",
       "      <td>1.0</td>\n",
       "    </tr>\n",
       "    <tr>\n",
       "      <th>MySQL</th>\n",
       "      <th>Oracle</th>\n",
       "      <td>0.299492</td>\n",
       "      <td>59.0</td>\n",
       "      <td>0.126904</td>\n",
       "      <td>25.0</td>\n",
       "      <td>0.101523</td>\n",
       "      <td>20.0</td>\n",
       "      <td>0.338983</td>\n",
       "      <td>2.671186</td>\n",
       "      <td>0.063516</td>\n",
       "      <td>1.320838</td>\n",
       "      <td>1.0</td>\n",
       "      <td>1.0</td>\n",
       "    </tr>\n",
       "    <tr>\n",
       "      <th>Oracle</th>\n",
       "      <th>MySQL</th>\n",
       "      <td>0.126904</td>\n",
       "      <td>25.0</td>\n",
       "      <td>0.299492</td>\n",
       "      <td>59.0</td>\n",
       "      <td>0.101523</td>\n",
       "      <td>20.0</td>\n",
       "      <td>0.800000</td>\n",
       "      <td>2.671186</td>\n",
       "      <td>0.063516</td>\n",
       "      <td>3.502538</td>\n",
       "      <td>1.0</td>\n",
       "      <td>1.0</td>\n",
       "    </tr>\n",
       "    <tr>\n",
       "      <th>MySQL</th>\n",
       "      <th>H2</th>\n",
       "      <td>0.299492</td>\n",
       "      <td>59.0</td>\n",
       "      <td>0.157360</td>\n",
       "      <td>31.0</td>\n",
       "      <td>0.096447</td>\n",
       "      <td>19.0</td>\n",
       "      <td>0.322034</td>\n",
       "      <td>2.046473</td>\n",
       "      <td>0.049318</td>\n",
       "      <td>1.242893</td>\n",
       "      <td>1.0</td>\n",
       "      <td>1.0</td>\n",
       "    </tr>\n",
       "    <tr>\n",
       "      <th>...</th>\n",
       "      <th>...</th>\n",
       "      <td>...</td>\n",
       "      <td>...</td>\n",
       "      <td>...</td>\n",
       "      <td>...</td>\n",
       "      <td>...</td>\n",
       "      <td>...</td>\n",
       "      <td>...</td>\n",
       "      <td>...</td>\n",
       "      <td>...</td>\n",
       "      <td>...</td>\n",
       "      <td>...</td>\n",
       "      <td>...</td>\n",
       "    </tr>\n",
       "    <tr>\n",
       "      <th>MS SQL Server</th>\n",
       "      <th>H2</th>\n",
       "      <td>0.040609</td>\n",
       "      <td>8.0</td>\n",
       "      <td>0.157360</td>\n",
       "      <td>31.0</td>\n",
       "      <td>0.025381</td>\n",
       "      <td>5.0</td>\n",
       "      <td>0.625000</td>\n",
       "      <td>3.971774</td>\n",
       "      <td>0.018990</td>\n",
       "      <td>2.247039</td>\n",
       "      <td>1.0</td>\n",
       "      <td>1.0</td>\n",
       "    </tr>\n",
       "    <tr>\n",
       "      <th>IBM DB2</th>\n",
       "      <th>SAP Adaptive Server</th>\n",
       "      <td>0.045685</td>\n",
       "      <td>9.0</td>\n",
       "      <td>0.035533</td>\n",
       "      <td>7.0</td>\n",
       "      <td>0.025381</td>\n",
       "      <td>5.0</td>\n",
       "      <td>0.555556</td>\n",
       "      <td>15.634921</td>\n",
       "      <td>0.023757</td>\n",
       "      <td>2.170051</td>\n",
       "      <td>1.0</td>\n",
       "      <td>1.0</td>\n",
       "    </tr>\n",
       "    <tr>\n",
       "      <th>MS Access</th>\n",
       "      <th>H2</th>\n",
       "      <td>0.030457</td>\n",
       "      <td>6.0</td>\n",
       "      <td>0.157360</td>\n",
       "      <td>31.0</td>\n",
       "      <td>0.025381</td>\n",
       "      <td>5.0</td>\n",
       "      <td>0.833333</td>\n",
       "      <td>5.295699</td>\n",
       "      <td>0.020588</td>\n",
       "      <td>5.055838</td>\n",
       "      <td>1.0</td>\n",
       "      <td>1.0</td>\n",
       "    </tr>\n",
       "    <tr>\n",
       "      <th>PostgreSQL</th>\n",
       "      <th>MS Access</th>\n",
       "      <td>0.182741</td>\n",
       "      <td>36.0</td>\n",
       "      <td>0.030457</td>\n",
       "      <td>6.0</td>\n",
       "      <td>0.025381</td>\n",
       "      <td>5.0</td>\n",
       "      <td>0.138889</td>\n",
       "      <td>4.560185</td>\n",
       "      <td>0.019815</td>\n",
       "      <td>1.125921</td>\n",
       "      <td>1.0</td>\n",
       "      <td>1.0</td>\n",
       "    </tr>\n",
       "    <tr>\n",
       "      <th>Oracle</th>\n",
       "      <th>MS Access</th>\n",
       "      <td>0.126904</td>\n",
       "      <td>25.0</td>\n",
       "      <td>0.030457</td>\n",
       "      <td>6.0</td>\n",
       "      <td>0.025381</td>\n",
       "      <td>5.0</td>\n",
       "      <td>0.200000</td>\n",
       "      <td>6.566667</td>\n",
       "      <td>0.021516</td>\n",
       "      <td>1.211929</td>\n",
       "      <td>1.0</td>\n",
       "      <td>1.0</td>\n",
       "    </tr>\n",
       "  </tbody>\n",
       "</table>\n",
       "<p>66 rows × 12 columns</p>\n",
       "</div>"
      ],
      "text/plain": [
       "                                   antecedent support  antecedent_sup_abs  \\\n",
       "antecedents   consequents                                                   \n",
       "MySQL         PostgreSQL                     0.299492                59.0   \n",
       "PostgreSQL    MySQL                          0.182741                36.0   \n",
       "MySQL         Oracle                         0.299492                59.0   \n",
       "Oracle        MySQL                          0.126904                25.0   \n",
       "MySQL         H2                             0.299492                59.0   \n",
       "...                                               ...                 ...   \n",
       "MS SQL Server H2                             0.040609                 8.0   \n",
       "IBM DB2       SAP Adaptive Server            0.045685                 9.0   \n",
       "MS Access     H2                             0.030457                 6.0   \n",
       "PostgreSQL    MS Access                      0.182741                36.0   \n",
       "Oracle        MS Access                      0.126904                25.0   \n",
       "\n",
       "                                   consequent support  consequent_sup_abs  \\\n",
       "antecedents   consequents                                                   \n",
       "MySQL         PostgreSQL                     0.182741                36.0   \n",
       "PostgreSQL    MySQL                          0.299492                59.0   \n",
       "MySQL         Oracle                         0.126904                25.0   \n",
       "Oracle        MySQL                          0.299492                59.0   \n",
       "MySQL         H2                             0.157360                31.0   \n",
       "...                                               ...                 ...   \n",
       "MS SQL Server H2                             0.157360                31.0   \n",
       "IBM DB2       SAP Adaptive Server            0.035533                 7.0   \n",
       "MS Access     H2                             0.157360                31.0   \n",
       "PostgreSQL    MS Access                      0.030457                 6.0   \n",
       "Oracle        MS Access                      0.030457                 6.0   \n",
       "\n",
       "                                    support  support_abs  confidence  \\\n",
       "antecedents   consequents                                              \n",
       "MySQL         PostgreSQL           0.137056         27.0    0.457627   \n",
       "PostgreSQL    MySQL                0.137056         27.0    0.750000   \n",
       "MySQL         Oracle               0.101523         20.0    0.338983   \n",
       "Oracle        MySQL                0.101523         20.0    0.800000   \n",
       "MySQL         H2                   0.096447         19.0    0.322034   \n",
       "...                                     ...          ...         ...   \n",
       "MS SQL Server H2                   0.025381          5.0    0.625000   \n",
       "IBM DB2       SAP Adaptive Server  0.025381          5.0    0.555556   \n",
       "MS Access     H2                   0.025381          5.0    0.833333   \n",
       "PostgreSQL    MS Access            0.025381          5.0    0.138889   \n",
       "Oracle        MS Access            0.025381          5.0    0.200000   \n",
       "\n",
       "                                        lift  leverage  conviction  \\\n",
       "antecedents   consequents                                            \n",
       "MySQL         PostgreSQL            2.504237  0.082326    1.506821   \n",
       "PostgreSQL    MySQL                 2.504237  0.082326    2.802030   \n",
       "MySQL         Oracle                2.671186  0.063516    1.320838   \n",
       "Oracle        MySQL                 2.671186  0.063516    3.502538   \n",
       "MySQL         H2                    2.046473  0.049318    1.242893   \n",
       "...                                      ...       ...         ...   \n",
       "MS SQL Server H2                    3.971774  0.018990    2.247039   \n",
       "IBM DB2       SAP Adaptive Server  15.634921  0.023757    2.170051   \n",
       "MS Access     H2                    5.295699  0.020588    5.055838   \n",
       "PostgreSQL    MS Access             4.560185  0.019815    1.125921   \n",
       "Oracle        MS Access             6.566667  0.021516    1.211929   \n",
       "\n",
       "                                   antecedent_len  consequente_len  \n",
       "antecedents   consequents                                           \n",
       "MySQL         PostgreSQL                      1.0              1.0  \n",
       "PostgreSQL    MySQL                           1.0              1.0  \n",
       "MySQL         Oracle                          1.0              1.0  \n",
       "Oracle        MySQL                           1.0              1.0  \n",
       "MySQL         H2                              1.0              1.0  \n",
       "...                                           ...              ...  \n",
       "MS SQL Server H2                              1.0              1.0  \n",
       "IBM DB2       SAP Adaptive Server             1.0              1.0  \n",
       "MS Access     H2                              1.0              1.0  \n",
       "PostgreSQL    MS Access                       1.0              1.0  \n",
       "Oracle        MS Access                       1.0              1.0  \n",
       "\n",
       "[66 rows x 12 columns]"
      ]
     },
     "execution_count": 27,
     "metadata": {},
     "output_type": "execute_result"
    }
   ],
   "source": [
    "rules1c = df2.groupby(['antecedents','consequents']).mean().sort_values(['support',], ascending=[False])\n",
    "\n",
    "#sum().plot(kind='line')\n",
    "\n",
    "#rules1c = rules1c[(rules1c['support'] >= 0.03)] \n",
    "rules1c"
   ]
  },
  {
   "cell_type": "code",
   "execution_count": 28,
   "metadata": {},
   "outputs": [],
   "source": [
    "#if you need to generate the rules in excel\n",
    "#rules_filter = rules1c.to_excel('rules_filtersv1.xlsx', index=False)"
   ]
  },
  {
   "cell_type": "code",
   "execution_count": 116,
   "metadata": {},
   "outputs": [
    {
     "data": {
      "text/html": [
       "<div>\n",
       "<style scoped>\n",
       "    .dataframe tbody tr th:only-of-type {\n",
       "        vertical-align: middle;\n",
       "    }\n",
       "\n",
       "    .dataframe tbody tr th {\n",
       "        vertical-align: top;\n",
       "    }\n",
       "\n",
       "    .dataframe thead th {\n",
       "        text-align: right;\n",
       "    }\n",
       "</style>\n",
       "<table border=\"1\" class=\"dataframe\">\n",
       "  <thead>\n",
       "    <tr style=\"text-align: right;\">\n",
       "      <th></th>\n",
       "      <th></th>\n",
       "      <th>antecedent support</th>\n",
       "      <th>antecedent_sup_abs</th>\n",
       "      <th>consequent support</th>\n",
       "      <th>consequent_sup_abs</th>\n",
       "      <th>support</th>\n",
       "      <th>support_abs</th>\n",
       "      <th>confidence</th>\n",
       "      <th>lift</th>\n",
       "      <th>leverage</th>\n",
       "      <th>conviction</th>\n",
       "      <th>antecedent_len</th>\n",
       "      <th>consequente_len</th>\n",
       "    </tr>\n",
       "    <tr>\n",
       "      <th>antecedents</th>\n",
       "      <th>consequents</th>\n",
       "      <th></th>\n",
       "      <th></th>\n",
       "      <th></th>\n",
       "      <th></th>\n",
       "      <th></th>\n",
       "      <th></th>\n",
       "      <th></th>\n",
       "      <th></th>\n",
       "      <th></th>\n",
       "      <th></th>\n",
       "      <th></th>\n",
       "      <th></th>\n",
       "    </tr>\n",
       "  </thead>\n",
       "  <tbody>\n",
       "    <tr>\n",
       "      <th rowspan=\"3\" valign=\"top\">MySQL</th>\n",
       "      <th>PostgreSQL</th>\n",
       "      <td>0.299492</td>\n",
       "      <td>59.0</td>\n",
       "      <td>0.182741</td>\n",
       "      <td>36.0</td>\n",
       "      <td>0.137056</td>\n",
       "      <td>27.0</td>\n",
       "      <td>0.457627</td>\n",
       "      <td>2.504237</td>\n",
       "      <td>0.082326</td>\n",
       "      <td>1.506821</td>\n",
       "      <td>1.0</td>\n",
       "      <td>1.0</td>\n",
       "    </tr>\n",
       "    <tr>\n",
       "      <th>Oracle</th>\n",
       "      <td>0.299492</td>\n",
       "      <td>59.0</td>\n",
       "      <td>0.126904</td>\n",
       "      <td>25.0</td>\n",
       "      <td>0.101523</td>\n",
       "      <td>20.0</td>\n",
       "      <td>0.338983</td>\n",
       "      <td>2.671186</td>\n",
       "      <td>0.063516</td>\n",
       "      <td>1.320838</td>\n",
       "      <td>1.0</td>\n",
       "      <td>1.0</td>\n",
       "    </tr>\n",
       "    <tr>\n",
       "      <th>H2</th>\n",
       "      <td>0.299492</td>\n",
       "      <td>59.0</td>\n",
       "      <td>0.157360</td>\n",
       "      <td>31.0</td>\n",
       "      <td>0.096447</td>\n",
       "      <td>19.0</td>\n",
       "      <td>0.322034</td>\n",
       "      <td>2.046473</td>\n",
       "      <td>0.049318</td>\n",
       "      <td>1.242893</td>\n",
       "      <td>1.0</td>\n",
       "      <td>1.0</td>\n",
       "    </tr>\n",
       "    <tr>\n",
       "      <th>PostgreSQL</th>\n",
       "      <th>H2</th>\n",
       "      <td>0.182741</td>\n",
       "      <td>36.0</td>\n",
       "      <td>0.157360</td>\n",
       "      <td>31.0</td>\n",
       "      <td>0.091371</td>\n",
       "      <td>18.0</td>\n",
       "      <td>0.500000</td>\n",
       "      <td>3.177419</td>\n",
       "      <td>0.062614</td>\n",
       "      <td>1.685279</td>\n",
       "      <td>1.0</td>\n",
       "      <td>1.0</td>\n",
       "    </tr>\n",
       "    <tr>\n",
       "      <th rowspan=\"2\" valign=\"top\">Oracle</th>\n",
       "      <th>PostgreSQL</th>\n",
       "      <td>0.126904</td>\n",
       "      <td>25.0</td>\n",
       "      <td>0.182741</td>\n",
       "      <td>36.0</td>\n",
       "      <td>0.086294</td>\n",
       "      <td>17.0</td>\n",
       "      <td>0.680000</td>\n",
       "      <td>3.721111</td>\n",
       "      <td>0.063104</td>\n",
       "      <td>2.553934</td>\n",
       "      <td>1.0</td>\n",
       "      <td>1.0</td>\n",
       "    </tr>\n",
       "    <tr>\n",
       "      <th>H2</th>\n",
       "      <td>0.126904</td>\n",
       "      <td>25.0</td>\n",
       "      <td>0.157360</td>\n",
       "      <td>31.0</td>\n",
       "      <td>0.060914</td>\n",
       "      <td>12.0</td>\n",
       "      <td>0.480000</td>\n",
       "      <td>3.050323</td>\n",
       "      <td>0.040944</td>\n",
       "      <td>1.620461</td>\n",
       "      <td>1.0</td>\n",
       "      <td>1.0</td>\n",
       "    </tr>\n",
       "    <tr>\n",
       "      <th>MySQL</th>\n",
       "      <th>SQLite</th>\n",
       "      <td>0.299492</td>\n",
       "      <td>59.0</td>\n",
       "      <td>0.081218</td>\n",
       "      <td>16.0</td>\n",
       "      <td>0.055838</td>\n",
       "      <td>11.0</td>\n",
       "      <td>0.186441</td>\n",
       "      <td>2.295551</td>\n",
       "      <td>0.031513</td>\n",
       "      <td>1.129336</td>\n",
       "      <td>1.0</td>\n",
       "      <td>1.0</td>\n",
       "    </tr>\n",
       "    <tr>\n",
       "      <th>Ehcache</th>\n",
       "      <th>MySQL</th>\n",
       "      <td>0.126904</td>\n",
       "      <td>25.0</td>\n",
       "      <td>0.299492</td>\n",
       "      <td>59.0</td>\n",
       "      <td>0.050761</td>\n",
       "      <td>10.0</td>\n",
       "      <td>0.400000</td>\n",
       "      <td>1.335593</td>\n",
       "      <td>0.012755</td>\n",
       "      <td>1.167513</td>\n",
       "      <td>1.0</td>\n",
       "      <td>1.0</td>\n",
       "    </tr>\n",
       "    <tr>\n",
       "      <th>PostgreSQL</th>\n",
       "      <th>SQLite</th>\n",
       "      <td>0.182741</td>\n",
       "      <td>36.0</td>\n",
       "      <td>0.081218</td>\n",
       "      <td>16.0</td>\n",
       "      <td>0.045685</td>\n",
       "      <td>9.0</td>\n",
       "      <td>0.250000</td>\n",
       "      <td>3.078125</td>\n",
       "      <td>0.030843</td>\n",
       "      <td>1.225042</td>\n",
       "      <td>1.0</td>\n",
       "      <td>1.0</td>\n",
       "    </tr>\n",
       "    <tr>\n",
       "      <th>H2</th>\n",
       "      <th>SQLite</th>\n",
       "      <td>0.157360</td>\n",
       "      <td>31.0</td>\n",
       "      <td>0.081218</td>\n",
       "      <td>16.0</td>\n",
       "      <td>0.045685</td>\n",
       "      <td>9.0</td>\n",
       "      <td>0.290323</td>\n",
       "      <td>3.574597</td>\n",
       "      <td>0.032905</td>\n",
       "      <td>1.294647</td>\n",
       "      <td>1.0</td>\n",
       "      <td>1.0</td>\n",
       "    </tr>\n",
       "    <tr>\n",
       "      <th>MySQL</th>\n",
       "      <th>IBM DB2</th>\n",
       "      <td>0.299492</td>\n",
       "      <td>59.0</td>\n",
       "      <td>0.045685</td>\n",
       "      <td>9.0</td>\n",
       "      <td>0.045685</td>\n",
       "      <td>9.0</td>\n",
       "      <td>0.152542</td>\n",
       "      <td>3.338983</td>\n",
       "      <td>0.032003</td>\n",
       "      <td>1.126091</td>\n",
       "      <td>1.0</td>\n",
       "      <td>1.0</td>\n",
       "    </tr>\n",
       "    <tr>\n",
       "      <th>Oracle</th>\n",
       "      <th>IBM DB2</th>\n",
       "      <td>0.126904</td>\n",
       "      <td>25.0</td>\n",
       "      <td>0.045685</td>\n",
       "      <td>9.0</td>\n",
       "      <td>0.045685</td>\n",
       "      <td>9.0</td>\n",
       "      <td>0.360000</td>\n",
       "      <td>7.880000</td>\n",
       "      <td>0.039888</td>\n",
       "      <td>1.491117</td>\n",
       "      <td>1.0</td>\n",
       "      <td>1.0</td>\n",
       "    </tr>\n",
       "    <tr>\n",
       "      <th rowspan=\"2\" valign=\"top\">PostgreSQL</th>\n",
       "      <th>IBM DB2</th>\n",
       "      <td>0.182741</td>\n",
       "      <td>36.0</td>\n",
       "      <td>0.045685</td>\n",
       "      <td>9.0</td>\n",
       "      <td>0.040609</td>\n",
       "      <td>8.0</td>\n",
       "      <td>0.222222</td>\n",
       "      <td>4.864198</td>\n",
       "      <td>0.032261</td>\n",
       "      <td>1.226976</td>\n",
       "      <td>1.0</td>\n",
       "      <td>1.0</td>\n",
       "    </tr>\n",
       "    <tr>\n",
       "      <th>Ehcache</th>\n",
       "      <td>0.182741</td>\n",
       "      <td>36.0</td>\n",
       "      <td>0.126904</td>\n",
       "      <td>25.0</td>\n",
       "      <td>0.035533</td>\n",
       "      <td>7.0</td>\n",
       "      <td>0.194444</td>\n",
       "      <td>1.532222</td>\n",
       "      <td>0.012342</td>\n",
       "      <td>1.083844</td>\n",
       "      <td>1.0</td>\n",
       "      <td>1.0</td>\n",
       "    </tr>\n",
       "    <tr>\n",
       "      <th>MySQL</th>\n",
       "      <th>MS SQL Server</th>\n",
       "      <td>0.299492</td>\n",
       "      <td>59.0</td>\n",
       "      <td>0.040609</td>\n",
       "      <td>8.0</td>\n",
       "      <td>0.035533</td>\n",
       "      <td>7.0</td>\n",
       "      <td>0.118644</td>\n",
       "      <td>2.921610</td>\n",
       "      <td>0.023371</td>\n",
       "      <td>1.088540</td>\n",
       "      <td>1.0</td>\n",
       "      <td>1.0</td>\n",
       "    </tr>\n",
       "    <tr>\n",
       "      <th>Oracle</th>\n",
       "      <th>MS SQL Server</th>\n",
       "      <td>0.126904</td>\n",
       "      <td>25.0</td>\n",
       "      <td>0.040609</td>\n",
       "      <td>8.0</td>\n",
       "      <td>0.035533</td>\n",
       "      <td>7.0</td>\n",
       "      <td>0.280000</td>\n",
       "      <td>6.895000</td>\n",
       "      <td>0.030380</td>\n",
       "      <td>1.332487</td>\n",
       "      <td>1.0</td>\n",
       "      <td>1.0</td>\n",
       "    </tr>\n",
       "    <tr>\n",
       "      <th>MySQL</th>\n",
       "      <th>SAP Adaptive Server</th>\n",
       "      <td>0.299492</td>\n",
       "      <td>59.0</td>\n",
       "      <td>0.035533</td>\n",
       "      <td>7.0</td>\n",
       "      <td>0.035533</td>\n",
       "      <td>7.0</td>\n",
       "      <td>0.118644</td>\n",
       "      <td>3.338983</td>\n",
       "      <td>0.024891</td>\n",
       "      <td>1.094299</td>\n",
       "      <td>1.0</td>\n",
       "      <td>1.0</td>\n",
       "    </tr>\n",
       "    <tr>\n",
       "      <th>SQLite</th>\n",
       "      <th>Oracle</th>\n",
       "      <td>0.081218</td>\n",
       "      <td>16.0</td>\n",
       "      <td>0.126904</td>\n",
       "      <td>25.0</td>\n",
       "      <td>0.035533</td>\n",
       "      <td>7.0</td>\n",
       "      <td>0.437500</td>\n",
       "      <td>3.447500</td>\n",
       "      <td>0.025226</td>\n",
       "      <td>1.552171</td>\n",
       "      <td>1.0</td>\n",
       "      <td>1.0</td>\n",
       "    </tr>\n",
       "    <tr>\n",
       "      <th>PostgreSQL</th>\n",
       "      <th>MS SQL Server</th>\n",
       "      <td>0.182741</td>\n",
       "      <td>36.0</td>\n",
       "      <td>0.040609</td>\n",
       "      <td>8.0</td>\n",
       "      <td>0.035533</td>\n",
       "      <td>7.0</td>\n",
       "      <td>0.194444</td>\n",
       "      <td>4.788194</td>\n",
       "      <td>0.028112</td>\n",
       "      <td>1.190968</td>\n",
       "      <td>1.0</td>\n",
       "      <td>1.0</td>\n",
       "    </tr>\n",
       "    <tr>\n",
       "      <th>SAP Adaptive Server</th>\n",
       "      <th>Oracle</th>\n",
       "      <td>0.035533</td>\n",
       "      <td>7.0</td>\n",
       "      <td>0.126904</td>\n",
       "      <td>25.0</td>\n",
       "      <td>0.030457</td>\n",
       "      <td>6.0</td>\n",
       "      <td>0.857143</td>\n",
       "      <td>6.754286</td>\n",
       "      <td>0.025948</td>\n",
       "      <td>6.111675</td>\n",
       "      <td>1.0</td>\n",
       "      <td>1.0</td>\n",
       "    </tr>\n",
       "    <tr>\n",
       "      <th>Ehcache</th>\n",
       "      <th>H2</th>\n",
       "      <td>0.126904</td>\n",
       "      <td>25.0</td>\n",
       "      <td>0.157360</td>\n",
       "      <td>31.0</td>\n",
       "      <td>0.030457</td>\n",
       "      <td>6.0</td>\n",
       "      <td>0.240000</td>\n",
       "      <td>1.525161</td>\n",
       "      <td>0.010487</td>\n",
       "      <td>1.108736</td>\n",
       "      <td>1.0</td>\n",
       "      <td>1.0</td>\n",
       "    </tr>\n",
       "    <tr>\n",
       "      <th>IBM DB2</th>\n",
       "      <th>H2</th>\n",
       "      <td>0.045685</td>\n",
       "      <td>9.0</td>\n",
       "      <td>0.157360</td>\n",
       "      <td>31.0</td>\n",
       "      <td>0.030457</td>\n",
       "      <td>6.0</td>\n",
       "      <td>0.666667</td>\n",
       "      <td>4.236559</td>\n",
       "      <td>0.023268</td>\n",
       "      <td>2.527919</td>\n",
       "      <td>1.0</td>\n",
       "      <td>1.0</td>\n",
       "    </tr>\n",
       "    <tr>\n",
       "      <th>MS Access</th>\n",
       "      <th>MySQL</th>\n",
       "      <td>0.030457</td>\n",
       "      <td>6.0</td>\n",
       "      <td>0.299492</td>\n",
       "      <td>59.0</td>\n",
       "      <td>0.030457</td>\n",
       "      <td>6.0</td>\n",
       "      <td>1.000000</td>\n",
       "      <td>3.338983</td>\n",
       "      <td>0.021335</td>\n",
       "      <td>inf</td>\n",
       "      <td>1.0</td>\n",
       "      <td>1.0</td>\n",
       "    </tr>\n",
       "    <tr>\n",
       "      <th>Ehcache</th>\n",
       "      <th>Oracle</th>\n",
       "      <td>0.126904</td>\n",
       "      <td>25.0</td>\n",
       "      <td>0.126904</td>\n",
       "      <td>25.0</td>\n",
       "      <td>0.030457</td>\n",
       "      <td>6.0</td>\n",
       "      <td>0.240000</td>\n",
       "      <td>1.891200</td>\n",
       "      <td>0.014352</td>\n",
       "      <td>1.148811</td>\n",
       "      <td>1.0</td>\n",
       "      <td>1.0</td>\n",
       "    </tr>\n",
       "    <tr>\n",
       "      <th>MySQL</th>\n",
       "      <th>MongoDB</th>\n",
       "      <td>0.299492</td>\n",
       "      <td>59.0</td>\n",
       "      <td>0.040609</td>\n",
       "      <td>8.0</td>\n",
       "      <td>0.030457</td>\n",
       "      <td>6.0</td>\n",
       "      <td>0.101695</td>\n",
       "      <td>2.504237</td>\n",
       "      <td>0.018295</td>\n",
       "      <td>1.068001</td>\n",
       "      <td>1.0</td>\n",
       "      <td>1.0</td>\n",
       "    </tr>\n",
       "    <tr>\n",
       "      <th rowspan=\"2\" valign=\"top\">MS Access</th>\n",
       "      <th>Oracle</th>\n",
       "      <td>0.030457</td>\n",
       "      <td>6.0</td>\n",
       "      <td>0.126904</td>\n",
       "      <td>25.0</td>\n",
       "      <td>0.025381</td>\n",
       "      <td>5.0</td>\n",
       "      <td>0.833333</td>\n",
       "      <td>6.566667</td>\n",
       "      <td>0.021516</td>\n",
       "      <td>5.238579</td>\n",
       "      <td>1.0</td>\n",
       "      <td>1.0</td>\n",
       "    </tr>\n",
       "    <tr>\n",
       "      <th>PostgreSQL</th>\n",
       "      <td>0.030457</td>\n",
       "      <td>6.0</td>\n",
       "      <td>0.182741</td>\n",
       "      <td>36.0</td>\n",
       "      <td>0.025381</td>\n",
       "      <td>5.0</td>\n",
       "      <td>0.833333</td>\n",
       "      <td>4.560185</td>\n",
       "      <td>0.019815</td>\n",
       "      <td>4.903553</td>\n",
       "      <td>1.0</td>\n",
       "      <td>1.0</td>\n",
       "    </tr>\n",
       "    <tr>\n",
       "      <th>SQLite</th>\n",
       "      <th>MS SQL Server</th>\n",
       "      <td>0.081218</td>\n",
       "      <td>16.0</td>\n",
       "      <td>0.040609</td>\n",
       "      <td>8.0</td>\n",
       "      <td>0.025381</td>\n",
       "      <td>5.0</td>\n",
       "      <td>0.312500</td>\n",
       "      <td>7.695313</td>\n",
       "      <td>0.022083</td>\n",
       "      <td>1.395478</td>\n",
       "      <td>1.0</td>\n",
       "      <td>1.0</td>\n",
       "    </tr>\n",
       "    <tr>\n",
       "      <th>SAP Adaptive Server</th>\n",
       "      <th>PostgreSQL</th>\n",
       "      <td>0.035533</td>\n",
       "      <td>7.0</td>\n",
       "      <td>0.182741</td>\n",
       "      <td>36.0</td>\n",
       "      <td>0.025381</td>\n",
       "      <td>5.0</td>\n",
       "      <td>0.714286</td>\n",
       "      <td>3.908730</td>\n",
       "      <td>0.018887</td>\n",
       "      <td>2.860406</td>\n",
       "      <td>1.0</td>\n",
       "      <td>1.0</td>\n",
       "    </tr>\n",
       "    <tr>\n",
       "      <th rowspan=\"2\" valign=\"top\">H2</th>\n",
       "      <th>MS Access</th>\n",
       "      <td>0.157360</td>\n",
       "      <td>31.0</td>\n",
       "      <td>0.030457</td>\n",
       "      <td>6.0</td>\n",
       "      <td>0.025381</td>\n",
       "      <td>5.0</td>\n",
       "      <td>0.161290</td>\n",
       "      <td>5.295699</td>\n",
       "      <td>0.020588</td>\n",
       "      <td>1.155994</td>\n",
       "      <td>1.0</td>\n",
       "      <td>1.0</td>\n",
       "    </tr>\n",
       "    <tr>\n",
       "      <th>MS SQL Server</th>\n",
       "      <td>0.157360</td>\n",
       "      <td>31.0</td>\n",
       "      <td>0.040609</td>\n",
       "      <td>8.0</td>\n",
       "      <td>0.025381</td>\n",
       "      <td>5.0</td>\n",
       "      <td>0.161290</td>\n",
       "      <td>3.971774</td>\n",
       "      <td>0.018990</td>\n",
       "      <td>1.143889</td>\n",
       "      <td>1.0</td>\n",
       "      <td>1.0</td>\n",
       "    </tr>\n",
       "    <tr>\n",
       "      <th rowspan=\"2\" valign=\"top\">SAP Adaptive Server</th>\n",
       "      <th>IBM DB2</th>\n",
       "      <td>0.035533</td>\n",
       "      <td>7.0</td>\n",
       "      <td>0.045685</td>\n",
       "      <td>9.0</td>\n",
       "      <td>0.025381</td>\n",
       "      <td>5.0</td>\n",
       "      <td>0.714286</td>\n",
       "      <td>15.634921</td>\n",
       "      <td>0.023757</td>\n",
       "      <td>3.340102</td>\n",
       "      <td>1.0</td>\n",
       "      <td>1.0</td>\n",
       "    </tr>\n",
       "    <tr>\n",
       "      <th>H2</th>\n",
       "      <td>0.035533</td>\n",
       "      <td>7.0</td>\n",
       "      <td>0.157360</td>\n",
       "      <td>31.0</td>\n",
       "      <td>0.025381</td>\n",
       "      <td>5.0</td>\n",
       "      <td>0.714286</td>\n",
       "      <td>4.539171</td>\n",
       "      <td>0.019789</td>\n",
       "      <td>2.949239</td>\n",
       "      <td>1.0</td>\n",
       "      <td>1.0</td>\n",
       "    </tr>\n",
       "  </tbody>\n",
       "</table>\n",
       "</div>"
      ],
      "text/plain": [
       "                                         antecedent support  \\\n",
       "antecedents         consequents                               \n",
       "MySQL               PostgreSQL                     0.299492   \n",
       "                    Oracle                         0.299492   \n",
       "                    H2                             0.299492   \n",
       "PostgreSQL          H2                             0.182741   \n",
       "Oracle              PostgreSQL                     0.126904   \n",
       "                    H2                             0.126904   \n",
       "MySQL               SQLite                         0.299492   \n",
       "Ehcache             MySQL                          0.126904   \n",
       "PostgreSQL          SQLite                         0.182741   \n",
       "H2                  SQLite                         0.157360   \n",
       "MySQL               IBM DB2                        0.299492   \n",
       "Oracle              IBM DB2                        0.126904   \n",
       "PostgreSQL          IBM DB2                        0.182741   \n",
       "                    Ehcache                        0.182741   \n",
       "MySQL               MS SQL Server                  0.299492   \n",
       "Oracle              MS SQL Server                  0.126904   \n",
       "MySQL               SAP Adaptive Server            0.299492   \n",
       "SQLite              Oracle                         0.081218   \n",
       "PostgreSQL          MS SQL Server                  0.182741   \n",
       "SAP Adaptive Server Oracle                         0.035533   \n",
       "Ehcache             H2                             0.126904   \n",
       "IBM DB2             H2                             0.045685   \n",
       "MS Access           MySQL                          0.030457   \n",
       "Ehcache             Oracle                         0.126904   \n",
       "MySQL               MongoDB                        0.299492   \n",
       "MS Access           Oracle                         0.030457   \n",
       "                    PostgreSQL                     0.030457   \n",
       "SQLite              MS SQL Server                  0.081218   \n",
       "SAP Adaptive Server PostgreSQL                     0.035533   \n",
       "H2                  MS Access                      0.157360   \n",
       "                    MS SQL Server                  0.157360   \n",
       "SAP Adaptive Server IBM DB2                        0.035533   \n",
       "                    H2                             0.035533   \n",
       "\n",
       "                                         antecedent_sup_abs  \\\n",
       "antecedents         consequents                               \n",
       "MySQL               PostgreSQL                         59.0   \n",
       "                    Oracle                             59.0   \n",
       "                    H2                                 59.0   \n",
       "PostgreSQL          H2                                 36.0   \n",
       "Oracle              PostgreSQL                         25.0   \n",
       "                    H2                                 25.0   \n",
       "MySQL               SQLite                             59.0   \n",
       "Ehcache             MySQL                              25.0   \n",
       "PostgreSQL          SQLite                             36.0   \n",
       "H2                  SQLite                             31.0   \n",
       "MySQL               IBM DB2                            59.0   \n",
       "Oracle              IBM DB2                            25.0   \n",
       "PostgreSQL          IBM DB2                            36.0   \n",
       "                    Ehcache                            36.0   \n",
       "MySQL               MS SQL Server                      59.0   \n",
       "Oracle              MS SQL Server                      25.0   \n",
       "MySQL               SAP Adaptive Server                59.0   \n",
       "SQLite              Oracle                             16.0   \n",
       "PostgreSQL          MS SQL Server                      36.0   \n",
       "SAP Adaptive Server Oracle                              7.0   \n",
       "Ehcache             H2                                 25.0   \n",
       "IBM DB2             H2                                  9.0   \n",
       "MS Access           MySQL                               6.0   \n",
       "Ehcache             Oracle                             25.0   \n",
       "MySQL               MongoDB                            59.0   \n",
       "MS Access           Oracle                              6.0   \n",
       "                    PostgreSQL                          6.0   \n",
       "SQLite              MS SQL Server                      16.0   \n",
       "SAP Adaptive Server PostgreSQL                          7.0   \n",
       "H2                  MS Access                          31.0   \n",
       "                    MS SQL Server                      31.0   \n",
       "SAP Adaptive Server IBM DB2                             7.0   \n",
       "                    H2                                  7.0   \n",
       "\n",
       "                                         consequent support  \\\n",
       "antecedents         consequents                               \n",
       "MySQL               PostgreSQL                     0.182741   \n",
       "                    Oracle                         0.126904   \n",
       "                    H2                             0.157360   \n",
       "PostgreSQL          H2                             0.157360   \n",
       "Oracle              PostgreSQL                     0.182741   \n",
       "                    H2                             0.157360   \n",
       "MySQL               SQLite                         0.081218   \n",
       "Ehcache             MySQL                          0.299492   \n",
       "PostgreSQL          SQLite                         0.081218   \n",
       "H2                  SQLite                         0.081218   \n",
       "MySQL               IBM DB2                        0.045685   \n",
       "Oracle              IBM DB2                        0.045685   \n",
       "PostgreSQL          IBM DB2                        0.045685   \n",
       "                    Ehcache                        0.126904   \n",
       "MySQL               MS SQL Server                  0.040609   \n",
       "Oracle              MS SQL Server                  0.040609   \n",
       "MySQL               SAP Adaptive Server            0.035533   \n",
       "SQLite              Oracle                         0.126904   \n",
       "PostgreSQL          MS SQL Server                  0.040609   \n",
       "SAP Adaptive Server Oracle                         0.126904   \n",
       "Ehcache             H2                             0.157360   \n",
       "IBM DB2             H2                             0.157360   \n",
       "MS Access           MySQL                          0.299492   \n",
       "Ehcache             Oracle                         0.126904   \n",
       "MySQL               MongoDB                        0.040609   \n",
       "MS Access           Oracle                         0.126904   \n",
       "                    PostgreSQL                     0.182741   \n",
       "SQLite              MS SQL Server                  0.040609   \n",
       "SAP Adaptive Server PostgreSQL                     0.182741   \n",
       "H2                  MS Access                      0.030457   \n",
       "                    MS SQL Server                  0.040609   \n",
       "SAP Adaptive Server IBM DB2                        0.045685   \n",
       "                    H2                             0.157360   \n",
       "\n",
       "                                         consequent_sup_abs   support  \\\n",
       "antecedents         consequents                                         \n",
       "MySQL               PostgreSQL                         36.0  0.137056   \n",
       "                    Oracle                             25.0  0.101523   \n",
       "                    H2                                 31.0  0.096447   \n",
       "PostgreSQL          H2                                 31.0  0.091371   \n",
       "Oracle              PostgreSQL                         36.0  0.086294   \n",
       "                    H2                                 31.0  0.060914   \n",
       "MySQL               SQLite                             16.0  0.055838   \n",
       "Ehcache             MySQL                              59.0  0.050761   \n",
       "PostgreSQL          SQLite                             16.0  0.045685   \n",
       "H2                  SQLite                             16.0  0.045685   \n",
       "MySQL               IBM DB2                             9.0  0.045685   \n",
       "Oracle              IBM DB2                             9.0  0.045685   \n",
       "PostgreSQL          IBM DB2                             9.0  0.040609   \n",
       "                    Ehcache                            25.0  0.035533   \n",
       "MySQL               MS SQL Server                       8.0  0.035533   \n",
       "Oracle              MS SQL Server                       8.0  0.035533   \n",
       "MySQL               SAP Adaptive Server                 7.0  0.035533   \n",
       "SQLite              Oracle                             25.0  0.035533   \n",
       "PostgreSQL          MS SQL Server                       8.0  0.035533   \n",
       "SAP Adaptive Server Oracle                             25.0  0.030457   \n",
       "Ehcache             H2                                 31.0  0.030457   \n",
       "IBM DB2             H2                                 31.0  0.030457   \n",
       "MS Access           MySQL                              59.0  0.030457   \n",
       "Ehcache             Oracle                             25.0  0.030457   \n",
       "MySQL               MongoDB                             8.0  0.030457   \n",
       "MS Access           Oracle                             25.0  0.025381   \n",
       "                    PostgreSQL                         36.0  0.025381   \n",
       "SQLite              MS SQL Server                       8.0  0.025381   \n",
       "SAP Adaptive Server PostgreSQL                         36.0  0.025381   \n",
       "H2                  MS Access                           6.0  0.025381   \n",
       "                    MS SQL Server                       8.0  0.025381   \n",
       "SAP Adaptive Server IBM DB2                             9.0  0.025381   \n",
       "                    H2                                 31.0  0.025381   \n",
       "\n",
       "                                         support_abs  confidence       lift  \\\n",
       "antecedents         consequents                                               \n",
       "MySQL               PostgreSQL                  27.0    0.457627   2.504237   \n",
       "                    Oracle                      20.0    0.338983   2.671186   \n",
       "                    H2                          19.0    0.322034   2.046473   \n",
       "PostgreSQL          H2                          18.0    0.500000   3.177419   \n",
       "Oracle              PostgreSQL                  17.0    0.680000   3.721111   \n",
       "                    H2                          12.0    0.480000   3.050323   \n",
       "MySQL               SQLite                      11.0    0.186441   2.295551   \n",
       "Ehcache             MySQL                       10.0    0.400000   1.335593   \n",
       "PostgreSQL          SQLite                       9.0    0.250000   3.078125   \n",
       "H2                  SQLite                       9.0    0.290323   3.574597   \n",
       "MySQL               IBM DB2                      9.0    0.152542   3.338983   \n",
       "Oracle              IBM DB2                      9.0    0.360000   7.880000   \n",
       "PostgreSQL          IBM DB2                      8.0    0.222222   4.864198   \n",
       "                    Ehcache                      7.0    0.194444   1.532222   \n",
       "MySQL               MS SQL Server                7.0    0.118644   2.921610   \n",
       "Oracle              MS SQL Server                7.0    0.280000   6.895000   \n",
       "MySQL               SAP Adaptive Server          7.0    0.118644   3.338983   \n",
       "SQLite              Oracle                       7.0    0.437500   3.447500   \n",
       "PostgreSQL          MS SQL Server                7.0    0.194444   4.788194   \n",
       "SAP Adaptive Server Oracle                       6.0    0.857143   6.754286   \n",
       "Ehcache             H2                           6.0    0.240000   1.525161   \n",
       "IBM DB2             H2                           6.0    0.666667   4.236559   \n",
       "MS Access           MySQL                        6.0    1.000000   3.338983   \n",
       "Ehcache             Oracle                       6.0    0.240000   1.891200   \n",
       "MySQL               MongoDB                      6.0    0.101695   2.504237   \n",
       "MS Access           Oracle                       5.0    0.833333   6.566667   \n",
       "                    PostgreSQL                   5.0    0.833333   4.560185   \n",
       "SQLite              MS SQL Server                5.0    0.312500   7.695313   \n",
       "SAP Adaptive Server PostgreSQL                   5.0    0.714286   3.908730   \n",
       "H2                  MS Access                    5.0    0.161290   5.295699   \n",
       "                    MS SQL Server                5.0    0.161290   3.971774   \n",
       "SAP Adaptive Server IBM DB2                      5.0    0.714286  15.634921   \n",
       "                    H2                           5.0    0.714286   4.539171   \n",
       "\n",
       "                                         leverage  conviction  antecedent_len  \\\n",
       "antecedents         consequents                                                 \n",
       "MySQL               PostgreSQL           0.082326    1.506821             1.0   \n",
       "                    Oracle               0.063516    1.320838             1.0   \n",
       "                    H2                   0.049318    1.242893             1.0   \n",
       "PostgreSQL          H2                   0.062614    1.685279             1.0   \n",
       "Oracle              PostgreSQL           0.063104    2.553934             1.0   \n",
       "                    H2                   0.040944    1.620461             1.0   \n",
       "MySQL               SQLite               0.031513    1.129336             1.0   \n",
       "Ehcache             MySQL                0.012755    1.167513             1.0   \n",
       "PostgreSQL          SQLite               0.030843    1.225042             1.0   \n",
       "H2                  SQLite               0.032905    1.294647             1.0   \n",
       "MySQL               IBM DB2              0.032003    1.126091             1.0   \n",
       "Oracle              IBM DB2              0.039888    1.491117             1.0   \n",
       "PostgreSQL          IBM DB2              0.032261    1.226976             1.0   \n",
       "                    Ehcache              0.012342    1.083844             1.0   \n",
       "MySQL               MS SQL Server        0.023371    1.088540             1.0   \n",
       "Oracle              MS SQL Server        0.030380    1.332487             1.0   \n",
       "MySQL               SAP Adaptive Server  0.024891    1.094299             1.0   \n",
       "SQLite              Oracle               0.025226    1.552171             1.0   \n",
       "PostgreSQL          MS SQL Server        0.028112    1.190968             1.0   \n",
       "SAP Adaptive Server Oracle               0.025948    6.111675             1.0   \n",
       "Ehcache             H2                   0.010487    1.108736             1.0   \n",
       "IBM DB2             H2                   0.023268    2.527919             1.0   \n",
       "MS Access           MySQL                0.021335         inf             1.0   \n",
       "Ehcache             Oracle               0.014352    1.148811             1.0   \n",
       "MySQL               MongoDB              0.018295    1.068001             1.0   \n",
       "MS Access           Oracle               0.021516    5.238579             1.0   \n",
       "                    PostgreSQL           0.019815    4.903553             1.0   \n",
       "SQLite              MS SQL Server        0.022083    1.395478             1.0   \n",
       "SAP Adaptive Server PostgreSQL           0.018887    2.860406             1.0   \n",
       "H2                  MS Access            0.020588    1.155994             1.0   \n",
       "                    MS SQL Server        0.018990    1.143889             1.0   \n",
       "SAP Adaptive Server IBM DB2              0.023757    3.340102             1.0   \n",
       "                    H2                   0.019789    2.949239             1.0   \n",
       "\n",
       "                                         consequente_len  \n",
       "antecedents         consequents                           \n",
       "MySQL               PostgreSQL                       1.0  \n",
       "                    Oracle                           1.0  \n",
       "                    H2                               1.0  \n",
       "PostgreSQL          H2                               1.0  \n",
       "Oracle              PostgreSQL                       1.0  \n",
       "                    H2                               1.0  \n",
       "MySQL               SQLite                           1.0  \n",
       "Ehcache             MySQL                            1.0  \n",
       "PostgreSQL          SQLite                           1.0  \n",
       "H2                  SQLite                           1.0  \n",
       "MySQL               IBM DB2                          1.0  \n",
       "Oracle              IBM DB2                          1.0  \n",
       "PostgreSQL          IBM DB2                          1.0  \n",
       "                    Ehcache                          1.0  \n",
       "MySQL               MS SQL Server                    1.0  \n",
       "Oracle              MS SQL Server                    1.0  \n",
       "MySQL               SAP Adaptive Server              1.0  \n",
       "SQLite              Oracle                           1.0  \n",
       "PostgreSQL          MS SQL Server                    1.0  \n",
       "SAP Adaptive Server Oracle                           1.0  \n",
       "Ehcache             H2                               1.0  \n",
       "IBM DB2             H2                               1.0  \n",
       "MS Access           MySQL                            1.0  \n",
       "Ehcache             Oracle                           1.0  \n",
       "MySQL               MongoDB                          1.0  \n",
       "MS Access           Oracle                           1.0  \n",
       "                    PostgreSQL                       1.0  \n",
       "SQLite              MS SQL Server                    1.0  \n",
       "SAP Adaptive Server PostgreSQL                       1.0  \n",
       "H2                  MS Access                        1.0  \n",
       "                    MS SQL Server                    1.0  \n",
       "SAP Adaptive Server IBM DB2                          1.0  \n",
       "                    H2                               1.0  "
      ]
     },
     "execution_count": 116,
     "metadata": {},
     "output_type": "execute_result"
    }
   ],
   "source": [
    "# In this section we eliminate the inverted rules\n",
    "#Always run this before reset.index()\n",
    "new_index = []\n",
    "\n",
    "for index in rules1c.index:\n",
    "    if index[::-1] in new_index:\n",
    "        continue\n",
    "    new_index.append(index)\n",
    "\n",
    "\n",
    "len(new_index), len(rules1c.index)\n",
    "rules1c = rules1c.loc[new_index,:]\n",
    "rules1c"
   ]
  },
  {
   "cell_type": "code",
   "execution_count": 8,
   "metadata": {},
   "outputs": [
    {
     "data": {
      "text/html": [
       "<div>\n",
       "<style scoped>\n",
       "    .dataframe tbody tr th:only-of-type {\n",
       "        vertical-align: middle;\n",
       "    }\n",
       "\n",
       "    .dataframe tbody tr th {\n",
       "        vertical-align: top;\n",
       "    }\n",
       "\n",
       "    .dataframe thead th {\n",
       "        text-align: right;\n",
       "    }\n",
       "</style>\n",
       "<table border=\"1\" class=\"dataframe\">\n",
       "  <thead>\n",
       "    <tr style=\"text-align: right;\">\n",
       "      <th></th>\n",
       "      <th>antecedents</th>\n",
       "      <th>consequents</th>\n",
       "      <th>antecedent support</th>\n",
       "      <th>antecedent_sup_abs</th>\n",
       "      <th>consequent support</th>\n",
       "      <th>consequent_sup_abs</th>\n",
       "      <th>support</th>\n",
       "      <th>support_abs</th>\n",
       "      <th>confidence</th>\n",
       "      <th>lift</th>\n",
       "      <th>leverage</th>\n",
       "      <th>conviction</th>\n",
       "      <th>antecedent_len</th>\n",
       "      <th>consequente_len</th>\n",
       "    </tr>\n",
       "  </thead>\n",
       "  <tbody>\n",
       "    <tr>\n",
       "      <th>0</th>\n",
       "      <td>MySQL</td>\n",
       "      <td>PostgreSQL</td>\n",
       "      <td>0.299492</td>\n",
       "      <td>59.0</td>\n",
       "      <td>0.182741</td>\n",
       "      <td>36.0</td>\n",
       "      <td>0.137056</td>\n",
       "      <td>27.0</td>\n",
       "      <td>0.457627</td>\n",
       "      <td>2.504237</td>\n",
       "      <td>0.082326</td>\n",
       "      <td>1.506821</td>\n",
       "      <td>1.0</td>\n",
       "      <td>1.0</td>\n",
       "    </tr>\n",
       "    <tr>\n",
       "      <th>1</th>\n",
       "      <td>PostgreSQL</td>\n",
       "      <td>MySQL</td>\n",
       "      <td>0.182741</td>\n",
       "      <td>36.0</td>\n",
       "      <td>0.299492</td>\n",
       "      <td>59.0</td>\n",
       "      <td>0.137056</td>\n",
       "      <td>27.0</td>\n",
       "      <td>0.750000</td>\n",
       "      <td>2.504237</td>\n",
       "      <td>0.082326</td>\n",
       "      <td>2.802030</td>\n",
       "      <td>1.0</td>\n",
       "      <td>1.0</td>\n",
       "    </tr>\n",
       "    <tr>\n",
       "      <th>2</th>\n",
       "      <td>MySQL</td>\n",
       "      <td>Oracle</td>\n",
       "      <td>0.299492</td>\n",
       "      <td>59.0</td>\n",
       "      <td>0.126904</td>\n",
       "      <td>25.0</td>\n",
       "      <td>0.101523</td>\n",
       "      <td>20.0</td>\n",
       "      <td>0.338983</td>\n",
       "      <td>2.671186</td>\n",
       "      <td>0.063516</td>\n",
       "      <td>1.320838</td>\n",
       "      <td>1.0</td>\n",
       "      <td>1.0</td>\n",
       "    </tr>\n",
       "    <tr>\n",
       "      <th>3</th>\n",
       "      <td>Oracle</td>\n",
       "      <td>MySQL</td>\n",
       "      <td>0.126904</td>\n",
       "      <td>25.0</td>\n",
       "      <td>0.299492</td>\n",
       "      <td>59.0</td>\n",
       "      <td>0.101523</td>\n",
       "      <td>20.0</td>\n",
       "      <td>0.800000</td>\n",
       "      <td>2.671186</td>\n",
       "      <td>0.063516</td>\n",
       "      <td>3.502538</td>\n",
       "      <td>1.0</td>\n",
       "      <td>1.0</td>\n",
       "    </tr>\n",
       "    <tr>\n",
       "      <th>4</th>\n",
       "      <td>MySQL</td>\n",
       "      <td>H2</td>\n",
       "      <td>0.299492</td>\n",
       "      <td>59.0</td>\n",
       "      <td>0.157360</td>\n",
       "      <td>31.0</td>\n",
       "      <td>0.096447</td>\n",
       "      <td>19.0</td>\n",
       "      <td>0.322034</td>\n",
       "      <td>2.046473</td>\n",
       "      <td>0.049318</td>\n",
       "      <td>1.242893</td>\n",
       "      <td>1.0</td>\n",
       "      <td>1.0</td>\n",
       "    </tr>\n",
       "    <tr>\n",
       "      <th>...</th>\n",
       "      <td>...</td>\n",
       "      <td>...</td>\n",
       "      <td>...</td>\n",
       "      <td>...</td>\n",
       "      <td>...</td>\n",
       "      <td>...</td>\n",
       "      <td>...</td>\n",
       "      <td>...</td>\n",
       "      <td>...</td>\n",
       "      <td>...</td>\n",
       "      <td>...</td>\n",
       "      <td>...</td>\n",
       "      <td>...</td>\n",
       "      <td>...</td>\n",
       "    </tr>\n",
       "    <tr>\n",
       "      <th>61</th>\n",
       "      <td>MS SQL Server</td>\n",
       "      <td>H2</td>\n",
       "      <td>0.040609</td>\n",
       "      <td>8.0</td>\n",
       "      <td>0.157360</td>\n",
       "      <td>31.0</td>\n",
       "      <td>0.025381</td>\n",
       "      <td>5.0</td>\n",
       "      <td>0.625000</td>\n",
       "      <td>3.971774</td>\n",
       "      <td>0.018990</td>\n",
       "      <td>2.247039</td>\n",
       "      <td>1.0</td>\n",
       "      <td>1.0</td>\n",
       "    </tr>\n",
       "    <tr>\n",
       "      <th>62</th>\n",
       "      <td>IBM DB2</td>\n",
       "      <td>SAP Adaptive Server</td>\n",
       "      <td>0.045685</td>\n",
       "      <td>9.0</td>\n",
       "      <td>0.035533</td>\n",
       "      <td>7.0</td>\n",
       "      <td>0.025381</td>\n",
       "      <td>5.0</td>\n",
       "      <td>0.555556</td>\n",
       "      <td>15.634921</td>\n",
       "      <td>0.023757</td>\n",
       "      <td>2.170051</td>\n",
       "      <td>1.0</td>\n",
       "      <td>1.0</td>\n",
       "    </tr>\n",
       "    <tr>\n",
       "      <th>63</th>\n",
       "      <td>MS Access</td>\n",
       "      <td>H2</td>\n",
       "      <td>0.030457</td>\n",
       "      <td>6.0</td>\n",
       "      <td>0.157360</td>\n",
       "      <td>31.0</td>\n",
       "      <td>0.025381</td>\n",
       "      <td>5.0</td>\n",
       "      <td>0.833333</td>\n",
       "      <td>5.295699</td>\n",
       "      <td>0.020588</td>\n",
       "      <td>5.055838</td>\n",
       "      <td>1.0</td>\n",
       "      <td>1.0</td>\n",
       "    </tr>\n",
       "    <tr>\n",
       "      <th>64</th>\n",
       "      <td>PostgreSQL</td>\n",
       "      <td>MS Access</td>\n",
       "      <td>0.182741</td>\n",
       "      <td>36.0</td>\n",
       "      <td>0.030457</td>\n",
       "      <td>6.0</td>\n",
       "      <td>0.025381</td>\n",
       "      <td>5.0</td>\n",
       "      <td>0.138889</td>\n",
       "      <td>4.560185</td>\n",
       "      <td>0.019815</td>\n",
       "      <td>1.125921</td>\n",
       "      <td>1.0</td>\n",
       "      <td>1.0</td>\n",
       "    </tr>\n",
       "    <tr>\n",
       "      <th>65</th>\n",
       "      <td>Oracle</td>\n",
       "      <td>MS Access</td>\n",
       "      <td>0.126904</td>\n",
       "      <td>25.0</td>\n",
       "      <td>0.030457</td>\n",
       "      <td>6.0</td>\n",
       "      <td>0.025381</td>\n",
       "      <td>5.0</td>\n",
       "      <td>0.200000</td>\n",
       "      <td>6.566667</td>\n",
       "      <td>0.021516</td>\n",
       "      <td>1.211929</td>\n",
       "      <td>1.0</td>\n",
       "      <td>1.0</td>\n",
       "    </tr>\n",
       "  </tbody>\n",
       "</table>\n",
       "<p>66 rows × 14 columns</p>\n",
       "</div>"
      ],
      "text/plain": [
       "      antecedents          consequents  antecedent support  \\\n",
       "0           MySQL           PostgreSQL            0.299492   \n",
       "1      PostgreSQL                MySQL            0.182741   \n",
       "2           MySQL               Oracle            0.299492   \n",
       "3          Oracle                MySQL            0.126904   \n",
       "4           MySQL                   H2            0.299492   \n",
       "..            ...                  ...                 ...   \n",
       "61  MS SQL Server                   H2            0.040609   \n",
       "62        IBM DB2  SAP Adaptive Server            0.045685   \n",
       "63      MS Access                   H2            0.030457   \n",
       "64     PostgreSQL            MS Access            0.182741   \n",
       "65         Oracle            MS Access            0.126904   \n",
       "\n",
       "    antecedent_sup_abs  consequent support  consequent_sup_abs   support  \\\n",
       "0                 59.0            0.182741                36.0  0.137056   \n",
       "1                 36.0            0.299492                59.0  0.137056   \n",
       "2                 59.0            0.126904                25.0  0.101523   \n",
       "3                 25.0            0.299492                59.0  0.101523   \n",
       "4                 59.0            0.157360                31.0  0.096447   \n",
       "..                 ...                 ...                 ...       ...   \n",
       "61                 8.0            0.157360                31.0  0.025381   \n",
       "62                 9.0            0.035533                 7.0  0.025381   \n",
       "63                 6.0            0.157360                31.0  0.025381   \n",
       "64                36.0            0.030457                 6.0  0.025381   \n",
       "65                25.0            0.030457                 6.0  0.025381   \n",
       "\n",
       "    support_abs  confidence       lift  leverage  conviction  antecedent_len  \\\n",
       "0          27.0    0.457627   2.504237  0.082326    1.506821             1.0   \n",
       "1          27.0    0.750000   2.504237  0.082326    2.802030             1.0   \n",
       "2          20.0    0.338983   2.671186  0.063516    1.320838             1.0   \n",
       "3          20.0    0.800000   2.671186  0.063516    3.502538             1.0   \n",
       "4          19.0    0.322034   2.046473  0.049318    1.242893             1.0   \n",
       "..          ...         ...        ...       ...         ...             ...   \n",
       "61          5.0    0.625000   3.971774  0.018990    2.247039             1.0   \n",
       "62          5.0    0.555556  15.634921  0.023757    2.170051             1.0   \n",
       "63          5.0    0.833333   5.295699  0.020588    5.055838             1.0   \n",
       "64          5.0    0.138889   4.560185  0.019815    1.125921             1.0   \n",
       "65          5.0    0.200000   6.566667  0.021516    1.211929             1.0   \n",
       "\n",
       "    consequente_len  \n",
       "0               1.0  \n",
       "1               1.0  \n",
       "2               1.0  \n",
       "3               1.0  \n",
       "4               1.0  \n",
       "..              ...  \n",
       "61              1.0  \n",
       "62              1.0  \n",
       "63              1.0  \n",
       "64              1.0  \n",
       "65              1.0  \n",
       "\n",
       "[66 rows x 14 columns]"
      ]
     },
     "execution_count": 8,
     "metadata": {},
     "output_type": "execute_result"
    }
   ],
   "source": [
    "rules1c = rules1c.reset_index()\n",
    "rules1c"
   ]
  },
  {
   "cell_type": "code",
   "execution_count": null,
   "metadata": {},
   "outputs": [],
   "source": [
    "#if you need to generate the rules in excel\n",
    "#rules1c.to_excel('coocurrence_filters_v1.xlsx', index=False)"
   ]
  },
  {
   "attachments": {},
   "cell_type": "markdown",
   "metadata": {},
   "source": [
    "Furthermore, we found that projects tend to use MySQL, PostgreSQL, Oracle, H2, SQLite, IBM DB2, Ehcache, MS SQL Server, MongoDB, Sap Adaptive Server, and MS Access DBMS together at the beginning of the life cycle. From the middle of the life cycle to the current project cycle there is a variation in the joint usage, moving to use the DBMS Maria DB and Redis and moving away from using the Sap Adaptive Server and MS Access DBMS.\n",
    "Another relevant aspect is the existence of exchanges of DBMS during the history of the projects."
   ]
  },
  {
   "cell_type": "code",
   "execution_count": 11,
   "metadata": {},
   "outputs": [
    {
     "data": {
      "text/html": [
       "<div>\n",
       "<style scoped>\n",
       "    .dataframe tbody tr th:only-of-type {\n",
       "        vertical-align: middle;\n",
       "    }\n",
       "\n",
       "    .dataframe tbody tr th {\n",
       "        vertical-align: top;\n",
       "    }\n",
       "\n",
       "    .dataframe thead th {\n",
       "        text-align: right;\n",
       "    }\n",
       "</style>\n",
       "<table border=\"1\" class=\"dataframe\">\n",
       "  <thead>\n",
       "    <tr style=\"text-align: right;\">\n",
       "      <th></th>\n",
       "      <th>antecedent support</th>\n",
       "      <th>antecedent_sup_abs</th>\n",
       "      <th>consequent support</th>\n",
       "      <th>consequent_sup_abs</th>\n",
       "      <th>support</th>\n",
       "      <th>support_abs</th>\n",
       "      <th>confidence</th>\n",
       "      <th>lift</th>\n",
       "      <th>leverage</th>\n",
       "      <th>conviction</th>\n",
       "      <th>antecedent_len</th>\n",
       "      <th>consequente_len</th>\n",
       "    </tr>\n",
       "    <tr>\n",
       "      <th>consequents</th>\n",
       "      <th></th>\n",
       "      <th></th>\n",
       "      <th></th>\n",
       "      <th></th>\n",
       "      <th></th>\n",
       "      <th></th>\n",
       "      <th></th>\n",
       "      <th></th>\n",
       "      <th></th>\n",
       "      <th></th>\n",
       "      <th></th>\n",
       "      <th></th>\n",
       "    </tr>\n",
       "  </thead>\n",
       "  <tbody>\n",
       "    <tr>\n",
       "      <th>MySQL</th>\n",
       "      <td>0.086802</td>\n",
       "      <td>17.100000</td>\n",
       "      <td>0.299492</td>\n",
       "      <td>59.0</td>\n",
       "      <td>0.061929</td>\n",
       "      <td>12.200000</td>\n",
       "      <td>0.787540</td>\n",
       "      <td>2.629584</td>\n",
       "      <td>0.035932</td>\n",
       "      <td>NaN</td>\n",
       "      <td>1.0</td>\n",
       "      <td>1.0</td>\n",
       "    </tr>\n",
       "    <tr>\n",
       "      <th>PostgreSQL</th>\n",
       "      <td>0.104907</td>\n",
       "      <td>20.666667</td>\n",
       "      <td>0.182741</td>\n",
       "      <td>36.0</td>\n",
       "      <td>0.058094</td>\n",
       "      <td>11.444444</td>\n",
       "      <td>0.652476</td>\n",
       "      <td>3.570491</td>\n",
       "      <td>0.038923</td>\n",
       "      <td>3.407785</td>\n",
       "      <td>1.0</td>\n",
       "      <td>1.0</td>\n",
       "    </tr>\n",
       "    <tr>\n",
       "      <th>Oracle</th>\n",
       "      <td>0.111111</td>\n",
       "      <td>21.888889</td>\n",
       "      <td>0.126904</td>\n",
       "      <td>25.0</td>\n",
       "      <td>0.050197</td>\n",
       "      <td>9.888889</td>\n",
       "      <td>0.604586</td>\n",
       "      <td>4.764141</td>\n",
       "      <td>0.036097</td>\n",
       "      <td>NaN</td>\n",
       "      <td>1.0</td>\n",
       "      <td>1.0</td>\n",
       "    </tr>\n",
       "    <tr>\n",
       "      <th>H2</th>\n",
       "      <td>0.107727</td>\n",
       "      <td>21.222222</td>\n",
       "      <td>0.157360</td>\n",
       "      <td>31.0</td>\n",
       "      <td>0.047941</td>\n",
       "      <td>9.444444</td>\n",
       "      <td>0.549313</td>\n",
       "      <td>3.490797</td>\n",
       "      <td>0.030989</td>\n",
       "      <td>2.262604</td>\n",
       "      <td>1.0</td>\n",
       "      <td>1.0</td>\n",
       "    </tr>\n",
       "    <tr>\n",
       "      <th>SQLite</th>\n",
       "      <td>0.161421</td>\n",
       "      <td>31.800000</td>\n",
       "      <td>0.081218</td>\n",
       "      <td>16.0</td>\n",
       "      <td>0.041624</td>\n",
       "      <td>8.200000</td>\n",
       "      <td>0.326353</td>\n",
       "      <td>4.018217</td>\n",
       "      <td>0.028514</td>\n",
       "      <td>1.475039</td>\n",
       "      <td>1.0</td>\n",
       "      <td>1.0</td>\n",
       "    </tr>\n",
       "    <tr>\n",
       "      <th>IBM DB2</th>\n",
       "      <td>0.160406</td>\n",
       "      <td>31.600000</td>\n",
       "      <td>0.045685</td>\n",
       "      <td>9.0</td>\n",
       "      <td>0.037563</td>\n",
       "      <td>7.400000</td>\n",
       "      <td>0.328520</td>\n",
       "      <td>7.190932</td>\n",
       "      <td>0.030235</td>\n",
       "      <td>1.673527</td>\n",
       "      <td>1.0</td>\n",
       "      <td>1.0</td>\n",
       "    </tr>\n",
       "    <tr>\n",
       "      <th>Ehcache</th>\n",
       "      <td>0.191624</td>\n",
       "      <td>37.750000</td>\n",
       "      <td>0.126904</td>\n",
       "      <td>25.0</td>\n",
       "      <td>0.036802</td>\n",
       "      <td>7.250000</td>\n",
       "      <td>0.199371</td>\n",
       "      <td>1.571044</td>\n",
       "      <td>0.012484</td>\n",
       "      <td>1.091643</td>\n",
       "      <td>1.0</td>\n",
       "      <td>1.0</td>\n",
       "    </tr>\n",
       "    <tr>\n",
       "      <th>MS SQL Server</th>\n",
       "      <td>0.169543</td>\n",
       "      <td>33.400000</td>\n",
       "      <td>0.040609</td>\n",
       "      <td>8.0</td>\n",
       "      <td>0.031472</td>\n",
       "      <td>6.200000</td>\n",
       "      <td>0.213376</td>\n",
       "      <td>5.254378</td>\n",
       "      <td>0.024587</td>\n",
       "      <td>1.230272</td>\n",
       "      <td>1.0</td>\n",
       "      <td>1.0</td>\n",
       "    </tr>\n",
       "    <tr>\n",
       "      <th>MongoDB</th>\n",
       "      <td>0.299492</td>\n",
       "      <td>59.000000</td>\n",
       "      <td>0.040609</td>\n",
       "      <td>8.0</td>\n",
       "      <td>0.030457</td>\n",
       "      <td>6.000000</td>\n",
       "      <td>0.101695</td>\n",
       "      <td>2.504237</td>\n",
       "      <td>0.018295</td>\n",
       "      <td>1.068001</td>\n",
       "      <td>1.0</td>\n",
       "      <td>1.0</td>\n",
       "    </tr>\n",
       "    <tr>\n",
       "      <th>SAP Adaptive Server</th>\n",
       "      <td>0.162437</td>\n",
       "      <td>32.000000</td>\n",
       "      <td>0.035533</td>\n",
       "      <td>7.0</td>\n",
       "      <td>0.028426</td>\n",
       "      <td>5.600000</td>\n",
       "      <td>0.242876</td>\n",
       "      <td>6.835218</td>\n",
       "      <td>0.022655</td>\n",
       "      <td>1.360671</td>\n",
       "      <td>1.0</td>\n",
       "      <td>1.0</td>\n",
       "    </tr>\n",
       "    <tr>\n",
       "      <th>MS Access</th>\n",
       "      <td>0.191624</td>\n",
       "      <td>37.750000</td>\n",
       "      <td>0.030457</td>\n",
       "      <td>6.0</td>\n",
       "      <td>0.026650</td>\n",
       "      <td>5.250000</td>\n",
       "      <td>0.150469</td>\n",
       "      <td>4.940383</td>\n",
       "      <td>0.020813</td>\n",
       "      <td>1.143287</td>\n",
       "      <td>1.0</td>\n",
       "      <td>1.0</td>\n",
       "    </tr>\n",
       "  </tbody>\n",
       "</table>\n",
       "</div>"
      ],
      "text/plain": [
       "                     antecedent support  antecedent_sup_abs  \\\n",
       "consequents                                                   \n",
       "MySQL                          0.086802           17.100000   \n",
       "PostgreSQL                     0.104907           20.666667   \n",
       "Oracle                         0.111111           21.888889   \n",
       "H2                             0.107727           21.222222   \n",
       "SQLite                         0.161421           31.800000   \n",
       "IBM DB2                        0.160406           31.600000   \n",
       "Ehcache                        0.191624           37.750000   \n",
       "MS SQL Server                  0.169543           33.400000   \n",
       "MongoDB                        0.299492           59.000000   \n",
       "SAP Adaptive Server            0.162437           32.000000   \n",
       "MS Access                      0.191624           37.750000   \n",
       "\n",
       "                     consequent support  consequent_sup_abs   support  \\\n",
       "consequents                                                             \n",
       "MySQL                          0.299492                59.0  0.061929   \n",
       "PostgreSQL                     0.182741                36.0  0.058094   \n",
       "Oracle                         0.126904                25.0  0.050197   \n",
       "H2                             0.157360                31.0  0.047941   \n",
       "SQLite                         0.081218                16.0  0.041624   \n",
       "IBM DB2                        0.045685                 9.0  0.037563   \n",
       "Ehcache                        0.126904                25.0  0.036802   \n",
       "MS SQL Server                  0.040609                 8.0  0.031472   \n",
       "MongoDB                        0.040609                 8.0  0.030457   \n",
       "SAP Adaptive Server            0.035533                 7.0  0.028426   \n",
       "MS Access                      0.030457                 6.0  0.026650   \n",
       "\n",
       "                     support_abs  confidence      lift  leverage  conviction  \\\n",
       "consequents                                                                    \n",
       "MySQL                  12.200000    0.787540  2.629584  0.035932         NaN   \n",
       "PostgreSQL             11.444444    0.652476  3.570491  0.038923    3.407785   \n",
       "Oracle                  9.888889    0.604586  4.764141  0.036097         NaN   \n",
       "H2                      9.444444    0.549313  3.490797  0.030989    2.262604   \n",
       "SQLite                  8.200000    0.326353  4.018217  0.028514    1.475039   \n",
       "IBM DB2                 7.400000    0.328520  7.190932  0.030235    1.673527   \n",
       "Ehcache                 7.250000    0.199371  1.571044  0.012484    1.091643   \n",
       "MS SQL Server           6.200000    0.213376  5.254378  0.024587    1.230272   \n",
       "MongoDB                 6.000000    0.101695  2.504237  0.018295    1.068001   \n",
       "SAP Adaptive Server     5.600000    0.242876  6.835218  0.022655    1.360671   \n",
       "MS Access               5.250000    0.150469  4.940383  0.020813    1.143287   \n",
       "\n",
       "                     antecedent_len  consequente_len  \n",
       "consequents                                           \n",
       "MySQL                           1.0              1.0  \n",
       "PostgreSQL                      1.0              1.0  \n",
       "Oracle                          1.0              1.0  \n",
       "H2                              1.0              1.0  \n",
       "SQLite                          1.0              1.0  \n",
       "IBM DB2                         1.0              1.0  \n",
       "Ehcache                         1.0              1.0  \n",
       "MS SQL Server                   1.0              1.0  \n",
       "MongoDB                         1.0              1.0  \n",
       "SAP Adaptive Server             1.0              1.0  \n",
       "MS Access                       1.0              1.0  "
      ]
     },
     "execution_count": 11,
     "metadata": {},
     "output_type": "execute_result"
    }
   ],
   "source": [
    "#rules1ca = rules1c.groupby(['consequents']).mean().sort_values(['support','consequent_sup_abs',], ascending=[False,False])\n",
    "rules1ca = rules1c.groupby(['consequents']).mean().sort_values(['support'], ascending=[False])\n",
    "rules1ca"
   ]
  },
  {
   "cell_type": "code",
   "execution_count": 12,
   "metadata": {},
   "outputs": [
    {
     "data": {
      "text/html": [
       "<div>\n",
       "<style scoped>\n",
       "    .dataframe tbody tr th:only-of-type {\n",
       "        vertical-align: middle;\n",
       "    }\n",
       "\n",
       "    .dataframe tbody tr th {\n",
       "        vertical-align: top;\n",
       "    }\n",
       "\n",
       "    .dataframe thead th {\n",
       "        text-align: right;\n",
       "    }\n",
       "</style>\n",
       "<table border=\"1\" class=\"dataframe\">\n",
       "  <thead>\n",
       "    <tr style=\"text-align: right;\">\n",
       "      <th></th>\n",
       "      <th>antecedent support</th>\n",
       "      <th>antecedent_sup_abs</th>\n",
       "      <th>consequent support</th>\n",
       "      <th>consequent_sup_abs</th>\n",
       "      <th>support</th>\n",
       "      <th>support_abs</th>\n",
       "      <th>confidence</th>\n",
       "      <th>lift</th>\n",
       "      <th>leverage</th>\n",
       "      <th>conviction</th>\n",
       "      <th>antecedent_len</th>\n",
       "      <th>consequente_len</th>\n",
       "    </tr>\n",
       "    <tr>\n",
       "      <th>antecedents</th>\n",
       "      <th></th>\n",
       "      <th></th>\n",
       "      <th></th>\n",
       "      <th></th>\n",
       "      <th></th>\n",
       "      <th></th>\n",
       "      <th></th>\n",
       "      <th></th>\n",
       "      <th></th>\n",
       "      <th></th>\n",
       "      <th></th>\n",
       "      <th></th>\n",
       "    </tr>\n",
       "  </thead>\n",
       "  <tbody>\n",
       "    <tr>\n",
       "      <th>MySQL</th>\n",
       "      <td>0.299492</td>\n",
       "      <td>59.0</td>\n",
       "      <td>0.086802</td>\n",
       "      <td>17.100000</td>\n",
       "      <td>0.061929</td>\n",
       "      <td>12.200000</td>\n",
       "      <td>0.206780</td>\n",
       "      <td>2.629584</td>\n",
       "      <td>0.035932</td>\n",
       "      <td>1.170740</td>\n",
       "      <td>1.0</td>\n",
       "      <td>1.0</td>\n",
       "    </tr>\n",
       "    <tr>\n",
       "      <th>PostgreSQL</th>\n",
       "      <td>0.182741</td>\n",
       "      <td>36.0</td>\n",
       "      <td>0.104907</td>\n",
       "      <td>20.666667</td>\n",
       "      <td>0.058094</td>\n",
       "      <td>11.444444</td>\n",
       "      <td>0.317901</td>\n",
       "      <td>3.570491</td>\n",
       "      <td>0.038923</td>\n",
       "      <td>1.457153</td>\n",
       "      <td>1.0</td>\n",
       "      <td>1.0</td>\n",
       "    </tr>\n",
       "    <tr>\n",
       "      <th>Oracle</th>\n",
       "      <td>0.126904</td>\n",
       "      <td>25.0</td>\n",
       "      <td>0.111111</td>\n",
       "      <td>21.888889</td>\n",
       "      <td>0.050197</td>\n",
       "      <td>9.888889</td>\n",
       "      <td>0.395556</td>\n",
       "      <td>4.764141</td>\n",
       "      <td>0.036097</td>\n",
       "      <td>1.711822</td>\n",
       "      <td>1.0</td>\n",
       "      <td>1.0</td>\n",
       "    </tr>\n",
       "    <tr>\n",
       "      <th>H2</th>\n",
       "      <td>0.157360</td>\n",
       "      <td>31.0</td>\n",
       "      <td>0.107727</td>\n",
       "      <td>21.222222</td>\n",
       "      <td>0.047941</td>\n",
       "      <td>9.444444</td>\n",
       "      <td>0.304659</td>\n",
       "      <td>3.490797</td>\n",
       "      <td>0.030989</td>\n",
       "      <td>1.354831</td>\n",
       "      <td>1.0</td>\n",
       "      <td>1.0</td>\n",
       "    </tr>\n",
       "    <tr>\n",
       "      <th>SQLite</th>\n",
       "      <td>0.081218</td>\n",
       "      <td>16.0</td>\n",
       "      <td>0.161421</td>\n",
       "      <td>31.800000</td>\n",
       "      <td>0.041624</td>\n",
       "      <td>8.200000</td>\n",
       "      <td>0.512500</td>\n",
       "      <td>4.018217</td>\n",
       "      <td>0.028514</td>\n",
       "      <td>1.796665</td>\n",
       "      <td>1.0</td>\n",
       "      <td>1.0</td>\n",
       "    </tr>\n",
       "    <tr>\n",
       "      <th>IBM DB2</th>\n",
       "      <td>0.045685</td>\n",
       "      <td>9.0</td>\n",
       "      <td>0.160406</td>\n",
       "      <td>31.600000</td>\n",
       "      <td>0.037563</td>\n",
       "      <td>7.400000</td>\n",
       "      <td>0.822222</td>\n",
       "      <td>7.190932</td>\n",
       "      <td>0.030235</td>\n",
       "      <td>NaN</td>\n",
       "      <td>1.0</td>\n",
       "      <td>1.0</td>\n",
       "    </tr>\n",
       "    <tr>\n",
       "      <th>Ehcache</th>\n",
       "      <td>0.126904</td>\n",
       "      <td>25.0</td>\n",
       "      <td>0.191624</td>\n",
       "      <td>37.750000</td>\n",
       "      <td>0.036802</td>\n",
       "      <td>7.250000</td>\n",
       "      <td>0.290000</td>\n",
       "      <td>1.571044</td>\n",
       "      <td>0.012484</td>\n",
       "      <td>1.140035</td>\n",
       "      <td>1.0</td>\n",
       "      <td>1.0</td>\n",
       "    </tr>\n",
       "    <tr>\n",
       "      <th>MS SQL Server</th>\n",
       "      <td>0.040609</td>\n",
       "      <td>8.0</td>\n",
       "      <td>0.169543</td>\n",
       "      <td>33.400000</td>\n",
       "      <td>0.031472</td>\n",
       "      <td>6.200000</td>\n",
       "      <td>0.775000</td>\n",
       "      <td>5.254378</td>\n",
       "      <td>0.024587</td>\n",
       "      <td>4.764805</td>\n",
       "      <td>1.0</td>\n",
       "      <td>1.0</td>\n",
       "    </tr>\n",
       "    <tr>\n",
       "      <th>MongoDB</th>\n",
       "      <td>0.040609</td>\n",
       "      <td>8.0</td>\n",
       "      <td>0.299492</td>\n",
       "      <td>59.000000</td>\n",
       "      <td>0.030457</td>\n",
       "      <td>6.000000</td>\n",
       "      <td>0.750000</td>\n",
       "      <td>2.504237</td>\n",
       "      <td>0.018295</td>\n",
       "      <td>2.802030</td>\n",
       "      <td>1.0</td>\n",
       "      <td>1.0</td>\n",
       "    </tr>\n",
       "    <tr>\n",
       "      <th>SAP Adaptive Server</th>\n",
       "      <td>0.035533</td>\n",
       "      <td>7.0</td>\n",
       "      <td>0.162437</td>\n",
       "      <td>32.000000</td>\n",
       "      <td>0.028426</td>\n",
       "      <td>5.600000</td>\n",
       "      <td>0.800000</td>\n",
       "      <td>6.835218</td>\n",
       "      <td>0.022655</td>\n",
       "      <td>NaN</td>\n",
       "      <td>1.0</td>\n",
       "      <td>1.0</td>\n",
       "    </tr>\n",
       "    <tr>\n",
       "      <th>MS Access</th>\n",
       "      <td>0.030457</td>\n",
       "      <td>6.0</td>\n",
       "      <td>0.191624</td>\n",
       "      <td>37.750000</td>\n",
       "      <td>0.026650</td>\n",
       "      <td>5.250000</td>\n",
       "      <td>0.875000</td>\n",
       "      <td>4.940383</td>\n",
       "      <td>0.020813</td>\n",
       "      <td>NaN</td>\n",
       "      <td>1.0</td>\n",
       "      <td>1.0</td>\n",
       "    </tr>\n",
       "  </tbody>\n",
       "</table>\n",
       "</div>"
      ],
      "text/plain": [
       "                     antecedent support  antecedent_sup_abs  \\\n",
       "antecedents                                                   \n",
       "MySQL                          0.299492                59.0   \n",
       "PostgreSQL                     0.182741                36.0   \n",
       "Oracle                         0.126904                25.0   \n",
       "H2                             0.157360                31.0   \n",
       "SQLite                         0.081218                16.0   \n",
       "IBM DB2                        0.045685                 9.0   \n",
       "Ehcache                        0.126904                25.0   \n",
       "MS SQL Server                  0.040609                 8.0   \n",
       "MongoDB                        0.040609                 8.0   \n",
       "SAP Adaptive Server            0.035533                 7.0   \n",
       "MS Access                      0.030457                 6.0   \n",
       "\n",
       "                     consequent support  consequent_sup_abs   support  \\\n",
       "antecedents                                                             \n",
       "MySQL                          0.086802           17.100000  0.061929   \n",
       "PostgreSQL                     0.104907           20.666667  0.058094   \n",
       "Oracle                         0.111111           21.888889  0.050197   \n",
       "H2                             0.107727           21.222222  0.047941   \n",
       "SQLite                         0.161421           31.800000  0.041624   \n",
       "IBM DB2                        0.160406           31.600000  0.037563   \n",
       "Ehcache                        0.191624           37.750000  0.036802   \n",
       "MS SQL Server                  0.169543           33.400000  0.031472   \n",
       "MongoDB                        0.299492           59.000000  0.030457   \n",
       "SAP Adaptive Server            0.162437           32.000000  0.028426   \n",
       "MS Access                      0.191624           37.750000  0.026650   \n",
       "\n",
       "                     support_abs  confidence      lift  leverage  conviction  \\\n",
       "antecedents                                                                    \n",
       "MySQL                  12.200000    0.206780  2.629584  0.035932    1.170740   \n",
       "PostgreSQL             11.444444    0.317901  3.570491  0.038923    1.457153   \n",
       "Oracle                  9.888889    0.395556  4.764141  0.036097    1.711822   \n",
       "H2                      9.444444    0.304659  3.490797  0.030989    1.354831   \n",
       "SQLite                  8.200000    0.512500  4.018217  0.028514    1.796665   \n",
       "IBM DB2                 7.400000    0.822222  7.190932  0.030235         NaN   \n",
       "Ehcache                 7.250000    0.290000  1.571044  0.012484    1.140035   \n",
       "MS SQL Server           6.200000    0.775000  5.254378  0.024587    4.764805   \n",
       "MongoDB                 6.000000    0.750000  2.504237  0.018295    2.802030   \n",
       "SAP Adaptive Server     5.600000    0.800000  6.835218  0.022655         NaN   \n",
       "MS Access               5.250000    0.875000  4.940383  0.020813         NaN   \n",
       "\n",
       "                     antecedent_len  consequente_len  \n",
       "antecedents                                           \n",
       "MySQL                           1.0              1.0  \n",
       "PostgreSQL                      1.0              1.0  \n",
       "Oracle                          1.0              1.0  \n",
       "H2                              1.0              1.0  \n",
       "SQLite                          1.0              1.0  \n",
       "IBM DB2                         1.0              1.0  \n",
       "Ehcache                         1.0              1.0  \n",
       "MS SQL Server                   1.0              1.0  \n",
       "MongoDB                         1.0              1.0  \n",
       "SAP Adaptive Server             1.0              1.0  \n",
       "MS Access                       1.0              1.0  "
      ]
     },
     "execution_count": 12,
     "metadata": {},
     "output_type": "execute_result"
    }
   ],
   "source": [
    "#rules1ca = rules1c.groupby(['antecedents']).mean().sort_values(['support','antecedent_sup_abs',], ascending=[False,False])\n",
    "rules1ca = rules1c.groupby(['antecedents']).mean().sort_values(['support'], ascending=[False])\n",
    "rules1ca"
   ]
  },
  {
   "attachments": {},
   "cell_type": "markdown",
   "metadata": {},
   "source": [
    "In the first version only 11 BDs appear as used together"
   ]
  },
  {
   "cell_type": "code",
   "execution_count": null,
   "metadata": {},
   "outputs": [],
   "source": [
    "rules1cb = rules1ca[(rules1ca['support'] >= 0.02)] \n",
    "rules1cb \n",
    "#if you need to generate the rules in excel"
   ]
  },
  {
   "attachments": {},
   "cell_type": "markdown",
   "metadata": {},
   "source": [
    "This chart shows all the rules for the BDs used together in first version."
   ]
  },
  {
   "cell_type": "code",
   "execution_count": 34,
   "metadata": {},
   "outputs": [
    {
     "data": {
      "application/vnd.plotly.v1+json": {
       "config": {
        "plotlyServerURL": "https://plot.ly"
       },
       "data": [
        {
         "customdata": [
          [
           27
          ],
          [
           27
          ],
          [
           19
          ],
          [
           19
          ],
          [
           19
          ],
          [
           19
          ],
          [
           18
          ],
          [
           18
          ],
          [
           17
          ],
          [
           17
          ],
          [
           12
          ],
          [
           12
          ],
          [
           11
          ],
          [
           11
          ],
          [
           9
          ],
          [
           9
          ],
          [
           9
          ],
          [
           9
          ],
          [
           9
          ],
          [
           9
          ],
          [
           9
          ],
          [
           9
          ],
          [
           9
          ],
          [
           9
          ],
          [
           7
          ],
          [
           7
          ],
          [
           7
          ],
          [
           7
          ],
          [
           7
          ],
          [
           7
          ],
          [
           7
          ],
          [
           7
          ],
          [
           7
          ],
          [
           7
          ],
          [
           7
          ],
          [
           7
          ],
          [
           7
          ],
          [
           7
          ],
          [
           5
          ],
          [
           5
          ],
          [
           5
          ],
          [
           5
          ],
          [
           5
          ],
          [
           5
          ],
          [
           5
          ],
          [
           5
          ],
          [
           5
          ],
          [
           5
          ],
          [
           5
          ],
          [
           5
          ],
          [
           5
          ],
          [
           5
          ],
          [
           5
          ],
          [
           5
          ],
          [
           5
          ],
          [
           5
          ],
          [
           5
          ],
          [
           5
          ],
          [
           5
          ],
          [
           5
          ],
          [
           5
          ],
          [
           5
          ],
          [
           5
          ],
          [
           5
          ],
          [
           5
          ],
          [
           5
          ]
         ],
         "hovertemplate": "consequents=%{x}<br>antecedents=%{y}<br>support_abs=%{marker.color}<extra></extra>",
         "legendgroup": "",
         "marker": {
          "color": [
           27,
           27,
           19,
           19,
           19,
           19,
           18,
           18,
           17,
           17,
           12,
           12,
           11,
           11,
           9,
           9,
           9,
           9,
           9,
           9,
           9,
           9,
           9,
           9,
           7,
           7,
           7,
           7,
           7,
           7,
           7,
           7,
           7,
           7,
           7,
           7,
           7,
           7,
           5,
           5,
           5,
           5,
           5,
           5,
           5,
           5,
           5,
           5,
           5,
           5,
           5,
           5,
           5,
           5,
           5,
           5,
           5,
           5,
           5,
           5,
           5,
           5,
           5,
           5,
           5,
           5
          ],
          "coloraxis": "coloraxis",
          "size": [
           27,
           27,
           19,
           19,
           19,
           19,
           18,
           18,
           17,
           17,
           12,
           12,
           11,
           11,
           9,
           9,
           9,
           9,
           9,
           9,
           9,
           9,
           9,
           9,
           7,
           7,
           7,
           7,
           7,
           7,
           7,
           7,
           7,
           7,
           7,
           7,
           7,
           7,
           5,
           5,
           5,
           5,
           5,
           5,
           5,
           5,
           5,
           5,
           5,
           5,
           5,
           5,
           5,
           5,
           5,
           5,
           5,
           5,
           5,
           5,
           5,
           5,
           5,
           5,
           5,
           5
          ],
          "sizemode": "area",
          "sizeref": 0.0675,
          "symbol": "circle"
         },
         "mode": "markers+text",
         "name": "",
         "orientation": "v",
         "showlegend": false,
         "text": [
          27,
          27,
          19,
          19,
          19,
          19,
          18,
          18,
          17,
          17,
          12,
          12,
          11,
          11,
          9,
          9,
          9,
          9,
          9,
          9,
          9,
          9,
          9,
          9,
          7,
          7,
          7,
          7,
          7,
          7,
          7,
          7,
          7,
          7,
          7,
          7,
          7,
          7,
          5,
          5,
          5,
          5,
          5,
          5,
          5,
          5,
          5,
          5,
          5,
          5,
          5,
          5,
          5,
          5,
          5,
          5,
          5,
          5,
          5,
          5,
          5,
          5,
          5,
          5,
          5,
          5
         ],
         "type": "scatter",
         "x": [
          "PostgreSQL",
          "MySQL",
          "Oracle",
          "MySQL",
          "H2",
          "MySQL",
          "H2",
          "PostgreSQL",
          "Oracle",
          "PostgreSQL",
          "H2",
          "Oracle",
          "SQLite",
          "MySQL",
          "H2",
          "Oracle",
          "IBM DB2",
          "MySQL",
          "PostgreSQL",
          "Ehcache",
          "IBM DB2",
          "SQLite",
          "SQLite",
          "MySQL",
          "PostgreSQL",
          "PostgreSQL",
          "MySQL",
          "Oracle",
          "MS SQL Server",
          "MySQL",
          "SQLite",
          "Oracle",
          "MS SQL Server",
          "MS SQL Server",
          "Ehcache",
          "PostgreSQL",
          "IBM DB2",
          "SAP Adaptive Server",
          "H2",
          "PostgreSQL",
          "MS Access",
          "MS SQL Server",
          "IBM DB2",
          "H2",
          "SAP Adaptive Server",
          "SAP Adaptive Server",
          "MS SQL Server",
          "SAP Adaptive Server",
          "H2",
          "MS Access",
          "SQLite",
          "MS Access",
          "PostgreSQL",
          "Oracle",
          "MySQL",
          "MongoDB",
          "Ehcache",
          "IBM DB2",
          "Ehcache",
          "Oracle",
          "MySQL",
          "H2",
          "H2",
          "SAP Adaptive Server",
          "Oracle",
          "MS Access"
         ],
         "xaxis": "x",
         "y": [
          "MySQL",
          "PostgreSQL",
          "MySQL",
          "Oracle",
          "MySQL",
          "H2",
          "PostgreSQL",
          "H2",
          "PostgreSQL",
          "Oracle",
          "Oracle",
          "H2",
          "MySQL",
          "SQLite",
          "SQLite",
          "IBM DB2",
          "Oracle",
          "IBM DB2",
          "SQLite",
          "MySQL",
          "MySQL",
          "H2",
          "PostgreSQL",
          "Ehcache",
          "Ehcache",
          "MS SQL Server",
          "MS SQL Server",
          "MS SQL Server",
          "PostgreSQL",
          "SAP Adaptive Server",
          "Oracle",
          "SQLite",
          "Oracle",
          "MySQL",
          "PostgreSQL",
          "IBM DB2",
          "PostgreSQL",
          "MySQL",
          "SAP Adaptive Server",
          "SAP Adaptive Server",
          "H2",
          "H2",
          "SAP Adaptive Server",
          "MS SQL Server",
          "H2",
          "PostgreSQL",
          "SQLite",
          "IBM DB2",
          "MS Access",
          "PostgreSQL",
          "MS SQL Server",
          "MySQL",
          "MS Access",
          "MS Access",
          "MongoDB",
          "MySQL",
          "Oracle",
          "H2",
          "H2",
          "Ehcache",
          "MS Access",
          "IBM DB2",
          "Ehcache",
          "Oracle",
          "SAP Adaptive Server",
          "Oracle"
         ],
         "yaxis": "y"
        }
       ],
       "layout": {
        "coloraxis": {
         "colorbar": {
          "title": {
           "text": "support_abs"
          }
         },
         "colorscale": [
          [
           0,
           "silver"
          ],
          [
           1,
           "gray"
          ]
         ]
        },
        "height": 500,
        "legend": {
         "itemsizing": "constant",
         "tracegroupgap": 0
        },
        "template": {
         "data": {
          "bar": [
           {
            "error_x": {
             "color": "#2a3f5f"
            },
            "error_y": {
             "color": "#2a3f5f"
            },
            "marker": {
             "line": {
              "color": "#E5ECF6",
              "width": 0.5
             },
             "pattern": {
              "fillmode": "overlay",
              "size": 10,
              "solidity": 0.2
             }
            },
            "type": "bar"
           }
          ],
          "barpolar": [
           {
            "marker": {
             "line": {
              "color": "#E5ECF6",
              "width": 0.5
             },
             "pattern": {
              "fillmode": "overlay",
              "size": 10,
              "solidity": 0.2
             }
            },
            "type": "barpolar"
           }
          ],
          "carpet": [
           {
            "aaxis": {
             "endlinecolor": "#2a3f5f",
             "gridcolor": "white",
             "linecolor": "white",
             "minorgridcolor": "white",
             "startlinecolor": "#2a3f5f"
            },
            "baxis": {
             "endlinecolor": "#2a3f5f",
             "gridcolor": "white",
             "linecolor": "white",
             "minorgridcolor": "white",
             "startlinecolor": "#2a3f5f"
            },
            "type": "carpet"
           }
          ],
          "choropleth": [
           {
            "colorbar": {
             "outlinewidth": 0,
             "ticks": ""
            },
            "type": "choropleth"
           }
          ],
          "contour": [
           {
            "colorbar": {
             "outlinewidth": 0,
             "ticks": ""
            },
            "colorscale": [
             [
              0,
              "#0d0887"
             ],
             [
              0.1111111111111111,
              "#46039f"
             ],
             [
              0.2222222222222222,
              "#7201a8"
             ],
             [
              0.3333333333333333,
              "#9c179e"
             ],
             [
              0.4444444444444444,
              "#bd3786"
             ],
             [
              0.5555555555555556,
              "#d8576b"
             ],
             [
              0.6666666666666666,
              "#ed7953"
             ],
             [
              0.7777777777777778,
              "#fb9f3a"
             ],
             [
              0.8888888888888888,
              "#fdca26"
             ],
             [
              1,
              "#f0f921"
             ]
            ],
            "type": "contour"
           }
          ],
          "contourcarpet": [
           {
            "colorbar": {
             "outlinewidth": 0,
             "ticks": ""
            },
            "type": "contourcarpet"
           }
          ],
          "heatmap": [
           {
            "colorbar": {
             "outlinewidth": 0,
             "ticks": ""
            },
            "colorscale": [
             [
              0,
              "#0d0887"
             ],
             [
              0.1111111111111111,
              "#46039f"
             ],
             [
              0.2222222222222222,
              "#7201a8"
             ],
             [
              0.3333333333333333,
              "#9c179e"
             ],
             [
              0.4444444444444444,
              "#bd3786"
             ],
             [
              0.5555555555555556,
              "#d8576b"
             ],
             [
              0.6666666666666666,
              "#ed7953"
             ],
             [
              0.7777777777777778,
              "#fb9f3a"
             ],
             [
              0.8888888888888888,
              "#fdca26"
             ],
             [
              1,
              "#f0f921"
             ]
            ],
            "type": "heatmap"
           }
          ],
          "heatmapgl": [
           {
            "colorbar": {
             "outlinewidth": 0,
             "ticks": ""
            },
            "colorscale": [
             [
              0,
              "#0d0887"
             ],
             [
              0.1111111111111111,
              "#46039f"
             ],
             [
              0.2222222222222222,
              "#7201a8"
             ],
             [
              0.3333333333333333,
              "#9c179e"
             ],
             [
              0.4444444444444444,
              "#bd3786"
             ],
             [
              0.5555555555555556,
              "#d8576b"
             ],
             [
              0.6666666666666666,
              "#ed7953"
             ],
             [
              0.7777777777777778,
              "#fb9f3a"
             ],
             [
              0.8888888888888888,
              "#fdca26"
             ],
             [
              1,
              "#f0f921"
             ]
            ],
            "type": "heatmapgl"
           }
          ],
          "histogram": [
           {
            "marker": {
             "pattern": {
              "fillmode": "overlay",
              "size": 10,
              "solidity": 0.2
             }
            },
            "type": "histogram"
           }
          ],
          "histogram2d": [
           {
            "colorbar": {
             "outlinewidth": 0,
             "ticks": ""
            },
            "colorscale": [
             [
              0,
              "#0d0887"
             ],
             [
              0.1111111111111111,
              "#46039f"
             ],
             [
              0.2222222222222222,
              "#7201a8"
             ],
             [
              0.3333333333333333,
              "#9c179e"
             ],
             [
              0.4444444444444444,
              "#bd3786"
             ],
             [
              0.5555555555555556,
              "#d8576b"
             ],
             [
              0.6666666666666666,
              "#ed7953"
             ],
             [
              0.7777777777777778,
              "#fb9f3a"
             ],
             [
              0.8888888888888888,
              "#fdca26"
             ],
             [
              1,
              "#f0f921"
             ]
            ],
            "type": "histogram2d"
           }
          ],
          "histogram2dcontour": [
           {
            "colorbar": {
             "outlinewidth": 0,
             "ticks": ""
            },
            "colorscale": [
             [
              0,
              "#0d0887"
             ],
             [
              0.1111111111111111,
              "#46039f"
             ],
             [
              0.2222222222222222,
              "#7201a8"
             ],
             [
              0.3333333333333333,
              "#9c179e"
             ],
             [
              0.4444444444444444,
              "#bd3786"
             ],
             [
              0.5555555555555556,
              "#d8576b"
             ],
             [
              0.6666666666666666,
              "#ed7953"
             ],
             [
              0.7777777777777778,
              "#fb9f3a"
             ],
             [
              0.8888888888888888,
              "#fdca26"
             ],
             [
              1,
              "#f0f921"
             ]
            ],
            "type": "histogram2dcontour"
           }
          ],
          "mesh3d": [
           {
            "colorbar": {
             "outlinewidth": 0,
             "ticks": ""
            },
            "type": "mesh3d"
           }
          ],
          "parcoords": [
           {
            "line": {
             "colorbar": {
              "outlinewidth": 0,
              "ticks": ""
             }
            },
            "type": "parcoords"
           }
          ],
          "pie": [
           {
            "automargin": true,
            "type": "pie"
           }
          ],
          "scatter": [
           {
            "fillpattern": {
             "fillmode": "overlay",
             "size": 10,
             "solidity": 0.2
            },
            "type": "scatter"
           }
          ],
          "scatter3d": [
           {
            "line": {
             "colorbar": {
              "outlinewidth": 0,
              "ticks": ""
             }
            },
            "marker": {
             "colorbar": {
              "outlinewidth": 0,
              "ticks": ""
             }
            },
            "type": "scatter3d"
           }
          ],
          "scattercarpet": [
           {
            "marker": {
             "colorbar": {
              "outlinewidth": 0,
              "ticks": ""
             }
            },
            "type": "scattercarpet"
           }
          ],
          "scattergeo": [
           {
            "marker": {
             "colorbar": {
              "outlinewidth": 0,
              "ticks": ""
             }
            },
            "type": "scattergeo"
           }
          ],
          "scattergl": [
           {
            "marker": {
             "colorbar": {
              "outlinewidth": 0,
              "ticks": ""
             }
            },
            "type": "scattergl"
           }
          ],
          "scattermapbox": [
           {
            "marker": {
             "colorbar": {
              "outlinewidth": 0,
              "ticks": ""
             }
            },
            "type": "scattermapbox"
           }
          ],
          "scatterpolar": [
           {
            "marker": {
             "colorbar": {
              "outlinewidth": 0,
              "ticks": ""
             }
            },
            "type": "scatterpolar"
           }
          ],
          "scatterpolargl": [
           {
            "marker": {
             "colorbar": {
              "outlinewidth": 0,
              "ticks": ""
             }
            },
            "type": "scatterpolargl"
           }
          ],
          "scatterternary": [
           {
            "marker": {
             "colorbar": {
              "outlinewidth": 0,
              "ticks": ""
             }
            },
            "type": "scatterternary"
           }
          ],
          "surface": [
           {
            "colorbar": {
             "outlinewidth": 0,
             "ticks": ""
            },
            "colorscale": [
             [
              0,
              "#0d0887"
             ],
             [
              0.1111111111111111,
              "#46039f"
             ],
             [
              0.2222222222222222,
              "#7201a8"
             ],
             [
              0.3333333333333333,
              "#9c179e"
             ],
             [
              0.4444444444444444,
              "#bd3786"
             ],
             [
              0.5555555555555556,
              "#d8576b"
             ],
             [
              0.6666666666666666,
              "#ed7953"
             ],
             [
              0.7777777777777778,
              "#fb9f3a"
             ],
             [
              0.8888888888888888,
              "#fdca26"
             ],
             [
              1,
              "#f0f921"
             ]
            ],
            "type": "surface"
           }
          ],
          "table": [
           {
            "cells": {
             "fill": {
              "color": "#EBF0F8"
             },
             "line": {
              "color": "white"
             }
            },
            "header": {
             "fill": {
              "color": "#C8D4E3"
             },
             "line": {
              "color": "white"
             }
            },
            "type": "table"
           }
          ]
         },
         "layout": {
          "annotationdefaults": {
           "arrowcolor": "#2a3f5f",
           "arrowhead": 0,
           "arrowwidth": 1
          },
          "autotypenumbers": "strict",
          "coloraxis": {
           "colorbar": {
            "outlinewidth": 0,
            "ticks": ""
           }
          },
          "colorscale": {
           "diverging": [
            [
             0,
             "#8e0152"
            ],
            [
             0.1,
             "#c51b7d"
            ],
            [
             0.2,
             "#de77ae"
            ],
            [
             0.3,
             "#f1b6da"
            ],
            [
             0.4,
             "#fde0ef"
            ],
            [
             0.5,
             "#f7f7f7"
            ],
            [
             0.6,
             "#e6f5d0"
            ],
            [
             0.7,
             "#b8e186"
            ],
            [
             0.8,
             "#7fbc41"
            ],
            [
             0.9,
             "#4d9221"
            ],
            [
             1,
             "#276419"
            ]
           ],
           "sequential": [
            [
             0,
             "#0d0887"
            ],
            [
             0.1111111111111111,
             "#46039f"
            ],
            [
             0.2222222222222222,
             "#7201a8"
            ],
            [
             0.3333333333333333,
             "#9c179e"
            ],
            [
             0.4444444444444444,
             "#bd3786"
            ],
            [
             0.5555555555555556,
             "#d8576b"
            ],
            [
             0.6666666666666666,
             "#ed7953"
            ],
            [
             0.7777777777777778,
             "#fb9f3a"
            ],
            [
             0.8888888888888888,
             "#fdca26"
            ],
            [
             1,
             "#f0f921"
            ]
           ],
           "sequentialminus": [
            [
             0,
             "#0d0887"
            ],
            [
             0.1111111111111111,
             "#46039f"
            ],
            [
             0.2222222222222222,
             "#7201a8"
            ],
            [
             0.3333333333333333,
             "#9c179e"
            ],
            [
             0.4444444444444444,
             "#bd3786"
            ],
            [
             0.5555555555555556,
             "#d8576b"
            ],
            [
             0.6666666666666666,
             "#ed7953"
            ],
            [
             0.7777777777777778,
             "#fb9f3a"
            ],
            [
             0.8888888888888888,
             "#fdca26"
            ],
            [
             1,
             "#f0f921"
            ]
           ]
          },
          "colorway": [
           "#636efa",
           "#EF553B",
           "#00cc96",
           "#ab63fa",
           "#FFA15A",
           "#19d3f3",
           "#FF6692",
           "#B6E880",
           "#FF97FF",
           "#FECB52"
          ],
          "font": {
           "color": "#2a3f5f"
          },
          "geo": {
           "bgcolor": "white",
           "lakecolor": "white",
           "landcolor": "#E5ECF6",
           "showlakes": true,
           "showland": true,
           "subunitcolor": "white"
          },
          "hoverlabel": {
           "align": "left"
          },
          "hovermode": "closest",
          "mapbox": {
           "style": "light"
          },
          "paper_bgcolor": "white",
          "plot_bgcolor": "#E5ECF6",
          "polar": {
           "angularaxis": {
            "gridcolor": "white",
            "linecolor": "white",
            "ticks": ""
           },
           "bgcolor": "#E5ECF6",
           "radialaxis": {
            "gridcolor": "white",
            "linecolor": "white",
            "ticks": ""
           }
          },
          "scene": {
           "xaxis": {
            "backgroundcolor": "#E5ECF6",
            "gridcolor": "white",
            "gridwidth": 2,
            "linecolor": "white",
            "showbackground": true,
            "ticks": "",
            "zerolinecolor": "white"
           },
           "yaxis": {
            "backgroundcolor": "#E5ECF6",
            "gridcolor": "white",
            "gridwidth": 2,
            "linecolor": "white",
            "showbackground": true,
            "ticks": "",
            "zerolinecolor": "white"
           },
           "zaxis": {
            "backgroundcolor": "#E5ECF6",
            "gridcolor": "white",
            "gridwidth": 2,
            "linecolor": "white",
            "showbackground": true,
            "ticks": "",
            "zerolinecolor": "white"
           }
          },
          "shapedefaults": {
           "line": {
            "color": "#2a3f5f"
           }
          },
          "ternary": {
           "aaxis": {
            "gridcolor": "white",
            "linecolor": "white",
            "ticks": ""
           },
           "baxis": {
            "gridcolor": "white",
            "linecolor": "white",
            "ticks": ""
           },
           "bgcolor": "#E5ECF6",
           "caxis": {
            "gridcolor": "white",
            "linecolor": "white",
            "ticks": ""
           }
          },
          "title": {
           "x": 0.05
          },
          "xaxis": {
           "automargin": true,
           "gridcolor": "white",
           "linecolor": "white",
           "ticks": "",
           "title": {
            "standoff": 15
           },
           "zerolinecolor": "white",
           "zerolinewidth": 2
          },
          "yaxis": {
           "automargin": true,
           "gridcolor": "white",
           "linecolor": "white",
           "ticks": "",
           "title": {
            "standoff": 15
           },
           "zerolinecolor": "white",
           "zerolinewidth": 2
          }
         }
        },
        "title": {
         "text": "Correlation of the most frequent databases in first version"
        },
        "xaxis": {
         "anchor": "y",
         "domain": [
          0,
          1
         ],
         "title": {
          "text": "consequents"
         }
        },
        "yaxis": {
         "anchor": "x",
         "domain": [
          0,
          1
         ],
         "title": {
          "text": "antecedents"
         }
        }
       }
      },
      "text/html": [
       "<div>                            <div id=\"9c2e1ea6-4e02-4db0-bedf-fdb98d577c7b\" class=\"plotly-graph-div\" style=\"height:500px; width:100%;\"></div>            <script type=\"text/javascript\">                require([\"plotly\"], function(Plotly) {                    window.PLOTLYENV=window.PLOTLYENV || {};                                    if (document.getElementById(\"9c2e1ea6-4e02-4db0-bedf-fdb98d577c7b\")) {                    Plotly.newPlot(                        \"9c2e1ea6-4e02-4db0-bedf-fdb98d577c7b\",                        [{\"customdata\":[[27],[27],[19],[19],[19],[19],[18],[18],[17],[17],[12],[12],[11],[11],[9],[9],[9],[9],[9],[9],[9],[9],[9],[9],[7],[7],[7],[7],[7],[7],[7],[7],[7],[7],[7],[7],[7],[7],[5],[5],[5],[5],[5],[5],[5],[5],[5],[5],[5],[5],[5],[5],[5],[5],[5],[5],[5],[5],[5],[5],[5],[5],[5],[5],[5],[5]],\"hovertemplate\":\"consequents=%{x}<br>antecedents=%{y}<br>support_abs=%{marker.color}<extra></extra>\",\"legendgroup\":\"\",\"marker\":{\"color\":[27,27,19,19,19,19,18,18,17,17,12,12,11,11,9,9,9,9,9,9,9,9,9,9,7,7,7,7,7,7,7,7,7,7,7,7,7,7,5,5,5,5,5,5,5,5,5,5,5,5,5,5,5,5,5,5,5,5,5,5,5,5,5,5,5,5],\"coloraxis\":\"coloraxis\",\"size\":[27,27,19,19,19,19,18,18,17,17,12,12,11,11,9,9,9,9,9,9,9,9,9,9,7,7,7,7,7,7,7,7,7,7,7,7,7,7,5,5,5,5,5,5,5,5,5,5,5,5,5,5,5,5,5,5,5,5,5,5,5,5,5,5,5,5],\"sizemode\":\"area\",\"sizeref\":0.0675,\"symbol\":\"circle\"},\"mode\":\"markers+text\",\"name\":\"\",\"orientation\":\"v\",\"showlegend\":false,\"text\":[27.0,27.0,19.0,19.0,19.0,19.0,18.0,18.0,17.0,17.0,12.0,12.0,11.0,11.0,9.0,9.0,9.0,9.0,9.0,9.0,9.0,9.0,9.0,9.0,7.0,7.0,7.0,7.0,7.0,7.0,7.0,7.0,7.0,7.0,7.0,7.0,7.0,7.0,5.0,5.0,5.0,5.0,5.0,5.0,5.0,5.0,5.0,5.0,5.0,5.0,5.0,5.0,5.0,5.0,5.0,5.0,5.0,5.0,5.0,5.0,5.0,5.0,5.0,5.0,5.0,5.0],\"x\":[\"PostgreSQL\",\"MySQL\",\"Oracle\",\"MySQL\",\"H2\",\"MySQL\",\"H2\",\"PostgreSQL\",\"Oracle\",\"PostgreSQL\",\"H2\",\"Oracle\",\"SQLite\",\"MySQL\",\"H2\",\"Oracle\",\"IBM DB2\",\"MySQL\",\"PostgreSQL\",\"Ehcache\",\"IBM DB2\",\"SQLite\",\"SQLite\",\"MySQL\",\"PostgreSQL\",\"PostgreSQL\",\"MySQL\",\"Oracle\",\"MS SQL Server\",\"MySQL\",\"SQLite\",\"Oracle\",\"MS SQL Server\",\"MS SQL Server\",\"Ehcache\",\"PostgreSQL\",\"IBM DB2\",\"SAP Adaptive Server\",\"H2\",\"PostgreSQL\",\"MS Access\",\"MS SQL Server\",\"IBM DB2\",\"H2\",\"SAP Adaptive Server\",\"SAP Adaptive Server\",\"MS SQL Server\",\"SAP Adaptive Server\",\"H2\",\"MS Access\",\"SQLite\",\"MS Access\",\"PostgreSQL\",\"Oracle\",\"MySQL\",\"MongoDB\",\"Ehcache\",\"IBM DB2\",\"Ehcache\",\"Oracle\",\"MySQL\",\"H2\",\"H2\",\"SAP Adaptive Server\",\"Oracle\",\"MS Access\"],\"xaxis\":\"x\",\"y\":[\"MySQL\",\"PostgreSQL\",\"MySQL\",\"Oracle\",\"MySQL\",\"H2\",\"PostgreSQL\",\"H2\",\"PostgreSQL\",\"Oracle\",\"Oracle\",\"H2\",\"MySQL\",\"SQLite\",\"SQLite\",\"IBM DB2\",\"Oracle\",\"IBM DB2\",\"SQLite\",\"MySQL\",\"MySQL\",\"H2\",\"PostgreSQL\",\"Ehcache\",\"Ehcache\",\"MS SQL Server\",\"MS SQL Server\",\"MS SQL Server\",\"PostgreSQL\",\"SAP Adaptive Server\",\"Oracle\",\"SQLite\",\"Oracle\",\"MySQL\",\"PostgreSQL\",\"IBM DB2\",\"PostgreSQL\",\"MySQL\",\"SAP Adaptive Server\",\"SAP Adaptive Server\",\"H2\",\"H2\",\"SAP Adaptive Server\",\"MS SQL Server\",\"H2\",\"PostgreSQL\",\"SQLite\",\"IBM DB2\",\"MS Access\",\"PostgreSQL\",\"MS SQL Server\",\"MySQL\",\"MS Access\",\"MS Access\",\"MongoDB\",\"MySQL\",\"Oracle\",\"H2\",\"H2\",\"Ehcache\",\"MS Access\",\"IBM DB2\",\"Ehcache\",\"Oracle\",\"SAP Adaptive Server\",\"Oracle\"],\"yaxis\":\"y\",\"type\":\"scatter\"}],                        {\"template\":{\"data\":{\"histogram2dcontour\":[{\"type\":\"histogram2dcontour\",\"colorbar\":{\"outlinewidth\":0,\"ticks\":\"\"},\"colorscale\":[[0.0,\"#0d0887\"],[0.1111111111111111,\"#46039f\"],[0.2222222222222222,\"#7201a8\"],[0.3333333333333333,\"#9c179e\"],[0.4444444444444444,\"#bd3786\"],[0.5555555555555556,\"#d8576b\"],[0.6666666666666666,\"#ed7953\"],[0.7777777777777778,\"#fb9f3a\"],[0.8888888888888888,\"#fdca26\"],[1.0,\"#f0f921\"]]}],\"choropleth\":[{\"type\":\"choropleth\",\"colorbar\":{\"outlinewidth\":0,\"ticks\":\"\"}}],\"histogram2d\":[{\"type\":\"histogram2d\",\"colorbar\":{\"outlinewidth\":0,\"ticks\":\"\"},\"colorscale\":[[0.0,\"#0d0887\"],[0.1111111111111111,\"#46039f\"],[0.2222222222222222,\"#7201a8\"],[0.3333333333333333,\"#9c179e\"],[0.4444444444444444,\"#bd3786\"],[0.5555555555555556,\"#d8576b\"],[0.6666666666666666,\"#ed7953\"],[0.7777777777777778,\"#fb9f3a\"],[0.8888888888888888,\"#fdca26\"],[1.0,\"#f0f921\"]]}],\"heatmap\":[{\"type\":\"heatmap\",\"colorbar\":{\"outlinewidth\":0,\"ticks\":\"\"},\"colorscale\":[[0.0,\"#0d0887\"],[0.1111111111111111,\"#46039f\"],[0.2222222222222222,\"#7201a8\"],[0.3333333333333333,\"#9c179e\"],[0.4444444444444444,\"#bd3786\"],[0.5555555555555556,\"#d8576b\"],[0.6666666666666666,\"#ed7953\"],[0.7777777777777778,\"#fb9f3a\"],[0.8888888888888888,\"#fdca26\"],[1.0,\"#f0f921\"]]}],\"heatmapgl\":[{\"type\":\"heatmapgl\",\"colorbar\":{\"outlinewidth\":0,\"ticks\":\"\"},\"colorscale\":[[0.0,\"#0d0887\"],[0.1111111111111111,\"#46039f\"],[0.2222222222222222,\"#7201a8\"],[0.3333333333333333,\"#9c179e\"],[0.4444444444444444,\"#bd3786\"],[0.5555555555555556,\"#d8576b\"],[0.6666666666666666,\"#ed7953\"],[0.7777777777777778,\"#fb9f3a\"],[0.8888888888888888,\"#fdca26\"],[1.0,\"#f0f921\"]]}],\"contourcarpet\":[{\"type\":\"contourcarpet\",\"colorbar\":{\"outlinewidth\":0,\"ticks\":\"\"}}],\"contour\":[{\"type\":\"contour\",\"colorbar\":{\"outlinewidth\":0,\"ticks\":\"\"},\"colorscale\":[[0.0,\"#0d0887\"],[0.1111111111111111,\"#46039f\"],[0.2222222222222222,\"#7201a8\"],[0.3333333333333333,\"#9c179e\"],[0.4444444444444444,\"#bd3786\"],[0.5555555555555556,\"#d8576b\"],[0.6666666666666666,\"#ed7953\"],[0.7777777777777778,\"#fb9f3a\"],[0.8888888888888888,\"#fdca26\"],[1.0,\"#f0f921\"]]}],\"surface\":[{\"type\":\"surface\",\"colorbar\":{\"outlinewidth\":0,\"ticks\":\"\"},\"colorscale\":[[0.0,\"#0d0887\"],[0.1111111111111111,\"#46039f\"],[0.2222222222222222,\"#7201a8\"],[0.3333333333333333,\"#9c179e\"],[0.4444444444444444,\"#bd3786\"],[0.5555555555555556,\"#d8576b\"],[0.6666666666666666,\"#ed7953\"],[0.7777777777777778,\"#fb9f3a\"],[0.8888888888888888,\"#fdca26\"],[1.0,\"#f0f921\"]]}],\"mesh3d\":[{\"type\":\"mesh3d\",\"colorbar\":{\"outlinewidth\":0,\"ticks\":\"\"}}],\"scatter\":[{\"fillpattern\":{\"fillmode\":\"overlay\",\"size\":10,\"solidity\":0.2},\"type\":\"scatter\"}],\"parcoords\":[{\"type\":\"parcoords\",\"line\":{\"colorbar\":{\"outlinewidth\":0,\"ticks\":\"\"}}}],\"scatterpolargl\":[{\"type\":\"scatterpolargl\",\"marker\":{\"colorbar\":{\"outlinewidth\":0,\"ticks\":\"\"}}}],\"bar\":[{\"error_x\":{\"color\":\"#2a3f5f\"},\"error_y\":{\"color\":\"#2a3f5f\"},\"marker\":{\"line\":{\"color\":\"#E5ECF6\",\"width\":0.5},\"pattern\":{\"fillmode\":\"overlay\",\"size\":10,\"solidity\":0.2}},\"type\":\"bar\"}],\"scattergeo\":[{\"type\":\"scattergeo\",\"marker\":{\"colorbar\":{\"outlinewidth\":0,\"ticks\":\"\"}}}],\"scatterpolar\":[{\"type\":\"scatterpolar\",\"marker\":{\"colorbar\":{\"outlinewidth\":0,\"ticks\":\"\"}}}],\"histogram\":[{\"marker\":{\"pattern\":{\"fillmode\":\"overlay\",\"size\":10,\"solidity\":0.2}},\"type\":\"histogram\"}],\"scattergl\":[{\"type\":\"scattergl\",\"marker\":{\"colorbar\":{\"outlinewidth\":0,\"ticks\":\"\"}}}],\"scatter3d\":[{\"type\":\"scatter3d\",\"line\":{\"colorbar\":{\"outlinewidth\":0,\"ticks\":\"\"}},\"marker\":{\"colorbar\":{\"outlinewidth\":0,\"ticks\":\"\"}}}],\"scattermapbox\":[{\"type\":\"scattermapbox\",\"marker\":{\"colorbar\":{\"outlinewidth\":0,\"ticks\":\"\"}}}],\"scatterternary\":[{\"type\":\"scatterternary\",\"marker\":{\"colorbar\":{\"outlinewidth\":0,\"ticks\":\"\"}}}],\"scattercarpet\":[{\"type\":\"scattercarpet\",\"marker\":{\"colorbar\":{\"outlinewidth\":0,\"ticks\":\"\"}}}],\"carpet\":[{\"aaxis\":{\"endlinecolor\":\"#2a3f5f\",\"gridcolor\":\"white\",\"linecolor\":\"white\",\"minorgridcolor\":\"white\",\"startlinecolor\":\"#2a3f5f\"},\"baxis\":{\"endlinecolor\":\"#2a3f5f\",\"gridcolor\":\"white\",\"linecolor\":\"white\",\"minorgridcolor\":\"white\",\"startlinecolor\":\"#2a3f5f\"},\"type\":\"carpet\"}],\"table\":[{\"cells\":{\"fill\":{\"color\":\"#EBF0F8\"},\"line\":{\"color\":\"white\"}},\"header\":{\"fill\":{\"color\":\"#C8D4E3\"},\"line\":{\"color\":\"white\"}},\"type\":\"table\"}],\"barpolar\":[{\"marker\":{\"line\":{\"color\":\"#E5ECF6\",\"width\":0.5},\"pattern\":{\"fillmode\":\"overlay\",\"size\":10,\"solidity\":0.2}},\"type\":\"barpolar\"}],\"pie\":[{\"automargin\":true,\"type\":\"pie\"}]},\"layout\":{\"autotypenumbers\":\"strict\",\"colorway\":[\"#636efa\",\"#EF553B\",\"#00cc96\",\"#ab63fa\",\"#FFA15A\",\"#19d3f3\",\"#FF6692\",\"#B6E880\",\"#FF97FF\",\"#FECB52\"],\"font\":{\"color\":\"#2a3f5f\"},\"hovermode\":\"closest\",\"hoverlabel\":{\"align\":\"left\"},\"paper_bgcolor\":\"white\",\"plot_bgcolor\":\"#E5ECF6\",\"polar\":{\"bgcolor\":\"#E5ECF6\",\"angularaxis\":{\"gridcolor\":\"white\",\"linecolor\":\"white\",\"ticks\":\"\"},\"radialaxis\":{\"gridcolor\":\"white\",\"linecolor\":\"white\",\"ticks\":\"\"}},\"ternary\":{\"bgcolor\":\"#E5ECF6\",\"aaxis\":{\"gridcolor\":\"white\",\"linecolor\":\"white\",\"ticks\":\"\"},\"baxis\":{\"gridcolor\":\"white\",\"linecolor\":\"white\",\"ticks\":\"\"},\"caxis\":{\"gridcolor\":\"white\",\"linecolor\":\"white\",\"ticks\":\"\"}},\"coloraxis\":{\"colorbar\":{\"outlinewidth\":0,\"ticks\":\"\"}},\"colorscale\":{\"sequential\":[[0.0,\"#0d0887\"],[0.1111111111111111,\"#46039f\"],[0.2222222222222222,\"#7201a8\"],[0.3333333333333333,\"#9c179e\"],[0.4444444444444444,\"#bd3786\"],[0.5555555555555556,\"#d8576b\"],[0.6666666666666666,\"#ed7953\"],[0.7777777777777778,\"#fb9f3a\"],[0.8888888888888888,\"#fdca26\"],[1.0,\"#f0f921\"]],\"sequentialminus\":[[0.0,\"#0d0887\"],[0.1111111111111111,\"#46039f\"],[0.2222222222222222,\"#7201a8\"],[0.3333333333333333,\"#9c179e\"],[0.4444444444444444,\"#bd3786\"],[0.5555555555555556,\"#d8576b\"],[0.6666666666666666,\"#ed7953\"],[0.7777777777777778,\"#fb9f3a\"],[0.8888888888888888,\"#fdca26\"],[1.0,\"#f0f921\"]],\"diverging\":[[0,\"#8e0152\"],[0.1,\"#c51b7d\"],[0.2,\"#de77ae\"],[0.3,\"#f1b6da\"],[0.4,\"#fde0ef\"],[0.5,\"#f7f7f7\"],[0.6,\"#e6f5d0\"],[0.7,\"#b8e186\"],[0.8,\"#7fbc41\"],[0.9,\"#4d9221\"],[1,\"#276419\"]]},\"xaxis\":{\"gridcolor\":\"white\",\"linecolor\":\"white\",\"ticks\":\"\",\"title\":{\"standoff\":15},\"zerolinecolor\":\"white\",\"automargin\":true,\"zerolinewidth\":2},\"yaxis\":{\"gridcolor\":\"white\",\"linecolor\":\"white\",\"ticks\":\"\",\"title\":{\"standoff\":15},\"zerolinecolor\":\"white\",\"automargin\":true,\"zerolinewidth\":2},\"scene\":{\"xaxis\":{\"backgroundcolor\":\"#E5ECF6\",\"gridcolor\":\"white\",\"linecolor\":\"white\",\"showbackground\":true,\"ticks\":\"\",\"zerolinecolor\":\"white\",\"gridwidth\":2},\"yaxis\":{\"backgroundcolor\":\"#E5ECF6\",\"gridcolor\":\"white\",\"linecolor\":\"white\",\"showbackground\":true,\"ticks\":\"\",\"zerolinecolor\":\"white\",\"gridwidth\":2},\"zaxis\":{\"backgroundcolor\":\"#E5ECF6\",\"gridcolor\":\"white\",\"linecolor\":\"white\",\"showbackground\":true,\"ticks\":\"\",\"zerolinecolor\":\"white\",\"gridwidth\":2}},\"shapedefaults\":{\"line\":{\"color\":\"#2a3f5f\"}},\"annotationdefaults\":{\"arrowcolor\":\"#2a3f5f\",\"arrowhead\":0,\"arrowwidth\":1},\"geo\":{\"bgcolor\":\"white\",\"landcolor\":\"#E5ECF6\",\"subunitcolor\":\"white\",\"showland\":true,\"showlakes\":true,\"lakecolor\":\"white\"},\"title\":{\"x\":0.05},\"mapbox\":{\"style\":\"light\"}}},\"xaxis\":{\"anchor\":\"y\",\"domain\":[0.0,1.0],\"title\":{\"text\":\"consequents\"}},\"yaxis\":{\"anchor\":\"x\",\"domain\":[0.0,1.0],\"title\":{\"text\":\"antecedents\"}},\"coloraxis\":{\"colorbar\":{\"title\":{\"text\":\"support_abs\"}},\"colorscale\":[[0.0,\"silver\"],[1.0,\"gray\"]]},\"legend\":{\"tracegroupgap\":0,\"itemsizing\":\"constant\"},\"title\":{\"text\":\"Correlation of the most frequent databases in first version\"},\"height\":500},                        {\"responsive\": true}                    ).then(function(){\n",
       "                            \n",
       "var gd = document.getElementById('9c2e1ea6-4e02-4db0-bedf-fdb98d577c7b');\n",
       "var x = new MutationObserver(function (mutations, observer) {{\n",
       "        var display = window.getComputedStyle(gd).display;\n",
       "        if (!display || display === 'none') {{\n",
       "            console.log([gd, 'removed!']);\n",
       "            Plotly.purge(gd);\n",
       "            observer.disconnect();\n",
       "        }}\n",
       "}});\n",
       "\n",
       "// Listen for the removal of the full notebook cells\n",
       "var notebookContainer = gd.closest('#notebook-container');\n",
       "if (notebookContainer) {{\n",
       "    x.observe(notebookContainer, {childList: true});\n",
       "}}\n",
       "\n",
       "// Listen for the clearing of the current output cell\n",
       "var outputEl = gd.closest('.output');\n",
       "if (outputEl) {{\n",
       "    x.observe(outputEl, {childList: true});\n",
       "}}\n",
       "\n",
       "                        })                };                });            </script>        </div>"
      ]
     },
     "metadata": {},
     "output_type": "display_data"
    }
   ],
   "source": [
    "#Graph generated with all the rules without the support filter\n",
    "import plotly.express as px \n",
    "#data = rules1c.sort_values(['support_abs'], ascending=[False])\n",
    "rules1c['support_abs'] = rules1c['support_abs'].astype(int)\n",
    "#df = px.data.gapminder('support_abs')\n",
    "fig = px.scatter(rules1c.sort_values(['support_abs'], ascending=[False]), x=\"consequents\", y=\"antecedents\", \n",
    "size = \"support_abs\", color=\"support_abs\", title='Correlation of the most frequent databases in first version',\n",
    "hover_data=['support_abs'],color_continuous_scale = [\"silver\",\"gray\"],height=500, text='support_abs')\n",
    "#fig.add_annotation(text= 'hover_data')\n",
    "                  #xref=\"antecedent_support\", yref=\"consequent_support\",\n",
    "                 #x=0.3, y=0.3, showarrow=False)\n",
    "#fig.update_traces(textposition='inside')\n",
    "#fig.title('Correlation of the most frequent databases')\n",
    "fig.show()"
   ]
  },
  {
   "cell_type": "code",
   "execution_count": 118,
   "metadata": {},
   "outputs": [
    {
     "data": {
      "application/vnd.plotly.v1+json": {
       "config": {
        "plotlyServerURL": "https://plot.ly"
       },
       "data": [
        {
         "customdata": [
          [
           27
          ],
          [
           19
          ],
          [
           19
          ],
          [
           18
          ],
          [
           17
          ],
          [
           12
          ],
          [
           11
          ],
          [
           9
          ],
          [
           9
          ],
          [
           9
          ],
          [
           9
          ],
          [
           9
          ],
          [
           7
          ],
          [
           7
          ],
          [
           7
          ],
          [
           7
          ],
          [
           7
          ],
          [
           7
          ],
          [
           7
          ],
          [
           5
          ],
          [
           5
          ],
          [
           5
          ],
          [
           5
          ],
          [
           5
          ],
          [
           5
          ],
          [
           5
          ],
          [
           5
          ],
          [
           5
          ],
          [
           5
          ],
          [
           5
          ],
          [
           5
          ],
          [
           5
          ],
          [
           5
          ]
         ],
         "hovertemplate": "consequents=%{x}<br>antecedents=%{y}<br>support_abs=%{marker.color}<extra></extra>",
         "legendgroup": "",
         "marker": {
          "color": [
           27,
           19,
           19,
           18,
           17,
           12,
           11,
           9,
           9,
           9,
           9,
           9,
           7,
           7,
           7,
           7,
           7,
           7,
           7,
           5,
           5,
           5,
           5,
           5,
           5,
           5,
           5,
           5,
           5,
           5,
           5,
           5,
           5
          ],
          "coloraxis": "coloraxis",
          "size": [
           27,
           19,
           19,
           18,
           17,
           12,
           11,
           9,
           9,
           9,
           9,
           9,
           7,
           7,
           7,
           7,
           7,
           7,
           7,
           5,
           5,
           5,
           5,
           5,
           5,
           5,
           5,
           5,
           5,
           5,
           5,
           5,
           5
          ],
          "sizemode": "area",
          "sizeref": 0.0675,
          "symbol": "circle"
         },
         "mode": "markers+text",
         "name": "",
         "orientation": "v",
         "showlegend": false,
         "text": [
          27,
          19,
          19,
          18,
          17,
          12,
          11,
          9,
          9,
          9,
          9,
          9,
          7,
          7,
          7,
          7,
          7,
          7,
          7,
          5,
          5,
          5,
          5,
          5,
          5,
          5,
          5,
          5,
          5,
          5,
          5,
          5,
          5
         ],
         "type": "scatter",
         "x": [
          "PostgreSQL",
          "H2",
          "Oracle",
          "H2",
          "PostgreSQL",
          "H2",
          "SQLite",
          "MySQL",
          "SQLite",
          "SQLite",
          "IBM DB2",
          "IBM DB2",
          "MS SQL Server",
          "MS SQL Server",
          "Oracle",
          "SAP Adaptive Server",
          "MS SQL Server",
          "IBM DB2",
          "Ehcache",
          "PostgreSQL",
          "IBM DB2",
          "MS SQL Server",
          "MS Access",
          "PostgreSQL",
          "MS SQL Server",
          "MongoDB",
          "Oracle",
          "Oracle",
          "MySQL",
          "H2",
          "H2",
          "Oracle",
          "H2"
         ],
         "xaxis": "x",
         "y": [
          "MySQL",
          "MySQL",
          "MySQL",
          "PostgreSQL",
          "Oracle",
          "Oracle",
          "MySQL",
          "Ehcache",
          "PostgreSQL",
          "H2",
          "MySQL",
          "Oracle",
          "Oracle",
          "PostgreSQL",
          "SQLite",
          "MySQL",
          "MySQL",
          "PostgreSQL",
          "PostgreSQL",
          "MS Access",
          "SAP Adaptive Server",
          "H2",
          "H2",
          "SAP Adaptive Server",
          "SQLite",
          "MySQL",
          "MS Access",
          "Ehcache",
          "MS Access",
          "IBM DB2",
          "Ehcache",
          "SAP Adaptive Server",
          "SAP Adaptive Server"
         ],
         "yaxis": "y"
        }
       ],
       "layout": {
        "coloraxis": {
         "colorbar": {
          "title": {
           "text": "support_abs"
          }
         },
         "colorscale": [
          [
           0,
           "silver"
          ],
          [
           1,
           "gray"
          ]
         ]
        },
        "legend": {
         "itemsizing": "constant",
         "tracegroupgap": 0
        },
        "template": {
         "data": {
          "bar": [
           {
            "error_x": {
             "color": "#2a3f5f"
            },
            "error_y": {
             "color": "#2a3f5f"
            },
            "marker": {
             "line": {
              "color": "#E5ECF6",
              "width": 0.5
             },
             "pattern": {
              "fillmode": "overlay",
              "size": 10,
              "solidity": 0.2
             }
            },
            "type": "bar"
           }
          ],
          "barpolar": [
           {
            "marker": {
             "line": {
              "color": "#E5ECF6",
              "width": 0.5
             },
             "pattern": {
              "fillmode": "overlay",
              "size": 10,
              "solidity": 0.2
             }
            },
            "type": "barpolar"
           }
          ],
          "carpet": [
           {
            "aaxis": {
             "endlinecolor": "#2a3f5f",
             "gridcolor": "white",
             "linecolor": "white",
             "minorgridcolor": "white",
             "startlinecolor": "#2a3f5f"
            },
            "baxis": {
             "endlinecolor": "#2a3f5f",
             "gridcolor": "white",
             "linecolor": "white",
             "minorgridcolor": "white",
             "startlinecolor": "#2a3f5f"
            },
            "type": "carpet"
           }
          ],
          "choropleth": [
           {
            "colorbar": {
             "outlinewidth": 0,
             "ticks": ""
            },
            "type": "choropleth"
           }
          ],
          "contour": [
           {
            "colorbar": {
             "outlinewidth": 0,
             "ticks": ""
            },
            "colorscale": [
             [
              0,
              "#0d0887"
             ],
             [
              0.1111111111111111,
              "#46039f"
             ],
             [
              0.2222222222222222,
              "#7201a8"
             ],
             [
              0.3333333333333333,
              "#9c179e"
             ],
             [
              0.4444444444444444,
              "#bd3786"
             ],
             [
              0.5555555555555556,
              "#d8576b"
             ],
             [
              0.6666666666666666,
              "#ed7953"
             ],
             [
              0.7777777777777778,
              "#fb9f3a"
             ],
             [
              0.8888888888888888,
              "#fdca26"
             ],
             [
              1,
              "#f0f921"
             ]
            ],
            "type": "contour"
           }
          ],
          "contourcarpet": [
           {
            "colorbar": {
             "outlinewidth": 0,
             "ticks": ""
            },
            "type": "contourcarpet"
           }
          ],
          "heatmap": [
           {
            "colorbar": {
             "outlinewidth": 0,
             "ticks": ""
            },
            "colorscale": [
             [
              0,
              "#0d0887"
             ],
             [
              0.1111111111111111,
              "#46039f"
             ],
             [
              0.2222222222222222,
              "#7201a8"
             ],
             [
              0.3333333333333333,
              "#9c179e"
             ],
             [
              0.4444444444444444,
              "#bd3786"
             ],
             [
              0.5555555555555556,
              "#d8576b"
             ],
             [
              0.6666666666666666,
              "#ed7953"
             ],
             [
              0.7777777777777778,
              "#fb9f3a"
             ],
             [
              0.8888888888888888,
              "#fdca26"
             ],
             [
              1,
              "#f0f921"
             ]
            ],
            "type": "heatmap"
           }
          ],
          "heatmapgl": [
           {
            "colorbar": {
             "outlinewidth": 0,
             "ticks": ""
            },
            "colorscale": [
             [
              0,
              "#0d0887"
             ],
             [
              0.1111111111111111,
              "#46039f"
             ],
             [
              0.2222222222222222,
              "#7201a8"
             ],
             [
              0.3333333333333333,
              "#9c179e"
             ],
             [
              0.4444444444444444,
              "#bd3786"
             ],
             [
              0.5555555555555556,
              "#d8576b"
             ],
             [
              0.6666666666666666,
              "#ed7953"
             ],
             [
              0.7777777777777778,
              "#fb9f3a"
             ],
             [
              0.8888888888888888,
              "#fdca26"
             ],
             [
              1,
              "#f0f921"
             ]
            ],
            "type": "heatmapgl"
           }
          ],
          "histogram": [
           {
            "marker": {
             "pattern": {
              "fillmode": "overlay",
              "size": 10,
              "solidity": 0.2
             }
            },
            "type": "histogram"
           }
          ],
          "histogram2d": [
           {
            "colorbar": {
             "outlinewidth": 0,
             "ticks": ""
            },
            "colorscale": [
             [
              0,
              "#0d0887"
             ],
             [
              0.1111111111111111,
              "#46039f"
             ],
             [
              0.2222222222222222,
              "#7201a8"
             ],
             [
              0.3333333333333333,
              "#9c179e"
             ],
             [
              0.4444444444444444,
              "#bd3786"
             ],
             [
              0.5555555555555556,
              "#d8576b"
             ],
             [
              0.6666666666666666,
              "#ed7953"
             ],
             [
              0.7777777777777778,
              "#fb9f3a"
             ],
             [
              0.8888888888888888,
              "#fdca26"
             ],
             [
              1,
              "#f0f921"
             ]
            ],
            "type": "histogram2d"
           }
          ],
          "histogram2dcontour": [
           {
            "colorbar": {
             "outlinewidth": 0,
             "ticks": ""
            },
            "colorscale": [
             [
              0,
              "#0d0887"
             ],
             [
              0.1111111111111111,
              "#46039f"
             ],
             [
              0.2222222222222222,
              "#7201a8"
             ],
             [
              0.3333333333333333,
              "#9c179e"
             ],
             [
              0.4444444444444444,
              "#bd3786"
             ],
             [
              0.5555555555555556,
              "#d8576b"
             ],
             [
              0.6666666666666666,
              "#ed7953"
             ],
             [
              0.7777777777777778,
              "#fb9f3a"
             ],
             [
              0.8888888888888888,
              "#fdca26"
             ],
             [
              1,
              "#f0f921"
             ]
            ],
            "type": "histogram2dcontour"
           }
          ],
          "mesh3d": [
           {
            "colorbar": {
             "outlinewidth": 0,
             "ticks": ""
            },
            "type": "mesh3d"
           }
          ],
          "parcoords": [
           {
            "line": {
             "colorbar": {
              "outlinewidth": 0,
              "ticks": ""
             }
            },
            "type": "parcoords"
           }
          ],
          "pie": [
           {
            "automargin": true,
            "type": "pie"
           }
          ],
          "scatter": [
           {
            "fillpattern": {
             "fillmode": "overlay",
             "size": 10,
             "solidity": 0.2
            },
            "type": "scatter"
           }
          ],
          "scatter3d": [
           {
            "line": {
             "colorbar": {
              "outlinewidth": 0,
              "ticks": ""
             }
            },
            "marker": {
             "colorbar": {
              "outlinewidth": 0,
              "ticks": ""
             }
            },
            "type": "scatter3d"
           }
          ],
          "scattercarpet": [
           {
            "marker": {
             "colorbar": {
              "outlinewidth": 0,
              "ticks": ""
             }
            },
            "type": "scattercarpet"
           }
          ],
          "scattergeo": [
           {
            "marker": {
             "colorbar": {
              "outlinewidth": 0,
              "ticks": ""
             }
            },
            "type": "scattergeo"
           }
          ],
          "scattergl": [
           {
            "marker": {
             "colorbar": {
              "outlinewidth": 0,
              "ticks": ""
             }
            },
            "type": "scattergl"
           }
          ],
          "scattermapbox": [
           {
            "marker": {
             "colorbar": {
              "outlinewidth": 0,
              "ticks": ""
             }
            },
            "type": "scattermapbox"
           }
          ],
          "scatterpolar": [
           {
            "marker": {
             "colorbar": {
              "outlinewidth": 0,
              "ticks": ""
             }
            },
            "type": "scatterpolar"
           }
          ],
          "scatterpolargl": [
           {
            "marker": {
             "colorbar": {
              "outlinewidth": 0,
              "ticks": ""
             }
            },
            "type": "scatterpolargl"
           }
          ],
          "scatterternary": [
           {
            "marker": {
             "colorbar": {
              "outlinewidth": 0,
              "ticks": ""
             }
            },
            "type": "scatterternary"
           }
          ],
          "surface": [
           {
            "colorbar": {
             "outlinewidth": 0,
             "ticks": ""
            },
            "colorscale": [
             [
              0,
              "#0d0887"
             ],
             [
              0.1111111111111111,
              "#46039f"
             ],
             [
              0.2222222222222222,
              "#7201a8"
             ],
             [
              0.3333333333333333,
              "#9c179e"
             ],
             [
              0.4444444444444444,
              "#bd3786"
             ],
             [
              0.5555555555555556,
              "#d8576b"
             ],
             [
              0.6666666666666666,
              "#ed7953"
             ],
             [
              0.7777777777777778,
              "#fb9f3a"
             ],
             [
              0.8888888888888888,
              "#fdca26"
             ],
             [
              1,
              "#f0f921"
             ]
            ],
            "type": "surface"
           }
          ],
          "table": [
           {
            "cells": {
             "fill": {
              "color": "#EBF0F8"
             },
             "line": {
              "color": "white"
             }
            },
            "header": {
             "fill": {
              "color": "#C8D4E3"
             },
             "line": {
              "color": "white"
             }
            },
            "type": "table"
           }
          ]
         },
         "layout": {
          "annotationdefaults": {
           "arrowcolor": "#2a3f5f",
           "arrowhead": 0,
           "arrowwidth": 1
          },
          "autotypenumbers": "strict",
          "coloraxis": {
           "colorbar": {
            "outlinewidth": 0,
            "ticks": ""
           }
          },
          "colorscale": {
           "diverging": [
            [
             0,
             "#8e0152"
            ],
            [
             0.1,
             "#c51b7d"
            ],
            [
             0.2,
             "#de77ae"
            ],
            [
             0.3,
             "#f1b6da"
            ],
            [
             0.4,
             "#fde0ef"
            ],
            [
             0.5,
             "#f7f7f7"
            ],
            [
             0.6,
             "#e6f5d0"
            ],
            [
             0.7,
             "#b8e186"
            ],
            [
             0.8,
             "#7fbc41"
            ],
            [
             0.9,
             "#4d9221"
            ],
            [
             1,
             "#276419"
            ]
           ],
           "sequential": [
            [
             0,
             "#0d0887"
            ],
            [
             0.1111111111111111,
             "#46039f"
            ],
            [
             0.2222222222222222,
             "#7201a8"
            ],
            [
             0.3333333333333333,
             "#9c179e"
            ],
            [
             0.4444444444444444,
             "#bd3786"
            ],
            [
             0.5555555555555556,
             "#d8576b"
            ],
            [
             0.6666666666666666,
             "#ed7953"
            ],
            [
             0.7777777777777778,
             "#fb9f3a"
            ],
            [
             0.8888888888888888,
             "#fdca26"
            ],
            [
             1,
             "#f0f921"
            ]
           ],
           "sequentialminus": [
            [
             0,
             "#0d0887"
            ],
            [
             0.1111111111111111,
             "#46039f"
            ],
            [
             0.2222222222222222,
             "#7201a8"
            ],
            [
             0.3333333333333333,
             "#9c179e"
            ],
            [
             0.4444444444444444,
             "#bd3786"
            ],
            [
             0.5555555555555556,
             "#d8576b"
            ],
            [
             0.6666666666666666,
             "#ed7953"
            ],
            [
             0.7777777777777778,
             "#fb9f3a"
            ],
            [
             0.8888888888888888,
             "#fdca26"
            ],
            [
             1,
             "#f0f921"
            ]
           ]
          },
          "colorway": [
           "#636efa",
           "#EF553B",
           "#00cc96",
           "#ab63fa",
           "#FFA15A",
           "#19d3f3",
           "#FF6692",
           "#B6E880",
           "#FF97FF",
           "#FECB52"
          ],
          "font": {
           "color": "#2a3f5f"
          },
          "geo": {
           "bgcolor": "white",
           "lakecolor": "white",
           "landcolor": "#E5ECF6",
           "showlakes": true,
           "showland": true,
           "subunitcolor": "white"
          },
          "hoverlabel": {
           "align": "left"
          },
          "hovermode": "closest",
          "mapbox": {
           "style": "light"
          },
          "paper_bgcolor": "white",
          "plot_bgcolor": "#E5ECF6",
          "polar": {
           "angularaxis": {
            "gridcolor": "white",
            "linecolor": "white",
            "ticks": ""
           },
           "bgcolor": "#E5ECF6",
           "radialaxis": {
            "gridcolor": "white",
            "linecolor": "white",
            "ticks": ""
           }
          },
          "scene": {
           "xaxis": {
            "backgroundcolor": "#E5ECF6",
            "gridcolor": "white",
            "gridwidth": 2,
            "linecolor": "white",
            "showbackground": true,
            "ticks": "",
            "zerolinecolor": "white"
           },
           "yaxis": {
            "backgroundcolor": "#E5ECF6",
            "gridcolor": "white",
            "gridwidth": 2,
            "linecolor": "white",
            "showbackground": true,
            "ticks": "",
            "zerolinecolor": "white"
           },
           "zaxis": {
            "backgroundcolor": "#E5ECF6",
            "gridcolor": "white",
            "gridwidth": 2,
            "linecolor": "white",
            "showbackground": true,
            "ticks": "",
            "zerolinecolor": "white"
           }
          },
          "shapedefaults": {
           "line": {
            "color": "#2a3f5f"
           }
          },
          "ternary": {
           "aaxis": {
            "gridcolor": "white",
            "linecolor": "white",
            "ticks": ""
           },
           "baxis": {
            "gridcolor": "white",
            "linecolor": "white",
            "ticks": ""
           },
           "bgcolor": "#E5ECF6",
           "caxis": {
            "gridcolor": "white",
            "linecolor": "white",
            "ticks": ""
           }
          },
          "title": {
           "x": 0.05
          },
          "xaxis": {
           "automargin": true,
           "gridcolor": "white",
           "linecolor": "white",
           "ticks": "",
           "title": {
            "standoff": 15
           },
           "zerolinecolor": "white",
           "zerolinewidth": 2
          },
          "yaxis": {
           "automargin": true,
           "gridcolor": "white",
           "linecolor": "white",
           "ticks": "",
           "title": {
            "standoff": 15
           },
           "zerolinecolor": "white",
           "zerolinewidth": 2
          }
         }
        },
        "title": {
         "text": "Correlation of the most frequent databases in the first version"
        },
        "xaxis": {
         "anchor": "y",
         "domain": [
          0,
          1
         ],
         "title": {
          "text": "consequents"
         }
        },
        "yaxis": {
         "anchor": "x",
         "domain": [
          0,
          1
         ],
         "title": {
          "text": "antecedents"
         }
        }
       }
      },
      "text/html": [
       "<div>                            <div id=\"ad480f79-8aaf-43ac-971f-d0bfb19768b1\" class=\"plotly-graph-div\" style=\"height:525px; width:100%;\"></div>            <script type=\"text/javascript\">                require([\"plotly\"], function(Plotly) {                    window.PLOTLYENV=window.PLOTLYENV || {};                                    if (document.getElementById(\"ad480f79-8aaf-43ac-971f-d0bfb19768b1\")) {                    Plotly.newPlot(                        \"ad480f79-8aaf-43ac-971f-d0bfb19768b1\",                        [{\"customdata\":[[27],[19],[19],[18],[17],[12],[11],[9],[9],[9],[9],[9],[7],[7],[7],[7],[7],[7],[7],[5],[5],[5],[5],[5],[5],[5],[5],[5],[5],[5],[5],[5],[5]],\"hovertemplate\":\"consequents=%{x}<br>antecedents=%{y}<br>support_abs=%{marker.color}<extra></extra>\",\"legendgroup\":\"\",\"marker\":{\"color\":[27,19,19,18,17,12,11,9,9,9,9,9,7,7,7,7,7,7,7,5,5,5,5,5,5,5,5,5,5,5,5,5,5],\"coloraxis\":\"coloraxis\",\"size\":[27,19,19,18,17,12,11,9,9,9,9,9,7,7,7,7,7,7,7,5,5,5,5,5,5,5,5,5,5,5,5,5,5],\"sizemode\":\"area\",\"sizeref\":0.0675,\"symbol\":\"circle\"},\"mode\":\"markers+text\",\"name\":\"\",\"orientation\":\"v\",\"showlegend\":false,\"text\":[27.0,19.0,19.0,18.0,17.0,12.0,11.0,9.0,9.0,9.0,9.0,9.0,7.0,7.0,7.0,7.0,7.0,7.0,7.0,5.0,5.0,5.0,5.0,5.0,5.0,5.0,5.0,5.0,5.0,5.0,5.0,5.0,5.0],\"x\":[\"PostgreSQL\",\"H2\",\"Oracle\",\"H2\",\"PostgreSQL\",\"H2\",\"SQLite\",\"MySQL\",\"SQLite\",\"SQLite\",\"IBM DB2\",\"IBM DB2\",\"MS SQL Server\",\"MS SQL Server\",\"Oracle\",\"SAP Adaptive Server\",\"MS SQL Server\",\"IBM DB2\",\"Ehcache\",\"PostgreSQL\",\"IBM DB2\",\"MS SQL Server\",\"MS Access\",\"PostgreSQL\",\"MS SQL Server\",\"MongoDB\",\"Oracle\",\"Oracle\",\"MySQL\",\"H2\",\"H2\",\"Oracle\",\"H2\"],\"xaxis\":\"x\",\"y\":[\"MySQL\",\"MySQL\",\"MySQL\",\"PostgreSQL\",\"Oracle\",\"Oracle\",\"MySQL\",\"Ehcache\",\"PostgreSQL\",\"H2\",\"MySQL\",\"Oracle\",\"Oracle\",\"PostgreSQL\",\"SQLite\",\"MySQL\",\"MySQL\",\"PostgreSQL\",\"PostgreSQL\",\"MS Access\",\"SAP Adaptive Server\",\"H2\",\"H2\",\"SAP Adaptive Server\",\"SQLite\",\"MySQL\",\"MS Access\",\"Ehcache\",\"MS Access\",\"IBM DB2\",\"Ehcache\",\"SAP Adaptive Server\",\"SAP Adaptive Server\"],\"yaxis\":\"y\",\"type\":\"scatter\"}],                        {\"template\":{\"data\":{\"histogram2dcontour\":[{\"type\":\"histogram2dcontour\",\"colorbar\":{\"outlinewidth\":0,\"ticks\":\"\"},\"colorscale\":[[0.0,\"#0d0887\"],[0.1111111111111111,\"#46039f\"],[0.2222222222222222,\"#7201a8\"],[0.3333333333333333,\"#9c179e\"],[0.4444444444444444,\"#bd3786\"],[0.5555555555555556,\"#d8576b\"],[0.6666666666666666,\"#ed7953\"],[0.7777777777777778,\"#fb9f3a\"],[0.8888888888888888,\"#fdca26\"],[1.0,\"#f0f921\"]]}],\"choropleth\":[{\"type\":\"choropleth\",\"colorbar\":{\"outlinewidth\":0,\"ticks\":\"\"}}],\"histogram2d\":[{\"type\":\"histogram2d\",\"colorbar\":{\"outlinewidth\":0,\"ticks\":\"\"},\"colorscale\":[[0.0,\"#0d0887\"],[0.1111111111111111,\"#46039f\"],[0.2222222222222222,\"#7201a8\"],[0.3333333333333333,\"#9c179e\"],[0.4444444444444444,\"#bd3786\"],[0.5555555555555556,\"#d8576b\"],[0.6666666666666666,\"#ed7953\"],[0.7777777777777778,\"#fb9f3a\"],[0.8888888888888888,\"#fdca26\"],[1.0,\"#f0f921\"]]}],\"heatmap\":[{\"type\":\"heatmap\",\"colorbar\":{\"outlinewidth\":0,\"ticks\":\"\"},\"colorscale\":[[0.0,\"#0d0887\"],[0.1111111111111111,\"#46039f\"],[0.2222222222222222,\"#7201a8\"],[0.3333333333333333,\"#9c179e\"],[0.4444444444444444,\"#bd3786\"],[0.5555555555555556,\"#d8576b\"],[0.6666666666666666,\"#ed7953\"],[0.7777777777777778,\"#fb9f3a\"],[0.8888888888888888,\"#fdca26\"],[1.0,\"#f0f921\"]]}],\"heatmapgl\":[{\"type\":\"heatmapgl\",\"colorbar\":{\"outlinewidth\":0,\"ticks\":\"\"},\"colorscale\":[[0.0,\"#0d0887\"],[0.1111111111111111,\"#46039f\"],[0.2222222222222222,\"#7201a8\"],[0.3333333333333333,\"#9c179e\"],[0.4444444444444444,\"#bd3786\"],[0.5555555555555556,\"#d8576b\"],[0.6666666666666666,\"#ed7953\"],[0.7777777777777778,\"#fb9f3a\"],[0.8888888888888888,\"#fdca26\"],[1.0,\"#f0f921\"]]}],\"contourcarpet\":[{\"type\":\"contourcarpet\",\"colorbar\":{\"outlinewidth\":0,\"ticks\":\"\"}}],\"contour\":[{\"type\":\"contour\",\"colorbar\":{\"outlinewidth\":0,\"ticks\":\"\"},\"colorscale\":[[0.0,\"#0d0887\"],[0.1111111111111111,\"#46039f\"],[0.2222222222222222,\"#7201a8\"],[0.3333333333333333,\"#9c179e\"],[0.4444444444444444,\"#bd3786\"],[0.5555555555555556,\"#d8576b\"],[0.6666666666666666,\"#ed7953\"],[0.7777777777777778,\"#fb9f3a\"],[0.8888888888888888,\"#fdca26\"],[1.0,\"#f0f921\"]]}],\"surface\":[{\"type\":\"surface\",\"colorbar\":{\"outlinewidth\":0,\"ticks\":\"\"},\"colorscale\":[[0.0,\"#0d0887\"],[0.1111111111111111,\"#46039f\"],[0.2222222222222222,\"#7201a8\"],[0.3333333333333333,\"#9c179e\"],[0.4444444444444444,\"#bd3786\"],[0.5555555555555556,\"#d8576b\"],[0.6666666666666666,\"#ed7953\"],[0.7777777777777778,\"#fb9f3a\"],[0.8888888888888888,\"#fdca26\"],[1.0,\"#f0f921\"]]}],\"mesh3d\":[{\"type\":\"mesh3d\",\"colorbar\":{\"outlinewidth\":0,\"ticks\":\"\"}}],\"scatter\":[{\"fillpattern\":{\"fillmode\":\"overlay\",\"size\":10,\"solidity\":0.2},\"type\":\"scatter\"}],\"parcoords\":[{\"type\":\"parcoords\",\"line\":{\"colorbar\":{\"outlinewidth\":0,\"ticks\":\"\"}}}],\"scatterpolargl\":[{\"type\":\"scatterpolargl\",\"marker\":{\"colorbar\":{\"outlinewidth\":0,\"ticks\":\"\"}}}],\"bar\":[{\"error_x\":{\"color\":\"#2a3f5f\"},\"error_y\":{\"color\":\"#2a3f5f\"},\"marker\":{\"line\":{\"color\":\"#E5ECF6\",\"width\":0.5},\"pattern\":{\"fillmode\":\"overlay\",\"size\":10,\"solidity\":0.2}},\"type\":\"bar\"}],\"scattergeo\":[{\"type\":\"scattergeo\",\"marker\":{\"colorbar\":{\"outlinewidth\":0,\"ticks\":\"\"}}}],\"scatterpolar\":[{\"type\":\"scatterpolar\",\"marker\":{\"colorbar\":{\"outlinewidth\":0,\"ticks\":\"\"}}}],\"histogram\":[{\"marker\":{\"pattern\":{\"fillmode\":\"overlay\",\"size\":10,\"solidity\":0.2}},\"type\":\"histogram\"}],\"scattergl\":[{\"type\":\"scattergl\",\"marker\":{\"colorbar\":{\"outlinewidth\":0,\"ticks\":\"\"}}}],\"scatter3d\":[{\"type\":\"scatter3d\",\"line\":{\"colorbar\":{\"outlinewidth\":0,\"ticks\":\"\"}},\"marker\":{\"colorbar\":{\"outlinewidth\":0,\"ticks\":\"\"}}}],\"scattermapbox\":[{\"type\":\"scattermapbox\",\"marker\":{\"colorbar\":{\"outlinewidth\":0,\"ticks\":\"\"}}}],\"scatterternary\":[{\"type\":\"scatterternary\",\"marker\":{\"colorbar\":{\"outlinewidth\":0,\"ticks\":\"\"}}}],\"scattercarpet\":[{\"type\":\"scattercarpet\",\"marker\":{\"colorbar\":{\"outlinewidth\":0,\"ticks\":\"\"}}}],\"carpet\":[{\"aaxis\":{\"endlinecolor\":\"#2a3f5f\",\"gridcolor\":\"white\",\"linecolor\":\"white\",\"minorgridcolor\":\"white\",\"startlinecolor\":\"#2a3f5f\"},\"baxis\":{\"endlinecolor\":\"#2a3f5f\",\"gridcolor\":\"white\",\"linecolor\":\"white\",\"minorgridcolor\":\"white\",\"startlinecolor\":\"#2a3f5f\"},\"type\":\"carpet\"}],\"table\":[{\"cells\":{\"fill\":{\"color\":\"#EBF0F8\"},\"line\":{\"color\":\"white\"}},\"header\":{\"fill\":{\"color\":\"#C8D4E3\"},\"line\":{\"color\":\"white\"}},\"type\":\"table\"}],\"barpolar\":[{\"marker\":{\"line\":{\"color\":\"#E5ECF6\",\"width\":0.5},\"pattern\":{\"fillmode\":\"overlay\",\"size\":10,\"solidity\":0.2}},\"type\":\"barpolar\"}],\"pie\":[{\"automargin\":true,\"type\":\"pie\"}]},\"layout\":{\"autotypenumbers\":\"strict\",\"colorway\":[\"#636efa\",\"#EF553B\",\"#00cc96\",\"#ab63fa\",\"#FFA15A\",\"#19d3f3\",\"#FF6692\",\"#B6E880\",\"#FF97FF\",\"#FECB52\"],\"font\":{\"color\":\"#2a3f5f\"},\"hovermode\":\"closest\",\"hoverlabel\":{\"align\":\"left\"},\"paper_bgcolor\":\"white\",\"plot_bgcolor\":\"#E5ECF6\",\"polar\":{\"bgcolor\":\"#E5ECF6\",\"angularaxis\":{\"gridcolor\":\"white\",\"linecolor\":\"white\",\"ticks\":\"\"},\"radialaxis\":{\"gridcolor\":\"white\",\"linecolor\":\"white\",\"ticks\":\"\"}},\"ternary\":{\"bgcolor\":\"#E5ECF6\",\"aaxis\":{\"gridcolor\":\"white\",\"linecolor\":\"white\",\"ticks\":\"\"},\"baxis\":{\"gridcolor\":\"white\",\"linecolor\":\"white\",\"ticks\":\"\"},\"caxis\":{\"gridcolor\":\"white\",\"linecolor\":\"white\",\"ticks\":\"\"}},\"coloraxis\":{\"colorbar\":{\"outlinewidth\":0,\"ticks\":\"\"}},\"colorscale\":{\"sequential\":[[0.0,\"#0d0887\"],[0.1111111111111111,\"#46039f\"],[0.2222222222222222,\"#7201a8\"],[0.3333333333333333,\"#9c179e\"],[0.4444444444444444,\"#bd3786\"],[0.5555555555555556,\"#d8576b\"],[0.6666666666666666,\"#ed7953\"],[0.7777777777777778,\"#fb9f3a\"],[0.8888888888888888,\"#fdca26\"],[1.0,\"#f0f921\"]],\"sequentialminus\":[[0.0,\"#0d0887\"],[0.1111111111111111,\"#46039f\"],[0.2222222222222222,\"#7201a8\"],[0.3333333333333333,\"#9c179e\"],[0.4444444444444444,\"#bd3786\"],[0.5555555555555556,\"#d8576b\"],[0.6666666666666666,\"#ed7953\"],[0.7777777777777778,\"#fb9f3a\"],[0.8888888888888888,\"#fdca26\"],[1.0,\"#f0f921\"]],\"diverging\":[[0,\"#8e0152\"],[0.1,\"#c51b7d\"],[0.2,\"#de77ae\"],[0.3,\"#f1b6da\"],[0.4,\"#fde0ef\"],[0.5,\"#f7f7f7\"],[0.6,\"#e6f5d0\"],[0.7,\"#b8e186\"],[0.8,\"#7fbc41\"],[0.9,\"#4d9221\"],[1,\"#276419\"]]},\"xaxis\":{\"gridcolor\":\"white\",\"linecolor\":\"white\",\"ticks\":\"\",\"title\":{\"standoff\":15},\"zerolinecolor\":\"white\",\"automargin\":true,\"zerolinewidth\":2},\"yaxis\":{\"gridcolor\":\"white\",\"linecolor\":\"white\",\"ticks\":\"\",\"title\":{\"standoff\":15},\"zerolinecolor\":\"white\",\"automargin\":true,\"zerolinewidth\":2},\"scene\":{\"xaxis\":{\"backgroundcolor\":\"#E5ECF6\",\"gridcolor\":\"white\",\"linecolor\":\"white\",\"showbackground\":true,\"ticks\":\"\",\"zerolinecolor\":\"white\",\"gridwidth\":2},\"yaxis\":{\"backgroundcolor\":\"#E5ECF6\",\"gridcolor\":\"white\",\"linecolor\":\"white\",\"showbackground\":true,\"ticks\":\"\",\"zerolinecolor\":\"white\",\"gridwidth\":2},\"zaxis\":{\"backgroundcolor\":\"#E5ECF6\",\"gridcolor\":\"white\",\"linecolor\":\"white\",\"showbackground\":true,\"ticks\":\"\",\"zerolinecolor\":\"white\",\"gridwidth\":2}},\"shapedefaults\":{\"line\":{\"color\":\"#2a3f5f\"}},\"annotationdefaults\":{\"arrowcolor\":\"#2a3f5f\",\"arrowhead\":0,\"arrowwidth\":1},\"geo\":{\"bgcolor\":\"white\",\"landcolor\":\"#E5ECF6\",\"subunitcolor\":\"white\",\"showland\":true,\"showlakes\":true,\"lakecolor\":\"white\"},\"title\":{\"x\":0.05},\"mapbox\":{\"style\":\"light\"}}},\"xaxis\":{\"anchor\":\"y\",\"domain\":[0.0,1.0],\"title\":{\"text\":\"consequents\"}},\"yaxis\":{\"anchor\":\"x\",\"domain\":[0.0,1.0],\"title\":{\"text\":\"antecedents\"}},\"coloraxis\":{\"colorbar\":{\"title\":{\"text\":\"support_abs\"}},\"colorscale\":[[0.0,\"silver\"],[1.0,\"gray\"]]},\"legend\":{\"tracegroupgap\":0,\"itemsizing\":\"constant\"},\"title\":{\"text\":\"Correlation of the most frequent databases in the first version\"}},                        {\"responsive\": true}                    ).then(function(){\n",
       "                            \n",
       "var gd = document.getElementById('ad480f79-8aaf-43ac-971f-d0bfb19768b1');\n",
       "var x = new MutationObserver(function (mutations, observer) {{\n",
       "        var display = window.getComputedStyle(gd).display;\n",
       "        if (!display || display === 'none') {{\n",
       "            console.log([gd, 'removed!']);\n",
       "            Plotly.purge(gd);\n",
       "            observer.disconnect();\n",
       "        }}\n",
       "}});\n",
       "\n",
       "// Listen for the removal of the full notebook cells\n",
       "var notebookContainer = gd.closest('#notebook-container');\n",
       "if (notebookContainer) {{\n",
       "    x.observe(notebookContainer, {childList: true});\n",
       "}}\n",
       "\n",
       "// Listen for the clearing of the current output cell\n",
       "var outputEl = gd.closest('.output');\n",
       "if (outputEl) {{\n",
       "    x.observe(outputEl, {childList: true});\n",
       "}}\n",
       "\n",
       "                        })                };                });            </script>        </div>"
      ]
     },
     "metadata": {},
     "output_type": "display_data"
    }
   ],
   "source": [
    "#Test showing the rules without repetitions and without function ordering.\n",
    "import plotly.express as px \n",
    "#rules1cd = rules1c[(rules1c['support'] >= 0.04) & (rules1c['support_abs'] != 0)] \n",
    "rules1c['support_abs'] = rules1c['support_abs'].astype(int)\n",
    "#fig = px.scatter(rules1c.groupby(['antecedent_sup_abs','consequent_sup_abs']).mean().sort_values(['support_abs',], ascending=[False]),\n",
    "#.sort_values(['support_abs'], ascending=[False])\n",
    "fig = px.scatter(rules1c.sort_values(['support_abs'], ascending=[False]), x=\"consequents\", y=\"antecedents\", \n",
    "#x=\"consequents\", y=\"antecedents\", \n",
    "size='support_abs',  color=\"support_abs\", title='Correlation of the most frequent databases in the first version',\n",
    "hover_data=['support_abs'], color_continuous_scale = [\"silver\",\"gray\"], text='support_abs')\n",
    "#fig.title('Correlation of the most frequent databases')\n",
    "fig.show()"
   ]
  },
  {
   "cell_type": "code",
   "execution_count": 25,
   "metadata": {},
   "outputs": [
    {
     "data": {
      "text/html": [
       "<div>\n",
       "<style scoped>\n",
       "    .dataframe tbody tr th:only-of-type {\n",
       "        vertical-align: middle;\n",
       "    }\n",
       "\n",
       "    .dataframe tbody tr th {\n",
       "        vertical-align: top;\n",
       "    }\n",
       "\n",
       "    .dataframe thead th {\n",
       "        text-align: right;\n",
       "    }\n",
       "</style>\n",
       "<table border=\"1\" class=\"dataframe\">\n",
       "  <thead>\n",
       "    <tr style=\"text-align: right;\">\n",
       "      <th></th>\n",
       "      <th>antecedents</th>\n",
       "      <th>consequents</th>\n",
       "      <th>antecedent support</th>\n",
       "      <th>antecedent_sup_abs</th>\n",
       "      <th>consequent support</th>\n",
       "      <th>consequent_sup_abs</th>\n",
       "      <th>support</th>\n",
       "      <th>support_abs</th>\n",
       "      <th>confidence</th>\n",
       "      <th>lift</th>\n",
       "      <th>leverage</th>\n",
       "      <th>conviction</th>\n",
       "      <th>antecedent_len</th>\n",
       "      <th>consequente_len</th>\n",
       "    </tr>\n",
       "  </thead>\n",
       "  <tbody>\n",
       "    <tr>\n",
       "      <th>0</th>\n",
       "      <td>MySQL</td>\n",
       "      <td>PostgreSQL</td>\n",
       "      <td>0.299492</td>\n",
       "      <td>59.0</td>\n",
       "      <td>0.182741</td>\n",
       "      <td>36.0</td>\n",
       "      <td>0.137056</td>\n",
       "      <td>27.0</td>\n",
       "      <td>0.457627</td>\n",
       "      <td>2.504237</td>\n",
       "      <td>0.082326</td>\n",
       "      <td>1.506821</td>\n",
       "      <td>1.0</td>\n",
       "      <td>1.0</td>\n",
       "    </tr>\n",
       "    <tr>\n",
       "      <th>2</th>\n",
       "      <td>MySQL</td>\n",
       "      <td>Oracle</td>\n",
       "      <td>0.299492</td>\n",
       "      <td>59.0</td>\n",
       "      <td>0.126904</td>\n",
       "      <td>25.0</td>\n",
       "      <td>0.101523</td>\n",
       "      <td>20.0</td>\n",
       "      <td>0.338983</td>\n",
       "      <td>2.671186</td>\n",
       "      <td>0.063516</td>\n",
       "      <td>1.320838</td>\n",
       "      <td>1.0</td>\n",
       "      <td>1.0</td>\n",
       "    </tr>\n",
       "    <tr>\n",
       "      <th>4</th>\n",
       "      <td>MySQL</td>\n",
       "      <td>H2</td>\n",
       "      <td>0.299492</td>\n",
       "      <td>59.0</td>\n",
       "      <td>0.157360</td>\n",
       "      <td>31.0</td>\n",
       "      <td>0.096447</td>\n",
       "      <td>19.0</td>\n",
       "      <td>0.322034</td>\n",
       "      <td>2.046473</td>\n",
       "      <td>0.049318</td>\n",
       "      <td>1.242893</td>\n",
       "      <td>1.0</td>\n",
       "      <td>1.0</td>\n",
       "    </tr>\n",
       "    <tr>\n",
       "      <th>12</th>\n",
       "      <td>MySQL</td>\n",
       "      <td>SQLite</td>\n",
       "      <td>0.299492</td>\n",
       "      <td>59.0</td>\n",
       "      <td>0.081218</td>\n",
       "      <td>16.0</td>\n",
       "      <td>0.055838</td>\n",
       "      <td>11.0</td>\n",
       "      <td>0.186441</td>\n",
       "      <td>2.295551</td>\n",
       "      <td>0.031513</td>\n",
       "      <td>1.129336</td>\n",
       "      <td>1.0</td>\n",
       "      <td>1.0</td>\n",
       "    </tr>\n",
       "    <tr>\n",
       "      <th>15</th>\n",
       "      <td>MySQL</td>\n",
       "      <td>Ehcache</td>\n",
       "      <td>0.299492</td>\n",
       "      <td>59.0</td>\n",
       "      <td>0.126904</td>\n",
       "      <td>25.0</td>\n",
       "      <td>0.050761</td>\n",
       "      <td>10.0</td>\n",
       "      <td>0.169492</td>\n",
       "      <td>1.335593</td>\n",
       "      <td>0.012755</td>\n",
       "      <td>1.051279</td>\n",
       "      <td>1.0</td>\n",
       "      <td>1.0</td>\n",
       "    </tr>\n",
       "    <tr>\n",
       "      <th>...</th>\n",
       "      <td>...</td>\n",
       "      <td>...</td>\n",
       "      <td>...</td>\n",
       "      <td>...</td>\n",
       "      <td>...</td>\n",
       "      <td>...</td>\n",
       "      <td>...</td>\n",
       "      <td>...</td>\n",
       "      <td>...</td>\n",
       "      <td>...</td>\n",
       "      <td>...</td>\n",
       "      <td>...</td>\n",
       "      <td>...</td>\n",
       "      <td>...</td>\n",
       "    </tr>\n",
       "    <tr>\n",
       "      <th>49</th>\n",
       "      <td>MongoDB</td>\n",
       "      <td>MySQL</td>\n",
       "      <td>0.040609</td>\n",
       "      <td>8.0</td>\n",
       "      <td>0.299492</td>\n",
       "      <td>59.0</td>\n",
       "      <td>0.030457</td>\n",
       "      <td>6.0</td>\n",
       "      <td>0.750000</td>\n",
       "      <td>2.504237</td>\n",
       "      <td>0.018295</td>\n",
       "      <td>2.802030</td>\n",
       "      <td>1.0</td>\n",
       "      <td>1.0</td>\n",
       "    </tr>\n",
       "    <tr>\n",
       "      <th>42</th>\n",
       "      <td>MS Access</td>\n",
       "      <td>MySQL</td>\n",
       "      <td>0.030457</td>\n",
       "      <td>6.0</td>\n",
       "      <td>0.299492</td>\n",
       "      <td>59.0</td>\n",
       "      <td>0.030457</td>\n",
       "      <td>6.0</td>\n",
       "      <td>1.000000</td>\n",
       "      <td>3.338983</td>\n",
       "      <td>0.021335</td>\n",
       "      <td>inf</td>\n",
       "      <td>1.0</td>\n",
       "      <td>1.0</td>\n",
       "    </tr>\n",
       "    <tr>\n",
       "      <th>51</th>\n",
       "      <td>MS Access</td>\n",
       "      <td>PostgreSQL</td>\n",
       "      <td>0.030457</td>\n",
       "      <td>6.0</td>\n",
       "      <td>0.182741</td>\n",
       "      <td>36.0</td>\n",
       "      <td>0.025381</td>\n",
       "      <td>5.0</td>\n",
       "      <td>0.833333</td>\n",
       "      <td>4.560185</td>\n",
       "      <td>0.019815</td>\n",
       "      <td>4.903553</td>\n",
       "      <td>1.0</td>\n",
       "      <td>1.0</td>\n",
       "    </tr>\n",
       "    <tr>\n",
       "      <th>50</th>\n",
       "      <td>MS Access</td>\n",
       "      <td>Oracle</td>\n",
       "      <td>0.030457</td>\n",
       "      <td>6.0</td>\n",
       "      <td>0.126904</td>\n",
       "      <td>25.0</td>\n",
       "      <td>0.025381</td>\n",
       "      <td>5.0</td>\n",
       "      <td>0.833333</td>\n",
       "      <td>6.566667</td>\n",
       "      <td>0.021516</td>\n",
       "      <td>5.238579</td>\n",
       "      <td>1.0</td>\n",
       "      <td>1.0</td>\n",
       "    </tr>\n",
       "    <tr>\n",
       "      <th>63</th>\n",
       "      <td>MS Access</td>\n",
       "      <td>H2</td>\n",
       "      <td>0.030457</td>\n",
       "      <td>6.0</td>\n",
       "      <td>0.157360</td>\n",
       "      <td>31.0</td>\n",
       "      <td>0.025381</td>\n",
       "      <td>5.0</td>\n",
       "      <td>0.833333</td>\n",
       "      <td>5.295699</td>\n",
       "      <td>0.020588</td>\n",
       "      <td>5.055838</td>\n",
       "      <td>1.0</td>\n",
       "      <td>1.0</td>\n",
       "    </tr>\n",
       "  </tbody>\n",
       "</table>\n",
       "<p>66 rows × 14 columns</p>\n",
       "</div>"
      ],
      "text/plain": [
       "   antecedents consequents  antecedent support  antecedent_sup_abs  \\\n",
       "0        MySQL  PostgreSQL            0.299492                59.0   \n",
       "2        MySQL      Oracle            0.299492                59.0   \n",
       "4        MySQL          H2            0.299492                59.0   \n",
       "12       MySQL      SQLite            0.299492                59.0   \n",
       "15       MySQL     Ehcache            0.299492                59.0   \n",
       "..         ...         ...                 ...                 ...   \n",
       "49     MongoDB       MySQL            0.040609                 8.0   \n",
       "42   MS Access       MySQL            0.030457                 6.0   \n",
       "51   MS Access  PostgreSQL            0.030457                 6.0   \n",
       "50   MS Access      Oracle            0.030457                 6.0   \n",
       "63   MS Access          H2            0.030457                 6.0   \n",
       "\n",
       "    consequent support  consequent_sup_abs   support  support_abs  confidence  \\\n",
       "0             0.182741                36.0  0.137056         27.0    0.457627   \n",
       "2             0.126904                25.0  0.101523         20.0    0.338983   \n",
       "4             0.157360                31.0  0.096447         19.0    0.322034   \n",
       "12            0.081218                16.0  0.055838         11.0    0.186441   \n",
       "15            0.126904                25.0  0.050761         10.0    0.169492   \n",
       "..                 ...                 ...       ...          ...         ...   \n",
       "49            0.299492                59.0  0.030457          6.0    0.750000   \n",
       "42            0.299492                59.0  0.030457          6.0    1.000000   \n",
       "51            0.182741                36.0  0.025381          5.0    0.833333   \n",
       "50            0.126904                25.0  0.025381          5.0    0.833333   \n",
       "63            0.157360                31.0  0.025381          5.0    0.833333   \n",
       "\n",
       "        lift  leverage  conviction  antecedent_len  consequente_len  \n",
       "0   2.504237  0.082326    1.506821             1.0              1.0  \n",
       "2   2.671186  0.063516    1.320838             1.0              1.0  \n",
       "4   2.046473  0.049318    1.242893             1.0              1.0  \n",
       "12  2.295551  0.031513    1.129336             1.0              1.0  \n",
       "15  1.335593  0.012755    1.051279             1.0              1.0  \n",
       "..       ...       ...         ...             ...              ...  \n",
       "49  2.504237  0.018295    2.802030             1.0              1.0  \n",
       "42  3.338983  0.021335         inf             1.0              1.0  \n",
       "51  4.560185  0.019815    4.903553             1.0              1.0  \n",
       "50  6.566667  0.021516    5.238579             1.0              1.0  \n",
       "63  5.295699  0.020588    5.055838             1.0              1.0  \n",
       "\n",
       "[66 rows x 14 columns]"
      ]
     },
     "execution_count": 25,
     "metadata": {},
     "output_type": "execute_result"
    }
   ],
   "source": [
    "#In this section the dataframe is ordered\n",
    "orules1c = rules1c.sort_values(['support_abs'], ascending=[False])\n",
    "\n",
    "order = {}\n",
    "current = 1\n",
    "for index, row in orules1c.iterrows():\n",
    "    if row['antecedents'] not in order:\n",
    "        order[row['antecedents']] = current\n",
    "        current += 1\n",
    "for index, row in orules1c.iterrows():\n",
    "    if row['consequents'] not in order:\n",
    "        order[row['consequents']] = current\n",
    "        current += 1\n",
    "#function ordering\n",
    "def order_fn(x):\n",
    "    if x.name == 'support_abs':\n",
    "        return x\n",
    "    return x.apply(lambda element: order[element])\n",
    "\n",
    "orules1c = orules1c.sort_values(by=['antecedents', 'consequents', 'support_abs'], key=order_fn)\n",
    "\n",
    "orules1c['consequents'] = pd.Categorical(orules1c['consequents'], order.keys())\n",
    "orules1c['antecedents'] = pd.Categorical(orules1c['antecedents'], order.keys())\n",
    "orules1c\n",
    "#order"
   ]
  },
  {
   "cell_type": "code",
   "execution_count": 26,
   "metadata": {},
   "outputs": [],
   "source": [
    "#if you need to generate the rules in excel\n",
    "rules_filterv1 = orules1c.to_excel('rules_filtersv1_order.xlsx', index=False)"
   ]
  },
  {
   "attachments": {},
   "cell_type": "markdown",
   "metadata": {},
   "source": [
    "Test generating the sorted heatmap after the ordering function"
   ]
  },
  {
   "cell_type": "code",
   "execution_count": 10,
   "metadata": {},
   "outputs": [
    {
     "data": {
      "image/png": "[encoded data removed]",
      "text/plain": [
       "<Figure size 864x864 with 2 Axes>"
      ]
     },
     "metadata": {
      "needs_background": "light"
     },
     "output_type": "display_data"
    }
   ],
   "source": [
    "#Generating a heatmap without repetitions, with function ordering, following the tip:\n",
    "# generate the complete heatmap with the y axis inverted and\n",
    "# use the parameter mask=np.triu(np.ones_like(df)) in sns.heatmap\n",
    "import seaborn as sns\n",
    "pivot = orules1c.pivot(index='antecedents', columns='consequents', values='support_abs')\n",
    "#pivot = pivot.iloc[::-1]\n",
    "sns.heatmap(pivot, xticklabels=True, yticklabels=True, cmap=sns.color_palette(\"light:b\", as_cmap=True), annot=True,\n",
    "    mask=np.triu(np.ones_like(pivot)))\n",
    "fig = plt.gcf()\n",
    "fig.set_size_inches(12, 12)"
   ]
  },
  {
   "cell_type": "code",
   "execution_count": 120,
   "metadata": {},
   "outputs": [
    {
     "data": {
      "application/vnd.plotly.v1+json": {
       "config": {
        "plotlyServerURL": "https://plot.ly"
       },
       "data": [
        {
         "customdata": [
          [
           27
          ],
          [
           19
          ],
          [
           19
          ],
          [
           18
          ],
          [
           17
          ],
          [
           12
          ],
          [
           11
          ],
          [
           9
          ],
          [
           9
          ],
          [
           9
          ],
          [
           9
          ],
          [
           9
          ],
          [
           7
          ],
          [
           7
          ],
          [
           7
          ],
          [
           7
          ],
          [
           7
          ],
          [
           7
          ],
          [
           7
          ],
          [
           5
          ],
          [
           5
          ],
          [
           5
          ],
          [
           5
          ],
          [
           5
          ],
          [
           5
          ],
          [
           5
          ],
          [
           5
          ],
          [
           5
          ],
          [
           5
          ],
          [
           5
          ],
          [
           5
          ],
          [
           5
          ],
          [
           5
          ]
         ],
         "hovertemplate": "consequents=%{x}<br>antecedents=%{y}<br>support_abs=%{marker.color}<extra></extra>",
         "legendgroup": "",
         "marker": {
          "color": [
           27,
           19,
           19,
           18,
           17,
           12,
           11,
           9,
           9,
           9,
           9,
           9,
           7,
           7,
           7,
           7,
           7,
           7,
           7,
           5,
           5,
           5,
           5,
           5,
           5,
           5,
           5,
           5,
           5,
           5,
           5,
           5,
           5
          ],
          "coloraxis": "coloraxis",
          "size": [
           27,
           19,
           19,
           18,
           17,
           12,
           11,
           9,
           9,
           9,
           9,
           9,
           7,
           7,
           7,
           7,
           7,
           7,
           7,
           5,
           5,
           5,
           5,
           5,
           5,
           5,
           5,
           5,
           5,
           5,
           5,
           5,
           5
          ],
          "sizemode": "area",
          "sizeref": 0.0675,
          "symbol": "circle"
         },
         "mode": "markers+text",
         "name": "",
         "orientation": "v",
         "showlegend": false,
         "text": [
          27,
          19,
          19,
          18,
          17,
          12,
          11,
          9,
          9,
          9,
          9,
          9,
          7,
          7,
          7,
          7,
          7,
          7,
          7,
          5,
          5,
          5,
          5,
          5,
          5,
          5,
          5,
          5,
          5,
          5,
          5,
          5,
          5
         ],
         "type": "scatter",
         "x": [
          "PostgreSQL",
          "H2",
          "Oracle",
          "H2",
          "PostgreSQL",
          "H2",
          "SQLite",
          "IBM DB2",
          "SQLite",
          "MySQL",
          "SQLite",
          "IBM DB2",
          "Oracle",
          "MS SQL Server",
          "MS SQL Server",
          "MS SQL Server",
          "IBM DB2",
          "SAP Adaptive Server",
          "Ehcache",
          "Oracle",
          "H2",
          "MongoDB",
          "MS Access",
          "MS SQL Server",
          "MS SQL Server",
          "MySQL",
          "PostgreSQL",
          "Oracle",
          "PostgreSQL",
          "Oracle",
          "H2",
          "IBM DB2",
          "H2"
         ],
         "xaxis": "x",
         "y": [
          "MySQL",
          "MySQL",
          "MySQL",
          "PostgreSQL",
          "Oracle",
          "Oracle",
          "MySQL",
          "MySQL",
          "H2",
          "Ehcache",
          "PostgreSQL",
          "Oracle",
          "SQLite",
          "Oracle",
          "PostgreSQL",
          "MySQL",
          "PostgreSQL",
          "MySQL",
          "PostgreSQL",
          "Ehcache",
          "Ehcache",
          "MySQL",
          "H2",
          "H2",
          "SQLite",
          "MS Access",
          "MS Access",
          "MS Access",
          "SAP Adaptive Server",
          "SAP Adaptive Server",
          "SAP Adaptive Server",
          "SAP Adaptive Server",
          "IBM DB2"
         ],
         "yaxis": "y"
        }
       ],
       "layout": {
        "coloraxis": {
         "colorbar": {
          "title": {
           "text": "support_abs"
          }
         },
         "colorscale": [
          [
           0,
           "silver"
          ],
          [
           1,
           "gray"
          ]
         ]
        },
        "legend": {
         "itemsizing": "constant",
         "tracegroupgap": 0
        },
        "template": {
         "data": {
          "bar": [
           {
            "error_x": {
             "color": "#2a3f5f"
            },
            "error_y": {
             "color": "#2a3f5f"
            },
            "marker": {
             "line": {
              "color": "#E5ECF6",
              "width": 0.5
             },
             "pattern": {
              "fillmode": "overlay",
              "size": 10,
              "solidity": 0.2
             }
            },
            "type": "bar"
           }
          ],
          "barpolar": [
           {
            "marker": {
             "line": {
              "color": "#E5ECF6",
              "width": 0.5
             },
             "pattern": {
              "fillmode": "overlay",
              "size": 10,
              "solidity": 0.2
             }
            },
            "type": "barpolar"
           }
          ],
          "carpet": [
           {
            "aaxis": {
             "endlinecolor": "#2a3f5f",
             "gridcolor": "white",
             "linecolor": "white",
             "minorgridcolor": "white",
             "startlinecolor": "#2a3f5f"
            },
            "baxis": {
             "endlinecolor": "#2a3f5f",
             "gridcolor": "white",
             "linecolor": "white",
             "minorgridcolor": "white",
             "startlinecolor": "#2a3f5f"
            },
            "type": "carpet"
           }
          ],
          "choropleth": [
           {
            "colorbar": {
             "outlinewidth": 0,
             "ticks": ""
            },
            "type": "choropleth"
           }
          ],
          "contour": [
           {
            "colorbar": {
             "outlinewidth": 0,
             "ticks": ""
            },
            "colorscale": [
             [
              0,
              "#0d0887"
             ],
             [
              0.1111111111111111,
              "#46039f"
             ],
             [
              0.2222222222222222,
              "#7201a8"
             ],
             [
              0.3333333333333333,
              "#9c179e"
             ],
             [
              0.4444444444444444,
              "#bd3786"
             ],
             [
              0.5555555555555556,
              "#d8576b"
             ],
             [
              0.6666666666666666,
              "#ed7953"
             ],
             [
              0.7777777777777778,
              "#fb9f3a"
             ],
             [
              0.8888888888888888,
              "#fdca26"
             ],
             [
              1,
              "#f0f921"
             ]
            ],
            "type": "contour"
           }
          ],
          "contourcarpet": [
           {
            "colorbar": {
             "outlinewidth": 0,
             "ticks": ""
            },
            "type": "contourcarpet"
           }
          ],
          "heatmap": [
           {
            "colorbar": {
             "outlinewidth": 0,
             "ticks": ""
            },
            "colorscale": [
             [
              0,
              "#0d0887"
             ],
             [
              0.1111111111111111,
              "#46039f"
             ],
             [
              0.2222222222222222,
              "#7201a8"
             ],
             [
              0.3333333333333333,
              "#9c179e"
             ],
             [
              0.4444444444444444,
              "#bd3786"
             ],
             [
              0.5555555555555556,
              "#d8576b"
             ],
             [
              0.6666666666666666,
              "#ed7953"
             ],
             [
              0.7777777777777778,
              "#fb9f3a"
             ],
             [
              0.8888888888888888,
              "#fdca26"
             ],
             [
              1,
              "#f0f921"
             ]
            ],
            "type": "heatmap"
           }
          ],
          "heatmapgl": [
           {
            "colorbar": {
             "outlinewidth": 0,
             "ticks": ""
            },
            "colorscale": [
             [
              0,
              "#0d0887"
             ],
             [
              0.1111111111111111,
              "#46039f"
             ],
             [
              0.2222222222222222,
              "#7201a8"
             ],
             [
              0.3333333333333333,
              "#9c179e"
             ],
             [
              0.4444444444444444,
              "#bd3786"
             ],
             [
              0.5555555555555556,
              "#d8576b"
             ],
             [
              0.6666666666666666,
              "#ed7953"
             ],
             [
              0.7777777777777778,
              "#fb9f3a"
             ],
             [
              0.8888888888888888,
              "#fdca26"
             ],
             [
              1,
              "#f0f921"
             ]
            ],
            "type": "heatmapgl"
           }
          ],
          "histogram": [
           {
            "marker": {
             "pattern": {
              "fillmode": "overlay",
              "size": 10,
              "solidity": 0.2
             }
            },
            "type": "histogram"
           }
          ],
          "histogram2d": [
           {
            "colorbar": {
             "outlinewidth": 0,
             "ticks": ""
            },
            "colorscale": [
             [
              0,
              "#0d0887"
             ],
             [
              0.1111111111111111,
              "#46039f"
             ],
             [
              0.2222222222222222,
              "#7201a8"
             ],
             [
              0.3333333333333333,
              "#9c179e"
             ],
             [
              0.4444444444444444,
              "#bd3786"
             ],
             [
              0.5555555555555556,
              "#d8576b"
             ],
             [
              0.6666666666666666,
              "#ed7953"
             ],
             [
              0.7777777777777778,
              "#fb9f3a"
             ],
             [
              0.8888888888888888,
              "#fdca26"
             ],
             [
              1,
              "#f0f921"
             ]
            ],
            "type": "histogram2d"
           }
          ],
          "histogram2dcontour": [
           {
            "colorbar": {
             "outlinewidth": 0,
             "ticks": ""
            },
            "colorscale": [
             [
              0,
              "#0d0887"
             ],
             [
              0.1111111111111111,
              "#46039f"
             ],
             [
              0.2222222222222222,
              "#7201a8"
             ],
             [
              0.3333333333333333,
              "#9c179e"
             ],
             [
              0.4444444444444444,
              "#bd3786"
             ],
             [
              0.5555555555555556,
              "#d8576b"
             ],
             [
              0.6666666666666666,
              "#ed7953"
             ],
             [
              0.7777777777777778,
              "#fb9f3a"
             ],
             [
              0.8888888888888888,
              "#fdca26"
             ],
             [
              1,
              "#f0f921"
             ]
            ],
            "type": "histogram2dcontour"
           }
          ],
          "mesh3d": [
           {
            "colorbar": {
             "outlinewidth": 0,
             "ticks": ""
            },
            "type": "mesh3d"
           }
          ],
          "parcoords": [
           {
            "line": {
             "colorbar": {
              "outlinewidth": 0,
              "ticks": ""
             }
            },
            "type": "parcoords"
           }
          ],
          "pie": [
           {
            "automargin": true,
            "type": "pie"
           }
          ],
          "scatter": [
           {
            "fillpattern": {
             "fillmode": "overlay",
             "size": 10,
             "solidity": 0.2
            },
            "type": "scatter"
           }
          ],
          "scatter3d": [
           {
            "line": {
             "colorbar": {
              "outlinewidth": 0,
              "ticks": ""
             }
            },
            "marker": {
             "colorbar": {
              "outlinewidth": 0,
              "ticks": ""
             }
            },
            "type": "scatter3d"
           }
          ],
          "scattercarpet": [
           {
            "marker": {
             "colorbar": {
              "outlinewidth": 0,
              "ticks": ""
             }
            },
            "type": "scattercarpet"
           }
          ],
          "scattergeo": [
           {
            "marker": {
             "colorbar": {
              "outlinewidth": 0,
              "ticks": ""
             }
            },
            "type": "scattergeo"
           }
          ],
          "scattergl": [
           {
            "marker": {
             "colorbar": {
              "outlinewidth": 0,
              "ticks": ""
             }
            },
            "type": "scattergl"
           }
          ],
          "scattermapbox": [
           {
            "marker": {
             "colorbar": {
              "outlinewidth": 0,
              "ticks": ""
             }
            },
            "type": "scattermapbox"
           }
          ],
          "scatterpolar": [
           {
            "marker": {
             "colorbar": {
              "outlinewidth": 0,
              "ticks": ""
             }
            },
            "type": "scatterpolar"
           }
          ],
          "scatterpolargl": [
           {
            "marker": {
             "colorbar": {
              "outlinewidth": 0,
              "ticks": ""
             }
            },
            "type": "scatterpolargl"
           }
          ],
          "scatterternary": [
           {
            "marker": {
             "colorbar": {
              "outlinewidth": 0,
              "ticks": ""
             }
            },
            "type": "scatterternary"
           }
          ],
          "surface": [
           {
            "colorbar": {
             "outlinewidth": 0,
             "ticks": ""
            },
            "colorscale": [
             [
              0,
              "#0d0887"
             ],
             [
              0.1111111111111111,
              "#46039f"
             ],
             [
              0.2222222222222222,
              "#7201a8"
             ],
             [
              0.3333333333333333,
              "#9c179e"
             ],
             [
              0.4444444444444444,
              "#bd3786"
             ],
             [
              0.5555555555555556,
              "#d8576b"
             ],
             [
              0.6666666666666666,
              "#ed7953"
             ],
             [
              0.7777777777777778,
              "#fb9f3a"
             ],
             [
              0.8888888888888888,
              "#fdca26"
             ],
             [
              1,
              "#f0f921"
             ]
            ],
            "type": "surface"
           }
          ],
          "table": [
           {
            "cells": {
             "fill": {
              "color": "#EBF0F8"
             },
             "line": {
              "color": "white"
             }
            },
            "header": {
             "fill": {
              "color": "#C8D4E3"
             },
             "line": {
              "color": "white"
             }
            },
            "type": "table"
           }
          ]
         },
         "layout": {
          "annotationdefaults": {
           "arrowcolor": "#2a3f5f",
           "arrowhead": 0,
           "arrowwidth": 1
          },
          "autotypenumbers": "strict",
          "coloraxis": {
           "colorbar": {
            "outlinewidth": 0,
            "ticks": ""
           }
          },
          "colorscale": {
           "diverging": [
            [
             0,
             "#8e0152"
            ],
            [
             0.1,
             "#c51b7d"
            ],
            [
             0.2,
             "#de77ae"
            ],
            [
             0.3,
             "#f1b6da"
            ],
            [
             0.4,
             "#fde0ef"
            ],
            [
             0.5,
             "#f7f7f7"
            ],
            [
             0.6,
             "#e6f5d0"
            ],
            [
             0.7,
             "#b8e186"
            ],
            [
             0.8,
             "#7fbc41"
            ],
            [
             0.9,
             "#4d9221"
            ],
            [
             1,
             "#276419"
            ]
           ],
           "sequential": [
            [
             0,
             "#0d0887"
            ],
            [
             0.1111111111111111,
             "#46039f"
            ],
            [
             0.2222222222222222,
             "#7201a8"
            ],
            [
             0.3333333333333333,
             "#9c179e"
            ],
            [
             0.4444444444444444,
             "#bd3786"
            ],
            [
             0.5555555555555556,
             "#d8576b"
            ],
            [
             0.6666666666666666,
             "#ed7953"
            ],
            [
             0.7777777777777778,
             "#fb9f3a"
            ],
            [
             0.8888888888888888,
             "#fdca26"
            ],
            [
             1,
             "#f0f921"
            ]
           ],
           "sequentialminus": [
            [
             0,
             "#0d0887"
            ],
            [
             0.1111111111111111,
             "#46039f"
            ],
            [
             0.2222222222222222,
             "#7201a8"
            ],
            [
             0.3333333333333333,
             "#9c179e"
            ],
            [
             0.4444444444444444,
             "#bd3786"
            ],
            [
             0.5555555555555556,
             "#d8576b"
            ],
            [
             0.6666666666666666,
             "#ed7953"
            ],
            [
             0.7777777777777778,
             "#fb9f3a"
            ],
            [
             0.8888888888888888,
             "#fdca26"
            ],
            [
             1,
             "#f0f921"
            ]
           ]
          },
          "colorway": [
           "#636efa",
           "#EF553B",
           "#00cc96",
           "#ab63fa",
           "#FFA15A",
           "#19d3f3",
           "#FF6692",
           "#B6E880",
           "#FF97FF",
           "#FECB52"
          ],
          "font": {
           "color": "#2a3f5f"
          },
          "geo": {
           "bgcolor": "white",
           "lakecolor": "white",
           "landcolor": "#E5ECF6",
           "showlakes": true,
           "showland": true,
           "subunitcolor": "white"
          },
          "hoverlabel": {
           "align": "left"
          },
          "hovermode": "closest",
          "mapbox": {
           "style": "light"
          },
          "paper_bgcolor": "white",
          "plot_bgcolor": "#E5ECF6",
          "polar": {
           "angularaxis": {
            "gridcolor": "white",
            "linecolor": "white",
            "ticks": ""
           },
           "bgcolor": "#E5ECF6",
           "radialaxis": {
            "gridcolor": "white",
            "linecolor": "white",
            "ticks": ""
           }
          },
          "scene": {
           "xaxis": {
            "backgroundcolor": "#E5ECF6",
            "gridcolor": "white",
            "gridwidth": 2,
            "linecolor": "white",
            "showbackground": true,
            "ticks": "",
            "zerolinecolor": "white"
           },
           "yaxis": {
            "backgroundcolor": "#E5ECF6",
            "gridcolor": "white",
            "gridwidth": 2,
            "linecolor": "white",
            "showbackground": true,
            "ticks": "",
            "zerolinecolor": "white"
           },
           "zaxis": {
            "backgroundcolor": "#E5ECF6",
            "gridcolor": "white",
            "gridwidth": 2,
            "linecolor": "white",
            "showbackground": true,
            "ticks": "",
            "zerolinecolor": "white"
           }
          },
          "shapedefaults": {
           "line": {
            "color": "#2a3f5f"
           }
          },
          "ternary": {
           "aaxis": {
            "gridcolor": "white",
            "linecolor": "white",
            "ticks": ""
           },
           "baxis": {
            "gridcolor": "white",
            "linecolor": "white",
            "ticks": ""
           },
           "bgcolor": "#E5ECF6",
           "caxis": {
            "gridcolor": "white",
            "linecolor": "white",
            "ticks": ""
           }
          },
          "title": {
           "x": 0.05
          },
          "xaxis": {
           "automargin": true,
           "gridcolor": "white",
           "linecolor": "white",
           "ticks": "",
           "title": {
            "standoff": 15
           },
           "zerolinecolor": "white",
           "zerolinewidth": 2
          },
          "yaxis": {
           "automargin": true,
           "gridcolor": "white",
           "linecolor": "white",
           "ticks": "",
           "title": {
            "standoff": 15
           },
           "zerolinecolor": "white",
           "zerolinewidth": 2
          }
         }
        },
        "title": {
         "text": "Correlation of the most frequent databases in the first version"
        },
        "xaxis": {
         "anchor": "y",
         "domain": [
          0,
          1
         ],
         "title": {
          "text": "consequents"
         }
        },
        "yaxis": {
         "anchor": "x",
         "domain": [
          0,
          1
         ],
         "title": {
          "text": "antecedents"
         }
        }
       }
      },
      "text/html": [
       "<div>                            <div id=\"fd2462f9-7e3d-4af0-962d-902af8bd267d\" class=\"plotly-graph-div\" style=\"height:525px; width:100%;\"></div>            <script type=\"text/javascript\">                require([\"plotly\"], function(Plotly) {                    window.PLOTLYENV=window.PLOTLYENV || {};                                    if (document.getElementById(\"fd2462f9-7e3d-4af0-962d-902af8bd267d\")) {                    Plotly.newPlot(                        \"fd2462f9-7e3d-4af0-962d-902af8bd267d\",                        [{\"customdata\":[[27],[19],[19],[18],[17],[12],[11],[9],[9],[9],[9],[9],[7],[7],[7],[7],[7],[7],[7],[5],[5],[5],[5],[5],[5],[5],[5],[5],[5],[5],[5],[5],[5]],\"hovertemplate\":\"consequents=%{x}<br>antecedents=%{y}<br>support_abs=%{marker.color}<extra></extra>\",\"legendgroup\":\"\",\"marker\":{\"color\":[27,19,19,18,17,12,11,9,9,9,9,9,7,7,7,7,7,7,7,5,5,5,5,5,5,5,5,5,5,5,5,5,5],\"coloraxis\":\"coloraxis\",\"size\":[27,19,19,18,17,12,11,9,9,9,9,9,7,7,7,7,7,7,7,5,5,5,5,5,5,5,5,5,5,5,5,5,5],\"sizemode\":\"area\",\"sizeref\":0.0675,\"symbol\":\"circle\"},\"mode\":\"markers+text\",\"name\":\"\",\"orientation\":\"v\",\"showlegend\":false,\"text\":[27.0,19.0,19.0,18.0,17.0,12.0,11.0,9.0,9.0,9.0,9.0,9.0,7.0,7.0,7.0,7.0,7.0,7.0,7.0,5.0,5.0,5.0,5.0,5.0,5.0,5.0,5.0,5.0,5.0,5.0,5.0,5.0,5.0],\"x\":[\"PostgreSQL\",\"H2\",\"Oracle\",\"H2\",\"PostgreSQL\",\"H2\",\"SQLite\",\"IBM DB2\",\"SQLite\",\"MySQL\",\"SQLite\",\"IBM DB2\",\"Oracle\",\"MS SQL Server\",\"MS SQL Server\",\"MS SQL Server\",\"IBM DB2\",\"SAP Adaptive Server\",\"Ehcache\",\"Oracle\",\"H2\",\"MongoDB\",\"MS Access\",\"MS SQL Server\",\"MS SQL Server\",\"MySQL\",\"PostgreSQL\",\"Oracle\",\"PostgreSQL\",\"Oracle\",\"H2\",\"IBM DB2\",\"H2\"],\"xaxis\":\"x\",\"y\":[\"MySQL\",\"MySQL\",\"MySQL\",\"PostgreSQL\",\"Oracle\",\"Oracle\",\"MySQL\",\"MySQL\",\"H2\",\"Ehcache\",\"PostgreSQL\",\"Oracle\",\"SQLite\",\"Oracle\",\"PostgreSQL\",\"MySQL\",\"PostgreSQL\",\"MySQL\",\"PostgreSQL\",\"Ehcache\",\"Ehcache\",\"MySQL\",\"H2\",\"H2\",\"SQLite\",\"MS Access\",\"MS Access\",\"MS Access\",\"SAP Adaptive Server\",\"SAP Adaptive Server\",\"SAP Adaptive Server\",\"SAP Adaptive Server\",\"IBM DB2\"],\"yaxis\":\"y\",\"type\":\"scatter\"}],                        {\"template\":{\"data\":{\"histogram2dcontour\":[{\"type\":\"histogram2dcontour\",\"colorbar\":{\"outlinewidth\":0,\"ticks\":\"\"},\"colorscale\":[[0.0,\"#0d0887\"],[0.1111111111111111,\"#46039f\"],[0.2222222222222222,\"#7201a8\"],[0.3333333333333333,\"#9c179e\"],[0.4444444444444444,\"#bd3786\"],[0.5555555555555556,\"#d8576b\"],[0.6666666666666666,\"#ed7953\"],[0.7777777777777778,\"#fb9f3a\"],[0.8888888888888888,\"#fdca26\"],[1.0,\"#f0f921\"]]}],\"choropleth\":[{\"type\":\"choropleth\",\"colorbar\":{\"outlinewidth\":0,\"ticks\":\"\"}}],\"histogram2d\":[{\"type\":\"histogram2d\",\"colorbar\":{\"outlinewidth\":0,\"ticks\":\"\"},\"colorscale\":[[0.0,\"#0d0887\"],[0.1111111111111111,\"#46039f\"],[0.2222222222222222,\"#7201a8\"],[0.3333333333333333,\"#9c179e\"],[0.4444444444444444,\"#bd3786\"],[0.5555555555555556,\"#d8576b\"],[0.6666666666666666,\"#ed7953\"],[0.7777777777777778,\"#fb9f3a\"],[0.8888888888888888,\"#fdca26\"],[1.0,\"#f0f921\"]]}],\"heatmap\":[{\"type\":\"heatmap\",\"colorbar\":{\"outlinewidth\":0,\"ticks\":\"\"},\"colorscale\":[[0.0,\"#0d0887\"],[0.1111111111111111,\"#46039f\"],[0.2222222222222222,\"#7201a8\"],[0.3333333333333333,\"#9c179e\"],[0.4444444444444444,\"#bd3786\"],[0.5555555555555556,\"#d8576b\"],[0.6666666666666666,\"#ed7953\"],[0.7777777777777778,\"#fb9f3a\"],[0.8888888888888888,\"#fdca26\"],[1.0,\"#f0f921\"]]}],\"heatmapgl\":[{\"type\":\"heatmapgl\",\"colorbar\":{\"outlinewidth\":0,\"ticks\":\"\"},\"colorscale\":[[0.0,\"#0d0887\"],[0.1111111111111111,\"#46039f\"],[0.2222222222222222,\"#7201a8\"],[0.3333333333333333,\"#9c179e\"],[0.4444444444444444,\"#bd3786\"],[0.5555555555555556,\"#d8576b\"],[0.6666666666666666,\"#ed7953\"],[0.7777777777777778,\"#fb9f3a\"],[0.8888888888888888,\"#fdca26\"],[1.0,\"#f0f921\"]]}],\"contourcarpet\":[{\"type\":\"contourcarpet\",\"colorbar\":{\"outlinewidth\":0,\"ticks\":\"\"}}],\"contour\":[{\"type\":\"contour\",\"colorbar\":{\"outlinewidth\":0,\"ticks\":\"\"},\"colorscale\":[[0.0,\"#0d0887\"],[0.1111111111111111,\"#46039f\"],[0.2222222222222222,\"#7201a8\"],[0.3333333333333333,\"#9c179e\"],[0.4444444444444444,\"#bd3786\"],[0.5555555555555556,\"#d8576b\"],[0.6666666666666666,\"#ed7953\"],[0.7777777777777778,\"#fb9f3a\"],[0.8888888888888888,\"#fdca26\"],[1.0,\"#f0f921\"]]}],\"surface\":[{\"type\":\"surface\",\"colorbar\":{\"outlinewidth\":0,\"ticks\":\"\"},\"colorscale\":[[0.0,\"#0d0887\"],[0.1111111111111111,\"#46039f\"],[0.2222222222222222,\"#7201a8\"],[0.3333333333333333,\"#9c179e\"],[0.4444444444444444,\"#bd3786\"],[0.5555555555555556,\"#d8576b\"],[0.6666666666666666,\"#ed7953\"],[0.7777777777777778,\"#fb9f3a\"],[0.8888888888888888,\"#fdca26\"],[1.0,\"#f0f921\"]]}],\"mesh3d\":[{\"type\":\"mesh3d\",\"colorbar\":{\"outlinewidth\":0,\"ticks\":\"\"}}],\"scatter\":[{\"fillpattern\":{\"fillmode\":\"overlay\",\"size\":10,\"solidity\":0.2},\"type\":\"scatter\"}],\"parcoords\":[{\"type\":\"parcoords\",\"line\":{\"colorbar\":{\"outlinewidth\":0,\"ticks\":\"\"}}}],\"scatterpolargl\":[{\"type\":\"scatterpolargl\",\"marker\":{\"colorbar\":{\"outlinewidth\":0,\"ticks\":\"\"}}}],\"bar\":[{\"error_x\":{\"color\":\"#2a3f5f\"},\"error_y\":{\"color\":\"#2a3f5f\"},\"marker\":{\"line\":{\"color\":\"#E5ECF6\",\"width\":0.5},\"pattern\":{\"fillmode\":\"overlay\",\"size\":10,\"solidity\":0.2}},\"type\":\"bar\"}],\"scattergeo\":[{\"type\":\"scattergeo\",\"marker\":{\"colorbar\":{\"outlinewidth\":0,\"ticks\":\"\"}}}],\"scatterpolar\":[{\"type\":\"scatterpolar\",\"marker\":{\"colorbar\":{\"outlinewidth\":0,\"ticks\":\"\"}}}],\"histogram\":[{\"marker\":{\"pattern\":{\"fillmode\":\"overlay\",\"size\":10,\"solidity\":0.2}},\"type\":\"histogram\"}],\"scattergl\":[{\"type\":\"scattergl\",\"marker\":{\"colorbar\":{\"outlinewidth\":0,\"ticks\":\"\"}}}],\"scatter3d\":[{\"type\":\"scatter3d\",\"line\":{\"colorbar\":{\"outlinewidth\":0,\"ticks\":\"\"}},\"marker\":{\"colorbar\":{\"outlinewidth\":0,\"ticks\":\"\"}}}],\"scattermapbox\":[{\"type\":\"scattermapbox\",\"marker\":{\"colorbar\":{\"outlinewidth\":0,\"ticks\":\"\"}}}],\"scatterternary\":[{\"type\":\"scatterternary\",\"marker\":{\"colorbar\":{\"outlinewidth\":0,\"ticks\":\"\"}}}],\"scattercarpet\":[{\"type\":\"scattercarpet\",\"marker\":{\"colorbar\":{\"outlinewidth\":0,\"ticks\":\"\"}}}],\"carpet\":[{\"aaxis\":{\"endlinecolor\":\"#2a3f5f\",\"gridcolor\":\"white\",\"linecolor\":\"white\",\"minorgridcolor\":\"white\",\"startlinecolor\":\"#2a3f5f\"},\"baxis\":{\"endlinecolor\":\"#2a3f5f\",\"gridcolor\":\"white\",\"linecolor\":\"white\",\"minorgridcolor\":\"white\",\"startlinecolor\":\"#2a3f5f\"},\"type\":\"carpet\"}],\"table\":[{\"cells\":{\"fill\":{\"color\":\"#EBF0F8\"},\"line\":{\"color\":\"white\"}},\"header\":{\"fill\":{\"color\":\"#C8D4E3\"},\"line\":{\"color\":\"white\"}},\"type\":\"table\"}],\"barpolar\":[{\"marker\":{\"line\":{\"color\":\"#E5ECF6\",\"width\":0.5},\"pattern\":{\"fillmode\":\"overlay\",\"size\":10,\"solidity\":0.2}},\"type\":\"barpolar\"}],\"pie\":[{\"automargin\":true,\"type\":\"pie\"}]},\"layout\":{\"autotypenumbers\":\"strict\",\"colorway\":[\"#636efa\",\"#EF553B\",\"#00cc96\",\"#ab63fa\",\"#FFA15A\",\"#19d3f3\",\"#FF6692\",\"#B6E880\",\"#FF97FF\",\"#FECB52\"],\"font\":{\"color\":\"#2a3f5f\"},\"hovermode\":\"closest\",\"hoverlabel\":{\"align\":\"left\"},\"paper_bgcolor\":\"white\",\"plot_bgcolor\":\"#E5ECF6\",\"polar\":{\"bgcolor\":\"#E5ECF6\",\"angularaxis\":{\"gridcolor\":\"white\",\"linecolor\":\"white\",\"ticks\":\"\"},\"radialaxis\":{\"gridcolor\":\"white\",\"linecolor\":\"white\",\"ticks\":\"\"}},\"ternary\":{\"bgcolor\":\"#E5ECF6\",\"aaxis\":{\"gridcolor\":\"white\",\"linecolor\":\"white\",\"ticks\":\"\"},\"baxis\":{\"gridcolor\":\"white\",\"linecolor\":\"white\",\"ticks\":\"\"},\"caxis\":{\"gridcolor\":\"white\",\"linecolor\":\"white\",\"ticks\":\"\"}},\"coloraxis\":{\"colorbar\":{\"outlinewidth\":0,\"ticks\":\"\"}},\"colorscale\":{\"sequential\":[[0.0,\"#0d0887\"],[0.1111111111111111,\"#46039f\"],[0.2222222222222222,\"#7201a8\"],[0.3333333333333333,\"#9c179e\"],[0.4444444444444444,\"#bd3786\"],[0.5555555555555556,\"#d8576b\"],[0.6666666666666666,\"#ed7953\"],[0.7777777777777778,\"#fb9f3a\"],[0.8888888888888888,\"#fdca26\"],[1.0,\"#f0f921\"]],\"sequentialminus\":[[0.0,\"#0d0887\"],[0.1111111111111111,\"#46039f\"],[0.2222222222222222,\"#7201a8\"],[0.3333333333333333,\"#9c179e\"],[0.4444444444444444,\"#bd3786\"],[0.5555555555555556,\"#d8576b\"],[0.6666666666666666,\"#ed7953\"],[0.7777777777777778,\"#fb9f3a\"],[0.8888888888888888,\"#fdca26\"],[1.0,\"#f0f921\"]],\"diverging\":[[0,\"#8e0152\"],[0.1,\"#c51b7d\"],[0.2,\"#de77ae\"],[0.3,\"#f1b6da\"],[0.4,\"#fde0ef\"],[0.5,\"#f7f7f7\"],[0.6,\"#e6f5d0\"],[0.7,\"#b8e186\"],[0.8,\"#7fbc41\"],[0.9,\"#4d9221\"],[1,\"#276419\"]]},\"xaxis\":{\"gridcolor\":\"white\",\"linecolor\":\"white\",\"ticks\":\"\",\"title\":{\"standoff\":15},\"zerolinecolor\":\"white\",\"automargin\":true,\"zerolinewidth\":2},\"yaxis\":{\"gridcolor\":\"white\",\"linecolor\":\"white\",\"ticks\":\"\",\"title\":{\"standoff\":15},\"zerolinecolor\":\"white\",\"automargin\":true,\"zerolinewidth\":2},\"scene\":{\"xaxis\":{\"backgroundcolor\":\"#E5ECF6\",\"gridcolor\":\"white\",\"linecolor\":\"white\",\"showbackground\":true,\"ticks\":\"\",\"zerolinecolor\":\"white\",\"gridwidth\":2},\"yaxis\":{\"backgroundcolor\":\"#E5ECF6\",\"gridcolor\":\"white\",\"linecolor\":\"white\",\"showbackground\":true,\"ticks\":\"\",\"zerolinecolor\":\"white\",\"gridwidth\":2},\"zaxis\":{\"backgroundcolor\":\"#E5ECF6\",\"gridcolor\":\"white\",\"linecolor\":\"white\",\"showbackground\":true,\"ticks\":\"\",\"zerolinecolor\":\"white\",\"gridwidth\":2}},\"shapedefaults\":{\"line\":{\"color\":\"#2a3f5f\"}},\"annotationdefaults\":{\"arrowcolor\":\"#2a3f5f\",\"arrowhead\":0,\"arrowwidth\":1},\"geo\":{\"bgcolor\":\"white\",\"landcolor\":\"#E5ECF6\",\"subunitcolor\":\"white\",\"showland\":true,\"showlakes\":true,\"lakecolor\":\"white\"},\"title\":{\"x\":0.05},\"mapbox\":{\"style\":\"light\"}}},\"xaxis\":{\"anchor\":\"y\",\"domain\":[0.0,1.0],\"title\":{\"text\":\"consequents\"}},\"yaxis\":{\"anchor\":\"x\",\"domain\":[0.0,1.0],\"title\":{\"text\":\"antecedents\"}},\"coloraxis\":{\"colorbar\":{\"title\":{\"text\":\"support_abs\"}},\"colorscale\":[[0.0,\"silver\"],[1.0,\"gray\"]]},\"legend\":{\"tracegroupgap\":0,\"itemsizing\":\"constant\"},\"title\":{\"text\":\"Correlation of the most frequent databases in the first version\"}},                        {\"responsive\": true}                    ).then(function(){\n",
       "                            \n",
       "var gd = document.getElementById('fd2462f9-7e3d-4af0-962d-902af8bd267d');\n",
       "var x = new MutationObserver(function (mutations, observer) {{\n",
       "        var display = window.getComputedStyle(gd).display;\n",
       "        if (!display || display === 'none') {{\n",
       "            console.log([gd, 'removed!']);\n",
       "            Plotly.purge(gd);\n",
       "            observer.disconnect();\n",
       "        }}\n",
       "}});\n",
       "\n",
       "// Listen for the removal of the full notebook cells\n",
       "var notebookContainer = gd.closest('#notebook-container');\n",
       "if (notebookContainer) {{\n",
       "    x.observe(notebookContainer, {childList: true});\n",
       "}}\n",
       "\n",
       "// Listen for the clearing of the current output cell\n",
       "var outputEl = gd.closest('.output');\n",
       "if (outputEl) {{\n",
       "    x.observe(outputEl, {childList: true});\n",
       "}}\n",
       "\n",
       "                        })                };                });            </script>        </div>"
      ]
     },
     "metadata": {},
     "output_type": "display_data"
    }
   ],
   "source": [
    "#Test showing the rules without repetitions and with dataframe ordering.\n",
    "import plotly.express as px \n",
    "#rules1cd = rules1c[(rules1c['support'] >= 0.04) & (rules1c['support_abs'] != 0)] \n",
    "orules1c['support_abs'] = orules1c['support_abs'].astype(int)\n",
    "#fig = px.scatter(rules1c.groupby(['antecedent_sup_abs','consequent_sup_abs']).mean().sort_values(['support_abs',], ascending=[False]),\n",
    "#.sort_values(['support_abs'], ascending=[False])\n",
    "fig = px.scatter(orules1c.sort_values(['support_abs'], ascending=[False]), x=\"consequents\", y=\"antecedents\", \n",
    "#x=\"consequents\", y=\"antecedents\", \n",
    "size='support_abs',  color=\"support_abs\", title='Correlation of the most frequent databases in the first version',\n",
    "hover_data=['support_abs'], color_continuous_scale = [\"silver\",\"gray\"],text='support_abs') \n",
    "#fig.title('Correlation of the most frequent databases')\n",
    "fig.show()"
   ]
  },
  {
   "cell_type": "code",
   "execution_count": null,
   "metadata": {},
   "outputs": [],
   "source": [
    "#Test by ordering only through support, after dataframe ordering\n",
    "orules1cd = orules1c.sort_values(by=['support_abs'], ascending=False)\n",
    "orules1cd"
   ]
  },
  {
   "cell_type": "code",
   "execution_count": 36,
   "metadata": {},
   "outputs": [
    {
     "data": {
      "image/png": "[encoded data removed]",
      "text/plain": [
       "<Figure size 864x864 with 2 Axes>"
      ]
     },
     "metadata": {
      "needs_background": "light"
     },
     "output_type": "display_data"
    }
   ],
   "source": [
    "# Heatmap graph generated with all rules and dataframe ordering\n",
    "# The suggestion for this chart would be to show all rules without filtering by support\n",
    "import seaborn as sns\n",
    "pivot = orules1c.pivot(index='antecedents', columns='consequents', values='support_abs')\n",
    "pivot = pivot.iloc[::-1]\n",
    "sns.heatmap(pivot, xticklabels=True, yticklabels=True, cmap=sns.color_palette(\"light:b\", as_cmap=True), annot=True)\n",
    "fig = plt.gcf()\n",
    "fig.set_size_inches(12, 12)"
   ]
  },
  {
   "cell_type": "code",
   "execution_count": 39,
   "metadata": {},
   "outputs": [
    {
     "data": {
      "text/html": [
       "<div>\n",
       "<style scoped>\n",
       "    .dataframe tbody tr th:only-of-type {\n",
       "        vertical-align: middle;\n",
       "    }\n",
       "\n",
       "    .dataframe tbody tr th {\n",
       "        vertical-align: top;\n",
       "    }\n",
       "\n",
       "    .dataframe thead th {\n",
       "        text-align: right;\n",
       "    }\n",
       "</style>\n",
       "<table border=\"1\" class=\"dataframe\">\n",
       "  <thead>\n",
       "    <tr style=\"text-align: right;\">\n",
       "      <th></th>\n",
       "      <th>antecedents</th>\n",
       "      <th>consequents</th>\n",
       "      <th>antecedent support</th>\n",
       "      <th>antecedent_sup_abs</th>\n",
       "      <th>consequent support</th>\n",
       "      <th>consequent_sup_abs</th>\n",
       "      <th>support</th>\n",
       "      <th>support_abs</th>\n",
       "      <th>confidence</th>\n",
       "      <th>lift</th>\n",
       "      <th>leverage</th>\n",
       "      <th>conviction</th>\n",
       "      <th>antecedent_len</th>\n",
       "      <th>consequente_len</th>\n",
       "    </tr>\n",
       "  </thead>\n",
       "  <tbody>\n",
       "    <tr>\n",
       "      <th>0</th>\n",
       "      <td>MySQL</td>\n",
       "      <td>PostgreSQL</td>\n",
       "      <td>0.299492</td>\n",
       "      <td>59.0</td>\n",
       "      <td>0.182741</td>\n",
       "      <td>36.0</td>\n",
       "      <td>0.137056</td>\n",
       "      <td>27</td>\n",
       "      <td>0.457627</td>\n",
       "      <td>2.504237</td>\n",
       "      <td>0.082326</td>\n",
       "      <td>1.506821</td>\n",
       "      <td>1.0</td>\n",
       "      <td>1.0</td>\n",
       "    </tr>\n",
       "    <tr>\n",
       "      <th>1</th>\n",
       "      <td>PostgreSQL</td>\n",
       "      <td>MySQL</td>\n",
       "      <td>0.182741</td>\n",
       "      <td>36.0</td>\n",
       "      <td>0.299492</td>\n",
       "      <td>59.0</td>\n",
       "      <td>0.137056</td>\n",
       "      <td>27</td>\n",
       "      <td>0.750000</td>\n",
       "      <td>2.504237</td>\n",
       "      <td>0.082326</td>\n",
       "      <td>2.802030</td>\n",
       "      <td>1.0</td>\n",
       "      <td>1.0</td>\n",
       "    </tr>\n",
       "    <tr>\n",
       "      <th>4</th>\n",
       "      <td>MySQL</td>\n",
       "      <td>H2</td>\n",
       "      <td>0.299492</td>\n",
       "      <td>59.0</td>\n",
       "      <td>0.157360</td>\n",
       "      <td>31.0</td>\n",
       "      <td>0.096447</td>\n",
       "      <td>19</td>\n",
       "      <td>0.322034</td>\n",
       "      <td>2.046473</td>\n",
       "      <td>0.049318</td>\n",
       "      <td>1.242893</td>\n",
       "      <td>1.0</td>\n",
       "      <td>1.0</td>\n",
       "    </tr>\n",
       "    <tr>\n",
       "      <th>5</th>\n",
       "      <td>H2</td>\n",
       "      <td>MySQL</td>\n",
       "      <td>0.157360</td>\n",
       "      <td>31.0</td>\n",
       "      <td>0.299492</td>\n",
       "      <td>59.0</td>\n",
       "      <td>0.096447</td>\n",
       "      <td>19</td>\n",
       "      <td>0.612903</td>\n",
       "      <td>2.046473</td>\n",
       "      <td>0.049318</td>\n",
       "      <td>1.809645</td>\n",
       "      <td>1.0</td>\n",
       "      <td>1.0</td>\n",
       "    </tr>\n",
       "    <tr>\n",
       "      <th>2</th>\n",
       "      <td>MySQL</td>\n",
       "      <td>Oracle</td>\n",
       "      <td>0.299492</td>\n",
       "      <td>59.0</td>\n",
       "      <td>0.126904</td>\n",
       "      <td>25.0</td>\n",
       "      <td>0.101523</td>\n",
       "      <td>19</td>\n",
       "      <td>0.338983</td>\n",
       "      <td>2.671186</td>\n",
       "      <td>0.063516</td>\n",
       "      <td>1.320838</td>\n",
       "      <td>1.0</td>\n",
       "      <td>1.0</td>\n",
       "    </tr>\n",
       "    <tr>\n",
       "      <th>...</th>\n",
       "      <td>...</td>\n",
       "      <td>...</td>\n",
       "      <td>...</td>\n",
       "      <td>...</td>\n",
       "      <td>...</td>\n",
       "      <td>...</td>\n",
       "      <td>...</td>\n",
       "      <td>...</td>\n",
       "      <td>...</td>\n",
       "      <td>...</td>\n",
       "      <td>...</td>\n",
       "      <td>...</td>\n",
       "      <td>...</td>\n",
       "      <td>...</td>\n",
       "    </tr>\n",
       "    <tr>\n",
       "      <th>64</th>\n",
       "      <td>PostgreSQL</td>\n",
       "      <td>MS Access</td>\n",
       "      <td>0.182741</td>\n",
       "      <td>36.0</td>\n",
       "      <td>0.030457</td>\n",
       "      <td>6.0</td>\n",
       "      <td>0.025381</td>\n",
       "      <td>5</td>\n",
       "      <td>0.138889</td>\n",
       "      <td>4.560185</td>\n",
       "      <td>0.019815</td>\n",
       "      <td>1.125921</td>\n",
       "      <td>1.0</td>\n",
       "      <td>1.0</td>\n",
       "    </tr>\n",
       "    <tr>\n",
       "      <th>60</th>\n",
       "      <td>PostgreSQL</td>\n",
       "      <td>SAP Adaptive Server</td>\n",
       "      <td>0.182741</td>\n",
       "      <td>36.0</td>\n",
       "      <td>0.035533</td>\n",
       "      <td>7.0</td>\n",
       "      <td>0.025381</td>\n",
       "      <td>5</td>\n",
       "      <td>0.138889</td>\n",
       "      <td>3.908730</td>\n",
       "      <td>0.018887</td>\n",
       "      <td>1.120026</td>\n",
       "      <td>1.0</td>\n",
       "      <td>1.0</td>\n",
       "    </tr>\n",
       "    <tr>\n",
       "      <th>47</th>\n",
       "      <td>MySQL</td>\n",
       "      <td>MongoDB</td>\n",
       "      <td>0.299492</td>\n",
       "      <td>59.0</td>\n",
       "      <td>0.040609</td>\n",
       "      <td>8.0</td>\n",
       "      <td>0.030457</td>\n",
       "      <td>5</td>\n",
       "      <td>0.101695</td>\n",
       "      <td>2.504237</td>\n",
       "      <td>0.018295</td>\n",
       "      <td>1.068001</td>\n",
       "      <td>1.0</td>\n",
       "      <td>1.0</td>\n",
       "    </tr>\n",
       "    <tr>\n",
       "      <th>48</th>\n",
       "      <td>MySQL</td>\n",
       "      <td>MS Access</td>\n",
       "      <td>0.299492</td>\n",
       "      <td>59.0</td>\n",
       "      <td>0.030457</td>\n",
       "      <td>6.0</td>\n",
       "      <td>0.030457</td>\n",
       "      <td>5</td>\n",
       "      <td>0.101695</td>\n",
       "      <td>3.338983</td>\n",
       "      <td>0.021335</td>\n",
       "      <td>1.079303</td>\n",
       "      <td>1.0</td>\n",
       "      <td>1.0</td>\n",
       "    </tr>\n",
       "    <tr>\n",
       "      <th>49</th>\n",
       "      <td>MongoDB</td>\n",
       "      <td>MySQL</td>\n",
       "      <td>0.040609</td>\n",
       "      <td>8.0</td>\n",
       "      <td>0.299492</td>\n",
       "      <td>59.0</td>\n",
       "      <td>0.030457</td>\n",
       "      <td>5</td>\n",
       "      <td>0.750000</td>\n",
       "      <td>2.504237</td>\n",
       "      <td>0.018295</td>\n",
       "      <td>2.802030</td>\n",
       "      <td>1.0</td>\n",
       "      <td>1.0</td>\n",
       "    </tr>\n",
       "  </tbody>\n",
       "</table>\n",
       "<p>66 rows × 14 columns</p>\n",
       "</div>"
      ],
      "text/plain": [
       "   antecedents          consequents  antecedent support  antecedent_sup_abs  \\\n",
       "0        MySQL           PostgreSQL            0.299492                59.0   \n",
       "1   PostgreSQL                MySQL            0.182741                36.0   \n",
       "4        MySQL                   H2            0.299492                59.0   \n",
       "5           H2                MySQL            0.157360                31.0   \n",
       "2        MySQL               Oracle            0.299492                59.0   \n",
       "..         ...                  ...                 ...                 ...   \n",
       "64  PostgreSQL            MS Access            0.182741                36.0   \n",
       "60  PostgreSQL  SAP Adaptive Server            0.182741                36.0   \n",
       "47       MySQL              MongoDB            0.299492                59.0   \n",
       "48       MySQL            MS Access            0.299492                59.0   \n",
       "49     MongoDB                MySQL            0.040609                 8.0   \n",
       "\n",
       "    consequent support  consequent_sup_abs   support  support_abs  confidence  \\\n",
       "0             0.182741                36.0  0.137056           27    0.457627   \n",
       "1             0.299492                59.0  0.137056           27    0.750000   \n",
       "4             0.157360                31.0  0.096447           19    0.322034   \n",
       "5             0.299492                59.0  0.096447           19    0.612903   \n",
       "2             0.126904                25.0  0.101523           19    0.338983   \n",
       "..                 ...                 ...       ...          ...         ...   \n",
       "64            0.030457                 6.0  0.025381            5    0.138889   \n",
       "60            0.035533                 7.0  0.025381            5    0.138889   \n",
       "47            0.040609                 8.0  0.030457            5    0.101695   \n",
       "48            0.030457                 6.0  0.030457            5    0.101695   \n",
       "49            0.299492                59.0  0.030457            5    0.750000   \n",
       "\n",
       "        lift  leverage  conviction  antecedent_len  consequente_len  \n",
       "0   2.504237  0.082326    1.506821             1.0              1.0  \n",
       "1   2.504237  0.082326    2.802030             1.0              1.0  \n",
       "4   2.046473  0.049318    1.242893             1.0              1.0  \n",
       "5   2.046473  0.049318    1.809645             1.0              1.0  \n",
       "2   2.671186  0.063516    1.320838             1.0              1.0  \n",
       "..       ...       ...         ...             ...              ...  \n",
       "64  4.560185  0.019815    1.125921             1.0              1.0  \n",
       "60  3.908730  0.018887    1.120026             1.0              1.0  \n",
       "47  2.504237  0.018295    1.068001             1.0              1.0  \n",
       "48  3.338983  0.021335    1.079303             1.0              1.0  \n",
       "49  2.504237  0.018295    2.802030             1.0              1.0  \n",
       "\n",
       "[66 rows x 14 columns]"
      ]
     },
     "execution_count": 39,
     "metadata": {},
     "output_type": "execute_result"
    }
   ],
   "source": [
    "#Test by ordering only through support, after dataframe ordering\n",
    "orules1cd = orules1c.sort_values(by=['support_abs'], ascending=False)\n",
    "orules1cd"
   ]
  },
  {
   "attachments": {},
   "cell_type": "markdown",
   "metadata": {},
   "source": [
    "PostgreSQL and MySQL being used concurrently in 27 projects, Oracle with PostgreSQL appears in 17 projects, H2 with Oracle in 12 projects, SQLite with H2 in 6 projects, Ehcache with MySQL in 10 projects, Sap Adaptive Server with IBM DB2 in 5 projects, MS SQL Server with SQlite in 5 projects, MongoDB with MySQL in 6 projects, among other combinations."
   ]
  },
  {
   "attachments": {},
   "cell_type": "markdown",
   "metadata": {},
   "source": [
    "In the rules below, we list the 10 most frequent BDs as consequents and confidence > 70%, confidence only in the case of relational ones. \n",
    "Add rules where they appear as antecedents."
   ]
  },
  {
   "cell_type": "code",
   "execution_count": 11,
   "metadata": {},
   "outputs": [
    {
     "data": {
      "text/html": [
       "<div>\n",
       "<style scoped>\n",
       "    .dataframe tbody tr th:only-of-type {\n",
       "        vertical-align: middle;\n",
       "    }\n",
       "\n",
       "    .dataframe tbody tr th {\n",
       "        vertical-align: top;\n",
       "    }\n",
       "\n",
       "    .dataframe thead th {\n",
       "        text-align: right;\n",
       "    }\n",
       "</style>\n",
       "<table border=\"1\" class=\"dataframe\">\n",
       "  <thead>\n",
       "    <tr style=\"text-align: right;\">\n",
       "      <th></th>\n",
       "      <th>antecedents</th>\n",
       "      <th>consequents</th>\n",
       "      <th>antecedent support</th>\n",
       "      <th>antecedent_sup_abs</th>\n",
       "      <th>consequent support</th>\n",
       "      <th>consequent_sup_abs</th>\n",
       "      <th>support</th>\n",
       "      <th>support_abs</th>\n",
       "      <th>confidence</th>\n",
       "      <th>lift</th>\n",
       "      <th>leverage</th>\n",
       "      <th>conviction</th>\n",
       "      <th>antecedent_len</th>\n",
       "      <th>consequente_len</th>\n",
       "    </tr>\n",
       "  </thead>\n",
       "  <tbody>\n",
       "    <tr>\n",
       "      <th>34</th>\n",
       "      <td>MS Access</td>\n",
       "      <td>MySQL</td>\n",
       "      <td>0.030457</td>\n",
       "      <td>6.0</td>\n",
       "      <td>0.299492</td>\n",
       "      <td>59.0</td>\n",
       "      <td>0.030457</td>\n",
       "      <td>6.0</td>\n",
       "      <td>1.000</td>\n",
       "      <td>3.338983</td>\n",
       "      <td>0.021335</td>\n",
       "      <td>inf</td>\n",
       "      <td>1</td>\n",
       "      <td>1</td>\n",
       "    </tr>\n",
       "    <tr>\n",
       "      <th>36</th>\n",
       "      <td>SAP Adaptive Server</td>\n",
       "      <td>MySQL</td>\n",
       "      <td>0.035533</td>\n",
       "      <td>7.0</td>\n",
       "      <td>0.299492</td>\n",
       "      <td>59.0</td>\n",
       "      <td>0.035533</td>\n",
       "      <td>7.0</td>\n",
       "      <td>1.000</td>\n",
       "      <td>3.338983</td>\n",
       "      <td>0.024891</td>\n",
       "      <td>inf</td>\n",
       "      <td>1</td>\n",
       "      <td>1</td>\n",
       "    </tr>\n",
       "    <tr>\n",
       "      <th>37</th>\n",
       "      <td>IBM DB2</td>\n",
       "      <td>MySQL</td>\n",
       "      <td>0.045685</td>\n",
       "      <td>9.0</td>\n",
       "      <td>0.299492</td>\n",
       "      <td>59.0</td>\n",
       "      <td>0.045685</td>\n",
       "      <td>9.0</td>\n",
       "      <td>1.000</td>\n",
       "      <td>3.338983</td>\n",
       "      <td>0.032003</td>\n",
       "      <td>inf</td>\n",
       "      <td>1</td>\n",
       "      <td>1</td>\n",
       "    </tr>\n",
       "    <tr>\n",
       "      <th>47</th>\n",
       "      <td>MS SQL Server</td>\n",
       "      <td>MySQL</td>\n",
       "      <td>0.040609</td>\n",
       "      <td>8.0</td>\n",
       "      <td>0.299492</td>\n",
       "      <td>59.0</td>\n",
       "      <td>0.035533</td>\n",
       "      <td>7.0</td>\n",
       "      <td>0.875</td>\n",
       "      <td>2.921610</td>\n",
       "      <td>0.023371</td>\n",
       "      <td>5.604061</td>\n",
       "      <td>1</td>\n",
       "      <td>1</td>\n",
       "    </tr>\n",
       "    <tr>\n",
       "      <th>48</th>\n",
       "      <td>Oracle</td>\n",
       "      <td>MySQL</td>\n",
       "      <td>0.126904</td>\n",
       "      <td>25.0</td>\n",
       "      <td>0.299492</td>\n",
       "      <td>59.0</td>\n",
       "      <td>0.101523</td>\n",
       "      <td>20.0</td>\n",
       "      <td>0.800</td>\n",
       "      <td>2.671186</td>\n",
       "      <td>0.063516</td>\n",
       "      <td>3.502538</td>\n",
       "      <td>1</td>\n",
       "      <td>1</td>\n",
       "    </tr>\n",
       "    <tr>\n",
       "      <th>51</th>\n",
       "      <td>MongoDB</td>\n",
       "      <td>MySQL</td>\n",
       "      <td>0.040609</td>\n",
       "      <td>8.0</td>\n",
       "      <td>0.299492</td>\n",
       "      <td>59.0</td>\n",
       "      <td>0.030457</td>\n",
       "      <td>6.0</td>\n",
       "      <td>0.750</td>\n",
       "      <td>2.504237</td>\n",
       "      <td>0.018295</td>\n",
       "      <td>2.802030</td>\n",
       "      <td>1</td>\n",
       "      <td>1</td>\n",
       "    </tr>\n",
       "    <tr>\n",
       "      <th>53</th>\n",
       "      <td>PostgreSQL</td>\n",
       "      <td>MySQL</td>\n",
       "      <td>0.182741</td>\n",
       "      <td>36.0</td>\n",
       "      <td>0.299492</td>\n",
       "      <td>59.0</td>\n",
       "      <td>0.137056</td>\n",
       "      <td>27.0</td>\n",
       "      <td>0.750</td>\n",
       "      <td>2.504237</td>\n",
       "      <td>0.082326</td>\n",
       "      <td>2.802030</td>\n",
       "      <td>1</td>\n",
       "      <td>1</td>\n",
       "    </tr>\n",
       "  </tbody>\n",
       "</table>\n",
       "</div>"
      ],
      "text/plain": [
       "            antecedents consequents  antecedent support  antecedent_sup_abs  \\\n",
       "34            MS Access       MySQL            0.030457                 6.0   \n",
       "36  SAP Adaptive Server       MySQL            0.035533                 7.0   \n",
       "37              IBM DB2       MySQL            0.045685                 9.0   \n",
       "47        MS SQL Server       MySQL            0.040609                 8.0   \n",
       "48               Oracle       MySQL            0.126904                25.0   \n",
       "51              MongoDB       MySQL            0.040609                 8.0   \n",
       "53           PostgreSQL       MySQL            0.182741                36.0   \n",
       "\n",
       "    consequent support  consequent_sup_abs   support  support_abs  confidence  \\\n",
       "34            0.299492                59.0  0.030457          6.0       1.000   \n",
       "36            0.299492                59.0  0.035533          7.0       1.000   \n",
       "37            0.299492                59.0  0.045685          9.0       1.000   \n",
       "47            0.299492                59.0  0.035533          7.0       0.875   \n",
       "48            0.299492                59.0  0.101523         20.0       0.800   \n",
       "51            0.299492                59.0  0.030457          6.0       0.750   \n",
       "53            0.299492                59.0  0.137056         27.0       0.750   \n",
       "\n",
       "        lift  leverage  conviction  antecedent_len  consequente_len  \n",
       "34  3.338983  0.021335         inf               1                1  \n",
       "36  3.338983  0.024891         inf               1                1  \n",
       "37  3.338983  0.032003         inf               1                1  \n",
       "47  2.921610  0.023371    5.604061               1                1  \n",
       "48  2.671186  0.063516    3.502538               1                1  \n",
       "51  2.504237  0.018295    2.802030               1                1  \n",
       "53  2.504237  0.082326    2.802030               1                1  "
      ]
     },
     "execution_count": 11,
     "metadata": {},
     "output_type": "execute_result"
    }
   ],
   "source": [
    "rules2 = df[ (df['consequents'].str.contains('MySQL')) &(df['confidence'] > 0.7)]\n",
    "rules2"
   ]
  },
  {
   "cell_type": "code",
   "execution_count": 12,
   "metadata": {},
   "outputs": [
    {
     "data": {
      "text/html": [
       "<div>\n",
       "<style scoped>\n",
       "    .dataframe tbody tr th:only-of-type {\n",
       "        vertical-align: middle;\n",
       "    }\n",
       "\n",
       "    .dataframe tbody tr th {\n",
       "        vertical-align: top;\n",
       "    }\n",
       "\n",
       "    .dataframe thead th {\n",
       "        text-align: right;\n",
       "    }\n",
       "</style>\n",
       "<table border=\"1\" class=\"dataframe\">\n",
       "  <thead>\n",
       "    <tr style=\"text-align: right;\">\n",
       "      <th></th>\n",
       "      <th>antecedents</th>\n",
       "      <th>consequents</th>\n",
       "      <th>antecedent support</th>\n",
       "      <th>antecedent_sup_abs</th>\n",
       "      <th>consequent support</th>\n",
       "      <th>consequent_sup_abs</th>\n",
       "      <th>support</th>\n",
       "      <th>support_abs</th>\n",
       "      <th>confidence</th>\n",
       "      <th>lift</th>\n",
       "      <th>leverage</th>\n",
       "      <th>conviction</th>\n",
       "      <th>antecedent_len</th>\n",
       "      <th>consequente_len</th>\n",
       "    </tr>\n",
       "  </thead>\n",
       "  <tbody>\n",
       "    <tr>\n",
       "      <th>14</th>\n",
       "      <td>PostgreSQL</td>\n",
       "      <td>IBM DB2</td>\n",
       "      <td>0.182741</td>\n",
       "      <td>36.0</td>\n",
       "      <td>0.045685</td>\n",
       "      <td>9.0</td>\n",
       "      <td>0.040609</td>\n",
       "      <td>8.0</td>\n",
       "      <td>0.222222</td>\n",
       "      <td>4.864198</td>\n",
       "      <td>0.032261</td>\n",
       "      <td>1.226976</td>\n",
       "      <td>1</td>\n",
       "      <td>1</td>\n",
       "    </tr>\n",
       "    <tr>\n",
       "      <th>15</th>\n",
       "      <td>IBM DB2</td>\n",
       "      <td>PostgreSQL</td>\n",
       "      <td>0.045685</td>\n",
       "      <td>9.0</td>\n",
       "      <td>0.182741</td>\n",
       "      <td>36.0</td>\n",
       "      <td>0.040609</td>\n",
       "      <td>8.0</td>\n",
       "      <td>0.888889</td>\n",
       "      <td>4.864198</td>\n",
       "      <td>0.032261</td>\n",
       "      <td>7.355330</td>\n",
       "      <td>1</td>\n",
       "      <td>1</td>\n",
       "    </tr>\n",
       "    <tr>\n",
       "      <th>16</th>\n",
       "      <td>PostgreSQL</td>\n",
       "      <td>MS SQL Server</td>\n",
       "      <td>0.182741</td>\n",
       "      <td>36.0</td>\n",
       "      <td>0.040609</td>\n",
       "      <td>8.0</td>\n",
       "      <td>0.035533</td>\n",
       "      <td>7.0</td>\n",
       "      <td>0.194444</td>\n",
       "      <td>4.788194</td>\n",
       "      <td>0.028112</td>\n",
       "      <td>1.190968</td>\n",
       "      <td>1</td>\n",
       "      <td>1</td>\n",
       "    </tr>\n",
       "    <tr>\n",
       "      <th>17</th>\n",
       "      <td>MS SQL Server</td>\n",
       "      <td>PostgreSQL</td>\n",
       "      <td>0.040609</td>\n",
       "      <td>8.0</td>\n",
       "      <td>0.182741</td>\n",
       "      <td>36.0</td>\n",
       "      <td>0.035533</td>\n",
       "      <td>7.0</td>\n",
       "      <td>0.875000</td>\n",
       "      <td>4.788194</td>\n",
       "      <td>0.028112</td>\n",
       "      <td>6.538071</td>\n",
       "      <td>1</td>\n",
       "      <td>1</td>\n",
       "    </tr>\n",
       "    <tr>\n",
       "      <th>18</th>\n",
       "      <td>PostgreSQL</td>\n",
       "      <td>MS Access</td>\n",
       "      <td>0.182741</td>\n",
       "      <td>36.0</td>\n",
       "      <td>0.030457</td>\n",
       "      <td>6.0</td>\n",
       "      <td>0.025381</td>\n",
       "      <td>5.0</td>\n",
       "      <td>0.138889</td>\n",
       "      <td>4.560185</td>\n",
       "      <td>0.019815</td>\n",
       "      <td>1.125921</td>\n",
       "      <td>1</td>\n",
       "      <td>1</td>\n",
       "    </tr>\n",
       "    <tr>\n",
       "      <th>19</th>\n",
       "      <td>MS Access</td>\n",
       "      <td>PostgreSQL</td>\n",
       "      <td>0.030457</td>\n",
       "      <td>6.0</td>\n",
       "      <td>0.182741</td>\n",
       "      <td>36.0</td>\n",
       "      <td>0.025381</td>\n",
       "      <td>5.0</td>\n",
       "      <td>0.833333</td>\n",
       "      <td>4.560185</td>\n",
       "      <td>0.019815</td>\n",
       "      <td>4.903553</td>\n",
       "      <td>1</td>\n",
       "      <td>1</td>\n",
       "    </tr>\n",
       "    <tr>\n",
       "      <th>26</th>\n",
       "      <td>PostgreSQL</td>\n",
       "      <td>SAP Adaptive Server</td>\n",
       "      <td>0.182741</td>\n",
       "      <td>36.0</td>\n",
       "      <td>0.035533</td>\n",
       "      <td>7.0</td>\n",
       "      <td>0.025381</td>\n",
       "      <td>5.0</td>\n",
       "      <td>0.138889</td>\n",
       "      <td>3.908730</td>\n",
       "      <td>0.018887</td>\n",
       "      <td>1.120026</td>\n",
       "      <td>1</td>\n",
       "      <td>1</td>\n",
       "    </tr>\n",
       "    <tr>\n",
       "      <th>27</th>\n",
       "      <td>SAP Adaptive Server</td>\n",
       "      <td>PostgreSQL</td>\n",
       "      <td>0.035533</td>\n",
       "      <td>7.0</td>\n",
       "      <td>0.182741</td>\n",
       "      <td>36.0</td>\n",
       "      <td>0.025381</td>\n",
       "      <td>5.0</td>\n",
       "      <td>0.714286</td>\n",
       "      <td>3.908730</td>\n",
       "      <td>0.018887</td>\n",
       "      <td>2.860406</td>\n",
       "      <td>1</td>\n",
       "      <td>1</td>\n",
       "    </tr>\n",
       "    <tr>\n",
       "      <th>28</th>\n",
       "      <td>Oracle</td>\n",
       "      <td>PostgreSQL</td>\n",
       "      <td>0.126904</td>\n",
       "      <td>25.0</td>\n",
       "      <td>0.182741</td>\n",
       "      <td>36.0</td>\n",
       "      <td>0.086294</td>\n",
       "      <td>17.0</td>\n",
       "      <td>0.680000</td>\n",
       "      <td>3.721111</td>\n",
       "      <td>0.063104</td>\n",
       "      <td>2.553934</td>\n",
       "      <td>1</td>\n",
       "      <td>1</td>\n",
       "    </tr>\n",
       "    <tr>\n",
       "      <th>29</th>\n",
       "      <td>PostgreSQL</td>\n",
       "      <td>Oracle</td>\n",
       "      <td>0.182741</td>\n",
       "      <td>36.0</td>\n",
       "      <td>0.126904</td>\n",
       "      <td>25.0</td>\n",
       "      <td>0.086294</td>\n",
       "      <td>17.0</td>\n",
       "      <td>0.472222</td>\n",
       "      <td>3.721111</td>\n",
       "      <td>0.063104</td>\n",
       "      <td>1.654288</td>\n",
       "      <td>1</td>\n",
       "      <td>1</td>\n",
       "    </tr>\n",
       "    <tr>\n",
       "      <th>40</th>\n",
       "      <td>PostgreSQL</td>\n",
       "      <td>H2</td>\n",
       "      <td>0.182741</td>\n",
       "      <td>36.0</td>\n",
       "      <td>0.157360</td>\n",
       "      <td>31.0</td>\n",
       "      <td>0.091371</td>\n",
       "      <td>18.0</td>\n",
       "      <td>0.500000</td>\n",
       "      <td>3.177419</td>\n",
       "      <td>0.062614</td>\n",
       "      <td>1.685279</td>\n",
       "      <td>1</td>\n",
       "      <td>1</td>\n",
       "    </tr>\n",
       "    <tr>\n",
       "      <th>41</th>\n",
       "      <td>H2</td>\n",
       "      <td>PostgreSQL</td>\n",
       "      <td>0.157360</td>\n",
       "      <td>31.0</td>\n",
       "      <td>0.182741</td>\n",
       "      <td>36.0</td>\n",
       "      <td>0.091371</td>\n",
       "      <td>18.0</td>\n",
       "      <td>0.580645</td>\n",
       "      <td>3.177419</td>\n",
       "      <td>0.062614</td>\n",
       "      <td>1.948848</td>\n",
       "      <td>1</td>\n",
       "      <td>1</td>\n",
       "    </tr>\n",
       "    <tr>\n",
       "      <th>42</th>\n",
       "      <td>PostgreSQL</td>\n",
       "      <td>SQLite</td>\n",
       "      <td>0.182741</td>\n",
       "      <td>36.0</td>\n",
       "      <td>0.081218</td>\n",
       "      <td>16.0</td>\n",
       "      <td>0.045685</td>\n",
       "      <td>9.0</td>\n",
       "      <td>0.250000</td>\n",
       "      <td>3.078125</td>\n",
       "      <td>0.030843</td>\n",
       "      <td>1.225042</td>\n",
       "      <td>1</td>\n",
       "      <td>1</td>\n",
       "    </tr>\n",
       "    <tr>\n",
       "      <th>43</th>\n",
       "      <td>SQLite</td>\n",
       "      <td>PostgreSQL</td>\n",
       "      <td>0.081218</td>\n",
       "      <td>16.0</td>\n",
       "      <td>0.182741</td>\n",
       "      <td>36.0</td>\n",
       "      <td>0.045685</td>\n",
       "      <td>9.0</td>\n",
       "      <td>0.562500</td>\n",
       "      <td>3.078125</td>\n",
       "      <td>0.030843</td>\n",
       "      <td>1.868020</td>\n",
       "      <td>1</td>\n",
       "      <td>1</td>\n",
       "    </tr>\n",
       "    <tr>\n",
       "      <th>52</th>\n",
       "      <td>MySQL</td>\n",
       "      <td>PostgreSQL</td>\n",
       "      <td>0.299492</td>\n",
       "      <td>59.0</td>\n",
       "      <td>0.182741</td>\n",
       "      <td>36.0</td>\n",
       "      <td>0.137056</td>\n",
       "      <td>27.0</td>\n",
       "      <td>0.457627</td>\n",
       "      <td>2.504237</td>\n",
       "      <td>0.082326</td>\n",
       "      <td>1.506821</td>\n",
       "      <td>1</td>\n",
       "      <td>1</td>\n",
       "    </tr>\n",
       "    <tr>\n",
       "      <th>53</th>\n",
       "      <td>PostgreSQL</td>\n",
       "      <td>MySQL</td>\n",
       "      <td>0.182741</td>\n",
       "      <td>36.0</td>\n",
       "      <td>0.299492</td>\n",
       "      <td>59.0</td>\n",
       "      <td>0.137056</td>\n",
       "      <td>27.0</td>\n",
       "      <td>0.750000</td>\n",
       "      <td>2.504237</td>\n",
       "      <td>0.082326</td>\n",
       "      <td>2.802030</td>\n",
       "      <td>1</td>\n",
       "      <td>1</td>\n",
       "    </tr>\n",
       "    <tr>\n",
       "      <th>60</th>\n",
       "      <td>PostgreSQL</td>\n",
       "      <td>Ehcache</td>\n",
       "      <td>0.182741</td>\n",
       "      <td>36.0</td>\n",
       "      <td>0.126904</td>\n",
       "      <td>25.0</td>\n",
       "      <td>0.035533</td>\n",
       "      <td>7.0</td>\n",
       "      <td>0.194444</td>\n",
       "      <td>1.532222</td>\n",
       "      <td>0.012342</td>\n",
       "      <td>1.083844</td>\n",
       "      <td>1</td>\n",
       "      <td>1</td>\n",
       "    </tr>\n",
       "    <tr>\n",
       "      <th>61</th>\n",
       "      <td>Ehcache</td>\n",
       "      <td>PostgreSQL</td>\n",
       "      <td>0.126904</td>\n",
       "      <td>25.0</td>\n",
       "      <td>0.182741</td>\n",
       "      <td>36.0</td>\n",
       "      <td>0.035533</td>\n",
       "      <td>7.0</td>\n",
       "      <td>0.280000</td>\n",
       "      <td>1.532222</td>\n",
       "      <td>0.012342</td>\n",
       "      <td>1.135082</td>\n",
       "      <td>1</td>\n",
       "      <td>1</td>\n",
       "    </tr>\n",
       "  </tbody>\n",
       "</table>\n",
       "</div>"
      ],
      "text/plain": [
       "            antecedents          consequents  antecedent support  \\\n",
       "14           PostgreSQL              IBM DB2            0.182741   \n",
       "15              IBM DB2           PostgreSQL            0.045685   \n",
       "16           PostgreSQL        MS SQL Server            0.182741   \n",
       "17        MS SQL Server           PostgreSQL            0.040609   \n",
       "18           PostgreSQL            MS Access            0.182741   \n",
       "19            MS Access           PostgreSQL            0.030457   \n",
       "26           PostgreSQL  SAP Adaptive Server            0.182741   \n",
       "27  SAP Adaptive Server           PostgreSQL            0.035533   \n",
       "28               Oracle           PostgreSQL            0.126904   \n",
       "29           PostgreSQL               Oracle            0.182741   \n",
       "40           PostgreSQL                   H2            0.182741   \n",
       "41                   H2           PostgreSQL            0.157360   \n",
       "42           PostgreSQL               SQLite            0.182741   \n",
       "43               SQLite           PostgreSQL            0.081218   \n",
       "52                MySQL           PostgreSQL            0.299492   \n",
       "53           PostgreSQL                MySQL            0.182741   \n",
       "60           PostgreSQL              Ehcache            0.182741   \n",
       "61              Ehcache           PostgreSQL            0.126904   \n",
       "\n",
       "    antecedent_sup_abs  consequent support  consequent_sup_abs   support  \\\n",
       "14                36.0            0.045685                 9.0  0.040609   \n",
       "15                 9.0            0.182741                36.0  0.040609   \n",
       "16                36.0            0.040609                 8.0  0.035533   \n",
       "17                 8.0            0.182741                36.0  0.035533   \n",
       "18                36.0            0.030457                 6.0  0.025381   \n",
       "19                 6.0            0.182741                36.0  0.025381   \n",
       "26                36.0            0.035533                 7.0  0.025381   \n",
       "27                 7.0            0.182741                36.0  0.025381   \n",
       "28                25.0            0.182741                36.0  0.086294   \n",
       "29                36.0            0.126904                25.0  0.086294   \n",
       "40                36.0            0.157360                31.0  0.091371   \n",
       "41                31.0            0.182741                36.0  0.091371   \n",
       "42                36.0            0.081218                16.0  0.045685   \n",
       "43                16.0            0.182741                36.0  0.045685   \n",
       "52                59.0            0.182741                36.0  0.137056   \n",
       "53                36.0            0.299492                59.0  0.137056   \n",
       "60                36.0            0.126904                25.0  0.035533   \n",
       "61                25.0            0.182741                36.0  0.035533   \n",
       "\n",
       "    support_abs  confidence      lift  leverage  conviction  antecedent_len  \\\n",
       "14          8.0    0.222222  4.864198  0.032261    1.226976               1   \n",
       "15          8.0    0.888889  4.864198  0.032261    7.355330               1   \n",
       "16          7.0    0.194444  4.788194  0.028112    1.190968               1   \n",
       "17          7.0    0.875000  4.788194  0.028112    6.538071               1   \n",
       "18          5.0    0.138889  4.560185  0.019815    1.125921               1   \n",
       "19          5.0    0.833333  4.560185  0.019815    4.903553               1   \n",
       "26          5.0    0.138889  3.908730  0.018887    1.120026               1   \n",
       "27          5.0    0.714286  3.908730  0.018887    2.860406               1   \n",
       "28         17.0    0.680000  3.721111  0.063104    2.553934               1   \n",
       "29         17.0    0.472222  3.721111  0.063104    1.654288               1   \n",
       "40         18.0    0.500000  3.177419  0.062614    1.685279               1   \n",
       "41         18.0    0.580645  3.177419  0.062614    1.948848               1   \n",
       "42          9.0    0.250000  3.078125  0.030843    1.225042               1   \n",
       "43          9.0    0.562500  3.078125  0.030843    1.868020               1   \n",
       "52         27.0    0.457627  2.504237  0.082326    1.506821               1   \n",
       "53         27.0    0.750000  2.504237  0.082326    2.802030               1   \n",
       "60          7.0    0.194444  1.532222  0.012342    1.083844               1   \n",
       "61          7.0    0.280000  1.532222  0.012342    1.135082               1   \n",
       "\n",
       "    consequente_len  \n",
       "14                1  \n",
       "15                1  \n",
       "16                1  \n",
       "17                1  \n",
       "18                1  \n",
       "19                1  \n",
       "26                1  \n",
       "27                1  \n",
       "28                1  \n",
       "29                1  \n",
       "40                1  \n",
       "41                1  \n",
       "42                1  \n",
       "43                1  \n",
       "52                1  \n",
       "53                1  \n",
       "60                1  \n",
       "61                1  "
      ]
     },
     "execution_count": 12,
     "metadata": {},
     "output_type": "execute_result"
    }
   ],
   "source": [
    "rules3 = df[(df['consequents'].str.contains('PostgreSQL')) | (df['antecedents'].str.contains('PostgreSQL'))] #(df['confidence'] > 0.7) ]\n",
    "rules3"
   ]
  },
  {
   "cell_type": "code",
   "execution_count": 13,
   "metadata": {},
   "outputs": [
    {
     "data": {
      "text/html": [
       "<div>\n",
       "<style scoped>\n",
       "    .dataframe tbody tr th:only-of-type {\n",
       "        vertical-align: middle;\n",
       "    }\n",
       "\n",
       "    .dataframe tbody tr th {\n",
       "        vertical-align: top;\n",
       "    }\n",
       "\n",
       "    .dataframe thead th {\n",
       "        text-align: right;\n",
       "    }\n",
       "</style>\n",
       "<table border=\"1\" class=\"dataframe\">\n",
       "  <thead>\n",
       "    <tr style=\"text-align: right;\">\n",
       "      <th></th>\n",
       "      <th>antecedents</th>\n",
       "      <th>consequents</th>\n",
       "      <th>antecedent support</th>\n",
       "      <th>antecedent_sup_abs</th>\n",
       "      <th>consequent support</th>\n",
       "      <th>consequent_sup_abs</th>\n",
       "      <th>support</th>\n",
       "      <th>support_abs</th>\n",
       "      <th>confidence</th>\n",
       "      <th>lift</th>\n",
       "      <th>leverage</th>\n",
       "      <th>conviction</th>\n",
       "      <th>antecedent_len</th>\n",
       "      <th>consequente_len</th>\n",
       "    </tr>\n",
       "  </thead>\n",
       "  <tbody>\n",
       "    <tr>\n",
       "      <th>12</th>\n",
       "      <td>MS Access</td>\n",
       "      <td>H2</td>\n",
       "      <td>0.030457</td>\n",
       "      <td>6.0</td>\n",
       "      <td>0.15736</td>\n",
       "      <td>31.0</td>\n",
       "      <td>0.025381</td>\n",
       "      <td>5.0</td>\n",
       "      <td>0.833333</td>\n",
       "      <td>5.295699</td>\n",
       "      <td>0.020588</td>\n",
       "      <td>5.055838</td>\n",
       "      <td>1</td>\n",
       "      <td>1</td>\n",
       "    </tr>\n",
       "    <tr>\n",
       "      <th>21</th>\n",
       "      <td>SAP Adaptive Server</td>\n",
       "      <td>H2</td>\n",
       "      <td>0.035533</td>\n",
       "      <td>7.0</td>\n",
       "      <td>0.15736</td>\n",
       "      <td>31.0</td>\n",
       "      <td>0.025381</td>\n",
       "      <td>5.0</td>\n",
       "      <td>0.714286</td>\n",
       "      <td>4.539171</td>\n",
       "      <td>0.019789</td>\n",
       "      <td>2.949239</td>\n",
       "      <td>1</td>\n",
       "      <td>1</td>\n",
       "    </tr>\n",
       "  </tbody>\n",
       "</table>\n",
       "</div>"
      ],
      "text/plain": [
       "            antecedents consequents  antecedent support  antecedent_sup_abs  \\\n",
       "12            MS Access          H2            0.030457                 6.0   \n",
       "21  SAP Adaptive Server          H2            0.035533                 7.0   \n",
       "\n",
       "    consequent support  consequent_sup_abs   support  support_abs  confidence  \\\n",
       "12             0.15736                31.0  0.025381          5.0    0.833333   \n",
       "21             0.15736                31.0  0.025381          5.0    0.714286   \n",
       "\n",
       "        lift  leverage  conviction  antecedent_len  consequente_len  \n",
       "12  5.295699  0.020588    5.055838               1                1  \n",
       "21  4.539171  0.019789    2.949239               1                1  "
      ]
     },
     "execution_count": 13,
     "metadata": {},
     "output_type": "execute_result"
    }
   ],
   "source": [
    "rules4 = df[(df['consequents'].str.contains('H2')) & (df['confidence'] > 0.7) ]\n",
    "rules4"
   ]
  },
  {
   "cell_type": "code",
   "execution_count": 14,
   "metadata": {},
   "outputs": [
    {
     "data": {
      "text/html": [
       "<div>\n",
       "<style scoped>\n",
       "    .dataframe tbody tr th:only-of-type {\n",
       "        vertical-align: middle;\n",
       "    }\n",
       "\n",
       "    .dataframe tbody tr th {\n",
       "        vertical-align: top;\n",
       "    }\n",
       "\n",
       "    .dataframe thead th {\n",
       "        text-align: right;\n",
       "    }\n",
       "</style>\n",
       "<table border=\"1\" class=\"dataframe\">\n",
       "  <thead>\n",
       "    <tr style=\"text-align: right;\">\n",
       "      <th></th>\n",
       "      <th>antecedents</th>\n",
       "      <th>consequents</th>\n",
       "      <th>antecedent support</th>\n",
       "      <th>antecedent_sup_abs</th>\n",
       "      <th>consequent support</th>\n",
       "      <th>consequent_sup_abs</th>\n",
       "      <th>support</th>\n",
       "      <th>support_abs</th>\n",
       "      <th>confidence</th>\n",
       "      <th>lift</th>\n",
       "      <th>leverage</th>\n",
       "      <th>conviction</th>\n",
       "      <th>antecedent_len</th>\n",
       "      <th>consequente_len</th>\n",
       "    </tr>\n",
       "  </thead>\n",
       "  <tbody>\n",
       "    <tr>\n",
       "      <th>2</th>\n",
       "      <td>IBM DB2</td>\n",
       "      <td>Oracle</td>\n",
       "      <td>0.045685</td>\n",
       "      <td>9.0</td>\n",
       "      <td>0.126904</td>\n",
       "      <td>25.0</td>\n",
       "      <td>0.045685</td>\n",
       "      <td>9.0</td>\n",
       "      <td>1.000000</td>\n",
       "      <td>7.880000</td>\n",
       "      <td>0.039888</td>\n",
       "      <td>inf</td>\n",
       "      <td>1</td>\n",
       "      <td>1</td>\n",
       "    </tr>\n",
       "    <tr>\n",
       "      <th>6</th>\n",
       "      <td>MS SQL Server</td>\n",
       "      <td>Oracle</td>\n",
       "      <td>0.040609</td>\n",
       "      <td>8.0</td>\n",
       "      <td>0.126904</td>\n",
       "      <td>25.0</td>\n",
       "      <td>0.035533</td>\n",
       "      <td>7.0</td>\n",
       "      <td>0.875000</td>\n",
       "      <td>6.895000</td>\n",
       "      <td>0.030380</td>\n",
       "      <td>6.984772</td>\n",
       "      <td>1</td>\n",
       "      <td>1</td>\n",
       "    </tr>\n",
       "    <tr>\n",
       "      <th>8</th>\n",
       "      <td>SAP Adaptive Server</td>\n",
       "      <td>Oracle</td>\n",
       "      <td>0.035533</td>\n",
       "      <td>7.0</td>\n",
       "      <td>0.126904</td>\n",
       "      <td>25.0</td>\n",
       "      <td>0.030457</td>\n",
       "      <td>6.0</td>\n",
       "      <td>0.857143</td>\n",
       "      <td>6.754286</td>\n",
       "      <td>0.025948</td>\n",
       "      <td>6.111675</td>\n",
       "      <td>1</td>\n",
       "      <td>1</td>\n",
       "    </tr>\n",
       "    <tr>\n",
       "      <th>11</th>\n",
       "      <td>MS Access</td>\n",
       "      <td>Oracle</td>\n",
       "      <td>0.030457</td>\n",
       "      <td>6.0</td>\n",
       "      <td>0.126904</td>\n",
       "      <td>25.0</td>\n",
       "      <td>0.025381</td>\n",
       "      <td>5.0</td>\n",
       "      <td>0.833333</td>\n",
       "      <td>6.566667</td>\n",
       "      <td>0.021516</td>\n",
       "      <td>5.238579</td>\n",
       "      <td>1</td>\n",
       "      <td>1</td>\n",
       "    </tr>\n",
       "  </tbody>\n",
       "</table>\n",
       "</div>"
      ],
      "text/plain": [
       "            antecedents consequents  antecedent support  antecedent_sup_abs  \\\n",
       "2               IBM DB2      Oracle            0.045685                 9.0   \n",
       "6         MS SQL Server      Oracle            0.040609                 8.0   \n",
       "8   SAP Adaptive Server      Oracle            0.035533                 7.0   \n",
       "11            MS Access      Oracle            0.030457                 6.0   \n",
       "\n",
       "    consequent support  consequent_sup_abs   support  support_abs  confidence  \\\n",
       "2             0.126904                25.0  0.045685          9.0    1.000000   \n",
       "6             0.126904                25.0  0.035533          7.0    0.875000   \n",
       "8             0.126904                25.0  0.030457          6.0    0.857143   \n",
       "11            0.126904                25.0  0.025381          5.0    0.833333   \n",
       "\n",
       "        lift  leverage  conviction  antecedent_len  consequente_len  \n",
       "2   7.880000  0.039888         inf               1                1  \n",
       "6   6.895000  0.030380    6.984772               1                1  \n",
       "8   6.754286  0.025948    6.111675               1                1  \n",
       "11  6.566667  0.021516    5.238579               1                1  "
      ]
     },
     "execution_count": 14,
     "metadata": {},
     "output_type": "execute_result"
    }
   ],
   "source": [
    "rules5 = df[(df['consequents'].str.contains('Oracle')) & (df['confidence'] > 0.7) ]\n",
    "rules5"
   ]
  },
  {
   "cell_type": "code",
   "execution_count": 15,
   "metadata": {},
   "outputs": [
    {
     "data": {
      "text/html": [
       "<div>\n",
       "<style scoped>\n",
       "    .dataframe tbody tr th:only-of-type {\n",
       "        vertical-align: middle;\n",
       "    }\n",
       "\n",
       "    .dataframe tbody tr th {\n",
       "        vertical-align: top;\n",
       "    }\n",
       "\n",
       "    .dataframe thead th {\n",
       "        text-align: right;\n",
       "    }\n",
       "</style>\n",
       "<table border=\"1\" class=\"dataframe\">\n",
       "  <thead>\n",
       "    <tr style=\"text-align: right;\">\n",
       "      <th></th>\n",
       "      <th>antecedents</th>\n",
       "      <th>consequents</th>\n",
       "      <th>antecedent support</th>\n",
       "      <th>antecedent_sup_abs</th>\n",
       "      <th>consequent support</th>\n",
       "      <th>consequent_sup_abs</th>\n",
       "      <th>support</th>\n",
       "      <th>support_abs</th>\n",
       "      <th>confidence</th>\n",
       "      <th>lift</th>\n",
       "      <th>leverage</th>\n",
       "      <th>conviction</th>\n",
       "      <th>antecedent_len</th>\n",
       "      <th>consequente_len</th>\n",
       "    </tr>\n",
       "  </thead>\n",
       "  <tbody>\n",
       "    <tr>\n",
       "      <th>4</th>\n",
       "      <td>MS SQL Server</td>\n",
       "      <td>SQLite</td>\n",
       "      <td>0.040609</td>\n",
       "      <td>8.0</td>\n",
       "      <td>0.081218</td>\n",
       "      <td>16.0</td>\n",
       "      <td>0.025381</td>\n",
       "      <td>5.0</td>\n",
       "      <td>0.625000</td>\n",
       "      <td>7.695313</td>\n",
       "      <td>0.022083</td>\n",
       "      <td>2.450085</td>\n",
       "      <td>1</td>\n",
       "      <td>1</td>\n",
       "    </tr>\n",
       "    <tr>\n",
       "      <th>31</th>\n",
       "      <td>H2</td>\n",
       "      <td>SQLite</td>\n",
       "      <td>0.157360</td>\n",
       "      <td>31.0</td>\n",
       "      <td>0.081218</td>\n",
       "      <td>16.0</td>\n",
       "      <td>0.045685</td>\n",
       "      <td>9.0</td>\n",
       "      <td>0.290323</td>\n",
       "      <td>3.574597</td>\n",
       "      <td>0.032905</td>\n",
       "      <td>1.294647</td>\n",
       "      <td>1</td>\n",
       "      <td>1</td>\n",
       "    </tr>\n",
       "    <tr>\n",
       "      <th>32</th>\n",
       "      <td>Oracle</td>\n",
       "      <td>SQLite</td>\n",
       "      <td>0.126904</td>\n",
       "      <td>25.0</td>\n",
       "      <td>0.081218</td>\n",
       "      <td>16.0</td>\n",
       "      <td>0.035533</td>\n",
       "      <td>7.0</td>\n",
       "      <td>0.280000</td>\n",
       "      <td>3.447500</td>\n",
       "      <td>0.025226</td>\n",
       "      <td>1.276086</td>\n",
       "      <td>1</td>\n",
       "      <td>1</td>\n",
       "    </tr>\n",
       "    <tr>\n",
       "      <th>42</th>\n",
       "      <td>PostgreSQL</td>\n",
       "      <td>SQLite</td>\n",
       "      <td>0.182741</td>\n",
       "      <td>36.0</td>\n",
       "      <td>0.081218</td>\n",
       "      <td>16.0</td>\n",
       "      <td>0.045685</td>\n",
       "      <td>9.0</td>\n",
       "      <td>0.250000</td>\n",
       "      <td>3.078125</td>\n",
       "      <td>0.030843</td>\n",
       "      <td>1.225042</td>\n",
       "      <td>1</td>\n",
       "      <td>1</td>\n",
       "    </tr>\n",
       "    <tr>\n",
       "      <th>55</th>\n",
       "      <td>MySQL</td>\n",
       "      <td>SQLite</td>\n",
       "      <td>0.299492</td>\n",
       "      <td>59.0</td>\n",
       "      <td>0.081218</td>\n",
       "      <td>16.0</td>\n",
       "      <td>0.055838</td>\n",
       "      <td>11.0</td>\n",
       "      <td>0.186441</td>\n",
       "      <td>2.295551</td>\n",
       "      <td>0.031513</td>\n",
       "      <td>1.129336</td>\n",
       "      <td>1</td>\n",
       "      <td>1</td>\n",
       "    </tr>\n",
       "  </tbody>\n",
       "</table>\n",
       "</div>"
      ],
      "text/plain": [
       "      antecedents consequents  antecedent support  antecedent_sup_abs  \\\n",
       "4   MS SQL Server      SQLite            0.040609                 8.0   \n",
       "31             H2      SQLite            0.157360                31.0   \n",
       "32         Oracle      SQLite            0.126904                25.0   \n",
       "42     PostgreSQL      SQLite            0.182741                36.0   \n",
       "55          MySQL      SQLite            0.299492                59.0   \n",
       "\n",
       "    consequent support  consequent_sup_abs   support  support_abs  confidence  \\\n",
       "4             0.081218                16.0  0.025381          5.0    0.625000   \n",
       "31            0.081218                16.0  0.045685          9.0    0.290323   \n",
       "32            0.081218                16.0  0.035533          7.0    0.280000   \n",
       "42            0.081218                16.0  0.045685          9.0    0.250000   \n",
       "55            0.081218                16.0  0.055838         11.0    0.186441   \n",
       "\n",
       "        lift  leverage  conviction  antecedent_len  consequente_len  \n",
       "4   7.695313  0.022083    2.450085               1                1  \n",
       "31  3.574597  0.032905    1.294647               1                1  \n",
       "32  3.447500  0.025226    1.276086               1                1  \n",
       "42  3.078125  0.030843    1.225042               1                1  \n",
       "55  2.295551  0.031513    1.129336               1                1  "
      ]
     },
     "execution_count": 15,
     "metadata": {},
     "output_type": "execute_result"
    }
   ],
   "source": [
    "rules6 = df[ (df['consequents'].str.contains('SQLite'))]# & (df['confidence'] > 0.3) ] # 0.7\n",
    "rules6"
   ]
  },
  {
   "cell_type": "code",
   "execution_count": 16,
   "metadata": {},
   "outputs": [
    {
     "data": {
      "text/html": [
       "<div>\n",
       "<style scoped>\n",
       "    .dataframe tbody tr th:only-of-type {\n",
       "        vertical-align: middle;\n",
       "    }\n",
       "\n",
       "    .dataframe tbody tr th {\n",
       "        vertical-align: top;\n",
       "    }\n",
       "\n",
       "    .dataframe thead th {\n",
       "        text-align: right;\n",
       "    }\n",
       "</style>\n",
       "<table border=\"1\" class=\"dataframe\">\n",
       "  <thead>\n",
       "    <tr style=\"text-align: right;\">\n",
       "      <th></th>\n",
       "      <th>antecedents</th>\n",
       "      <th>consequents</th>\n",
       "      <th>antecedent support</th>\n",
       "      <th>antecedent_sup_abs</th>\n",
       "      <th>consequent support</th>\n",
       "      <th>consequent_sup_abs</th>\n",
       "      <th>support</th>\n",
       "      <th>support_abs</th>\n",
       "      <th>confidence</th>\n",
       "      <th>lift</th>\n",
       "      <th>leverage</th>\n",
       "      <th>conviction</th>\n",
       "      <th>antecedent_len</th>\n",
       "      <th>consequente_len</th>\n",
       "    </tr>\n",
       "  </thead>\n",
       "  <tbody>\n",
       "    <tr>\n",
       "      <th>58</th>\n",
       "      <td>Oracle</td>\n",
       "      <td>Ehcache</td>\n",
       "      <td>0.126904</td>\n",
       "      <td>25.0</td>\n",
       "      <td>0.126904</td>\n",
       "      <td>25.0</td>\n",
       "      <td>0.030457</td>\n",
       "      <td>6.0</td>\n",
       "      <td>0.240000</td>\n",
       "      <td>1.891200</td>\n",
       "      <td>0.014352</td>\n",
       "      <td>1.148811</td>\n",
       "      <td>1</td>\n",
       "      <td>1</td>\n",
       "    </tr>\n",
       "    <tr>\n",
       "      <th>60</th>\n",
       "      <td>PostgreSQL</td>\n",
       "      <td>Ehcache</td>\n",
       "      <td>0.182741</td>\n",
       "      <td>36.0</td>\n",
       "      <td>0.126904</td>\n",
       "      <td>25.0</td>\n",
       "      <td>0.035533</td>\n",
       "      <td>7.0</td>\n",
       "      <td>0.194444</td>\n",
       "      <td>1.532222</td>\n",
       "      <td>0.012342</td>\n",
       "      <td>1.083844</td>\n",
       "      <td>1</td>\n",
       "      <td>1</td>\n",
       "    </tr>\n",
       "    <tr>\n",
       "      <th>63</th>\n",
       "      <td>H2</td>\n",
       "      <td>Ehcache</td>\n",
       "      <td>0.157360</td>\n",
       "      <td>31.0</td>\n",
       "      <td>0.126904</td>\n",
       "      <td>25.0</td>\n",
       "      <td>0.030457</td>\n",
       "      <td>6.0</td>\n",
       "      <td>0.193548</td>\n",
       "      <td>1.525161</td>\n",
       "      <td>0.010487</td>\n",
       "      <td>1.082640</td>\n",
       "      <td>1</td>\n",
       "      <td>1</td>\n",
       "    </tr>\n",
       "    <tr>\n",
       "      <th>64</th>\n",
       "      <td>MySQL</td>\n",
       "      <td>Ehcache</td>\n",
       "      <td>0.299492</td>\n",
       "      <td>59.0</td>\n",
       "      <td>0.126904</td>\n",
       "      <td>25.0</td>\n",
       "      <td>0.050761</td>\n",
       "      <td>10.0</td>\n",
       "      <td>0.169492</td>\n",
       "      <td>1.335593</td>\n",
       "      <td>0.012755</td>\n",
       "      <td>1.051279</td>\n",
       "      <td>1</td>\n",
       "      <td>1</td>\n",
       "    </tr>\n",
       "  </tbody>\n",
       "</table>\n",
       "</div>"
      ],
      "text/plain": [
       "   antecedents consequents  antecedent support  antecedent_sup_abs  \\\n",
       "58      Oracle     Ehcache            0.126904                25.0   \n",
       "60  PostgreSQL     Ehcache            0.182741                36.0   \n",
       "63          H2     Ehcache            0.157360                31.0   \n",
       "64       MySQL     Ehcache            0.299492                59.0   \n",
       "\n",
       "    consequent support  consequent_sup_abs   support  support_abs  confidence  \\\n",
       "58            0.126904                25.0  0.030457          6.0    0.240000   \n",
       "60            0.126904                25.0  0.035533          7.0    0.194444   \n",
       "63            0.126904                25.0  0.030457          6.0    0.193548   \n",
       "64            0.126904                25.0  0.050761         10.0    0.169492   \n",
       "\n",
       "        lift  leverage  conviction  antecedent_len  consequente_len  \n",
       "58  1.891200  0.014352    1.148811               1                1  \n",
       "60  1.532222  0.012342    1.083844               1                1  \n",
       "63  1.525161  0.010487    1.082640               1                1  \n",
       "64  1.335593  0.012755    1.051279               1                1  "
      ]
     },
     "execution_count": 16,
     "metadata": {},
     "output_type": "execute_result"
    }
   ],
   "source": [
    "rules7 = df[(df['consequents'].str.contains('Ehcache'))]# & (df['confidence'] > 0.7) ]\n",
    "rules7"
   ]
  },
  {
   "cell_type": "code",
   "execution_count": 17,
   "metadata": {},
   "outputs": [
    {
     "data": {
      "text/html": [
       "<div>\n",
       "<style scoped>\n",
       "    .dataframe tbody tr th:only-of-type {\n",
       "        vertical-align: middle;\n",
       "    }\n",
       "\n",
       "    .dataframe tbody tr th {\n",
       "        vertical-align: top;\n",
       "    }\n",
       "\n",
       "    .dataframe thead th {\n",
       "        text-align: right;\n",
       "    }\n",
       "</style>\n",
       "<table border=\"1\" class=\"dataframe\">\n",
       "  <thead>\n",
       "    <tr style=\"text-align: right;\">\n",
       "      <th></th>\n",
       "      <th>antecedents</th>\n",
       "      <th>consequents</th>\n",
       "      <th>antecedent support</th>\n",
       "      <th>antecedent_sup_abs</th>\n",
       "      <th>consequent support</th>\n",
       "      <th>consequent_sup_abs</th>\n",
       "      <th>support</th>\n",
       "      <th>support_abs</th>\n",
       "      <th>confidence</th>\n",
       "      <th>lift</th>\n",
       "      <th>leverage</th>\n",
       "      <th>conviction</th>\n",
       "      <th>antecedent_len</th>\n",
       "      <th>consequente_len</th>\n",
       "    </tr>\n",
       "  </thead>\n",
       "  <tbody>\n",
       "    <tr>\n",
       "      <th>1</th>\n",
       "      <td>SAP Adaptive Server</td>\n",
       "      <td>IBM DB2</td>\n",
       "      <td>0.035533</td>\n",
       "      <td>7.0</td>\n",
       "      <td>0.045685</td>\n",
       "      <td>9.0</td>\n",
       "      <td>0.025381</td>\n",
       "      <td>5.0</td>\n",
       "      <td>0.714286</td>\n",
       "      <td>15.634921</td>\n",
       "      <td>0.023757</td>\n",
       "      <td>3.340102</td>\n",
       "      <td>1</td>\n",
       "      <td>1</td>\n",
       "    </tr>\n",
       "    <tr>\n",
       "      <th>3</th>\n",
       "      <td>Oracle</td>\n",
       "      <td>IBM DB2</td>\n",
       "      <td>0.126904</td>\n",
       "      <td>25.0</td>\n",
       "      <td>0.045685</td>\n",
       "      <td>9.0</td>\n",
       "      <td>0.045685</td>\n",
       "      <td>9.0</td>\n",
       "      <td>0.360000</td>\n",
       "      <td>7.880000</td>\n",
       "      <td>0.039888</td>\n",
       "      <td>1.491117</td>\n",
       "      <td>1</td>\n",
       "      <td>1</td>\n",
       "    </tr>\n",
       "    <tr>\n",
       "      <th>14</th>\n",
       "      <td>PostgreSQL</td>\n",
       "      <td>IBM DB2</td>\n",
       "      <td>0.182741</td>\n",
       "      <td>36.0</td>\n",
       "      <td>0.045685</td>\n",
       "      <td>9.0</td>\n",
       "      <td>0.040609</td>\n",
       "      <td>8.0</td>\n",
       "      <td>0.222222</td>\n",
       "      <td>4.864198</td>\n",
       "      <td>0.032261</td>\n",
       "      <td>1.226976</td>\n",
       "      <td>1</td>\n",
       "      <td>1</td>\n",
       "    </tr>\n",
       "    <tr>\n",
       "      <th>23</th>\n",
       "      <td>H2</td>\n",
       "      <td>IBM DB2</td>\n",
       "      <td>0.157360</td>\n",
       "      <td>31.0</td>\n",
       "      <td>0.045685</td>\n",
       "      <td>9.0</td>\n",
       "      <td>0.030457</td>\n",
       "      <td>6.0</td>\n",
       "      <td>0.193548</td>\n",
       "      <td>4.236559</td>\n",
       "      <td>0.023268</td>\n",
       "      <td>1.183350</td>\n",
       "      <td>1</td>\n",
       "      <td>1</td>\n",
       "    </tr>\n",
       "    <tr>\n",
       "      <th>39</th>\n",
       "      <td>MySQL</td>\n",
       "      <td>IBM DB2</td>\n",
       "      <td>0.299492</td>\n",
       "      <td>59.0</td>\n",
       "      <td>0.045685</td>\n",
       "      <td>9.0</td>\n",
       "      <td>0.045685</td>\n",
       "      <td>9.0</td>\n",
       "      <td>0.152542</td>\n",
       "      <td>3.338983</td>\n",
       "      <td>0.032003</td>\n",
       "      <td>1.126091</td>\n",
       "      <td>1</td>\n",
       "      <td>1</td>\n",
       "    </tr>\n",
       "  </tbody>\n",
       "</table>\n",
       "</div>"
      ],
      "text/plain": [
       "            antecedents consequents  antecedent support  antecedent_sup_abs  \\\n",
       "1   SAP Adaptive Server     IBM DB2            0.035533                 7.0   \n",
       "3                Oracle     IBM DB2            0.126904                25.0   \n",
       "14           PostgreSQL     IBM DB2            0.182741                36.0   \n",
       "23                   H2     IBM DB2            0.157360                31.0   \n",
       "39                MySQL     IBM DB2            0.299492                59.0   \n",
       "\n",
       "    consequent support  consequent_sup_abs   support  support_abs  confidence  \\\n",
       "1             0.045685                 9.0  0.025381          5.0    0.714286   \n",
       "3             0.045685                 9.0  0.045685          9.0    0.360000   \n",
       "14            0.045685                 9.0  0.040609          8.0    0.222222   \n",
       "23            0.045685                 9.0  0.030457          6.0    0.193548   \n",
       "39            0.045685                 9.0  0.045685          9.0    0.152542   \n",
       "\n",
       "         lift  leverage  conviction  antecedent_len  consequente_len  \n",
       "1   15.634921  0.023757    3.340102               1                1  \n",
       "3    7.880000  0.039888    1.491117               1                1  \n",
       "14   4.864198  0.032261    1.226976               1                1  \n",
       "23   4.236559  0.023268    1.183350               1                1  \n",
       "39   3.338983  0.032003    1.126091               1                1  "
      ]
     },
     "execution_count": 17,
     "metadata": {},
     "output_type": "execute_result"
    }
   ],
   "source": [
    "#rules7 = df[ (df['consequents'].str.contains('Redis'))] #& (df['confidence'] > 0.7) ]\n",
    "rules8 = df[ (df['consequents'].str.contains('IBM DB2'))] #& (df['confidence'] > 0.7) ]\n",
    "rules8"
   ]
  },
  {
   "cell_type": "code",
   "execution_count": 18,
   "metadata": {},
   "outputs": [
    {
     "data": {
      "text/html": [
       "<div>\n",
       "<style scoped>\n",
       "    .dataframe tbody tr th:only-of-type {\n",
       "        vertical-align: middle;\n",
       "    }\n",
       "\n",
       "    .dataframe tbody tr th {\n",
       "        vertical-align: top;\n",
       "    }\n",
       "\n",
       "    .dataframe thead th {\n",
       "        text-align: right;\n",
       "    }\n",
       "</style>\n",
       "<table border=\"1\" class=\"dataframe\">\n",
       "  <thead>\n",
       "    <tr style=\"text-align: right;\">\n",
       "      <th></th>\n",
       "      <th>antecedents</th>\n",
       "      <th>consequents</th>\n",
       "      <th>antecedent support</th>\n",
       "      <th>antecedent_sup_abs</th>\n",
       "      <th>consequent support</th>\n",
       "      <th>consequent_sup_abs</th>\n",
       "      <th>support</th>\n",
       "      <th>support_abs</th>\n",
       "      <th>confidence</th>\n",
       "      <th>lift</th>\n",
       "      <th>leverage</th>\n",
       "      <th>conviction</th>\n",
       "      <th>antecedent_len</th>\n",
       "      <th>consequente_len</th>\n",
       "    </tr>\n",
       "  </thead>\n",
       "  <tbody>\n",
       "    <tr>\n",
       "      <th>5</th>\n",
       "      <td>SQLite</td>\n",
       "      <td>MS SQL Server</td>\n",
       "      <td>0.081218</td>\n",
       "      <td>16.0</td>\n",
       "      <td>0.040609</td>\n",
       "      <td>8.0</td>\n",
       "      <td>0.025381</td>\n",
       "      <td>5.0</td>\n",
       "      <td>0.312500</td>\n",
       "      <td>7.695313</td>\n",
       "      <td>0.022083</td>\n",
       "      <td>1.395478</td>\n",
       "      <td>1</td>\n",
       "      <td>1</td>\n",
       "    </tr>\n",
       "    <tr>\n",
       "      <th>7</th>\n",
       "      <td>Oracle</td>\n",
       "      <td>MS SQL Server</td>\n",
       "      <td>0.126904</td>\n",
       "      <td>25.0</td>\n",
       "      <td>0.040609</td>\n",
       "      <td>8.0</td>\n",
       "      <td>0.035533</td>\n",
       "      <td>7.0</td>\n",
       "      <td>0.280000</td>\n",
       "      <td>6.895000</td>\n",
       "      <td>0.030380</td>\n",
       "      <td>1.332487</td>\n",
       "      <td>1</td>\n",
       "      <td>1</td>\n",
       "    </tr>\n",
       "    <tr>\n",
       "      <th>16</th>\n",
       "      <td>PostgreSQL</td>\n",
       "      <td>MS SQL Server</td>\n",
       "      <td>0.182741</td>\n",
       "      <td>36.0</td>\n",
       "      <td>0.040609</td>\n",
       "      <td>8.0</td>\n",
       "      <td>0.035533</td>\n",
       "      <td>7.0</td>\n",
       "      <td>0.194444</td>\n",
       "      <td>4.788194</td>\n",
       "      <td>0.028112</td>\n",
       "      <td>1.190968</td>\n",
       "      <td>1</td>\n",
       "      <td>1</td>\n",
       "    </tr>\n",
       "    <tr>\n",
       "      <th>24</th>\n",
       "      <td>H2</td>\n",
       "      <td>MS SQL Server</td>\n",
       "      <td>0.157360</td>\n",
       "      <td>31.0</td>\n",
       "      <td>0.040609</td>\n",
       "      <td>8.0</td>\n",
       "      <td>0.025381</td>\n",
       "      <td>5.0</td>\n",
       "      <td>0.161290</td>\n",
       "      <td>3.971774</td>\n",
       "      <td>0.018990</td>\n",
       "      <td>1.143889</td>\n",
       "      <td>1</td>\n",
       "      <td>1</td>\n",
       "    </tr>\n",
       "    <tr>\n",
       "      <th>46</th>\n",
       "      <td>MySQL</td>\n",
       "      <td>MS SQL Server</td>\n",
       "      <td>0.299492</td>\n",
       "      <td>59.0</td>\n",
       "      <td>0.040609</td>\n",
       "      <td>8.0</td>\n",
       "      <td>0.035533</td>\n",
       "      <td>7.0</td>\n",
       "      <td>0.118644</td>\n",
       "      <td>2.921610</td>\n",
       "      <td>0.023371</td>\n",
       "      <td>1.088540</td>\n",
       "      <td>1</td>\n",
       "      <td>1</td>\n",
       "    </tr>\n",
       "  </tbody>\n",
       "</table>\n",
       "</div>"
      ],
      "text/plain": [
       "   antecedents    consequents  antecedent support  antecedent_sup_abs  \\\n",
       "5       SQLite  MS SQL Server            0.081218                16.0   \n",
       "7       Oracle  MS SQL Server            0.126904                25.0   \n",
       "16  PostgreSQL  MS SQL Server            0.182741                36.0   \n",
       "24          H2  MS SQL Server            0.157360                31.0   \n",
       "46       MySQL  MS SQL Server            0.299492                59.0   \n",
       "\n",
       "    consequent support  consequent_sup_abs   support  support_abs  confidence  \\\n",
       "5             0.040609                 8.0  0.025381          5.0    0.312500   \n",
       "7             0.040609                 8.0  0.035533          7.0    0.280000   \n",
       "16            0.040609                 8.0  0.035533          7.0    0.194444   \n",
       "24            0.040609                 8.0  0.025381          5.0    0.161290   \n",
       "46            0.040609                 8.0  0.035533          7.0    0.118644   \n",
       "\n",
       "        lift  leverage  conviction  antecedent_len  consequente_len  \n",
       "5   7.695313  0.022083    1.395478               1                1  \n",
       "7   6.895000  0.030380    1.332487               1                1  \n",
       "16  4.788194  0.028112    1.190968               1                1  \n",
       "24  3.971774  0.018990    1.143889               1                1  \n",
       "46  2.921610  0.023371    1.088540               1                1  "
      ]
     },
     "execution_count": 18,
     "metadata": {},
     "output_type": "execute_result"
    }
   ],
   "source": [
    "#rules9 = df[(df['consequents'].str.contains('MongoDB'))]#& (df['confidence'] > 0.3) ] # 0.7\n",
    "rules9 = df[ (df['consequents'].str.contains('MS SQL Server'))]# & (df['confidence'] > 0.7) ]\n",
    "rules9"
   ]
  },
  {
   "cell_type": "code",
   "execution_count": 29,
   "metadata": {},
   "outputs": [
    {
     "data": {
      "text/html": [
       "<div>\n",
       "<style scoped>\n",
       "    .dataframe tbody tr th:only-of-type {\n",
       "        vertical-align: middle;\n",
       "    }\n",
       "\n",
       "    .dataframe tbody tr th {\n",
       "        vertical-align: top;\n",
       "    }\n",
       "\n",
       "    .dataframe thead th {\n",
       "        text-align: right;\n",
       "    }\n",
       "</style>\n",
       "<table border=\"1\" class=\"dataframe\">\n",
       "  <thead>\n",
       "    <tr style=\"text-align: right;\">\n",
       "      <th></th>\n",
       "      <th>antecedents</th>\n",
       "      <th>consequents</th>\n",
       "      <th>antecedent support</th>\n",
       "      <th>antecedent_sup_abs</th>\n",
       "      <th>consequent support</th>\n",
       "      <th>consequent_sup_abs</th>\n",
       "      <th>support</th>\n",
       "      <th>support_abs</th>\n",
       "      <th>confidence</th>\n",
       "      <th>lift</th>\n",
       "      <th>leverage</th>\n",
       "      <th>conviction</th>\n",
       "      <th>antecedent_len</th>\n",
       "      <th>consequente_len</th>\n",
       "    </tr>\n",
       "  </thead>\n",
       "  <tbody>\n",
       "    <tr>\n",
       "      <th>0</th>\n",
       "      <td>IBM DB2</td>\n",
       "      <td>SAP Adaptive Server</td>\n",
       "      <td>0.045685</td>\n",
       "      <td>9.0</td>\n",
       "      <td>0.035533</td>\n",
       "      <td>7.0</td>\n",
       "      <td>0.025381</td>\n",
       "      <td>5.0</td>\n",
       "      <td>0.555556</td>\n",
       "      <td>15.634921</td>\n",
       "      <td>0.023757</td>\n",
       "      <td>2.170051</td>\n",
       "      <td>1</td>\n",
       "      <td>1</td>\n",
       "    </tr>\n",
       "    <tr>\n",
       "      <th>1</th>\n",
       "      <td>SAP Adaptive Server</td>\n",
       "      <td>IBM DB2</td>\n",
       "      <td>0.035533</td>\n",
       "      <td>7.0</td>\n",
       "      <td>0.045685</td>\n",
       "      <td>9.0</td>\n",
       "      <td>0.025381</td>\n",
       "      <td>5.0</td>\n",
       "      <td>0.714286</td>\n",
       "      <td>15.634921</td>\n",
       "      <td>0.023757</td>\n",
       "      <td>3.340102</td>\n",
       "      <td>1</td>\n",
       "      <td>1</td>\n",
       "    </tr>\n",
       "    <tr>\n",
       "      <th>8</th>\n",
       "      <td>SAP Adaptive Server</td>\n",
       "      <td>Oracle</td>\n",
       "      <td>0.035533</td>\n",
       "      <td>7.0</td>\n",
       "      <td>0.126904</td>\n",
       "      <td>25.0</td>\n",
       "      <td>0.030457</td>\n",
       "      <td>6.0</td>\n",
       "      <td>0.857143</td>\n",
       "      <td>6.754286</td>\n",
       "      <td>0.025948</td>\n",
       "      <td>6.111675</td>\n",
       "      <td>1</td>\n",
       "      <td>1</td>\n",
       "    </tr>\n",
       "    <tr>\n",
       "      <th>9</th>\n",
       "      <td>Oracle</td>\n",
       "      <td>SAP Adaptive Server</td>\n",
       "      <td>0.126904</td>\n",
       "      <td>25.0</td>\n",
       "      <td>0.035533</td>\n",
       "      <td>7.0</td>\n",
       "      <td>0.030457</td>\n",
       "      <td>6.0</td>\n",
       "      <td>0.240000</td>\n",
       "      <td>6.754286</td>\n",
       "      <td>0.025948</td>\n",
       "      <td>1.269036</td>\n",
       "      <td>1</td>\n",
       "      <td>1</td>\n",
       "    </tr>\n",
       "    <tr>\n",
       "      <th>20</th>\n",
       "      <td>H2</td>\n",
       "      <td>SAP Adaptive Server</td>\n",
       "      <td>0.157360</td>\n",
       "      <td>31.0</td>\n",
       "      <td>0.035533</td>\n",
       "      <td>7.0</td>\n",
       "      <td>0.025381</td>\n",
       "      <td>5.0</td>\n",
       "      <td>0.161290</td>\n",
       "      <td>4.539171</td>\n",
       "      <td>0.019789</td>\n",
       "      <td>1.149941</td>\n",
       "      <td>1</td>\n",
       "      <td>1</td>\n",
       "    </tr>\n",
       "    <tr>\n",
       "      <th>21</th>\n",
       "      <td>SAP Adaptive Server</td>\n",
       "      <td>H2</td>\n",
       "      <td>0.035533</td>\n",
       "      <td>7.0</td>\n",
       "      <td>0.157360</td>\n",
       "      <td>31.0</td>\n",
       "      <td>0.025381</td>\n",
       "      <td>5.0</td>\n",
       "      <td>0.714286</td>\n",
       "      <td>4.539171</td>\n",
       "      <td>0.019789</td>\n",
       "      <td>2.949239</td>\n",
       "      <td>1</td>\n",
       "      <td>1</td>\n",
       "    </tr>\n",
       "    <tr>\n",
       "      <th>26</th>\n",
       "      <td>PostgreSQL</td>\n",
       "      <td>SAP Adaptive Server</td>\n",
       "      <td>0.182741</td>\n",
       "      <td>36.0</td>\n",
       "      <td>0.035533</td>\n",
       "      <td>7.0</td>\n",
       "      <td>0.025381</td>\n",
       "      <td>5.0</td>\n",
       "      <td>0.138889</td>\n",
       "      <td>3.908730</td>\n",
       "      <td>0.018887</td>\n",
       "      <td>1.120026</td>\n",
       "      <td>1</td>\n",
       "      <td>1</td>\n",
       "    </tr>\n",
       "    <tr>\n",
       "      <th>27</th>\n",
       "      <td>SAP Adaptive Server</td>\n",
       "      <td>PostgreSQL</td>\n",
       "      <td>0.035533</td>\n",
       "      <td>7.0</td>\n",
       "      <td>0.182741</td>\n",
       "      <td>36.0</td>\n",
       "      <td>0.025381</td>\n",
       "      <td>5.0</td>\n",
       "      <td>0.714286</td>\n",
       "      <td>3.908730</td>\n",
       "      <td>0.018887</td>\n",
       "      <td>2.860406</td>\n",
       "      <td>1</td>\n",
       "      <td>1</td>\n",
       "    </tr>\n",
       "    <tr>\n",
       "      <th>35</th>\n",
       "      <td>MySQL</td>\n",
       "      <td>SAP Adaptive Server</td>\n",
       "      <td>0.299492</td>\n",
       "      <td>59.0</td>\n",
       "      <td>0.035533</td>\n",
       "      <td>7.0</td>\n",
       "      <td>0.035533</td>\n",
       "      <td>7.0</td>\n",
       "      <td>0.118644</td>\n",
       "      <td>3.338983</td>\n",
       "      <td>0.024891</td>\n",
       "      <td>1.094299</td>\n",
       "      <td>1</td>\n",
       "      <td>1</td>\n",
       "    </tr>\n",
       "    <tr>\n",
       "      <th>36</th>\n",
       "      <td>SAP Adaptive Server</td>\n",
       "      <td>MySQL</td>\n",
       "      <td>0.035533</td>\n",
       "      <td>7.0</td>\n",
       "      <td>0.299492</td>\n",
       "      <td>59.0</td>\n",
       "      <td>0.035533</td>\n",
       "      <td>7.0</td>\n",
       "      <td>1.000000</td>\n",
       "      <td>3.338983</td>\n",
       "      <td>0.024891</td>\n",
       "      <td>inf</td>\n",
       "      <td>1</td>\n",
       "      <td>1</td>\n",
       "    </tr>\n",
       "  </tbody>\n",
       "</table>\n",
       "</div>"
      ],
      "text/plain": [
       "            antecedents          consequents  antecedent support  \\\n",
       "0               IBM DB2  SAP Adaptive Server            0.045685   \n",
       "1   SAP Adaptive Server              IBM DB2            0.035533   \n",
       "8   SAP Adaptive Server               Oracle            0.035533   \n",
       "9                Oracle  SAP Adaptive Server            0.126904   \n",
       "20                   H2  SAP Adaptive Server            0.157360   \n",
       "21  SAP Adaptive Server                   H2            0.035533   \n",
       "26           PostgreSQL  SAP Adaptive Server            0.182741   \n",
       "27  SAP Adaptive Server           PostgreSQL            0.035533   \n",
       "35                MySQL  SAP Adaptive Server            0.299492   \n",
       "36  SAP Adaptive Server                MySQL            0.035533   \n",
       "\n",
       "    antecedent_sup_abs  consequent support  consequent_sup_abs   support  \\\n",
       "0                  9.0            0.035533                 7.0  0.025381   \n",
       "1                  7.0            0.045685                 9.0  0.025381   \n",
       "8                  7.0            0.126904                25.0  0.030457   \n",
       "9                 25.0            0.035533                 7.0  0.030457   \n",
       "20                31.0            0.035533                 7.0  0.025381   \n",
       "21                 7.0            0.157360                31.0  0.025381   \n",
       "26                36.0            0.035533                 7.0  0.025381   \n",
       "27                 7.0            0.182741                36.0  0.025381   \n",
       "35                59.0            0.035533                 7.0  0.035533   \n",
       "36                 7.0            0.299492                59.0  0.035533   \n",
       "\n",
       "    support_abs  confidence       lift  leverage  conviction  antecedent_len  \\\n",
       "0           5.0    0.555556  15.634921  0.023757    2.170051               1   \n",
       "1           5.0    0.714286  15.634921  0.023757    3.340102               1   \n",
       "8           6.0    0.857143   6.754286  0.025948    6.111675               1   \n",
       "9           6.0    0.240000   6.754286  0.025948    1.269036               1   \n",
       "20          5.0    0.161290   4.539171  0.019789    1.149941               1   \n",
       "21          5.0    0.714286   4.539171  0.019789    2.949239               1   \n",
       "26          5.0    0.138889   3.908730  0.018887    1.120026               1   \n",
       "27          5.0    0.714286   3.908730  0.018887    2.860406               1   \n",
       "35          7.0    0.118644   3.338983  0.024891    1.094299               1   \n",
       "36          7.0    1.000000   3.338983  0.024891         inf               1   \n",
       "\n",
       "    consequente_len  \n",
       "0                 1  \n",
       "1                 1  \n",
       "8                 1  \n",
       "9                 1  \n",
       "20                1  \n",
       "21                1  \n",
       "26                1  \n",
       "27                1  \n",
       "35                1  \n",
       "36                1  "
      ]
     },
     "execution_count": 29,
     "metadata": {},
     "output_type": "execute_result"
    }
   ],
   "source": [
    "rules10 = df[ (df['antecedents'].str.contains('SAP Adaptive Server')) | (df['consequents'].str.contains('SAP Adaptive Server'))]# & (df['confidence'] > 0.7) ]\n",
    "rules10"
   ]
  },
  {
   "cell_type": "code",
   "execution_count": 20,
   "metadata": {},
   "outputs": [
    {
     "data": {
      "text/html": [
       "<div>\n",
       "<style scoped>\n",
       "    .dataframe tbody tr th:only-of-type {\n",
       "        vertical-align: middle;\n",
       "    }\n",
       "\n",
       "    .dataframe tbody tr th {\n",
       "        vertical-align: top;\n",
       "    }\n",
       "\n",
       "    .dataframe thead th {\n",
       "        text-align: right;\n",
       "    }\n",
       "</style>\n",
       "<table border=\"1\" class=\"dataframe\">\n",
       "  <thead>\n",
       "    <tr style=\"text-align: right;\">\n",
       "      <th></th>\n",
       "      <th>antecedents</th>\n",
       "      <th>consequents</th>\n",
       "      <th>antecedent support</th>\n",
       "      <th>antecedent_sup_abs</th>\n",
       "      <th>consequent support</th>\n",
       "      <th>consequent_sup_abs</th>\n",
       "      <th>support</th>\n",
       "      <th>support_abs</th>\n",
       "      <th>confidence</th>\n",
       "      <th>lift</th>\n",
       "      <th>leverage</th>\n",
       "      <th>conviction</th>\n",
       "      <th>antecedent_len</th>\n",
       "      <th>consequente_len</th>\n",
       "    </tr>\n",
       "  </thead>\n",
       "  <tbody>\n",
       "    <tr>\n",
       "      <th>10</th>\n",
       "      <td>Oracle</td>\n",
       "      <td>MS Access</td>\n",
       "      <td>0.126904</td>\n",
       "      <td>25.0</td>\n",
       "      <td>0.030457</td>\n",
       "      <td>6.0</td>\n",
       "      <td>0.025381</td>\n",
       "      <td>5.0</td>\n",
       "      <td>0.200000</td>\n",
       "      <td>6.566667</td>\n",
       "      <td>0.021516</td>\n",
       "      <td>1.211929</td>\n",
       "      <td>1</td>\n",
       "      <td>1</td>\n",
       "    </tr>\n",
       "    <tr>\n",
       "      <th>13</th>\n",
       "      <td>H2</td>\n",
       "      <td>MS Access</td>\n",
       "      <td>0.157360</td>\n",
       "      <td>31.0</td>\n",
       "      <td>0.030457</td>\n",
       "      <td>6.0</td>\n",
       "      <td>0.025381</td>\n",
       "      <td>5.0</td>\n",
       "      <td>0.161290</td>\n",
       "      <td>5.295699</td>\n",
       "      <td>0.020588</td>\n",
       "      <td>1.155994</td>\n",
       "      <td>1</td>\n",
       "      <td>1</td>\n",
       "    </tr>\n",
       "    <tr>\n",
       "      <th>18</th>\n",
       "      <td>PostgreSQL</td>\n",
       "      <td>MS Access</td>\n",
       "      <td>0.182741</td>\n",
       "      <td>36.0</td>\n",
       "      <td>0.030457</td>\n",
       "      <td>6.0</td>\n",
       "      <td>0.025381</td>\n",
       "      <td>5.0</td>\n",
       "      <td>0.138889</td>\n",
       "      <td>4.560185</td>\n",
       "      <td>0.019815</td>\n",
       "      <td>1.125921</td>\n",
       "      <td>1</td>\n",
       "      <td>1</td>\n",
       "    </tr>\n",
       "    <tr>\n",
       "      <th>38</th>\n",
       "      <td>MySQL</td>\n",
       "      <td>MS Access</td>\n",
       "      <td>0.299492</td>\n",
       "      <td>59.0</td>\n",
       "      <td>0.030457</td>\n",
       "      <td>6.0</td>\n",
       "      <td>0.030457</td>\n",
       "      <td>6.0</td>\n",
       "      <td>0.101695</td>\n",
       "      <td>3.338983</td>\n",
       "      <td>0.021335</td>\n",
       "      <td>1.079303</td>\n",
       "      <td>1</td>\n",
       "      <td>1</td>\n",
       "    </tr>\n",
       "  </tbody>\n",
       "</table>\n",
       "</div>"
      ],
      "text/plain": [
       "   antecedents consequents  antecedent support  antecedent_sup_abs  \\\n",
       "10      Oracle   MS Access            0.126904                25.0   \n",
       "13          H2   MS Access            0.157360                31.0   \n",
       "18  PostgreSQL   MS Access            0.182741                36.0   \n",
       "38       MySQL   MS Access            0.299492                59.0   \n",
       "\n",
       "    consequent support  consequent_sup_abs   support  support_abs  confidence  \\\n",
       "10            0.030457                 6.0  0.025381          5.0    0.200000   \n",
       "13            0.030457                 6.0  0.025381          5.0    0.161290   \n",
       "18            0.030457                 6.0  0.025381          5.0    0.138889   \n",
       "38            0.030457                 6.0  0.030457          6.0    0.101695   \n",
       "\n",
       "        lift  leverage  conviction  antecedent_len  consequente_len  \n",
       "10  6.566667  0.021516    1.211929               1                1  \n",
       "13  5.295699  0.020588    1.155994               1                1  \n",
       "18  4.560185  0.019815    1.125921               1                1  \n",
       "38  3.338983  0.021335    1.079303               1                1  "
      ]
     },
     "execution_count": 20,
     "metadata": {},
     "output_type": "execute_result"
    }
   ],
   "source": [
    "#rules11 = df[ (df['consequents'] .str.contains('MariaDB'))]# & (df['confidence'] > 0.7) ]\n",
    "rules11 = df[ (df['consequents'] .str.contains('MS Access'))]# & (df['confidence'] > 0.7) ]\n",
    "rules11"
   ]
  },
  {
   "cell_type": "code",
   "execution_count": 21,
   "metadata": {},
   "outputs": [
    {
     "data": {
      "text/html": [
       "<div>\n",
       "<style scoped>\n",
       "    .dataframe tbody tr th:only-of-type {\n",
       "        vertical-align: middle;\n",
       "    }\n",
       "\n",
       "    .dataframe tbody tr th {\n",
       "        vertical-align: top;\n",
       "    }\n",
       "\n",
       "    .dataframe thead th {\n",
       "        text-align: right;\n",
       "    }\n",
       "</style>\n",
       "<table border=\"1\" class=\"dataframe\">\n",
       "  <thead>\n",
       "    <tr style=\"text-align: right;\">\n",
       "      <th></th>\n",
       "      <th>antecedents</th>\n",
       "      <th>consequents</th>\n",
       "      <th>antecedent support</th>\n",
       "      <th>antecedent_sup_abs</th>\n",
       "      <th>consequent support</th>\n",
       "      <th>consequent_sup_abs</th>\n",
       "      <th>support</th>\n",
       "      <th>support_abs</th>\n",
       "      <th>confidence</th>\n",
       "      <th>lift</th>\n",
       "      <th>leverage</th>\n",
       "      <th>conviction</th>\n",
       "      <th>antecedent_len</th>\n",
       "      <th>consequente_len</th>\n",
       "    </tr>\n",
       "  </thead>\n",
       "  <tbody>\n",
       "    <tr>\n",
       "      <th>50</th>\n",
       "      <td>MySQL</td>\n",
       "      <td>MongoDB</td>\n",
       "      <td>0.299492</td>\n",
       "      <td>59.0</td>\n",
       "      <td>0.040609</td>\n",
       "      <td>8.0</td>\n",
       "      <td>0.030457</td>\n",
       "      <td>6.0</td>\n",
       "      <td>0.101695</td>\n",
       "      <td>2.504237</td>\n",
       "      <td>0.018295</td>\n",
       "      <td>1.068001</td>\n",
       "      <td>1</td>\n",
       "      <td>1</td>\n",
       "    </tr>\n",
       "  </tbody>\n",
       "</table>\n",
       "</div>"
      ],
      "text/plain": [
       "   antecedents consequents  antecedent support  antecedent_sup_abs  \\\n",
       "50       MySQL     MongoDB            0.299492                59.0   \n",
       "\n",
       "    consequent support  consequent_sup_abs   support  support_abs  confidence  \\\n",
       "50            0.040609                 8.0  0.030457          6.0    0.101695   \n",
       "\n",
       "        lift  leverage  conviction  antecedent_len  consequente_len  \n",
       "50  2.504237  0.018295    1.068001               1                1  "
      ]
     },
     "execution_count": 21,
     "metadata": {},
     "output_type": "execute_result"
    }
   ],
   "source": [
    "#rules11 = df[ (df['consequents'] .str.contains('MariaDB'))]# & (df['confidence'] > 0.7) ]\n",
    "rules12 = df[ (df['consequents'] .str.contains('MongoDB'))]# & (df['confidence'] > 0.7) ]\n",
    "rules12"
   ]
  },
  {
   "attachments": {},
   "cell_type": "markdown",
   "metadata": {},
   "source": [
    "Expected Patterns Session\n",
    "In the rules below, we highlight the dependence presented in opposite directions and the expected correlation.\n",
    "In first version not occurr expected patterns"
   ]
  },
  {
   "cell_type": "code",
   "execution_count": 22,
   "metadata": {},
   "outputs": [
    {
     "data": {
      "text/html": [
       "<div>\n",
       "<style scoped>\n",
       "    .dataframe tbody tr th:only-of-type {\n",
       "        vertical-align: middle;\n",
       "    }\n",
       "\n",
       "    .dataframe tbody tr th {\n",
       "        vertical-align: top;\n",
       "    }\n",
       "\n",
       "    .dataframe thead th {\n",
       "        text-align: right;\n",
       "    }\n",
       "</style>\n",
       "<table border=\"1\" class=\"dataframe\">\n",
       "  <thead>\n",
       "    <tr style=\"text-align: right;\">\n",
       "      <th></th>\n",
       "      <th>antecedents</th>\n",
       "      <th>consequents</th>\n",
       "      <th>antecedent support</th>\n",
       "      <th>antecedent_sup_abs</th>\n",
       "      <th>consequent support</th>\n",
       "      <th>consequent_sup_abs</th>\n",
       "      <th>support</th>\n",
       "      <th>support_abs</th>\n",
       "      <th>confidence</th>\n",
       "      <th>lift</th>\n",
       "      <th>leverage</th>\n",
       "      <th>conviction</th>\n",
       "      <th>antecedent_len</th>\n",
       "      <th>consequente_len</th>\n",
       "    </tr>\n",
       "  </thead>\n",
       "  <tbody>\n",
       "  </tbody>\n",
       "</table>\n",
       "</div>"
      ],
      "text/plain": [
       "Empty DataFrame\n",
       "Columns: [antecedents, consequents, antecedent support, antecedent_sup_abs, consequent support, consequent_sup_abs, support, support_abs, confidence, lift, leverage, conviction, antecedent_len, consequente_len]\n",
       "Index: []"
      ]
     },
     "execution_count": 22,
     "metadata": {},
     "output_type": "execute_result"
    }
   ],
   "source": [
    "rules9 = df[((df['antecedents'].str.contains('MariaDB')) & (df['consequents'].str.contains('MySQL'))) | \n",
    "((df['antecedents'].str.contains('MySQL')) & (df['consequents'].str.contains('MariaDB')))]\n",
    "rules9"
   ]
  },
  {
   "cell_type": "code",
   "execution_count": 23,
   "metadata": {},
   "outputs": [
    {
     "data": {
      "text/html": [
       "<div>\n",
       "<style scoped>\n",
       "    .dataframe tbody tr th:only-of-type {\n",
       "        vertical-align: middle;\n",
       "    }\n",
       "\n",
       "    .dataframe tbody tr th {\n",
       "        vertical-align: top;\n",
       "    }\n",
       "\n",
       "    .dataframe thead th {\n",
       "        text-align: right;\n",
       "    }\n",
       "</style>\n",
       "<table border=\"1\" class=\"dataframe\">\n",
       "  <thead>\n",
       "    <tr style=\"text-align: right;\">\n",
       "      <th></th>\n",
       "      <th>antecedents</th>\n",
       "      <th>consequents</th>\n",
       "      <th>antecedent support</th>\n",
       "      <th>antecedent_sup_abs</th>\n",
       "      <th>consequent support</th>\n",
       "      <th>consequent_sup_abs</th>\n",
       "      <th>support</th>\n",
       "      <th>support_abs</th>\n",
       "      <th>confidence</th>\n",
       "      <th>lift</th>\n",
       "      <th>leverage</th>\n",
       "      <th>conviction</th>\n",
       "      <th>antecedent_len</th>\n",
       "      <th>consequente_len</th>\n",
       "    </tr>\n",
       "  </thead>\n",
       "  <tbody>\n",
       "  </tbody>\n",
       "</table>\n",
       "</div>"
      ],
      "text/plain": [
       "Empty DataFrame\n",
       "Columns: [antecedents, consequents, antecedent support, antecedent_sup_abs, consequent support, consequent_sup_abs, support, support_abs, confidence, lift, leverage, conviction, antecedent_len, consequente_len]\n",
       "Index: []"
      ]
     },
     "execution_count": 23,
     "metadata": {},
     "output_type": "execute_result"
    }
   ],
   "source": [
    "rules10 = df2[((df2['antecedents'].str.contains('PostgreSQL')) & (df2['consequents'].str.contains('PostGIS'))) | \n",
    "((df2['antecedents'].str.contains('PostGIS')) & (df2['consequents'].str.contains('PostgreSQL')))]\n",
    "#rules10 = df2[(df2['consequents'].str.contains('PostGIS'))] Este BD nã retornou nas regras\n",
    "rules10"
   ]
  },
  {
   "cell_type": "code",
   "execution_count": 40,
   "metadata": {},
   "outputs": [
    {
     "data": {
      "text/html": [
       "<div>\n",
       "<style scoped>\n",
       "    .dataframe tbody tr th:only-of-type {\n",
       "        vertical-align: middle;\n",
       "    }\n",
       "\n",
       "    .dataframe tbody tr th {\n",
       "        vertical-align: top;\n",
       "    }\n",
       "\n",
       "    .dataframe thead th {\n",
       "        text-align: right;\n",
       "    }\n",
       "</style>\n",
       "<table border=\"1\" class=\"dataframe\">\n",
       "  <thead>\n",
       "    <tr style=\"text-align: right;\">\n",
       "      <th></th>\n",
       "      <th>antecedents</th>\n",
       "      <th>consequents</th>\n",
       "      <th>antecedent support</th>\n",
       "      <th>antecedent_sup_abs</th>\n",
       "      <th>consequent support</th>\n",
       "      <th>consequent_sup_abs</th>\n",
       "      <th>support</th>\n",
       "      <th>support_abs</th>\n",
       "      <th>confidence</th>\n",
       "      <th>lift</th>\n",
       "      <th>leverage</th>\n",
       "      <th>conviction</th>\n",
       "      <th>antecedent_len</th>\n",
       "      <th>consequente_len</th>\n",
       "    </tr>\n",
       "  </thead>\n",
       "  <tbody>\n",
       "  </tbody>\n",
       "</table>\n",
       "</div>"
      ],
      "text/plain": [
       "Empty DataFrame\n",
       "Columns: [antecedents, consequents, antecedent support, antecedent_sup_abs, consequent support, consequent_sup_abs, support, support_abs, confidence, lift, leverage, conviction, antecedent_len, consequente_len]\n",
       "Index: []"
      ]
     },
     "execution_count": 40,
     "metadata": {},
     "output_type": "execute_result"
    }
   ],
   "source": [
    "rules11 = df[ (df['consequents'] .str.contains('MySQL')) & (df['antecedents'] .str.contains('MariaDB'))|\n",
    "             (df['antecedents'] .str.contains('MySQL')) & (df['consequents'] .str.contains('MariaDB'))] #& (df['confidence'] > 0.7) ]\n",
    "rules11"
   ]
  },
  {
   "cell_type": "code",
   "execution_count": 44,
   "metadata": {},
   "outputs": [
    {
     "data": {
      "text/html": [
       "<div>\n",
       "<style scoped>\n",
       "    .dataframe tbody tr th:only-of-type {\n",
       "        vertical-align: middle;\n",
       "    }\n",
       "\n",
       "    .dataframe tbody tr th {\n",
       "        vertical-align: top;\n",
       "    }\n",
       "\n",
       "    .dataframe thead th {\n",
       "        text-align: right;\n",
       "    }\n",
       "</style>\n",
       "<table border=\"1\" class=\"dataframe\">\n",
       "  <thead>\n",
       "    <tr style=\"text-align: right;\">\n",
       "      <th></th>\n",
       "      <th>antecedents</th>\n",
       "      <th>consequents</th>\n",
       "      <th>antecedent support</th>\n",
       "      <th>antecedent_sup_abs</th>\n",
       "      <th>consequent support</th>\n",
       "      <th>consequent_sup_abs</th>\n",
       "      <th>support</th>\n",
       "      <th>support_abs</th>\n",
       "      <th>confidence</th>\n",
       "      <th>lift</th>\n",
       "      <th>leverage</th>\n",
       "      <th>conviction</th>\n",
       "      <th>antecedent_len</th>\n",
       "      <th>consequente_len</th>\n",
       "    </tr>\n",
       "  </thead>\n",
       "  <tbody>\n",
       "  </tbody>\n",
       "</table>\n",
       "</div>"
      ],
      "text/plain": [
       "Empty DataFrame\n",
       "Columns: [antecedents, consequents, antecedent support, antecedent_sup_abs, consequent support, consequent_sup_abs, support, support_abs, confidence, lift, leverage, conviction, antecedent_len, consequente_len]\n",
       "Index: []"
      ]
     },
     "execution_count": 44,
     "metadata": {},
     "output_type": "execute_result"
    }
   ],
   "source": [
    "rules12 = df[ (df['consequents'] .str.contains('PostgreSQL')) & (df['antecedents'] .str.contains('PostGIS'))|\n",
    "             (df['antecedents'] .str.contains('PostgreSQL')) & (df['consequents'] .str.contains('PostGIS'))] #& (df['confidence'] > 0.7) ]\n",
    "rules12"
   ]
  },
  {
   "attachments": {},
   "cell_type": "markdown",
   "metadata": {},
   "source": [
    "Unexpected Patterns Session\n",
    "In the rules below we highlight competition and high lift values."
   ]
  },
  {
   "cell_type": "code",
   "execution_count": 45,
   "metadata": {},
   "outputs": [
    {
     "data": {
      "text/html": [
       "<div>\n",
       "<style scoped>\n",
       "    .dataframe tbody tr th:only-of-type {\n",
       "        vertical-align: middle;\n",
       "    }\n",
       "\n",
       "    .dataframe tbody tr th {\n",
       "        vertical-align: top;\n",
       "    }\n",
       "\n",
       "    .dataframe thead th {\n",
       "        text-align: right;\n",
       "    }\n",
       "</style>\n",
       "<table border=\"1\" class=\"dataframe\">\n",
       "  <thead>\n",
       "    <tr style=\"text-align: right;\">\n",
       "      <th></th>\n",
       "      <th>antecedents</th>\n",
       "      <th>consequents</th>\n",
       "      <th>antecedent support</th>\n",
       "      <th>antecedent_sup_abs</th>\n",
       "      <th>consequent support</th>\n",
       "      <th>consequent_sup_abs</th>\n",
       "      <th>support</th>\n",
       "      <th>support_abs</th>\n",
       "      <th>confidence</th>\n",
       "      <th>lift</th>\n",
       "      <th>leverage</th>\n",
       "      <th>conviction</th>\n",
       "      <th>antecedent_len</th>\n",
       "      <th>consequente_len</th>\n",
       "    </tr>\n",
       "  </thead>\n",
       "  <tbody>\n",
       "    <tr>\n",
       "      <th>0</th>\n",
       "      <td>IBM DB2</td>\n",
       "      <td>SAP Adaptive Server</td>\n",
       "      <td>0.045685</td>\n",
       "      <td>9.0</td>\n",
       "      <td>0.035533</td>\n",
       "      <td>7.0</td>\n",
       "      <td>0.025381</td>\n",
       "      <td>5.0</td>\n",
       "      <td>0.555556</td>\n",
       "      <td>15.634921</td>\n",
       "      <td>0.023757</td>\n",
       "      <td>2.170051</td>\n",
       "      <td>1</td>\n",
       "      <td>1</td>\n",
       "    </tr>\n",
       "    <tr>\n",
       "      <th>1</th>\n",
       "      <td>SAP Adaptive Server</td>\n",
       "      <td>IBM DB2</td>\n",
       "      <td>0.035533</td>\n",
       "      <td>7.0</td>\n",
       "      <td>0.045685</td>\n",
       "      <td>9.0</td>\n",
       "      <td>0.025381</td>\n",
       "      <td>5.0</td>\n",
       "      <td>0.714286</td>\n",
       "      <td>15.634921</td>\n",
       "      <td>0.023757</td>\n",
       "      <td>3.340102</td>\n",
       "      <td>1</td>\n",
       "      <td>1</td>\n",
       "    </tr>\n",
       "    <tr>\n",
       "      <th>2</th>\n",
       "      <td>IBM DB2</td>\n",
       "      <td>Oracle</td>\n",
       "      <td>0.045685</td>\n",
       "      <td>9.0</td>\n",
       "      <td>0.126904</td>\n",
       "      <td>25.0</td>\n",
       "      <td>0.045685</td>\n",
       "      <td>9.0</td>\n",
       "      <td>1.000000</td>\n",
       "      <td>7.880000</td>\n",
       "      <td>0.039888</td>\n",
       "      <td>inf</td>\n",
       "      <td>1</td>\n",
       "      <td>1</td>\n",
       "    </tr>\n",
       "    <tr>\n",
       "      <th>3</th>\n",
       "      <td>Oracle</td>\n",
       "      <td>IBM DB2</td>\n",
       "      <td>0.126904</td>\n",
       "      <td>25.0</td>\n",
       "      <td>0.045685</td>\n",
       "      <td>9.0</td>\n",
       "      <td>0.045685</td>\n",
       "      <td>9.0</td>\n",
       "      <td>0.360000</td>\n",
       "      <td>7.880000</td>\n",
       "      <td>0.039888</td>\n",
       "      <td>1.491117</td>\n",
       "      <td>1</td>\n",
       "      <td>1</td>\n",
       "    </tr>\n",
       "    <tr>\n",
       "      <th>4</th>\n",
       "      <td>MS SQL Server</td>\n",
       "      <td>SQLite</td>\n",
       "      <td>0.040609</td>\n",
       "      <td>8.0</td>\n",
       "      <td>0.081218</td>\n",
       "      <td>16.0</td>\n",
       "      <td>0.025381</td>\n",
       "      <td>5.0</td>\n",
       "      <td>0.625000</td>\n",
       "      <td>7.695313</td>\n",
       "      <td>0.022083</td>\n",
       "      <td>2.450085</td>\n",
       "      <td>1</td>\n",
       "      <td>1</td>\n",
       "    </tr>\n",
       "    <tr>\n",
       "      <th>5</th>\n",
       "      <td>SQLite</td>\n",
       "      <td>MS SQL Server</td>\n",
       "      <td>0.081218</td>\n",
       "      <td>16.0</td>\n",
       "      <td>0.040609</td>\n",
       "      <td>8.0</td>\n",
       "      <td>0.025381</td>\n",
       "      <td>5.0</td>\n",
       "      <td>0.312500</td>\n",
       "      <td>7.695313</td>\n",
       "      <td>0.022083</td>\n",
       "      <td>1.395478</td>\n",
       "      <td>1</td>\n",
       "      <td>1</td>\n",
       "    </tr>\n",
       "    <tr>\n",
       "      <th>6</th>\n",
       "      <td>MS SQL Server</td>\n",
       "      <td>Oracle</td>\n",
       "      <td>0.040609</td>\n",
       "      <td>8.0</td>\n",
       "      <td>0.126904</td>\n",
       "      <td>25.0</td>\n",
       "      <td>0.035533</td>\n",
       "      <td>7.0</td>\n",
       "      <td>0.875000</td>\n",
       "      <td>6.895000</td>\n",
       "      <td>0.030380</td>\n",
       "      <td>6.984772</td>\n",
       "      <td>1</td>\n",
       "      <td>1</td>\n",
       "    </tr>\n",
       "    <tr>\n",
       "      <th>7</th>\n",
       "      <td>Oracle</td>\n",
       "      <td>MS SQL Server</td>\n",
       "      <td>0.126904</td>\n",
       "      <td>25.0</td>\n",
       "      <td>0.040609</td>\n",
       "      <td>8.0</td>\n",
       "      <td>0.035533</td>\n",
       "      <td>7.0</td>\n",
       "      <td>0.280000</td>\n",
       "      <td>6.895000</td>\n",
       "      <td>0.030380</td>\n",
       "      <td>1.332487</td>\n",
       "      <td>1</td>\n",
       "      <td>1</td>\n",
       "    </tr>\n",
       "    <tr>\n",
       "      <th>8</th>\n",
       "      <td>SAP Adaptive Server</td>\n",
       "      <td>Oracle</td>\n",
       "      <td>0.035533</td>\n",
       "      <td>7.0</td>\n",
       "      <td>0.126904</td>\n",
       "      <td>25.0</td>\n",
       "      <td>0.030457</td>\n",
       "      <td>6.0</td>\n",
       "      <td>0.857143</td>\n",
       "      <td>6.754286</td>\n",
       "      <td>0.025948</td>\n",
       "      <td>6.111675</td>\n",
       "      <td>1</td>\n",
       "      <td>1</td>\n",
       "    </tr>\n",
       "    <tr>\n",
       "      <th>9</th>\n",
       "      <td>Oracle</td>\n",
       "      <td>SAP Adaptive Server</td>\n",
       "      <td>0.126904</td>\n",
       "      <td>25.0</td>\n",
       "      <td>0.035533</td>\n",
       "      <td>7.0</td>\n",
       "      <td>0.030457</td>\n",
       "      <td>6.0</td>\n",
       "      <td>0.240000</td>\n",
       "      <td>6.754286</td>\n",
       "      <td>0.025948</td>\n",
       "      <td>1.269036</td>\n",
       "      <td>1</td>\n",
       "      <td>1</td>\n",
       "    </tr>\n",
       "    <tr>\n",
       "      <th>11</th>\n",
       "      <td>MS Access</td>\n",
       "      <td>Oracle</td>\n",
       "      <td>0.030457</td>\n",
       "      <td>6.0</td>\n",
       "      <td>0.126904</td>\n",
       "      <td>25.0</td>\n",
       "      <td>0.025381</td>\n",
       "      <td>5.0</td>\n",
       "      <td>0.833333</td>\n",
       "      <td>6.566667</td>\n",
       "      <td>0.021516</td>\n",
       "      <td>5.238579</td>\n",
       "      <td>1</td>\n",
       "      <td>1</td>\n",
       "    </tr>\n",
       "    <tr>\n",
       "      <th>10</th>\n",
       "      <td>Oracle</td>\n",
       "      <td>MS Access</td>\n",
       "      <td>0.126904</td>\n",
       "      <td>25.0</td>\n",
       "      <td>0.030457</td>\n",
       "      <td>6.0</td>\n",
       "      <td>0.025381</td>\n",
       "      <td>5.0</td>\n",
       "      <td>0.200000</td>\n",
       "      <td>6.566667</td>\n",
       "      <td>0.021516</td>\n",
       "      <td>1.211929</td>\n",
       "      <td>1</td>\n",
       "      <td>1</td>\n",
       "    </tr>\n",
       "    <tr>\n",
       "      <th>12</th>\n",
       "      <td>MS Access</td>\n",
       "      <td>H2</td>\n",
       "      <td>0.030457</td>\n",
       "      <td>6.0</td>\n",
       "      <td>0.157360</td>\n",
       "      <td>31.0</td>\n",
       "      <td>0.025381</td>\n",
       "      <td>5.0</td>\n",
       "      <td>0.833333</td>\n",
       "      <td>5.295699</td>\n",
       "      <td>0.020588</td>\n",
       "      <td>5.055838</td>\n",
       "      <td>1</td>\n",
       "      <td>1</td>\n",
       "    </tr>\n",
       "    <tr>\n",
       "      <th>13</th>\n",
       "      <td>H2</td>\n",
       "      <td>MS Access</td>\n",
       "      <td>0.157360</td>\n",
       "      <td>31.0</td>\n",
       "      <td>0.030457</td>\n",
       "      <td>6.0</td>\n",
       "      <td>0.025381</td>\n",
       "      <td>5.0</td>\n",
       "      <td>0.161290</td>\n",
       "      <td>5.295699</td>\n",
       "      <td>0.020588</td>\n",
       "      <td>1.155994</td>\n",
       "      <td>1</td>\n",
       "      <td>1</td>\n",
       "    </tr>\n",
       "    <tr>\n",
       "      <th>14</th>\n",
       "      <td>PostgreSQL</td>\n",
       "      <td>IBM DB2</td>\n",
       "      <td>0.182741</td>\n",
       "      <td>36.0</td>\n",
       "      <td>0.045685</td>\n",
       "      <td>9.0</td>\n",
       "      <td>0.040609</td>\n",
       "      <td>8.0</td>\n",
       "      <td>0.222222</td>\n",
       "      <td>4.864198</td>\n",
       "      <td>0.032261</td>\n",
       "      <td>1.226976</td>\n",
       "      <td>1</td>\n",
       "      <td>1</td>\n",
       "    </tr>\n",
       "    <tr>\n",
       "      <th>15</th>\n",
       "      <td>IBM DB2</td>\n",
       "      <td>PostgreSQL</td>\n",
       "      <td>0.045685</td>\n",
       "      <td>9.0</td>\n",
       "      <td>0.182741</td>\n",
       "      <td>36.0</td>\n",
       "      <td>0.040609</td>\n",
       "      <td>8.0</td>\n",
       "      <td>0.888889</td>\n",
       "      <td>4.864198</td>\n",
       "      <td>0.032261</td>\n",
       "      <td>7.355330</td>\n",
       "      <td>1</td>\n",
       "      <td>1</td>\n",
       "    </tr>\n",
       "    <tr>\n",
       "      <th>16</th>\n",
       "      <td>PostgreSQL</td>\n",
       "      <td>MS SQL Server</td>\n",
       "      <td>0.182741</td>\n",
       "      <td>36.0</td>\n",
       "      <td>0.040609</td>\n",
       "      <td>8.0</td>\n",
       "      <td>0.035533</td>\n",
       "      <td>7.0</td>\n",
       "      <td>0.194444</td>\n",
       "      <td>4.788194</td>\n",
       "      <td>0.028112</td>\n",
       "      <td>1.190968</td>\n",
       "      <td>1</td>\n",
       "      <td>1</td>\n",
       "    </tr>\n",
       "    <tr>\n",
       "      <th>17</th>\n",
       "      <td>MS SQL Server</td>\n",
       "      <td>PostgreSQL</td>\n",
       "      <td>0.040609</td>\n",
       "      <td>8.0</td>\n",
       "      <td>0.182741</td>\n",
       "      <td>36.0</td>\n",
       "      <td>0.035533</td>\n",
       "      <td>7.0</td>\n",
       "      <td>0.875000</td>\n",
       "      <td>4.788194</td>\n",
       "      <td>0.028112</td>\n",
       "      <td>6.538071</td>\n",
       "      <td>1</td>\n",
       "      <td>1</td>\n",
       "    </tr>\n",
       "    <tr>\n",
       "      <th>18</th>\n",
       "      <td>PostgreSQL</td>\n",
       "      <td>MS Access</td>\n",
       "      <td>0.182741</td>\n",
       "      <td>36.0</td>\n",
       "      <td>0.030457</td>\n",
       "      <td>6.0</td>\n",
       "      <td>0.025381</td>\n",
       "      <td>5.0</td>\n",
       "      <td>0.138889</td>\n",
       "      <td>4.560185</td>\n",
       "      <td>0.019815</td>\n",
       "      <td>1.125921</td>\n",
       "      <td>1</td>\n",
       "      <td>1</td>\n",
       "    </tr>\n",
       "    <tr>\n",
       "      <th>19</th>\n",
       "      <td>MS Access</td>\n",
       "      <td>PostgreSQL</td>\n",
       "      <td>0.030457</td>\n",
       "      <td>6.0</td>\n",
       "      <td>0.182741</td>\n",
       "      <td>36.0</td>\n",
       "      <td>0.025381</td>\n",
       "      <td>5.0</td>\n",
       "      <td>0.833333</td>\n",
       "      <td>4.560185</td>\n",
       "      <td>0.019815</td>\n",
       "      <td>4.903553</td>\n",
       "      <td>1</td>\n",
       "      <td>1</td>\n",
       "    </tr>\n",
       "    <tr>\n",
       "      <th>20</th>\n",
       "      <td>H2</td>\n",
       "      <td>SAP Adaptive Server</td>\n",
       "      <td>0.157360</td>\n",
       "      <td>31.0</td>\n",
       "      <td>0.035533</td>\n",
       "      <td>7.0</td>\n",
       "      <td>0.025381</td>\n",
       "      <td>5.0</td>\n",
       "      <td>0.161290</td>\n",
       "      <td>4.539171</td>\n",
       "      <td>0.019789</td>\n",
       "      <td>1.149941</td>\n",
       "      <td>1</td>\n",
       "      <td>1</td>\n",
       "    </tr>\n",
       "    <tr>\n",
       "      <th>21</th>\n",
       "      <td>SAP Adaptive Server</td>\n",
       "      <td>H2</td>\n",
       "      <td>0.035533</td>\n",
       "      <td>7.0</td>\n",
       "      <td>0.157360</td>\n",
       "      <td>31.0</td>\n",
       "      <td>0.025381</td>\n",
       "      <td>5.0</td>\n",
       "      <td>0.714286</td>\n",
       "      <td>4.539171</td>\n",
       "      <td>0.019789</td>\n",
       "      <td>2.949239</td>\n",
       "      <td>1</td>\n",
       "      <td>1</td>\n",
       "    </tr>\n",
       "  </tbody>\n",
       "</table>\n",
       "</div>"
      ],
      "text/plain": [
       "            antecedents          consequents  antecedent support  \\\n",
       "0               IBM DB2  SAP Adaptive Server            0.045685   \n",
       "1   SAP Adaptive Server              IBM DB2            0.035533   \n",
       "2               IBM DB2               Oracle            0.045685   \n",
       "3                Oracle              IBM DB2            0.126904   \n",
       "4         MS SQL Server               SQLite            0.040609   \n",
       "5                SQLite        MS SQL Server            0.081218   \n",
       "6         MS SQL Server               Oracle            0.040609   \n",
       "7                Oracle        MS SQL Server            0.126904   \n",
       "8   SAP Adaptive Server               Oracle            0.035533   \n",
       "9                Oracle  SAP Adaptive Server            0.126904   \n",
       "11            MS Access               Oracle            0.030457   \n",
       "10               Oracle            MS Access            0.126904   \n",
       "12            MS Access                   H2            0.030457   \n",
       "13                   H2            MS Access            0.157360   \n",
       "14           PostgreSQL              IBM DB2            0.182741   \n",
       "15              IBM DB2           PostgreSQL            0.045685   \n",
       "16           PostgreSQL        MS SQL Server            0.182741   \n",
       "17        MS SQL Server           PostgreSQL            0.040609   \n",
       "18           PostgreSQL            MS Access            0.182741   \n",
       "19            MS Access           PostgreSQL            0.030457   \n",
       "20                   H2  SAP Adaptive Server            0.157360   \n",
       "21  SAP Adaptive Server                   H2            0.035533   \n",
       "\n",
       "    antecedent_sup_abs  consequent support  consequent_sup_abs   support  \\\n",
       "0                  9.0            0.035533                 7.0  0.025381   \n",
       "1                  7.0            0.045685                 9.0  0.025381   \n",
       "2                  9.0            0.126904                25.0  0.045685   \n",
       "3                 25.0            0.045685                 9.0  0.045685   \n",
       "4                  8.0            0.081218                16.0  0.025381   \n",
       "5                 16.0            0.040609                 8.0  0.025381   \n",
       "6                  8.0            0.126904                25.0  0.035533   \n",
       "7                 25.0            0.040609                 8.0  0.035533   \n",
       "8                  7.0            0.126904                25.0  0.030457   \n",
       "9                 25.0            0.035533                 7.0  0.030457   \n",
       "11                 6.0            0.126904                25.0  0.025381   \n",
       "10                25.0            0.030457                 6.0  0.025381   \n",
       "12                 6.0            0.157360                31.0  0.025381   \n",
       "13                31.0            0.030457                 6.0  0.025381   \n",
       "14                36.0            0.045685                 9.0  0.040609   \n",
       "15                 9.0            0.182741                36.0  0.040609   \n",
       "16                36.0            0.040609                 8.0  0.035533   \n",
       "17                 8.0            0.182741                36.0  0.035533   \n",
       "18                36.0            0.030457                 6.0  0.025381   \n",
       "19                 6.0            0.182741                36.0  0.025381   \n",
       "20                31.0            0.035533                 7.0  0.025381   \n",
       "21                 7.0            0.157360                31.0  0.025381   \n",
       "\n",
       "    support_abs  confidence       lift  leverage  conviction  antecedent_len  \\\n",
       "0           5.0    0.555556  15.634921  0.023757    2.170051               1   \n",
       "1           5.0    0.714286  15.634921  0.023757    3.340102               1   \n",
       "2           9.0    1.000000   7.880000  0.039888         inf               1   \n",
       "3           9.0    0.360000   7.880000  0.039888    1.491117               1   \n",
       "4           5.0    0.625000   7.695313  0.022083    2.450085               1   \n",
       "5           5.0    0.312500   7.695313  0.022083    1.395478               1   \n",
       "6           7.0    0.875000   6.895000  0.030380    6.984772               1   \n",
       "7           7.0    0.280000   6.895000  0.030380    1.332487               1   \n",
       "8           6.0    0.857143   6.754286  0.025948    6.111675               1   \n",
       "9           6.0    0.240000   6.754286  0.025948    1.269036               1   \n",
       "11          5.0    0.833333   6.566667  0.021516    5.238579               1   \n",
       "10          5.0    0.200000   6.566667  0.021516    1.211929               1   \n",
       "12          5.0    0.833333   5.295699  0.020588    5.055838               1   \n",
       "13          5.0    0.161290   5.295699  0.020588    1.155994               1   \n",
       "14          8.0    0.222222   4.864198  0.032261    1.226976               1   \n",
       "15          8.0    0.888889   4.864198  0.032261    7.355330               1   \n",
       "16          7.0    0.194444   4.788194  0.028112    1.190968               1   \n",
       "17          7.0    0.875000   4.788194  0.028112    6.538071               1   \n",
       "18          5.0    0.138889   4.560185  0.019815    1.125921               1   \n",
       "19          5.0    0.833333   4.560185  0.019815    4.903553               1   \n",
       "20          5.0    0.161290   4.539171  0.019789    1.149941               1   \n",
       "21          5.0    0.714286   4.539171  0.019789    2.949239               1   \n",
       "\n",
       "    consequente_len  \n",
       "0                 1  \n",
       "1                 1  \n",
       "2                 1  \n",
       "3                 1  \n",
       "4                 1  \n",
       "5                 1  \n",
       "6                 1  \n",
       "7                 1  \n",
       "8                 1  \n",
       "9                 1  \n",
       "11                1  \n",
       "10                1  \n",
       "12                1  \n",
       "13                1  \n",
       "14                1  \n",
       "15                1  \n",
       "16                1  \n",
       "17                1  \n",
       "18                1  \n",
       "19                1  \n",
       "20                1  \n",
       "21                1  "
      ]
     },
     "execution_count": 45,
     "metadata": {},
     "output_type": "execute_result"
    }
   ],
   "source": [
    "rules13 = df2[(df2['lift'] > 4.5)] #>20\n",
    "rules13 = rules13.sort_values(['lift'], ascending=False)\n",
    "rules13"
   ]
  },
  {
   "cell_type": "code",
   "execution_count": 39,
   "metadata": {},
   "outputs": [],
   "source": [
    "#rules13_filter = rules13.to_excel('rules_filters_liftv1.xlsx', index=False)"
   ]
  },
  {
   "cell_type": "code",
   "execution_count": 36,
   "metadata": {},
   "outputs": [
    {
     "data": {
      "text/html": [
       "<div>\n",
       "<style scoped>\n",
       "    .dataframe tbody tr th:only-of-type {\n",
       "        vertical-align: middle;\n",
       "    }\n",
       "\n",
       "    .dataframe tbody tr th {\n",
       "        vertical-align: top;\n",
       "    }\n",
       "\n",
       "    .dataframe thead th {\n",
       "        text-align: right;\n",
       "    }\n",
       "</style>\n",
       "<table border=\"1\" class=\"dataframe\">\n",
       "  <thead>\n",
       "    <tr style=\"text-align: right;\">\n",
       "      <th></th>\n",
       "      <th>antecedents</th>\n",
       "      <th>consequents</th>\n",
       "      <th>antecedent support</th>\n",
       "      <th>antecedent_sup_abs</th>\n",
       "      <th>consequent support</th>\n",
       "      <th>consequent_sup_abs</th>\n",
       "      <th>support</th>\n",
       "      <th>support_abs</th>\n",
       "      <th>confidence</th>\n",
       "      <th>lift</th>\n",
       "      <th>leverage</th>\n",
       "      <th>conviction</th>\n",
       "      <th>antecedent_len</th>\n",
       "      <th>consequente_len</th>\n",
       "    </tr>\n",
       "  </thead>\n",
       "  <tbody>\n",
       "    <tr>\n",
       "      <th>0</th>\n",
       "      <td>IBM DB2</td>\n",
       "      <td>SAP Adaptive Server</td>\n",
       "      <td>0.045685</td>\n",
       "      <td>9.0</td>\n",
       "      <td>0.035533</td>\n",
       "      <td>7.0</td>\n",
       "      <td>0.025381</td>\n",
       "      <td>5.0</td>\n",
       "      <td>0.555556</td>\n",
       "      <td>15.634921</td>\n",
       "      <td>0.023757</td>\n",
       "      <td>2.170051</td>\n",
       "      <td>1</td>\n",
       "      <td>1</td>\n",
       "    </tr>\n",
       "    <tr>\n",
       "      <th>1</th>\n",
       "      <td>SAP Adaptive Server</td>\n",
       "      <td>IBM DB2</td>\n",
       "      <td>0.035533</td>\n",
       "      <td>7.0</td>\n",
       "      <td>0.045685</td>\n",
       "      <td>9.0</td>\n",
       "      <td>0.025381</td>\n",
       "      <td>5.0</td>\n",
       "      <td>0.714286</td>\n",
       "      <td>15.634921</td>\n",
       "      <td>0.023757</td>\n",
       "      <td>3.340102</td>\n",
       "      <td>1</td>\n",
       "      <td>1</td>\n",
       "    </tr>\n",
       "    <tr>\n",
       "      <th>2</th>\n",
       "      <td>IBM DB2</td>\n",
       "      <td>Oracle</td>\n",
       "      <td>0.045685</td>\n",
       "      <td>9.0</td>\n",
       "      <td>0.126904</td>\n",
       "      <td>25.0</td>\n",
       "      <td>0.045685</td>\n",
       "      <td>9.0</td>\n",
       "      <td>1.000000</td>\n",
       "      <td>7.880000</td>\n",
       "      <td>0.039888</td>\n",
       "      <td>inf</td>\n",
       "      <td>1</td>\n",
       "      <td>1</td>\n",
       "    </tr>\n",
       "    <tr>\n",
       "      <th>3</th>\n",
       "      <td>Oracle</td>\n",
       "      <td>IBM DB2</td>\n",
       "      <td>0.126904</td>\n",
       "      <td>25.0</td>\n",
       "      <td>0.045685</td>\n",
       "      <td>9.0</td>\n",
       "      <td>0.045685</td>\n",
       "      <td>9.0</td>\n",
       "      <td>0.360000</td>\n",
       "      <td>7.880000</td>\n",
       "      <td>0.039888</td>\n",
       "      <td>1.491117</td>\n",
       "      <td>1</td>\n",
       "      <td>1</td>\n",
       "    </tr>\n",
       "    <tr>\n",
       "      <th>4</th>\n",
       "      <td>MS SQL Server</td>\n",
       "      <td>SQLite</td>\n",
       "      <td>0.040609</td>\n",
       "      <td>8.0</td>\n",
       "      <td>0.081218</td>\n",
       "      <td>16.0</td>\n",
       "      <td>0.025381</td>\n",
       "      <td>5.0</td>\n",
       "      <td>0.625000</td>\n",
       "      <td>7.695313</td>\n",
       "      <td>0.022083</td>\n",
       "      <td>2.450085</td>\n",
       "      <td>1</td>\n",
       "      <td>1</td>\n",
       "    </tr>\n",
       "    <tr>\n",
       "      <th>...</th>\n",
       "      <td>...</td>\n",
       "      <td>...</td>\n",
       "      <td>...</td>\n",
       "      <td>...</td>\n",
       "      <td>...</td>\n",
       "      <td>...</td>\n",
       "      <td>...</td>\n",
       "      <td>...</td>\n",
       "      <td>...</td>\n",
       "      <td>...</td>\n",
       "      <td>...</td>\n",
       "      <td>...</td>\n",
       "      <td>...</td>\n",
       "      <td>...</td>\n",
       "    </tr>\n",
       "    <tr>\n",
       "      <th>61</th>\n",
       "      <td>Ehcache</td>\n",
       "      <td>PostgreSQL</td>\n",
       "      <td>0.126904</td>\n",
       "      <td>25.0</td>\n",
       "      <td>0.182741</td>\n",
       "      <td>36.0</td>\n",
       "      <td>0.035533</td>\n",
       "      <td>7.0</td>\n",
       "      <td>0.280000</td>\n",
       "      <td>1.532222</td>\n",
       "      <td>0.012342</td>\n",
       "      <td>1.135082</td>\n",
       "      <td>1</td>\n",
       "      <td>1</td>\n",
       "    </tr>\n",
       "    <tr>\n",
       "      <th>62</th>\n",
       "      <td>Ehcache</td>\n",
       "      <td>H2</td>\n",
       "      <td>0.126904</td>\n",
       "      <td>25.0</td>\n",
       "      <td>0.157360</td>\n",
       "      <td>31.0</td>\n",
       "      <td>0.030457</td>\n",
       "      <td>6.0</td>\n",
       "      <td>0.240000</td>\n",
       "      <td>1.525161</td>\n",
       "      <td>0.010487</td>\n",
       "      <td>1.108736</td>\n",
       "      <td>1</td>\n",
       "      <td>1</td>\n",
       "    </tr>\n",
       "    <tr>\n",
       "      <th>63</th>\n",
       "      <td>H2</td>\n",
       "      <td>Ehcache</td>\n",
       "      <td>0.157360</td>\n",
       "      <td>31.0</td>\n",
       "      <td>0.126904</td>\n",
       "      <td>25.0</td>\n",
       "      <td>0.030457</td>\n",
       "      <td>6.0</td>\n",
       "      <td>0.193548</td>\n",
       "      <td>1.525161</td>\n",
       "      <td>0.010487</td>\n",
       "      <td>1.082640</td>\n",
       "      <td>1</td>\n",
       "      <td>1</td>\n",
       "    </tr>\n",
       "    <tr>\n",
       "      <th>64</th>\n",
       "      <td>MySQL</td>\n",
       "      <td>Ehcache</td>\n",
       "      <td>0.299492</td>\n",
       "      <td>59.0</td>\n",
       "      <td>0.126904</td>\n",
       "      <td>25.0</td>\n",
       "      <td>0.050761</td>\n",
       "      <td>10.0</td>\n",
       "      <td>0.169492</td>\n",
       "      <td>1.335593</td>\n",
       "      <td>0.012755</td>\n",
       "      <td>1.051279</td>\n",
       "      <td>1</td>\n",
       "      <td>1</td>\n",
       "    </tr>\n",
       "    <tr>\n",
       "      <th>65</th>\n",
       "      <td>Ehcache</td>\n",
       "      <td>MySQL</td>\n",
       "      <td>0.126904</td>\n",
       "      <td>25.0</td>\n",
       "      <td>0.299492</td>\n",
       "      <td>59.0</td>\n",
       "      <td>0.050761</td>\n",
       "      <td>10.0</td>\n",
       "      <td>0.400000</td>\n",
       "      <td>1.335593</td>\n",
       "      <td>0.012755</td>\n",
       "      <td>1.167513</td>\n",
       "      <td>1</td>\n",
       "      <td>1</td>\n",
       "    </tr>\n",
       "  </tbody>\n",
       "</table>\n",
       "<p>66 rows × 14 columns</p>\n",
       "</div>"
      ],
      "text/plain": [
       "            antecedents          consequents  antecedent support  \\\n",
       "0               IBM DB2  SAP Adaptive Server            0.045685   \n",
       "1   SAP Adaptive Server              IBM DB2            0.035533   \n",
       "2               IBM DB2               Oracle            0.045685   \n",
       "3                Oracle              IBM DB2            0.126904   \n",
       "4         MS SQL Server               SQLite            0.040609   \n",
       "..                  ...                  ...                 ...   \n",
       "61              Ehcache           PostgreSQL            0.126904   \n",
       "62              Ehcache                   H2            0.126904   \n",
       "63                   H2              Ehcache            0.157360   \n",
       "64                MySQL              Ehcache            0.299492   \n",
       "65              Ehcache                MySQL            0.126904   \n",
       "\n",
       "    antecedent_sup_abs  consequent support  consequent_sup_abs   support  \\\n",
       "0                  9.0            0.035533                 7.0  0.025381   \n",
       "1                  7.0            0.045685                 9.0  0.025381   \n",
       "2                  9.0            0.126904                25.0  0.045685   \n",
       "3                 25.0            0.045685                 9.0  0.045685   \n",
       "4                  8.0            0.081218                16.0  0.025381   \n",
       "..                 ...                 ...                 ...       ...   \n",
       "61                25.0            0.182741                36.0  0.035533   \n",
       "62                25.0            0.157360                31.0  0.030457   \n",
       "63                31.0            0.126904                25.0  0.030457   \n",
       "64                59.0            0.126904                25.0  0.050761   \n",
       "65                25.0            0.299492                59.0  0.050761   \n",
       "\n",
       "    support_abs  confidence       lift  leverage  conviction  antecedent_len  \\\n",
       "0           5.0    0.555556  15.634921  0.023757    2.170051               1   \n",
       "1           5.0    0.714286  15.634921  0.023757    3.340102               1   \n",
       "2           9.0    1.000000   7.880000  0.039888         inf               1   \n",
       "3           9.0    0.360000   7.880000  0.039888    1.491117               1   \n",
       "4           5.0    0.625000   7.695313  0.022083    2.450085               1   \n",
       "..          ...         ...        ...       ...         ...             ...   \n",
       "61          7.0    0.280000   1.532222  0.012342    1.135082               1   \n",
       "62          6.0    0.240000   1.525161  0.010487    1.108736               1   \n",
       "63          6.0    0.193548   1.525161  0.010487    1.082640               1   \n",
       "64         10.0    0.169492   1.335593  0.012755    1.051279               1   \n",
       "65         10.0    0.400000   1.335593  0.012755    1.167513               1   \n",
       "\n",
       "    consequente_len  \n",
       "0                 1  \n",
       "1                 1  \n",
       "2                 1  \n",
       "3                 1  \n",
       "4                 1  \n",
       "..              ...  \n",
       "61                1  \n",
       "62                1  \n",
       "63                1  \n",
       "64                1  \n",
       "65                1  \n",
       "\n",
       "[66 rows x 14 columns]"
      ]
     },
     "execution_count": 36,
     "metadata": {},
     "output_type": "execute_result"
    }
   ],
   "source": [
    "rules14 = df2[(df2['confidence'] > 0.1)] #>20(['support_abs'], ascending=[False])\n",
    "rules14 = rules14.sort_values(['lift'], ascending=False)\n",
    "rules14"
   ]
  },
  {
   "cell_type": "code",
   "execution_count": null,
   "metadata": {},
   "outputs": [],
   "source": [
    "#if you need to generate the rules in excel\n",
    "#rules_filter = df2.to_excel('historical_filters.xlsx', index=False)"
   ]
  },
  {
   "cell_type": "code",
   "execution_count": null,
   "metadata": {},
   "outputs": [],
   "source": []
  }
 ],
 "metadata": {
  "kernelspec": {
   "display_name": "db-mining-pBhgzAM8",
   "language": "python",
   "name": "python3"
  },
  "language_info": {
   "codemirror_mode": {
    "name": "ipython",
    "version": 3
   },
   "file_extension": ".py",
   "mimetype": "text/x-python",
   "name": "python",
   "nbconvert_exporter": "python",
   "pygments_lexer": "ipython3",
   "version": "3.9.2"
  },
  "orig_nbformat": 4,
  "vscode": {
   "interpreter": {
    "hash": "eed6e006056345fe12a16d8ae079f8487d9044571f40a6ccc26e6f8260551aa5"
   }
  }
 },
 "nbformat": 4,
 "nbformat_minor": 2
}
