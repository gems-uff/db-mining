{
 "cells": [
  {
   "cell_type": "code",
   "execution_count": 2,
   "id": "wooden-poster",
   "metadata": {},
   "outputs": [
    {
     "name": "stderr",
     "output_type": "stream",
     "text": [
      "/home/fredlinux/.pyenv/versions/3.7.9/lib/python3.7/site-packages/pandas/compat/__init__.py:124: UserWarning: Could not import the lzma module. Your installed Python is incomplete. Attempting to use lzma compression will result in a RuntimeError.\n",
      "  warnings.warn(msg)\n"
     ]
    }
   ],
   "source": [
    "import pandas as pd\n",
    "import numpy as np\n",
    "import matplotlib.pyplot as plt \n",
    "import os\n",
    "import seaborn as sns"
   ]
  },
  {
   "cell_type": "code",
   "execution_count": 3,
   "id": "suspended-terrorism",
   "metadata": {},
   "outputs": [
    {
     "data": {
      "text/html": [
       "<div>\n",
       "<style scoped>\n",
       "    .dataframe tbody tr th:only-of-type {\n",
       "        vertical-align: middle;\n",
       "    }\n",
       "\n",
       "    .dataframe tbody tr th {\n",
       "        vertical-align: top;\n",
       "    }\n",
       "\n",
       "    .dataframe thead th {\n",
       "        text-align: right;\n",
       "    }\n",
       "</style>\n",
       "<table border=\"1\" class=\"dataframe\">\n",
       "  <thead>\n",
       "    <tr style=\"text-align: right;\">\n",
       "      <th></th>\n",
       "      <th>Projects</th>\n",
       "      <th>Domains</th>\n",
       "      <th>mybatis</th>\n",
       "      <th>jOOQ</th>\n",
       "      <th>Spring</th>\n",
       "      <th>JPA</th>\n",
       "      <th>JDBC</th>\n",
       "      <th>Hibernate</th>\n",
       "      <th>EclipseLink</th>\n",
       "    </tr>\n",
       "  </thead>\n",
       "  <tbody>\n",
       "    <tr>\n",
       "      <th>0</th>\n",
       "      <td>Activiti</td>\n",
       "      <td>automation</td>\n",
       "      <td>1</td>\n",
       "      <td>0</td>\n",
       "      <td>1</td>\n",
       "      <td>1</td>\n",
       "      <td>0</td>\n",
       "      <td>1</td>\n",
       "      <td>0</td>\n",
       "    </tr>\n",
       "    <tr>\n",
       "      <th>1</th>\n",
       "      <td>skywalking</td>\n",
       "      <td>monitoring</td>\n",
       "      <td>0</td>\n",
       "      <td>0</td>\n",
       "      <td>0</td>\n",
       "      <td>1</td>\n",
       "      <td>0</td>\n",
       "      <td>1</td>\n",
       "      <td>0</td>\n",
       "    </tr>\n",
       "    <tr>\n",
       "      <th>2</th>\n",
       "      <td>storm</td>\n",
       "      <td>hpc</td>\n",
       "      <td>1</td>\n",
       "      <td>1</td>\n",
       "      <td>1</td>\n",
       "      <td>0</td>\n",
       "      <td>0</td>\n",
       "      <td>0</td>\n",
       "      <td>0</td>\n",
       "    </tr>\n",
       "    <tr>\n",
       "      <th>3</th>\n",
       "      <td>che</td>\n",
       "      <td>software development</td>\n",
       "      <td>0</td>\n",
       "      <td>0</td>\n",
       "      <td>0</td>\n",
       "      <td>0</td>\n",
       "      <td>0</td>\n",
       "      <td>0</td>\n",
       "      <td>0</td>\n",
       "    </tr>\n",
       "    <tr>\n",
       "      <th>4</th>\n",
       "      <td>pinpoint</td>\n",
       "      <td>monitoring</td>\n",
       "      <td>1</td>\n",
       "      <td>0</td>\n",
       "      <td>1</td>\n",
       "      <td>0</td>\n",
       "      <td>0</td>\n",
       "      <td>0</td>\n",
       "      <td>0</td>\n",
       "    </tr>\n",
       "  </tbody>\n",
       "</table>\n",
       "</div>"
      ],
      "text/plain": [
       "     Projects               Domains  mybatis  jOOQ  Spring  JPA  JDBC  \\\n",
       "0    Activiti            automation        1     0       1    1     0   \n",
       "1  skywalking            monitoring        0     0       0    1     0   \n",
       "2       storm                   hpc        1     1       1    0     0   \n",
       "3         che  software development        0     0       0    0     0   \n",
       "4    pinpoint            monitoring        1     0       1    0     0   \n",
       "\n",
       "   Hibernate  EclipseLink  \n",
       "0          1            0  \n",
       "1          1            0  \n",
       "2          0            0  \n",
       "3          0            0  \n",
       "4          0            0  "
      ]
     },
     "execution_count": 3,
     "metadata": {},
     "output_type": "execute_result"
    }
   ],
   "source": [
    "from util import RESOURCE_DIR\n",
    "type_characterization = ['database.xlsx', 'implementation.xlsx', 'implementation_names.xlsx', 'query.xlsx', 'count_implementation_rate.xlsx', 'count_sql.xlsx']\n",
    "CHARACTERIZATION_FILE_PATH = RESOURCE_DIR + os.sep + type_characterization[1]\n",
    "df = pd.read_excel(CHARACTERIZATION_FILE_PATH, engine = 'openpyxl')\n",
    "len(df)\n",
    "df.head()"
   ]
  },
  {
   "cell_type": "code",
   "execution_count": 4,
   "id": "441e238c",
   "metadata": {},
   "outputs": [
    {
     "data": {
      "text/html": [
       "<div>\n",
       "<style scoped>\n",
       "    .dataframe tbody tr th:only-of-type {\n",
       "        vertical-align: middle;\n",
       "    }\n",
       "\n",
       "    .dataframe tbody tr th {\n",
       "        vertical-align: top;\n",
       "    }\n",
       "\n",
       "    .dataframe thead th {\n",
       "        text-align: right;\n",
       "    }\n",
       "</style>\n",
       "<table border=\"1\" class=\"dataframe\">\n",
       "  <thead>\n",
       "    <tr style=\"text-align: right;\">\n",
       "      <th></th>\n",
       "      <th>Domains</th>\n",
       "      <th>mybatis</th>\n",
       "      <th>jOOQ</th>\n",
       "      <th>Spring</th>\n",
       "      <th>JDBC</th>\n",
       "      <th>Hibernate</th>\n",
       "      <th>EclipseLink</th>\n",
       "    </tr>\n",
       "    <tr>\n",
       "      <th>Projects</th>\n",
       "      <th></th>\n",
       "      <th></th>\n",
       "      <th></th>\n",
       "      <th></th>\n",
       "      <th></th>\n",
       "      <th></th>\n",
       "      <th></th>\n",
       "    </tr>\n",
       "  </thead>\n",
       "  <tbody>\n",
       "    <tr>\n",
       "      <th>Activiti</th>\n",
       "      <td>automation</td>\n",
       "      <td>1</td>\n",
       "      <td>0</td>\n",
       "      <td>1</td>\n",
       "      <td>0</td>\n",
       "      <td>1</td>\n",
       "      <td>0</td>\n",
       "    </tr>\n",
       "    <tr>\n",
       "      <th>skywalking</th>\n",
       "      <td>monitoring</td>\n",
       "      <td>0</td>\n",
       "      <td>0</td>\n",
       "      <td>0</td>\n",
       "      <td>0</td>\n",
       "      <td>1</td>\n",
       "      <td>0</td>\n",
       "    </tr>\n",
       "    <tr>\n",
       "      <th>storm</th>\n",
       "      <td>hpc</td>\n",
       "      <td>1</td>\n",
       "      <td>1</td>\n",
       "      <td>1</td>\n",
       "      <td>0</td>\n",
       "      <td>0</td>\n",
       "      <td>0</td>\n",
       "    </tr>\n",
       "    <tr>\n",
       "      <th>che</th>\n",
       "      <td>software development</td>\n",
       "      <td>0</td>\n",
       "      <td>0</td>\n",
       "      <td>0</td>\n",
       "      <td>0</td>\n",
       "      <td>0</td>\n",
       "      <td>0</td>\n",
       "    </tr>\n",
       "    <tr>\n",
       "      <th>pinpoint</th>\n",
       "      <td>monitoring</td>\n",
       "      <td>1</td>\n",
       "      <td>0</td>\n",
       "      <td>1</td>\n",
       "      <td>0</td>\n",
       "      <td>0</td>\n",
       "      <td>0</td>\n",
       "    </tr>\n",
       "  </tbody>\n",
       "</table>\n",
       "</div>"
      ],
      "text/plain": [
       "                         Domains  mybatis  jOOQ  Spring  JDBC  Hibernate  \\\n",
       "Projects                                                                   \n",
       "Activiti              automation        1     0       1     0          1   \n",
       "skywalking            monitoring        0     0       0     0          1   \n",
       "storm                        hpc        1     1       1     0          0   \n",
       "che         software development        0     0       0     0          0   \n",
       "pinpoint              monitoring        1     0       1     0          0   \n",
       "\n",
       "            EclipseLink  \n",
       "Projects                 \n",
       "Activiti              0  \n",
       "skywalking            0  \n",
       "storm                 0  \n",
       "che                   0  \n",
       "pinpoint              0  "
      ]
     },
     "execution_count": 4,
     "metadata": {},
     "output_type": "execute_result"
    }
   ],
   "source": [
    "data_with_index = df.set_index(\"Projects\")\n",
    "#data_with_index = data_with_index.drop([\"ethereumj\", \"openhab1-addons\", \"openhab2-addons\", \"Silence\", \"docker-client\", \"riot-android\", \"zalenium\"])\n",
    "data_with_index = data_with_index.drop(columns='JPA')\n",
    "data_with_index.head()"
   ]
  },
  {
   "cell_type": "code",
   "execution_count": 5,
   "id": "79703b7b",
   "metadata": {},
   "outputs": [
    {
     "data": {
      "text/plain": [
       "JPA    67\n",
       "dtype: int64"
      ]
     },
     "execution_count": 5,
     "metadata": {},
     "output_type": "execute_result"
    }
   ],
   "source": [
    "data_jpa = df[[\"Projects\", \"Domains\", \"JPA\"]].copy()\n",
    "data_jpa.iloc[: , 2:].sum().sort_values(ascending=False)"
   ]
  },
  {
   "cell_type": "code",
   "execution_count": 6,
   "id": "bacterial-identity",
   "metadata": {},
   "outputs": [
    {
     "data": {
      "text/plain": [
       "mybatis        155\n",
       "Hibernate       94\n",
       "Spring          45\n",
       "EclipseLink     14\n",
       "jOOQ             7\n",
       "JDBC             0\n",
       "dtype: int64"
      ]
     },
     "execution_count": 6,
     "metadata": {},
     "output_type": "execute_result"
    }
   ],
   "source": [
    "data_with_index.iloc[: , 1:].sum().sort_values(ascending=False)"
   ]
  },
  {
   "cell_type": "code",
   "execution_count": 7,
   "id": "circular-immune",
   "metadata": {},
   "outputs": [
    {
     "data": {
      "image/png": "[encoded data removed]",
      "text/plain": [
       "<Figure size 504x360 with 1 Axes>"
      ]
     },
     "metadata": {
      "needs_background": "light"
     },
     "output_type": "display_data"
    }
   ],
   "source": [
    "plt.figure(figsize=(7,5))\n",
    "data_with_index.iloc[: , 1:].sum().sort_values(ascending=False).plot(kind='bar', title=\"Distributions of Frameworks\", color='silver')\n",
    "plt.xlabel(\"Frameworks\")\n",
    "plt.ylabel(\"Amount of projects\")\n",
    "plt.show() "
   ]
  },
  {
   "cell_type": "code",
   "execution_count": 8,
   "id": "adjustable-christianity",
   "metadata": {},
   "outputs": [
    {
     "data": {
      "text/html": [
       "<div>\n",
       "<style scoped>\n",
       "    .dataframe tbody tr th:only-of-type {\n",
       "        vertical-align: middle;\n",
       "    }\n",
       "\n",
       "    .dataframe tbody tr th {\n",
       "        vertical-align: top;\n",
       "    }\n",
       "\n",
       "    .dataframe thead th {\n",
       "        text-align: right;\n",
       "    }\n",
       "</style>\n",
       "<table border=\"1\" class=\"dataframe\">\n",
       "  <thead>\n",
       "    <tr style=\"text-align: right;\">\n",
       "      <th></th>\n",
       "      <th>Projects</th>\n",
       "      <th>DB-Code(Java)</th>\n",
       "      <th>DB-Code(XML)</th>\n",
       "      <th>Dependencies</th>\n",
       "      <th>Total-DB</th>\n",
       "      <th>Total-Project</th>\n",
       "      <th>Rate</th>\n",
       "    </tr>\n",
       "  </thead>\n",
       "  <tbody>\n",
       "    <tr>\n",
       "      <th>0</th>\n",
       "      <td>Activiti</td>\n",
       "      <td>13</td>\n",
       "      <td>62</td>\n",
       "      <td>14</td>\n",
       "      <td>89</td>\n",
       "      <td>4899</td>\n",
       "      <td>1.816697</td>\n",
       "    </tr>\n",
       "    <tr>\n",
       "      <th>1</th>\n",
       "      <td>che</td>\n",
       "      <td>48</td>\n",
       "      <td>25</td>\n",
       "      <td>53</td>\n",
       "      <td>126</td>\n",
       "      <td>2538</td>\n",
       "      <td>4.964539</td>\n",
       "    </tr>\n",
       "    <tr>\n",
       "      <th>2</th>\n",
       "      <td>pinpoint</td>\n",
       "      <td>1</td>\n",
       "      <td>3</td>\n",
       "      <td>0</td>\n",
       "      <td>4</td>\n",
       "      <td>8149</td>\n",
       "      <td>0.049086</td>\n",
       "    </tr>\n",
       "    <tr>\n",
       "      <th>3</th>\n",
       "      <td>skywalking</td>\n",
       "      <td>0</td>\n",
       "      <td>3</td>\n",
       "      <td>0</td>\n",
       "      <td>3</td>\n",
       "      <td>2587</td>\n",
       "      <td>0.115964</td>\n",
       "    </tr>\n",
       "    <tr>\n",
       "      <th>4</th>\n",
       "      <td>wildfly</td>\n",
       "      <td>202</td>\n",
       "      <td>1</td>\n",
       "      <td>335</td>\n",
       "      <td>538</td>\n",
       "      <td>14079</td>\n",
       "      <td>3.821294</td>\n",
       "    </tr>\n",
       "  </tbody>\n",
       "</table>\n",
       "</div>"
      ],
      "text/plain": [
       "     Projects  DB-Code(Java)  DB-Code(XML)  Dependencies  Total-DB  \\\n",
       "0    Activiti             13            62            14        89   \n",
       "1         che             48            25            53       126   \n",
       "2    pinpoint              1             3             0         4   \n",
       "3  skywalking              0             3             0         3   \n",
       "4     wildfly            202             1           335       538   \n",
       "\n",
       "   Total-Project      Rate  \n",
       "0           4899  1.816697  \n",
       "1           2538  4.964539  \n",
       "2           8149  0.049086  \n",
       "3           2587  0.115964  \n",
       "4          14079  3.821294  "
      ]
     },
     "execution_count": 8,
     "metadata": {},
     "output_type": "execute_result"
    }
   ],
   "source": [
    "from util import USAGE_FAN_IN_FILE\n",
    "df = pd.read_excel(USAGE_FAN_IN_FILE, engine = 'openpyxl')\n",
    "df.head()\n",
    "#data_with_index = df.set_index(\"Projects\")\n",
    "#data_with_index = data_with_index.drop([\"ethereumj\", \"openhab1-addons\", \"openhab2-addons\", \"Silence\", \"docker-client\", \"riot-android\", \"zalenium\"])\n",
    "#data_with_index.reset_index(inplace=True)"
   ]
  },
  {
   "cell_type": "code",
   "execution_count": 9,
   "id": "selected-tower",
   "metadata": {},
   "outputs": [
    {
     "data": {
      "text/html": [
       "<div>\n",
       "<style scoped>\n",
       "    .dataframe tbody tr th:only-of-type {\n",
       "        vertical-align: middle;\n",
       "    }\n",
       "\n",
       "    .dataframe tbody tr th {\n",
       "        vertical-align: top;\n",
       "    }\n",
       "\n",
       "    .dataframe thead th {\n",
       "        text-align: right;\n",
       "    }\n",
       "</style>\n",
       "<table border=\"1\" class=\"dataframe\">\n",
       "  <thead>\n",
       "    <tr style=\"text-align: right;\">\n",
       "      <th></th>\n",
       "      <th>Projects</th>\n",
       "      <th>DB-Code(Java)</th>\n",
       "      <th>DB-Code(XML)</th>\n",
       "      <th>Dependencies</th>\n",
       "      <th>Total-DB</th>\n",
       "      <th>Total-Project</th>\n",
       "      <th>Rate</th>\n",
       "    </tr>\n",
       "  </thead>\n",
       "  <tbody>\n",
       "    <tr>\n",
       "      <th>4</th>\n",
       "      <td>wildfly</td>\n",
       "      <td>202</td>\n",
       "      <td>1</td>\n",
       "      <td>335</td>\n",
       "      <td>538</td>\n",
       "      <td>14079</td>\n",
       "      <td>3.821294</td>\n",
       "    </tr>\n",
       "    <tr>\n",
       "      <th>1</th>\n",
       "      <td>che</td>\n",
       "      <td>48</td>\n",
       "      <td>25</td>\n",
       "      <td>53</td>\n",
       "      <td>126</td>\n",
       "      <td>2538</td>\n",
       "      <td>4.964539</td>\n",
       "    </tr>\n",
       "    <tr>\n",
       "      <th>0</th>\n",
       "      <td>Activiti</td>\n",
       "      <td>13</td>\n",
       "      <td>62</td>\n",
       "      <td>14</td>\n",
       "      <td>89</td>\n",
       "      <td>4899</td>\n",
       "      <td>1.816697</td>\n",
       "    </tr>\n",
       "    <tr>\n",
       "      <th>2</th>\n",
       "      <td>pinpoint</td>\n",
       "      <td>1</td>\n",
       "      <td>3</td>\n",
       "      <td>0</td>\n",
       "      <td>4</td>\n",
       "      <td>8149</td>\n",
       "      <td>0.049086</td>\n",
       "    </tr>\n",
       "    <tr>\n",
       "      <th>5</th>\n",
       "      <td>storm</td>\n",
       "      <td>3</td>\n",
       "      <td>1</td>\n",
       "      <td>0</td>\n",
       "      <td>4</td>\n",
       "      <td>3398</td>\n",
       "      <td>0.117716</td>\n",
       "    </tr>\n",
       "  </tbody>\n",
       "</table>\n",
       "</div>"
      ],
      "text/plain": [
       "   Projects  DB-Code(Java)  DB-Code(XML)  Dependencies  Total-DB  \\\n",
       "4   wildfly            202             1           335       538   \n",
       "1       che             48            25            53       126   \n",
       "0  Activiti             13            62            14        89   \n",
       "2  pinpoint              1             3             0         4   \n",
       "5     storm              3             1             0         4   \n",
       "\n",
       "   Total-Project      Rate  \n",
       "4          14079  3.821294  \n",
       "1           2538  4.964539  \n",
       "0           4899  1.816697  \n",
       "2           8149  0.049086  \n",
       "5           3398  0.117716  "
      ]
     },
     "execution_count": 9,
     "metadata": {},
     "output_type": "execute_result"
    }
   ],
   "source": [
    "data_with_index = df.iloc[: , :].sort_values(by='Total-DB', ascending=False)\n",
    "data_with_index.head()"
   ]
  },
  {
   "cell_type": "code",
   "execution_count": 10,
   "id": "1b0ea564",
   "metadata": {},
   "outputs": [
    {
     "data": {
      "text/plain": [
       "<AxesSubplot:>"
      ]
     },
     "execution_count": 10,
     "metadata": {},
     "output_type": "execute_result"
    },
    {
     "data": {
      "image/png": "[encoded data removed]",
      "text/plain": [
       "<Figure size 792x432 with 1 Axes>"
      ]
     },
     "metadata": {
      "needs_background": "light"
     },
     "output_type": "display_data"
    }
   ],
   "source": [
    "import matplotlib.pyplot as plt\n",
    "plt.figure(figsize =(11, 6))\n",
    "df.boxplot(column=['DB-Code(Java)', 'DB-Code(XML)', 'Dependencies', 'Total-DB', 'Rate'])"
   ]
  },
  {
   "cell_type": "code",
   "execution_count": 11,
   "id": "bcbed8b5",
   "metadata": {},
   "outputs": [
    {
     "data": {
      "text/html": [
       "<div>\n",
       "<style scoped>\n",
       "    .dataframe tbody tr th:only-of-type {\n",
       "        vertical-align: middle;\n",
       "    }\n",
       "\n",
       "    .dataframe tbody tr th {\n",
       "        vertical-align: top;\n",
       "    }\n",
       "\n",
       "    .dataframe thead th {\n",
       "        text-align: right;\n",
       "    }\n",
       "</style>\n",
       "<table border=\"1\" class=\"dataframe\">\n",
       "  <thead>\n",
       "    <tr style=\"text-align: right;\">\n",
       "      <th></th>\n",
       "      <th>items</th>\n",
       "      <th>support</th>\n",
       "      <th>ordered_statistics</th>\n",
       "    </tr>\n",
       "  </thead>\n",
       "  <tbody>\n",
       "    <tr>\n",
       "      <th>0</th>\n",
       "      <td>((, ))</td>\n",
       "      <td>0.285714</td>\n",
       "      <td>[(((), ()), 1.0, 3.5), (()), ((), 1.0, 3.5)]</td>\n",
       "    </tr>\n",
       "    <tr>\n",
       "      <th>1</th>\n",
       "      <td>(C, ()</td>\n",
       "      <td>0.285714</td>\n",
       "      <td>[(((), (C), 1.0, 3.5), ((C), ((), 1.0, 3.5)]</td>\n",
       "    </tr>\n",
       "    <tr>\n",
       "      <th>2</th>\n",
       "      <td>(J, ()</td>\n",
       "      <td>0.142857</td>\n",
       "      <td>[(((), (J), 0.5, 3.5), ((J), ((), 1.0, 3.5)]</td>\n",
       "    </tr>\n",
       "    <tr>\n",
       "      <th>3</th>\n",
       "      <td>(L, ()</td>\n",
       "      <td>0.142857</td>\n",
       "      <td>[(((), (L), 0.5, 3.5), ((L), ((), 1.0, 3.5)]</td>\n",
       "    </tr>\n",
       "    <tr>\n",
       "      <th>4</th>\n",
       "      <td>(M, ()</td>\n",
       "      <td>0.142857</td>\n",
       "      <td>[(((), (M), 0.5, 3.5), ((M), ((), 1.0, 3.5)]</td>\n",
       "    </tr>\n",
       "  </tbody>\n",
       "</table>\n",
       "</div>"
      ],
      "text/plain": [
       "    items   support                            ordered_statistics\n",
       "0  ((, ))  0.285714  [(((), ()), 1.0, 3.5), (()), ((), 1.0, 3.5)]\n",
       "1  (C, ()  0.285714  [(((), (C), 1.0, 3.5), ((C), ((), 1.0, 3.5)]\n",
       "2  (J, ()  0.142857  [(((), (J), 0.5, 3.5), ((J), ((), 1.0, 3.5)]\n",
       "3  (L, ()  0.142857  [(((), (L), 0.5, 3.5), ((L), ((), 1.0, 3.5)]\n",
       "4  (M, ()  0.142857  [(((), (M), 0.5, 3.5), ((M), ((), 1.0, 3.5)]"
      ]
     },
     "execution_count": 11,
     "metadata": {},
     "output_type": "execute_result"
    }
   ],
   "source": [
    "from apyori import apriori\n",
    "\n",
    "rules = apriori(data_with_index, min_support = 0.003, min_confidence = 0.2, min_lift = 3, min_length = 2)\n",
    "\n",
    "results = list(rules)\n",
    "results = pd.DataFrame(results)\n",
    "results.head(5)"
   ]
  },
  {
   "cell_type": "code",
   "execution_count": 12,
   "id": "07813835",
   "metadata": {},
   "outputs": [
    {
     "name": "stderr",
     "output_type": "stream",
     "text": [
      "/home/fredlinux/.pyenv/versions/3.7.9/lib/python3.7/site-packages/mlxtend/frequent_patterns/fpcommon.py:115: DeprecationWarning: DataFrames with non-bool types result in worse computationalperformance and their support might be discontinued in the future.Please use a DataFrame with bool type\n",
      "  DeprecationWarning,\n"
     ]
    },
    {
     "data": {
      "text/html": [
       "<div>\n",
       "<style scoped>\n",
       "    .dataframe tbody tr th:only-of-type {\n",
       "        vertical-align: middle;\n",
       "    }\n",
       "\n",
       "    .dataframe tbody tr th {\n",
       "        vertical-align: top;\n",
       "    }\n",
       "\n",
       "    .dataframe thead th {\n",
       "        text-align: right;\n",
       "    }\n",
       "</style>\n",
       "<table border=\"1\" class=\"dataframe\">\n",
       "  <thead>\n",
       "    <tr style=\"text-align: right;\">\n",
       "      <th></th>\n",
       "      <th>antecedents</th>\n",
       "      <th>consequents</th>\n",
       "      <th>antecedent support</th>\n",
       "      <th>consequent support</th>\n",
       "      <th>support</th>\n",
       "      <th>confidence</th>\n",
       "      <th>lift</th>\n",
       "      <th>leverage</th>\n",
       "      <th>conviction</th>\n",
       "    </tr>\n",
       "  </thead>\n",
       "  <tbody>\n",
       "    <tr>\n",
       "      <th>18</th>\n",
       "      <td>(JPA)</td>\n",
       "      <td>(EclipseLink)</td>\n",
       "      <td>0.208075</td>\n",
       "      <td>0.043478</td>\n",
       "      <td>0.034161</td>\n",
       "      <td>0.164179</td>\n",
       "      <td>3.776119</td>\n",
       "      <td>0.025115</td>\n",
       "      <td>1.144410</td>\n",
       "    </tr>\n",
       "    <tr>\n",
       "      <th>11</th>\n",
       "      <td>(JPA)</td>\n",
       "      <td>(Spring)</td>\n",
       "      <td>0.208075</td>\n",
       "      <td>0.139752</td>\n",
       "      <td>0.065217</td>\n",
       "      <td>0.313433</td>\n",
       "      <td>2.242786</td>\n",
       "      <td>0.036139</td>\n",
       "      <td>1.252971</td>\n",
       "    </tr>\n",
       "    <tr>\n",
       "      <th>17</th>\n",
       "      <td>(JPA)</td>\n",
       "      <td>(Hibernate)</td>\n",
       "      <td>0.208075</td>\n",
       "      <td>0.291925</td>\n",
       "      <td>0.121118</td>\n",
       "      <td>0.582090</td>\n",
       "      <td>1.993966</td>\n",
       "      <td>0.060376</td>\n",
       "      <td>1.694321</td>\n",
       "    </tr>\n",
       "    <tr>\n",
       "      <th>2</th>\n",
       "      <td>(JPA)</td>\n",
       "      <td>(mybatis)</td>\n",
       "      <td>0.208075</td>\n",
       "      <td>0.481366</td>\n",
       "      <td>0.158385</td>\n",
       "      <td>0.761194</td>\n",
       "      <td>1.581319</td>\n",
       "      <td>0.058225</td>\n",
       "      <td>2.171778</td>\n",
       "    </tr>\n",
       "  </tbody>\n",
       "</table>\n",
       "</div>"
      ],
      "text/plain": [
       "   antecedents    consequents  antecedent support  consequent support  \\\n",
       "18       (JPA)  (EclipseLink)            0.208075            0.043478   \n",
       "11       (JPA)       (Spring)            0.208075            0.139752   \n",
       "17       (JPA)    (Hibernate)            0.208075            0.291925   \n",
       "2        (JPA)      (mybatis)            0.208075            0.481366   \n",
       "\n",
       "     support  confidence      lift  leverage  conviction  \n",
       "18  0.034161    0.164179  3.776119  0.025115    1.144410  \n",
       "11  0.065217    0.313433  2.242786  0.036139    1.252971  \n",
       "17  0.121118    0.582090  1.993966  0.060376    1.694321  \n",
       "2   0.158385    0.761194  1.581319  0.058225    2.171778  "
      ]
     },
     "execution_count": 12,
     "metadata": {},
     "output_type": "execute_result"
    }
   ],
   "source": [
    "from mlxtend.frequent_patterns import apriori, association_rules\n",
    "\n",
    "CHARACTERIZATION_FILE_PATH = RESOURCE_DIR + os.sep + type_characterization[1]\n",
    "df = pd.read_excel(CHARACTERIZATION_FILE_PATH, engine = 'openpyxl')\n",
    "df = df.iloc[: , 2:]\n",
    "\n",
    "frq_items = apriori(df, min_support = 0.01, use_colnames = True)\n",
    "rules = association_rules(frq_items, metric =\"lift\", min_threshold = 1)\n",
    "rules = rules.sort_values('lift', ascending =False)\n",
    "rules = rules[rules['consequents'].apply(lambda x: len(x)) == 1]\n",
    "rules[rules['antecedents'] == {'JPA'}]\n"
   ]
  },
  {
   "cell_type": "code",
   "execution_count": 13,
   "id": "a6db1e28",
   "metadata": {},
   "outputs": [
    {
     "data": {
      "text/html": [
       "<div>\n",
       "<style scoped>\n",
       "    .dataframe tbody tr th:only-of-type {\n",
       "        vertical-align: middle;\n",
       "    }\n",
       "\n",
       "    .dataframe tbody tr th {\n",
       "        vertical-align: top;\n",
       "    }\n",
       "\n",
       "    .dataframe thead th {\n",
       "        text-align: right;\n",
       "    }\n",
       "</style>\n",
       "<table border=\"1\" class=\"dataframe\">\n",
       "  <thead>\n",
       "    <tr style=\"text-align: right;\">\n",
       "      <th></th>\n",
       "      <th>Projects</th>\n",
       "      <th>mybatis</th>\n",
       "      <th>jOOQ</th>\n",
       "      <th>Spring</th>\n",
       "      <th>JPA</th>\n",
       "      <th>JDBC</th>\n",
       "      <th>Hibernate</th>\n",
       "      <th>EclipseLink</th>\n",
       "      <th>Rate</th>\n",
       "    </tr>\n",
       "  </thead>\n",
       "  <tbody>\n",
       "    <tr>\n",
       "      <th>0</th>\n",
       "      <td>Activiti</td>\n",
       "      <td>mybatis</td>\n",
       "      <td>NaN</td>\n",
       "      <td>Spring</td>\n",
       "      <td>JPA</td>\n",
       "      <td>NaN</td>\n",
       "      <td>Hibernate</td>\n",
       "      <td>NaN</td>\n",
       "      <td>1.816697</td>\n",
       "    </tr>\n",
       "    <tr>\n",
       "      <th>1</th>\n",
       "      <td>skywalking</td>\n",
       "      <td>NaN</td>\n",
       "      <td>NaN</td>\n",
       "      <td>NaN</td>\n",
       "      <td>JPA</td>\n",
       "      <td>NaN</td>\n",
       "      <td>Hibernate</td>\n",
       "      <td>NaN</td>\n",
       "      <td>0.115964</td>\n",
       "    </tr>\n",
       "    <tr>\n",
       "      <th>2</th>\n",
       "      <td>storm</td>\n",
       "      <td>mybatis</td>\n",
       "      <td>jOOQ</td>\n",
       "      <td>Spring</td>\n",
       "      <td>NaN</td>\n",
       "      <td>NaN</td>\n",
       "      <td>NaN</td>\n",
       "      <td>NaN</td>\n",
       "      <td>0.117716</td>\n",
       "    </tr>\n",
       "    <tr>\n",
       "      <th>3</th>\n",
       "      <td>che</td>\n",
       "      <td>NaN</td>\n",
       "      <td>NaN</td>\n",
       "      <td>NaN</td>\n",
       "      <td>NaN</td>\n",
       "      <td>NaN</td>\n",
       "      <td>NaN</td>\n",
       "      <td>NaN</td>\n",
       "      <td>4.964539</td>\n",
       "    </tr>\n",
       "    <tr>\n",
       "      <th>4</th>\n",
       "      <td>pinpoint</td>\n",
       "      <td>mybatis</td>\n",
       "      <td>NaN</td>\n",
       "      <td>Spring</td>\n",
       "      <td>NaN</td>\n",
       "      <td>NaN</td>\n",
       "      <td>NaN</td>\n",
       "      <td>NaN</td>\n",
       "      <td>0.049086</td>\n",
       "    </tr>\n",
       "  </tbody>\n",
       "</table>\n",
       "</div>"
      ],
      "text/plain": [
       "     Projects  mybatis  jOOQ  Spring  JPA  JDBC  Hibernate EclipseLink  \\\n",
       "0    Activiti  mybatis   NaN  Spring  JPA   NaN  Hibernate         NaN   \n",
       "1  skywalking      NaN   NaN     NaN  JPA   NaN  Hibernate         NaN   \n",
       "2       storm  mybatis  jOOQ  Spring  NaN   NaN        NaN         NaN   \n",
       "3         che      NaN   NaN     NaN  NaN   NaN        NaN         NaN   \n",
       "4    pinpoint  mybatis   NaN  Spring  NaN   NaN        NaN         NaN   \n",
       "\n",
       "       Rate  \n",
       "0  1.816697  \n",
       "1  0.115964  \n",
       "2  0.117716  \n",
       "3  4.964539  \n",
       "4  0.049086  "
      ]
     },
     "execution_count": 13,
     "metadata": {},
     "output_type": "execute_result"
    }
   ],
   "source": [
    "USAGE_FAN_IN_FILE_PATH = RESOURCE_DIR + os.sep + \"usage_fan_in_file.xlsx\"\n",
    "df_usage_fan_in = pd.read_excel(USAGE_FAN_IN_FILE_PATH, engine = 'openpyxl')\n",
    "\n",
    "CHARACTERIZATION_FILE_PATH = RESOURCE_DIR + os.sep + type_characterization[2]\n",
    "implementation = pd.read_excel(CHARACTERIZATION_FILE_PATH, engine = 'openpyxl')\n",
    "\n",
    "implementation_usage = pd.merge(implementation, df_usage_fan_in, how = 'inner', on = 'Projects')\n",
    "implementation_usage = implementation_usage.drop(columns=['Domains', 'DB-Code(Java)', 'DB-Code(XML)', 'Dependencies', 'Total-DB', 'Total-Project' ])\n",
    "implementation_usage.head()"
   ]
  },
  {
   "cell_type": "code",
   "execution_count": 14,
   "id": "5e4143db",
   "metadata": {},
   "outputs": [
    {
     "data": {
      "text/html": [
       "<div>\n",
       "<style scoped>\n",
       "    .dataframe tbody tr th:only-of-type {\n",
       "        vertical-align: middle;\n",
       "    }\n",
       "\n",
       "    .dataframe tbody tr th {\n",
       "        vertical-align: top;\n",
       "    }\n",
       "\n",
       "    .dataframe thead th {\n",
       "        text-align: right;\n",
       "    }\n",
       "</style>\n",
       "<table border=\"1\" class=\"dataframe\">\n",
       "  <thead>\n",
       "    <tr style=\"text-align: right;\">\n",
       "      <th></th>\n",
       "      <th>ListFrameworks</th>\n",
       "      <th>NumberDBFiles</th>\n",
       "    </tr>\n",
       "  </thead>\n",
       "  <tbody>\n",
       "    <tr>\n",
       "      <th>0</th>\n",
       "      <td></td>\n",
       "      <td>[4.964539007092199]</td>\n",
       "    </tr>\n",
       "    <tr>\n",
       "      <th>1</th>\n",
       "      <td>JPA/Hibernate</td>\n",
       "      <td>[0.1159644375724778]</td>\n",
       "    </tr>\n",
       "    <tr>\n",
       "      <th>2</th>\n",
       "      <td>Spring</td>\n",
       "      <td>[0.04908577739599951]</td>\n",
       "    </tr>\n",
       "    <tr>\n",
       "      <th>3</th>\n",
       "      <td>Spring/JPA/Hibernate</td>\n",
       "      <td>[1.816697285160237, 3.821294126003268]</td>\n",
       "    </tr>\n",
       "    <tr>\n",
       "      <th>4</th>\n",
       "      <td>jOOQ/Spring</td>\n",
       "      <td>[0.1177163037080636]</td>\n",
       "    </tr>\n",
       "  </tbody>\n",
       "</table>\n",
       "</div>"
      ],
      "text/plain": [
       "         ListFrameworks                           NumberDBFiles\n",
       "0                                           [4.964539007092199]\n",
       "1         JPA/Hibernate                    [0.1159644375724778]\n",
       "2                Spring                   [0.04908577739599951]\n",
       "3  Spring/JPA/Hibernate  [1.816697285160237, 3.821294126003268]\n",
       "4           jOOQ/Spring                    [0.1177163037080636]"
      ]
     },
     "execution_count": 14,
     "metadata": {},
     "output_type": "execute_result"
    }
   ],
   "source": [
    "#implementation_usage = implementation_usage.drop(columns='Projects')\n",
    "\n",
    "new_frameworks_list = []\n",
    "new_frameworks_list_string = []\n",
    "\n",
    "frameworks_list = implementation_usage.iloc[: , 2:7].values.tolist()  \n",
    "\n",
    "for i in frameworks_list:\n",
    "    new_frameworks_list_not_null = [x for x in i if pd.isnull(x) == False]\n",
    "    new_frameworks_list_string = '/'.join([str(item) for item in new_frameworks_list_not_null])\n",
    "    new_frameworks_list.append(new_frameworks_list_string)\n",
    "\n",
    "df_implementation_usage = implementation_usage.iloc[: , 8:]\n",
    "df_implementation_usage = df_implementation_usage.assign(ListFrameworks = new_frameworks_list)\n",
    "\n",
    "#print(df_implementation_usage)\n",
    "\n",
    "df_group_implementation_usage = df_implementation_usage.groupby('ListFrameworks')['Rate'].apply(list).reset_index(name='NumberDBFiles')\n",
    "\n",
    "df_group_implementation_usage.head()"
   ]
  },
  {
   "cell_type": "code",
   "execution_count": 15,
   "id": "5bbb61f8",
   "metadata": {},
   "outputs": [
    {
     "data": {
      "image/png": "[encoded data removed]",
      "text/plain": [
       "<Figure size 792x432 with 1 Axes>"
      ]
     },
     "metadata": {
      "needs_background": "light"
     },
     "output_type": "display_data"
    }
   ],
   "source": [
    "import matplotlib.pyplot as plt\n",
    "\n",
    "CHARACTERIZATION_FILE_PATH = RESOURCE_DIR + os.sep + type_characterization[4]\n",
    "df = pd.read_excel(CHARACTERIZATION_FILE_PATH, engine = 'openpyxl')\n",
    "df.head()\n",
    "\n",
    "plt.figure(figsize =(11, 6))\n",
    "df.boxplot(return_type='axes');"
   ]
  },
  {
   "cell_type": "code",
   "execution_count": 16,
   "id": "ae8338ca",
   "metadata": {},
   "outputs": [
    {
     "data": {
      "text/html": [
       "<div>\n",
       "<style scoped>\n",
       "    .dataframe tbody tr th:only-of-type {\n",
       "        vertical-align: middle;\n",
       "    }\n",
       "\n",
       "    .dataframe tbody tr th {\n",
       "        vertical-align: top;\n",
       "    }\n",
       "\n",
       "    .dataframe thead th {\n",
       "        text-align: right;\n",
       "    }\n",
       "</style>\n",
       "<table border=\"1\" class=\"dataframe\">\n",
       "  <thead>\n",
       "    <tr style=\"text-align: right;\">\n",
       "      <th></th>\n",
       "      <th>Projects</th>\n",
       "      <th>Domains</th>\n",
       "      <th>Builder</th>\n",
       "      <th>(IgnoreCase, SQL)</th>\n",
       "    </tr>\n",
       "  </thead>\n",
       "  <tbody>\n",
       "    <tr>\n",
       "      <th>0</th>\n",
       "      <td>Activiti</td>\n",
       "      <td>automation</td>\n",
       "      <td>1</td>\n",
       "      <td>1</td>\n",
       "    </tr>\n",
       "    <tr>\n",
       "      <th>1</th>\n",
       "      <td>skywalking</td>\n",
       "      <td>monitoring</td>\n",
       "      <td>1</td>\n",
       "      <td>1</td>\n",
       "    </tr>\n",
       "    <tr>\n",
       "      <th>2</th>\n",
       "      <td>storm</td>\n",
       "      <td>hpc</td>\n",
       "      <td>1</td>\n",
       "      <td>1</td>\n",
       "    </tr>\n",
       "    <tr>\n",
       "      <th>3</th>\n",
       "      <td>che</td>\n",
       "      <td>software development</td>\n",
       "      <td>0</td>\n",
       "      <td>1</td>\n",
       "    </tr>\n",
       "    <tr>\n",
       "      <th>4</th>\n",
       "      <td>pinpoint</td>\n",
       "      <td>monitoring</td>\n",
       "      <td>0</td>\n",
       "      <td>1</td>\n",
       "    </tr>\n",
       "  </tbody>\n",
       "</table>\n",
       "</div>"
      ],
      "text/plain": [
       "     Projects               Domains  Builder  (IgnoreCase, SQL)\n",
       "0    Activiti            automation        1                  1\n",
       "1  skywalking            monitoring        1                  1\n",
       "2       storm                   hpc        1                  1\n",
       "3         che  software development        0                  1\n",
       "4    pinpoint            monitoring        0                  1"
      ]
     },
     "execution_count": 16,
     "metadata": {},
     "output_type": "execute_result"
    }
   ],
   "source": [
    "CHARACTERIZATION_FILE_PATH = RESOURCE_DIR + os.sep + type_characterization[3]\n",
    "df = pd.read_excel(CHARACTERIZATION_FILE_PATH, engine = 'openpyxl')\n",
    "df.rename(columns = {'(Ignore, SQL)':'SQL'}, inplace = True)\n",
    "df.head()"
   ]
  },
  {
   "cell_type": "code",
   "execution_count": 17,
   "id": "4f268a81",
   "metadata": {},
   "outputs": [
    {
     "data": {
      "image/png": "[encoded data removed]",
      "text/plain": [
       "<Figure size 504x360 with 1 Axes>"
      ]
     },
     "metadata": {
      "needs_background": "light"
     },
     "output_type": "display_data"
    }
   ],
   "source": [
    "plt.figure(figsize=(7,5))\n",
    "df.iloc[: , 2:].sum().sort_values(ascending=False).plot(kind='bar', title=\"Distributions of Queries\", color='silver')\n",
    "plt.xlabel(\"Queries\")\n",
    "plt.ylabel(\"Amount of projects\")\n",
    "plt.show()"
   ]
  },
  {
   "cell_type": "code",
   "execution_count": 18,
   "id": "377fa203",
   "metadata": {},
   "outputs": [
    {
     "name": "stdout",
     "output_type": "stream",
     "text": [
      "Projects         26\n",
      "Domains          26\n",
      "Builder          26\n",
      "SQL              26\n",
      "SumPerProject    26\n",
      "dtype: int64\n",
      "Projects         282\n",
      "Domains          282\n",
      "Builder          282\n",
      "SQL              282\n",
      "SumPerProject    282\n",
      "dtype: int64\n",
      "Projects         26\n",
      "Domains          26\n",
      "Builder          26\n",
      "SQL              26\n",
      "SumPerProject    26\n",
      "dtype: int64\n",
      "Projects         40\n",
      "Domains          40\n",
      "Builder          40\n",
      "SQL              40\n",
      "SumPerProject    40\n",
      "dtype: int64\n"
     ]
    },
    {
     "name": "stderr",
     "output_type": "stream",
     "text": [
      "/home/fredlinux/.pyenv/versions/3.7.9/lib/python3.7/site-packages/ipykernel_launcher.py:1: FutureWarning: Dropping of nuisance columns in DataFrame reductions (with 'numeric_only=None') is deprecated; in a future version this will raise TypeError.  Select only valid columns before calling the reduction.\n",
      "  \"\"\"Entry point for launching an IPython kernel.\n"
     ]
    }
   ],
   "source": [
    "df.loc[:,'SumPerProject'] = df.sum(axis=1)\n",
    "df.rename(columns = {'(IgnoreCase, SQL)':'SQL'}, inplace = True)\n",
    "df_count_2 = df[df.SumPerProject == 2].count()\n",
    "print(df_count_2)\n",
    "df_count_sql = df[df.SQL ==1].count()\n",
    "print(df_count_sql)\n",
    "df_count_builder = df[df.Builder == 1].count()\n",
    "print(df_count_builder)\n",
    "df_count_0 = df[df.SumPerProject == 0].count()\n",
    "print(df_count_0)"
   ]
  },
  {
   "cell_type": "code",
   "execution_count": 19,
   "id": "93318260",
   "metadata": {},
   "outputs": [
    {
     "data": {
      "text/plain": [
       "<AxesSubplot:xlabel='type of file', ylabel='total'>"
      ]
     },
     "execution_count": 19,
     "metadata": {},
     "output_type": "execute_result"
    },
    {
     "data": {
      "image/png": "[encoded data removed]",
      "text/plain": [
       "<Figure size 432x288 with 1 Axes>"
      ]
     },
     "metadata": {
      "needs_background": "light"
     },
     "output_type": "display_data"
    }
   ],
   "source": [
    "number_of_files = pd.read_excel('../resources/number_of_files.xlsx')\n",
    "\n",
    "total_code_files = number_of_files['Code'].sum()\n",
    "total_test_files = number_of_files['Test'].sum()\n",
    "\n",
    "dados = {\n",
    "    'type of file': ['Code', 'Test'],\n",
    "    'total': [total_code_files, total_test_files]\n",
    "}\n",
    "\n",
    "dados = pd.DataFrame(dados)\n",
    "\n",
    "sns.barplot(x = 'type of file', y = 'total', data = dados, color = 'silver')"
   ]
  },
  {
   "cell_type": "code",
   "execution_count": 195,
   "id": "6feafabc",
   "metadata": {},
   "outputs": [
    {
     "data": {
      "image/png": "[encoded data removed]",
      "text/plain": [
       "<Figure size 864x504 with 1 Axes>"
      ]
     },
     "metadata": {
      "needs_background": "light"
     },
     "output_type": "display_data"
    }
   ],
   "source": [
    "type_of_files  = number_of_files[['Project', 'Code', 'Test']]\n",
    "type_of_files = type_of_files.set_index('Project')\n",
    "\n",
    "type_of_files.iloc[0:].plot(kind='bar', title=\"total test and code files per project\", color = ['slategrey', 'lightsteelblue'])\n",
    "plt.xlabel(\"projects\")\n",
    "plt.ylabel(\"total files\")\n",
    "plt.rcParams.update({'font.size': 18})\n",
    "plt.gcf().set_size_inches(12, 7)"
   ]
  }
 ],
 "metadata": {
  "kernelspec": {
   "display_name": "Python 3.7.9 64-bit ('3.7.9')",
   "language": "python",
   "name": "python3"
  },
  "language_info": {
   "codemirror_mode": {
    "name": "ipython",
    "version": 3
   },
   "file_extension": ".py",
   "mimetype": "text/x-python",
   "name": "python",
   "nbconvert_exporter": "python",
   "pygments_lexer": "ipython3",
   "version": "3.7.9"
  },
  "vscode": {
   "interpreter": {
    "hash": "591ac7da4b048c4702fa42710768d4c1d9c41e72e213cabb1024d5add6f9a34b"
   }
  }
 },
 "nbformat": 4,
 "nbformat_minor": 5
}
