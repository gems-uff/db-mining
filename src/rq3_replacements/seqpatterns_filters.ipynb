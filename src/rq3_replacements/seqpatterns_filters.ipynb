{
 "cells": [
  {
   "cell_type": "markdown",
   "id": "1525610d-8a49-45fa-b2fa-97e72f00066f",
   "metadata": {},
   "source": [
    "# RQ3 - Filter Sequential Patterns\n",
    "\n",
    "Uses:\n",
    "\n",
    "- resources/seq_patterns/substitutions.csv (from prepare/historical_seqpatterns_format.ipynb **manual**)\n",
    "- resources/historical_join_db.xlsx (HISTORICAL_FILE_JOIN_DB from prepare/historic_count_models.ipynb)\n",
    "\n",
    "Generates:\n",
    "\n",
    "- patterns.tex (tab:patterns)\n",
    "- substitutions.tex (tab:substitutions)\n",
    "- substitutes.tex (tab:substitutes)\n",
    "\n",
    "Variables:\n",
    "\n",
    "- rq3_replacements\n",
    "- rq3_min_support\n",
    "- rq3_max_support\n",
    "- rq3_support_values\n",
    "- rq3_total_replacements\n",
    "- rq3_total_replacements_projects\n",
    "- rq3_relational_replacements\n",
    "- rq3_relational_replacements_projects\n",
    "- rq3_nonrelational_replacements\n",
    "- rq3_nonrelational_replacements_projects\n",
    "- rq3_both_replacements\n",
    "- rq3_both_replacements_projects\n",
    "- rq3_same_replacements\n",
    "- rq3_same_replacements_projects\n",
    "- rq3_only_same_replacements_projects\n",
    "- rq3_non_relational_only_replacements_projects\n",
    "- rq3_repl_hypersql\n",
    "- rq3_repl_hypersql_projects\n",
    "- rq3_repl_hypersql_dbms\n",
    "- rq3_repl_hypersql_redis\n",
    "- rq3_repl_hypersql_redis_ext\n",
    "- rq3_repl_hypersql_mysql\n",
    "- rq3_repl_hypersql_postgresql\n",
    "- rq3_repl_mysql\n",
    "- rq3_repl_mysql_projects \n",
    "- rq3_repl_mysql_redis\n",
    "- rq3_repl_hbase\n",
    "- rq3_repl_hbasel_projects\n",
    "- rq3_repl_hbase_hypersql\n",
    "- rq3_apache_camel_hbase\n",
    "- rq3_replby_redis\n",
    "- rq3_replby_redis_projects\n",
    "- rq3_replby_oracle\n",
    "- rq3_replby_oracle_projects\n",
    "- rq3_replby_postgresql\n",
    "- rq3_replby_postgres_projects\n",
    "- rq3_replby_hypersql\n",
    "- rq3_replby_hypersql_projects\n",
    "- rq3_replby_mysql\n",
    "- rq3_replby_mysql_projects\n",
    "- rq3_replby_hbase\n",
    "- rq3_replby_hbase_projects\n",
    "- rq3_replby_etcd\n",
    "- rq3_replby_etcd_projects"
   ]
  },
  {
   "cell_type": "code",
   "execution_count": 1,
   "id": "725f77e1-cf2e-4e81-831f-b8bb6b86f1f7",
   "metadata": {
    "tags": []
   },
   "outputs": [],
   "source": [
    "import sys  \n",
    "sys.path.insert(1, '..')"
   ]
  },
  {
   "cell_type": "code",
   "execution_count": 2,
   "id": "aea8a635-423e-4a9d-8ad7-75106bb4dd85",
   "metadata": {
    "tags": []
   },
   "outputs": [],
   "source": [
    "import os\n",
    "import functools\n",
    "import re\n",
    "\n",
    "import pandas as pd\n",
    "import matplotlib.cm as cm\n",
    "import numpy as np\n",
    "import matplotlib.pyplot as plt\n",
    "import seaborn as sns\n",
    "\n",
    "from num2words import num2words\n",
    "\n",
    "from util import SEQ_PATTERNS_DIR, PAPEROUT_DIR, HISTORICAL_FILE_JOIN_DB\n",
    "from analysis_helpers import var, relative_var, load_vars\n",
    "from analysis_helpers import (\n",
    "    RELATIONAL_ONLY_DBS, NONRELATIONAL_ONLY_DBS,\n",
    "    MULTIMODEL_RELATIONAL, MULTIMODEL_NONRELATIONAL,\n",
    "    RELATIONAL_DBS, NONRELATIONAL_DBS, MULTIMODEL_DBS\n",
    ")\n",
    "\n",
    "def union_sets(series):\n",
    "    return functools.reduce(lambda x,y: x | y, series, set())"
   ]
  },
  {
   "cell_type": "code",
   "execution_count": 3,
   "id": "4fbc1033-ae85-4f12-9a8d-d28b918650fb",
   "metadata": {
    "tags": []
   },
   "outputs": [
    {
     "data": {
      "text/html": [
       "<div>\n",
       "<style scoped>\n",
       "    .dataframe tbody tr th:only-of-type {\n",
       "        vertical-align: middle;\n",
       "    }\n",
       "\n",
       "    .dataframe tbody tr th {\n",
       "        vertical-align: top;\n",
       "    }\n",
       "\n",
       "    .dataframe thead th {\n",
       "        text-align: right;\n",
       "    }\n",
       "</style>\n",
       "<table border=\"1\" class=\"dataframe\">\n",
       "  <thead>\n",
       "    <tr style=\"text-align: right;\">\n",
       "      <th></th>\n",
       "      <th>Name</th>\n",
       "      <th>Support</th>\n",
       "      <th>Line Count</th>\n",
       "      <th>Lines</th>\n",
       "      <th>Bindings</th>\n",
       "      <th>Source</th>\n",
       "      <th>X</th>\n",
       "      <th>Y</th>\n",
       "      <th>LinesSet</th>\n",
       "    </tr>\n",
       "  </thead>\n",
       "  <tbody>\n",
       "    <tr>\n",
       "      <th>1</th>\n",
       "      <td>MS_SQL_Server -&gt; InHyperSQL &amp; OutMS_SQL_Server...</td>\n",
       "      <td>0.004292</td>\n",
       "      <td>1</td>\n",
       "      <td>68</td>\n",
       "      <td>X = MS_SQL_Server; Y = HyperSQL</td>\n",
       "      <td>X -&gt; InY &amp; OutX -&gt; Y -v X -v Y</td>\n",
       "      <td>MS SQL Server</td>\n",
       "      <td>HyperSQL</td>\n",
       "      <td>{68}</td>\n",
       "    </tr>\n",
       "    <tr>\n",
       "      <th>2</th>\n",
       "      <td>MS_SQL_Server -&gt; InIBM_DB2 &amp; OutMS_SQL_Server ...</td>\n",
       "      <td>0.004292</td>\n",
       "      <td>1</td>\n",
       "      <td>151</td>\n",
       "      <td>X = MS_SQL_Server; Y = IBM_DB2</td>\n",
       "      <td>X -&gt; InY &amp; OutX -&gt; Y -v X -v Y</td>\n",
       "      <td>MS SQL Server</td>\n",
       "      <td>IBM DB2</td>\n",
       "      <td>{151}</td>\n",
       "    </tr>\n",
       "    <tr>\n",
       "      <th>3</th>\n",
       "      <td>HyperSQL -&gt; InPostgreSQL &amp; OutHyperSQL -&gt; Post...</td>\n",
       "      <td>0.008584</td>\n",
       "      <td>2</td>\n",
       "      <td>115; 20</td>\n",
       "      <td>X = HyperSQL; Y = PostgreSQL</td>\n",
       "      <td>X -&gt; InY &amp; OutX -&gt; Y -v X -v Y</td>\n",
       "      <td>HyperSQL</td>\n",
       "      <td>PostgreSQL</td>\n",
       "      <td>{115, 20}</td>\n",
       "    </tr>\n",
       "    <tr>\n",
       "      <th>4</th>\n",
       "      <td>HyperSQL -&gt; InH2 &amp; OutHyperSQL -&gt; H2</td>\n",
       "      <td>0.008584</td>\n",
       "      <td>2</td>\n",
       "      <td>3; 20</td>\n",
       "      <td>X = HyperSQL; Y = H2</td>\n",
       "      <td>X -&gt; InY &amp; OutX -&gt; Y -v X -v Y</td>\n",
       "      <td>HyperSQL</td>\n",
       "      <td>H2</td>\n",
       "      <td>{20, 3}</td>\n",
       "    </tr>\n",
       "    <tr>\n",
       "      <th>5</th>\n",
       "      <td>HyperSQL -&gt; InIBM_DB2 &amp; OutHyperSQL -&gt; IBM_DB2</td>\n",
       "      <td>0.004292</td>\n",
       "      <td>1</td>\n",
       "      <td>48</td>\n",
       "      <td>X = HyperSQL; Y = IBM_DB2</td>\n",
       "      <td>X -&gt; InY &amp; OutX -&gt; Y -v X -v Y</td>\n",
       "      <td>HyperSQL</td>\n",
       "      <td>IBM DB2</td>\n",
       "      <td>{48}</td>\n",
       "    </tr>\n",
       "  </tbody>\n",
       "</table>\n",
       "</div>"
      ],
      "text/plain": [
       "                                                Name   Support  Line Count  \\\n",
       "1  MS_SQL_Server -> InHyperSQL & OutMS_SQL_Server...  0.004292           1   \n",
       "2  MS_SQL_Server -> InIBM_DB2 & OutMS_SQL_Server ...  0.004292           1   \n",
       "3  HyperSQL -> InPostgreSQL & OutHyperSQL -> Post...  0.008584           2   \n",
       "4               HyperSQL -> InH2 & OutHyperSQL -> H2  0.008584           2   \n",
       "5     HyperSQL -> InIBM_DB2 & OutHyperSQL -> IBM_DB2  0.004292           1   \n",
       "\n",
       "     Lines                         Bindings                          Source  \\\n",
       "1       68  X = MS_SQL_Server; Y = HyperSQL  X -> InY & OutX -> Y -v X -v Y   \n",
       "2      151   X = MS_SQL_Server; Y = IBM_DB2  X -> InY & OutX -> Y -v X -v Y   \n",
       "3  115; 20     X = HyperSQL; Y = PostgreSQL  X -> InY & OutX -> Y -v X -v Y   \n",
       "4    3; 20             X = HyperSQL; Y = H2  X -> InY & OutX -> Y -v X -v Y   \n",
       "5       48        X = HyperSQL; Y = IBM_DB2  X -> InY & OutX -> Y -v X -v Y   \n",
       "\n",
       "               X           Y   LinesSet  \n",
       "1  MS SQL Server    HyperSQL       {68}  \n",
       "2  MS SQL Server     IBM DB2      {151}  \n",
       "3       HyperSQL  PostgreSQL  {115, 20}  \n",
       "4       HyperSQL          H2    {20, 3}  \n",
       "5       HyperSQL     IBM DB2       {48}  "
      ]
     },
     "execution_count": 3,
     "metadata": {},
     "output_type": "execute_result"
    }
   ],
   "source": [
    "df = pd.read_csv(SEQ_PATTERNS_DIR + os.sep + \"substitutions.csv\")\n",
    "# Remove meta-rules\n",
    "df.drop(df[\n",
    "    (df[\"Name\"] == \"X -> InY & OutX -> Y\")\n",
    "    | (df[\"Name\"] == \"X -> InY -> OutX & Y\") \n",
    "].index, inplace=True)\n",
    "# Identify DBMSs\n",
    "\n",
    "replacements = {\n",
    "    \"Join_Ignite_NoSql\": \"Ignite-NoSql\",\n",
    "    \"_\": \" \",\n",
    "    \"GoogleCloudDatastore\": \"Google Cloud Datastore\",\n",
    "    \"SAPAdaptiveServer\": \"SAP Adaptive Server\",\n",
    "    \"SAPSQLAnywhere\": \"SAP SQL Anywhere\",\n",
    "    \"MicrosoftAzureCosmosDB\": \"Microsoft Azure CosmosDB\",\n",
    "    \"FirebaseRealtime\": \"Firebase Realtime\",\n",
    "}\n",
    "df[\"X\"] = df[\"Bindings\"].str.extract(r'X = (.+)?; Y =', expand=False).replace(replacements, regex=True)\n",
    "df[\"Y\"] = df[\"Bindings\"].str.extract(r'Y = (.+)?', expand=False).replace(replacements, regex=True)\n",
    "df[\"LinesSet\"] = df[\"Lines\"].apply(lambda x: set(x.split(\"; \")))\n",
    "df.head()"
   ]
  },
  {
   "cell_type": "code",
   "execution_count": 4,
   "id": "3f2c7b30-e98c-492a-8b8d-5b9db381ca33",
   "metadata": {
    "tags": []
   },
   "outputs": [],
   "source": [
    "def categorize_model(dbms):\n",
    "    if dbms in RELATIONAL_DBS:\n",
    "        return \"Relational\"\n",
    "    elif dbms in NONRELATIONAL_DBS:\n",
    "        return \"Non Relational\"\n",
    "    else:\n",
    "        print(\"Check: \", dbms)\n",
    "    \n",
    "df[\"X Model\"] = df[\"X\"].apply(categorize_model)\n",
    "df[\"Y Model\"] = df[\"Y\"].apply(categorize_model)"
   ]
  },
  {
   "cell_type": "markdown",
   "id": "40302a93-95e0-493b-a5b0-2122aa132603",
   "metadata": {
    "tags": []
   },
   "source": [
    "### DBMSs that were replaced by others"
   ]
  },
  {
   "cell_type": "code",
   "execution_count": 5,
   "id": "44ba12db-2515-49c3-9488-0e4131ba53e7",
   "metadata": {
    "tags": []
   },
   "outputs": [],
   "source": [
    "df3 = pd.read_excel(HISTORICAL_FILE_JOIN_DB, keep_default_na=False)\n",
    "renomeacoes = {\n",
    "    'MySQL_Maria DB': 'MySQL',\n",
    "    'PostgreSQL_ CockroachDB': 'PostgreSQL',\n",
    "    'MS SQL Server_Microsoft Azure SQL Database': 'MS SQL Server',\n",
    "    'MS_SQL_Server': 'MS SQL Server',\n",
    "    'IBM_DB2': 'IBM DB2',\n",
    "    'Virtuoso_NoSql': 'Virtuoso-NoSql',\n",
    "    'Virtuoso_Sql': 'Virtuoso-Sql',\n",
    "    'Ignite_NoSql': 'Ignite-NoSql',\n",
    "    'Ignite_Sql': 'Ignite-Sql',\n",
    "    'GoogleCloudFilestore': 'GoogleCloudFirestore',\n",
    "    'MS_Access': 'MS Access'\n",
    "}\n",
    "\n",
    "# Renomeando os valores na coluna 'banco_de_dados'\n",
    "df3['Databases'] = df3['Databases'].replace(renomeacoes)\n",
    "df3 = df3.set_index(\"Databases\")\n",
    "dbms_counts = (df3.iloc[:,3:].T > 0).sum().to_dict()"
   ]
  },
  {
   "cell_type": "code",
   "execution_count": 6,
   "id": "7955bf4c-11f2-4ab1-8ebd-ff709d9c634b",
   "metadata": {
    "tags": []
   },
   "outputs": [
    {
     "data": {
      "text/html": [
       "<div>\n",
       "<style scoped>\n",
       "    .dataframe tbody tr th:only-of-type {\n",
       "        vertical-align: middle;\n",
       "    }\n",
       "\n",
       "    .dataframe tbody tr th {\n",
       "        vertical-align: top;\n",
       "    }\n",
       "\n",
       "    .dataframe thead th {\n",
       "        text-align: right;\n",
       "    }\n",
       "</style>\n",
       "<table border=\"1\" class=\"dataframe\">\n",
       "  <thead>\n",
       "    <tr style=\"text-align: right;\">\n",
       "      <th></th>\n",
       "      <th>DBMS</th>\n",
       "      <th># Replacements</th>\n",
       "      <th>projects</th>\n",
       "      <th># Projects</th>\n",
       "      <th>% Projects</th>\n",
       "    </tr>\n",
       "  </thead>\n",
       "  <tbody>\n",
       "    <tr>\n",
       "      <th>10</th>\n",
       "      <td>HyperSQL</td>\n",
       "      <td>23</td>\n",
       "      <td>{148, 86, 219, 210, 133, 188, 27, 62, 48, 159,...</td>\n",
       "      <td>19</td>\n",
       "      <td>0.234568</td>\n",
       "    </tr>\n",
       "    <tr>\n",
       "      <th>8</th>\n",
       "      <td>HBase</td>\n",
       "      <td>18</td>\n",
       "      <td>{151, 44, 48, 39, 68}</td>\n",
       "      <td>5</td>\n",
       "      <td>0.208333</td>\n",
       "    </tr>\n",
       "    <tr>\n",
       "      <th>20</th>\n",
       "      <td>MySQL</td>\n",
       "      <td>17</td>\n",
       "      <td>{86, 208, 74, 136, 205, 6, 56, 27, 44, 23, 171...</td>\n",
       "      <td>13</td>\n",
       "      <td>0.094891</td>\n",
       "    </tr>\n",
       "    <tr>\n",
       "      <th>7</th>\n",
       "      <td>H2</td>\n",
       "      <td>17</td>\n",
       "      <td>{169, 219, 55, 205, 160, 62, 194, 44, 100, 171...</td>\n",
       "      <td>12</td>\n",
       "      <td>0.105263</td>\n",
       "    </tr>\n",
       "    <tr>\n",
       "      <th>24</th>\n",
       "      <td>PostgreSQL</td>\n",
       "      <td>17</td>\n",
       "      <td>{169, 220, 74, 148, 59, 159, 13, 133, 76, 23, 33}</td>\n",
       "      <td>11</td>\n",
       "      <td>0.107843</td>\n",
       "    </tr>\n",
       "    <tr>\n",
       "      <th>28</th>\n",
       "      <td>SQLite</td>\n",
       "      <td>17</td>\n",
       "      <td>{171, 163, 39, 51, 112, 156, 27, 33}</td>\n",
       "      <td>8</td>\n",
       "      <td>0.200000</td>\n",
       "    </tr>\n",
       "    <tr>\n",
       "      <th>17</th>\n",
       "      <td>MS SQL Server</td>\n",
       "      <td>16</td>\n",
       "      <td>{151, 74, 114, 62, 159, 6, 133, 0, 100, 47, 68}</td>\n",
       "      <td>11</td>\n",
       "      <td>0.164179</td>\n",
       "    </tr>\n",
       "    <tr>\n",
       "      <th>0</th>\n",
       "      <td>Cassandra</td>\n",
       "      <td>16</td>\n",
       "      <td>{5, 69, 59, 47, 68}</td>\n",
       "      <td>5</td>\n",
       "      <td>0.161290</td>\n",
       "    </tr>\n",
       "    <tr>\n",
       "      <th>6</th>\n",
       "      <td>Google Cloud Datastore</td>\n",
       "      <td>14</td>\n",
       "      <td>{133, 201, 44, 59, 212}</td>\n",
       "      <td>5</td>\n",
       "      <td>0.116279</td>\n",
       "    </tr>\n",
       "    <tr>\n",
       "      <th>2</th>\n",
       "      <td>Couchbase</td>\n",
       "      <td>13</td>\n",
       "      <td>{208, 76, 59}</td>\n",
       "      <td>3</td>\n",
       "      <td>0.333333</td>\n",
       "    </tr>\n",
       "    <tr>\n",
       "      <th>22</th>\n",
       "      <td>Oracle</td>\n",
       "      <td>11</td>\n",
       "      <td>{136, 59, 231, 159, 52, 23, 92, 47}</td>\n",
       "      <td>8</td>\n",
       "      <td>0.085106</td>\n",
       "    </tr>\n",
       "    <tr>\n",
       "      <th>27</th>\n",
       "      <td>SAP Adaptive Server</td>\n",
       "      <td>11</td>\n",
       "      <td>{151, 59, 62, 68}</td>\n",
       "      <td>4</td>\n",
       "      <td>0.333333</td>\n",
       "    </tr>\n",
       "    <tr>\n",
       "      <th>31</th>\n",
       "      <td>Teradata</td>\n",
       "      <td>11</td>\n",
       "      <td>{159, 112}</td>\n",
       "      <td>2</td>\n",
       "      <td>0.181818</td>\n",
       "    </tr>\n",
       "    <tr>\n",
       "      <th>9</th>\n",
       "      <td>Hazelcast</td>\n",
       "      <td>10</td>\n",
       "      <td>{219, 74, 0, 81, 45, 109, 132}</td>\n",
       "      <td>7</td>\n",
       "      <td>0.205882</td>\n",
       "    </tr>\n",
       "    <tr>\n",
       "      <th>12</th>\n",
       "      <td>Ignite-NoSql</td>\n",
       "      <td>10</td>\n",
       "      <td>{74, 59}</td>\n",
       "      <td>2</td>\n",
       "      <td>0.250000</td>\n",
       "    </tr>\n",
       "    <tr>\n",
       "      <th>14</th>\n",
       "      <td>Informix</td>\n",
       "      <td>9</td>\n",
       "      <td>{115, 27, 62, 159, 68}</td>\n",
       "      <td>5</td>\n",
       "      <td>0.333333</td>\n",
       "    </tr>\n",
       "    <tr>\n",
       "      <th>11</th>\n",
       "      <td>IBM DB2</td>\n",
       "      <td>8</td>\n",
       "      <td>{148, 159, 218, 62, 27, 30, 68}</td>\n",
       "      <td>7</td>\n",
       "      <td>0.170732</td>\n",
       "    </tr>\n",
       "    <tr>\n",
       "      <th>15</th>\n",
       "      <td>Ingres</td>\n",
       "      <td>8</td>\n",
       "      <td>{151, 113}</td>\n",
       "      <td>2</td>\n",
       "      <td>0.285714</td>\n",
       "    </tr>\n",
       "    <tr>\n",
       "      <th>26</th>\n",
       "      <td>Redis</td>\n",
       "      <td>6</td>\n",
       "      <td>{5, 51, 64, 138, 39, 47, 3}</td>\n",
       "      <td>7</td>\n",
       "      <td>0.077778</td>\n",
       "    </tr>\n",
       "    <tr>\n",
       "      <th>19</th>\n",
       "      <td>MongoDB</td>\n",
       "      <td>5</td>\n",
       "      <td>{5, 69, 180, 147}</td>\n",
       "      <td>4</td>\n",
       "      <td>0.078431</td>\n",
       "    </tr>\n",
       "    <tr>\n",
       "      <th>16</th>\n",
       "      <td>MS Access</td>\n",
       "      <td>5</td>\n",
       "      <td>{73, 138}</td>\n",
       "      <td>2</td>\n",
       "      <td>0.153846</td>\n",
       "    </tr>\n",
       "    <tr>\n",
       "      <th>1</th>\n",
       "      <td>CouchDB</td>\n",
       "      <td>5</td>\n",
       "      <td>{76}</td>\n",
       "      <td>1</td>\n",
       "      <td>0.333333</td>\n",
       "    </tr>\n",
       "    <tr>\n",
       "      <th>3</th>\n",
       "      <td>DynamoDB</td>\n",
       "      <td>5</td>\n",
       "      <td>{69}</td>\n",
       "      <td>1</td>\n",
       "      <td>0.030303</td>\n",
       "    </tr>\n",
       "    <tr>\n",
       "      <th>5</th>\n",
       "      <td>Firebird</td>\n",
       "      <td>4</td>\n",
       "      <td>{62, 151, 159}</td>\n",
       "      <td>3</td>\n",
       "      <td>0.214286</td>\n",
       "    </tr>\n",
       "    <tr>\n",
       "      <th>21</th>\n",
       "      <td>Neo4j</td>\n",
       "      <td>4</td>\n",
       "      <td>{188, 44, 72}</td>\n",
       "      <td>3</td>\n",
       "      <td>0.176471</td>\n",
       "    </tr>\n",
       "    <tr>\n",
       "      <th>29</th>\n",
       "      <td>SapHana</td>\n",
       "      <td>4</td>\n",
       "      <td>{62, 154}</td>\n",
       "      <td>2</td>\n",
       "      <td>0.181818</td>\n",
       "    </tr>\n",
       "    <tr>\n",
       "      <th>25</th>\n",
       "      <td>Realm</td>\n",
       "      <td>4</td>\n",
       "      <td>{147}</td>\n",
       "      <td>1</td>\n",
       "      <td>0.250000</td>\n",
       "    </tr>\n",
       "    <tr>\n",
       "      <th>18</th>\n",
       "      <td>MarkLogic</td>\n",
       "      <td>3</td>\n",
       "      <td>{147}</td>\n",
       "      <td>1</td>\n",
       "      <td>0.076923</td>\n",
       "    </tr>\n",
       "    <tr>\n",
       "      <th>4</th>\n",
       "      <td>Firebase Realtime</td>\n",
       "      <td>2</td>\n",
       "      <td>{83}</td>\n",
       "      <td>1</td>\n",
       "      <td>0.125000</td>\n",
       "    </tr>\n",
       "    <tr>\n",
       "      <th>13</th>\n",
       "      <td>Influx DB</td>\n",
       "      <td>1</td>\n",
       "      <td>{208}</td>\n",
       "      <td>1</td>\n",
       "      <td>0.142857</td>\n",
       "    </tr>\n",
       "    <tr>\n",
       "      <th>23</th>\n",
       "      <td>PostGIS</td>\n",
       "      <td>1</td>\n",
       "      <td>{99}</td>\n",
       "      <td>1</td>\n",
       "      <td>0.090909</td>\n",
       "    </tr>\n",
       "    <tr>\n",
       "      <th>30</th>\n",
       "      <td>Snowflake</td>\n",
       "      <td>1</td>\n",
       "      <td>{62}</td>\n",
       "      <td>1</td>\n",
       "      <td>0.111111</td>\n",
       "    </tr>\n",
       "  </tbody>\n",
       "</table>\n",
       "</div>"
      ],
      "text/plain": [
       "                      DBMS  # Replacements  \\\n",
       "10                HyperSQL              23   \n",
       "8                    HBase              18   \n",
       "20                   MySQL              17   \n",
       "7                       H2              17   \n",
       "24              PostgreSQL              17   \n",
       "28                  SQLite              17   \n",
       "17           MS SQL Server              16   \n",
       "0                Cassandra              16   \n",
       "6   Google Cloud Datastore              14   \n",
       "2                Couchbase              13   \n",
       "22                  Oracle              11   \n",
       "27     SAP Adaptive Server              11   \n",
       "31                Teradata              11   \n",
       "9                Hazelcast              10   \n",
       "12            Ignite-NoSql              10   \n",
       "14                Informix               9   \n",
       "11                 IBM DB2               8   \n",
       "15                  Ingres               8   \n",
       "26                   Redis               6   \n",
       "19                 MongoDB               5   \n",
       "16               MS Access               5   \n",
       "1                  CouchDB               5   \n",
       "3                 DynamoDB               5   \n",
       "5                 Firebird               4   \n",
       "21                   Neo4j               4   \n",
       "29                 SapHana               4   \n",
       "25                   Realm               4   \n",
       "18               MarkLogic               3   \n",
       "4        Firebase Realtime               2   \n",
       "13               Influx DB               1   \n",
       "23                 PostGIS               1   \n",
       "30               Snowflake               1   \n",
       "\n",
       "                                             projects  # Projects  % Projects  \n",
       "10  {148, 86, 219, 210, 133, 188, 27, 62, 48, 159,...          19    0.234568  \n",
       "8                               {151, 44, 48, 39, 68}           5    0.208333  \n",
       "20  {86, 208, 74, 136, 205, 6, 56, 27, 44, 23, 171...          13    0.094891  \n",
       "7   {169, 219, 55, 205, 160, 62, 194, 44, 100, 171...          12    0.105263  \n",
       "24  {169, 220, 74, 148, 59, 159, 13, 133, 76, 23, 33}          11    0.107843  \n",
       "28               {171, 163, 39, 51, 112, 156, 27, 33}           8    0.200000  \n",
       "17    {151, 74, 114, 62, 159, 6, 133, 0, 100, 47, 68}          11    0.164179  \n",
       "0                                 {5, 69, 59, 47, 68}           5    0.161290  \n",
       "6                             {133, 201, 44, 59, 212}           5    0.116279  \n",
       "2                                       {208, 76, 59}           3    0.333333  \n",
       "22                {136, 59, 231, 159, 52, 23, 92, 47}           8    0.085106  \n",
       "27                                  {151, 59, 62, 68}           4    0.333333  \n",
       "31                                         {159, 112}           2    0.181818  \n",
       "9                      {219, 74, 0, 81, 45, 109, 132}           7    0.205882  \n",
       "12                                           {74, 59}           2    0.250000  \n",
       "14                             {115, 27, 62, 159, 68}           5    0.333333  \n",
       "11                    {148, 159, 218, 62, 27, 30, 68}           7    0.170732  \n",
       "15                                         {151, 113}           2    0.285714  \n",
       "26                        {5, 51, 64, 138, 39, 47, 3}           7    0.077778  \n",
       "19                                  {5, 69, 180, 147}           4    0.078431  \n",
       "16                                          {73, 138}           2    0.153846  \n",
       "1                                                {76}           1    0.333333  \n",
       "3                                                {69}           1    0.030303  \n",
       "5                                      {62, 151, 159}           3    0.214286  \n",
       "21                                      {188, 44, 72}           3    0.176471  \n",
       "29                                          {62, 154}           2    0.181818  \n",
       "25                                              {147}           1    0.250000  \n",
       "18                                              {147}           1    0.076923  \n",
       "4                                                {83}           1    0.125000  \n",
       "13                                              {208}           1    0.142857  \n",
       "23                                               {99}           1    0.090909  \n",
       "30                                               {62}           1    0.111111  "
      ]
     },
     "execution_count": 6,
     "metadata": {},
     "output_type": "execute_result"
    }
   ],
   "source": [
    "df4 = df.groupby([\"X\"], as_index=False).agg(replacements=(\"Y\", \"count\"), projects=(\"LinesSet\", union_sets))\n",
    "df4.rename(columns={\"X\": \"DBMS\", \"replacements\": \"# Replacements\"}, inplace=True)\n",
    "df4[\"# Projects\"] = df4[\"projects\"].apply(len)\n",
    "df4[\"% Projects\"] = df4.apply(lambda row: row[\"# Projects\"] / dbms_counts[row[\"DBMS\"]], axis=1)\n",
    "df4.sort_values([\"# Replacements\", \"# Projects\"], inplace=True, ascending=False)\n",
    "dbms_was_replaced_count = df4.set_index(\"DBMS\")[\"# Replacements\"].to_dict()\n",
    "dbms_was_replaced_in_projects = df4.set_index(\"DBMS\")[\"# Projects\"].to_dict()\n",
    "df4"
   ]
  },
  {
   "cell_type": "code",
   "execution_count": 7,
   "id": "5e0d3788-9378-4fc7-8a38-ce7b3a66e6d3",
   "metadata": {
    "tags": []
   },
   "outputs": [],
   "source": [
    "assert max(dbms_was_replaced_count.items(), key=lambda x: x[1]) == ('HyperSQL', 23), \"Paper: 'In summary, we have identified that HyperSQL is the DBMS mostly susceptible to replacements during the projects' history.'\"\n",
    "assert list(df4.set_index(\"DBMS\")[\"# Replacements\"].nlargest(2).index) == [\"HyperSQL\", \"HBase\"], \"Paper: 'In a more comprehensive analysis, considering only the replaced DBMS, including the patterns that occurred in only 1 project, we found HyperSQL and HBase among the most susceptible to be replaced.'\"\n",
    "assert (df4[\"# Replacements\"] > df4[\"# Projects\"]).sum()/len(df4) > 0.8, \"Paper: 'Additionally, we observed that most replaced DBMSs have experienced more than one replacement in certain projects.'\""
   ]
  },
  {
   "cell_type": "code",
   "execution_count": 8,
   "id": "346ee08c-c0a4-4c70-a53d-2dfd57485682",
   "metadata": {
    "tags": []
   },
   "outputs": [],
   "source": [
    "columns = [\"DBMS\", \"# Replacements\", \"# Projects\", \"% Projects\"]\n",
    "result = df4[columns].to_latex(index=False, float_format=\"{:.1%}\".format, header=[f\"<#i#>{column}<#f#>\" for column in columns])\n",
    "result = result.replace(r'<\\#i\\#>', r'\\textbf{').replace(r'<\\#f\\#>', r'}').replace(r'\\toprule', r'\\hline').replace(r'\\midrule', r'\\hline').replace(r'\\bottomrule', r'\\hline')\n",
    "with open(PAPEROUT_DIR + os.sep + \"substitutions.tex\", \"w\") as f:\n",
    "    f.write(result)"
   ]
  },
  {
   "cell_type": "markdown",
   "id": "b6304d1f-49af-4db5-a31a-1d8230515531",
   "metadata": {
    "tags": []
   },
   "source": [
    "### DBMS that replaced others"
   ]
  },
  {
   "cell_type": "code",
   "execution_count": 9,
   "id": "fe543247-d135-4d1f-9cfe-de0816576446",
   "metadata": {
    "tags": []
   },
   "outputs": [
    {
     "data": {
      "text/html": [
       "<div>\n",
       "<style scoped>\n",
       "    .dataframe tbody tr th:only-of-type {\n",
       "        vertical-align: middle;\n",
       "    }\n",
       "\n",
       "    .dataframe tbody tr th {\n",
       "        vertical-align: top;\n",
       "    }\n",
       "\n",
       "    .dataframe thead th {\n",
       "        text-align: right;\n",
       "    }\n",
       "</style>\n",
       "<table border=\"1\" class=\"dataframe\">\n",
       "  <thead>\n",
       "    <tr style=\"text-align: right;\">\n",
       "      <th></th>\n",
       "      <th>DBMS</th>\n",
       "      <th># Times it Replaced a DBMS</th>\n",
       "      <th>projects</th>\n",
       "      <th># Projects</th>\n",
       "      <th>% Projects</th>\n",
       "    </tr>\n",
       "  </thead>\n",
       "  <tbody>\n",
       "    <tr>\n",
       "      <th>27</th>\n",
       "      <td>Redis</td>\n",
       "      <td>21</td>\n",
       "      <td>{74, 219, 210, 205, 138, 132, 76, 188, 57, 68,...</td>\n",
       "      <td>22</td>\n",
       "      <td>0.244444</td>\n",
       "    </tr>\n",
       "    <tr>\n",
       "      <th>24</th>\n",
       "      <td>Oracle</td>\n",
       "      <td>21</td>\n",
       "      <td>{148, 201, 208, 138, 13, 147, 76, 39, 136, 48,...</td>\n",
       "      <td>19</td>\n",
       "      <td>0.202128</td>\n",
       "    </tr>\n",
       "    <tr>\n",
       "      <th>26</th>\n",
       "      <td>PostgreSQL</td>\n",
       "      <td>20</td>\n",
       "      <td>{148, 86, 219, 208, 59, 20, 138, 147, 56, 76, ...</td>\n",
       "      <td>24</td>\n",
       "      <td>0.235294</td>\n",
       "    </tr>\n",
       "    <tr>\n",
       "      <th>18</th>\n",
       "      <td>MS SQL Server</td>\n",
       "      <td>19</td>\n",
       "      <td>{169, 220, 208, 147, 132, 76, 27, 39, 33, 92, ...</td>\n",
       "      <td>19</td>\n",
       "      <td>0.283582</td>\n",
       "    </tr>\n",
       "    <tr>\n",
       "      <th>21</th>\n",
       "      <td>MongoDB</td>\n",
       "      <td>18</td>\n",
       "      <td>{74, 210, 138, 147, 133, 69, 112, 76, 44, 113,...</td>\n",
       "      <td>14</td>\n",
       "      <td>0.274510</td>\n",
       "    </tr>\n",
       "    <tr>\n",
       "      <th>1</th>\n",
       "      <td>Cassandra</td>\n",
       "      <td>18</td>\n",
       "      <td>{83, 59, 159, 69, 30, 76, 44, 188, 47, 57, 72}</td>\n",
       "      <td>11</td>\n",
       "      <td>0.354839</td>\n",
       "    </tr>\n",
       "    <tr>\n",
       "      <th>9</th>\n",
       "      <td>H2</td>\n",
       "      <td>17</td>\n",
       "      <td>{73, 208, 74, 210, 163, 76, 100, 72, 188, 39, ...</td>\n",
       "      <td>19</td>\n",
       "      <td>0.166667</td>\n",
       "    </tr>\n",
       "    <tr>\n",
       "      <th>22</th>\n",
       "      <td>MySQL</td>\n",
       "      <td>14</td>\n",
       "      <td>{148, 86, 169, 74, 231, 147, 52, 100, 188, 33,...</td>\n",
       "      <td>18</td>\n",
       "      <td>0.131387</td>\n",
       "    </tr>\n",
       "    <tr>\n",
       "      <th>12</th>\n",
       "      <td>HyperSQL</td>\n",
       "      <td>14</td>\n",
       "      <td>{219, 160, 48, 109, 69, 112, 44, 0, 171, 39, 68}</td>\n",
       "      <td>11</td>\n",
       "      <td>0.135802</td>\n",
       "    </tr>\n",
       "    <tr>\n",
       "      <th>23</th>\n",
       "      <td>Neo4j</td>\n",
       "      <td>12</td>\n",
       "      <td>{74, 44, 59, 159, 72}</td>\n",
       "      <td>5</td>\n",
       "      <td>0.294118</td>\n",
       "    </tr>\n",
       "    <tr>\n",
       "      <th>4</th>\n",
       "      <td>DynamoDB</td>\n",
       "      <td>11</td>\n",
       "      <td>{133, 76, 59, 44, 47, 72}</td>\n",
       "      <td>6</td>\n",
       "      <td>0.181818</td>\n",
       "    </tr>\n",
       "    <tr>\n",
       "      <th>10</th>\n",
       "      <td>HBase</td>\n",
       "      <td>11</td>\n",
       "      <td>{74, 151, 44, 205, 59, 45}</td>\n",
       "      <td>6</td>\n",
       "      <td>0.250000</td>\n",
       "    </tr>\n",
       "    <tr>\n",
       "      <th>5</th>\n",
       "      <td>Etcd</td>\n",
       "      <td>11</td>\n",
       "      <td>{62, 44, 68}</td>\n",
       "      <td>3</td>\n",
       "      <td>0.375000</td>\n",
       "    </tr>\n",
       "    <tr>\n",
       "      <th>11</th>\n",
       "      <td>Hazelcast</td>\n",
       "      <td>10</td>\n",
       "      <td>{112, 76, 59, 44, 27}</td>\n",
       "      <td>5</td>\n",
       "      <td>0.147059</td>\n",
       "    </tr>\n",
       "    <tr>\n",
       "      <th>13</th>\n",
       "      <td>IBM DB2</td>\n",
       "      <td>10</td>\n",
       "      <td>{148, 86, 151, 188, 48}</td>\n",
       "      <td>5</td>\n",
       "      <td>0.121951</td>\n",
       "    </tr>\n",
       "    <tr>\n",
       "      <th>7</th>\n",
       "      <td>Google Cloud Datastore</td>\n",
       "      <td>9</td>\n",
       "      <td>{208, 44, 59, 180, 81, 39}</td>\n",
       "      <td>6</td>\n",
       "      <td>0.139535</td>\n",
       "    </tr>\n",
       "    <tr>\n",
       "      <th>20</th>\n",
       "      <td>Microsoft Azure CosmosDB</td>\n",
       "      <td>7</td>\n",
       "      <td>{51, 76, 44, 59}</td>\n",
       "      <td>4</td>\n",
       "      <td>0.571429</td>\n",
       "    </tr>\n",
       "    <tr>\n",
       "      <th>3</th>\n",
       "      <td>Couchbase</td>\n",
       "      <td>5</td>\n",
       "      <td>{44, 76, 59}</td>\n",
       "      <td>3</td>\n",
       "      <td>0.333333</td>\n",
       "    </tr>\n",
       "    <tr>\n",
       "      <th>15</th>\n",
       "      <td>Influx DB</td>\n",
       "      <td>5</td>\n",
       "      <td>{74, 76, 44}</td>\n",
       "      <td>3</td>\n",
       "      <td>0.428571</td>\n",
       "    </tr>\n",
       "    <tr>\n",
       "      <th>19</th>\n",
       "      <td>MarkLogic</td>\n",
       "      <td>5</td>\n",
       "      <td>{147, 47, 212}</td>\n",
       "      <td>3</td>\n",
       "      <td>0.230769</td>\n",
       "    </tr>\n",
       "    <tr>\n",
       "      <th>25</th>\n",
       "      <td>PostGIS</td>\n",
       "      <td>5</td>\n",
       "      <td>{151, 112, 44}</td>\n",
       "      <td>3</td>\n",
       "      <td>0.272727</td>\n",
       "    </tr>\n",
       "    <tr>\n",
       "      <th>2</th>\n",
       "      <td>ClickHouse</td>\n",
       "      <td>5</td>\n",
       "      <td>{112, 47}</td>\n",
       "      <td>2</td>\n",
       "      <td>0.181818</td>\n",
       "    </tr>\n",
       "    <tr>\n",
       "      <th>16</th>\n",
       "      <td>Informix</td>\n",
       "      <td>4</td>\n",
       "      <td>{154, 112}</td>\n",
       "      <td>2</td>\n",
       "      <td>0.133333</td>\n",
       "    </tr>\n",
       "    <tr>\n",
       "      <th>30</th>\n",
       "      <td>SQLite</td>\n",
       "      <td>3</td>\n",
       "      <td>{154, 194, 231}</td>\n",
       "      <td>3</td>\n",
       "      <td>0.075000</td>\n",
       "    </tr>\n",
       "    <tr>\n",
       "      <th>17</th>\n",
       "      <td>Ingres</td>\n",
       "      <td>3</td>\n",
       "      <td>{151, 154}</td>\n",
       "      <td>2</td>\n",
       "      <td>0.285714</td>\n",
       "    </tr>\n",
       "    <tr>\n",
       "      <th>32</th>\n",
       "      <td>Snowflake</td>\n",
       "      <td>3</td>\n",
       "      <td>{59}</td>\n",
       "      <td>1</td>\n",
       "      <td>0.111111</td>\n",
       "    </tr>\n",
       "    <tr>\n",
       "      <th>0</th>\n",
       "      <td>ArangoDB</td>\n",
       "      <td>2</td>\n",
       "      <td>{44, 72}</td>\n",
       "      <td>2</td>\n",
       "      <td>0.400000</td>\n",
       "    </tr>\n",
       "    <tr>\n",
       "      <th>14</th>\n",
       "      <td>Ignite-NoSql</td>\n",
       "      <td>2</td>\n",
       "      <td>{59, 44}</td>\n",
       "      <td>2</td>\n",
       "      <td>0.250000</td>\n",
       "    </tr>\n",
       "    <tr>\n",
       "      <th>33</th>\n",
       "      <td>Teradata</td>\n",
       "      <td>2</td>\n",
       "      <td>{113, 114}</td>\n",
       "      <td>2</td>\n",
       "      <td>0.181818</td>\n",
       "    </tr>\n",
       "    <tr>\n",
       "      <th>6</th>\n",
       "      <td>Firebase Realtime</td>\n",
       "      <td>2</td>\n",
       "      <td>{76}</td>\n",
       "      <td>1</td>\n",
       "      <td>0.125000</td>\n",
       "    </tr>\n",
       "    <tr>\n",
       "      <th>8</th>\n",
       "      <td>GoogleCloudFirestore</td>\n",
       "      <td>2</td>\n",
       "      <td>{76}</td>\n",
       "      <td>1</td>\n",
       "      <td>0.333333</td>\n",
       "    </tr>\n",
       "    <tr>\n",
       "      <th>28</th>\n",
       "      <td>SAP Adaptive Server</td>\n",
       "      <td>2</td>\n",
       "      <td>{151}</td>\n",
       "      <td>1</td>\n",
       "      <td>0.083333</td>\n",
       "    </tr>\n",
       "    <tr>\n",
       "      <th>29</th>\n",
       "      <td>SAP SQL Anywhere</td>\n",
       "      <td>2</td>\n",
       "      <td>{39}</td>\n",
       "      <td>1</td>\n",
       "      <td>0.500000</td>\n",
       "    </tr>\n",
       "    <tr>\n",
       "      <th>31</th>\n",
       "      <td>SapHana</td>\n",
       "      <td>1</td>\n",
       "      <td>{113}</td>\n",
       "      <td>1</td>\n",
       "      <td>0.090909</td>\n",
       "    </tr>\n",
       "  </tbody>\n",
       "</table>\n",
       "</div>"
      ],
      "text/plain": [
       "                        DBMS  # Times it Replaced a DBMS  \\\n",
       "27                     Redis                          21   \n",
       "24                    Oracle                          21   \n",
       "26                PostgreSQL                          20   \n",
       "18             MS SQL Server                          19   \n",
       "21                   MongoDB                          18   \n",
       "1                  Cassandra                          18   \n",
       "9                         H2                          17   \n",
       "22                     MySQL                          14   \n",
       "12                  HyperSQL                          14   \n",
       "23                     Neo4j                          12   \n",
       "4                   DynamoDB                          11   \n",
       "10                     HBase                          11   \n",
       "5                       Etcd                          11   \n",
       "11                 Hazelcast                          10   \n",
       "13                   IBM DB2                          10   \n",
       "7     Google Cloud Datastore                           9   \n",
       "20  Microsoft Azure CosmosDB                           7   \n",
       "3                  Couchbase                           5   \n",
       "15                 Influx DB                           5   \n",
       "19                 MarkLogic                           5   \n",
       "25                   PostGIS                           5   \n",
       "2                 ClickHouse                           5   \n",
       "16                  Informix                           4   \n",
       "30                    SQLite                           3   \n",
       "17                    Ingres                           3   \n",
       "32                 Snowflake                           3   \n",
       "0                   ArangoDB                           2   \n",
       "14              Ignite-NoSql                           2   \n",
       "33                  Teradata                           2   \n",
       "6          Firebase Realtime                           2   \n",
       "8       GoogleCloudFirestore                           2   \n",
       "28       SAP Adaptive Server                           2   \n",
       "29          SAP SQL Anywhere                           2   \n",
       "31                   SapHana                           1   \n",
       "\n",
       "                                             projects  # Projects  % Projects  \n",
       "27  {74, 219, 210, 205, 138, 132, 76, 188, 57, 68,...          22    0.244444  \n",
       "24  {148, 201, 208, 138, 13, 147, 76, 39, 136, 48,...          19    0.202128  \n",
       "26  {148, 86, 219, 208, 59, 20, 138, 147, 56, 76, ...          24    0.235294  \n",
       "18  {169, 220, 208, 147, 132, 76, 27, 39, 33, 92, ...          19    0.283582  \n",
       "21  {74, 210, 138, 147, 133, 69, 112, 76, 44, 113,...          14    0.274510  \n",
       "1      {83, 59, 159, 69, 30, 76, 44, 188, 47, 57, 72}          11    0.354839  \n",
       "9   {73, 208, 74, 210, 163, 76, 100, 72, 188, 39, ...          19    0.166667  \n",
       "22  {148, 86, 169, 74, 231, 147, 52, 100, 188, 33,...          18    0.131387  \n",
       "12   {219, 160, 48, 109, 69, 112, 44, 0, 171, 39, 68}          11    0.135802  \n",
       "23                              {74, 44, 59, 159, 72}           5    0.294118  \n",
       "4                           {133, 76, 59, 44, 47, 72}           6    0.181818  \n",
       "10                         {74, 151, 44, 205, 59, 45}           6    0.250000  \n",
       "5                                        {62, 44, 68}           3    0.375000  \n",
       "11                              {112, 76, 59, 44, 27}           5    0.147059  \n",
       "13                            {148, 86, 151, 188, 48}           5    0.121951  \n",
       "7                          {208, 44, 59, 180, 81, 39}           6    0.139535  \n",
       "20                                   {51, 76, 44, 59}           4    0.571429  \n",
       "3                                        {44, 76, 59}           3    0.333333  \n",
       "15                                       {74, 76, 44}           3    0.428571  \n",
       "19                                     {147, 47, 212}           3    0.230769  \n",
       "25                                     {151, 112, 44}           3    0.272727  \n",
       "2                                           {112, 47}           2    0.181818  \n",
       "16                                         {154, 112}           2    0.133333  \n",
       "30                                    {154, 194, 231}           3    0.075000  \n",
       "17                                         {151, 154}           2    0.285714  \n",
       "32                                               {59}           1    0.111111  \n",
       "0                                            {44, 72}           2    0.400000  \n",
       "14                                           {59, 44}           2    0.250000  \n",
       "33                                         {113, 114}           2    0.181818  \n",
       "6                                                {76}           1    0.125000  \n",
       "8                                                {76}           1    0.333333  \n",
       "28                                              {151}           1    0.083333  \n",
       "29                                               {39}           1    0.500000  \n",
       "31                                              {113}           1    0.090909  "
      ]
     },
     "execution_count": 9,
     "metadata": {},
     "output_type": "execute_result"
    }
   ],
   "source": [
    "df5 = df.groupby([\"Y\"], as_index=False).agg(replacements=(\"X\", \"count\"), projects=(\"LinesSet\", union_sets))\n",
    "df5.rename(columns={\"Y\": \"DBMS\", \"replacements\": \"# Times it Replaced a DBMS\"}, inplace=True)\n",
    "df5[\"# Projects\"] = df5[\"projects\"].apply(len)\n",
    "df5[\"% Projects\"] = df5.apply(lambda row: row[\"# Projects\"] / dbms_counts[row[\"DBMS\"]], axis=1)\n",
    "df5.sort_values([\"# Times it Replaced a DBMS\", \"# Projects\"], inplace=True, ascending=False)\n",
    "dbms_replaced_count = df5.set_index(\"DBMS\")[\"# Times it Replaced a DBMS\"].to_dict()\n",
    "dbms_replaced_in_projects = df5.set_index(\"DBMS\")[\"# Projects\"].to_dict()\n",
    "df5"
   ]
  },
  {
   "cell_type": "code",
   "execution_count": 10,
   "id": "5889ca0c-e28b-4b83-afff-a2a7829e1fe9",
   "metadata": {
    "tags": []
   },
   "outputs": [],
   "source": [
    "assert list(df5.set_index(\"DBMS\")[\"# Times it Replaced a DBMS\"].nlargest(3).index) == [\"Redis\", \"Oracle\", \"PostgreSQL\"], \"Paper: 'From this viewpoint, we discovered the DBMSs most chosen to replace others with are Redis, Oracle, and PostgreSQL.'\"\n",
    "assert list(df5.set_index(\"DBMS\")[\"# Times it Replaced a DBMS\"].nlargest(3).index) == [\"Redis\", \"Oracle\", \"PostgreSQL\"], \"Paper: 'Also, considering just the DBMS that replaced another one, we found Redis, Oracle, and PostgreSQL among the most used as a replacement.'\""
   ]
  },
  {
   "cell_type": "code",
   "execution_count": 11,
   "id": "a2687f62-5d19-470a-b29b-63e25c02fd98",
   "metadata": {
    "tags": []
   },
   "outputs": [
    {
     "name": "stdout",
     "output_type": "stream",
     "text": [
      "\\begin{tabular}{lrrr}\n",
      "\\hline\n",
      "\\multicolumn{1}{l}{\\textbf{}} & \\multicolumn{1}{r}{\\textbf{\\# Times it Replaced}} & \\multicolumn{1}{c}{\\textbf{}} & \\textbf{} \\\\\n",
      "\\multicolumn{1}{l}{\\textbf{DBMS}} & \\multicolumn{1}{r}{\\textbf{ a DBMS}} & \\multicolumn{1}{c}{\\textbf{\\# Projects}} & \\textbf{\\% Projects} \\\\\n",
      "\\hline\n",
      "                   Redis &                          21 &          22 &       24.4\\% \\\\\n",
      "                  Oracle &                          21 &          19 &       20.2\\% \\\\\n",
      "              PostgreSQL &                          20 &          24 &       23.5\\% \\\\\n",
      "           MS SQL Server &                          19 &          19 &       28.4\\% \\\\\n",
      "                 MongoDB &                          18 &          14 &       27.5\\% \\\\\n",
      "               Cassandra &                          18 &          11 &       35.5\\% \\\\\n",
      "                      H2 &                          17 &          19 &       16.7\\% \\\\\n",
      "                   MySQL &                          14 &          18 &       13.1\\% \\\\\n",
      "                HyperSQL &                          14 &          11 &       13.6\\% \\\\\n",
      "                   Neo4j &                          12 &           5 &       29.4\\% \\\\\n",
      "                DynamoDB &                          11 &           6 &       18.2\\% \\\\\n",
      "                   HBase &                          11 &           6 &       25.0\\% \\\\\n",
      "                    Etcd &                          11 &           3 &       37.5\\% \\\\\n",
      "               Hazelcast &                          10 &           5 &       14.7\\% \\\\\n",
      "                 IBM DB2 &                          10 &           5 &       12.2\\% \\\\\n",
      "  Google Cloud Datastore &                           9 &           6 &       14.0\\% \\\\\n",
      "Microsoft Azure CosmosDB &                           7 &           4 &       57.1\\% \\\\\n",
      "               Couchbase &                           5 &           3 &       33.3\\% \\\\\n",
      "               Influx DB &                           5 &           3 &       42.9\\% \\\\\n",
      "               MarkLogic &                           5 &           3 &       23.1\\% \\\\\n",
      "                 PostGIS &                           5 &           3 &       27.3\\% \\\\\n",
      "              ClickHouse &                           5 &           2 &       18.2\\% \\\\\n",
      "                Informix &                           4 &           2 &       13.3\\% \\\\\n",
      "                  SQLite &                           3 &           3 &        7.5\\% \\\\\n",
      "                  Ingres &                           3 &           2 &       28.6\\% \\\\\n",
      "               Snowflake &                           3 &           1 &       11.1\\% \\\\\n",
      "                ArangoDB &                           2 &           2 &       40.0\\% \\\\\n",
      "            Ignite-NoSql &                           2 &           2 &       25.0\\% \\\\\n",
      "                Teradata &                           2 &           2 &       18.2\\% \\\\\n",
      "       Firebase Realtime &                           2 &           1 &       12.5\\% \\\\\n",
      "    GoogleCloudFirestore &                           2 &           1 &       33.3\\% \\\\\n",
      "     SAP Adaptive Server &                           2 &           1 &        8.3\\% \\\\\n",
      "        SAP SQL Anywhere &                           2 &           1 &       50.0\\% \\\\\n",
      "                 SapHana &                           1 &           1 &        9.1\\% \\\\\n",
      "\\hline\n",
      "\\end{tabular}\n",
      "\n"
     ]
    }
   ],
   "source": [
    "columns = [\"DBMS\", \"# Times it Replaced a DBMS\", \"# Projects\", \"% Projects\"]\n",
    "result = df5[columns].to_latex(index=False, float_format=\"{:.1%}\".format)\n",
    "result = re.sub(r\"\\\\toprule\\n.*\\n\\\\midrule\", r\"\"\"\\\\hline\n",
    "\\\\multicolumn{1}{l}{\\\\textbf{}} & \\\\multicolumn{1}{r}{\\\\textbf{\\\\# Times it Replaced}} & \\\\multicolumn{1}{c}{\\\\textbf{}} & \\\\textbf{} \\\\\\\\\n",
    "\\\\multicolumn{1}{l}{\\\\textbf{DBMS}} & \\\\multicolumn{1}{r}{\\\\textbf{ a DBMS}} & \\\\multicolumn{1}{c}{\\\\textbf{\\\\# Projects}} & \\\\textbf{\\\\% Projects} \\\\\\\\\n",
    "\\\\hline\"\"\", result, flags=re.MULTILINE).replace(r'\\bottomrule', r'\\hline')\n",
    "#result = result.replace(r'<\\#i\\#>', r'\\textbf{').replace(r'<\\#f\\#>', r'}').replace(r'\\toprule', r'\\hline').replace(r'\\midrule', r'\\hline').replace(r'\\bottomrule', r'\\hline')\n",
    "print(result)\n",
    "with open(PAPEROUT_DIR + os.sep + \"substitutes.tex\", \"w\") as f:\n",
    "    f.write(result)"
   ]
  },
  {
   "cell_type": "markdown",
   "id": "972e509a-a24c-4547-8d16-a20c1ac9bbe8",
   "metadata": {
    "tags": []
   },
   "source": [
    "### Replacement patterns table"
   ]
  },
  {
   "cell_type": "markdown",
   "id": "5a59dd08-36d5-43a8-bf37-42f7da151483",
   "metadata": {},
   "source": [
    "Remove rules with support < 3"
   ]
  },
  {
   "cell_type": "code",
   "execution_count": 12,
   "id": "3651ce24-b87a-498f-89d9-2bfb3bc175a7",
   "metadata": {
    "tags": []
   },
   "outputs": [
    {
     "data": {
      "text/html": [
       "<div>\n",
       "<style scoped>\n",
       "    .dataframe tbody tr th:only-of-type {\n",
       "        vertical-align: middle;\n",
       "    }\n",
       "\n",
       "    .dataframe tbody tr th {\n",
       "        vertical-align: top;\n",
       "    }\n",
       "\n",
       "    .dataframe thead th {\n",
       "        text-align: right;\n",
       "    }\n",
       "</style>\n",
       "<table border=\"1\" class=\"dataframe\">\n",
       "  <thead>\n",
       "    <tr style=\"text-align: right;\">\n",
       "      <th></th>\n",
       "      <th>Name</th>\n",
       "      <th>Support</th>\n",
       "      <th>Line Count</th>\n",
       "      <th>Lines</th>\n",
       "      <th>Bindings</th>\n",
       "      <th>Source</th>\n",
       "      <th>X</th>\n",
       "      <th>Y</th>\n",
       "      <th>LinesSet</th>\n",
       "      <th>X Model</th>\n",
       "      <th>Y Model</th>\n",
       "    </tr>\n",
       "  </thead>\n",
       "  <tbody>\n",
       "    <tr>\n",
       "      <th>97</th>\n",
       "      <td>Cassandra -&gt; InPostgreSQL -&gt; OutCassandra &amp; Po...</td>\n",
       "      <td>0.012876</td>\n",
       "      <td>3</td>\n",
       "      <td>59; 5; 47</td>\n",
       "      <td>X = Cassandra; Y = PostgreSQL</td>\n",
       "      <td>X -&gt; InY -&gt; OutX &amp; Y -v X -v Y</td>\n",
       "      <td>Cassandra</td>\n",
       "      <td>PostgreSQL</td>\n",
       "      <td>{5, 47, 59}</td>\n",
       "      <td>Non Relational</td>\n",
       "      <td>Relational</td>\n",
       "    </tr>\n",
       "    <tr>\n",
       "      <th>190</th>\n",
       "      <td>Cassandra -&gt; InMS_SQL_Server -&gt; OutCassandra &amp;...</td>\n",
       "      <td>0.012876</td>\n",
       "      <td>3</td>\n",
       "      <td>68; 69; 47</td>\n",
       "      <td>X = Cassandra; Y = MS_SQL_Server</td>\n",
       "      <td>X -&gt; InY -&gt; OutX &amp; Y -v X -v Y</td>\n",
       "      <td>Cassandra</td>\n",
       "      <td>MS SQL Server</td>\n",
       "      <td>{69, 47, 68}</td>\n",
       "      <td>Non Relational</td>\n",
       "      <td>Relational</td>\n",
       "    </tr>\n",
       "    <tr>\n",
       "      <th>214</th>\n",
       "      <td>Couchbase -&gt; InPostgreSQL -&gt; OutCouchbase &amp; Po...</td>\n",
       "      <td>0.012876</td>\n",
       "      <td>3</td>\n",
       "      <td>208; 59; 76</td>\n",
       "      <td>X = Couchbase; Y = PostgreSQL</td>\n",
       "      <td>X -&gt; InY -&gt; OutX &amp; Y -v X -v Y</td>\n",
       "      <td>Couchbase</td>\n",
       "      <td>PostgreSQL</td>\n",
       "      <td>{208, 76, 59}</td>\n",
       "      <td>Non Relational</td>\n",
       "      <td>Relational</td>\n",
       "    </tr>\n",
       "    <tr>\n",
       "      <th>177</th>\n",
       "      <td>HBase -&gt; InHyperSQL -&gt; OutHBase &amp; HyperSQL</td>\n",
       "      <td>0.017167</td>\n",
       "      <td>4</td>\n",
       "      <td>48; 44; 68; 39</td>\n",
       "      <td>X = HBase; Y = HyperSQL</td>\n",
       "      <td>X -&gt; InY -&gt; OutX &amp; Y -v X -v Y</td>\n",
       "      <td>HBase</td>\n",
       "      <td>HyperSQL</td>\n",
       "      <td>{48, 39, 44, 68}</td>\n",
       "      <td>Non Relational</td>\n",
       "      <td>Relational</td>\n",
       "    </tr>\n",
       "    <tr>\n",
       "      <th>120</th>\n",
       "      <td>HBase -&gt; InH2 -&gt; OutHBase &amp; H2</td>\n",
       "      <td>0.012876</td>\n",
       "      <td>3</td>\n",
       "      <td>44; 68; 39</td>\n",
       "      <td>X = HBase; Y = H2</td>\n",
       "      <td>X -&gt; InY -&gt; OutX &amp; Y -v X -v Y</td>\n",
       "      <td>HBase</td>\n",
       "      <td>H2</td>\n",
       "      <td>{39, 44, 68}</td>\n",
       "      <td>Non Relational</td>\n",
       "      <td>Relational</td>\n",
       "    </tr>\n",
       "    <tr>\n",
       "      <th>176</th>\n",
       "      <td>HBase -&gt; InMS_SQL_Server -&gt; OutHBase &amp; MS_SQL_...</td>\n",
       "      <td>0.012876</td>\n",
       "      <td>3</td>\n",
       "      <td>151; 44; 68</td>\n",
       "      <td>X = HBase; Y = MS_SQL_Server</td>\n",
       "      <td>X -&gt; InY -&gt; OutX &amp; Y -v X -v Y</td>\n",
       "      <td>HBase</td>\n",
       "      <td>MS SQL Server</td>\n",
       "      <td>{151, 44, 68}</td>\n",
       "      <td>Non Relational</td>\n",
       "      <td>Relational</td>\n",
       "    </tr>\n",
       "    <tr>\n",
       "      <th>179</th>\n",
       "      <td>HBase -&gt; InRedis -&gt; OutHBase &amp; Redis</td>\n",
       "      <td>0.012876</td>\n",
       "      <td>3</td>\n",
       "      <td>151; 44; 68</td>\n",
       "      <td>X = HBase; Y = Redis</td>\n",
       "      <td>X -&gt; InY -&gt; OutX &amp; Y -v X -v Y</td>\n",
       "      <td>HBase</td>\n",
       "      <td>Redis</td>\n",
       "      <td>{151, 44, 68}</td>\n",
       "      <td>Non Relational</td>\n",
       "      <td>Non Relational</td>\n",
       "    </tr>\n",
       "    <tr>\n",
       "      <th>72</th>\n",
       "      <td>Hazelcast -&gt; InHyperSQL -&gt; OutHazelcast &amp; Hype...</td>\n",
       "      <td>0.012876</td>\n",
       "      <td>3</td>\n",
       "      <td>0; 219; 109</td>\n",
       "      <td>X = Hazelcast; Y = HyperSQL</td>\n",
       "      <td>X -&gt; InY -&gt; OutX &amp; Y -v X -v Y</td>\n",
       "      <td>Hazelcast</td>\n",
       "      <td>HyperSQL</td>\n",
       "      <td>{219, 109, 0}</td>\n",
       "      <td>Non Relational</td>\n",
       "      <td>Relational</td>\n",
       "    </tr>\n",
       "    <tr>\n",
       "      <th>82</th>\n",
       "      <td>HyperSQL -&gt; InRedis -&gt; OutHyperSQL &amp; Redis</td>\n",
       "      <td>0.034335</td>\n",
       "      <td>8</td>\n",
       "      <td>3; 38; 44; 112; 210; 115; 20; 219</td>\n",
       "      <td>X = HyperSQL; Y = Redis</td>\n",
       "      <td>X -&gt; InY -&gt; OutX &amp; Y -v X -v Y</td>\n",
       "      <td>HyperSQL</td>\n",
       "      <td>Redis</td>\n",
       "      <td>{219, 210, 38, 112, 115, 44, 20, 3}</td>\n",
       "      <td>Relational</td>\n",
       "      <td>Non Relational</td>\n",
       "    </tr>\n",
       "    <tr>\n",
       "      <th>48</th>\n",
       "      <td>HyperSQL -&gt; InPostgreSQL -&gt; OutHyperSQL &amp; Post...</td>\n",
       "      <td>0.021459</td>\n",
       "      <td>5</td>\n",
       "      <td>0; 100; 148; 86; 109</td>\n",
       "      <td>X = HyperSQL; Y = PostgreSQL</td>\n",
       "      <td>X -&gt; InY -&gt; OutX &amp; Y -v X -v Y</td>\n",
       "      <td>HyperSQL</td>\n",
       "      <td>PostgreSQL</td>\n",
       "      <td>{148, 86, 109, 0, 100}</td>\n",
       "      <td>Relational</td>\n",
       "      <td>Relational</td>\n",
       "    </tr>\n",
       "    <tr>\n",
       "      <th>53</th>\n",
       "      <td>HyperSQL -&gt; InMySQL -&gt; OutHyperSQL &amp; MySQL</td>\n",
       "      <td>0.021459</td>\n",
       "      <td>5</td>\n",
       "      <td>48; 100; 148; 86; 188</td>\n",
       "      <td>X = HyperSQL; Y = MySQL</td>\n",
       "      <td>X -&gt; InY -&gt; OutX &amp; Y -v X -v Y</td>\n",
       "      <td>HyperSQL</td>\n",
       "      <td>MySQL</td>\n",
       "      <td>{148, 86, 48, 188, 100}</td>\n",
       "      <td>Relational</td>\n",
       "      <td>Relational</td>\n",
       "    </tr>\n",
       "    <tr>\n",
       "      <th>93</th>\n",
       "      <td>HyperSQL -&gt; InMongoDB -&gt; OutHyperSQL &amp; MongoDB</td>\n",
       "      <td>0.017167</td>\n",
       "      <td>4</td>\n",
       "      <td>112; 210; 44; 133</td>\n",
       "      <td>X = HyperSQL; Y = MongoDB</td>\n",
       "      <td>X -&gt; InY -&gt; OutX &amp; Y -v X -v Y</td>\n",
       "      <td>HyperSQL</td>\n",
       "      <td>MongoDB</td>\n",
       "      <td>{44, 112, 210, 133}</td>\n",
       "      <td>Relational</td>\n",
       "      <td>Non Relational</td>\n",
       "    </tr>\n",
       "    <tr>\n",
       "      <th>49</th>\n",
       "      <td>HyperSQL -&gt; InH2 -&gt; OutHyperSQL &amp; H2</td>\n",
       "      <td>0.012876</td>\n",
       "      <td>3</td>\n",
       "      <td>210; 188; 100</td>\n",
       "      <td>X = HyperSQL; Y = H2</td>\n",
       "      <td>X -&gt; InY -&gt; OutX &amp; Y -v X -v Y</td>\n",
       "      <td>HyperSQL</td>\n",
       "      <td>H2</td>\n",
       "      <td>{188, 100, 210}</td>\n",
       "      <td>Relational</td>\n",
       "      <td>Relational</td>\n",
       "    </tr>\n",
       "    <tr>\n",
       "      <th>84</th>\n",
       "      <td>MySQL -&gt; InRedis -&gt; OutMySQL &amp; Redis</td>\n",
       "      <td>0.012876</td>\n",
       "      <td>3</td>\n",
       "      <td>136; 57; 212</td>\n",
       "      <td>X = MySQL; Y = Redis</td>\n",
       "      <td>X -&gt; InY -&gt; OutX &amp; Y -v X -v Y</td>\n",
       "      <td>MySQL</td>\n",
       "      <td>Redis</td>\n",
       "      <td>{136, 57, 212}</td>\n",
       "      <td>Relational</td>\n",
       "      <td>Non Relational</td>\n",
       "    </tr>\n",
       "    <tr>\n",
       "      <th>70</th>\n",
       "      <td>Oracle -&gt; InMySQL -&gt; OutOracle &amp; MySQL</td>\n",
       "      <td>0.012876</td>\n",
       "      <td>3</td>\n",
       "      <td>231; 52; 23</td>\n",
       "      <td>X = Oracle; Y = MySQL</td>\n",
       "      <td>X -&gt; InY -&gt; OutX &amp; Y -v X -v Y</td>\n",
       "      <td>Oracle</td>\n",
       "      <td>MySQL</td>\n",
       "      <td>{52, 23, 231}</td>\n",
       "      <td>Relational</td>\n",
       "      <td>Relational</td>\n",
       "    </tr>\n",
       "    <tr>\n",
       "      <th>8</th>\n",
       "      <td>PostgreSQL -&gt; InOracle &amp; OutPostgreSQL -&gt; Oracle</td>\n",
       "      <td>0.012876</td>\n",
       "      <td>3</td>\n",
       "      <td>76; 13; 23</td>\n",
       "      <td>X = PostgreSQL; Y = Oracle</td>\n",
       "      <td>X -&gt; InY &amp; OutX -&gt; Y -v X -v Y</td>\n",
       "      <td>PostgreSQL</td>\n",
       "      <td>Oracle</td>\n",
       "      <td>{76, 13, 23}</td>\n",
       "      <td>Relational</td>\n",
       "      <td>Relational</td>\n",
       "    </tr>\n",
       "    <tr>\n",
       "      <th>147</th>\n",
       "      <td>SQLite -&gt; InH2 -&gt; OutSQLite &amp; H2</td>\n",
       "      <td>0.017167</td>\n",
       "      <td>4</td>\n",
       "      <td>163; 156; 171; 39</td>\n",
       "      <td>X = SQLite; Y = H2</td>\n",
       "      <td>X -&gt; InY -&gt; OutX &amp; Y -v X -v Y</td>\n",
       "      <td>SQLite</td>\n",
       "      <td>H2</td>\n",
       "      <td>{163, 171, 39, 156}</td>\n",
       "      <td>Relational</td>\n",
       "      <td>Relational</td>\n",
       "    </tr>\n",
       "    <tr>\n",
       "      <th>144</th>\n",
       "      <td>SQLite -&gt; InMS_SQL_Server -&gt; OutSQLite &amp; MS_SQ...</td>\n",
       "      <td>0.012876</td>\n",
       "      <td>3</td>\n",
       "      <td>112; 27; 39</td>\n",
       "      <td>X = SQLite; Y = MS_SQL_Server</td>\n",
       "      <td>X -&gt; InY -&gt; OutX &amp; Y -v X -v Y</td>\n",
       "      <td>SQLite</td>\n",
       "      <td>MS SQL Server</td>\n",
       "      <td>{112, 27, 39}</td>\n",
       "      <td>Relational</td>\n",
       "      <td>Relational</td>\n",
       "    </tr>\n",
       "  </tbody>\n",
       "</table>\n",
       "</div>"
      ],
      "text/plain": [
       "                                                  Name   Support  Line Count  \\\n",
       "97   Cassandra -> InPostgreSQL -> OutCassandra & Po...  0.012876           3   \n",
       "190  Cassandra -> InMS_SQL_Server -> OutCassandra &...  0.012876           3   \n",
       "214  Couchbase -> InPostgreSQL -> OutCouchbase & Po...  0.012876           3   \n",
       "177         HBase -> InHyperSQL -> OutHBase & HyperSQL  0.017167           4   \n",
       "120                     HBase -> InH2 -> OutHBase & H2  0.012876           3   \n",
       "176  HBase -> InMS_SQL_Server -> OutHBase & MS_SQL_...  0.012876           3   \n",
       "179               HBase -> InRedis -> OutHBase & Redis  0.012876           3   \n",
       "72   Hazelcast -> InHyperSQL -> OutHazelcast & Hype...  0.012876           3   \n",
       "82          HyperSQL -> InRedis -> OutHyperSQL & Redis  0.034335           8   \n",
       "48   HyperSQL -> InPostgreSQL -> OutHyperSQL & Post...  0.021459           5   \n",
       "53          HyperSQL -> InMySQL -> OutHyperSQL & MySQL  0.021459           5   \n",
       "93      HyperSQL -> InMongoDB -> OutHyperSQL & MongoDB  0.017167           4   \n",
       "49                HyperSQL -> InH2 -> OutHyperSQL & H2  0.012876           3   \n",
       "84                MySQL -> InRedis -> OutMySQL & Redis  0.012876           3   \n",
       "70              Oracle -> InMySQL -> OutOracle & MySQL  0.012876           3   \n",
       "8     PostgreSQL -> InOracle & OutPostgreSQL -> Oracle  0.012876           3   \n",
       "147                   SQLite -> InH2 -> OutSQLite & H2  0.017167           4   \n",
       "144  SQLite -> InMS_SQL_Server -> OutSQLite & MS_SQ...  0.012876           3   \n",
       "\n",
       "                                 Lines                          Bindings  \\\n",
       "97                           59; 5; 47     X = Cassandra; Y = PostgreSQL   \n",
       "190                         68; 69; 47  X = Cassandra; Y = MS_SQL_Server   \n",
       "214                        208; 59; 76     X = Couchbase; Y = PostgreSQL   \n",
       "177                     48; 44; 68; 39           X = HBase; Y = HyperSQL   \n",
       "120                         44; 68; 39                 X = HBase; Y = H2   \n",
       "176                        151; 44; 68      X = HBase; Y = MS_SQL_Server   \n",
       "179                        151; 44; 68              X = HBase; Y = Redis   \n",
       "72                         0; 219; 109       X = Hazelcast; Y = HyperSQL   \n",
       "82   3; 38; 44; 112; 210; 115; 20; 219           X = HyperSQL; Y = Redis   \n",
       "48                0; 100; 148; 86; 109      X = HyperSQL; Y = PostgreSQL   \n",
       "53               48; 100; 148; 86; 188           X = HyperSQL; Y = MySQL   \n",
       "93                   112; 210; 44; 133         X = HyperSQL; Y = MongoDB   \n",
       "49                       210; 188; 100              X = HyperSQL; Y = H2   \n",
       "84                        136; 57; 212              X = MySQL; Y = Redis   \n",
       "70                         231; 52; 23             X = Oracle; Y = MySQL   \n",
       "8                           76; 13; 23        X = PostgreSQL; Y = Oracle   \n",
       "147                  163; 156; 171; 39                X = SQLite; Y = H2   \n",
       "144                        112; 27; 39     X = SQLite; Y = MS_SQL_Server   \n",
       "\n",
       "                             Source           X              Y  \\\n",
       "97   X -> InY -> OutX & Y -v X -v Y   Cassandra     PostgreSQL   \n",
       "190  X -> InY -> OutX & Y -v X -v Y   Cassandra  MS SQL Server   \n",
       "214  X -> InY -> OutX & Y -v X -v Y   Couchbase     PostgreSQL   \n",
       "177  X -> InY -> OutX & Y -v X -v Y       HBase       HyperSQL   \n",
       "120  X -> InY -> OutX & Y -v X -v Y       HBase             H2   \n",
       "176  X -> InY -> OutX & Y -v X -v Y       HBase  MS SQL Server   \n",
       "179  X -> InY -> OutX & Y -v X -v Y       HBase          Redis   \n",
       "72   X -> InY -> OutX & Y -v X -v Y   Hazelcast       HyperSQL   \n",
       "82   X -> InY -> OutX & Y -v X -v Y    HyperSQL          Redis   \n",
       "48   X -> InY -> OutX & Y -v X -v Y    HyperSQL     PostgreSQL   \n",
       "53   X -> InY -> OutX & Y -v X -v Y    HyperSQL          MySQL   \n",
       "93   X -> InY -> OutX & Y -v X -v Y    HyperSQL        MongoDB   \n",
       "49   X -> InY -> OutX & Y -v X -v Y    HyperSQL             H2   \n",
       "84   X -> InY -> OutX & Y -v X -v Y       MySQL          Redis   \n",
       "70   X -> InY -> OutX & Y -v X -v Y      Oracle          MySQL   \n",
       "8    X -> InY & OutX -> Y -v X -v Y  PostgreSQL         Oracle   \n",
       "147  X -> InY -> OutX & Y -v X -v Y      SQLite             H2   \n",
       "144  X -> InY -> OutX & Y -v X -v Y      SQLite  MS SQL Server   \n",
       "\n",
       "                                LinesSet         X Model         Y Model  \n",
       "97                           {5, 47, 59}  Non Relational      Relational  \n",
       "190                         {69, 47, 68}  Non Relational      Relational  \n",
       "214                        {208, 76, 59}  Non Relational      Relational  \n",
       "177                     {48, 39, 44, 68}  Non Relational      Relational  \n",
       "120                         {39, 44, 68}  Non Relational      Relational  \n",
       "176                        {151, 44, 68}  Non Relational      Relational  \n",
       "179                        {151, 44, 68}  Non Relational  Non Relational  \n",
       "72                         {219, 109, 0}  Non Relational      Relational  \n",
       "82   {219, 210, 38, 112, 115, 44, 20, 3}      Relational  Non Relational  \n",
       "48                {148, 86, 109, 0, 100}      Relational      Relational  \n",
       "53               {148, 86, 48, 188, 100}      Relational      Relational  \n",
       "93                   {44, 112, 210, 133}      Relational  Non Relational  \n",
       "49                       {188, 100, 210}      Relational      Relational  \n",
       "84                        {136, 57, 212}      Relational  Non Relational  \n",
       "70                         {52, 23, 231}      Relational      Relational  \n",
       "8                           {76, 13, 23}      Relational      Relational  \n",
       "147                  {163, 171, 39, 156}      Relational      Relational  \n",
       "144                        {112, 27, 39}      Relational      Relational  "
      ]
     },
     "execution_count": 12,
     "metadata": {},
     "output_type": "execute_result"
    }
   ],
   "source": [
    "df2 = df.drop(df[df[\"Line Count\"] < 3].index).copy()\n",
    "df2 = df2.sort_values(by=[\"X\", \"Line Count\"], ascending=[True, False])\n",
    "df2"
   ]
  },
  {
   "cell_type": "code",
   "execution_count": 13,
   "id": "19e03758-d7ef-4456-ac38-74ca8fdfb41f",
   "metadata": {
    "tags": []
   },
   "outputs": [
    {
     "name": "stdout",
     "output_type": "stream",
     "text": [
      "Number of replacements: 18\n"
     ]
    }
   ],
   "source": [
    "print(\"Number of replacements:\", var(\"rq3_replacements\", len(df2)))"
   ]
  },
  {
   "cell_type": "code",
   "execution_count": 14,
   "id": "c715c76d-6b4d-4d5a-875c-3eac560a03f2",
   "metadata": {
    "tags": []
   },
   "outputs": [],
   "source": [
    "latex_table = [\n",
    "   # r\"\\begin{tabular}{lrr}\",\n",
    "    r\"\\begin{tabular}{lr}\",\n",
    "    r\"\\hline\",\n",
    "   # r\"\\textbf{Pattern} & \\textbf{Support} & \\textbf{Total}\\\\\",\n",
    "    r\"\\textbf{Pattern} & \\textbf{Support} \\\\\",\n",
    "    r\"\\hline\"\n",
    "]\n",
    "for group, subdf in df2.groupby(\"X\"):\n",
    "    subdf[\"Name\"].replace({\n",
    "        \"->\" : r\"$\\\\rightarrow$\",\n",
    "        \"([^{])In(.+?) \": r\"\\1\\2$_{In}$ \",\n",
    "        \"([^{])In(.+?)$\": r\"\\1\\2$_{In}$\",\n",
    "        \"([^{])Out(.+?) \": r\"\\1\\2$_{Out}$ \",\n",
    "        \"([^{])Out(.+?)$\": r\"\\1\\2$_{Out}$\",\n",
    "        \"([^$])_\": r\"\\1 \",\n",
    "        \"&\": r\"  \",\n",
    "    }, regex=True, inplace=True)\n",
    "    for i, (_, row) in enumerate(subdf.iterrows()):\n",
    "        values = [row[\"Name\"], str(row[\"Line Count\"])]\n",
    "        #if i == 0:\n",
    "        #    total = dbms_was_replaced_count[row[\"X\"]]\n",
    "        #    # total = subdf['Line Count'].sum() # Sum only filtered\n",
    "        #    values.append(f\"\\\\multirow{{{len(subdf)}}}{{*}}{{{total}}}\")\n",
    "        #else:\n",
    "        #    values.append(\"\")\n",
    "        latex_table.append(\" & \".join(values) + r\" \\\\\")\n",
    "    latex_table.append(\"\\hline\")\n",
    "latex_table.append(\"\\end{tabular}\")\n",
    "\n",
    "with open(PAPEROUT_DIR + os.sep + \"patterns.tex\", \"w\") as f:\n",
    "    f.write(\"\\n\".join(latex_table) + \"\\n\")"
   ]
  },
  {
   "cell_type": "code",
   "execution_count": 15,
   "id": "e36c3422-45bf-4e80-8b59-1e22ba5cb3ee",
   "metadata": {
    "tags": []
   },
   "outputs": [],
   "source": [
    "assert df[df[\"Name\"] == \"PostgreSQL -> InOracle & OutPostgreSQL -> Oracle\"][\"Line Count\"].to_list() == [3], \"Paper: 'An example is the pattern \\textbf{$PostgreSQL \\rightarrow Oracle_{In}$ $PostgreSQL_{Out} \\rightarrow$} \\textbf{$Oracle$} with support = 3. This indicates that three projects used PostgreSQL, then in a later slice started using Oracle and stopped using PostgreSQL, maintaining  Oracle in a later slice.'\""
   ]
  },
  {
   "cell_type": "code",
   "execution_count": 16,
   "id": "35bae371-48a7-4c06-8a9e-06905e716ab9",
   "metadata": {
    "tags": []
   },
   "outputs": [],
   "source": [
    "assert df[df[\"Name\"] == \"HyperSQL -> InRedis -> OutHyperSQL & Redis\"][\"Line Count\"].to_list() == [8], \"Paper: 'The pattern \\textbf{$HyperSQL \\rightarrow Redis_{In} \\rightarrow HyperSQL_{Out}$ $Redis$} with support = 8 indicates that eight projects replaced HyperSQL by Redis.'\""
   ]
  },
  {
   "cell_type": "code",
   "execution_count": 17,
   "id": "6ccdd247-386a-4f9e-9e26-57afe88c5606",
   "metadata": {
    "tags": []
   },
   "outputs": [
    {
     "name": "stdout",
     "output_type": "stream",
     "text": [
      "Min support: 3\n",
      "Max support: 8\n",
      "Support values: 3, 4, 5, 8\n"
     ]
    }
   ],
   "source": [
    "print(\"Min support:\", var(\"rq3_min_support\", df2[\"Line Count\"].min()))\n",
    "print(\"Max support:\", var(\"rq3_max_support\", df2[\"Line Count\"].max()))\n",
    "print(\"Support values:\", var(\"rq3_support_values\", ', '.join(map(str, sorted(list(set(df2[\"Line Count\"].to_list())))))))"
   ]
  },
  {
   "cell_type": "markdown",
   "id": "7ed5f617-00cc-4708-8c57-8b1d8f1651ca",
   "metadata": {
    "tags": []
   },
   "source": [
    "### Data"
   ]
  },
  {
   "cell_type": "code",
   "execution_count": 18,
   "id": "7882dcf5-082f-4667-9265-4d1a12f57979",
   "metadata": {
    "tags": []
   },
   "outputs": [
    {
     "name": "stdout",
     "output_type": "stream",
     "text": [
      "Total number of replacements 296\n",
      "Projects with replacements 67\n"
     ]
    }
   ],
   "source": [
    "total_replacements = replacements_among_relational = df.groupby([\"X\", \"Y\", \"Source\"])[\"LinesSet\"].agg(lines=union_sets)\n",
    "total_replacements_count = len(total_replacements)\n",
    "total_replacements_projects_count = len(union_sets(total_replacements['lines']))\n",
    "\n",
    "print(\"Total number of replacements\", var(\"rq3_total_replacements\", total_replacements_count))\n",
    "print(\"Projects with replacements\", var(\"rq3_total_replacements_projects\",  total_replacements_projects_count))"
   ]
  },
  {
   "cell_type": "code",
   "execution_count": 19,
   "id": "d36ad4cf-2ee8-424a-9d4f-de5fbe0773a5",
   "metadata": {
    "tags": []
   },
   "outputs": [
    {
     "name": "stdout",
     "output_type": "stream",
     "text": [
      "Replacements among relational: 89 (30.1%)\n",
      "Projects with replacements among relational: 44 (65.7%)\n"
     ]
    }
   ],
   "source": [
    "replacements_among_relational = df[\n",
    "    (df[\"X Model\"] == \"Relational\") & (df[\"Y Model\"] == \"Relational\")\n",
    "].groupby([\"X\", \"Y\", \"Source\"])[\"LinesSet\"].agg(lines=union_sets)\n",
    "print(\"Replacements among relational:\", relative_var(\"rq3_relational_replacements\", len(replacements_among_relational), total_replacements_count))\n",
    "print(\"Projects with replacements among relational:\", relative_var(\"rq3_relational_replacements_projects\", len(union_sets(replacements_among_relational['lines'])), total_replacements_projects_count))\n"
   ]
  },
  {
   "cell_type": "code",
   "execution_count": 20,
   "id": "725ed10d-3755-46aa-82ac-db2d31b33b5f",
   "metadata": {
    "tags": []
   },
   "outputs": [
    {
     "name": "stdout",
     "output_type": "stream",
     "text": [
      "Replacements among non relational: 66 (22.3%)\n",
      "Projects with replacements among non relational: 21 (31.3%)\n"
     ]
    }
   ],
   "source": [
    "replacements_among_nonrelational = df[\n",
    "    (df[\"X Model\"] == \"Non Relational\") & (df[\"Y Model\"] == \"Non Relational\")\n",
    "].groupby([\"X\", \"Y\", \"Source\"])[\"LinesSet\"].agg(lines=union_sets)\n",
    "print(\"Replacements among non relational:\", relative_var(\"rq3_nonrelational_replacements\", len(replacements_among_nonrelational), total_replacements_count))\n",
    "print(\"Projects with replacements among non relational:\", relative_var(\"rq3_nonrelational_replacements_projects\", len(union_sets(replacements_among_nonrelational['lines'])), total_replacements_projects_count))\n"
   ]
  },
  {
   "cell_type": "code",
   "execution_count": 21,
   "id": "5e62492a-0c09-46c9-bee6-1e3dde038e5d",
   "metadata": {
    "tags": []
   },
   "outputs": [
    {
     "name": "stdout",
     "output_type": "stream",
     "text": [
      "Replacements among both: 141 (47.6%)\n",
      "Projects with replacements among both: 43 (64.2%)\n"
     ]
    }
   ],
   "source": [
    "replacements_among_both = df[\n",
    "    ((df[\"X Model\"] == \"Relational\") & (df[\"Y Model\"] == \"Non Relational\"))\n",
    "    | ((df[\"X Model\"] == \"Non Relational\") & (df[\"Y Model\"] == \"Relational\"))\n",
    "].groupby([\"X\", \"Y\", \"Source\"])[\"LinesSet\"].agg(lines=union_sets)\n",
    "print(\"Replacements among both:\", relative_var(\"rq3_both_replacements\", len(replacements_among_both), total_replacements_count))\n",
    "print(\"Projects with replacements among both:\", relative_var(\"rq3_both_replacements_projects\", len(union_sets(replacements_among_both['lines'])), total_replacements_projects_count))\n"
   ]
  },
  {
   "cell_type": "code",
   "execution_count": 22,
   "id": "1130d91f-7e5e-48c7-83ea-7c2cd94db144",
   "metadata": {
    "tags": []
   },
   "outputs": [
    {
     "name": "stdout",
     "output_type": "stream",
     "text": [
      "Replacements among same: 155 (52.4%)\n",
      "Projects with replacements among same: 56 (83.6%)\n"
     ]
    }
   ],
   "source": [
    "replacements_among_same = df[\n",
    "    ((df[\"X Model\"] == \"Relational\") & (df[\"Y Model\"] == \"Relational\"))\n",
    "    | ((df[\"X Model\"] == \"Non Relational\") & (df[\"Y Model\"] == \"Non Relational\"))\n",
    "].groupby([\"X\", \"Y\", \"Source\"])[\"LinesSet\"].agg(lines=union_sets)\n",
    "print(\"Replacements among same:\", relative_var(\"rq3_same_replacements\", len(replacements_among_same), total_replacements_count))\n",
    "print(\"Projects with replacements among same:\", relative_var(\"rq3_same_replacements_projects\", len(union_sets(replacements_among_same['lines'])), total_replacements_projects_count))\n"
   ]
  },
  {
   "cell_type": "code",
   "execution_count": 23,
   "id": "35e6b794-3aa9-4477-a808-6ae0d10000c4",
   "metadata": {
    "tags": []
   },
   "outputs": [
    {
     "name": "stdout",
     "output_type": "stream",
     "text": [
      "Projects with replacements only among same model: 24 (35.8%)\n"
     ]
    }
   ],
   "source": [
    "projects_with_only_replacements_of_the_same_model = union_sets(total_replacements['lines']) - union_sets(replacements_among_both['lines'])\n",
    "print(\"Projects with replacements only among same model:\", relative_var(\"rq3_only_same_replacements_projects\", len(projects_with_only_replacements_of_the_same_model), total_replacements_projects_count))\n"
   ]
  },
  {
   "cell_type": "code",
   "execution_count": 24,
   "id": "55acacc2-96cd-4307-853a-d44aafc856e8",
   "metadata": {
    "tags": []
   },
   "outputs": [
    {
     "name": "stdout",
     "output_type": "stream",
     "text": [
      "Projects with replacements only among non relational: 3 (12.5%)\n"
     ]
    }
   ],
   "source": [
    "nonrelational_only_replacements = projects_with_only_replacements_of_the_same_model & union_sets(replacements_among_nonrelational['lines'])\n",
    "print(\"Projects with replacements only among non relational:\", relative_var(\"rq3_non_relational_only_replacements_projects\", len(nonrelational_only_replacements), len(projects_with_only_replacements_of_the_same_model)))\n"
   ]
  },
  {
   "cell_type": "code",
   "execution_count": 25,
   "id": "b0788c00-ccde-4128-9849-787f07fe8bcb",
   "metadata": {
    "tags": []
   },
   "outputs": [],
   "source": [
    "assert df[df[\"Name\"] == \"Cassandra -> InPostgreSQL -> OutCassandra & PostgreSQL\"][\"Line Count\"].to_list() == [3], \"Paper: 'the replacements occur among distinct data models such as Cassandra replacing PostgreSQL in 3 projects'\""
   ]
  },
  {
   "cell_type": "code",
   "execution_count": 26,
   "id": "edf5db34-eb56-4046-a7f9-eb3d20bedf30",
   "metadata": {
    "tags": []
   },
   "outputs": [
    {
     "name": "stdout",
     "output_type": "stream",
     "text": [
      "HyperSQL replacements: 23\n",
      "HyperSQL replacements in projects: 19\n"
     ]
    }
   ],
   "source": [
    "print(\"HyperSQL replacements:\", var(\"rq3_repl_hypersql\", dbms_was_replaced_count[\"HyperSQL\"]))\n",
    "print(\"HyperSQL replacements in projects:\", var(\"rq3_repl_hypersql_projects\", dbms_was_replaced_in_projects[\"HyperSQL\"]))"
   ]
  },
  {
   "cell_type": "code",
   "execution_count": 27,
   "id": "b0f828c1-bc95-4bb0-ba84-30ddc633844e",
   "metadata": {
    "tags": []
   },
   "outputs": [
    {
     "name": "stdout",
     "output_type": "stream",
     "text": [
      "HyperSQL replacements in projects: 18\n"
     ]
    }
   ],
   "source": [
    "print(\"HyperSQL replacements in projects:\", var(\"rq3_repl_hypersql_dbms\", df[df[\"X\"] == \"HyperSQL\"].groupby(\"X\")[\"Y\"].agg(other=set)[\"other\"].apply(len).to_list()[0]))"
   ]
  },
  {
   "cell_type": "code",
   "execution_count": 28,
   "id": "9b99669a-b0a2-402f-aa59-c4755194e293",
   "metadata": {
    "tags": []
   },
   "outputs": [
    {
     "name": "stdout",
     "output_type": "stream",
     "text": [
      "HyperSQL replaced by Redis: 8\n",
      "HyperSQL replaced by Redis (ext): eight\n"
     ]
    }
   ],
   "source": [
    "print(\"HyperSQL replaced by Redis:\", var(\"rq3_repl_hypersql_redis\", df[(df[\"X\"] == \"HyperSQL\") & (df[\"Y\"] == \"Redis\")][\"Line Count\"].sum()))\n",
    "print(\"HyperSQL replaced by Redis (ext):\", var(\"rq3_repl_hypersql_redis_ext\", num2words(df[(df[\"X\"] == \"HyperSQL\") & (df[\"Y\"] == \"Redis\")][\"Line Count\"].sum())))"
   ]
  },
  {
   "cell_type": "code",
   "execution_count": 29,
   "id": "3c91de7f-6ec9-4d8b-a326-4bb7bddf27d2",
   "metadata": {
    "tags": []
   },
   "outputs": [
    {
     "name": "stdout",
     "output_type": "stream",
     "text": [
      "HyperSQL replaced by MySQL: 6\n"
     ]
    }
   ],
   "source": [
    "print(\"HyperSQL replaced by MySQL:\", var(\"rq3_repl_hypersql_mysql\", df[(df[\"X\"] == \"HyperSQL\") & (df[\"Y\"] == \"MySQL\")][\"Line Count\"].sum()))"
   ]
  },
  {
   "cell_type": "code",
   "execution_count": 30,
   "id": "ee14a9d5-04c9-4ec4-91b5-b7965b703ce5",
   "metadata": {
    "tags": []
   },
   "outputs": [
    {
     "name": "stdout",
     "output_type": "stream",
     "text": [
      "HyperSQL replaced by PostgreSQL: 7\n"
     ]
    }
   ],
   "source": [
    "print(\"HyperSQL replaced by PostgreSQL:\", var(\"rq3_repl_hypersql_postgresql\", df[(df[\"X\"] == \"HyperSQL\") & (df[\"Y\"] == \"PostgreSQL\")][\"Line Count\"].sum()))"
   ]
  },
  {
   "cell_type": "code",
   "execution_count": 31,
   "id": "548423da-e158-443c-8cd9-6fc34c18b726",
   "metadata": {
    "tags": []
   },
   "outputs": [],
   "source": [
    "assert len(df[(df[\"X\"] == \"Redis\") & (df[\"Y\"] == \"HyperSQL\")]) == 0, \"Paper: 'In the opposite direction, we did not find a pattern indicating HyperSQL replacing Redis'\""
   ]
  },
  {
   "cell_type": "code",
   "execution_count": 32,
   "id": "3d64c1ad-f056-42e7-b40f-16be373638bb",
   "metadata": {
    "tags": []
   },
   "outputs": [
    {
     "name": "stdout",
     "output_type": "stream",
     "text": [
      "MySQL replacements: 17\n",
      "MySQL replacements in projects: 13\n"
     ]
    }
   ],
   "source": [
    "print(\"MySQL replacements:\", var(\"rq3_repl_mysql\", dbms_was_replaced_count[\"MySQL\"]))\n",
    "print(\"MySQL replacements in projects:\", var(\"rq3_repl_mysql_projects\", dbms_was_replaced_in_projects[\"MySQL\"]))"
   ]
  },
  {
   "cell_type": "code",
   "execution_count": 33,
   "id": "799a4f25-fdc9-4bcf-a955-c95d4f4a85a5",
   "metadata": {
    "tags": []
   },
   "outputs": [
    {
     "name": "stdout",
     "output_type": "stream",
     "text": [
      "MySQL replaced by Redis: four\n"
     ]
    }
   ],
   "source": [
    "print(\"MySQL replaced by Redis:\", var(\"rq3_repl_mysql_redis\", num2words(df[(df[\"X\"] == \"MySQL\") & (df[\"Y\"] == \"Redis\")][\"Line Count\"].sum())))"
   ]
  },
  {
   "cell_type": "code",
   "execution_count": 34,
   "id": "315d2a38-327c-4d69-a038-e175eab5df9b",
   "metadata": {
    "tags": []
   },
   "outputs": [],
   "source": [
    "assert len(df[(df[\"X\"] == \"Redis\") & (df[\"Y\"] == \"MySQL\")]) == 0, \"Paper: 'The only MySQL replacement pattern that occurred frequently enough was its replacement by Redis (3 times), with no replacements in the opposite direction.'\""
   ]
  },
  {
   "cell_type": "code",
   "execution_count": 35,
   "id": "1f27f063-f5fc-43a0-909e-9fed5e06716b",
   "metadata": {
    "tags": []
   },
   "outputs": [
    {
     "name": "stdout",
     "output_type": "stream",
     "text": [
      "HBase replacements: 18\n",
      "HBase replacements in projects: 5\n"
     ]
    }
   ],
   "source": [
    "print(\"HBase replacements:\", var(\"rq3_repl_hbase\", dbms_was_replaced_count[\"HBase\"]))\n",
    "print(\"HBase replacements in projects:\", var(\"rq3_repl_hbasel_projects\", dbms_was_replaced_in_projects[\"HBase\"]))"
   ]
  },
  {
   "cell_type": "code",
   "execution_count": 36,
   "id": "c9e711a9-8115-4d5b-94bb-3d780086f027",
   "metadata": {
    "tags": []
   },
   "outputs": [
    {
     "name": "stdout",
     "output_type": "stream",
     "text": [
      "HBase replaced by HyperSQL: four\n"
     ]
    }
   ],
   "source": [
    "print(\"HBase replaced by HyperSQL:\", var(\"rq3_repl_hbase_hypersql\", num2words(df[(df[\"X\"] == \"HBase\") & (df[\"Y\"] == \"HyperSQL\")][\"Line Count\"].sum())))"
   ]
  },
  {
   "cell_type": "code",
   "execution_count": 37,
   "id": "0217848a-939c-49bb-8908-adcb2451056f",
   "metadata": {
    "tags": []
   },
   "outputs": [],
   "source": [
    "assert \"Etcd\" not in dbms_was_replaced_count, \"Paper: 'On the other hand, Etcd was not replaced but substituted another DBMS'\""
   ]
  },
  {
   "cell_type": "code",
   "execution_count": 38,
   "id": "7a2125dc-3ef4-4491-a7e7-2cfd3dcfb769",
   "metadata": {
    "tags": []
   },
   "outputs": [],
   "source": [
    "SEQUENTIAL_PROJECTS = SEQ_PATTERNS_DIR + os.sep + 'sequencial_project.txt'\n",
    "with open(SEQUENTIAL_PROJECTS, \"r\") as f:\n",
    "    projects = eval(f.read())\n",
    "index = str(projects.index(('apache', 'camel')))"
   ]
  },
  {
   "cell_type": "code",
   "execution_count": 39,
   "id": "357c0b7a-1d8a-476b-b0b4-6f8b66a0b527",
   "metadata": {
    "tags": []
   },
   "outputs": [],
   "source": [
    "hbase_replacement_in_apache_camel = df[(df[\"X\"] == \"HBase\") & (df[\"LinesSet\"].apply(lambda x: index in x))]"
   ]
  },
  {
   "cell_type": "code",
   "execution_count": 40,
   "id": "d24949c1-eacd-4555-84d4-9f282d2ab237",
   "metadata": {
    "tags": []
   },
   "outputs": [],
   "source": [
    "assert len(hbase_replacement_in_apache_camel) == 14, \"Paper: 'For example, in the Apache/Camel project, we discovered 14 distinct patterns of HBase substitutions for different DBMSs'\""
   ]
  },
  {
   "cell_type": "code",
   "execution_count": 41,
   "id": "5b485a10-460a-45e9-9a4a-7ec04de4f533",
   "metadata": {
    "tags": []
   },
   "outputs": [
    {
     "name": "stdout",
     "output_type": "stream",
     "text": [
      "DBMS with no removals: ArangoDB, Cassandra, Couchbase, Etcd, H2, HyperSQL, Ignite-NoSql, Influx DB, MS SQL Server, Microsoft Azure CosmosDB, MySQL, PostGIS, PostgreSQL, and Redis\n"
     ]
    }
   ],
   "source": [
    "result = list(hbase_replacement_in_apache_camel.groupby(\"Y\")[\"LinesSet\"].agg(lines=union_sets).index)\n",
    "text = ', '.join(result[:-1]) + f\", and {result[-1]}\" \n",
    "print(\"DBMS with no removals:\", var(\"rq3_apache_camel_hbase\", text))"
   ]
  },
  {
   "cell_type": "code",
   "execution_count": 42,
   "id": "92f6c054-861f-4664-b68e-fab5f84e503b",
   "metadata": {
    "tags": []
   },
   "outputs": [
    {
     "name": "stdout",
     "output_type": "stream",
     "text": [
      "Redis replaces: 21\n",
      "Redis replaces in projects: 22\n"
     ]
    }
   ],
   "source": [
    "print(\"Redis replaces:\", var(\"rq3_replby_redis\", dbms_replaced_count[\"Redis\"]))\n",
    "print(\"Redis replaces in projects:\", var(\"rq3_replby_redis_projects\", dbms_replaced_in_projects[\"Redis\"]))"
   ]
  },
  {
   "cell_type": "code",
   "execution_count": 43,
   "id": "910826f5-0ff7-4046-b788-4304e8246acf",
   "metadata": {
    "tags": []
   },
   "outputs": [
    {
     "name": "stdout",
     "output_type": "stream",
     "text": [
      "Oracle replaces: 21\n",
      "Oracle replaces in projects: 19\n"
     ]
    }
   ],
   "source": [
    "print(\"Oracle replaces:\", var(\"rq3_replby_oracle\", dbms_replaced_count[\"Oracle\"]))\n",
    "print(\"Oracle replaces in projects:\", var(\"rq3_replby_oracle_projects\", dbms_replaced_in_projects[\"Oracle\"]))"
   ]
  },
  {
   "cell_type": "code",
   "execution_count": 44,
   "id": "b8360af3-2596-453d-9110-5aff2cb25804",
   "metadata": {
    "tags": []
   },
   "outputs": [
    {
     "name": "stdout",
     "output_type": "stream",
     "text": [
      "PostgreSQL replaces: 20\n",
      "PostgreSQL replaces in projects: 24\n"
     ]
    }
   ],
   "source": [
    "print(\"PostgreSQL replaces:\", var(\"rq3_replby_postgresql\", dbms_replaced_count[\"PostgreSQL\"]))\n",
    "print(\"PostgreSQL replaces in projects:\", var(\"rq3_replby_postgres_projects\", dbms_replaced_in_projects[\"PostgreSQL\"]))"
   ]
  },
  {
   "cell_type": "code",
   "execution_count": 45,
   "id": "87eed9fe-d05f-4bb7-ba88-95d81bb168f9",
   "metadata": {
    "tags": []
   },
   "outputs": [
    {
     "name": "stdout",
     "output_type": "stream",
     "text": [
      "HyperSQL replaces: 14\n",
      "HyperSQL replaces in projects: 11\n"
     ]
    }
   ],
   "source": [
    "print(\"HyperSQL replaces:\", var(\"rq3_replby_hypersql\", dbms_replaced_count[\"HyperSQL\"]))\n",
    "print(\"HyperSQL replaces in projects:\", var(\"rq3_replby_hypersql_projects\", dbms_replaced_in_projects[\"HyperSQL\"]))"
   ]
  },
  {
   "cell_type": "code",
   "execution_count": 46,
   "id": "8ec871eb-bd98-46c8-bf80-47cb224005e1",
   "metadata": {
    "tags": []
   },
   "outputs": [
    {
     "name": "stdout",
     "output_type": "stream",
     "text": [
      "MySQL replaces: 14\n",
      "MySQL replaces in projects: 18\n"
     ]
    }
   ],
   "source": [
    "print(\"MySQL replaces:\", var(\"rq3_replby_mysql\", dbms_replaced_count[\"MySQL\"]))\n",
    "print(\"MySQL replaces in projects:\", var(\"rq3_replby_mysql_projects\", dbms_replaced_in_projects[\"MySQL\"]))"
   ]
  },
  {
   "cell_type": "code",
   "execution_count": 47,
   "id": "7a0ca30d-2a74-42b2-ad41-9fda66ce26a3",
   "metadata": {
    "tags": []
   },
   "outputs": [
    {
     "name": "stdout",
     "output_type": "stream",
     "text": [
      "HBase replaces: 11\n",
      "HBase replaces in projects: 6\n"
     ]
    }
   ],
   "source": [
    "print(\"HBase replaces:\", var(\"rq3_replby_hbase\", dbms_replaced_count[\"HBase\"]))\n",
    "print(\"HBase replaces in projects:\", var(\"rq3_replby_hbase_projects\", dbms_replaced_in_projects[\"HBase\"]))"
   ]
  },
  {
   "cell_type": "code",
   "execution_count": 48,
   "id": "75db2631-296e-4f20-a63d-2a2d0776381f",
   "metadata": {
    "tags": []
   },
   "outputs": [
    {
     "name": "stdout",
     "output_type": "stream",
     "text": [
      "Etcd replaces: 11\n",
      "Etcd replaces in projects: 3\n"
     ]
    }
   ],
   "source": [
    "print(\"Etcd replaces:\", var(\"rq3_replby_etcd\", dbms_replaced_count[\"Etcd\"]))\n",
    "print(\"Etcd replaces in projects:\", var(\"rq3_replby_etcd_projects\", dbms_replaced_in_projects[\"Etcd\"]))"
   ]
  },
  {
   "cell_type": "code",
   "execution_count": null,
   "id": "17fbd9d6-c644-4d5e-a9fb-e4a9ef5093de",
   "metadata": {},
   "outputs": [],
   "source": []
  }
 ],
 "metadata": {
  "kernelspec": {
   "display_name": "Python 3 (ipykernel)",
   "language": "python",
   "name": "python3"
  },
  "language_info": {
   "codemirror_mode": {
    "name": "ipython",
    "version": 3
   },
   "file_extension": ".py",
   "mimetype": "text/x-python",
   "name": "python",
   "nbconvert_exporter": "python",
   "pygments_lexer": "ipython3",
   "version": "3.7.12"
  }
 },
 "nbformat": 4,
 "nbformat_minor": 5
}
