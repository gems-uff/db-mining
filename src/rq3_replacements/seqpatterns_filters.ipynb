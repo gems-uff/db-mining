{
 "cells": [
  {
   "cell_type": "markdown",
   "id": "1525610d-8a49-45fa-b2fa-97e72f00066f",
   "metadata": {},
   "source": [
    "# RQ3 - Filter Sequential Patterns\n",
    "\n",
    "Uses:\n",
    "\n",
    "- resources/seq_patterns/substitutions.csv (from prepare/historical_seqpatterns_format.ipynb **manual**)\n",
    "- resources/historical_join_db.xlsx (HISTORICAL_FILE_JOIN_DB from prepare/historic_count_models.ipynb)\n",
    "\n",
    "Generates:\n",
    "\n",
    "- patterns.tex (tab:patterns)\n",
    "- substitutions.tex (tab:substitutions)\n",
    "- substitutes.tex (tab:substitutes)\n",
    "\n",
    "Variables:\n",
    "\n",
    "- rq3_replacements\n",
    "- rq3_min_support\n",
    "- rq3_max_support\n",
    "- rq3_support_values\n",
    "- rq3_total_replacements\n",
    "- rq3_total_replacements_projects\n",
    "- rq3_relational_replacements\n",
    "- rq3_relational_replacements_projects\n",
    "- rq3_nonrelational_replacements\n",
    "- rq3_nonrelational_replacements_projects\n",
    "- rq3_both_replacements\n",
    "- rq3_both_replacements_projects\n",
    "- rq3_same_replacements\n",
    "- rq3_same_replacements_projects\n",
    "- rq3_only_same_replacements_projects\n",
    "- rq3_non_relational_only_replacements_projects\n",
    "- rq3_repl_hypersql\n",
    "- rq3_repl_hypersql_projects\n",
    "- rq3_repl_hypersql_dbms\n",
    "- rq3_repl_hypersql_redis\n",
    "- rq3_repl_hypersql_redis_ext\n",
    "- rq3_repl_hypersql_mysql\n",
    "- rq3_repl_hypersql_postgresql\n",
    "- rq3_repl_mysql\n",
    "- rq3_repl_mysql_projects \n",
    "- rq3_repl_mysql_redis\n",
    "- rq3_repl_hbase\n",
    "- rq3_repl_hbasel_projects\n",
    "- rq3_repl_hbase_hypersql\n",
    "- rq3_apache_camel_hbase\n",
    "- rq3_replby_redis\n",
    "- rq3_replby_redis_projects\n",
    "- rq3_replby_oracle\n",
    "- rq3_replby_oracle_projects\n",
    "- rq3_replby_postgresql\n",
    "- rq3_replby_postgres_projects\n",
    "- rq3_replby_hypersql\n",
    "- rq3_replby_hypersql_projects\n",
    "- rq3_replby_mysql\n",
    "- rq3_replby_mysql_projects\n",
    "- rq3_replby_hbase\n",
    "- rq3_replby_hbase_projects\n",
    "- rq3_replby_etcd\n",
    "- rq3_replby_etcd_projects"
   ]
  },
  {
   "cell_type": "code",
   "execution_count": 1,
   "id": "725f77e1-cf2e-4e81-831f-b8bb6b86f1f7",
   "metadata": {
    "tags": []
   },
   "outputs": [],
   "source": [
    "import sys  \n",
    "sys.path.insert(1, '..')"
   ]
  },
  {
   "cell_type": "code",
   "execution_count": 2,
   "id": "aea8a635-423e-4a9d-8ad7-75106bb4dd85",
   "metadata": {
    "tags": []
   },
   "outputs": [],
   "source": [
    "import os\n",
    "import functools\n",
    "import re\n",
    "\n",
    "import pandas as pd\n",
    "import matplotlib.cm as cm\n",
    "import numpy as np\n",
    "import matplotlib.pyplot as plt\n",
    "import seaborn as sns\n",
    "\n",
    "from num2words import num2words\n",
    "\n",
    "from util import SEQ_PATTERNS_DIR, IMAGES_DIR, HISTORICAL_FILE_JOIN_DB\n",
    "from analysis_helpers import var, relative_var, load_vars\n",
    "from analysis_helpers import (\n",
    "    RELATIONAL_ONLY_DBS, NONRELATIONAL_ONLY_DBS,\n",
    "    MULTIMODEL_RELATIONAL, MULTIMODEL_NONRELATIONAL,\n",
    "    RELATIONAL_DBS, NONRELATIONAL_DBS, MULTIMODEL_DBS\n",
    ")\n",
    "\n",
    "def union_sets(series):\n",
    "    return functools.reduce(lambda x,y: x | y, series, set())\n",
    "\n",
    "def union_values(series):\n",
    "    return functools.reduce(lambda x,y: x | (y if isinstance(y, set) else {y}), series, set())"
   ]
  },
  {
   "cell_type": "code",
   "execution_count": 3,
   "id": "4fbc1033-ae85-4f12-9a8d-d28b918650fb",
   "metadata": {
    "tags": []
   },
   "outputs": [
    {
     "data": {
      "text/html": [
       "<div>\n",
       "<style scoped>\n",
       "    .dataframe tbody tr th:only-of-type {\n",
       "        vertical-align: middle;\n",
       "    }\n",
       "\n",
       "    .dataframe tbody tr th {\n",
       "        vertical-align: top;\n",
       "    }\n",
       "\n",
       "    .dataframe thead th {\n",
       "        text-align: right;\n",
       "    }\n",
       "</style>\n",
       "<table border=\"1\" class=\"dataframe\">\n",
       "  <thead>\n",
       "    <tr style=\"text-align: right;\">\n",
       "      <th></th>\n",
       "      <th>Name</th>\n",
       "      <th>Support</th>\n",
       "      <th>Line Count</th>\n",
       "      <th>Lines</th>\n",
       "      <th>Bindings</th>\n",
       "      <th>Source</th>\n",
       "      <th>X</th>\n",
       "      <th>Y</th>\n",
       "      <th>LinesSet</th>\n",
       "    </tr>\n",
       "  </thead>\n",
       "  <tbody>\n",
       "    <tr>\n",
       "      <th>1</th>\n",
       "      <td>PostgreSQL -&gt; InOracle &amp; OutPostgreSQL -&gt; Oracle</td>\n",
       "      <td>0.012876</td>\n",
       "      <td>3</td>\n",
       "      <td>76; 13; 23</td>\n",
       "      <td>X = PostgreSQL; Y = Oracle</td>\n",
       "      <td>X -&gt; InY &amp; OutX -&gt; Y -v X -v Y</td>\n",
       "      <td>PostgreSQL</td>\n",
       "      <td>Oracle</td>\n",
       "      <td>{13, 23, 76}</td>\n",
       "    </tr>\n",
       "    <tr>\n",
       "      <th>2</th>\n",
       "      <td>IBM_DB2 -&gt; InHyperSQL &amp; OutIBM_DB2 -&gt; HyperSQL</td>\n",
       "      <td>0.004292</td>\n",
       "      <td>1</td>\n",
       "      <td>68</td>\n",
       "      <td>X = IBM_DB2; Y = HyperSQL</td>\n",
       "      <td>X -&gt; InY &amp; OutX -&gt; Y -v X -v Y</td>\n",
       "      <td>IBM DB2</td>\n",
       "      <td>HyperSQL</td>\n",
       "      <td>{68}</td>\n",
       "    </tr>\n",
       "    <tr>\n",
       "      <th>3</th>\n",
       "      <td>MySQL -&gt; InPostgreSQL &amp; OutMySQL -&gt; PostgreSQL</td>\n",
       "      <td>0.004292</td>\n",
       "      <td>1</td>\n",
       "      <td>56</td>\n",
       "      <td>X = MySQL; Y = PostgreSQL</td>\n",
       "      <td>X -&gt; InY &amp; OutX -&gt; Y -v X -v Y</td>\n",
       "      <td>MySQL</td>\n",
       "      <td>PostgreSQL</td>\n",
       "      <td>{56}</td>\n",
       "    </tr>\n",
       "    <tr>\n",
       "      <th>4</th>\n",
       "      <td>MySQL -&gt; InIBM_DB2 &amp; OutMySQL -&gt; IBM_DB2</td>\n",
       "      <td>0.004292</td>\n",
       "      <td>1</td>\n",
       "      <td>86</td>\n",
       "      <td>X = MySQL; Y = IBM_DB2</td>\n",
       "      <td>X -&gt; InY &amp; OutX -&gt; Y -v X -v Y</td>\n",
       "      <td>MySQL</td>\n",
       "      <td>IBM DB2</td>\n",
       "      <td>{86}</td>\n",
       "    </tr>\n",
       "    <tr>\n",
       "      <th>5</th>\n",
       "      <td>MySQL -&gt; InOracle &amp; OutMySQL -&gt; Oracle</td>\n",
       "      <td>0.004292</td>\n",
       "      <td>1</td>\n",
       "      <td>23</td>\n",
       "      <td>X = MySQL; Y = Oracle</td>\n",
       "      <td>X -&gt; InY &amp; OutX -&gt; Y -v X -v Y</td>\n",
       "      <td>MySQL</td>\n",
       "      <td>Oracle</td>\n",
       "      <td>{23}</td>\n",
       "    </tr>\n",
       "  </tbody>\n",
       "</table>\n",
       "</div>"
      ],
      "text/plain": [
       "                                               Name   Support  Line Count  \\\n",
       "1  PostgreSQL -> InOracle & OutPostgreSQL -> Oracle  0.012876           3   \n",
       "2    IBM_DB2 -> InHyperSQL & OutIBM_DB2 -> HyperSQL  0.004292           1   \n",
       "3    MySQL -> InPostgreSQL & OutMySQL -> PostgreSQL  0.004292           1   \n",
       "4          MySQL -> InIBM_DB2 & OutMySQL -> IBM_DB2  0.004292           1   \n",
       "5            MySQL -> InOracle & OutMySQL -> Oracle  0.004292           1   \n",
       "\n",
       "        Lines                    Bindings                          Source  \\\n",
       "1  76; 13; 23  X = PostgreSQL; Y = Oracle  X -> InY & OutX -> Y -v X -v Y   \n",
       "2          68   X = IBM_DB2; Y = HyperSQL  X -> InY & OutX -> Y -v X -v Y   \n",
       "3          56   X = MySQL; Y = PostgreSQL  X -> InY & OutX -> Y -v X -v Y   \n",
       "4          86      X = MySQL; Y = IBM_DB2  X -> InY & OutX -> Y -v X -v Y   \n",
       "5          23       X = MySQL; Y = Oracle  X -> InY & OutX -> Y -v X -v Y   \n",
       "\n",
       "            X           Y      LinesSet  \n",
       "1  PostgreSQL      Oracle  {13, 23, 76}  \n",
       "2     IBM DB2    HyperSQL          {68}  \n",
       "3       MySQL  PostgreSQL          {56}  \n",
       "4       MySQL     IBM DB2          {86}  \n",
       "5       MySQL      Oracle          {23}  "
      ]
     },
     "execution_count": 3,
     "metadata": {},
     "output_type": "execute_result"
    }
   ],
   "source": [
    "df = pd.read_csv(SEQ_PATTERNS_DIR + os.sep + \"substitutions.csv\")\n",
    "# Remove meta-rules\n",
    "df.drop(df[\n",
    "    (df[\"Name\"] == \"X -> InY & OutX -> Y\")\n",
    "    | (df[\"Name\"] == \"X -> InY -> OutX & Y\") \n",
    "].index, inplace=True)\n",
    "# Identify DBMSs\n",
    "\n",
    "replacements = {\n",
    "    \"Join_Ignite_NoSql\": \"Ignite-NoSql\",\n",
    "    \"_\": \" \",\n",
    "    \"GoogleCloudDatastore\": \"Google Cloud Datastore\",\n",
    "    \"SAPAdaptiveServer\": \"SAP Adaptive Server\",\n",
    "    \"SAPSQLAnywhere\": \"SAP SQL Anywhere\",\n",
    "    \"MicrosoftAzureCosmosDB\": \"Microsoft Azure CosmosDB\",\n",
    "    \"FirebaseRealtime\": \"Firebase Realtime\",\n",
    "}\n",
    "df[\"X\"] = df[\"Bindings\"].str.extract(r'X = (.+)?; Y =', expand=False).replace(replacements, regex=True)\n",
    "df[\"Y\"] = df[\"Bindings\"].str.extract(r'Y = (.+)?', expand=False).replace(replacements, regex=True)\n",
    "df[\"LinesSet\"] = df[\"Lines\"].apply(lambda x: set(x.split(\"; \")))\n",
    "df.head()"
   ]
  },
  {
   "cell_type": "code",
   "execution_count": 4,
   "id": "3f2c7b30-e98c-492a-8b8d-5b9db381ca33",
   "metadata": {
    "tags": []
   },
   "outputs": [],
   "source": [
    "def categorize_model(dbms):\n",
    "    if dbms in RELATIONAL_DBS:\n",
    "        return \"Relational\"\n",
    "    elif dbms in NONRELATIONAL_DBS:\n",
    "        return \"Non Relational\"\n",
    "    else:\n",
    "        print(\"Check: \", dbms)\n",
    "    \n",
    "df[\"X Model\"] = df[\"X\"].apply(categorize_model)\n",
    "df[\"Y Model\"] = df[\"Y\"].apply(categorize_model)"
   ]
  },
  {
   "cell_type": "markdown",
   "id": "40302a93-95e0-493b-a5b0-2122aa132603",
   "metadata": {
    "tags": []
   },
   "source": [
    "### DBMSs that were replaced by others"
   ]
  },
  {
   "cell_type": "code",
   "execution_count": 5,
   "id": "44ba12db-2515-49c3-9488-0e4131ba53e7",
   "metadata": {
    "tags": []
   },
   "outputs": [],
   "source": [
    "df3 = pd.read_excel(HISTORICAL_FILE_JOIN_DB, keep_default_na=False)\n",
    "renomeacoes = {\n",
    "    'MySQL_Maria DB': 'MySQL',\n",
    "    'PostgreSQL_ CockroachDB': 'PostgreSQL',\n",
    "    'MS SQL Server_Microsoft Azure SQL Database': 'MS SQL Server',\n",
    "    'MS_SQL_Server': 'MS SQL Server',\n",
    "    'IBM_DB2': 'IBM DB2',\n",
    "    'Virtuoso_NoSql': 'Virtuoso-NoSql',\n",
    "    'Virtuoso_Sql': 'Virtuoso-Sql',\n",
    "    'Ignite_NoSql': 'Ignite-NoSql',\n",
    "    'Ignite_Sql': 'Ignite-Sql',\n",
    "    'GoogleCloudFilestore': 'GoogleCloudFirestore',\n",
    "    'MS_Access': 'MS Access'\n",
    "}\n",
    "\n",
    "# Renomeando os valores na coluna 'banco_de_dados'\n",
    "df3['Databases'] = df3['Databases'].replace(renomeacoes)\n",
    "df3 = df3.set_index(\"Databases\")\n",
    "dbms_counts = (df3.iloc[:,3:].T > 0).sum().to_dict()"
   ]
  },
  {
   "cell_type": "code",
   "execution_count": null,
   "id": "76b7b417-daa0-42f1-8e4a-94a915e6a43e",
   "metadata": {},
   "outputs": [],
   "source": []
  },
  {
   "cell_type": "code",
   "execution_count": 6,
   "id": "7955bf4c-11f2-4ab1-8ebd-ff709d9c634b",
   "metadata": {
    "tags": []
   },
   "outputs": [
    {
     "data": {
      "text/html": [
       "<div>\n",
       "<style scoped>\n",
       "    .dataframe tbody tr th:only-of-type {\n",
       "        vertical-align: middle;\n",
       "    }\n",
       "\n",
       "    .dataframe tbody tr th {\n",
       "        vertical-align: top;\n",
       "    }\n",
       "\n",
       "    .dataframe thead th {\n",
       "        text-align: right;\n",
       "    }\n",
       "</style>\n",
       "<table border=\"1\" class=\"dataframe\">\n",
       "  <thead>\n",
       "    <tr style=\"text-align: right;\">\n",
       "      <th></th>\n",
       "      <th>Replaced DBMS</th>\n",
       "      <th>replacements</th>\n",
       "      <th>projects</th>\n",
       "      <th># Replacer DBMSs</th>\n",
       "      <th># Projects</th>\n",
       "      <th>% Projects</th>\n",
       "    </tr>\n",
       "  </thead>\n",
       "  <tbody>\n",
       "    <tr>\n",
       "      <th>2</th>\n",
       "      <td>Couchbase</td>\n",
       "      <td>{Neo4j, Snowflake, Cassandra, Influx DB, Hazel...</td>\n",
       "      <td>{208, 76, 59}</td>\n",
       "      <td>13</td>\n",
       "      <td>3</td>\n",
       "      <td>0.333333</td>\n",
       "    </tr>\n",
       "    <tr>\n",
       "      <th>27</th>\n",
       "      <td>SAP Adaptive Server</td>\n",
       "      <td>{Etcd, Cassandra, HyperSQL, HBase, DynamoDB, I...</td>\n",
       "      <td>{68, 59, 151, 62}</td>\n",
       "      <td>10</td>\n",
       "      <td>4</td>\n",
       "      <td>0.333333</td>\n",
       "    </tr>\n",
       "    <tr>\n",
       "      <th>14</th>\n",
       "      <td>Informix</td>\n",
       "      <td>{Neo4j, Etcd, Cassandra, Redis, HyperSQL, Orac...</td>\n",
       "      <td>{68, 27, 115, 159, 62}</td>\n",
       "      <td>9</td>\n",
       "      <td>5</td>\n",
       "      <td>0.333333</td>\n",
       "    </tr>\n",
       "    <tr>\n",
       "      <th>1</th>\n",
       "      <td>CouchDB</td>\n",
       "      <td>{GoogleCloudFirestore, H2, Influx DB, Microsof...</td>\n",
       "      <td>{76}</td>\n",
       "      <td>5</td>\n",
       "      <td>1</td>\n",
       "      <td>0.333333</td>\n",
       "    </tr>\n",
       "    <tr>\n",
       "      <th>15</th>\n",
       "      <td>Ingres</td>\n",
       "      <td>{MongoDB, HBase, PostGIS, MS SQL Server, Terad...</td>\n",
       "      <td>{113, 151}</td>\n",
       "      <td>8</td>\n",
       "      <td>2</td>\n",
       "      <td>0.285714</td>\n",
       "    </tr>\n",
       "    <tr>\n",
       "      <th>12</th>\n",
       "      <td>Ignite-NoSql</td>\n",
       "      <td>{MongoDB, Neo4j, Snowflake, Influx DB, Hazelca...</td>\n",
       "      <td>{74, 59}</td>\n",
       "      <td>10</td>\n",
       "      <td>2</td>\n",
       "      <td>0.250000</td>\n",
       "    </tr>\n",
       "    <tr>\n",
       "      <th>25</th>\n",
       "      <td>Realm</td>\n",
       "      <td>{MongoDB, MySQL, MarkLogic, PostgreSQL}</td>\n",
       "      <td>{147}</td>\n",
       "      <td>4</td>\n",
       "      <td>1</td>\n",
       "      <td>0.250000</td>\n",
       "    </tr>\n",
       "    <tr>\n",
       "      <th>10</th>\n",
       "      <td>HyperSQL</td>\n",
       "      <td>{Neo4j, PostGIS, Redis, HBase, MS SQL Server, ...</td>\n",
       "      <td>{38, 27, 48, 86, 3, 112, 219, 44, 210, 188, 10...</td>\n",
       "      <td>18</td>\n",
       "      <td>19</td>\n",
       "      <td>0.234568</td>\n",
       "    </tr>\n",
       "    <tr>\n",
       "      <th>5</th>\n",
       "      <td>Firebird</td>\n",
       "      <td>{Neo4j, Cassandra, Etcd, IBM DB2}</td>\n",
       "      <td>{151, 62, 159}</td>\n",
       "      <td>4</td>\n",
       "      <td>3</td>\n",
       "      <td>0.214286</td>\n",
       "    </tr>\n",
       "    <tr>\n",
       "      <th>8</th>\n",
       "      <td>HBase</td>\n",
       "      <td>{PostGIS, Redis, Influx DB, SAP SQL Anywhere, ...</td>\n",
       "      <td>{68, 48, 44, 151, 39}</td>\n",
       "      <td>18</td>\n",
       "      <td>5</td>\n",
       "      <td>0.208333</td>\n",
       "    </tr>\n",
       "    <tr>\n",
       "      <th>9</th>\n",
       "      <td>Hazelcast</td>\n",
       "      <td>{MongoDB, Google Cloud Datastore, HBase, MS SQ...</td>\n",
       "      <td>{109, 0, 81, 132, 219, 74, 45}</td>\n",
       "      <td>8</td>\n",
       "      <td>7</td>\n",
       "      <td>0.205882</td>\n",
       "    </tr>\n",
       "    <tr>\n",
       "      <th>28</th>\n",
       "      <td>SQLite</td>\n",
       "      <td>{MongoDB, PostGIS, Redis, HyperSQL, SAP SQL An...</td>\n",
       "      <td>{27, 171, 33, 112, 156, 39, 163, 51}</td>\n",
       "      <td>15</td>\n",
       "      <td>8</td>\n",
       "      <td>0.200000</td>\n",
       "    </tr>\n",
       "    <tr>\n",
       "      <th>31</th>\n",
       "      <td>Teradata</td>\n",
       "      <td>{MongoDB, Neo4j, PostGIS, Redis, HyperSQL, Cas...</td>\n",
       "      <td>{112, 159}</td>\n",
       "      <td>10</td>\n",
       "      <td>2</td>\n",
       "      <td>0.181818</td>\n",
       "    </tr>\n",
       "    <tr>\n",
       "      <th>29</th>\n",
       "      <td>SapHana</td>\n",
       "      <td>{SQLite, Informix, Ingres, Etcd}</td>\n",
       "      <td>{154, 62}</td>\n",
       "      <td>4</td>\n",
       "      <td>2</td>\n",
       "      <td>0.181818</td>\n",
       "    </tr>\n",
       "    <tr>\n",
       "      <th>21</th>\n",
       "      <td>Neo4j</td>\n",
       "      <td>{H2, Cassandra, Redis, IBM DB2}</td>\n",
       "      <td>{188, 44, 72}</td>\n",
       "      <td>4</td>\n",
       "      <td>3</td>\n",
       "      <td>0.176471</td>\n",
       "    </tr>\n",
       "    <tr>\n",
       "      <th>11</th>\n",
       "      <td>IBM DB2</td>\n",
       "      <td>{Oracle, MySQL, Neo4j, MS SQL Server, PostgreS...</td>\n",
       "      <td>{68, 148, 27, 159, 30, 218, 62}</td>\n",
       "      <td>8</td>\n",
       "      <td>7</td>\n",
       "      <td>0.170732</td>\n",
       "    </tr>\n",
       "    <tr>\n",
       "      <th>17</th>\n",
       "      <td>MS SQL Server</td>\n",
       "      <td>{MongoDB, Neo4j, Etcd, Redis, HyperSQL, Cassan...</td>\n",
       "      <td>{68, 6, 151, 62, 133, 47, 0, 159, 114, 100, 74}</td>\n",
       "      <td>13</td>\n",
       "      <td>11</td>\n",
       "      <td>0.164179</td>\n",
       "    </tr>\n",
       "    <tr>\n",
       "      <th>0</th>\n",
       "      <td>Cassandra</td>\n",
       "      <td>{Neo4j, MarkLogic, Snowflake, Etcd, Redis, Haz...</td>\n",
       "      <td>{68, 47, 59, 5, 69}</td>\n",
       "      <td>14</td>\n",
       "      <td>5</td>\n",
       "      <td>0.161290</td>\n",
       "    </tr>\n",
       "    <tr>\n",
       "      <th>16</th>\n",
       "      <td>MS Access</td>\n",
       "      <td>{MongoDB, Oracle, PostgreSQL, H2, Redis}</td>\n",
       "      <td>{73, 138}</td>\n",
       "      <td>5</td>\n",
       "      <td>2</td>\n",
       "      <td>0.153846</td>\n",
       "    </tr>\n",
       "    <tr>\n",
       "      <th>13</th>\n",
       "      <td>Influx DB</td>\n",
       "      <td>{Google Cloud Datastore}</td>\n",
       "      <td>{208}</td>\n",
       "      <td>1</td>\n",
       "      <td>1</td>\n",
       "      <td>0.142857</td>\n",
       "    </tr>\n",
       "    <tr>\n",
       "      <th>4</th>\n",
       "      <td>Firebase Realtime</td>\n",
       "      <td>{Oracle, Cassandra}</td>\n",
       "      <td>{83}</td>\n",
       "      <td>2</td>\n",
       "      <td>1</td>\n",
       "      <td>0.125000</td>\n",
       "    </tr>\n",
       "    <tr>\n",
       "      <th>6</th>\n",
       "      <td>Google Cloud Datastore</td>\n",
       "      <td>{MongoDB, MarkLogic, Redis, HyperSQL, Cassandr...</td>\n",
       "      <td>{212, 59, 201, 44, 133}</td>\n",
       "      <td>12</td>\n",
       "      <td>5</td>\n",
       "      <td>0.116279</td>\n",
       "    </tr>\n",
       "    <tr>\n",
       "      <th>30</th>\n",
       "      <td>Snowflake</td>\n",
       "      <td>{Etcd}</td>\n",
       "      <td>{62}</td>\n",
       "      <td>1</td>\n",
       "      <td>1</td>\n",
       "      <td>0.111111</td>\n",
       "    </tr>\n",
       "    <tr>\n",
       "      <th>24</th>\n",
       "      <td>PostgreSQL</td>\n",
       "      <td>{MongoDB, Neo4j, Redis, Cassandra, Hazelcast, ...</td>\n",
       "      <td>{23, 220, 76, 33, 133, 148, 159, 59, 13, 74, 169}</td>\n",
       "      <td>14</td>\n",
       "      <td>11</td>\n",
       "      <td>0.107843</td>\n",
       "    </tr>\n",
       "    <tr>\n",
       "      <th>7</th>\n",
       "      <td>H2</td>\n",
       "      <td>{SQLite, Neo4j, Etcd, Cassandra, Redis, HyperS...</td>\n",
       "      <td>{55, 171, 160, 219, 44, 194, 62, 47, 72, 205, ...</td>\n",
       "      <td>14</td>\n",
       "      <td>12</td>\n",
       "      <td>0.105263</td>\n",
       "    </tr>\n",
       "    <tr>\n",
       "      <th>20</th>\n",
       "      <td>MySQL</td>\n",
       "      <td>{MongoDB, MarkLogic, Redis, Cassandra, Hazelca...</td>\n",
       "      <td>{208, 23, 212, 27, 171, 6, 86, 44, 205, 136, 7...</td>\n",
       "      <td>13</td>\n",
       "      <td>13</td>\n",
       "      <td>0.094891</td>\n",
       "    </tr>\n",
       "    <tr>\n",
       "      <th>23</th>\n",
       "      <td>PostGIS</td>\n",
       "      <td>{Oracle}</td>\n",
       "      <td>{99}</td>\n",
       "      <td>1</td>\n",
       "      <td>1</td>\n",
       "      <td>0.090909</td>\n",
       "    </tr>\n",
       "    <tr>\n",
       "      <th>22</th>\n",
       "      <td>Oracle</td>\n",
       "      <td>{SQLite, Neo4j, Cassandra, Redis, MySQL, Dynam...</td>\n",
       "      <td>{23, 52, 92, 47, 231, 159, 59, 136}</td>\n",
       "      <td>11</td>\n",
       "      <td>8</td>\n",
       "      <td>0.085106</td>\n",
       "    </tr>\n",
       "    <tr>\n",
       "      <th>19</th>\n",
       "      <td>MongoDB</td>\n",
       "      <td>{Oracle, MarkLogic, MS SQL Server, PostgreSQL,...</td>\n",
       "      <td>{5, 180, 147, 69}</td>\n",
       "      <td>5</td>\n",
       "      <td>4</td>\n",
       "      <td>0.078431</td>\n",
       "    </tr>\n",
       "    <tr>\n",
       "      <th>26</th>\n",
       "      <td>Redis</td>\n",
       "      <td>{MongoDB, Oracle, PostgreSQL, H2, Cassandra, M...</td>\n",
       "      <td>{47, 3, 64, 5, 51, 138, 39}</td>\n",
       "      <td>6</td>\n",
       "      <td>7</td>\n",
       "      <td>0.077778</td>\n",
       "    </tr>\n",
       "    <tr>\n",
       "      <th>18</th>\n",
       "      <td>MarkLogic</td>\n",
       "      <td>{Oracle, MS SQL Server, PostgreSQL}</td>\n",
       "      <td>{147}</td>\n",
       "      <td>3</td>\n",
       "      <td>1</td>\n",
       "      <td>0.076923</td>\n",
       "    </tr>\n",
       "    <tr>\n",
       "      <th>3</th>\n",
       "      <td>DynamoDB</td>\n",
       "      <td>{MongoDB, MySQL, MS SQL Server, Cassandra, Hyp...</td>\n",
       "      <td>{69}</td>\n",
       "      <td>5</td>\n",
       "      <td>1</td>\n",
       "      <td>0.030303</td>\n",
       "    </tr>\n",
       "  </tbody>\n",
       "</table>\n",
       "</div>"
      ],
      "text/plain": [
       "             Replaced DBMS                                       replacements  \\\n",
       "2                Couchbase  {Neo4j, Snowflake, Cassandra, Influx DB, Hazel...   \n",
       "27     SAP Adaptive Server  {Etcd, Cassandra, HyperSQL, HBase, DynamoDB, I...   \n",
       "14                Informix  {Neo4j, Etcd, Cassandra, Redis, HyperSQL, Orac...   \n",
       "1                  CouchDB  {GoogleCloudFirestore, H2, Influx DB, Microsof...   \n",
       "15                  Ingres  {MongoDB, HBase, PostGIS, MS SQL Server, Terad...   \n",
       "12            Ignite-NoSql  {MongoDB, Neo4j, Snowflake, Influx DB, Hazelca...   \n",
       "25                   Realm            {MongoDB, MySQL, MarkLogic, PostgreSQL}   \n",
       "10                HyperSQL  {Neo4j, PostGIS, Redis, HBase, MS SQL Server, ...   \n",
       "5                 Firebird                  {Neo4j, Cassandra, Etcd, IBM DB2}   \n",
       "8                    HBase  {PostGIS, Redis, Influx DB, SAP SQL Anywhere, ...   \n",
       "9                Hazelcast  {MongoDB, Google Cloud Datastore, HBase, MS SQ...   \n",
       "28                  SQLite  {MongoDB, PostGIS, Redis, HyperSQL, SAP SQL An...   \n",
       "31                Teradata  {MongoDB, Neo4j, PostGIS, Redis, HyperSQL, Cas...   \n",
       "29                 SapHana                   {SQLite, Informix, Ingres, Etcd}   \n",
       "21                   Neo4j                    {H2, Cassandra, Redis, IBM DB2}   \n",
       "11                 IBM DB2  {Oracle, MySQL, Neo4j, MS SQL Server, PostgreS...   \n",
       "17           MS SQL Server  {MongoDB, Neo4j, Etcd, Redis, HyperSQL, Cassan...   \n",
       "0                Cassandra  {Neo4j, MarkLogic, Snowflake, Etcd, Redis, Haz...   \n",
       "16               MS Access           {MongoDB, Oracle, PostgreSQL, H2, Redis}   \n",
       "13               Influx DB                           {Google Cloud Datastore}   \n",
       "4        Firebase Realtime                                {Oracle, Cassandra}   \n",
       "6   Google Cloud Datastore  {MongoDB, MarkLogic, Redis, HyperSQL, Cassandr...   \n",
       "30               Snowflake                                             {Etcd}   \n",
       "24              PostgreSQL  {MongoDB, Neo4j, Redis, Cassandra, Hazelcast, ...   \n",
       "7                       H2  {SQLite, Neo4j, Etcd, Cassandra, Redis, HyperS...   \n",
       "20                   MySQL  {MongoDB, MarkLogic, Redis, Cassandra, Hazelca...   \n",
       "23                 PostGIS                                           {Oracle}   \n",
       "22                  Oracle  {SQLite, Neo4j, Cassandra, Redis, MySQL, Dynam...   \n",
       "19                 MongoDB  {Oracle, MarkLogic, MS SQL Server, PostgreSQL,...   \n",
       "26                   Redis  {MongoDB, Oracle, PostgreSQL, H2, Cassandra, M...   \n",
       "18               MarkLogic                {Oracle, MS SQL Server, PostgreSQL}   \n",
       "3                 DynamoDB  {MongoDB, MySQL, MS SQL Server, Cassandra, Hyp...   \n",
       "\n",
       "                                             projects  # Replacer DBMSs  \\\n",
       "2                                       {208, 76, 59}                13   \n",
       "27                                  {68, 59, 151, 62}                10   \n",
       "14                             {68, 27, 115, 159, 62}                 9   \n",
       "1                                                {76}                 5   \n",
       "15                                         {113, 151}                 8   \n",
       "12                                           {74, 59}                10   \n",
       "25                                              {147}                 4   \n",
       "10  {38, 27, 48, 86, 3, 112, 219, 44, 210, 188, 10...                18   \n",
       "5                                      {151, 62, 159}                 4   \n",
       "8                               {68, 48, 44, 151, 39}                18   \n",
       "9                      {109, 0, 81, 132, 219, 74, 45}                 8   \n",
       "28               {27, 171, 33, 112, 156, 39, 163, 51}                15   \n",
       "31                                         {112, 159}                10   \n",
       "29                                          {154, 62}                 4   \n",
       "21                                      {188, 44, 72}                 4   \n",
       "11                    {68, 148, 27, 159, 30, 218, 62}                 8   \n",
       "17    {68, 6, 151, 62, 133, 47, 0, 159, 114, 100, 74}                13   \n",
       "0                                 {68, 47, 59, 5, 69}                14   \n",
       "16                                          {73, 138}                 5   \n",
       "13                                              {208}                 1   \n",
       "4                                                {83}                 2   \n",
       "6                             {212, 59, 201, 44, 133}                12   \n",
       "30                                               {62}                 1   \n",
       "24  {23, 220, 76, 33, 133, 148, 159, 59, 13, 74, 169}                14   \n",
       "7   {55, 171, 160, 219, 44, 194, 62, 47, 72, 205, ...                14   \n",
       "20  {208, 23, 212, 27, 171, 6, 86, 44, 205, 136, 7...                13   \n",
       "23                                               {99}                 1   \n",
       "22                {23, 52, 92, 47, 231, 159, 59, 136}                11   \n",
       "19                                  {5, 180, 147, 69}                 5   \n",
       "26                        {47, 3, 64, 5, 51, 138, 39}                 6   \n",
       "18                                              {147}                 3   \n",
       "3                                                {69}                 5   \n",
       "\n",
       "    # Projects  % Projects  \n",
       "2            3    0.333333  \n",
       "27           4    0.333333  \n",
       "14           5    0.333333  \n",
       "1            1    0.333333  \n",
       "15           2    0.285714  \n",
       "12           2    0.250000  \n",
       "25           1    0.250000  \n",
       "10          19    0.234568  \n",
       "5            3    0.214286  \n",
       "8            5    0.208333  \n",
       "9            7    0.205882  \n",
       "28           8    0.200000  \n",
       "31           2    0.181818  \n",
       "29           2    0.181818  \n",
       "21           3    0.176471  \n",
       "11           7    0.170732  \n",
       "17          11    0.164179  \n",
       "0            5    0.161290  \n",
       "16           2    0.153846  \n",
       "13           1    0.142857  \n",
       "4            1    0.125000  \n",
       "6            5    0.116279  \n",
       "30           1    0.111111  \n",
       "24          11    0.107843  \n",
       "7           12    0.105263  \n",
       "20          13    0.094891  \n",
       "23           1    0.090909  \n",
       "22           8    0.085106  \n",
       "19           4    0.078431  \n",
       "26           7    0.077778  \n",
       "18           1    0.076923  \n",
       "3            1    0.030303  "
      ]
     },
     "execution_count": 6,
     "metadata": {},
     "output_type": "execute_result"
    }
   ],
   "source": [
    "df4 = df.groupby([\"X\"], as_index=False).agg(replacements=(\"Y\", union_values), projects=(\"LinesSet\", union_sets))\n",
    "df4[\"# Replacer DBMSs\"] = df4[\"replacements\"].apply(len)\n",
    "df4.rename(columns={\"X\": \"Replaced DBMS\"}, inplace=True)\n",
    "\n",
    "#df4.rename(columns={\"X\": \"DBMS\", \"replacements\": \"# Replacements\"}, inplace=True)\n",
    "df4[\"# Projects\"] = df4[\"projects\"].apply(len)\n",
    "df4[\"% Projects\"] = df4.apply(lambda row: row[\"# Projects\"] / dbms_counts[row[\"Replaced DBMS\"]], axis=1)\n",
    "df4.sort_values([\"% Projects\", \"# Replacer DBMSs\", \"# Projects\"], inplace=True, ascending=False)\n",
    "dbms_was_replaced_count = df4.set_index(\"Replaced DBMS\")[\"# Replacer DBMSs\"].to_dict()\n",
    "dbms_was_replaced_in_projects = df4.set_index(\"Replaced DBMS\")[\"# Projects\"].to_dict()\n",
    "df4"
   ]
  },
  {
   "cell_type": "code",
   "execution_count": null,
   "id": "790f4962-6c43-438a-b84f-4cad121e7d0d",
   "metadata": {},
   "outputs": [],
   "source": []
  },
  {
   "cell_type": "code",
   "execution_count": 7,
   "id": "5e0d3788-9378-4fc7-8a38-ce7b3a66e6d3",
   "metadata": {
    "tags": []
   },
   "outputs": [],
   "source": [
    "assert max(dbms_was_replaced_count.items(), key=lambda x: x[1]) == ('HyperSQL', 18), \"Paper: 'In summary, we have identified that HyperSQL is the DBMS mostly susceptible to replacements during the projects' history.'\"\n",
    "assert list(df4.set_index(\"Replaced DBMS\")[\"# Replacer DBMSs\"].nlargest(2).index) == [\"HyperSQL\", \"HBase\"], \"Paper: 'In a more comprehensive analysis, considering only the replaced DBMS, including the patterns that occurred in only 1 project, we found HyperSQL and HBase among the most susceptible to be replaced.'\"\n",
    "assert list(df4.set_index(\"Replaced DBMS\")[\"# Replacer DBMSs\"].nlargest(2).index) == [\"HyperSQL\", \"HBase\"], r\"Paper: 'Comparing Tables~\\ref{tab:substitutions} and \\ref{tab:substitutes}, we observe that both HyperSQL and HBase were replaced by other \\nvarc{rq3_repl_hypersql}{18} DBMSs and replaced other \\nvarc{rq3_replby_hypersql}{11} DBMSs, indicating a decrease in their adoption.'\"\n",
    "\n",
    "assert (df4[\"# Replacer DBMSs\"] > df4[\"# Projects\"]).sum()/len(df4) > 0.8, \"Paper: 'Additionally, we observed that most replaced DBMSs have experienced more than one replacement in certain projects.'\""
   ]
  },
  {
   "cell_type": "code",
   "execution_count": 8,
   "id": "346ee08c-c0a4-4c70-a53d-2dfd57485682",
   "metadata": {
    "tags": []
   },
   "outputs": [
    {
     "name": "stdout",
     "output_type": "stream",
     "text": [
      "\\begin{tabular}{lrrr}\n",
      "\\hline\n",
      "\\multicolumn{1}{l}{\\textbf{Replaced DBMS}} & \\multicolumn{1}{r}{\\textbf{\\# Replacer DBMSs}} & \\multicolumn{1}{c}{\\textbf{\\# Projects}} & \\textbf{\\% Projects} \\\\\n",
      "\\hline\n",
      "Couchbase & 13 & 3 & 33.3\\% \\\\\n",
      "SAP Adaptive Server & 10 & 4 & 33.3\\% \\\\\n",
      "Informix & 9 & 5 & 33.3\\% \\\\\n",
      "CouchDB & 5 & 1 & 33.3\\% \\\\\n",
      "Ingres & 8 & 2 & 28.6\\% \\\\\n",
      "Ignite-NoSql & 10 & 2 & 25.0\\% \\\\\n",
      "Realm & 4 & 1 & 25.0\\% \\\\\n",
      "HyperSQL & 18 & 19 & 23.5\\% \\\\\n",
      "Firebird & 4 & 3 & 21.4\\% \\\\\n",
      "HBase & 18 & 5 & 20.8\\% \\\\\n",
      "Hazelcast & 8 & 7 & 20.6\\% \\\\\n",
      "SQLite & 15 & 8 & 20.0\\% \\\\\n",
      "Teradata & 10 & 2 & 18.2\\% \\\\\n",
      "SapHana & 4 & 2 & 18.2\\% \\\\\n",
      "Neo4j & 4 & 3 & 17.6\\% \\\\\n",
      "IBM DB2 & 8 & 7 & 17.1\\% \\\\\n",
      "MS SQL Server & 13 & 11 & 16.4\\% \\\\\n",
      "Cassandra & 14 & 5 & 16.1\\% \\\\\n",
      "MS Access & 5 & 2 & 15.4\\% \\\\\n",
      "Influx DB & 1 & 1 & 14.3\\% \\\\\n",
      "Firebase Realtime & 2 & 1 & 12.5\\% \\\\\n",
      "Google Cloud Datastore & 12 & 5 & 11.6\\% \\\\\n",
      "Snowflake & 1 & 1 & 11.1\\% \\\\\n",
      "PostgreSQL & 14 & 11 & 10.8\\% \\\\\n",
      "H2 & 14 & 12 & 10.5\\% \\\\\n",
      "MySQL & 13 & 13 & 9.5\\% \\\\\n",
      "PostGIS & 1 & 1 & 9.1\\% \\\\\n",
      "Oracle & 11 & 8 & 8.5\\% \\\\\n",
      "MongoDB & 5 & 4 & 7.8\\% \\\\\n",
      "Redis & 6 & 7 & 7.8\\% \\\\\n",
      "MarkLogic & 3 & 1 & 7.7\\% \\\\\n",
      "DynamoDB & 5 & 1 & 3.0\\% \\\\\n",
      "\\hline\n",
      "\\end{tabular}\n",
      "\n"
     ]
    }
   ],
   "source": [
    "columns = [\"Replaced DBMS\", \"# Replacer DBMSs\", \"# Projects\", \"% Projects\"]\n",
    "\n",
    "result = df4[columns].to_latex(index=False, float_format=\"{:.1%}\".format)\n",
    "result = result.replace(\"%\", \"\\\\%\")\n",
    "result = re.sub(r\"\\\\toprule\\n.*\\n\\\\midrule\", r\"\"\"\\\\hline\n",
    "\\\\multicolumn{1}{l}{\\\\textbf{Replaced DBMS}} & \\\\multicolumn{1}{r}{\\\\textbf{\\\\# Replacer DBMSs}} & \\\\multicolumn{1}{c}{\\\\textbf{\\\\# Projects}} & \\\\textbf{\\\\% Projects} \\\\\\\\\n",
    "\\\\hline\"\"\", result, flags=re.MULTILINE).replace(r'\\bottomrule', r'\\hline')\n",
    "#result = result.replace(r'<\\#i\\#>', r'\\textbf{').replace(r'<\\#f\\#>', r'}').replace(r'\\toprule', r'\\hline').replace(r'\\midrule', r'\\hline').replace(r'\\bottomrule', r'\\hline')\n",
    "print(result)\n",
    "\n",
    "#result = df4[columns].to_latex(index=False, float_format=\"{:.1%}\".format, header=[f\"<#i#>{column}<#f#>\" for column in columns])\n",
    "#result = result.replace(r'<\\#i\\#>', r'\\textbf{').replace(r'<\\#f\\#>', r'}').replace(r'\\toprule', r'\\hline').replace(r'\\midrule', r'\\hline').replace(r'\\bottomrule', r'\\hline')\n",
    "with open(IMAGES_DIR + os.sep + \"substitutions.tex\", \"w\") as f:\n",
    "    f.write(result)"
   ]
  },
  {
   "cell_type": "markdown",
   "id": "b6304d1f-49af-4db5-a31a-1d8230515531",
   "metadata": {
    "tags": []
   },
   "source": [
    "### DBMS that replaced others"
   ]
  },
  {
   "cell_type": "code",
   "execution_count": 9,
   "id": "fe543247-d135-4d1f-9cfe-de0816576446",
   "metadata": {
    "tags": []
   },
   "outputs": [
    {
     "data": {
      "text/html": [
       "<div>\n",
       "<style scoped>\n",
       "    .dataframe tbody tr th:only-of-type {\n",
       "        vertical-align: middle;\n",
       "    }\n",
       "\n",
       "    .dataframe tbody tr th {\n",
       "        vertical-align: top;\n",
       "    }\n",
       "\n",
       "    .dataframe thead th {\n",
       "        text-align: right;\n",
       "    }\n",
       "</style>\n",
       "<table border=\"1\" class=\"dataframe\">\n",
       "  <thead>\n",
       "    <tr style=\"text-align: right;\">\n",
       "      <th></th>\n",
       "      <th>Replacer DBMS</th>\n",
       "      <th>replacements</th>\n",
       "      <th>projects</th>\n",
       "      <th># Replaced DBMSs</th>\n",
       "      <th># Projects</th>\n",
       "      <th>% Projects</th>\n",
       "    </tr>\n",
       "  </thead>\n",
       "  <tbody>\n",
       "    <tr>\n",
       "      <th>20</th>\n",
       "      <td>Microsoft Azure CosmosDB</td>\n",
       "      <td>{SQLite, HBase, Ignite-NoSql, CouchDB, Cassand...</td>\n",
       "      <td>{76, 59, 44, 51}</td>\n",
       "      <td>7</td>\n",
       "      <td>4</td>\n",
       "      <td>0.571429</td>\n",
       "    </tr>\n",
       "    <tr>\n",
       "      <th>29</th>\n",
       "      <td>SAP SQL Anywhere</td>\n",
       "      <td>{SQLite, HBase}</td>\n",
       "      <td>{39}</td>\n",
       "      <td>2</td>\n",
       "      <td>1</td>\n",
       "      <td>0.500000</td>\n",
       "    </tr>\n",
       "    <tr>\n",
       "      <th>15</th>\n",
       "      <td>Influx DB</td>\n",
       "      <td>{HBase, CouchDB, Ignite-NoSql, Couchbase, Haze...</td>\n",
       "      <td>{74, 44, 76}</td>\n",
       "      <td>5</td>\n",
       "      <td>3</td>\n",
       "      <td>0.428571</td>\n",
       "    </tr>\n",
       "    <tr>\n",
       "      <th>0</th>\n",
       "      <td>ArangoDB</td>\n",
       "      <td>{H2, HBase}</td>\n",
       "      <td>{44, 72}</td>\n",
       "      <td>2</td>\n",
       "      <td>2</td>\n",
       "      <td>0.400000</td>\n",
       "    </tr>\n",
       "    <tr>\n",
       "      <th>5</th>\n",
       "      <td>Etcd</td>\n",
       "      <td>{Snowflake, Firebird, Cassandra, HyperSQL, HBa...</td>\n",
       "      <td>{68, 44, 62}</td>\n",
       "      <td>11</td>\n",
       "      <td>3</td>\n",
       "      <td>0.375000</td>\n",
       "    </tr>\n",
       "    <tr>\n",
       "      <th>1</th>\n",
       "      <td>Cassandra</td>\n",
       "      <td>{Neo4j, Firebird, Redis, HBase, MS SQL Server,...</td>\n",
       "      <td>{83, 76, 30, 44, 47, 188, 72, 59, 159, 57, 69}</td>\n",
       "      <td>18</td>\n",
       "      <td>11</td>\n",
       "      <td>0.354839</td>\n",
       "    </tr>\n",
       "    <tr>\n",
       "      <th>3</th>\n",
       "      <td>Couchbase</td>\n",
       "      <td>{Oracle, HBase, PostgreSQL, SAP Adaptive Server}</td>\n",
       "      <td>{44, 76, 59}</td>\n",
       "      <td>4</td>\n",
       "      <td>3</td>\n",
       "      <td>0.333333</td>\n",
       "    </tr>\n",
       "    <tr>\n",
       "      <th>8</th>\n",
       "      <td>GoogleCloudFirestore</td>\n",
       "      <td>{Couchbase, CouchDB}</td>\n",
       "      <td>{76}</td>\n",
       "      <td>2</td>\n",
       "      <td>1</td>\n",
       "      <td>0.333333</td>\n",
       "    </tr>\n",
       "    <tr>\n",
       "      <th>23</th>\n",
       "      <td>Neo4j</td>\n",
       "      <td>{Firebird, Ignite-NoSql, Cassandra, HyperSQL, ...</td>\n",
       "      <td>{72, 159, 59, 74, 44}</td>\n",
       "      <td>12</td>\n",
       "      <td>5</td>\n",
       "      <td>0.294118</td>\n",
       "    </tr>\n",
       "    <tr>\n",
       "      <th>17</th>\n",
       "      <td>Ingres</td>\n",
       "      <td>{SAP Adaptive Server, SapHana, MS SQL Server}</td>\n",
       "      <td>{154, 151}</td>\n",
       "      <td>3</td>\n",
       "      <td>2</td>\n",
       "      <td>0.285714</td>\n",
       "    </tr>\n",
       "    <tr>\n",
       "      <th>18</th>\n",
       "      <td>MS SQL Server</td>\n",
       "      <td>{MarkLogic, HBase, PostgreSQL, IBM DB2, H2, Te...</td>\n",
       "      <td>{68, 208, 220, 27, 33, 92, 112, 44, 47, 132, 1...</td>\n",
       "      <td>18</td>\n",
       "      <td>19</td>\n",
       "      <td>0.283582</td>\n",
       "    </tr>\n",
       "    <tr>\n",
       "      <th>21</th>\n",
       "      <td>MongoDB</td>\n",
       "      <td>{SQLite, Redis, HyperSQL, Ignite-NoSql, Hazelc...</td>\n",
       "      <td>{68, 113, 212, 76, 33, 112, 44, 45, 210, 133, ...</td>\n",
       "      <td>15</td>\n",
       "      <td>14</td>\n",
       "      <td>0.274510</td>\n",
       "    </tr>\n",
       "    <tr>\n",
       "      <th>25</th>\n",
       "      <td>PostGIS</td>\n",
       "      <td>{SQLite, HBase, Ingres, Teradata, HyperSQL}</td>\n",
       "      <td>{112, 44, 151}</td>\n",
       "      <td>5</td>\n",
       "      <td>3</td>\n",
       "      <td>0.272727</td>\n",
       "    </tr>\n",
       "    <tr>\n",
       "      <th>10</th>\n",
       "      <td>HBase</td>\n",
       "      <td>{SAP Adaptive Server, Ignite-NoSql, HyperSQL, ...</td>\n",
       "      <td>{151, 59, 205, 74, 44, 45}</td>\n",
       "      <td>11</td>\n",
       "      <td>6</td>\n",
       "      <td>0.250000</td>\n",
       "    </tr>\n",
       "    <tr>\n",
       "      <th>14</th>\n",
       "      <td>Ignite-NoSql</td>\n",
       "      <td>{Google Cloud Datastore, HBase}</td>\n",
       "      <td>{44, 59}</td>\n",
       "      <td>2</td>\n",
       "      <td>2</td>\n",
       "      <td>0.250000</td>\n",
       "    </tr>\n",
       "    <tr>\n",
       "      <th>27</th>\n",
       "      <td>Redis</td>\n",
       "      <td>{SQLite, Neo4j, Cassandra, HyperSQL, Hazelcast...</td>\n",
       "      <td>{38, 68, 3, 219, 112, 44, 210, 47, 188, 205, 1...</td>\n",
       "      <td>15</td>\n",
       "      <td>22</td>\n",
       "      <td>0.244444</td>\n",
       "    </tr>\n",
       "    <tr>\n",
       "      <th>26</th>\n",
       "      <td>PostgreSQL</td>\n",
       "      <td>{MarkLogic, Redis, HBase, IBM DB2, H2, MongoDB...</td>\n",
       "      <td>{68, 23, 208, 33, 86, 219, 44, 47, 64, 100, 21...</td>\n",
       "      <td>17</td>\n",
       "      <td>24</td>\n",
       "      <td>0.235294</td>\n",
       "    </tr>\n",
       "    <tr>\n",
       "      <th>19</th>\n",
       "      <td>MarkLogic</td>\n",
       "      <td>{MongoDB, MySQL, Google Cloud Datastore, Realm...</td>\n",
       "      <td>{47, 212, 147}</td>\n",
       "      <td>5</td>\n",
       "      <td>3</td>\n",
       "      <td>0.230769</td>\n",
       "    </tr>\n",
       "    <tr>\n",
       "      <th>24</th>\n",
       "      <td>Oracle</td>\n",
       "      <td>{MarkLogic, PostGIS, Redis, HBase, MS SQL Serv...</td>\n",
       "      <td>{38, 23, 68, 208, 48, 83, 13, 99, 47, 147, 138...</td>\n",
       "      <td>17</td>\n",
       "      <td>19</td>\n",
       "      <td>0.202128</td>\n",
       "    </tr>\n",
       "    <tr>\n",
       "      <th>4</th>\n",
       "      <td>DynamoDB</td>\n",
       "      <td>{SAP Adaptive Server, Cassandra, HyperSQL, Ora...</td>\n",
       "      <td>{47, 72, 76, 59, 44, 133}</td>\n",
       "      <td>10</td>\n",
       "      <td>6</td>\n",
       "      <td>0.181818</td>\n",
       "    </tr>\n",
       "    <tr>\n",
       "      <th>2</th>\n",
       "      <td>ClickHouse</td>\n",
       "      <td>{SQLite, Teradata, H2, Cassandra, HyperSQL}</td>\n",
       "      <td>{47, 112}</td>\n",
       "      <td>5</td>\n",
       "      <td>2</td>\n",
       "      <td>0.181818</td>\n",
       "    </tr>\n",
       "    <tr>\n",
       "      <th>33</th>\n",
       "      <td>Teradata</td>\n",
       "      <td>{MS SQL Server, Ingres}</td>\n",
       "      <td>{113, 114}</td>\n",
       "      <td>2</td>\n",
       "      <td>2</td>\n",
       "      <td>0.181818</td>\n",
       "    </tr>\n",
       "    <tr>\n",
       "      <th>9</th>\n",
       "      <td>H2</td>\n",
       "      <td>{SQLite, Neo4j, CouchDB, Cassandra, Redis, Hyp...</td>\n",
       "      <td>{208, 68, 33, 3, 44, 210, 47, 188, 73, 163, 10...</td>\n",
       "      <td>15</td>\n",
       "      <td>19</td>\n",
       "      <td>0.166667</td>\n",
       "    </tr>\n",
       "    <tr>\n",
       "      <th>11</th>\n",
       "      <td>Hazelcast</td>\n",
       "      <td>{SQLite, Cassandra, Ignite-NoSql, HyperSQL, My...</td>\n",
       "      <td>{27, 76, 59, 112, 44}</td>\n",
       "      <td>10</td>\n",
       "      <td>5</td>\n",
       "      <td>0.147059</td>\n",
       "    </tr>\n",
       "    <tr>\n",
       "      <th>7</th>\n",
       "      <td>Google Cloud Datastore</td>\n",
       "      <td>{MongoDB, SQLite, HyperSQL, Influx DB, Hazelca...</td>\n",
       "      <td>{208, 59, 44, 81, 39, 180}</td>\n",
       "      <td>9</td>\n",
       "      <td>6</td>\n",
       "      <td>0.139535</td>\n",
       "    </tr>\n",
       "    <tr>\n",
       "      <th>12</th>\n",
       "      <td>HyperSQL</td>\n",
       "      <td>{SQLite, Google Cloud Datastore, Hazelcast, Dy...</td>\n",
       "      <td>{68, 171, 48, 160, 219, 112, 44, 39, 0, 109, 69}</td>\n",
       "      <td>11</td>\n",
       "      <td>11</td>\n",
       "      <td>0.135802</td>\n",
       "    </tr>\n",
       "    <tr>\n",
       "      <th>16</th>\n",
       "      <td>Informix</td>\n",
       "      <td>{SapHana, SQLite, HyperSQL, Teradata}</td>\n",
       "      <td>{112, 154}</td>\n",
       "      <td>4</td>\n",
       "      <td>2</td>\n",
       "      <td>0.133333</td>\n",
       "    </tr>\n",
       "    <tr>\n",
       "      <th>22</th>\n",
       "      <td>MySQL</td>\n",
       "      <td>{SQLite, Cassandra, HyperSQL, Ignite-NoSql, Or...</td>\n",
       "      <td>{23, 33, 48, 86, 44, 47, 188, 231, 100, 169, 1...</td>\n",
       "      <td>13</td>\n",
       "      <td>18</td>\n",
       "      <td>0.131387</td>\n",
       "    </tr>\n",
       "    <tr>\n",
       "      <th>6</th>\n",
       "      <td>Firebase Realtime</td>\n",
       "      <td>{Couchbase, CouchDB}</td>\n",
       "      <td>{76}</td>\n",
       "      <td>2</td>\n",
       "      <td>1</td>\n",
       "      <td>0.125000</td>\n",
       "    </tr>\n",
       "    <tr>\n",
       "      <th>13</th>\n",
       "      <td>IBM DB2</td>\n",
       "      <td>{Neo4j, MySQL, MS SQL Server, PostgreSQL, Fire...</td>\n",
       "      <td>{148, 188, 48, 86, 151}</td>\n",
       "      <td>7</td>\n",
       "      <td>5</td>\n",
       "      <td>0.121951</td>\n",
       "    </tr>\n",
       "    <tr>\n",
       "      <th>32</th>\n",
       "      <td>Snowflake</td>\n",
       "      <td>{Cassandra, Couchbase, Ignite-NoSql}</td>\n",
       "      <td>{59}</td>\n",
       "      <td>3</td>\n",
       "      <td>1</td>\n",
       "      <td>0.111111</td>\n",
       "    </tr>\n",
       "    <tr>\n",
       "      <th>31</th>\n",
       "      <td>SapHana</td>\n",
       "      <td>{Ingres}</td>\n",
       "      <td>{113}</td>\n",
       "      <td>1</td>\n",
       "      <td>1</td>\n",
       "      <td>0.090909</td>\n",
       "    </tr>\n",
       "    <tr>\n",
       "      <th>28</th>\n",
       "      <td>SAP Adaptive Server</td>\n",
       "      <td>{HBase, Ingres}</td>\n",
       "      <td>{151}</td>\n",
       "      <td>2</td>\n",
       "      <td>1</td>\n",
       "      <td>0.083333</td>\n",
       "    </tr>\n",
       "    <tr>\n",
       "      <th>30</th>\n",
       "      <td>SQLite</td>\n",
       "      <td>{H2, Oracle, SapHana}</td>\n",
       "      <td>{154, 231, 194}</td>\n",
       "      <td>3</td>\n",
       "      <td>3</td>\n",
       "      <td>0.075000</td>\n",
       "    </tr>\n",
       "  </tbody>\n",
       "</table>\n",
       "</div>"
      ],
      "text/plain": [
       "               Replacer DBMS  \\\n",
       "20  Microsoft Azure CosmosDB   \n",
       "29          SAP SQL Anywhere   \n",
       "15                 Influx DB   \n",
       "0                   ArangoDB   \n",
       "5                       Etcd   \n",
       "1                  Cassandra   \n",
       "3                  Couchbase   \n",
       "8       GoogleCloudFirestore   \n",
       "23                     Neo4j   \n",
       "17                    Ingres   \n",
       "18             MS SQL Server   \n",
       "21                   MongoDB   \n",
       "25                   PostGIS   \n",
       "10                     HBase   \n",
       "14              Ignite-NoSql   \n",
       "27                     Redis   \n",
       "26                PostgreSQL   \n",
       "19                 MarkLogic   \n",
       "24                    Oracle   \n",
       "4                   DynamoDB   \n",
       "2                 ClickHouse   \n",
       "33                  Teradata   \n",
       "9                         H2   \n",
       "11                 Hazelcast   \n",
       "7     Google Cloud Datastore   \n",
       "12                  HyperSQL   \n",
       "16                  Informix   \n",
       "22                     MySQL   \n",
       "6          Firebase Realtime   \n",
       "13                   IBM DB2   \n",
       "32                 Snowflake   \n",
       "31                   SapHana   \n",
       "28       SAP Adaptive Server   \n",
       "30                    SQLite   \n",
       "\n",
       "                                         replacements  \\\n",
       "20  {SQLite, HBase, Ignite-NoSql, CouchDB, Cassand...   \n",
       "29                                    {SQLite, HBase}   \n",
       "15  {HBase, CouchDB, Ignite-NoSql, Couchbase, Haze...   \n",
       "0                                         {H2, HBase}   \n",
       "5   {Snowflake, Firebird, Cassandra, HyperSQL, HBa...   \n",
       "1   {Neo4j, Firebird, Redis, HBase, MS SQL Server,...   \n",
       "3    {Oracle, HBase, PostgreSQL, SAP Adaptive Server}   \n",
       "8                                {Couchbase, CouchDB}   \n",
       "23  {Firebird, Ignite-NoSql, Cassandra, HyperSQL, ...   \n",
       "17      {SAP Adaptive Server, SapHana, MS SQL Server}   \n",
       "18  {MarkLogic, HBase, PostgreSQL, IBM DB2, H2, Te...   \n",
       "21  {SQLite, Redis, HyperSQL, Ignite-NoSql, Hazelc...   \n",
       "25        {SQLite, HBase, Ingres, Teradata, HyperSQL}   \n",
       "10  {SAP Adaptive Server, Ignite-NoSql, HyperSQL, ...   \n",
       "14                    {Google Cloud Datastore, HBase}   \n",
       "27  {SQLite, Neo4j, Cassandra, HyperSQL, Hazelcast...   \n",
       "26  {MarkLogic, Redis, HBase, IBM DB2, H2, MongoDB...   \n",
       "19  {MongoDB, MySQL, Google Cloud Datastore, Realm...   \n",
       "24  {MarkLogic, PostGIS, Redis, HBase, MS SQL Serv...   \n",
       "4   {SAP Adaptive Server, Cassandra, HyperSQL, Ora...   \n",
       "2         {SQLite, Teradata, H2, Cassandra, HyperSQL}   \n",
       "33                            {MS SQL Server, Ingres}   \n",
       "9   {SQLite, Neo4j, CouchDB, Cassandra, Redis, Hyp...   \n",
       "11  {SQLite, Cassandra, Ignite-NoSql, HyperSQL, My...   \n",
       "7   {MongoDB, SQLite, HyperSQL, Influx DB, Hazelca...   \n",
       "12  {SQLite, Google Cloud Datastore, Hazelcast, Dy...   \n",
       "16              {SapHana, SQLite, HyperSQL, Teradata}   \n",
       "22  {SQLite, Cassandra, HyperSQL, Ignite-NoSql, Or...   \n",
       "6                                {Couchbase, CouchDB}   \n",
       "13  {Neo4j, MySQL, MS SQL Server, PostgreSQL, Fire...   \n",
       "32               {Cassandra, Couchbase, Ignite-NoSql}   \n",
       "31                                           {Ingres}   \n",
       "28                                    {HBase, Ingres}   \n",
       "30                              {H2, Oracle, SapHana}   \n",
       "\n",
       "                                             projects  # Replaced DBMSs  \\\n",
       "20                                   {76, 59, 44, 51}                 7   \n",
       "29                                               {39}                 2   \n",
       "15                                       {74, 44, 76}                 5   \n",
       "0                                            {44, 72}                 2   \n",
       "5                                        {68, 44, 62}                11   \n",
       "1      {83, 76, 30, 44, 47, 188, 72, 59, 159, 57, 69}                18   \n",
       "3                                        {44, 76, 59}                 4   \n",
       "8                                                {76}                 2   \n",
       "23                              {72, 159, 59, 74, 44}                12   \n",
       "17                                         {154, 151}                 3   \n",
       "18  {68, 208, 220, 27, 33, 92, 112, 44, 47, 132, 1...                18   \n",
       "21  {68, 113, 212, 76, 33, 112, 44, 45, 210, 133, ...                15   \n",
       "25                                     {112, 44, 151}                 5   \n",
       "10                         {151, 59, 205, 74, 44, 45}                11   \n",
       "14                                           {44, 59}                 2   \n",
       "27  {38, 68, 3, 219, 112, 44, 210, 47, 188, 205, 1...                15   \n",
       "26  {68, 23, 208, 33, 86, 219, 44, 47, 64, 100, 21...                17   \n",
       "19                                     {47, 212, 147}                 5   \n",
       "24  {38, 23, 68, 208, 48, 83, 13, 99, 47, 147, 138...                17   \n",
       "4                           {47, 72, 76, 59, 44, 133}                10   \n",
       "2                                           {47, 112}                 5   \n",
       "33                                         {113, 114}                 2   \n",
       "9   {208, 68, 33, 3, 44, 210, 47, 188, 73, 163, 10...                15   \n",
       "11                              {27, 76, 59, 112, 44}                10   \n",
       "7                          {208, 59, 44, 81, 39, 180}                 9   \n",
       "12   {68, 171, 48, 160, 219, 112, 44, 39, 0, 109, 69}                11   \n",
       "16                                         {112, 154}                 4   \n",
       "22  {23, 33, 48, 86, 44, 47, 188, 231, 100, 169, 1...                13   \n",
       "6                                                {76}                 2   \n",
       "13                            {148, 188, 48, 86, 151}                 7   \n",
       "32                                               {59}                 3   \n",
       "31                                              {113}                 1   \n",
       "28                                              {151}                 2   \n",
       "30                                    {154, 231, 194}                 3   \n",
       "\n",
       "    # Projects  % Projects  \n",
       "20           4    0.571429  \n",
       "29           1    0.500000  \n",
       "15           3    0.428571  \n",
       "0            2    0.400000  \n",
       "5            3    0.375000  \n",
       "1           11    0.354839  \n",
       "3            3    0.333333  \n",
       "8            1    0.333333  \n",
       "23           5    0.294118  \n",
       "17           2    0.285714  \n",
       "18          19    0.283582  \n",
       "21          14    0.274510  \n",
       "25           3    0.272727  \n",
       "10           6    0.250000  \n",
       "14           2    0.250000  \n",
       "27          22    0.244444  \n",
       "26          24    0.235294  \n",
       "19           3    0.230769  \n",
       "24          19    0.202128  \n",
       "4            6    0.181818  \n",
       "2            2    0.181818  \n",
       "33           2    0.181818  \n",
       "9           19    0.166667  \n",
       "11           5    0.147059  \n",
       "7            6    0.139535  \n",
       "12          11    0.135802  \n",
       "16           2    0.133333  \n",
       "22          18    0.131387  \n",
       "6            1    0.125000  \n",
       "13           5    0.121951  \n",
       "32           1    0.111111  \n",
       "31           1    0.090909  \n",
       "28           1    0.083333  \n",
       "30           3    0.075000  "
      ]
     },
     "execution_count": 9,
     "metadata": {},
     "output_type": "execute_result"
    }
   ],
   "source": [
    "df5 = df.groupby([\"Y\"], as_index=False).agg(replacements=(\"X\", union_values), projects=(\"LinesSet\", union_sets))\n",
    "df5[\"# Replaced DBMSs\"] = df5[\"replacements\"].apply(len)\n",
    "df5.rename(columns={\"Y\": \"Replacer DBMS\"}, inplace=True)\n",
    "df5[\"# Projects\"] = df5[\"projects\"].apply(len)\n",
    "df5[\"% Projects\"] = df5.apply(lambda row: row[\"# Projects\"] / dbms_counts[row[\"Replacer DBMS\"]], axis=1)\n",
    "df5.sort_values([\"% Projects\", \"# Replaced DBMSs\", \"# Projects\"], inplace=True, ascending=False)\n",
    "dbms_replaced_count = df5.set_index(\"Replacer DBMS\")[\"# Replaced DBMSs\"].to_dict()\n",
    "dbms_replaced_in_projects = df5.set_index(\"Replacer DBMS\")[\"# Projects\"].to_dict()\n",
    "df5"
   ]
  },
  {
   "cell_type": "code",
   "execution_count": 10,
   "id": "f94e62f3-f0a3-4611-8c11-d17549894d4d",
   "metadata": {},
   "outputs": [],
   "source": [
    "assert set(df5.set_index(\"Replacer DBMS\")[\"# Replaced DBMSs\"].nlargest(2).index) == {'Cassandra', 'MS SQL Server'}, \"Paper: Some DBMSs replaced many distinct DBMSs. For instance, MS SQL Server and Cassandra replaced, each, 18 distinct DBMSs in 19 and 11 projects, respectively. However, from the viewpoint of the number of projects where the replacement occurred,\"\n",
    "assert list(df5.set_index(\"Replacer DBMS\")[\"# Replaced DBMSs\"].nlargest(2).unique()) == [18], \"Paper: Some DBMSs replaced many distinct DBMSs. For instance, MS SQL Server and Cassandra replaced, each, 18 distinct DBMSs in 19 and 11 projects, respectively. However, from the viewpoint of the number of projects where the replacement occurred,\"\n",
    "assert dbms_replaced_in_projects[\"Cassandra\"] == 11, \"Paper: Some DBMSs replaced many distinct DBMSs. For instance, MS SQL Server and Cassandra replaced, each, 18 distinct DBMSs in 19 and 11 projects, respectively. However, from the viewpoint of the number of projects where the replacement occurred,\"\n",
    "assert dbms_replaced_in_projects[\"MS SQL Server\"] == 19, \"Paper: Some DBMSs replaced many distinct DBMSs. For instance, MS SQL Server and Cassandra replaced, each, 18 distinct DBMSs in 19 and 11 projects, respectively. However, from the viewpoint of the number of projects where the replacement occurred,\""
   ]
  },
  {
   "cell_type": "code",
   "execution_count": 11,
   "id": "e53f893a-43f7-4a4d-985d-0dd8e51619ca",
   "metadata": {},
   "outputs": [],
   "source": [
    "assert dbms_replaced_in_projects[\"Redis\"] == 22, r\"Paper: Redis \\new{(which replaced 15 DBMSs in 22 projects)}\"\n",
    "assert dbms_replaced_count[\"Redis\"] == 15, r\"Paper: Redis \\new{(which replaced 15 DBMSs in 22 projects)}\"\n",
    "assert dbms_replaced_in_projects[\"PostgreSQL\"] == 24, r\"Paper: PostgreSQL \\new{(which replaced 17 DBMSs in 24 projects)}\"\n",
    "assert dbms_replaced_count[\"PostgreSQL\"] == 17, r\"Paper: PostgreSQL \\new{(which replaced 17 DBMSs in 24 projects)}\"\n",
    "assert list(df5.set_index(\"Replacer DBMS\")[\"# Projects\"].nlargest(2).index) == [\"PostgreSQL\", \"Redis\"], r\"Paper: However, from the viewpoint of the number of projects where the replacement occurred,} the DBMSs most chosen to replace others with are Redis \\new{(which replaced 15 DBMSs in 22 projects)} and PostgreSQL \\new{(which replaced 17 DBMSs in 24 projects)}.\"\n",
    "assert list(df5.set_index(\"Replacer DBMS\")[\"# Projects\"].nlargest(2).index) == [\"PostgreSQL\", \"Redis\"], r\"Paper: Also, considering just the \\new{number of projects}, we found Redis and PostgreSQL among the most used as a replacement\""
   ]
  },
  {
   "cell_type": "code",
   "execution_count": 12,
   "id": "a2687f62-5d19-470a-b29b-63e25c02fd98",
   "metadata": {
    "tags": []
   },
   "outputs": [
    {
     "name": "stdout",
     "output_type": "stream",
     "text": [
      "\\begin{tabular}{lrrr}\n",
      "\\hline\n",
      "\\multicolumn{1}{l}{\\textbf{Replacer DBMS}} & \\multicolumn{1}{r}{\\textbf{\\# Replaced DBMSs}} & \\multicolumn{1}{c}{\\textbf{\\# Projects}} & \\textbf{\\% Projects} \\\\\n",
      "\\hline\n",
      "Microsoft Azure CosmosDB & 7 & 4 & 57.1\\% \\\\\n",
      "SAP SQL Anywhere & 2 & 1 & 50.0\\% \\\\\n",
      "Influx DB & 5 & 3 & 42.9\\% \\\\\n",
      "ArangoDB & 2 & 2 & 40.0\\% \\\\\n",
      "Etcd & 11 & 3 & 37.5\\% \\\\\n",
      "Cassandra & 18 & 11 & 35.5\\% \\\\\n",
      "Couchbase & 4 & 3 & 33.3\\% \\\\\n",
      "GoogleCloudFirestore & 2 & 1 & 33.3\\% \\\\\n",
      "Neo4j & 12 & 5 & 29.4\\% \\\\\n",
      "Ingres & 3 & 2 & 28.6\\% \\\\\n",
      "MS SQL Server & 18 & 19 & 28.4\\% \\\\\n",
      "MongoDB & 15 & 14 & 27.5\\% \\\\\n",
      "PostGIS & 5 & 3 & 27.3\\% \\\\\n",
      "HBase & 11 & 6 & 25.0\\% \\\\\n",
      "Ignite-NoSql & 2 & 2 & 25.0\\% \\\\\n",
      "Redis & 15 & 22 & 24.4\\% \\\\\n",
      "PostgreSQL & 17 & 24 & 23.5\\% \\\\\n",
      "MarkLogic & 5 & 3 & 23.1\\% \\\\\n",
      "Oracle & 17 & 19 & 20.2\\% \\\\\n",
      "DynamoDB & 10 & 6 & 18.2\\% \\\\\n",
      "ClickHouse & 5 & 2 & 18.2\\% \\\\\n",
      "Teradata & 2 & 2 & 18.2\\% \\\\\n",
      "H2 & 15 & 19 & 16.7\\% \\\\\n",
      "Hazelcast & 10 & 5 & 14.7\\% \\\\\n",
      "Google Cloud Datastore & 9 & 6 & 14.0\\% \\\\\n",
      "HyperSQL & 11 & 11 & 13.6\\% \\\\\n",
      "Informix & 4 & 2 & 13.3\\% \\\\\n",
      "MySQL & 13 & 18 & 13.1\\% \\\\\n",
      "Firebase Realtime & 2 & 1 & 12.5\\% \\\\\n",
      "IBM DB2 & 7 & 5 & 12.2\\% \\\\\n",
      "Snowflake & 3 & 1 & 11.1\\% \\\\\n",
      "SapHana & 1 & 1 & 9.1\\% \\\\\n",
      "SAP Adaptive Server & 2 & 1 & 8.3\\% \\\\\n",
      "SQLite & 3 & 3 & 7.5\\% \\\\\n",
      "\\hline\n",
      "\\end{tabular}\n",
      "\n"
     ]
    }
   ],
   "source": [
    "columns = [\"Replacer DBMS\", \"# Replaced DBMSs\", \"# Projects\", \"% Projects\"]\n",
    "result = df5[columns].to_latex(index=False, float_format=\"{:.1%}\".format)\n",
    "result = result.replace(\"%\", \"\\\\%\")\n",
    "result = re.sub(r\"\\\\toprule\\n.*\\n\\\\midrule\", r\"\"\"\\\\hline\n",
    "\\\\multicolumn{1}{l}{\\\\textbf{Replacer DBMS}} & \\\\multicolumn{1}{r}{\\\\textbf{\\\\# Replaced DBMSs}} & \\\\multicolumn{1}{c}{\\\\textbf{\\\\# Projects}} & \\\\textbf{\\\\% Projects} \\\\\\\\\n",
    "\\\\hline\"\"\", result, flags=re.MULTILINE).replace(r'\\bottomrule', r'\\hline')\n",
    "#result = result.replace(r'<\\#i\\#>', r'\\textbf{').replace(r'<\\#f\\#>', r'}').replace(r'\\toprule', r'\\hline').replace(r'\\midrule', r'\\hline').replace(r'\\bottomrule', r'\\hline')\n",
    "print(result)\n",
    "with open(IMAGES_DIR + os.sep + \"substitutes.tex\", \"w\") as f:\n",
    "    f.write(result)"
   ]
  },
  {
   "cell_type": "markdown",
   "id": "972e509a-a24c-4547-8d16-a20c1ac9bbe8",
   "metadata": {
    "tags": []
   },
   "source": [
    "### Replacement patterns table"
   ]
  },
  {
   "cell_type": "markdown",
   "id": "5a59dd08-36d5-43a8-bf37-42f7da151483",
   "metadata": {},
   "source": [
    "Remove rules with support < 3"
   ]
  },
  {
   "cell_type": "code",
   "execution_count": 13,
   "id": "3651ce24-b87a-498f-89d9-2bfb3bc175a7",
   "metadata": {
    "tags": []
   },
   "outputs": [
    {
     "data": {
      "text/html": [
       "<div>\n",
       "<style scoped>\n",
       "    .dataframe tbody tr th:only-of-type {\n",
       "        vertical-align: middle;\n",
       "    }\n",
       "\n",
       "    .dataframe tbody tr th {\n",
       "        vertical-align: top;\n",
       "    }\n",
       "\n",
       "    .dataframe thead th {\n",
       "        text-align: right;\n",
       "    }\n",
       "</style>\n",
       "<table border=\"1\" class=\"dataframe\">\n",
       "  <thead>\n",
       "    <tr style=\"text-align: right;\">\n",
       "      <th></th>\n",
       "      <th>Name</th>\n",
       "      <th>Support</th>\n",
       "      <th>Line Count</th>\n",
       "      <th>Lines</th>\n",
       "      <th>Bindings</th>\n",
       "      <th>Source</th>\n",
       "      <th>X</th>\n",
       "      <th>Y</th>\n",
       "      <th>LinesSet</th>\n",
       "      <th>X Model</th>\n",
       "      <th>Y Model</th>\n",
       "    </tr>\n",
       "  </thead>\n",
       "  <tbody>\n",
       "    <tr>\n",
       "      <th>93</th>\n",
       "      <td>Cassandra -&gt; InPostgreSQL -&gt; OutCassandra &amp; Po...</td>\n",
       "      <td>0.012876</td>\n",
       "      <td>3</td>\n",
       "      <td>59; 5; 47</td>\n",
       "      <td>X = Cassandra; Y = PostgreSQL</td>\n",
       "      <td>X -&gt; InY -&gt; OutX &amp; Y -v X -v Y</td>\n",
       "      <td>Cassandra</td>\n",
       "      <td>PostgreSQL</td>\n",
       "      <td>{47, 5, 59}</td>\n",
       "      <td>Non Relational</td>\n",
       "      <td>Relational</td>\n",
       "    </tr>\n",
       "    <tr>\n",
       "      <th>187</th>\n",
       "      <td>Cassandra -&gt; InMS_SQL_Server -&gt; OutCassandra &amp;...</td>\n",
       "      <td>0.012876</td>\n",
       "      <td>3</td>\n",
       "      <td>68; 69; 47</td>\n",
       "      <td>X = Cassandra; Y = MS_SQL_Server</td>\n",
       "      <td>X -&gt; InY -&gt; OutX &amp; Y -v X -v Y</td>\n",
       "      <td>Cassandra</td>\n",
       "      <td>MS SQL Server</td>\n",
       "      <td>{68, 47, 69}</td>\n",
       "      <td>Non Relational</td>\n",
       "      <td>Relational</td>\n",
       "    </tr>\n",
       "    <tr>\n",
       "      <th>219</th>\n",
       "      <td>Couchbase -&gt; InPostgreSQL -&gt; OutCouchbase &amp; Po...</td>\n",
       "      <td>0.012876</td>\n",
       "      <td>3</td>\n",
       "      <td>208; 59; 76</td>\n",
       "      <td>X = Couchbase; Y = PostgreSQL</td>\n",
       "      <td>X -&gt; InY -&gt; OutX &amp; Y -v X -v Y</td>\n",
       "      <td>Couchbase</td>\n",
       "      <td>PostgreSQL</td>\n",
       "      <td>{208, 76, 59}</td>\n",
       "      <td>Non Relational</td>\n",
       "      <td>Relational</td>\n",
       "    </tr>\n",
       "    <tr>\n",
       "      <th>182</th>\n",
       "      <td>HBase -&gt; InHyperSQL -&gt; OutHBase &amp; HyperSQL</td>\n",
       "      <td>0.017167</td>\n",
       "      <td>4</td>\n",
       "      <td>48; 44; 68; 39</td>\n",
       "      <td>X = HBase; Y = HyperSQL</td>\n",
       "      <td>X -&gt; InY -&gt; OutX &amp; Y -v X -v Y</td>\n",
       "      <td>HBase</td>\n",
       "      <td>HyperSQL</td>\n",
       "      <td>{68, 44, 48, 39}</td>\n",
       "      <td>Non Relational</td>\n",
       "      <td>Relational</td>\n",
       "    </tr>\n",
       "    <tr>\n",
       "      <th>120</th>\n",
       "      <td>HBase -&gt; InH2 -&gt; OutHBase &amp; H2</td>\n",
       "      <td>0.012876</td>\n",
       "      <td>3</td>\n",
       "      <td>44; 68; 39</td>\n",
       "      <td>X = HBase; Y = H2</td>\n",
       "      <td>X -&gt; InY -&gt; OutX &amp; Y -v X -v Y</td>\n",
       "      <td>HBase</td>\n",
       "      <td>H2</td>\n",
       "      <td>{68, 44, 39}</td>\n",
       "      <td>Non Relational</td>\n",
       "      <td>Relational</td>\n",
       "    </tr>\n",
       "    <tr>\n",
       "      <th>181</th>\n",
       "      <td>HBase -&gt; InMS_SQL_Server -&gt; OutHBase &amp; MS_SQL_...</td>\n",
       "      <td>0.012876</td>\n",
       "      <td>3</td>\n",
       "      <td>151; 44; 68</td>\n",
       "      <td>X = HBase; Y = MS_SQL_Server</td>\n",
       "      <td>X -&gt; InY -&gt; OutX &amp; Y -v X -v Y</td>\n",
       "      <td>HBase</td>\n",
       "      <td>MS SQL Server</td>\n",
       "      <td>{68, 44, 151}</td>\n",
       "      <td>Non Relational</td>\n",
       "      <td>Relational</td>\n",
       "    </tr>\n",
       "    <tr>\n",
       "      <th>183</th>\n",
       "      <td>HBase -&gt; InRedis -&gt; OutHBase &amp; Redis</td>\n",
       "      <td>0.012876</td>\n",
       "      <td>3</td>\n",
       "      <td>151; 44; 68</td>\n",
       "      <td>X = HBase; Y = Redis</td>\n",
       "      <td>X -&gt; InY -&gt; OutX &amp; Y -v X -v Y</td>\n",
       "      <td>HBase</td>\n",
       "      <td>Redis</td>\n",
       "      <td>{68, 44, 151}</td>\n",
       "      <td>Non Relational</td>\n",
       "      <td>Non Relational</td>\n",
       "    </tr>\n",
       "    <tr>\n",
       "      <th>78</th>\n",
       "      <td>Hazelcast -&gt; InHyperSQL -&gt; OutHazelcast &amp; Hype...</td>\n",
       "      <td>0.012876</td>\n",
       "      <td>3</td>\n",
       "      <td>0; 219; 109</td>\n",
       "      <td>X = Hazelcast; Y = HyperSQL</td>\n",
       "      <td>X -&gt; InY -&gt; OutX &amp; Y -v X -v Y</td>\n",
       "      <td>Hazelcast</td>\n",
       "      <td>HyperSQL</td>\n",
       "      <td>{219, 109, 0}</td>\n",
       "      <td>Non Relational</td>\n",
       "      <td>Relational</td>\n",
       "    </tr>\n",
       "    <tr>\n",
       "      <th>83</th>\n",
       "      <td>HyperSQL -&gt; InRedis -&gt; OutHyperSQL &amp; Redis</td>\n",
       "      <td>0.034335</td>\n",
       "      <td>8</td>\n",
       "      <td>3; 38; 44; 112; 210; 115; 20; 219</td>\n",
       "      <td>X = HyperSQL; Y = Redis</td>\n",
       "      <td>X -&gt; InY -&gt; OutX &amp; Y -v X -v Y</td>\n",
       "      <td>HyperSQL</td>\n",
       "      <td>Redis</td>\n",
       "      <td>{38, 3, 112, 219, 44, 210, 20, 115}</td>\n",
       "      <td>Relational</td>\n",
       "      <td>Non Relational</td>\n",
       "    </tr>\n",
       "    <tr>\n",
       "      <th>62</th>\n",
       "      <td>HyperSQL -&gt; InPostgreSQL -&gt; OutHyperSQL &amp; Post...</td>\n",
       "      <td>0.021459</td>\n",
       "      <td>5</td>\n",
       "      <td>0; 100; 148; 86; 109</td>\n",
       "      <td>X = HyperSQL; Y = PostgreSQL</td>\n",
       "      <td>X -&gt; InY -&gt; OutX &amp; Y -v X -v Y</td>\n",
       "      <td>HyperSQL</td>\n",
       "      <td>PostgreSQL</td>\n",
       "      <td>{86, 148, 109, 0, 100}</td>\n",
       "      <td>Relational</td>\n",
       "      <td>Relational</td>\n",
       "    </tr>\n",
       "    <tr>\n",
       "      <th>64</th>\n",
       "      <td>HyperSQL -&gt; InMySQL -&gt; OutHyperSQL &amp; MySQL</td>\n",
       "      <td>0.021459</td>\n",
       "      <td>5</td>\n",
       "      <td>48; 100; 148; 86; 188</td>\n",
       "      <td>X = HyperSQL; Y = MySQL</td>\n",
       "      <td>X -&gt; InY -&gt; OutX &amp; Y -v X -v Y</td>\n",
       "      <td>HyperSQL</td>\n",
       "      <td>MySQL</td>\n",
       "      <td>{48, 86, 148, 188, 100}</td>\n",
       "      <td>Relational</td>\n",
       "      <td>Relational</td>\n",
       "    </tr>\n",
       "    <tr>\n",
       "      <th>102</th>\n",
       "      <td>HyperSQL -&gt; InMongoDB -&gt; OutHyperSQL &amp; MongoDB</td>\n",
       "      <td>0.017167</td>\n",
       "      <td>4</td>\n",
       "      <td>112; 210; 44; 133</td>\n",
       "      <td>X = HyperSQL; Y = MongoDB</td>\n",
       "      <td>X -&gt; InY -&gt; OutX &amp; Y -v X -v Y</td>\n",
       "      <td>HyperSQL</td>\n",
       "      <td>MongoDB</td>\n",
       "      <td>{112, 44, 133, 210}</td>\n",
       "      <td>Relational</td>\n",
       "      <td>Non Relational</td>\n",
       "    </tr>\n",
       "    <tr>\n",
       "      <th>67</th>\n",
       "      <td>HyperSQL -&gt; InH2 -&gt; OutHyperSQL &amp; H2</td>\n",
       "      <td>0.012876</td>\n",
       "      <td>3</td>\n",
       "      <td>210; 188; 100</td>\n",
       "      <td>X = HyperSQL; Y = H2</td>\n",
       "      <td>X -&gt; InY -&gt; OutX &amp; Y -v X -v Y</td>\n",
       "      <td>HyperSQL</td>\n",
       "      <td>H2</td>\n",
       "      <td>{100, 188, 210}</td>\n",
       "      <td>Relational</td>\n",
       "      <td>Relational</td>\n",
       "    </tr>\n",
       "    <tr>\n",
       "      <th>82</th>\n",
       "      <td>MySQL -&gt; InRedis -&gt; OutMySQL &amp; Redis</td>\n",
       "      <td>0.012876</td>\n",
       "      <td>3</td>\n",
       "      <td>136; 57; 212</td>\n",
       "      <td>X = MySQL; Y = Redis</td>\n",
       "      <td>X -&gt; InY -&gt; OutX &amp; Y -v X -v Y</td>\n",
       "      <td>MySQL</td>\n",
       "      <td>Redis</td>\n",
       "      <td>{136, 212, 57}</td>\n",
       "      <td>Relational</td>\n",
       "      <td>Non Relational</td>\n",
       "    </tr>\n",
       "    <tr>\n",
       "      <th>70</th>\n",
       "      <td>Oracle -&gt; InMySQL -&gt; OutOracle &amp; MySQL</td>\n",
       "      <td>0.012876</td>\n",
       "      <td>3</td>\n",
       "      <td>231; 52; 23</td>\n",
       "      <td>X = Oracle; Y = MySQL</td>\n",
       "      <td>X -&gt; InY -&gt; OutX &amp; Y -v X -v Y</td>\n",
       "      <td>Oracle</td>\n",
       "      <td>MySQL</td>\n",
       "      <td>{23, 231, 52}</td>\n",
       "      <td>Relational</td>\n",
       "      <td>Relational</td>\n",
       "    </tr>\n",
       "    <tr>\n",
       "      <th>1</th>\n",
       "      <td>PostgreSQL -&gt; InOracle &amp; OutPostgreSQL -&gt; Oracle</td>\n",
       "      <td>0.012876</td>\n",
       "      <td>3</td>\n",
       "      <td>76; 13; 23</td>\n",
       "      <td>X = PostgreSQL; Y = Oracle</td>\n",
       "      <td>X -&gt; InY &amp; OutX -&gt; Y -v X -v Y</td>\n",
       "      <td>PostgreSQL</td>\n",
       "      <td>Oracle</td>\n",
       "      <td>{13, 23, 76}</td>\n",
       "      <td>Relational</td>\n",
       "      <td>Relational</td>\n",
       "    </tr>\n",
       "    <tr>\n",
       "      <th>143</th>\n",
       "      <td>SQLite -&gt; InH2 -&gt; OutSQLite &amp; H2</td>\n",
       "      <td>0.017167</td>\n",
       "      <td>4</td>\n",
       "      <td>163; 156; 171; 39</td>\n",
       "      <td>X = SQLite; Y = H2</td>\n",
       "      <td>X -&gt; InY -&gt; OutX &amp; Y -v X -v Y</td>\n",
       "      <td>SQLite</td>\n",
       "      <td>H2</td>\n",
       "      <td>{39, 156, 171, 163}</td>\n",
       "      <td>Relational</td>\n",
       "      <td>Relational</td>\n",
       "    </tr>\n",
       "    <tr>\n",
       "      <th>140</th>\n",
       "      <td>SQLite -&gt; InMS_SQL_Server -&gt; OutSQLite &amp; MS_SQ...</td>\n",
       "      <td>0.012876</td>\n",
       "      <td>3</td>\n",
       "      <td>112; 27; 39</td>\n",
       "      <td>X = SQLite; Y = MS_SQL_Server</td>\n",
       "      <td>X -&gt; InY -&gt; OutX &amp; Y -v X -v Y</td>\n",
       "      <td>SQLite</td>\n",
       "      <td>MS SQL Server</td>\n",
       "      <td>{112, 27, 39}</td>\n",
       "      <td>Relational</td>\n",
       "      <td>Relational</td>\n",
       "    </tr>\n",
       "  </tbody>\n",
       "</table>\n",
       "</div>"
      ],
      "text/plain": [
       "                                                  Name   Support  Line Count  \\\n",
       "93   Cassandra -> InPostgreSQL -> OutCassandra & Po...  0.012876           3   \n",
       "187  Cassandra -> InMS_SQL_Server -> OutCassandra &...  0.012876           3   \n",
       "219  Couchbase -> InPostgreSQL -> OutCouchbase & Po...  0.012876           3   \n",
       "182         HBase -> InHyperSQL -> OutHBase & HyperSQL  0.017167           4   \n",
       "120                     HBase -> InH2 -> OutHBase & H2  0.012876           3   \n",
       "181  HBase -> InMS_SQL_Server -> OutHBase & MS_SQL_...  0.012876           3   \n",
       "183               HBase -> InRedis -> OutHBase & Redis  0.012876           3   \n",
       "78   Hazelcast -> InHyperSQL -> OutHazelcast & Hype...  0.012876           3   \n",
       "83          HyperSQL -> InRedis -> OutHyperSQL & Redis  0.034335           8   \n",
       "62   HyperSQL -> InPostgreSQL -> OutHyperSQL & Post...  0.021459           5   \n",
       "64          HyperSQL -> InMySQL -> OutHyperSQL & MySQL  0.021459           5   \n",
       "102     HyperSQL -> InMongoDB -> OutHyperSQL & MongoDB  0.017167           4   \n",
       "67                HyperSQL -> InH2 -> OutHyperSQL & H2  0.012876           3   \n",
       "82                MySQL -> InRedis -> OutMySQL & Redis  0.012876           3   \n",
       "70              Oracle -> InMySQL -> OutOracle & MySQL  0.012876           3   \n",
       "1     PostgreSQL -> InOracle & OutPostgreSQL -> Oracle  0.012876           3   \n",
       "143                   SQLite -> InH2 -> OutSQLite & H2  0.017167           4   \n",
       "140  SQLite -> InMS_SQL_Server -> OutSQLite & MS_SQ...  0.012876           3   \n",
       "\n",
       "                                 Lines                          Bindings  \\\n",
       "93                           59; 5; 47     X = Cassandra; Y = PostgreSQL   \n",
       "187                         68; 69; 47  X = Cassandra; Y = MS_SQL_Server   \n",
       "219                        208; 59; 76     X = Couchbase; Y = PostgreSQL   \n",
       "182                     48; 44; 68; 39           X = HBase; Y = HyperSQL   \n",
       "120                         44; 68; 39                 X = HBase; Y = H2   \n",
       "181                        151; 44; 68      X = HBase; Y = MS_SQL_Server   \n",
       "183                        151; 44; 68              X = HBase; Y = Redis   \n",
       "78                         0; 219; 109       X = Hazelcast; Y = HyperSQL   \n",
       "83   3; 38; 44; 112; 210; 115; 20; 219           X = HyperSQL; Y = Redis   \n",
       "62                0; 100; 148; 86; 109      X = HyperSQL; Y = PostgreSQL   \n",
       "64               48; 100; 148; 86; 188           X = HyperSQL; Y = MySQL   \n",
       "102                  112; 210; 44; 133         X = HyperSQL; Y = MongoDB   \n",
       "67                       210; 188; 100              X = HyperSQL; Y = H2   \n",
       "82                        136; 57; 212              X = MySQL; Y = Redis   \n",
       "70                         231; 52; 23             X = Oracle; Y = MySQL   \n",
       "1                           76; 13; 23        X = PostgreSQL; Y = Oracle   \n",
       "143                  163; 156; 171; 39                X = SQLite; Y = H2   \n",
       "140                        112; 27; 39     X = SQLite; Y = MS_SQL_Server   \n",
       "\n",
       "                             Source           X              Y  \\\n",
       "93   X -> InY -> OutX & Y -v X -v Y   Cassandra     PostgreSQL   \n",
       "187  X -> InY -> OutX & Y -v X -v Y   Cassandra  MS SQL Server   \n",
       "219  X -> InY -> OutX & Y -v X -v Y   Couchbase     PostgreSQL   \n",
       "182  X -> InY -> OutX & Y -v X -v Y       HBase       HyperSQL   \n",
       "120  X -> InY -> OutX & Y -v X -v Y       HBase             H2   \n",
       "181  X -> InY -> OutX & Y -v X -v Y       HBase  MS SQL Server   \n",
       "183  X -> InY -> OutX & Y -v X -v Y       HBase          Redis   \n",
       "78   X -> InY -> OutX & Y -v X -v Y   Hazelcast       HyperSQL   \n",
       "83   X -> InY -> OutX & Y -v X -v Y    HyperSQL          Redis   \n",
       "62   X -> InY -> OutX & Y -v X -v Y    HyperSQL     PostgreSQL   \n",
       "64   X -> InY -> OutX & Y -v X -v Y    HyperSQL          MySQL   \n",
       "102  X -> InY -> OutX & Y -v X -v Y    HyperSQL        MongoDB   \n",
       "67   X -> InY -> OutX & Y -v X -v Y    HyperSQL             H2   \n",
       "82   X -> InY -> OutX & Y -v X -v Y       MySQL          Redis   \n",
       "70   X -> InY -> OutX & Y -v X -v Y      Oracle          MySQL   \n",
       "1    X -> InY & OutX -> Y -v X -v Y  PostgreSQL         Oracle   \n",
       "143  X -> InY -> OutX & Y -v X -v Y      SQLite             H2   \n",
       "140  X -> InY -> OutX & Y -v X -v Y      SQLite  MS SQL Server   \n",
       "\n",
       "                                LinesSet         X Model         Y Model  \n",
       "93                           {47, 5, 59}  Non Relational      Relational  \n",
       "187                         {68, 47, 69}  Non Relational      Relational  \n",
       "219                        {208, 76, 59}  Non Relational      Relational  \n",
       "182                     {68, 44, 48, 39}  Non Relational      Relational  \n",
       "120                         {68, 44, 39}  Non Relational      Relational  \n",
       "181                        {68, 44, 151}  Non Relational      Relational  \n",
       "183                        {68, 44, 151}  Non Relational  Non Relational  \n",
       "78                         {219, 109, 0}  Non Relational      Relational  \n",
       "83   {38, 3, 112, 219, 44, 210, 20, 115}      Relational  Non Relational  \n",
       "62                {86, 148, 109, 0, 100}      Relational      Relational  \n",
       "64               {48, 86, 148, 188, 100}      Relational      Relational  \n",
       "102                  {112, 44, 133, 210}      Relational  Non Relational  \n",
       "67                       {100, 188, 210}      Relational      Relational  \n",
       "82                        {136, 212, 57}      Relational  Non Relational  \n",
       "70                         {23, 231, 52}      Relational      Relational  \n",
       "1                           {13, 23, 76}      Relational      Relational  \n",
       "143                  {39, 156, 171, 163}      Relational      Relational  \n",
       "140                        {112, 27, 39}      Relational      Relational  "
      ]
     },
     "execution_count": 13,
     "metadata": {},
     "output_type": "execute_result"
    }
   ],
   "source": [
    "df2 = df.drop(df[df[\"Line Count\"] < 3].index).copy()\n",
    "df2 = df2.sort_values(by=[\"X\", \"Line Count\"], ascending=[True, False])\n",
    "df2"
   ]
  },
  {
   "cell_type": "code",
   "execution_count": 14,
   "id": "19e03758-d7ef-4456-ac38-74ca8fdfb41f",
   "metadata": {
    "tags": []
   },
   "outputs": [
    {
     "name": "stdout",
     "output_type": "stream",
     "text": [
      "Number of replacements: 18\n"
     ]
    }
   ],
   "source": [
    "print(\"Number of replacements:\", var(\"rq3_replacements\", len(df2)))"
   ]
  },
  {
   "cell_type": "code",
   "execution_count": 15,
   "id": "c715c76d-6b4d-4d5a-875c-3eac560a03f2",
   "metadata": {
    "tags": []
   },
   "outputs": [
    {
     "name": "stderr",
     "output_type": "stream",
     "text": [
      "/tmp/ipykernel_5048/4112828879.py:10: FutureWarning: A value is trying to be set on a copy of a DataFrame or Series through chained assignment using an inplace method.\n",
      "The behavior will change in pandas 3.0. This inplace method will never work because the intermediate object on which we are setting values always behaves as a copy.\n",
      "\n",
      "For example, when doing 'df[col].method(value, inplace=True)', try using 'df.method({col: value}, inplace=True)' or df[col] = df[col].method(value) instead, to perform the operation inplace on the original object.\n",
      "\n",
      "\n",
      "  subdf[\"Name\"].replace({\n"
     ]
    }
   ],
   "source": [
    "latex_table = [\n",
    "   # r\"\\begin{tabular}{lrr}\",\n",
    "    r\"\\begin{tabular}{lr}\",\n",
    "    r\"\\hline\",\n",
    "   # r\"\\textbf{Pattern} & \\textbf{Support} & \\textbf{Total}\\\\\",\n",
    "    r\"\\textbf{Pattern} & \\textbf{Support} \\\\\",\n",
    "    r\"\\hline\"\n",
    "]\n",
    "for group, subdf in df2.groupby(\"X\"):\n",
    "    subdf[\"Name\"].replace({\n",
    "        \"->\" : r\"$\\\\rightarrow$\",\n",
    "        \"([^{])In(.+?) \": r\"\\1\\2$_{In}$ \",\n",
    "        \"([^{])In(.+?)$\": r\"\\1\\2$_{In}$\",\n",
    "        \"([^{])Out(.+?) \": r\"\\1\\2$_{Out}$ \",\n",
    "        \"([^{])Out(.+?)$\": r\"\\1\\2$_{Out}$\",\n",
    "        \"([^$])_\": r\"\\1 \",\n",
    "        \"&\": r\"  \",\n",
    "    }, regex=True, inplace=True)\n",
    "    for i, (_, row) in enumerate(subdf.iterrows()):\n",
    "        values = [row[\"Name\"], str(row[\"Line Count\"])]\n",
    "        #if i == 0:\n",
    "        #    total = dbms_was_replaced_count[row[\"X\"]]\n",
    "        #    # total = subdf['Line Count'].sum() # Sum only filtered\n",
    "        #    values.append(f\"\\\\multirow{{{len(subdf)}}}{{*}}{{{total}}}\")\n",
    "        #else:\n",
    "        #    values.append(\"\")\n",
    "        latex_table.append(\" & \".join(values) + r\" \\\\\")\n",
    "    latex_table.append(r\"\\hline\")\n",
    "latex_table.append(r\"\\end{tabular}\")\n",
    "\n",
    "with open(IMAGES_DIR + os.sep + \"patterns.tex\", \"w\") as f:\n",
    "    f.write(\"\\n\".join(latex_table) + \"\\n\")"
   ]
  },
  {
   "cell_type": "code",
   "execution_count": 16,
   "id": "e36c3422-45bf-4e80-8b59-1e22ba5cb3ee",
   "metadata": {
    "tags": []
   },
   "outputs": [],
   "source": [
    "assert df[df[\"Name\"] == \"PostgreSQL -> InOracle & OutPostgreSQL -> Oracle\"][\"Line Count\"].to_list() == [3], \"Paper: 'An example is the pattern \\textbf{$PostgreSQL \\rightarrow Oracle_{In}$ $PostgreSQL_{Out} \\rightarrow$} \\textbf{$Oracle$} with support = 3. This indicates that three projects used PostgreSQL, then in a later slice started using Oracle and stopped using PostgreSQL, maintaining  Oracle in a later slice.'\""
   ]
  },
  {
   "cell_type": "code",
   "execution_count": 17,
   "id": "35bae371-48a7-4c06-8a9e-06905e716ab9",
   "metadata": {
    "tags": []
   },
   "outputs": [],
   "source": [
    "assert df[df[\"Name\"] == \"HyperSQL -> InRedis -> OutHyperSQL & Redis\"][\"Line Count\"].to_list() == [8], \"Paper: 'The pattern \\textbf{$HyperSQL \\rightarrow Redis_{In} \\rightarrow HyperSQL_{Out}$ $Redis$} with support = 8 indicates that eight projects replaced HyperSQL by Redis.'\""
   ]
  },
  {
   "cell_type": "code",
   "execution_count": 18,
   "id": "6ccdd247-386a-4f9e-9e26-57afe88c5606",
   "metadata": {
    "tags": []
   },
   "outputs": [
    {
     "name": "stdout",
     "output_type": "stream",
     "text": [
      "Min support: 3\n",
      "Max support: 8\n",
      "Support values: 3, 4, 5, 8\n"
     ]
    }
   ],
   "source": [
    "print(\"Min support:\", var(\"rq3_min_support\", df2[\"Line Count\"].min()))\n",
    "print(\"Max support:\", var(\"rq3_max_support\", df2[\"Line Count\"].max()))\n",
    "print(\"Support values:\", var(\"rq3_support_values\", ', '.join(map(str, sorted(list(set(df2[\"Line Count\"].to_list())))))))"
   ]
  },
  {
   "cell_type": "markdown",
   "id": "7ed5f617-00cc-4708-8c57-8b1d8f1651ca",
   "metadata": {
    "tags": []
   },
   "source": [
    "### Data"
   ]
  },
  {
   "cell_type": "code",
   "execution_count": 19,
   "id": "7882dcf5-082f-4667-9265-4d1a12f57979",
   "metadata": {
    "tags": []
   },
   "outputs": [
    {
     "name": "stdout",
     "output_type": "stream",
     "text": [
      "Total number of replacements 296\n",
      "Projects with replacements 67\n"
     ]
    }
   ],
   "source": [
    "total_replacements = replacements_among_relational = df.groupby([\"X\", \"Y\", \"Source\"])[\"LinesSet\"].agg(lines=union_sets)\n",
    "total_replacements_count = len(total_replacements)\n",
    "total_replacements_projects_count = len(union_sets(total_replacements['lines']))\n",
    "\n",
    "print(\"Total number of replacements\", var(\"rq3_total_replacements\", total_replacements_count))\n",
    "print(\"Projects with replacements\", var(\"rq3_total_replacements_projects\",  total_replacements_projects_count))"
   ]
  },
  {
   "cell_type": "code",
   "execution_count": 20,
   "id": "d36ad4cf-2ee8-424a-9d4f-de5fbe0773a5",
   "metadata": {
    "tags": []
   },
   "outputs": [
    {
     "name": "stdout",
     "output_type": "stream",
     "text": [
      "Replacements among relational: 89 (30.1%)\n",
      "Projects with replacements among relational: 44 (65.7%)\n"
     ]
    }
   ],
   "source": [
    "replacements_among_relational = df[\n",
    "    (df[\"X Model\"] == \"Relational\") & (df[\"Y Model\"] == \"Relational\")\n",
    "].groupby([\"X\", \"Y\", \"Source\"])[\"LinesSet\"].agg(lines=union_sets)\n",
    "print(\"Replacements among relational:\", relative_var(\"rq3_relational_replacements\", len(replacements_among_relational), total_replacements_count))\n",
    "print(\"Projects with replacements among relational:\", relative_var(\"rq3_relational_replacements_projects\", len(union_sets(replacements_among_relational['lines'])), total_replacements_projects_count))\n"
   ]
  },
  {
   "cell_type": "code",
   "execution_count": 21,
   "id": "725ed10d-3755-46aa-82ac-db2d31b33b5f",
   "metadata": {
    "tags": []
   },
   "outputs": [
    {
     "name": "stdout",
     "output_type": "stream",
     "text": [
      "Replacements among non relational: 66 (22.3%)\n",
      "Projects with replacements among non relational: 21 (31.3%)\n"
     ]
    }
   ],
   "source": [
    "replacements_among_nonrelational = df[\n",
    "    (df[\"X Model\"] == \"Non Relational\") & (df[\"Y Model\"] == \"Non Relational\")\n",
    "].groupby([\"X\", \"Y\", \"Source\"])[\"LinesSet\"].agg(lines=union_sets)\n",
    "print(\"Replacements among non relational:\", relative_var(\"rq3_nonrelational_replacements\", len(replacements_among_nonrelational), total_replacements_count))\n",
    "print(\"Projects with replacements among non relational:\", relative_var(\"rq3_nonrelational_replacements_projects\", len(union_sets(replacements_among_nonrelational['lines'])), total_replacements_projects_count))\n"
   ]
  },
  {
   "cell_type": "code",
   "execution_count": 22,
   "id": "5e62492a-0c09-46c9-bee6-1e3dde038e5d",
   "metadata": {
    "tags": []
   },
   "outputs": [
    {
     "name": "stdout",
     "output_type": "stream",
     "text": [
      "Replacements among both: 141 (47.6%)\n",
      "Projects with replacements among both: 43 (64.2%)\n"
     ]
    }
   ],
   "source": [
    "replacements_among_both = df[\n",
    "    ((df[\"X Model\"] == \"Relational\") & (df[\"Y Model\"] == \"Non Relational\"))\n",
    "    | ((df[\"X Model\"] == \"Non Relational\") & (df[\"Y Model\"] == \"Relational\"))\n",
    "].groupby([\"X\", \"Y\", \"Source\"])[\"LinesSet\"].agg(lines=union_sets)\n",
    "print(\"Replacements among both:\", relative_var(\"rq3_both_replacements\", len(replacements_among_both), total_replacements_count))\n",
    "print(\"Projects with replacements among both:\", relative_var(\"rq3_both_replacements_projects\", len(union_sets(replacements_among_both['lines'])), total_replacements_projects_count))\n"
   ]
  },
  {
   "cell_type": "code",
   "execution_count": 23,
   "id": "1130d91f-7e5e-48c7-83ea-7c2cd94db144",
   "metadata": {
    "tags": []
   },
   "outputs": [
    {
     "name": "stdout",
     "output_type": "stream",
     "text": [
      "Replacements among same: 155 (52.4%)\n",
      "Projects with replacements among same: 56 (83.6%)\n"
     ]
    }
   ],
   "source": [
    "replacements_among_same = df[\n",
    "    ((df[\"X Model\"] == \"Relational\") & (df[\"Y Model\"] == \"Relational\"))\n",
    "    | ((df[\"X Model\"] == \"Non Relational\") & (df[\"Y Model\"] == \"Non Relational\"))\n",
    "].groupby([\"X\", \"Y\", \"Source\"])[\"LinesSet\"].agg(lines=union_sets)\n",
    "print(\"Replacements among same:\", relative_var(\"rq3_same_replacements\", len(replacements_among_same), total_replacements_count))\n",
    "print(\"Projects with replacements among same:\", relative_var(\"rq3_same_replacements_projects\", len(union_sets(replacements_among_same['lines'])), total_replacements_projects_count))\n"
   ]
  },
  {
   "cell_type": "code",
   "execution_count": 24,
   "id": "35e6b794-3aa9-4477-a808-6ae0d10000c4",
   "metadata": {
    "tags": []
   },
   "outputs": [
    {
     "name": "stdout",
     "output_type": "stream",
     "text": [
      "Projects with replacements only among same model: 24 (35.8%)\n"
     ]
    }
   ],
   "source": [
    "projects_with_only_replacements_of_the_same_model = union_sets(total_replacements['lines']) - union_sets(replacements_among_both['lines'])\n",
    "print(\"Projects with replacements only among same model:\", relative_var(\"rq3_only_same_replacements_projects\", len(projects_with_only_replacements_of_the_same_model), total_replacements_projects_count))\n"
   ]
  },
  {
   "cell_type": "code",
   "execution_count": 25,
   "id": "55acacc2-96cd-4307-853a-d44aafc856e8",
   "metadata": {
    "tags": []
   },
   "outputs": [
    {
     "name": "stdout",
     "output_type": "stream",
     "text": [
      "Projects with replacements only among non relational: 3 (12.5%)\n"
     ]
    }
   ],
   "source": [
    "nonrelational_only_replacements = projects_with_only_replacements_of_the_same_model & union_sets(replacements_among_nonrelational['lines'])\n",
    "print(\"Projects with replacements only among non relational:\", relative_var(\"rq3_non_relational_only_replacements_projects\", len(nonrelational_only_replacements), len(projects_with_only_replacements_of_the_same_model)))\n"
   ]
  },
  {
   "cell_type": "code",
   "execution_count": 26,
   "id": "b0788c00-ccde-4128-9849-787f07fe8bcb",
   "metadata": {
    "tags": []
   },
   "outputs": [],
   "source": [
    "assert df[df[\"Name\"] == \"Cassandra -> InPostgreSQL -> OutCassandra & PostgreSQL\"][\"Line Count\"].to_list() == [3], \"Paper: 'the replacements occur among distinct data models such as Cassandra replacing PostgreSQL in 3 projects'\""
   ]
  },
  {
   "cell_type": "code",
   "execution_count": null,
   "id": "5d3a673a-9bfb-4bd6-9143-fecb912ab59b",
   "metadata": {},
   "outputs": [],
   "source": []
  },
  {
   "cell_type": "code",
   "execution_count": 27,
   "id": "edf5db34-eb56-4046-a7f9-eb3d20bedf30",
   "metadata": {
    "tags": []
   },
   "outputs": [
    {
     "name": "stdout",
     "output_type": "stream",
     "text": [
      "HyperSQL replacements: 18\n",
      "HyperSQL replacements in projects: 19\n"
     ]
    }
   ],
   "source": [
    "print(\"HyperSQL replacements:\", var(\"rq3_repl_hypersql\", dbms_was_replaced_count[\"HyperSQL\"]))\n",
    "print(\"HyperSQL replacements in projects:\", var(\"rq3_repl_hypersql_projects\", dbms_was_replaced_in_projects[\"HyperSQL\"]))"
   ]
  },
  {
   "cell_type": "code",
   "execution_count": 28,
   "id": "b0f828c1-bc95-4bb0-ba84-30ddc633844e",
   "metadata": {
    "tags": []
   },
   "outputs": [
    {
     "name": "stdout",
     "output_type": "stream",
     "text": [
      "HyperSQL replacements in projects: 18\n"
     ]
    }
   ],
   "source": [
    "print(\"HyperSQL replacements in projects:\", var(\"rq3_repl_hypersql_dbms\", df[df[\"X\"] == \"HyperSQL\"].groupby(\"X\")[\"Y\"].agg(other=set)[\"other\"].apply(len).to_list()[0]))"
   ]
  },
  {
   "cell_type": "code",
   "execution_count": 29,
   "id": "9b99669a-b0a2-402f-aa59-c4755194e293",
   "metadata": {
    "tags": []
   },
   "outputs": [
    {
     "name": "stdout",
     "output_type": "stream",
     "text": [
      "HyperSQL replaced by Redis: 8\n",
      "HyperSQL replaced by Redis (ext): eight\n"
     ]
    }
   ],
   "source": [
    "print(\"HyperSQL replaced by Redis:\", var(\"rq3_repl_hypersql_redis\", df[(df[\"X\"] == \"HyperSQL\") & (df[\"Y\"] == \"Redis\")][\"Line Count\"].sum()))\n",
    "print(\"HyperSQL replaced by Redis (ext):\", var(\"rq3_repl_hypersql_redis_ext\", num2words(df[(df[\"X\"] == \"HyperSQL\") & (df[\"Y\"] == \"Redis\")][\"Line Count\"].sum())))"
   ]
  },
  {
   "cell_type": "code",
   "execution_count": 30,
   "id": "3c91de7f-6ec9-4d8b-a326-4bb7bddf27d2",
   "metadata": {
    "tags": []
   },
   "outputs": [
    {
     "name": "stdout",
     "output_type": "stream",
     "text": [
      "HyperSQL replaced by MySQL: 6\n"
     ]
    }
   ],
   "source": [
    "print(\"HyperSQL replaced by MySQL:\", var(\"rq3_repl_hypersql_mysql\", df[(df[\"X\"] == \"HyperSQL\") & (df[\"Y\"] == \"MySQL\")][\"Line Count\"].sum()))"
   ]
  },
  {
   "cell_type": "code",
   "execution_count": 31,
   "id": "ee14a9d5-04c9-4ec4-91b5-b7965b703ce5",
   "metadata": {
    "tags": []
   },
   "outputs": [
    {
     "name": "stdout",
     "output_type": "stream",
     "text": [
      "HyperSQL replaced by PostgreSQL: 7\n"
     ]
    }
   ],
   "source": [
    "print(\"HyperSQL replaced by PostgreSQL:\", var(\"rq3_repl_hypersql_postgresql\", df[(df[\"X\"] == \"HyperSQL\") & (df[\"Y\"] == \"PostgreSQL\")][\"Line Count\"].sum()))"
   ]
  },
  {
   "cell_type": "code",
   "execution_count": 32,
   "id": "548423da-e158-443c-8cd9-6fc34c18b726",
   "metadata": {
    "tags": []
   },
   "outputs": [],
   "source": [
    "assert len(df[(df[\"X\"] == \"Redis\") & (df[\"Y\"] == \"HyperSQL\")]) == 0, \"Paper: 'In the opposite direction, we did not find a pattern indicating HyperSQL replacing Redis'\""
   ]
  },
  {
   "cell_type": "code",
   "execution_count": 33,
   "id": "3d64c1ad-f056-42e7-b40f-16be373638bb",
   "metadata": {
    "tags": []
   },
   "outputs": [
    {
     "name": "stdout",
     "output_type": "stream",
     "text": [
      "MySQL replacements: 13\n",
      "MySQL replacements in projects: 13\n"
     ]
    }
   ],
   "source": [
    "print(\"MySQL replacements:\", var(\"rq3_repl_mysql\", dbms_was_replaced_count[\"MySQL\"]))\n",
    "print(\"MySQL replacements in projects:\", var(\"rq3_repl_mysql_projects\", dbms_was_replaced_in_projects[\"MySQL\"]))"
   ]
  },
  {
   "cell_type": "code",
   "execution_count": 34,
   "id": "799a4f25-fdc9-4bcf-a955-c95d4f4a85a5",
   "metadata": {
    "tags": []
   },
   "outputs": [
    {
     "name": "stdout",
     "output_type": "stream",
     "text": [
      "MySQL replaced by Redis: four\n"
     ]
    }
   ],
   "source": [
    "print(\"MySQL replaced by Redis:\", var(\"rq3_repl_mysql_redis\", num2words(df[(df[\"X\"] == \"MySQL\") & (df[\"Y\"] == \"Redis\")][\"Line Count\"].sum())))"
   ]
  },
  {
   "cell_type": "code",
   "execution_count": 35,
   "id": "315d2a38-327c-4d69-a038-e175eab5df9b",
   "metadata": {
    "tags": []
   },
   "outputs": [],
   "source": [
    "assert len(df[(df[\"X\"] == \"Redis\") & (df[\"Y\"] == \"MySQL\")]) == 0, \"Paper: 'The only MySQL replacement pattern that occurred frequently enough was its replacement by Redis (3 times), with no replacements in the opposite direction.'\""
   ]
  },
  {
   "cell_type": "code",
   "execution_count": 36,
   "id": "1f27f063-f5fc-43a0-909e-9fed5e06716b",
   "metadata": {
    "tags": []
   },
   "outputs": [
    {
     "name": "stdout",
     "output_type": "stream",
     "text": [
      "HBase replacements: 18\n",
      "HBase replacements in projects: 5\n"
     ]
    }
   ],
   "source": [
    "print(\"HBase replacements:\", var(\"rq3_repl_hbase\", dbms_was_replaced_count[\"HBase\"]))\n",
    "print(\"HBase replacements in projects:\", var(\"rq3_repl_hbasel_projects\", dbms_was_replaced_in_projects[\"HBase\"]))"
   ]
  },
  {
   "cell_type": "code",
   "execution_count": 37,
   "id": "c9e711a9-8115-4d5b-94bb-3d780086f027",
   "metadata": {
    "tags": []
   },
   "outputs": [
    {
     "name": "stdout",
     "output_type": "stream",
     "text": [
      "HBase replaced by HyperSQL: four\n"
     ]
    }
   ],
   "source": [
    "print(\"HBase replaced by HyperSQL:\", var(\"rq3_repl_hbase_hypersql\", num2words(df[(df[\"X\"] == \"HBase\") & (df[\"Y\"] == \"HyperSQL\")][\"Line Count\"].sum())))"
   ]
  },
  {
   "cell_type": "code",
   "execution_count": 38,
   "id": "0217848a-939c-49bb-8908-adcb2451056f",
   "metadata": {
    "tags": []
   },
   "outputs": [],
   "source": [
    "assert \"Etcd\" not in dbms_was_replaced_count, \"Paper: 'On the other hand, Etcd was not replaced but substituted another DBMS'\""
   ]
  },
  {
   "cell_type": "code",
   "execution_count": 39,
   "id": "7a2125dc-3ef4-4491-a7e7-2cfd3dcfb769",
   "metadata": {
    "tags": []
   },
   "outputs": [],
   "source": [
    "SEQUENTIAL_PROJECTS = SEQ_PATTERNS_DIR + os.sep + 'sequencial_project.txt'\n",
    "with open(SEQUENTIAL_PROJECTS, \"r\") as f:\n",
    "    projects = eval(f.read())\n",
    "index = str(projects.index(('apache', 'camel')))"
   ]
  },
  {
   "cell_type": "code",
   "execution_count": 40,
   "id": "357c0b7a-1d8a-476b-b0b4-6f8b66a0b527",
   "metadata": {
    "tags": []
   },
   "outputs": [],
   "source": [
    "hbase_replacement_in_apache_camel = df[(df[\"X\"] == \"HBase\") & (df[\"LinesSet\"].apply(lambda x: index in x))]"
   ]
  },
  {
   "cell_type": "code",
   "execution_count": 41,
   "id": "d24949c1-eacd-4555-84d4-9f282d2ab237",
   "metadata": {
    "tags": []
   },
   "outputs": [],
   "source": [
    "assert len(hbase_replacement_in_apache_camel) == 14, \"Paper: 'For example, in the Apache/Camel project, we discovered 14 distinct patterns of HBase substitutions for different DBMSs'\""
   ]
  },
  {
   "cell_type": "code",
   "execution_count": 42,
   "id": "5b485a10-460a-45e9-9a4a-7ec04de4f533",
   "metadata": {
    "tags": []
   },
   "outputs": [
    {
     "name": "stdout",
     "output_type": "stream",
     "text": [
      "DBMS with no removals: ArangoDB, Cassandra, Couchbase, Etcd, H2, HyperSQL, Ignite-NoSql, Influx DB, MS SQL Server, Microsoft Azure CosmosDB, MySQL, PostGIS, PostgreSQL, and Redis\n"
     ]
    }
   ],
   "source": [
    "result = list(hbase_replacement_in_apache_camel.groupby(\"Y\")[\"LinesSet\"].agg(lines=union_sets).index)\n",
    "text = ', '.join(result[:-1]) + f\", and {result[-1]}\" \n",
    "print(\"DBMS with no removals:\", var(\"rq3_apache_camel_hbase\", text))"
   ]
  },
  {
   "cell_type": "code",
   "execution_count": 43,
   "id": "92f6c054-861f-4664-b68e-fab5f84e503b",
   "metadata": {
    "tags": []
   },
   "outputs": [
    {
     "name": "stdout",
     "output_type": "stream",
     "text": [
      "Redis replaces: 15\n",
      "Redis replaces in projects: 22\n"
     ]
    }
   ],
   "source": [
    "print(\"Redis replaces:\", var(\"rq3_replby_redis\", dbms_replaced_count[\"Redis\"]))\n",
    "print(\"Redis replaces in projects:\", var(\"rq3_replby_redis_projects\", dbms_replaced_in_projects[\"Redis\"]))"
   ]
  },
  {
   "cell_type": "code",
   "execution_count": 44,
   "id": "910826f5-0ff7-4046-b788-4304e8246acf",
   "metadata": {
    "tags": []
   },
   "outputs": [
    {
     "name": "stdout",
     "output_type": "stream",
     "text": [
      "Oracle replaces: 17\n",
      "Oracle replaces in projects: 19\n"
     ]
    }
   ],
   "source": [
    "print(\"Oracle replaces:\", var(\"rq3_replby_oracle\", dbms_replaced_count[\"Oracle\"]))\n",
    "print(\"Oracle replaces in projects:\", var(\"rq3_replby_oracle_projects\", dbms_replaced_in_projects[\"Oracle\"]))"
   ]
  },
  {
   "cell_type": "code",
   "execution_count": 45,
   "id": "b8360af3-2596-453d-9110-5aff2cb25804",
   "metadata": {
    "tags": []
   },
   "outputs": [
    {
     "name": "stdout",
     "output_type": "stream",
     "text": [
      "PostgreSQL replaces: 17\n",
      "PostgreSQL replaces in projects: 24\n"
     ]
    }
   ],
   "source": [
    "print(\"PostgreSQL replaces:\", var(\"rq3_replby_postgresql\", dbms_replaced_count[\"PostgreSQL\"]))\n",
    "print(\"PostgreSQL replaces in projects:\", var(\"rq3_replby_postgres_projects\", dbms_replaced_in_projects[\"PostgreSQL\"]))"
   ]
  },
  {
   "cell_type": "code",
   "execution_count": 46,
   "id": "87eed9fe-d05f-4bb7-ba88-95d81bb168f9",
   "metadata": {
    "tags": []
   },
   "outputs": [
    {
     "name": "stdout",
     "output_type": "stream",
     "text": [
      "HyperSQL replaces: 11\n",
      "HyperSQL replaces in projects: 11\n"
     ]
    }
   ],
   "source": [
    "print(\"HyperSQL replaces:\", var(\"rq3_replby_hypersql\", dbms_replaced_count[\"HyperSQL\"]))\n",
    "print(\"HyperSQL replaces in projects:\", var(\"rq3_replby_hypersql_projects\", dbms_replaced_in_projects[\"HyperSQL\"]))"
   ]
  },
  {
   "cell_type": "code",
   "execution_count": 47,
   "id": "8ec871eb-bd98-46c8-bf80-47cb224005e1",
   "metadata": {
    "tags": []
   },
   "outputs": [
    {
     "name": "stdout",
     "output_type": "stream",
     "text": [
      "MySQL replaces: 13\n",
      "MySQL replaces in projects: 18\n"
     ]
    }
   ],
   "source": [
    "print(\"MySQL replaces:\", var(\"rq3_replby_mysql\", dbms_replaced_count[\"MySQL\"]))\n",
    "print(\"MySQL replaces in projects:\", var(\"rq3_replby_mysql_projects\", dbms_replaced_in_projects[\"MySQL\"]))"
   ]
  },
  {
   "cell_type": "code",
   "execution_count": 48,
   "id": "7a0ca30d-2a74-42b2-ad41-9fda66ce26a3",
   "metadata": {
    "tags": []
   },
   "outputs": [
    {
     "name": "stdout",
     "output_type": "stream",
     "text": [
      "HBase replaces: 11\n",
      "HBase replaces in projects: 6\n"
     ]
    }
   ],
   "source": [
    "print(\"HBase replaces:\", var(\"rq3_replby_hbase\", dbms_replaced_count[\"HBase\"]))\n",
    "print(\"HBase replaces in projects:\", var(\"rq3_replby_hbase_projects\", dbms_replaced_in_projects[\"HBase\"]))"
   ]
  },
  {
   "cell_type": "code",
   "execution_count": 49,
   "id": "75db2631-296e-4f20-a63d-2a2d0776381f",
   "metadata": {
    "tags": []
   },
   "outputs": [
    {
     "name": "stdout",
     "output_type": "stream",
     "text": [
      "Etcd replaces: 11\n",
      "Etcd replaces in projects: 3\n"
     ]
    }
   ],
   "source": [
    "print(\"Etcd replaces:\", var(\"rq3_replby_etcd\", dbms_replaced_count[\"Etcd\"]))\n",
    "print(\"Etcd replaces in projects:\", var(\"rq3_replby_etcd_projects\", dbms_replaced_in_projects[\"Etcd\"]))"
   ]
  },
  {
   "cell_type": "code",
   "execution_count": null,
   "id": "17fbd9d6-c644-4d5e-a9fb-e4a9ef5093de",
   "metadata": {},
   "outputs": [],
   "source": []
  }
 ],
 "metadata": {
  "kernelspec": {
   "display_name": "Python 3 (ipykernel)",
   "language": "python",
   "name": "python3"
  },
  "language_info": {
   "codemirror_mode": {
    "name": "ipython",
    "version": 3
   },
   "file_extension": ".py",
   "mimetype": "text/x-python",
   "name": "python",
   "nbconvert_exporter": "python",
   "pygments_lexer": "ipython3",
   "version": "3.13.1"
  }
 },
 "nbformat": 4,
 "nbformat_minor": 5
}
