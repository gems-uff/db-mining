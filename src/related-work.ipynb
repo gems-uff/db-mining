{
 "cells": [
  {
   "cell_type": "code",
   "execution_count": 2,
   "metadata": {},
   "outputs": [],
   "source": [
    "import pandas as pd\n",
    "import matplotlib.pyplot as plt \n",
    "from util import PAPERS_FILE, FILTERED_PAPERS_FILE, FILTERED_PAPERS_FILE_2022"
   ]
  },
  {
   "cell_type": "code",
   "execution_count": 3,
   "metadata": {},
   "outputs": [
    {
     "data": {
      "text/plain": [
       "47747"
      ]
     },
     "execution_count": 3,
     "metadata": {},
     "output_type": "execute_result"
    }
   ],
   "source": [
    "#reads papers from Excel file\n",
    "df = pd.read_excel(PAPERS_FILE, keep_default_na=False)\n",
    "len(df)"
   ]
  },
  {
   "cell_type": "code",
   "execution_count": 4,
   "metadata": {},
   "outputs": [
    {
     "data": {
      "text/html": [
       "<div>\n",
       "<style scoped>\n",
       "    .dataframe tbody tr th:only-of-type {\n",
       "        vertical-align: middle;\n",
       "    }\n",
       "\n",
       "    .dataframe tbody tr th {\n",
       "        vertical-align: top;\n",
       "    }\n",
       "\n",
       "    .dataframe thead th {\n",
       "        text-align: right;\n",
       "    }\n",
       "</style>\n",
       "<table border=\"1\" class=\"dataframe\">\n",
       "  <thead>\n",
       "    <tr style=\"text-align: right;\">\n",
       "      <th></th>\n",
       "      <th>key</th>\n",
       "      <th>venue</th>\n",
       "      <th>authors</th>\n",
       "      <th>title</th>\n",
       "      <th>year</th>\n",
       "      <th>crossref</th>\n",
       "      <th>url</th>\n",
       "      <th>bibtex</th>\n",
       "    </tr>\n",
       "  </thead>\n",
       "  <tbody>\n",
       "    <tr>\n",
       "      <th>0</th>\n",
       "      <td>conf/kbse/YangS0021</td>\n",
       "      <td>conf/kbse/</td>\n",
       "      <td>Zhou Yang 0003 and Jieke Shi and Shaowei Wang ...</td>\n",
       "      <td>IncBL: Incremental Bug Localization</td>\n",
       "      <td>2021</td>\n",
       "      <td>conf/kbse/2021</td>\n",
       "      <td>db/conf/kbse/ase2021.html#YangS0021</td>\n",
       "      <td>@inproceedings{yang:2021,\\nbooktitle = {Intern...</td>\n",
       "    </tr>\n",
       "    <tr>\n",
       "      <th>1</th>\n",
       "      <td>conf/kbse/AndrewsGWX08</td>\n",
       "      <td>conf/kbse/</td>\n",
       "      <td>James H. Andrews and Alex Groce and Melissa We...</td>\n",
       "      <td>Random Test Run Length and Effectiveness</td>\n",
       "      <td>2008</td>\n",
       "      <td>conf/kbse/2008</td>\n",
       "      <td>db/conf/kbse/ase2008.html#AndrewsGWX08</td>\n",
       "      <td>@inproceedings{h.:2008,\\nbooktitle = {Internat...</td>\n",
       "    </tr>\n",
       "    <tr>\n",
       "      <th>2</th>\n",
       "      <td>conf/kbse/ZhengMLXK11</td>\n",
       "      <td>conf/kbse/</td>\n",
       "      <td>Wujie Zheng and Hao Ma 0001 and Michael R. Lyu...</td>\n",
       "      <td>Mining test oracles of web search engines</td>\n",
       "      <td>2011</td>\n",
       "      <td>conf/kbse/2011</td>\n",
       "      <td>db/conf/kbse/ase2011.html#ZhengMLXK11</td>\n",
       "      <td>@inproceedings{zheng:2011,\\nbooktitle = {Inter...</td>\n",
       "    </tr>\n",
       "    <tr>\n",
       "      <th>3</th>\n",
       "      <td>conf/kbse/BastenB01</td>\n",
       "      <td>conf/kbse/</td>\n",
       "      <td>Twan Basten and Dragan Bosnacki</td>\n",
       "      <td>Enhancing Partial-Order Reduction via Process ...</td>\n",
       "      <td>2001</td>\n",
       "      <td>conf/kbse/2001</td>\n",
       "      <td>db/conf/kbse/ase2001.html#BastenB01</td>\n",
       "      <td>@inproceedings{basten:2001,\\nbooktitle = {Inte...</td>\n",
       "    </tr>\n",
       "    <tr>\n",
       "      <th>4</th>\n",
       "      <td>conf/kbse/Marijan16</td>\n",
       "      <td>conf/kbse/</td>\n",
       "      <td>Dusica Marijan</td>\n",
       "      <td>Improving configurable software testing with s...</td>\n",
       "      <td>2016</td>\n",
       "      <td>conf/kbse/2016formabs</td>\n",
       "      <td>db/conf/kbse/formabs2016.html#Marijan16</td>\n",
       "      <td>@inproceedings{marijan:2016,\\nbooktitle = {Int...</td>\n",
       "    </tr>\n",
       "    <tr>\n",
       "      <th>...</th>\n",
       "      <td>...</td>\n",
       "      <td>...</td>\n",
       "      <td>...</td>\n",
       "      <td>...</td>\n",
       "      <td>...</td>\n",
       "      <td>...</td>\n",
       "      <td>...</td>\n",
       "      <td>...</td>\n",
       "    </tr>\n",
       "    <tr>\n",
       "      <th>47742</th>\n",
       "      <td>journals/tosem/ChekamPCT21</td>\n",
       "      <td>journals/tosem/</td>\n",
       "      <td>Thierry Titcheu Chekam and Mike Papadakis and ...</td>\n",
       "      <td>Killing Stubborn Mutants with Symbolic Execution</td>\n",
       "      <td>2021</td>\n",
       "      <td></td>\n",
       "      <td>db/journals/tosem/tosem30.html#ChekamPCT21</td>\n",
       "      <td>@article{titcheu:2021,\\njournal = {ACM Transac...</td>\n",
       "    </tr>\n",
       "    <tr>\n",
       "      <th>47743</th>\n",
       "      <td>journals/tosem/GoelRT09</td>\n",
       "      <td>journals/tosem/</td>\n",
       "      <td>Ankit Goel and Abhik Roychoudhury and P. S. Th...</td>\n",
       "      <td>Interacting process classes</td>\n",
       "      <td>2009</td>\n",
       "      <td></td>\n",
       "      <td>db/journals/tosem/tosem18.html#GoelRT09</td>\n",
       "      <td>@article{goel:2009,\\njournal = {ACM Transactio...</td>\n",
       "    </tr>\n",
       "    <tr>\n",
       "      <th>47744</th>\n",
       "      <td>journals/tosem/ZhuB13</td>\n",
       "      <td>journals/tosem/</td>\n",
       "      <td>Hong Zhu 0002 and Ian Bayley</td>\n",
       "      <td>An algebra of design patterns</td>\n",
       "      <td>2013</td>\n",
       "      <td></td>\n",
       "      <td>db/journals/tosem/tosem22.html#ZhuB13</td>\n",
       "      <td>@article{zhu:2013,\\njournal = {ACM Transaction...</td>\n",
       "    </tr>\n",
       "    <tr>\n",
       "      <th>47745</th>\n",
       "      <td>journals/tosem/HarelN96</td>\n",
       "      <td>journals/tosem/</td>\n",
       "      <td>David Harel and Amnon Naamad</td>\n",
       "      <td>The STATEMATE Semantics of Statecharts</td>\n",
       "      <td>1996</td>\n",
       "      <td></td>\n",
       "      <td>db/journals/tosem/tosem5.html#HarelN96</td>\n",
       "      <td>@article{harel:1996,\\njournal = {ACM Transacti...</td>\n",
       "    </tr>\n",
       "    <tr>\n",
       "      <th>47746</th>\n",
       "      <td>journals/tosem/ArditoBCLMMT22</td>\n",
       "      <td>journals/tosem/</td>\n",
       "      <td>Luca Ardito and Andrea Bottino and Riccardo Co...</td>\n",
       "      <td>Feature Matching-based Approaches to Improve t...</td>\n",
       "      <td>2022</td>\n",
       "      <td></td>\n",
       "      <td>db/journals/tosem/tosem31.html#ArditoBCLMMT22</td>\n",
       "      <td>@article{ardito:2022,\\njournal = {ACM Transact...</td>\n",
       "    </tr>\n",
       "  </tbody>\n",
       "</table>\n",
       "<p>47747 rows × 8 columns</p>\n",
       "</div>"
      ],
      "text/plain": [
       "                                 key            venue  \\\n",
       "0                conf/kbse/YangS0021       conf/kbse/   \n",
       "1             conf/kbse/AndrewsGWX08       conf/kbse/   \n",
       "2              conf/kbse/ZhengMLXK11       conf/kbse/   \n",
       "3                conf/kbse/BastenB01       conf/kbse/   \n",
       "4                conf/kbse/Marijan16       conf/kbse/   \n",
       "...                              ...              ...   \n",
       "47742     journals/tosem/ChekamPCT21  journals/tosem/   \n",
       "47743        journals/tosem/GoelRT09  journals/tosem/   \n",
       "47744          journals/tosem/ZhuB13  journals/tosem/   \n",
       "47745        journals/tosem/HarelN96  journals/tosem/   \n",
       "47746  journals/tosem/ArditoBCLMMT22  journals/tosem/   \n",
       "\n",
       "                                                 authors  \\\n",
       "0      Zhou Yang 0003 and Jieke Shi and Shaowei Wang ...   \n",
       "1      James H. Andrews and Alex Groce and Melissa We...   \n",
       "2      Wujie Zheng and Hao Ma 0001 and Michael R. Lyu...   \n",
       "3                        Twan Basten and Dragan Bosnacki   \n",
       "4                                         Dusica Marijan   \n",
       "...                                                  ...   \n",
       "47742  Thierry Titcheu Chekam and Mike Papadakis and ...   \n",
       "47743  Ankit Goel and Abhik Roychoudhury and P. S. Th...   \n",
       "47744                       Hong Zhu 0002 and Ian Bayley   \n",
       "47745                       David Harel and Amnon Naamad   \n",
       "47746  Luca Ardito and Andrea Bottino and Riccardo Co...   \n",
       "\n",
       "                                                   title  year  \\\n",
       "0                    IncBL: Incremental Bug Localization  2021   \n",
       "1               Random Test Run Length and Effectiveness  2008   \n",
       "2              Mining test oracles of web search engines  2011   \n",
       "3      Enhancing Partial-Order Reduction via Process ...  2001   \n",
       "4      Improving configurable software testing with s...  2016   \n",
       "...                                                  ...   ...   \n",
       "47742   Killing Stubborn Mutants with Symbolic Execution  2021   \n",
       "47743                        Interacting process classes  2009   \n",
       "47744                      An algebra of design patterns  2013   \n",
       "47745             The STATEMATE Semantics of Statecharts  1996   \n",
       "47746  Feature Matching-based Approaches to Improve t...  2022   \n",
       "\n",
       "                    crossref                                            url  \\\n",
       "0             conf/kbse/2021            db/conf/kbse/ase2021.html#YangS0021   \n",
       "1             conf/kbse/2008         db/conf/kbse/ase2008.html#AndrewsGWX08   \n",
       "2             conf/kbse/2011          db/conf/kbse/ase2011.html#ZhengMLXK11   \n",
       "3             conf/kbse/2001            db/conf/kbse/ase2001.html#BastenB01   \n",
       "4      conf/kbse/2016formabs        db/conf/kbse/formabs2016.html#Marijan16   \n",
       "...                      ...                                            ...   \n",
       "47742                            db/journals/tosem/tosem30.html#ChekamPCT21   \n",
       "47743                               db/journals/tosem/tosem18.html#GoelRT09   \n",
       "47744                                 db/journals/tosem/tosem22.html#ZhuB13   \n",
       "47745                                db/journals/tosem/tosem5.html#HarelN96   \n",
       "47746                         db/journals/tosem/tosem31.html#ArditoBCLMMT22   \n",
       "\n",
       "                                                  bibtex  \n",
       "0      @inproceedings{yang:2021,\\nbooktitle = {Intern...  \n",
       "1      @inproceedings{h.:2008,\\nbooktitle = {Internat...  \n",
       "2      @inproceedings{zheng:2011,\\nbooktitle = {Inter...  \n",
       "3      @inproceedings{basten:2001,\\nbooktitle = {Inte...  \n",
       "4      @inproceedings{marijan:2016,\\nbooktitle = {Int...  \n",
       "...                                                  ...  \n",
       "47742  @article{titcheu:2021,\\njournal = {ACM Transac...  \n",
       "47743  @article{goel:2009,\\njournal = {ACM Transactio...  \n",
       "47744  @article{zhu:2013,\\njournal = {ACM Transaction...  \n",
       "47745  @article{harel:1996,\\njournal = {ACM Transacti...  \n",
       "47746  @article{ardito:2022,\\njournal = {ACM Transact...  \n",
       "\n",
       "[47747 rows x 8 columns]"
      ]
     },
     "execution_count": 4,
     "metadata": {},
     "output_type": "execute_result"
    }
   ],
   "source": [
    "df"
   ]
  },
  {
   "cell_type": "code",
   "execution_count": 5,
   "metadata": {},
   "outputs": [
    {
     "data": {
      "text/plain": [
       "<AxesSubplot:ylabel='venue'>"
      ]
     },
     "execution_count": 5,
     "metadata": {},
     "output_type": "execute_result"
    },
    {
     "data": {
      "image/png": "[encoded data removed]",
      "text/plain": [
       "<Figure size 432x288 with 1 Axes>"
      ]
     },
     "metadata": {},
     "output_type": "display_data"
    }
   ],
   "source": [
    "df.venue.value_counts().plot(kind='pie', autopct='%1.1f%%')"
   ]
  },
  {
   "cell_type": "code",
   "execution_count": 6,
   "metadata": {},
   "outputs": [
    {
     "data": {
      "text/plain": [
       "3614"
      ]
     },
     "execution_count": 6,
     "metadata": {},
     "output_type": "execute_result"
    }
   ],
   "source": [
    "df = df[df['title'].str.contains('database', case=False)]\n",
    "len(df)"
   ]
  },
  {
   "cell_type": "code",
   "execution_count": 7,
   "metadata": {},
   "outputs": [
    {
     "data": {
      "text/html": [
       "<div>\n",
       "<style scoped>\n",
       "    .dataframe tbody tr th:only-of-type {\n",
       "        vertical-align: middle;\n",
       "    }\n",
       "\n",
       "    .dataframe tbody tr th {\n",
       "        vertical-align: top;\n",
       "    }\n",
       "\n",
       "    .dataframe thead th {\n",
       "        text-align: right;\n",
       "    }\n",
       "</style>\n",
       "<table border=\"1\" class=\"dataframe\">\n",
       "  <thead>\n",
       "    <tr style=\"text-align: right;\">\n",
       "      <th></th>\n",
       "      <th>key</th>\n",
       "      <th>venue</th>\n",
       "      <th>authors</th>\n",
       "      <th>title</th>\n",
       "      <th>year</th>\n",
       "      <th>crossref</th>\n",
       "      <th>url</th>\n",
       "      <th>bibtex</th>\n",
       "    </tr>\n",
       "  </thead>\n",
       "  <tbody>\n",
       "    <tr>\n",
       "      <th>36</th>\n",
       "      <td>conf/kbse/XieY021</td>\n",
       "      <td>conf/kbse/</td>\n",
       "      <td>Sophie Xie and Junwen Yang and Shan Lu 0001</td>\n",
       "      <td>Automated Code Refactoring upon Database-Schem...</td>\n",
       "      <td>2021</td>\n",
       "      <td>conf/kbse/2021</td>\n",
       "      <td>db/conf/kbse/ase2021.html#XieY021</td>\n",
       "      <td>@inproceedings{xie:2021,\\nbooktitle = {Interna...</td>\n",
       "    </tr>\n",
       "    <tr>\n",
       "      <th>82</th>\n",
       "      <td>conf/kbse/Ould-BrahimM92</td>\n",
       "      <td>conf/kbse/</td>\n",
       "      <td>Hamid Ould-Brahim and Stan Matwin</td>\n",
       "      <td>Reusing database queries in analogical domains</td>\n",
       "      <td>1992</td>\n",
       "      <td>conf/kbse/1992</td>\n",
       "      <td>db/conf/kbse/kbse1992.html#Ould-BrahimM92</td>\n",
       "      <td>@inproceedings{ould-brahim:1992,\\nbooktitle = ...</td>\n",
       "    </tr>\n",
       "    <tr>\n",
       "      <th>132</th>\n",
       "      <td>conf/kbse/CohenF97</td>\n",
       "      <td>conf/kbse/</td>\n",
       "      <td>Yossi Cohen and Yishai A. Feldman</td>\n",
       "      <td>Automatic High-Quality Reengineering of Databa...</td>\n",
       "      <td>1997</td>\n",
       "      <td>conf/kbse/1997</td>\n",
       "      <td>db/conf/kbse/ase1997.html#CohenF97</td>\n",
       "      <td>@inproceedings{cohen:1997,\\nbooktitle = {Inter...</td>\n",
       "    </tr>\n",
       "    <tr>\n",
       "      <th>348</th>\n",
       "      <td>conf/kbse/Delplanque18</td>\n",
       "      <td>conf/kbse/</td>\n",
       "      <td>Julien Delplanque</td>\n",
       "      <td>Software engineering techniques applied to rel...</td>\n",
       "      <td>2018</td>\n",
       "      <td>conf/kbse/2018</td>\n",
       "      <td>db/conf/kbse/ase2018.html#Delplanque18</td>\n",
       "      <td>@inproceedings{delplanque:2018,\\nbooktitle = {...</td>\n",
       "    </tr>\n",
       "    <tr>\n",
       "      <th>458</th>\n",
       "      <td>conf/kbse/TanejaZX10</td>\n",
       "      <td>conf/kbse/</td>\n",
       "      <td>Kunal Taneja and Yi Zhang and Tao Xie 0001</td>\n",
       "      <td>MODA: automated test generation for database a...</td>\n",
       "      <td>2010</td>\n",
       "      <td>conf/kbse/2010</td>\n",
       "      <td>db/conf/kbse/ase2010.html#TanejaZX10</td>\n",
       "      <td>@inproceedings{taneja:2010,\\nbooktitle = {Inte...</td>\n",
       "    </tr>\n",
       "    <tr>\n",
       "      <th>...</th>\n",
       "      <td>...</td>\n",
       "      <td>...</td>\n",
       "      <td>...</td>\n",
       "      <td>...</td>\n",
       "      <td>...</td>\n",
       "      <td>...</td>\n",
       "      <td>...</td>\n",
       "      <td>...</td>\n",
       "    </tr>\n",
       "    <tr>\n",
       "      <th>47405</th>\n",
       "      <td>journals/tosem/CohenF03</td>\n",
       "      <td>journals/tosem/</td>\n",
       "      <td>Yossi Cohen and Yishai A. Feldman</td>\n",
       "      <td>Automatic high-quality reengineering of databa...</td>\n",
       "      <td>2003</td>\n",
       "      <td></td>\n",
       "      <td>db/journals/tosem/tosem12.html#CohenF03</td>\n",
       "      <td>@article{cohen:2003,\\njournal = {ACM Transacti...</td>\n",
       "    </tr>\n",
       "    <tr>\n",
       "      <th>47444</th>\n",
       "      <td>journals/tosem/ArcuriG20</td>\n",
       "      <td>journals/tosem/</td>\n",
       "      <td>Andrea Arcuri and Juan P. Galeotti</td>\n",
       "      <td>Handling SQL Databases in Automated System Tes...</td>\n",
       "      <td>2020</td>\n",
       "      <td></td>\n",
       "      <td>db/journals/tosem/tosem29.html#ArcuriG20</td>\n",
       "      <td>@article{arcuri:2020,\\njournal = {ACM Transact...</td>\n",
       "    </tr>\n",
       "    <tr>\n",
       "      <th>47497</th>\n",
       "      <td>journals/tosem/WassermannGSD07</td>\n",
       "      <td>journals/tosem/</td>\n",
       "      <td>Gary Wassermann and Carl Gould 0001 and Zhendo...</td>\n",
       "      <td>Static checking of dynamically generated queri...</td>\n",
       "      <td>2007</td>\n",
       "      <td></td>\n",
       "      <td>db/journals/tosem/tosem16.html#WassermannGSD07</td>\n",
       "      <td>@article{wassermann:2007,\\njournal = {ACM Tran...</td>\n",
       "    </tr>\n",
       "    <tr>\n",
       "      <th>47562</th>\n",
       "      <td>journals/tosem/PanWX14</td>\n",
       "      <td>journals/tosem/</td>\n",
       "      <td>Kai Pan and Xintao Wu and Tao Xie 0001</td>\n",
       "      <td>Guided test generation for database applicatio...</td>\n",
       "      <td>2014</td>\n",
       "      <td></td>\n",
       "      <td>db/journals/tosem/tosem23.html#PanWX14</td>\n",
       "      <td>@article{pan:2014,\\njournal = {ACM Transaction...</td>\n",
       "    </tr>\n",
       "    <tr>\n",
       "      <th>47696</th>\n",
       "      <td>journals/tosem/McMinnWK15</td>\n",
       "      <td>journals/tosem/</td>\n",
       "      <td>Phil McMinn and Chris J. Wright and Gregory M....</td>\n",
       "      <td>The Effectiveness of Test Coverage Criteria fo...</td>\n",
       "      <td>2015</td>\n",
       "      <td></td>\n",
       "      <td>db/journals/tosem/tosem25.html#McMinnWK15</td>\n",
       "      <td>@article{mcminn:2015,\\njournal = {ACM Transact...</td>\n",
       "    </tr>\n",
       "  </tbody>\n",
       "</table>\n",
       "<p>3614 rows × 8 columns</p>\n",
       "</div>"
      ],
      "text/plain": [
       "                                  key            venue  \\\n",
       "36                  conf/kbse/XieY021       conf/kbse/   \n",
       "82           conf/kbse/Ould-BrahimM92       conf/kbse/   \n",
       "132                conf/kbse/CohenF97       conf/kbse/   \n",
       "348            conf/kbse/Delplanque18       conf/kbse/   \n",
       "458              conf/kbse/TanejaZX10       conf/kbse/   \n",
       "...                               ...              ...   \n",
       "47405         journals/tosem/CohenF03  journals/tosem/   \n",
       "47444        journals/tosem/ArcuriG20  journals/tosem/   \n",
       "47497  journals/tosem/WassermannGSD07  journals/tosem/   \n",
       "47562          journals/tosem/PanWX14  journals/tosem/   \n",
       "47696       journals/tosem/McMinnWK15  journals/tosem/   \n",
       "\n",
       "                                                 authors  \\\n",
       "36           Sophie Xie and Junwen Yang and Shan Lu 0001   \n",
       "82                     Hamid Ould-Brahim and Stan Matwin   \n",
       "132                    Yossi Cohen and Yishai A. Feldman   \n",
       "348                                    Julien Delplanque   \n",
       "458           Kunal Taneja and Yi Zhang and Tao Xie 0001   \n",
       "...                                                  ...   \n",
       "47405                  Yossi Cohen and Yishai A. Feldman   \n",
       "47444                 Andrea Arcuri and Juan P. Galeotti   \n",
       "47497  Gary Wassermann and Carl Gould 0001 and Zhendo...   \n",
       "47562             Kai Pan and Xintao Wu and Tao Xie 0001   \n",
       "47696  Phil McMinn and Chris J. Wright and Gregory M....   \n",
       "\n",
       "                                                   title  year  \\\n",
       "36     Automated Code Refactoring upon Database-Schem...  2021   \n",
       "82        Reusing database queries in analogical domains  1992   \n",
       "132    Automatic High-Quality Reengineering of Databa...  1997   \n",
       "348    Software engineering techniques applied to rel...  2018   \n",
       "458    MODA: automated test generation for database a...  2010   \n",
       "...                                                  ...   ...   \n",
       "47405  Automatic high-quality reengineering of databa...  2003   \n",
       "47444  Handling SQL Databases in Automated System Tes...  2020   \n",
       "47497  Static checking of dynamically generated queri...  2007   \n",
       "47562  Guided test generation for database applicatio...  2014   \n",
       "47696  The Effectiveness of Test Coverage Criteria fo...  2015   \n",
       "\n",
       "             crossref                                             url  \\\n",
       "36     conf/kbse/2021               db/conf/kbse/ase2021.html#XieY021   \n",
       "82     conf/kbse/1992       db/conf/kbse/kbse1992.html#Ould-BrahimM92   \n",
       "132    conf/kbse/1997              db/conf/kbse/ase1997.html#CohenF97   \n",
       "348    conf/kbse/2018          db/conf/kbse/ase2018.html#Delplanque18   \n",
       "458    conf/kbse/2010            db/conf/kbse/ase2010.html#TanejaZX10   \n",
       "...               ...                                             ...   \n",
       "47405                         db/journals/tosem/tosem12.html#CohenF03   \n",
       "47444                        db/journals/tosem/tosem29.html#ArcuriG20   \n",
       "47497                  db/journals/tosem/tosem16.html#WassermannGSD07   \n",
       "47562                          db/journals/tosem/tosem23.html#PanWX14   \n",
       "47696                       db/journals/tosem/tosem25.html#McMinnWK15   \n",
       "\n",
       "                                                  bibtex  \n",
       "36     @inproceedings{xie:2021,\\nbooktitle = {Interna...  \n",
       "82     @inproceedings{ould-brahim:1992,\\nbooktitle = ...  \n",
       "132    @inproceedings{cohen:1997,\\nbooktitle = {Inter...  \n",
       "348    @inproceedings{delplanque:2018,\\nbooktitle = {...  \n",
       "458    @inproceedings{taneja:2010,\\nbooktitle = {Inte...  \n",
       "...                                                  ...  \n",
       "47405  @article{cohen:2003,\\njournal = {ACM Transacti...  \n",
       "47444  @article{arcuri:2020,\\njournal = {ACM Transact...  \n",
       "47497  @article{wassermann:2007,\\njournal = {ACM Tran...  \n",
       "47562  @article{pan:2014,\\njournal = {ACM Transaction...  \n",
       "47696  @article{mcminn:2015,\\njournal = {ACM Transact...  \n",
       "\n",
       "[3614 rows x 8 columns]"
      ]
     },
     "execution_count": 7,
     "metadata": {},
     "output_type": "execute_result"
    }
   ],
   "source": [
    "df"
   ]
  },
  {
   "cell_type": "code",
   "execution_count": 8,
   "metadata": {},
   "outputs": [
    {
     "data": {
      "text/plain": [
       "conf/sigmod/        905\n",
       "conf/icde/          873\n",
       "conf/vldb/          692\n",
       "journals/sigmod/    417\n",
       "journals/is/        288\n",
       "journals/vldb/      157\n",
       "journals/tse/       136\n",
       "conf/icse/           47\n",
       "conf/wcre/           25\n",
       "conf/icsm/           24\n",
       "conf/kbse/           15\n",
       "conf/sigsoft/        12\n",
       "journals/ase/         6\n",
       "conf/esem/            5\n",
       "conf/msr/             5\n",
       "journals/tosem/       5\n",
       "journals/ese/         2\n",
       "Name: venue, dtype: int64"
      ]
     },
     "execution_count": 8,
     "metadata": {},
     "output_type": "execute_result"
    }
   ],
   "source": [
    "df.venue.value_counts()"
   ]
  },
  {
   "cell_type": "code",
   "execution_count": 9,
   "metadata": {},
   "outputs": [
    {
     "data": {
      "text/plain": [
       "<AxesSubplot:ylabel='venue'>"
      ]
     },
     "execution_count": 9,
     "metadata": {},
     "output_type": "execute_result"
    },
    {
     "data": {
      "image/png": "[encoded data removed]",
      "text/plain": [
       "<Figure size 432x288 with 1 Axes>"
      ]
     },
     "metadata": {},
     "output_type": "display_data"
    }
   ],
   "source": [
    "df.venue.value_counts().plot(kind='pie', autopct='%1.1f%%')"
   ]
  },
  {
   "cell_type": "code",
   "execution_count": 10,
   "metadata": {},
   "outputs": [
    {
     "data": {
      "text/plain": [
       "280"
      ]
     },
     "execution_count": 10,
     "metadata": {},
     "output_type": "execute_result"
    }
   ],
   "source": [
    "es_venues = ['conf/icse/', 'conf/sigsoft/', 'conf/kbse/', 'conf/icsm/', 'conf/wcre/', 'conf/esem/', 'journals/ase/', 'journals/tosem/', 'journals/tse/', 'conf/msr/']\n",
    "df=df[df.venue.isin(es_venues)]\n",
    "len(df)"
   ]
  },
  {
   "cell_type": "code",
   "execution_count": 11,
   "metadata": {},
   "outputs": [
    {
     "data": {
      "text/plain": [
       "<AxesSubplot:ylabel='venue'>"
      ]
     },
     "execution_count": 11,
     "metadata": {},
     "output_type": "execute_result"
    },
    {
     "data": {
      "image/png": "[encoded data removed]",
      "text/plain": [
       "<Figure size 432x288 with 1 Axes>"
      ]
     },
     "metadata": {},
     "output_type": "display_data"
    }
   ],
   "source": [
    "df.venue.value_counts().plot(kind='pie', autopct='%1.1f%%')"
   ]
  },
  {
   "cell_type": "code",
   "execution_count": 12,
   "metadata": {},
   "outputs": [],
   "source": [
    "df.to_excel(FILTERED_PAPERS_FILE_2022, index=False)"
   ]
  },
  {
   "cell_type": "code",
   "execution_count": 24,
   "metadata": {},
   "outputs": [
    {
     "name": "stdout",
     "output_type": "stream",
     "text": [
      "['Automated Code Refactoring upon Database-Schema Changes in Web Applications', 'An Industrial Experience Report on Performance-Aware Refactoring on a Database-Centric Web Application', 'Plug the Database & Play With Automatic Testing: Improving System Testing by Exploiting Persistent Data', 'Database-Access Performance Antipatterns in Database-Backed Web Applications', 'A logic database for software release engineering', 'The application of deductive databases to inter-module code analysis', 'LESSQL: Dealing with Database Schema Changes in Continuous Deployment', \"Documenting evidence of a replication of 'populating a release history database from version control and bug tracking systems'\", 'BugsInPy: a database of existing bugs in Python programs to enable controlled testing and debugging studies', 'Viewpoints in object database systems', 'Detecting optimization bugs in database engines via non-optimizing reference engine construction', 'Hybrid Methods for Reducing Database Schema Test Suites: Experimental Insights from Computational and Human Studies', 'Towards data integrity in Cassandra database applications using conceptual models', 'Managing data constraints in database-backed web applications', 'Enhancing the Learning of Database Access Programming using Continuous Integration and Aspect Oriented Programming', 'Automatic Detection of Performance Bugs in Database Systems using Equivalent Queries', 'Managing data constraints in database-backed web applications', 'Extending Abstract Interpretation to Dependency Analysis of Database Applications', 'Managing Technical Debt in Database Normalization', 'Handling SQL Databases in Automated System Test Generation']\n"
     ]
    }
   ],
   "source": [
    "list_diff=[]\n",
    "df_antigo = pd.read_excel(FILTERED_PAPERS_FILE, keep_default_na=False)\n",
    "df_antigo_list = df_antigo['title'].to_list()\n",
    "\n",
    "df_novo = pd.read_excel(FILTERED_PAPERS_FILE_2022, keep_default_na=False)\n",
    "df_novo_list = df_novo['title'].to_list()\n",
    "\n",
    "for element in df_novo_list:\n",
    "    if(element in df_antigo_list):\n",
    "        continue\n",
    "    else:\n",
    "        list_diff.append(element)\n",
    "\n",
    "print(list_diff)\n",
    "\n"
   ]
  }
 ],
 "metadata": {
  "kernelspec": {
   "display_name": "Python 3.9.2 64-bit",
   "language": "python",
   "name": "python3"
  },
  "language_info": {
   "codemirror_mode": {
    "name": "ipython",
    "version": 3
   },
   "file_extension": ".py",
   "mimetype": "text/x-python",
   "name": "python",
   "nbconvert_exporter": "python",
   "pygments_lexer": "ipython3",
   "version": "3.9.2"
  },
  "vscode": {
   "interpreter": {
    "hash": "949777d72b0d2535278d3dc13498b2535136f6dfe0678499012e853ee9abcab1"
   }
  }
 },
 "nbformat": 4,
 "nbformat_minor": 2
}
