{
 "cells": [
  {
   "cell_type": "code",
   "execution_count": 1,
   "metadata": {},
   "outputs": [],
   "source": [
    "import pandas as pd\n",
    "import matplotlib.pyplot as plt \n",
    "from util import PAPERS_FILE, FILTERED_PAPERS_FILE"
   ]
  },
  {
   "cell_type": "code",
   "execution_count": 2,
   "metadata": {},
   "outputs": [
    {
     "data": {
      "text/plain": [
       "36823"
      ]
     },
     "execution_count": 2,
     "metadata": {},
     "output_type": "execute_result"
    }
   ],
   "source": [
    "#reads papers from Excel file\n",
    "df = pd.read_excel(PAPERS_FILE, keep_default_na=False)\n",
    "len(df)"
   ]
  },
  {
   "cell_type": "code",
   "execution_count": 3,
   "metadata": {},
   "outputs": [
    {
     "data": {
      "text/html": [
       "<div>\n",
       "<style scoped>\n",
       "    .dataframe tbody tr th:only-of-type {\n",
       "        vertical-align: middle;\n",
       "    }\n",
       "\n",
       "    .dataframe tbody tr th {\n",
       "        vertical-align: top;\n",
       "    }\n",
       "\n",
       "    .dataframe thead th {\n",
       "        text-align: right;\n",
       "    }\n",
       "</style>\n",
       "<table border=\"1\" class=\"dataframe\">\n",
       "  <thead>\n",
       "    <tr style=\"text-align: right;\">\n",
       "      <th></th>\n",
       "      <th>authors</th>\n",
       "      <th>bibtex</th>\n",
       "      <th>key</th>\n",
       "      <th>title</th>\n",
       "      <th>url</th>\n",
       "      <th>venue</th>\n",
       "      <th>year</th>\n",
       "      <th>crossref</th>\n",
       "    </tr>\n",
       "  </thead>\n",
       "  <tbody>\n",
       "    <tr>\n",
       "      <td>0</td>\n",
       "      <td>Qi Luo and Aswathy Nair and Mark Grechanik and...</td>\n",
       "      <td>@article{luo:2017,\\njournal = {Empirical Softw...</td>\n",
       "      <td>journals/ese/LuoNGP17</td>\n",
       "      <td>FOREPOST: finding performance problems automat...</td>\n",
       "      <td>db/journals/ese/ese22.html#LuoNGP17</td>\n",
       "      <td>journals/ese/</td>\n",
       "      <td>2017</td>\n",
       "      <td></td>\n",
       "    </tr>\n",
       "    <tr>\n",
       "      <td>1</td>\n",
       "      <td>F. MacDonald and J. Miller</td>\n",
       "      <td>@article{macdonald:1998,\\njournal = {Empirical...</td>\n",
       "      <td>journals/ese/MacDonaldM98</td>\n",
       "      <td>A Comparison of Tool-Based and Paper-Based Sof...</td>\n",
       "      <td>db/journals/ese/ese3.html#MacDonaldM98</td>\n",
       "      <td>journals/ese/</td>\n",
       "      <td>1998</td>\n",
       "      <td></td>\n",
       "    </tr>\n",
       "    <tr>\n",
       "      <td>2</td>\n",
       "      <td>Jin Guo 0004 and Marek Gibiec and Jane Cleland...</td>\n",
       "      <td>@article{guo:2017,\\njournal = {Empirical Softw...</td>\n",
       "      <td>journals/ese/GuoGC17</td>\n",
       "      <td>Tackling the term-mismatch problem in automate...</td>\n",
       "      <td>db/journals/ese/ese22.html#GuoGC17</td>\n",
       "      <td>journals/ese/</td>\n",
       "      <td>2017</td>\n",
       "      <td></td>\n",
       "    </tr>\n",
       "    <tr>\n",
       "      <td>3</td>\n",
       "      <td>Shaowei Wang 0002 and David Lo 0001 and Bogdan...</td>\n",
       "      <td>@article{wang:2018,\\njournal = {Empirical Soft...</td>\n",
       "      <td>journals/ese/WangLVS18</td>\n",
       "      <td>EnTagRec ++: An enhanced tag recommendation sy...</td>\n",
       "      <td>db/journals/ese/ese23.html#WangLVS18</td>\n",
       "      <td>journals/ese/</td>\n",
       "      <td>2018</td>\n",
       "      <td></td>\n",
       "    </tr>\n",
       "    <tr>\n",
       "      <td>4</td>\n",
       "      <td>Jeffrey Carver and Forrest Shull and Victor R....</td>\n",
       "      <td>@article{carver:2006,\\njournal = {Empirical So...</td>\n",
       "      <td>journals/ese/CarverSB06</td>\n",
       "      <td>Can observational techniques help novices over...</td>\n",
       "      <td>db/journals/ese/ese11.html#CarverSB06</td>\n",
       "      <td>journals/ese/</td>\n",
       "      <td>2006</td>\n",
       "      <td></td>\n",
       "    </tr>\n",
       "    <tr>\n",
       "      <td>...</td>\n",
       "      <td>...</td>\n",
       "      <td>...</td>\n",
       "      <td>...</td>\n",
       "      <td>...</td>\n",
       "      <td>...</td>\n",
       "      <td>...</td>\n",
       "      <td>...</td>\n",
       "      <td>...</td>\n",
       "    </tr>\n",
       "    <tr>\n",
       "      <td>36818</td>\n",
       "      <td>Martin Theobald and Ralf Schenkel and Gerhard ...</td>\n",
       "      <td>@inproceedings{theobald:2005,\\nbooktitle = {In...</td>\n",
       "      <td>conf/vldb/TheobaldSW05</td>\n",
       "      <td>An Efficient and Versatile Query Engine for To...</td>\n",
       "      <td>db/conf/vldb/vldb2005.html#TheobaldSW05</td>\n",
       "      <td>conf/vldb/</td>\n",
       "      <td>2005</td>\n",
       "      <td>conf/vldb/2005</td>\n",
       "    </tr>\n",
       "    <tr>\n",
       "      <td>36819</td>\n",
       "      <td>Tianqiu Wang and Simone Santini and Amarnath G...</td>\n",
       "      <td>@inproceedings{wang:2003,\\nbooktitle = {Intern...</td>\n",
       "      <td>conf/vldb/WangSG03</td>\n",
       "      <td>An Interpolated Volume Data Model</td>\n",
       "      <td>db/conf/vldb/vldb2003.html#WangSG03</td>\n",
       "      <td>conf/vldb/</td>\n",
       "      <td>2003</td>\n",
       "      <td>conf/vldb/2003</td>\n",
       "    </tr>\n",
       "    <tr>\n",
       "      <td>36820</td>\n",
       "      <td>Mehmet Sayal and Fabio Casati and Umeshwar Day...</td>\n",
       "      <td>@inproceedings{sayal:2002,\\nbooktitle = {Inter...</td>\n",
       "      <td>conf/vldb/SayalCDS02</td>\n",
       "      <td>Business Process Cockpit</td>\n",
       "      <td>db/conf/vldb/vldb2002.html#SayalCDS02</td>\n",
       "      <td>conf/vldb/</td>\n",
       "      <td>2002</td>\n",
       "      <td>conf/vldb/2002</td>\n",
       "    </tr>\n",
       "    <tr>\n",
       "      <td>36821</td>\n",
       "      <td>Renée J. Miller and Laura M. Haas and Mauricio...</td>\n",
       "      <td>@inproceedings{j.:2000,\\nbooktitle = {Internat...</td>\n",
       "      <td>conf/vldb/MillerHH00</td>\n",
       "      <td>Schema Mapping as Query Discovery</td>\n",
       "      <td>db/conf/vldb/vldb2000.html#MillerHH00</td>\n",
       "      <td>conf/vldb/</td>\n",
       "      <td>2000</td>\n",
       "      <td>conf/vldb/2000</td>\n",
       "    </tr>\n",
       "    <tr>\n",
       "      <td>36822</td>\n",
       "      <td>Michael L. Brodie</td>\n",
       "      <td>@inproceedings{l.:1981,\\nbooktitle = {Internat...</td>\n",
       "      <td>conf/vldb/Brodie81</td>\n",
       "      <td>On Modelling Behavioural Semantics of Databases</td>\n",
       "      <td>db/conf/vldb/vldb81.html#Brodie81</td>\n",
       "      <td>conf/vldb/</td>\n",
       "      <td>1981</td>\n",
       "      <td>conf/vldb/81</td>\n",
       "    </tr>\n",
       "  </tbody>\n",
       "</table>\n",
       "<p>36823 rows × 8 columns</p>\n",
       "</div>"
      ],
      "text/plain": [
       "                                                 authors  \\\n",
       "0      Qi Luo and Aswathy Nair and Mark Grechanik and...   \n",
       "1                             F. MacDonald and J. Miller   \n",
       "2      Jin Guo 0004 and Marek Gibiec and Jane Cleland...   \n",
       "3      Shaowei Wang 0002 and David Lo 0001 and Bogdan...   \n",
       "4      Jeffrey Carver and Forrest Shull and Victor R....   \n",
       "...                                                  ...   \n",
       "36818  Martin Theobald and Ralf Schenkel and Gerhard ...   \n",
       "36819  Tianqiu Wang and Simone Santini and Amarnath G...   \n",
       "36820  Mehmet Sayal and Fabio Casati and Umeshwar Day...   \n",
       "36821  Renée J. Miller and Laura M. Haas and Mauricio...   \n",
       "36822                                  Michael L. Brodie   \n",
       "\n",
       "                                                  bibtex  \\\n",
       "0      @article{luo:2017,\\njournal = {Empirical Softw...   \n",
       "1      @article{macdonald:1998,\\njournal = {Empirical...   \n",
       "2      @article{guo:2017,\\njournal = {Empirical Softw...   \n",
       "3      @article{wang:2018,\\njournal = {Empirical Soft...   \n",
       "4      @article{carver:2006,\\njournal = {Empirical So...   \n",
       "...                                                  ...   \n",
       "36818  @inproceedings{theobald:2005,\\nbooktitle = {In...   \n",
       "36819  @inproceedings{wang:2003,\\nbooktitle = {Intern...   \n",
       "36820  @inproceedings{sayal:2002,\\nbooktitle = {Inter...   \n",
       "36821  @inproceedings{j.:2000,\\nbooktitle = {Internat...   \n",
       "36822  @inproceedings{l.:1981,\\nbooktitle = {Internat...   \n",
       "\n",
       "                             key  \\\n",
       "0          journals/ese/LuoNGP17   \n",
       "1      journals/ese/MacDonaldM98   \n",
       "2           journals/ese/GuoGC17   \n",
       "3         journals/ese/WangLVS18   \n",
       "4        journals/ese/CarverSB06   \n",
       "...                          ...   \n",
       "36818     conf/vldb/TheobaldSW05   \n",
       "36819         conf/vldb/WangSG03   \n",
       "36820       conf/vldb/SayalCDS02   \n",
       "36821       conf/vldb/MillerHH00   \n",
       "36822         conf/vldb/Brodie81   \n",
       "\n",
       "                                                   title  \\\n",
       "0      FOREPOST: finding performance problems automat...   \n",
       "1      A Comparison of Tool-Based and Paper-Based Sof...   \n",
       "2      Tackling the term-mismatch problem in automate...   \n",
       "3      EnTagRec ++: An enhanced tag recommendation sy...   \n",
       "4      Can observational techniques help novices over...   \n",
       "...                                                  ...   \n",
       "36818  An Efficient and Versatile Query Engine for To...   \n",
       "36819                  An Interpolated Volume Data Model   \n",
       "36820                           Business Process Cockpit   \n",
       "36821                  Schema Mapping as Query Discovery   \n",
       "36822    On Modelling Behavioural Semantics of Databases   \n",
       "\n",
       "                                           url          venue  year  \\\n",
       "0          db/journals/ese/ese22.html#LuoNGP17  journals/ese/  2017   \n",
       "1       db/journals/ese/ese3.html#MacDonaldM98  journals/ese/  1998   \n",
       "2           db/journals/ese/ese22.html#GuoGC17  journals/ese/  2017   \n",
       "3         db/journals/ese/ese23.html#WangLVS18  journals/ese/  2018   \n",
       "4        db/journals/ese/ese11.html#CarverSB06  journals/ese/  2006   \n",
       "...                                        ...            ...   ...   \n",
       "36818  db/conf/vldb/vldb2005.html#TheobaldSW05     conf/vldb/  2005   \n",
       "36819      db/conf/vldb/vldb2003.html#WangSG03     conf/vldb/  2003   \n",
       "36820    db/conf/vldb/vldb2002.html#SayalCDS02     conf/vldb/  2002   \n",
       "36821    db/conf/vldb/vldb2000.html#MillerHH00     conf/vldb/  2000   \n",
       "36822        db/conf/vldb/vldb81.html#Brodie81     conf/vldb/  1981   \n",
       "\n",
       "             crossref  \n",
       "0                      \n",
       "1                      \n",
       "2                      \n",
       "3                      \n",
       "4                      \n",
       "...               ...  \n",
       "36818  conf/vldb/2005  \n",
       "36819  conf/vldb/2003  \n",
       "36820  conf/vldb/2002  \n",
       "36821  conf/vldb/2000  \n",
       "36822    conf/vldb/81  \n",
       "\n",
       "[36823 rows x 8 columns]"
      ]
     },
     "execution_count": 3,
     "metadata": {},
     "output_type": "execute_result"
    }
   ],
   "source": [
    "df"
   ]
  },
  {
   "cell_type": "code",
   "execution_count": 4,
   "metadata": {},
   "outputs": [
    {
     "data": {
      "text/plain": [
       "<matplotlib.axes._subplots.AxesSubplot at 0x1163a7290>"
      ]
     },
     "execution_count": 4,
     "metadata": {},
     "output_type": "execute_result"
    },
    {
     "data": {
      "image/png": "[encoded data removed]",
      "text/plain": [
       "<Figure size 432x288 with 1 Axes>"
      ]
     },
     "metadata": {},
     "output_type": "display_data"
    }
   ],
   "source": [
    "df.venue.value_counts().plot(kind='pie', autopct='%1.1f%%')"
   ]
  },
  {
   "cell_type": "code",
   "execution_count": 5,
   "metadata": {},
   "outputs": [
    {
     "data": {
      "text/plain": [
       "828"
      ]
     },
     "execution_count": 5,
     "metadata": {},
     "output_type": "execute_result"
    }
   ],
   "source": [
    "df = df[df['title'].str.contains('database')]\n",
    "len(df)"
   ]
  },
  {
   "cell_type": "code",
   "execution_count": 6,
   "metadata": {},
   "outputs": [
    {
     "data": {
      "text/html": [
       "<div>\n",
       "<style scoped>\n",
       "    .dataframe tbody tr th:only-of-type {\n",
       "        vertical-align: middle;\n",
       "    }\n",
       "\n",
       "    .dataframe tbody tr th {\n",
       "        vertical-align: top;\n",
       "    }\n",
       "\n",
       "    .dataframe thead th {\n",
       "        text-align: right;\n",
       "    }\n",
       "</style>\n",
       "<table border=\"1\" class=\"dataframe\">\n",
       "  <thead>\n",
       "    <tr style=\"text-align: right;\">\n",
       "      <th></th>\n",
       "      <th>authors</th>\n",
       "      <th>bibtex</th>\n",
       "      <th>key</th>\n",
       "      <th>title</th>\n",
       "      <th>url</th>\n",
       "      <th>venue</th>\n",
       "      <th>year</th>\n",
       "      <th>crossref</th>\n",
       "    </tr>\n",
       "  </thead>\n",
       "  <tbody>\n",
       "    <tr>\n",
       "      <td>1039</td>\n",
       "      <td>Amel Mammar and Régine Laleau</td>\n",
       "      <td>@article{mammar:2006,\\njournal = {Automated So...</td>\n",
       "      <td>journals/ase/MammarL06</td>\n",
       "      <td>A formal approach based on UML and B for the s...</td>\n",
       "      <td>db/journals/ase/ase13.html#MammarL06</td>\n",
       "      <td>journals/ase/</td>\n",
       "      <td>2006</td>\n",
       "      <td></td>\n",
       "    </tr>\n",
       "    <tr>\n",
       "      <td>1210</td>\n",
       "      <td>Miyuru Dayarathna and Toyotaro Suzumura</td>\n",
       "      <td>@article{dayarathna:2014,\\njournal = {Automate...</td>\n",
       "      <td>journals/ase/DayarathnaS14</td>\n",
       "      <td>Graph database benchmarking on cloud environme...</td>\n",
       "      <td>db/journals/ase/ase21.html#DayarathnaS14</td>\n",
       "      <td>journals/ase/</td>\n",
       "      <td>2014</td>\n",
       "      <td></td>\n",
       "    </tr>\n",
       "    <tr>\n",
       "      <td>1235</td>\n",
       "      <td>María José Suárez Cabal and Claudio de la Riva...</td>\n",
       "      <td>@article{josé:2017,\\njournal = {Automated Soft...</td>\n",
       "      <td>journals/ase/CabalRTB17</td>\n",
       "      <td>Incremental test data generation for database ...</td>\n",
       "      <td>db/journals/ase/ase24.html#CabalRTB17</td>\n",
       "      <td>journals/ase/</td>\n",
       "      <td>2017</td>\n",
       "      <td></td>\n",
       "    </tr>\n",
       "    <tr>\n",
       "      <td>1280</td>\n",
       "      <td>Kai Pan and Xintao Wu and Tao Xie</td>\n",
       "      <td>@article{pan:2015,\\njournal = {Automated Softw...</td>\n",
       "      <td>journals/ase/PanWX15</td>\n",
       "      <td>Program-input generation for testing database ...</td>\n",
       "      <td>db/journals/ase/ase22.html#PanWX15</td>\n",
       "      <td>journals/ase/</td>\n",
       "      <td>2015</td>\n",
       "      <td></td>\n",
       "    </tr>\n",
       "    <tr>\n",
       "      <td>1312</td>\n",
       "      <td>Alexander Borgida</td>\n",
       "      <td>@article{borgida:2007,\\njournal = {Automated S...</td>\n",
       "      <td>journals/ase/Borgida07</td>\n",
       "      <td>How knowledge representation meets software en...</td>\n",
       "      <td>db/journals/ase/ase14.html#Borgida07</td>\n",
       "      <td>journals/ase/</td>\n",
       "      <td>2007</td>\n",
       "      <td></td>\n",
       "    </tr>\n",
       "    <tr>\n",
       "      <td>...</td>\n",
       "      <td>...</td>\n",
       "      <td>...</td>\n",
       "      <td>...</td>\n",
       "      <td>...</td>\n",
       "      <td>...</td>\n",
       "      <td>...</td>\n",
       "      <td>...</td>\n",
       "      <td>...</td>\n",
       "    </tr>\n",
       "    <tr>\n",
       "      <td>36197</td>\n",
       "      <td>Sonia Bergamaschi and Nicola Ferro 0001 and Fr...</td>\n",
       "      <td>@inproceedings{bergamaschi:2013,\\nbooktitle = ...</td>\n",
       "      <td>conf/vldb/BergamaschiFGS13</td>\n",
       "      <td>Keyword search and evaluation over relational ...</td>\n",
       "      <td>db/conf/vldb/dbrank2013.html#BergamaschiFGS13</td>\n",
       "      <td>conf/vldb/</td>\n",
       "      <td>2013</td>\n",
       "      <td>conf/vldb/2013dbrank</td>\n",
       "    </tr>\n",
       "    <tr>\n",
       "      <td>36229</td>\n",
       "      <td>Alfredo Cuzzocrea and Marcello Di Stefano and ...</td>\n",
       "      <td>@inproceedings{cuzzocrea:2013,\\nbooktitle = {I...</td>\n",
       "      <td>conf/vldb/CuzzocreaSFP13</td>\n",
       "      <td>Effectively and efficiently supporting crowd-e...</td>\n",
       "      <td>db/conf/vldb/ssw2013.html#CuzzocreaSFP13</td>\n",
       "      <td>conf/vldb/</td>\n",
       "      <td>2013</td>\n",
       "      <td>conf/vldb/2013ssw</td>\n",
       "    </tr>\n",
       "    <tr>\n",
       "      <td>36428</td>\n",
       "      <td>Foteini Alvanaki and Sebastian Michel 0001</td>\n",
       "      <td>@inproceedings{alvanaki:2013,\\nbooktitle = {In...</td>\n",
       "      <td>conf/vldb/AlvanakiM13</td>\n",
       "      <td>A thin monitoring layer for top-k aggregation ...</td>\n",
       "      <td>db/conf/vldb/dbrank2013.html#AlvanakiM13</td>\n",
       "      <td>conf/vldb/</td>\n",
       "      <td>2013</td>\n",
       "      <td>conf/vldb/2013dbrank</td>\n",
       "    </tr>\n",
       "    <tr>\n",
       "      <td>36657</td>\n",
       "      <td>Marek Rusinkiewicz and Amit P. Sheth</td>\n",
       "      <td>@inproceedings{rusinkiewicz:1992,\\nbooktitle =...</td>\n",
       "      <td>conf/vldb/RusinkiewiczS92</td>\n",
       "      <td>Multidatabase Applications: Semantic and Syste...</td>\n",
       "      <td>db/conf/vldb/vldb92.html#RusinkiewiczS92</td>\n",
       "      <td>conf/vldb/</td>\n",
       "      <td>1992</td>\n",
       "      <td>conf/vldb/92</td>\n",
       "    </tr>\n",
       "    <tr>\n",
       "      <td>36754</td>\n",
       "      <td>Jean-François Pons and Jean-François Vilarem</td>\n",
       "      <td>@inproceedings{pons:1988,\\nbooktitle = {Intern...</td>\n",
       "      <td>conf/vldb/PonsV88</td>\n",
       "      <td>Mixed concurrency control: Dealing with hetero...</td>\n",
       "      <td>db/conf/vldb/vldb88.html#PonsV88</td>\n",
       "      <td>conf/vldb/</td>\n",
       "      <td>1988</td>\n",
       "      <td>conf/vldb/88</td>\n",
       "    </tr>\n",
       "  </tbody>\n",
       "</table>\n",
       "<p>828 rows × 8 columns</p>\n",
       "</div>"
      ],
      "text/plain": [
       "                                                 authors  \\\n",
       "1039                       Amel Mammar and Régine Laleau   \n",
       "1210             Miyuru Dayarathna and Toyotaro Suzumura   \n",
       "1235   María José Suárez Cabal and Claudio de la Riva...   \n",
       "1280                   Kai Pan and Xintao Wu and Tao Xie   \n",
       "1312                                   Alexander Borgida   \n",
       "...                                                  ...   \n",
       "36197  Sonia Bergamaschi and Nicola Ferro 0001 and Fr...   \n",
       "36229  Alfredo Cuzzocrea and Marcello Di Stefano and ...   \n",
       "36428         Foteini Alvanaki and Sebastian Michel 0001   \n",
       "36657               Marek Rusinkiewicz and Amit P. Sheth   \n",
       "36754       Jean-François Pons and Jean-François Vilarem   \n",
       "\n",
       "                                                  bibtex  \\\n",
       "1039   @article{mammar:2006,\\njournal = {Automated So...   \n",
       "1210   @article{dayarathna:2014,\\njournal = {Automate...   \n",
       "1235   @article{josé:2017,\\njournal = {Automated Soft...   \n",
       "1280   @article{pan:2015,\\njournal = {Automated Softw...   \n",
       "1312   @article{borgida:2007,\\njournal = {Automated S...   \n",
       "...                                                  ...   \n",
       "36197  @inproceedings{bergamaschi:2013,\\nbooktitle = ...   \n",
       "36229  @inproceedings{cuzzocrea:2013,\\nbooktitle = {I...   \n",
       "36428  @inproceedings{alvanaki:2013,\\nbooktitle = {In...   \n",
       "36657  @inproceedings{rusinkiewicz:1992,\\nbooktitle =...   \n",
       "36754  @inproceedings{pons:1988,\\nbooktitle = {Intern...   \n",
       "\n",
       "                              key  \\\n",
       "1039       journals/ase/MammarL06   \n",
       "1210   journals/ase/DayarathnaS14   \n",
       "1235      journals/ase/CabalRTB17   \n",
       "1280         journals/ase/PanWX15   \n",
       "1312       journals/ase/Borgida07   \n",
       "...                           ...   \n",
       "36197  conf/vldb/BergamaschiFGS13   \n",
       "36229    conf/vldb/CuzzocreaSFP13   \n",
       "36428       conf/vldb/AlvanakiM13   \n",
       "36657   conf/vldb/RusinkiewiczS92   \n",
       "36754           conf/vldb/PonsV88   \n",
       "\n",
       "                                                   title  \\\n",
       "1039   A formal approach based on UML and B for the s...   \n",
       "1210   Graph database benchmarking on cloud environme...   \n",
       "1235   Incremental test data generation for database ...   \n",
       "1280   Program-input generation for testing database ...   \n",
       "1312   How knowledge representation meets software en...   \n",
       "...                                                  ...   \n",
       "36197  Keyword search and evaluation over relational ...   \n",
       "36229  Effectively and efficiently supporting crowd-e...   \n",
       "36428  A thin monitoring layer for top-k aggregation ...   \n",
       "36657  Multidatabase Applications: Semantic and Syste...   \n",
       "36754  Mixed concurrency control: Dealing with hetero...   \n",
       "\n",
       "                                                 url          venue  year  \\\n",
       "1039            db/journals/ase/ase13.html#MammarL06  journals/ase/  2006   \n",
       "1210        db/journals/ase/ase21.html#DayarathnaS14  journals/ase/  2014   \n",
       "1235           db/journals/ase/ase24.html#CabalRTB17  journals/ase/  2017   \n",
       "1280              db/journals/ase/ase22.html#PanWX15  journals/ase/  2015   \n",
       "1312            db/journals/ase/ase14.html#Borgida07  journals/ase/  2007   \n",
       "...                                              ...            ...   ...   \n",
       "36197  db/conf/vldb/dbrank2013.html#BergamaschiFGS13     conf/vldb/  2013   \n",
       "36229       db/conf/vldb/ssw2013.html#CuzzocreaSFP13     conf/vldb/  2013   \n",
       "36428       db/conf/vldb/dbrank2013.html#AlvanakiM13     conf/vldb/  2013   \n",
       "36657       db/conf/vldb/vldb92.html#RusinkiewiczS92     conf/vldb/  1992   \n",
       "36754               db/conf/vldb/vldb88.html#PonsV88     conf/vldb/  1988   \n",
       "\n",
       "                   crossref  \n",
       "1039                         \n",
       "1210                         \n",
       "1235                         \n",
       "1280                         \n",
       "1312                         \n",
       "...                     ...  \n",
       "36197  conf/vldb/2013dbrank  \n",
       "36229     conf/vldb/2013ssw  \n",
       "36428  conf/vldb/2013dbrank  \n",
       "36657          conf/vldb/92  \n",
       "36754          conf/vldb/88  \n",
       "\n",
       "[828 rows x 8 columns]"
      ]
     },
     "execution_count": 6,
     "metadata": {},
     "output_type": "execute_result"
    }
   ],
   "source": [
    "df"
   ]
  },
  {
   "cell_type": "code",
   "execution_count": 7,
   "metadata": {},
   "outputs": [
    {
     "data": {
      "text/plain": [
       "conf/sigmod/        239\n",
       "journals/is/        214\n",
       "conf/icde/          141\n",
       "journals/vldb/       94\n",
       "journals/sigmod/     72\n",
       "conf/icse/           23\n",
       "conf/vldb/           18\n",
       "conf/sigsoft/         8\n",
       "conf/kbse/            7\n",
       "journals/ase/         5\n",
       "journals/tosem/       3\n",
       "journals/tse/         2\n",
       "conf/msr/             2\n",
       "Name: venue, dtype: int64"
      ]
     },
     "execution_count": 7,
     "metadata": {},
     "output_type": "execute_result"
    }
   ],
   "source": [
    "df.venue.value_counts()"
   ]
  },
  {
   "cell_type": "code",
   "execution_count": 8,
   "metadata": {},
   "outputs": [
    {
     "data": {
      "text/plain": [
       "<matplotlib.axes._subplots.AxesSubplot at 0x1173b1110>"
      ]
     },
     "execution_count": 8,
     "metadata": {},
     "output_type": "execute_result"
    },
    {
     "data": {
      "image/png": "[encoded data removed]",
      "text/plain": [
       "<Figure size 432x288 with 1 Axes>"
      ]
     },
     "metadata": {},
     "output_type": "display_data"
    }
   ],
   "source": [
    "df.venue.value_counts().plot(kind='pie', autopct='%1.1f%%')"
   ]
  },
  {
   "cell_type": "code",
   "execution_count": 9,
   "metadata": {},
   "outputs": [
    {
     "data": {
      "text/plain": [
       "50"
      ]
     },
     "execution_count": 9,
     "metadata": {},
     "output_type": "execute_result"
    }
   ],
   "source": [
    "es_venues = ['conf/icse/', 'conf/sigsoft/', 'conf/kbse/', 'journals/ase/', 'journals/tosem/', 'journals/tse/', 'conf/msr/']\n",
    "df=df[df.venue.isin(es_venues)]\n",
    "len(df)"
   ]
  },
  {
   "cell_type": "code",
   "execution_count": 10,
   "metadata": {},
   "outputs": [
    {
     "data": {
      "text/plain": [
       "<matplotlib.axes._subplots.AxesSubplot at 0x11744ba50>"
      ]
     },
     "execution_count": 10,
     "metadata": {},
     "output_type": "execute_result"
    },
    {
     "data": {
      "image/png": "[encoded data removed]",
      "text/plain": [
       "<Figure size 432x288 with 1 Axes>"
      ]
     },
     "metadata": {},
     "output_type": "display_data"
    }
   ],
   "source": [
    "df.venue.value_counts().plot(kind='pie', autopct='%1.1f%%')"
   ]
  },
  {
   "cell_type": "code",
   "execution_count": 11,
   "metadata": {},
   "outputs": [],
   "source": [
    "df.to_excel(FILTERED_PAPERS_FILE, index=False)"
   ]
  },
  {
   "cell_type": "code",
   "execution_count": null,
   "metadata": {},
   "outputs": [],
   "source": []
  }
 ],
 "metadata": {
  "kernelspec": {
   "display_name": "Python 3",
   "language": "python",
   "name": "python3"
  },
  "language_info": {
   "codemirror_mode": {
    "name": "ipython",
    "version": 3
   },
   "file_extension": ".py",
   "mimetype": "text/x-python",
   "name": "python",
   "nbconvert_exporter": "python",
   "pygments_lexer": "ipython3",
   "version": "3.7.4"
  }
 },
 "nbformat": 4,
 "nbformat_minor": 2
}
