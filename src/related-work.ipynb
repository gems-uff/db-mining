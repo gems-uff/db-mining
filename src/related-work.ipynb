{
 "cells": [
  {
   "cell_type": "code",
   "execution_count": 1,
   "metadata": {},
   "outputs": [],
   "source": [
    "import pandas as pd\n",
    "import matplotlib.pyplot as plt \n",
    "from util import PAPERS_FILE, FILTERED_PAPERS_FILE"
   ]
  },
  {
   "cell_type": "code",
   "execution_count": 2,
   "metadata": {},
   "outputs": [
    {
     "data": {
      "text/plain": [
       "39989"
      ]
     },
     "execution_count": 2,
     "metadata": {},
     "output_type": "execute_result"
    }
   ],
   "source": [
    "#reads papers from Excel file\n",
    "df = pd.read_excel(PAPERS_FILE, keep_default_na=False)\n",
    "len(df)"
   ]
  },
  {
   "cell_type": "code",
   "execution_count": 3,
   "metadata": {},
   "outputs": [
    {
     "data": {
      "text/html": [
       "<div>\n",
       "<style scoped>\n",
       "    .dataframe tbody tr th:only-of-type {\n",
       "        vertical-align: middle;\n",
       "    }\n",
       "\n",
       "    .dataframe tbody tr th {\n",
       "        vertical-align: top;\n",
       "    }\n",
       "\n",
       "    .dataframe thead th {\n",
       "        text-align: right;\n",
       "    }\n",
       "</style>\n",
       "<table border=\"1\" class=\"dataframe\">\n",
       "  <thead>\n",
       "    <tr style=\"text-align: right;\">\n",
       "      <th></th>\n",
       "      <th>authors</th>\n",
       "      <th>bibtex</th>\n",
       "      <th>key</th>\n",
       "      <th>title</th>\n",
       "      <th>url</th>\n",
       "      <th>venue</th>\n",
       "      <th>year</th>\n",
       "      <th>crossref</th>\n",
       "    </tr>\n",
       "  </thead>\n",
       "  <tbody>\n",
       "    <tr>\n",
       "      <td>0</td>\n",
       "      <td>Qi Luo and Aswathy Nair and Mark Grechanik and...</td>\n",
       "      <td>@article{luo:2017,\\njournal = {Empirical Softw...</td>\n",
       "      <td>journals/ese/LuoNGP17</td>\n",
       "      <td>FOREPOST: finding performance problems automat...</td>\n",
       "      <td>db/journals/ese/ese22.html#LuoNGP17</td>\n",
       "      <td>journals/ese/</td>\n",
       "      <td>2017</td>\n",
       "      <td></td>\n",
       "    </tr>\n",
       "    <tr>\n",
       "      <td>1</td>\n",
       "      <td>F. MacDonald and J. Miller</td>\n",
       "      <td>@article{macdonald:1998,\\njournal = {Empirical...</td>\n",
       "      <td>journals/ese/MacDonaldM98</td>\n",
       "      <td>A Comparison of Tool-Based and Paper-Based Sof...</td>\n",
       "      <td>db/journals/ese/ese3.html#MacDonaldM98</td>\n",
       "      <td>journals/ese/</td>\n",
       "      <td>1998</td>\n",
       "      <td></td>\n",
       "    </tr>\n",
       "    <tr>\n",
       "      <td>2</td>\n",
       "      <td>Jin Guo 0004 and Marek Gibiec and Jane Cleland...</td>\n",
       "      <td>@article{guo:2017,\\njournal = {Empirical Softw...</td>\n",
       "      <td>journals/ese/GuoGC17</td>\n",
       "      <td>Tackling the term-mismatch problem in automate...</td>\n",
       "      <td>db/journals/ese/ese22.html#GuoGC17</td>\n",
       "      <td>journals/ese/</td>\n",
       "      <td>2017</td>\n",
       "      <td></td>\n",
       "    </tr>\n",
       "    <tr>\n",
       "      <td>3</td>\n",
       "      <td>Shaowei Wang 0002 and David Lo 0001 and Bogdan...</td>\n",
       "      <td>@article{wang:2018,\\njournal = {Empirical Soft...</td>\n",
       "      <td>journals/ese/WangLVS18</td>\n",
       "      <td>EnTagRec ++: An enhanced tag recommendation sy...</td>\n",
       "      <td>db/journals/ese/ese23.html#WangLVS18</td>\n",
       "      <td>journals/ese/</td>\n",
       "      <td>2018</td>\n",
       "      <td></td>\n",
       "    </tr>\n",
       "    <tr>\n",
       "      <td>4</td>\n",
       "      <td>Jeffrey Carver and Forrest Shull and Victor R....</td>\n",
       "      <td>@article{carver:2006,\\njournal = {Empirical So...</td>\n",
       "      <td>journals/ese/CarverSB06</td>\n",
       "      <td>Can observational techniques help novices over...</td>\n",
       "      <td>db/journals/ese/ese11.html#CarverSB06</td>\n",
       "      <td>journals/ese/</td>\n",
       "      <td>2006</td>\n",
       "      <td></td>\n",
       "    </tr>\n",
       "    <tr>\n",
       "      <td>...</td>\n",
       "      <td>...</td>\n",
       "      <td>...</td>\n",
       "      <td>...</td>\n",
       "      <td>...</td>\n",
       "      <td>...</td>\n",
       "      <td>...</td>\n",
       "      <td>...</td>\n",
       "      <td>...</td>\n",
       "    </tr>\n",
       "    <tr>\n",
       "      <td>39984</td>\n",
       "      <td>Martin Theobald and Ralf Schenkel and Gerhard ...</td>\n",
       "      <td>@inproceedings{theobald:2005,\\nbooktitle = {In...</td>\n",
       "      <td>conf/vldb/TheobaldSW05</td>\n",
       "      <td>An Efficient and Versatile Query Engine for To...</td>\n",
       "      <td>db/conf/vldb/vldb2005.html#TheobaldSW05</td>\n",
       "      <td>conf/vldb/</td>\n",
       "      <td>2005</td>\n",
       "      <td>conf/vldb/2005</td>\n",
       "    </tr>\n",
       "    <tr>\n",
       "      <td>39985</td>\n",
       "      <td>Tianqiu Wang and Simone Santini and Amarnath G...</td>\n",
       "      <td>@inproceedings{wang:2003,\\nbooktitle = {Intern...</td>\n",
       "      <td>conf/vldb/WangSG03</td>\n",
       "      <td>An Interpolated Volume Data Model</td>\n",
       "      <td>db/conf/vldb/vldb2003.html#WangSG03</td>\n",
       "      <td>conf/vldb/</td>\n",
       "      <td>2003</td>\n",
       "      <td>conf/vldb/2003</td>\n",
       "    </tr>\n",
       "    <tr>\n",
       "      <td>39986</td>\n",
       "      <td>Mehmet Sayal and Fabio Casati and Umeshwar Day...</td>\n",
       "      <td>@inproceedings{sayal:2002,\\nbooktitle = {Inter...</td>\n",
       "      <td>conf/vldb/SayalCDS02</td>\n",
       "      <td>Business Process Cockpit</td>\n",
       "      <td>db/conf/vldb/vldb2002.html#SayalCDS02</td>\n",
       "      <td>conf/vldb/</td>\n",
       "      <td>2002</td>\n",
       "      <td>conf/vldb/2002</td>\n",
       "    </tr>\n",
       "    <tr>\n",
       "      <td>39987</td>\n",
       "      <td>Renée J. Miller and Laura M. Haas and Mauricio...</td>\n",
       "      <td>@inproceedings{j.:2000,\\nbooktitle = {Internat...</td>\n",
       "      <td>conf/vldb/MillerHH00</td>\n",
       "      <td>Schema Mapping as Query Discovery</td>\n",
       "      <td>db/conf/vldb/vldb2000.html#MillerHH00</td>\n",
       "      <td>conf/vldb/</td>\n",
       "      <td>2000</td>\n",
       "      <td>conf/vldb/2000</td>\n",
       "    </tr>\n",
       "    <tr>\n",
       "      <td>39988</td>\n",
       "      <td>Michael L. Brodie</td>\n",
       "      <td>@inproceedings{l.:1981,\\nbooktitle = {Internat...</td>\n",
       "      <td>conf/vldb/Brodie81</td>\n",
       "      <td>On Modelling Behavioural Semantics of Databases</td>\n",
       "      <td>db/conf/vldb/vldb81.html#Brodie81</td>\n",
       "      <td>conf/vldb/</td>\n",
       "      <td>1981</td>\n",
       "      <td>conf/vldb/81</td>\n",
       "    </tr>\n",
       "  </tbody>\n",
       "</table>\n",
       "<p>39989 rows × 8 columns</p>\n",
       "</div>"
      ],
      "text/plain": [
       "                                                 authors  \\\n",
       "0      Qi Luo and Aswathy Nair and Mark Grechanik and...   \n",
       "1                             F. MacDonald and J. Miller   \n",
       "2      Jin Guo 0004 and Marek Gibiec and Jane Cleland...   \n",
       "3      Shaowei Wang 0002 and David Lo 0001 and Bogdan...   \n",
       "4      Jeffrey Carver and Forrest Shull and Victor R....   \n",
       "...                                                  ...   \n",
       "39984  Martin Theobald and Ralf Schenkel and Gerhard ...   \n",
       "39985  Tianqiu Wang and Simone Santini and Amarnath G...   \n",
       "39986  Mehmet Sayal and Fabio Casati and Umeshwar Day...   \n",
       "39987  Renée J. Miller and Laura M. Haas and Mauricio...   \n",
       "39988                                  Michael L. Brodie   \n",
       "\n",
       "                                                  bibtex  \\\n",
       "0      @article{luo:2017,\\njournal = {Empirical Softw...   \n",
       "1      @article{macdonald:1998,\\njournal = {Empirical...   \n",
       "2      @article{guo:2017,\\njournal = {Empirical Softw...   \n",
       "3      @article{wang:2018,\\njournal = {Empirical Soft...   \n",
       "4      @article{carver:2006,\\njournal = {Empirical So...   \n",
       "...                                                  ...   \n",
       "39984  @inproceedings{theobald:2005,\\nbooktitle = {In...   \n",
       "39985  @inproceedings{wang:2003,\\nbooktitle = {Intern...   \n",
       "39986  @inproceedings{sayal:2002,\\nbooktitle = {Inter...   \n",
       "39987  @inproceedings{j.:2000,\\nbooktitle = {Internat...   \n",
       "39988  @inproceedings{l.:1981,\\nbooktitle = {Internat...   \n",
       "\n",
       "                             key  \\\n",
       "0          journals/ese/LuoNGP17   \n",
       "1      journals/ese/MacDonaldM98   \n",
       "2           journals/ese/GuoGC17   \n",
       "3         journals/ese/WangLVS18   \n",
       "4        journals/ese/CarverSB06   \n",
       "...                          ...   \n",
       "39984     conf/vldb/TheobaldSW05   \n",
       "39985         conf/vldb/WangSG03   \n",
       "39986       conf/vldb/SayalCDS02   \n",
       "39987       conf/vldb/MillerHH00   \n",
       "39988         conf/vldb/Brodie81   \n",
       "\n",
       "                                                   title  \\\n",
       "0      FOREPOST: finding performance problems automat...   \n",
       "1      A Comparison of Tool-Based and Paper-Based Sof...   \n",
       "2      Tackling the term-mismatch problem in automate...   \n",
       "3      EnTagRec ++: An enhanced tag recommendation sy...   \n",
       "4      Can observational techniques help novices over...   \n",
       "...                                                  ...   \n",
       "39984  An Efficient and Versatile Query Engine for To...   \n",
       "39985                  An Interpolated Volume Data Model   \n",
       "39986                           Business Process Cockpit   \n",
       "39987                  Schema Mapping as Query Discovery   \n",
       "39988    On Modelling Behavioural Semantics of Databases   \n",
       "\n",
       "                                           url          venue  year  \\\n",
       "0          db/journals/ese/ese22.html#LuoNGP17  journals/ese/  2017   \n",
       "1       db/journals/ese/ese3.html#MacDonaldM98  journals/ese/  1998   \n",
       "2           db/journals/ese/ese22.html#GuoGC17  journals/ese/  2017   \n",
       "3         db/journals/ese/ese23.html#WangLVS18  journals/ese/  2018   \n",
       "4        db/journals/ese/ese11.html#CarverSB06  journals/ese/  2006   \n",
       "...                                        ...            ...   ...   \n",
       "39984  db/conf/vldb/vldb2005.html#TheobaldSW05     conf/vldb/  2005   \n",
       "39985      db/conf/vldb/vldb2003.html#WangSG03     conf/vldb/  2003   \n",
       "39986    db/conf/vldb/vldb2002.html#SayalCDS02     conf/vldb/  2002   \n",
       "39987    db/conf/vldb/vldb2000.html#MillerHH00     conf/vldb/  2000   \n",
       "39988        db/conf/vldb/vldb81.html#Brodie81     conf/vldb/  1981   \n",
       "\n",
       "             crossref  \n",
       "0                      \n",
       "1                      \n",
       "2                      \n",
       "3                      \n",
       "4                      \n",
       "...               ...  \n",
       "39984  conf/vldb/2005  \n",
       "39985  conf/vldb/2003  \n",
       "39986  conf/vldb/2002  \n",
       "39987  conf/vldb/2000  \n",
       "39988    conf/vldb/81  \n",
       "\n",
       "[39989 rows x 8 columns]"
      ]
     },
     "execution_count": 3,
     "metadata": {},
     "output_type": "execute_result"
    }
   ],
   "source": [
    "df"
   ]
  },
  {
   "cell_type": "code",
   "execution_count": 4,
   "metadata": {},
   "outputs": [
    {
     "data": {
      "text/plain": [
       "<matplotlib.axes._subplots.AxesSubplot at 0x1183d1750>"
      ]
     },
     "execution_count": 4,
     "metadata": {},
     "output_type": "execute_result"
    },
    {
     "data": {
      "image/png": "[encoded data removed]",
      "text/plain": [
       "<Figure size 432x288 with 1 Axes>"
      ]
     },
     "metadata": {},
     "output_type": "display_data"
    }
   ],
   "source": [
    "df.venue.value_counts().plot(kind='pie', autopct='%1.1f%%')"
   ]
  },
  {
   "cell_type": "code",
   "execution_count": 5,
   "metadata": {},
   "outputs": [
    {
     "data": {
      "text/plain": [
       "3431"
      ]
     },
     "execution_count": 5,
     "metadata": {},
     "output_type": "execute_result"
    }
   ],
   "source": [
    "df = df[df['title'].str.contains('database', case=False)]\n",
    "len(df)"
   ]
  },
  {
   "cell_type": "code",
   "execution_count": 6,
   "metadata": {},
   "outputs": [
    {
     "data": {
      "text/html": [
       "<div>\n",
       "<style scoped>\n",
       "    .dataframe tbody tr th:only-of-type {\n",
       "        vertical-align: middle;\n",
       "    }\n",
       "\n",
       "    .dataframe tbody tr th {\n",
       "        vertical-align: top;\n",
       "    }\n",
       "\n",
       "    .dataframe thead th {\n",
       "        text-align: right;\n",
       "    }\n",
       "</style>\n",
       "<table border=\"1\" class=\"dataframe\">\n",
       "  <thead>\n",
       "    <tr style=\"text-align: right;\">\n",
       "      <th></th>\n",
       "      <th>authors</th>\n",
       "      <th>bibtex</th>\n",
       "      <th>key</th>\n",
       "      <th>title</th>\n",
       "      <th>url</th>\n",
       "      <th>venue</th>\n",
       "      <th>year</th>\n",
       "      <th>crossref</th>\n",
       "    </tr>\n",
       "  </thead>\n",
       "  <tbody>\n",
       "    <tr>\n",
       "      <td>15</td>\n",
       "      <td>Emilia Mendes and Chris Lokan</td>\n",
       "      <td>@article{mendes:2008,\\njournal = {Empirical So...</td>\n",
       "      <td>journals/ese/MendesL08</td>\n",
       "      <td>Replicating studies on cross- vs single-compan...</td>\n",
       "      <td>db/journals/ese/ese13.html#MendesL08</td>\n",
       "      <td>journals/ese/</td>\n",
       "      <td>2008</td>\n",
       "      <td></td>\n",
       "    </tr>\n",
       "    <tr>\n",
       "      <td>1039</td>\n",
       "      <td>Amel Mammar and Régine Laleau</td>\n",
       "      <td>@article{mammar:2006,\\njournal = {Automated So...</td>\n",
       "      <td>journals/ase/MammarL06</td>\n",
       "      <td>A formal approach based on UML and B for the s...</td>\n",
       "      <td>db/journals/ase/ase13.html#MammarL06</td>\n",
       "      <td>journals/ase/</td>\n",
       "      <td>2006</td>\n",
       "      <td></td>\n",
       "    </tr>\n",
       "    <tr>\n",
       "      <td>1043</td>\n",
       "      <td>Jean-Luc Hainaut and Vincent Englebert and Jea...</td>\n",
       "      <td>@article{hainaut:1996,\\njournal = {Automated S...</td>\n",
       "      <td>journals/ase/HainautEHHR96</td>\n",
       "      <td>Database Reverse Engineering: From Requirement...</td>\n",
       "      <td>db/journals/ase/ase3.html#HainautEHHR96</td>\n",
       "      <td>journals/ase/</td>\n",
       "      <td>1996</td>\n",
       "      <td></td>\n",
       "    </tr>\n",
       "    <tr>\n",
       "      <td>1210</td>\n",
       "      <td>Miyuru Dayarathna and Toyotaro Suzumura</td>\n",
       "      <td>@article{dayarathna:2014,\\njournal = {Automate...</td>\n",
       "      <td>journals/ase/DayarathnaS14</td>\n",
       "      <td>Graph database benchmarking on cloud environme...</td>\n",
       "      <td>db/journals/ase/ase21.html#DayarathnaS14</td>\n",
       "      <td>journals/ase/</td>\n",
       "      <td>2014</td>\n",
       "      <td></td>\n",
       "    </tr>\n",
       "    <tr>\n",
       "      <td>1235</td>\n",
       "      <td>María José Suárez Cabal and Claudio de la Riva...</td>\n",
       "      <td>@article{josé:2017,\\njournal = {Automated Soft...</td>\n",
       "      <td>journals/ase/CabalRTB17</td>\n",
       "      <td>Incremental test data generation for database ...</td>\n",
       "      <td>db/journals/ase/ase24.html#CabalRTB17</td>\n",
       "      <td>journals/ase/</td>\n",
       "      <td>2017</td>\n",
       "      <td></td>\n",
       "    </tr>\n",
       "    <tr>\n",
       "      <td>...</td>\n",
       "      <td>...</td>\n",
       "      <td>...</td>\n",
       "      <td>...</td>\n",
       "      <td>...</td>\n",
       "      <td>...</td>\n",
       "      <td>...</td>\n",
       "      <td>...</td>\n",
       "      <td>...</td>\n",
       "    </tr>\n",
       "    <tr>\n",
       "      <td>39975</td>\n",
       "      <td>Christian S. Jensen and David B. Lomet</td>\n",
       "      <td>@inproceedings{s.:2001,\\nbooktitle = {Internat...</td>\n",
       "      <td>conf/vldb/JensenL01</td>\n",
       "      <td>Transaction Timestamping in (Temporal) Databases</td>\n",
       "      <td>db/conf/vldb/vldb2001.html#JensenL01</td>\n",
       "      <td>conf/vldb/</td>\n",
       "      <td>2001</td>\n",
       "      <td>conf/vldb/2001</td>\n",
       "    </tr>\n",
       "    <tr>\n",
       "      <td>39978</td>\n",
       "      <td>David Kernert and Frank Köhler and Wolfgang Le...</td>\n",
       "      <td>@inproceedings{kernert:2013,\\nbooktitle = {Int...</td>\n",
       "      <td>conf/vldb/KernertKL13a</td>\n",
       "      <td>Bringing Linear Algebra Objects to Life in a C...</td>\n",
       "      <td>db/conf/vldb/imdm2014s.html#KernertKL13a</td>\n",
       "      <td>conf/vldb/</td>\n",
       "      <td>2013</td>\n",
       "      <td>conf/vldb/2014imdms</td>\n",
       "    </tr>\n",
       "    <tr>\n",
       "      <td>39980</td>\n",
       "      <td>Rakesh Chandra and Arie Segev</td>\n",
       "      <td>@inproceedings{chandra:1993,\\nbooktitle = {Int...</td>\n",
       "      <td>conf/vldb/ChandraS93</td>\n",
       "      <td>Managing Temporal Financial Data in an Extensi...</td>\n",
       "      <td>db/conf/vldb/vldb93.html#ChandraS93</td>\n",
       "      <td>conf/vldb/</td>\n",
       "      <td>1993</td>\n",
       "      <td>conf/vldb/93</td>\n",
       "    </tr>\n",
       "    <tr>\n",
       "      <td>39983</td>\n",
       "      <td>Rakesh Agrawal 0001 and Jerry Kiernan and Rama...</td>\n",
       "      <td>@inproceedings{agrawal:2002,\\nbooktitle = {Int...</td>\n",
       "      <td>conf/vldb/AgrawalKSX02</td>\n",
       "      <td>Hippocratic Databases</td>\n",
       "      <td>db/conf/vldb/vldb2002.html#AgrawalKSX02</td>\n",
       "      <td>conf/vldb/</td>\n",
       "      <td>2002</td>\n",
       "      <td>conf/vldb/2002</td>\n",
       "    </tr>\n",
       "    <tr>\n",
       "      <td>39988</td>\n",
       "      <td>Michael L. Brodie</td>\n",
       "      <td>@inproceedings{l.:1981,\\nbooktitle = {Internat...</td>\n",
       "      <td>conf/vldb/Brodie81</td>\n",
       "      <td>On Modelling Behavioural Semantics of Databases</td>\n",
       "      <td>db/conf/vldb/vldb81.html#Brodie81</td>\n",
       "      <td>conf/vldb/</td>\n",
       "      <td>1981</td>\n",
       "      <td>conf/vldb/81</td>\n",
       "    </tr>\n",
       "  </tbody>\n",
       "</table>\n",
       "<p>3431 rows × 8 columns</p>\n",
       "</div>"
      ],
      "text/plain": [
       "                                                 authors  \\\n",
       "15                         Emilia Mendes and Chris Lokan   \n",
       "1039                       Amel Mammar and Régine Laleau   \n",
       "1043   Jean-Luc Hainaut and Vincent Englebert and Jea...   \n",
       "1210             Miyuru Dayarathna and Toyotaro Suzumura   \n",
       "1235   María José Suárez Cabal and Claudio de la Riva...   \n",
       "...                                                  ...   \n",
       "39975             Christian S. Jensen and David B. Lomet   \n",
       "39978  David Kernert and Frank Köhler and Wolfgang Le...   \n",
       "39980                      Rakesh Chandra and Arie Segev   \n",
       "39983  Rakesh Agrawal 0001 and Jerry Kiernan and Rama...   \n",
       "39988                                  Michael L. Brodie   \n",
       "\n",
       "                                                  bibtex  \\\n",
       "15     @article{mendes:2008,\\njournal = {Empirical So...   \n",
       "1039   @article{mammar:2006,\\njournal = {Automated So...   \n",
       "1043   @article{hainaut:1996,\\njournal = {Automated S...   \n",
       "1210   @article{dayarathna:2014,\\njournal = {Automate...   \n",
       "1235   @article{josé:2017,\\njournal = {Automated Soft...   \n",
       "...                                                  ...   \n",
       "39975  @inproceedings{s.:2001,\\nbooktitle = {Internat...   \n",
       "39978  @inproceedings{kernert:2013,\\nbooktitle = {Int...   \n",
       "39980  @inproceedings{chandra:1993,\\nbooktitle = {Int...   \n",
       "39983  @inproceedings{agrawal:2002,\\nbooktitle = {Int...   \n",
       "39988  @inproceedings{l.:1981,\\nbooktitle = {Internat...   \n",
       "\n",
       "                              key  \\\n",
       "15         journals/ese/MendesL08   \n",
       "1039       journals/ase/MammarL06   \n",
       "1043   journals/ase/HainautEHHR96   \n",
       "1210   journals/ase/DayarathnaS14   \n",
       "1235      journals/ase/CabalRTB17   \n",
       "...                           ...   \n",
       "39975         conf/vldb/JensenL01   \n",
       "39978      conf/vldb/KernertKL13a   \n",
       "39980        conf/vldb/ChandraS93   \n",
       "39983      conf/vldb/AgrawalKSX02   \n",
       "39988          conf/vldb/Brodie81   \n",
       "\n",
       "                                                   title  \\\n",
       "15     Replicating studies on cross- vs single-compan...   \n",
       "1039   A formal approach based on UML and B for the s...   \n",
       "1043   Database Reverse Engineering: From Requirement...   \n",
       "1210   Graph database benchmarking on cloud environme...   \n",
       "1235   Incremental test data generation for database ...   \n",
       "...                                                  ...   \n",
       "39975   Transaction Timestamping in (Temporal) Databases   \n",
       "39978  Bringing Linear Algebra Objects to Life in a C...   \n",
       "39980  Managing Temporal Financial Data in an Extensi...   \n",
       "39983                              Hippocratic Databases   \n",
       "39988    On Modelling Behavioural Semantics of Databases   \n",
       "\n",
       "                                            url          venue  year  \\\n",
       "15         db/journals/ese/ese13.html#MendesL08  journals/ese/  2008   \n",
       "1039       db/journals/ase/ase13.html#MammarL06  journals/ase/  2006   \n",
       "1043    db/journals/ase/ase3.html#HainautEHHR96  journals/ase/  1996   \n",
       "1210   db/journals/ase/ase21.html#DayarathnaS14  journals/ase/  2014   \n",
       "1235      db/journals/ase/ase24.html#CabalRTB17  journals/ase/  2017   \n",
       "...                                         ...            ...   ...   \n",
       "39975      db/conf/vldb/vldb2001.html#JensenL01     conf/vldb/  2001   \n",
       "39978  db/conf/vldb/imdm2014s.html#KernertKL13a     conf/vldb/  2013   \n",
       "39980       db/conf/vldb/vldb93.html#ChandraS93     conf/vldb/  1993   \n",
       "39983   db/conf/vldb/vldb2002.html#AgrawalKSX02     conf/vldb/  2002   \n",
       "39988         db/conf/vldb/vldb81.html#Brodie81     conf/vldb/  1981   \n",
       "\n",
       "                  crossref  \n",
       "15                          \n",
       "1039                        \n",
       "1043                        \n",
       "1210                        \n",
       "1235                        \n",
       "...                    ...  \n",
       "39975       conf/vldb/2001  \n",
       "39978  conf/vldb/2014imdms  \n",
       "39980         conf/vldb/93  \n",
       "39983       conf/vldb/2002  \n",
       "39988         conf/vldb/81  \n",
       "\n",
       "[3431 rows x 8 columns]"
      ]
     },
     "execution_count": 6,
     "metadata": {},
     "output_type": "execute_result"
    }
   ],
   "source": [
    "df"
   ]
  },
  {
   "cell_type": "code",
   "execution_count": 7,
   "metadata": {},
   "outputs": [
    {
     "data": {
      "text/plain": [
       "conf/icde/          835\n",
       "conf/sigmod/        829\n",
       "conf/vldb/          682\n",
       "journals/sigmod/    403\n",
       "journals/is/        277\n",
       "journals/vldb/      149\n",
       "journals/tse/       134\n",
       "conf/icse/           41\n",
       "conf/wcre/           24\n",
       "conf/icsm/           21\n",
       "conf/kbse/           12\n",
       "conf/sigsoft/         8\n",
       "journals/ase/         6\n",
       "conf/msr/             5\n",
       "journals/tosem/       4\n",
       "journals/ese/         1\n",
       "Name: venue, dtype: int64"
      ]
     },
     "execution_count": 7,
     "metadata": {},
     "output_type": "execute_result"
    }
   ],
   "source": [
    "df.venue.value_counts()"
   ]
  },
  {
   "cell_type": "code",
   "execution_count": 8,
   "metadata": {},
   "outputs": [
    {
     "data": {
      "text/plain": [
       "<matplotlib.axes._subplots.AxesSubplot at 0x1184be750>"
      ]
     },
     "execution_count": 8,
     "metadata": {},
     "output_type": "execute_result"
    },
    {
     "data": {
      "image/png": "[encoded data removed]",
      "text/plain": [
       "<Figure size 432x288 with 1 Axes>"
      ]
     },
     "metadata": {},
     "output_type": "display_data"
    }
   ],
   "source": [
    "df.venue.value_counts().plot(kind='pie', autopct='%1.1f%%')"
   ]
  },
  {
   "cell_type": "code",
   "execution_count": 9,
   "metadata": {},
   "outputs": [
    {
     "data": {
      "text/plain": [
       "255"
      ]
     },
     "execution_count": 9,
     "metadata": {},
     "output_type": "execute_result"
    }
   ],
   "source": [
    "es_venues = ['conf/icse/', 'conf/sigsoft/', 'conf/kbse/', 'conf/icsm/', 'conf/wcre/', 'journals/ase/', 'journals/tosem/', 'journals/tse/', 'conf/msr/']\n",
    "df=df[df.venue.isin(es_venues)]\n",
    "len(df)"
   ]
  },
  {
   "cell_type": "code",
   "execution_count": 10,
   "metadata": {},
   "outputs": [
    {
     "data": {
      "text/plain": [
       "<matplotlib.axes._subplots.AxesSubplot at 0x1185944d0>"
      ]
     },
     "execution_count": 10,
     "metadata": {},
     "output_type": "execute_result"
    },
    {
     "data": {
      "image/png": "[encoded data removed]",
      "text/plain": [
       "<Figure size 432x288 with 1 Axes>"
      ]
     },
     "metadata": {},
     "output_type": "display_data"
    }
   ],
   "source": [
    "df.venue.value_counts().plot(kind='pie', autopct='%1.1f%%')"
   ]
  },
  {
   "cell_type": "code",
   "execution_count": 11,
   "metadata": {},
   "outputs": [],
   "source": [
    "df.to_excel(FILTERED_PAPERS_FILE, index=False)"
   ]
  },
  {
   "cell_type": "code",
   "execution_count": null,
   "metadata": {},
   "outputs": [],
   "source": []
  }
 ],
 "metadata": {
  "kernelspec": {
   "display_name": "Python 3",
   "language": "python",
   "name": "python3"
  },
  "language_info": {
   "codemirror_mode": {
    "name": "ipython",
    "version": 3
   },
   "file_extension": ".py",
   "mimetype": "text/x-python",
   "name": "python",
   "nbconvert_exporter": "python",
   "pygments_lexer": "ipython3",
   "version": "3.7.4"
  }
 },
 "nbformat": 4,
 "nbformat_minor": 2
}
